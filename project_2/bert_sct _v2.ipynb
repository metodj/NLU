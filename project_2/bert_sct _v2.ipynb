{
 "cells": [
  {
   "cell_type": "code",
   "execution_count": 1,
   "metadata": {
    "id": "yecJhSfvrIxr",
    "colab_type": "code",
    "outputId": "ba0dc21f-2218-446d-e993-4ee359932b63",
    "executionInfo": {
     "status": "ok",
     "timestamp": 1.560244135725E12,
     "user_tz": -120.0,
     "elapsed": 33153.0,
     "user": {
      "displayName": "Rok Šikonja",
      "photoUrl": "",
      "userId": "08390144229917873056"
     }
    },
    "colab": {
     "base_uri": "https://localhost:8080/",
     "height": 173.0
    }
   },
   "outputs": [
    {
     "name": "stderr",
     "output_type": "stream",
     "text": [
      "WARNING: Logging before flag parsing goes to stderr.\n",
      "W0611 09:08:25.167742 139641838020480 __init__.py:56] Some hub symbols are not available because TensorFlow version is less than 1.14\n"
     ]
    },
    {
     "name": "stdout",
     "output_type": "stream",
     "text": [
      "\u001b[?25l\r\u001b[K     |████▉                           | 10kB 21.9MB/s eta 0:00:01\r\u001b[K     |█████████▊                      | 20kB 1.8MB/s eta 0:00:01\r\u001b[K     |██████████████▋                 | 30kB 2.6MB/s eta 0:00:01\r\u001b[K     |███████████████████▍            | 40kB 1.7MB/s eta 0:00:01\r\u001b[K     |████████████████████████▎       | 51kB 2.1MB/s eta 0:00:01\r\u001b[K     |█████████████████████████████▏  | 61kB 2.5MB/s eta 0:00:01\r\u001b[K     |████████████████████████████████| 71kB 2.8MB/s \n",
      "\u001b[?25hGo to this URL in a browser: https://accounts.google.com/o/oauth2/auth?client_id=947318989803-6bn6qk8qdgf4n4g3pfee6491hc0brc4i.apps.googleusercontent.com&redirect_uri=urn%3Aietf%3Awg%3Aoauth%3A2.0%3Aoob&scope=email%20https%3A%2F%2Fwww.googleapis.com%2Fauth%2Fdocs.test%20https%3A%2F%2Fwww.googleapis.com%2Fauth%2Fdrive%20https%3A%2F%2Fwww.googleapis.com%2Fauth%2Fdrive.photos.readonly%20https%3A%2F%2Fwww.googleapis.com%2Fauth%2Fpeopleapi.readonly&response_type=code\n",
      "\n",
      "Enter your authorization code:\n",
      "··········\n",
      "Mounted at /content/gdrive/\n"
     ]
    }
   ],
   "source": [
    "from __future__ import absolute_import\n",
    "from __future__ import division\n",
    "from __future__ import print_function\n",
    "\n",
    "import sys\n",
    "import os\n",
    "import datetime\n",
    "\n",
    "import tensorflow as tf\n",
    "import tensorflow_hub as hub\n",
    "\n",
    "!pip install bert-tensorflow --quiet\n",
    "from bert import tokenization\n",
    "\n",
    "\n",
    "from google.colab import drive\n",
    "drive.mount('/content/gdrive/', force_remount=True)\n",
    "\n",
    "sys.path.append(\"./gdrive/My Drive/NLU/Projects/project_2/\")"
   ]
  },
  {
   "cell_type": "code",
   "execution_count": 3,
   "metadata": {
    "id": "bTmZzNqmy4ED",
    "colab_type": "code",
    "colab": {
     "base_uri": "https://localhost:8080/",
     "height": 187.0
    },
    "outputId": "99b5dce5-34a0-4e21-b12f-edf6ee521cdb",
    "executionInfo": {
     "status": "ok",
     "timestamp": 1.560244245443E12,
     "user_tz": -120.0,
     "elapsed": 4502.0,
     "user": {
      "displayName": "Rok Šikonja",
      "photoUrl": "",
      "userId": "08390144229917873056"
     }
    }
   },
   "outputs": [
    {
     "name": "stdout",
     "output_type": "stream",
     "text": [
      "Name: tensorflow\n",
      "Version: 1.13.1\n",
      "Summary: TensorFlow is an open source machine learning framework for everyone.\n",
      "Home-page: https://www.tensorflow.org/\n",
      "Author: Google Inc.\n",
      "Author-email: opensource@google.com\n",
      "License: Apache 2.0\n",
      "Location: /usr/local/lib/python3.6/dist-packages\n",
      "Requires: tensorboard, grpcio, six, keras-applications, protobuf, numpy, wheel, astor, keras-preprocessing, absl-py, tensorflow-estimator, gast, termcolor\n",
      "Required-by: stable-baselines, magenta, fancyimpute\n"
     ]
    }
   ],
   "source": [
    "!pip show tensorflow"
   ]
  },
  {
   "cell_type": "code",
   "execution_count": 0,
   "metadata": {
    "id": "BRPZ9_J7sz6X",
    "colab_type": "code",
    "colab": {}
   },
   "outputs": [],
   "source": [
    "flags = tf.flags\n",
    "FLAGS = flags.FLAGS\n",
    "\n",
    "flags.DEFINE_string(\"data_dir\", \"./gdrive/My Drive/NLU/Projects/project_2/data_pp/\", \n",
    "                    \"The input data dir. Should contain the .tsv files (or other data files).\")\n",
    "flags.DEFINE_string(\"output_dir\", \"./output_F/\", \"The output directory where the model checkpoints will be written.\")\n",
    "flags.DEFINE_string(\"results_dir\", \"./results_F/\", \"The output directory for result files.\")\n",
    "\n",
    "# Pretrained BERT from hub\n",
    "flags.DEFINE_string(\"bert_model_hub\", \"https://tfhub.dev/google/bert_uncased_L-12_H-768_A-12/1\", \"Pretrained BERT. (default)\")\n",
    "flags.DEFINE_string(\"bert_dir\", None, \"Local directory of pretrained BERT.\")\n",
    "flags.DEFINE_bool(\"bert_trainable\", True, \"Whether BERT weights are trainable.\")\n",
    "flags.DEFINE_string(\"init_checkpoint\", None, \"Initial checkpoint of BERT.\")\n",
    "flags.DEFINE_string(\"init_checkpoint_sent\", None, \"Initial checkpoint of pre-trained sentiment model.\")\n",
    "\n",
    "# Pretrained Masked LM BERT\n",
    "# flags.DEFINE_string(\"bert_model_hub\", None, \"Pretrained BERT. (default)\")\n",
    "# flags.DEFINE_string(\"bert_dir\", \"./gdrive/My Drive/NLU/Projects/project_2/bert/\", \"Local directory of pretrained BERT.\")\n",
    "# flags.DEFINE_bool(\"bert_trainable\", True, \"Whether BERT weights are trainable.\")\n",
    "# flags.DEFINE_string(\"init_checkpoint\", \"./gdrive/My Drive/NLU/Projects/project_2/bert/bert_model.ckpt\", \"Initial checkpoint of BERT.\")\n",
    "# flags.DEFINE_string(\"init_checkpoint\", \"./gdrive/My Drive/NLU/Projects/project_2/bert_masked_lm_pp/\", \"Initial checkpoint of BERT.\")\n",
    "\n",
    "# Training or evaluation\n",
    "flags.DEFINE_bool(\"do_train\", False, \"Whether to run training.\")\n",
    "flags.DEFINE_bool(\"do_eval\", True, \"Whether to run eval on the dev set.\")\n",
    "flags.DEFINE_bool(\"do_predict\", True, \"Whether to run the model in inference mode on the test set.\")\n",
    "\n",
    "# Model selection\n",
    "flags.DEFINE_bool(\"sentiment_only\", False, \"sentiment only\")\n",
    "flags.DEFINE_bool(\"commonsense_only\", False, \"commonsense only\")\n",
    "flags.DEFINE_bool(\"combination\", False, \"combination\")\n",
    "\n",
    "flags.DEFINE_integer(\"max_seq_length\", 400, \"Max. length after tokenization. If shorter padded, else truncated.\")\n",
    "flags.DEFINE_integer(\"batch_size\", 8, \"Total batch size for training.\")\n",
    "flags.DEFINE_float(\"learning_rate\", 2e-5, \"The initial learning rate for Adam.\")\n",
    "flags.DEFINE_float(\"num_train_epochs\", 1.0, \"Total number of training epochs to perform.\")\n",
    "flags.DEFINE_float(\"warmup_proportion\", 0.1, \"Proportion of training to perform linear learning rate warmup for.\")\n",
    "tf.app.flags.DEFINE_string('f', '', 'tensorflow bug')\n",
    "\n",
    "if not os.path.exists(FLAGS.output_dir):\n",
    "    os.makedirs(FLAGS.output_dir)\n",
    "    \n",
    "if not os.path.exists(FLAGS.results_dir):\n",
    "    os.makedirs(FLAGS.results_dir)\n",
    "    \n",
    "timestamp = datetime.datetime.now().strftime(\"%d_%H-%M\")\n",
    "\n",
    "from bert_sct_utils_v2 import create_tokenizer_from_hub_module, SctProcessor, get_config\n",
    "from bert_sct_utils_v2 import model_fn_builder, file_based_input_fn_builder, file_based_convert_examples_to_features"
   ]
  },
  {
   "cell_type": "code",
   "execution_count": 0,
   "metadata": {
    "id": "ZXTiMQkFruBs",
    "colab_type": "code",
    "outputId": "c288c088-1b67-4bfe-97e2-1d34d2ba21ca",
    "executionInfo": {
     "status": "ok",
     "timestamp": 1.560141840418E12,
     "user_tz": -120.0,
     "elapsed": 331897.0,
     "user": {
      "displayName": "Rok Šikonja",
      "photoUrl": "",
      "userId": "08390144229917873056"
     }
    },
    "colab": {
     "base_uri": "https://localhost:8080/",
     "height": 20284.0
    }
   },
   "outputs": [
    {
     "name": "stdout",
     "output_type": "stream",
     "text": [
      "WARNING:tensorflow:From /usr/local/lib/python3.6/dist-packages/tensorflow/python/ops/control_flow_ops.py:3632: colocate_with (from tensorflow.python.framework.ops) is deprecated and will be removed in a future version.\n",
      "Instructions for updating:\n",
      "Colocations handled automatically by placer.\n"
     ]
    },
    {
     "name": "stderr",
     "output_type": "stream",
     "text": [
      "W0610 04:38:30.598176 139670860904320 deprecation.py:323] From /usr/local/lib/python3.6/dist-packages/tensorflow/python/ops/control_flow_ops.py:3632: colocate_with (from tensorflow.python.framework.ops) is deprecated and will be removed in a future version.\n",
      "Instructions for updating:\n",
      "Colocations handled automatically by placer.\n"
     ]
    },
    {
     "name": "stdout",
     "output_type": "stream",
     "text": [
      "INFO:tensorflow:Saver not created because there are no variables in the graph to restore\n"
     ]
    },
    {
     "name": "stderr",
     "output_type": "stream",
     "text": [
      "I0610 04:38:32.737527 139670860904320 saver.py:1483] Saver not created because there are no variables in the graph to restore\n"
     ]
    },
    {
     "name": "stdout",
     "output_type": "stream",
     "text": [
      "INFO:tensorflow:Using config: {'_model_dir': './output_F/', '_tf_random_seed': None, '_save_summary_steps': 10, '_save_checkpoints_steps': 1000, '_save_checkpoints_secs': None, '_session_config': allow_soft_placement: true\n",
      "graph_options {\n",
      "  rewrite_options {\n",
      "    meta_optimizer_iterations: ONE\n",
      "  }\n",
      "}\n",
      ", '_keep_checkpoint_max': 5, '_keep_checkpoint_every_n_hours': 10000, '_log_step_count_steps': 100, '_train_distribute': None, '_device_fn': None, '_protocol': None, '_eval_distribute': None, '_experimental_distribute': None, '_service': None, '_cluster_spec': <tensorflow.python.training.server_lib.ClusterSpec object at 0x7f07438d0b00>, '_task_type': 'worker', '_task_id': 0, '_global_id_in_cluster': 0, '_master': '', '_evaluation_master': '', '_is_chief': True, '_num_ps_replicas': 0, '_num_worker_replicas': 1}\n"
     ]
    },
    {
     "name": "stderr",
     "output_type": "stream",
     "text": [
      "I0610 04:38:34.018693 139670860904320 estimator.py:201] Using config: {'_model_dir': './output_F/', '_tf_random_seed': None, '_save_summary_steps': 10, '_save_checkpoints_steps': 1000, '_save_checkpoints_secs': None, '_session_config': allow_soft_placement: true\n",
      "graph_options {\n",
      "  rewrite_options {\n",
      "    meta_optimizer_iterations: ONE\n",
      "  }\n",
      "}\n",
      ", '_keep_checkpoint_max': 5, '_keep_checkpoint_every_n_hours': 10000, '_log_step_count_steps': 100, '_train_distribute': None, '_device_fn': None, '_protocol': None, '_eval_distribute': None, '_experimental_distribute': None, '_service': None, '_cluster_spec': <tensorflow.python.training.server_lib.ClusterSpec object at 0x7f07438d0b00>, '_task_type': 'worker', '_task_id': 0, '_global_id_in_cluster': 0, '_master': '', '_evaluation_master': '', '_is_chief': True, '_num_ps_replicas': 0, '_num_worker_replicas': 1}\n"
     ]
    },
    {
     "name": "stdout",
     "output_type": "stream",
     "text": [
      "INFO:tensorflow:Writing example 0 of 1871\n"
     ]
    },
    {
     "name": "stderr",
     "output_type": "stream",
     "text": [
      "I0610 04:38:34.120039 139670860904320 bert_sct_utils_v2.py:322] Writing example 0 of 1871\n"
     ]
    },
    {
     "name": "stdout",
     "output_type": "stream",
     "text": [
      "INFO:tensorflow:*** Example ***\n"
     ]
    },
    {
     "name": "stderr",
     "output_type": "stream",
     "text": [
      "I0610 04:38:34.125737 139670860904320 bert_sct_utils_v2.py:299] *** Example ***\n"
     ]
    },
    {
     "name": "stdout",
     "output_type": "stream",
     "text": [
      "INFO:tensorflow:unique_id: eval-ffe078d1-6744-497d-bf45-e5df0bdfee66\n"
     ]
    },
    {
     "name": "stderr",
     "output_type": "stream",
     "text": [
      "I0610 04:38:34.128530 139670860904320 bert_sct_utils_v2.py:300] unique_id: eval-ffe078d1-6744-497d-bf45-e5df0bdfee66\n"
     ]
    },
    {
     "name": "stdout",
     "output_type": "stream",
     "text": [
      "INFO:tensorflow:tokens: [CLS] sarah was at home when her power was shut off . she had no money to pay the late bill and fees . she contacted a charity in town . she explained the situation . [SEP] a charity gave sarah money to pay her power bill . [SEP]\n"
     ]
    },
    {
     "name": "stderr",
     "output_type": "stream",
     "text": [
      "I0610 04:38:34.131201 139670860904320 bert_sct_utils_v2.py:301] tokens: [CLS] sarah was at home when her power was shut off . she had no money to pay the late bill and fees . she contacted a charity in town . she explained the situation . [SEP] a charity gave sarah money to pay her power bill . [SEP]\n"
     ]
    },
    {
     "name": "stdout",
     "output_type": "stream",
     "text": [
      "INFO:tensorflow:input_ids: 101 4532 2001 2012 2188 2043 2014 2373 2001 3844 2125 1012 2016 2018 2053 2769 2000 3477 1996 2397 3021 1998 9883 1012 2016 11925 1037 5952 1999 2237 1012 2016 4541 1996 3663 1012 102 1037 5952 2435 4532 2769 2000 3477 2014 2373 3021 1012 102 0 0 0 0 0 0 0 0 0 0 0 0 0 0 0 0 0 0 0 0 0 0 0 0 0 0 0 0 0 0 0 0 0 0 0 0 0 0 0 0 0 0 0 0 0 0 0 0 0 0 0 0 0 0 0 0 0 0 0 0 0 0 0 0 0 0 0 0 0 0 0 0 0 0 0 0 0 0 0 0 0 0 0 0 0 0 0 0 0 0 0 0 0 0 0 0 0 0 0 0 0 0 0 0 0 0 0 0 0 0 0 0 0 0 0 0 0 0 0 0 0 0 0 0 0 0 0 0 0 0 0 0 0 0 0 0 0 0 0 0 0 0 0 0 0 0 0 0 0 0 0 0 0 0 0 0 0 0 0 0 0 0 0 0 0 0 0 0 0 0 0 0 0 0 0 0 0 0 0 0 0 0 0 0 0 0 0 0 0 0 0 0 0 0 0 0 0 0 0 0 0 0 0 0 0 0 0 0 0 0 0 0 0 0 0 0 0 0 0 0 0 0 0 0 0 0 0 0 0 0 0 0 0 0 0 0 0 0 0 0 0 0 0 0 0 0 0 0 0 0 0 0 0 0 0 0 0 0 0 0 0 0 0 0 0 0 0 0 0 0 0 0 0 0 0 0 0 0 0 0 0 0 0 0 0 0 0 0 0 0 0 0 0 0 0 0 0 0 0 0 0 0 0 0 0 0 0 0 0 0 0 0 0 0 0 0 0 0 0 0 0 0 0 0 0 0 0 0 0 0 0 0 0 0 0 0 0 0 0 0 0 0 0 0 0 0 0 0 0 0 0\n"
     ]
    },
    {
     "name": "stderr",
     "output_type": "stream",
     "text": [
      "I0610 04:38:34.134839 139670860904320 bert_sct_utils_v2.py:302] input_ids: 101 4532 2001 2012 2188 2043 2014 2373 2001 3844 2125 1012 2016 2018 2053 2769 2000 3477 1996 2397 3021 1998 9883 1012 2016 11925 1037 5952 1999 2237 1012 2016 4541 1996 3663 1012 102 1037 5952 2435 4532 2769 2000 3477 2014 2373 3021 1012 102 0 0 0 0 0 0 0 0 0 0 0 0 0 0 0 0 0 0 0 0 0 0 0 0 0 0 0 0 0 0 0 0 0 0 0 0 0 0 0 0 0 0 0 0 0 0 0 0 0 0 0 0 0 0 0 0 0 0 0 0 0 0 0 0 0 0 0 0 0 0 0 0 0 0 0 0 0 0 0 0 0 0 0 0 0 0 0 0 0 0 0 0 0 0 0 0 0 0 0 0 0 0 0 0 0 0 0 0 0 0 0 0 0 0 0 0 0 0 0 0 0 0 0 0 0 0 0 0 0 0 0 0 0 0 0 0 0 0 0 0 0 0 0 0 0 0 0 0 0 0 0 0 0 0 0 0 0 0 0 0 0 0 0 0 0 0 0 0 0 0 0 0 0 0 0 0 0 0 0 0 0 0 0 0 0 0 0 0 0 0 0 0 0 0 0 0 0 0 0 0 0 0 0 0 0 0 0 0 0 0 0 0 0 0 0 0 0 0 0 0 0 0 0 0 0 0 0 0 0 0 0 0 0 0 0 0 0 0 0 0 0 0 0 0 0 0 0 0 0 0 0 0 0 0 0 0 0 0 0 0 0 0 0 0 0 0 0 0 0 0 0 0 0 0 0 0 0 0 0 0 0 0 0 0 0 0 0 0 0 0 0 0 0 0 0 0 0 0 0 0 0 0 0 0 0 0 0 0 0 0 0 0 0 0 0 0 0 0 0 0 0 0 0 0 0 0 0 0 0 0 0 0 0 0 0 0 0 0 0 0 0 0 0 0 0 0 0 0 0 0 0\n"
     ]
    },
    {
     "name": "stdout",
     "output_type": "stream",
     "text": [
      "INFO:tensorflow:input_mask: 1 1 1 1 1 1 1 1 1 1 1 1 1 1 1 1 1 1 1 1 1 1 1 1 1 1 1 1 1 1 1 1 1 1 1 1 1 1 1 1 1 1 1 1 1 1 1 1 1 0 0 0 0 0 0 0 0 0 0 0 0 0 0 0 0 0 0 0 0 0 0 0 0 0 0 0 0 0 0 0 0 0 0 0 0 0 0 0 0 0 0 0 0 0 0 0 0 0 0 0 0 0 0 0 0 0 0 0 0 0 0 0 0 0 0 0 0 0 0 0 0 0 0 0 0 0 0 0 0 0 0 0 0 0 0 0 0 0 0 0 0 0 0 0 0 0 0 0 0 0 0 0 0 0 0 0 0 0 0 0 0 0 0 0 0 0 0 0 0 0 0 0 0 0 0 0 0 0 0 0 0 0 0 0 0 0 0 0 0 0 0 0 0 0 0 0 0 0 0 0 0 0 0 0 0 0 0 0 0 0 0 0 0 0 0 0 0 0 0 0 0 0 0 0 0 0 0 0 0 0 0 0 0 0 0 0 0 0 0 0 0 0 0 0 0 0 0 0 0 0 0 0 0 0 0 0 0 0 0 0 0 0 0 0 0 0 0 0 0 0 0 0 0 0 0 0 0 0 0 0 0 0 0 0 0 0 0 0 0 0 0 0 0 0 0 0 0 0 0 0 0 0 0 0 0 0 0 0 0 0 0 0 0 0 0 0 0 0 0 0 0 0 0 0 0 0 0 0 0 0 0 0 0 0 0 0 0 0 0 0 0 0 0 0 0 0 0 0 0 0 0 0 0 0 0 0 0 0 0 0 0 0 0 0 0 0 0 0 0 0 0 0 0 0 0 0 0 0 0 0 0 0 0 0 0 0 0 0 0 0 0 0 0 0 0 0 0 0 0 0\n"
     ]
    },
    {
     "name": "stderr",
     "output_type": "stream",
     "text": [
      "I0610 04:38:34.138571 139670860904320 bert_sct_utils_v2.py:303] input_mask: 1 1 1 1 1 1 1 1 1 1 1 1 1 1 1 1 1 1 1 1 1 1 1 1 1 1 1 1 1 1 1 1 1 1 1 1 1 1 1 1 1 1 1 1 1 1 1 1 1 0 0 0 0 0 0 0 0 0 0 0 0 0 0 0 0 0 0 0 0 0 0 0 0 0 0 0 0 0 0 0 0 0 0 0 0 0 0 0 0 0 0 0 0 0 0 0 0 0 0 0 0 0 0 0 0 0 0 0 0 0 0 0 0 0 0 0 0 0 0 0 0 0 0 0 0 0 0 0 0 0 0 0 0 0 0 0 0 0 0 0 0 0 0 0 0 0 0 0 0 0 0 0 0 0 0 0 0 0 0 0 0 0 0 0 0 0 0 0 0 0 0 0 0 0 0 0 0 0 0 0 0 0 0 0 0 0 0 0 0 0 0 0 0 0 0 0 0 0 0 0 0 0 0 0 0 0 0 0 0 0 0 0 0 0 0 0 0 0 0 0 0 0 0 0 0 0 0 0 0 0 0 0 0 0 0 0 0 0 0 0 0 0 0 0 0 0 0 0 0 0 0 0 0 0 0 0 0 0 0 0 0 0 0 0 0 0 0 0 0 0 0 0 0 0 0 0 0 0 0 0 0 0 0 0 0 0 0 0 0 0 0 0 0 0 0 0 0 0 0 0 0 0 0 0 0 0 0 0 0 0 0 0 0 0 0 0 0 0 0 0 0 0 0 0 0 0 0 0 0 0 0 0 0 0 0 0 0 0 0 0 0 0 0 0 0 0 0 0 0 0 0 0 0 0 0 0 0 0 0 0 0 0 0 0 0 0 0 0 0 0 0 0 0 0 0 0 0 0 0 0 0 0 0 0 0 0 0 0 0 0 0 0 0 0 0 0 0 0 0 0\n"
     ]
    },
    {
     "name": "stdout",
     "output_type": "stream",
     "text": [
      "INFO:tensorflow:segment_ids: 0 0 0 0 0 0 0 0 0 0 0 0 0 0 0 0 0 0 0 0 0 0 0 0 0 0 0 0 0 0 0 0 0 0 0 0 0 1 1 1 1 1 1 1 1 1 1 1 1 0 0 0 0 0 0 0 0 0 0 0 0 0 0 0 0 0 0 0 0 0 0 0 0 0 0 0 0 0 0 0 0 0 0 0 0 0 0 0 0 0 0 0 0 0 0 0 0 0 0 0 0 0 0 0 0 0 0 0 0 0 0 0 0 0 0 0 0 0 0 0 0 0 0 0 0 0 0 0 0 0 0 0 0 0 0 0 0 0 0 0 0 0 0 0 0 0 0 0 0 0 0 0 0 0 0 0 0 0 0 0 0 0 0 0 0 0 0 0 0 0 0 0 0 0 0 0 0 0 0 0 0 0 0 0 0 0 0 0 0 0 0 0 0 0 0 0 0 0 0 0 0 0 0 0 0 0 0 0 0 0 0 0 0 0 0 0 0 0 0 0 0 0 0 0 0 0 0 0 0 0 0 0 0 0 0 0 0 0 0 0 0 0 0 0 0 0 0 0 0 0 0 0 0 0 0 0 0 0 0 0 0 0 0 0 0 0 0 0 0 0 0 0 0 0 0 0 0 0 0 0 0 0 0 0 0 0 0 0 0 0 0 0 0 0 0 0 0 0 0 0 0 0 0 0 0 0 0 0 0 0 0 0 0 0 0 0 0 0 0 0 0 0 0 0 0 0 0 0 0 0 0 0 0 0 0 0 0 0 0 0 0 0 0 0 0 0 0 0 0 0 0 0 0 0 0 0 0 0 0 0 0 0 0 0 0 0 0 0 0 0 0 0 0 0 0 0 0 0 0 0 0 0 0 0 0 0 0 0 0 0 0 0 0 0 0 0 0 0 0 0\n"
     ]
    },
    {
     "name": "stderr",
     "output_type": "stream",
     "text": [
      "I0610 04:38:34.142563 139670860904320 bert_sct_utils_v2.py:304] segment_ids: 0 0 0 0 0 0 0 0 0 0 0 0 0 0 0 0 0 0 0 0 0 0 0 0 0 0 0 0 0 0 0 0 0 0 0 0 0 1 1 1 1 1 1 1 1 1 1 1 1 0 0 0 0 0 0 0 0 0 0 0 0 0 0 0 0 0 0 0 0 0 0 0 0 0 0 0 0 0 0 0 0 0 0 0 0 0 0 0 0 0 0 0 0 0 0 0 0 0 0 0 0 0 0 0 0 0 0 0 0 0 0 0 0 0 0 0 0 0 0 0 0 0 0 0 0 0 0 0 0 0 0 0 0 0 0 0 0 0 0 0 0 0 0 0 0 0 0 0 0 0 0 0 0 0 0 0 0 0 0 0 0 0 0 0 0 0 0 0 0 0 0 0 0 0 0 0 0 0 0 0 0 0 0 0 0 0 0 0 0 0 0 0 0 0 0 0 0 0 0 0 0 0 0 0 0 0 0 0 0 0 0 0 0 0 0 0 0 0 0 0 0 0 0 0 0 0 0 0 0 0 0 0 0 0 0 0 0 0 0 0 0 0 0 0 0 0 0 0 0 0 0 0 0 0 0 0 0 0 0 0 0 0 0 0 0 0 0 0 0 0 0 0 0 0 0 0 0 0 0 0 0 0 0 0 0 0 0 0 0 0 0 0 0 0 0 0 0 0 0 0 0 0 0 0 0 0 0 0 0 0 0 0 0 0 0 0 0 0 0 0 0 0 0 0 0 0 0 0 0 0 0 0 0 0 0 0 0 0 0 0 0 0 0 0 0 0 0 0 0 0 0 0 0 0 0 0 0 0 0 0 0 0 0 0 0 0 0 0 0 0 0 0 0 0 0 0 0 0 0 0 0 0 0 0 0 0 0 0 0 0 0 0 0 0 0 0 0 0 0 0\n"
     ]
    },
    {
     "name": "stdout",
     "output_type": "stream",
     "text": [
      "INFO:tensorflow:label: 1 (id = 1)\n"
     ]
    },
    {
     "name": "stderr",
     "output_type": "stream",
     "text": [
      "I0610 04:38:34.146331 139670860904320 bert_sct_utils_v2.py:305] label: 1 (id = 1)\n"
     ]
    },
    {
     "name": "stdout",
     "output_type": "stream",
     "text": [
      "INFO:tensorflow:sentiment: (20,), [ 0.      0.      1.      0.     -0.3818  0.286   0.714   0.      0.4215\n",
      "  0.      0.588   0.412   0.      0.      1.      0.      0.34    0.125\n",
      "  0.625   0.25  ]\n"
     ]
    },
    {
     "name": "stderr",
     "output_type": "stream",
     "text": [
      "I0610 04:38:34.149582 139670860904320 bert_sct_utils_v2.py:306] sentiment: (20,), [ 0.      0.      1.      0.     -0.3818  0.286   0.714   0.      0.4215\n",
      "  0.      0.588   0.412   0.      0.      1.      0.      0.34    0.125\n",
      "  0.625   0.25  ]\n"
     ]
    },
    {
     "name": "stdout",
     "output_type": "stream",
     "text": [
      "INFO:tensorflow:cs_dist: (4,), [1. 1. 1. 1.]\n"
     ]
    },
    {
     "name": "stderr",
     "output_type": "stream",
     "text": [
      "I0610 04:38:34.153070 139670860904320 bert_sct_utils_v2.py:307] cs_dist: (4,), [1. 1. 1. 1.]\n"
     ]
    },
    {
     "name": "stdout",
     "output_type": "stream",
     "text": [
      "INFO:tensorflow:*** Example ***\n"
     ]
    },
    {
     "name": "stderr",
     "output_type": "stream",
     "text": [
      "I0610 04:38:34.157058 139670860904320 bert_sct_utils_v2.py:299] *** Example ***\n"
     ]
    },
    {
     "name": "stdout",
     "output_type": "stream",
     "text": [
      "INFO:tensorflow:unique_id: eval-ffe078d1-6744-497d-bf45-e5df0bdfee66\n"
     ]
    },
    {
     "name": "stderr",
     "output_type": "stream",
     "text": [
      "I0610 04:38:34.160791 139670860904320 bert_sct_utils_v2.py:300] unique_id: eval-ffe078d1-6744-497d-bf45-e5df0bdfee66\n"
     ]
    },
    {
     "name": "stdout",
     "output_type": "stream",
     "text": [
      "INFO:tensorflow:tokens: [CLS] sarah was at home when her power was shut off . she had no money to pay the late bill and fees . she contacted a charity in town . she explained the situation . [SEP] sarah didn ' t pay her bill , so her power was shut off . [SEP]\n"
     ]
    },
    {
     "name": "stderr",
     "output_type": "stream",
     "text": [
      "I0610 04:38:34.165796 139670860904320 bert_sct_utils_v2.py:301] tokens: [CLS] sarah was at home when her power was shut off . she had no money to pay the late bill and fees . she contacted a charity in town . she explained the situation . [SEP] sarah didn ' t pay her bill , so her power was shut off . [SEP]\n"
     ]
    },
    {
     "name": "stdout",
     "output_type": "stream",
     "text": [
      "INFO:tensorflow:input_ids: 101 4532 2001 2012 2188 2043 2014 2373 2001 3844 2125 1012 2016 2018 2053 2769 2000 3477 1996 2397 3021 1998 9883 1012 2016 11925 1037 5952 1999 2237 1012 2016 4541 1996 3663 1012 102 4532 2134 1005 1056 3477 2014 3021 1010 2061 2014 2373 2001 3844 2125 1012 102 0 0 0 0 0 0 0 0 0 0 0 0 0 0 0 0 0 0 0 0 0 0 0 0 0 0 0 0 0 0 0 0 0 0 0 0 0 0 0 0 0 0 0 0 0 0 0 0 0 0 0 0 0 0 0 0 0 0 0 0 0 0 0 0 0 0 0 0 0 0 0 0 0 0 0 0 0 0 0 0 0 0 0 0 0 0 0 0 0 0 0 0 0 0 0 0 0 0 0 0 0 0 0 0 0 0 0 0 0 0 0 0 0 0 0 0 0 0 0 0 0 0 0 0 0 0 0 0 0 0 0 0 0 0 0 0 0 0 0 0 0 0 0 0 0 0 0 0 0 0 0 0 0 0 0 0 0 0 0 0 0 0 0 0 0 0 0 0 0 0 0 0 0 0 0 0 0 0 0 0 0 0 0 0 0 0 0 0 0 0 0 0 0 0 0 0 0 0 0 0 0 0 0 0 0 0 0 0 0 0 0 0 0 0 0 0 0 0 0 0 0 0 0 0 0 0 0 0 0 0 0 0 0 0 0 0 0 0 0 0 0 0 0 0 0 0 0 0 0 0 0 0 0 0 0 0 0 0 0 0 0 0 0 0 0 0 0 0 0 0 0 0 0 0 0 0 0 0 0 0 0 0 0 0 0 0 0 0 0 0 0 0 0 0 0 0 0 0 0 0 0 0 0 0 0 0 0 0 0 0 0 0 0 0 0 0 0 0 0 0 0 0 0 0 0 0 0 0 0 0 0 0 0 0 0 0 0 0 0 0 0 0 0 0 0 0 0\n"
     ]
    },
    {
     "name": "stderr",
     "output_type": "stream",
     "text": [
      "I0610 04:38:34.171190 139670860904320 bert_sct_utils_v2.py:302] input_ids: 101 4532 2001 2012 2188 2043 2014 2373 2001 3844 2125 1012 2016 2018 2053 2769 2000 3477 1996 2397 3021 1998 9883 1012 2016 11925 1037 5952 1999 2237 1012 2016 4541 1996 3663 1012 102 4532 2134 1005 1056 3477 2014 3021 1010 2061 2014 2373 2001 3844 2125 1012 102 0 0 0 0 0 0 0 0 0 0 0 0 0 0 0 0 0 0 0 0 0 0 0 0 0 0 0 0 0 0 0 0 0 0 0 0 0 0 0 0 0 0 0 0 0 0 0 0 0 0 0 0 0 0 0 0 0 0 0 0 0 0 0 0 0 0 0 0 0 0 0 0 0 0 0 0 0 0 0 0 0 0 0 0 0 0 0 0 0 0 0 0 0 0 0 0 0 0 0 0 0 0 0 0 0 0 0 0 0 0 0 0 0 0 0 0 0 0 0 0 0 0 0 0 0 0 0 0 0 0 0 0 0 0 0 0 0 0 0 0 0 0 0 0 0 0 0 0 0 0 0 0 0 0 0 0 0 0 0 0 0 0 0 0 0 0 0 0 0 0 0 0 0 0 0 0 0 0 0 0 0 0 0 0 0 0 0 0 0 0 0 0 0 0 0 0 0 0 0 0 0 0 0 0 0 0 0 0 0 0 0 0 0 0 0 0 0 0 0 0 0 0 0 0 0 0 0 0 0 0 0 0 0 0 0 0 0 0 0 0 0 0 0 0 0 0 0 0 0 0 0 0 0 0 0 0 0 0 0 0 0 0 0 0 0 0 0 0 0 0 0 0 0 0 0 0 0 0 0 0 0 0 0 0 0 0 0 0 0 0 0 0 0 0 0 0 0 0 0 0 0 0 0 0 0 0 0 0 0 0 0 0 0 0 0 0 0 0 0 0 0 0 0 0 0 0 0 0 0 0 0 0 0 0 0 0 0 0 0 0 0 0 0 0 0 0 0\n"
     ]
    },
    {
     "name": "stdout",
     "output_type": "stream",
     "text": [
      "INFO:tensorflow:input_mask: 1 1 1 1 1 1 1 1 1 1 1 1 1 1 1 1 1 1 1 1 1 1 1 1 1 1 1 1 1 1 1 1 1 1 1 1 1 1 1 1 1 1 1 1 1 1 1 1 1 1 1 1 1 0 0 0 0 0 0 0 0 0 0 0 0 0 0 0 0 0 0 0 0 0 0 0 0 0 0 0 0 0 0 0 0 0 0 0 0 0 0 0 0 0 0 0 0 0 0 0 0 0 0 0 0 0 0 0 0 0 0 0 0 0 0 0 0 0 0 0 0 0 0 0 0 0 0 0 0 0 0 0 0 0 0 0 0 0 0 0 0 0 0 0 0 0 0 0 0 0 0 0 0 0 0 0 0 0 0 0 0 0 0 0 0 0 0 0 0 0 0 0 0 0 0 0 0 0 0 0 0 0 0 0 0 0 0 0 0 0 0 0 0 0 0 0 0 0 0 0 0 0 0 0 0 0 0 0 0 0 0 0 0 0 0 0 0 0 0 0 0 0 0 0 0 0 0 0 0 0 0 0 0 0 0 0 0 0 0 0 0 0 0 0 0 0 0 0 0 0 0 0 0 0 0 0 0 0 0 0 0 0 0 0 0 0 0 0 0 0 0 0 0 0 0 0 0 0 0 0 0 0 0 0 0 0 0 0 0 0 0 0 0 0 0 0 0 0 0 0 0 0 0 0 0 0 0 0 0 0 0 0 0 0 0 0 0 0 0 0 0 0 0 0 0 0 0 0 0 0 0 0 0 0 0 0 0 0 0 0 0 0 0 0 0 0 0 0 0 0 0 0 0 0 0 0 0 0 0 0 0 0 0 0 0 0 0 0 0 0 0 0 0 0 0 0 0 0 0 0 0 0 0 0 0 0 0 0 0 0 0 0 0 0 0 0 0 0 0 0\n"
     ]
    },
    {
     "name": "stderr",
     "output_type": "stream",
     "text": [
      "I0610 04:38:34.176368 139670860904320 bert_sct_utils_v2.py:303] input_mask: 1 1 1 1 1 1 1 1 1 1 1 1 1 1 1 1 1 1 1 1 1 1 1 1 1 1 1 1 1 1 1 1 1 1 1 1 1 1 1 1 1 1 1 1 1 1 1 1 1 1 1 1 1 0 0 0 0 0 0 0 0 0 0 0 0 0 0 0 0 0 0 0 0 0 0 0 0 0 0 0 0 0 0 0 0 0 0 0 0 0 0 0 0 0 0 0 0 0 0 0 0 0 0 0 0 0 0 0 0 0 0 0 0 0 0 0 0 0 0 0 0 0 0 0 0 0 0 0 0 0 0 0 0 0 0 0 0 0 0 0 0 0 0 0 0 0 0 0 0 0 0 0 0 0 0 0 0 0 0 0 0 0 0 0 0 0 0 0 0 0 0 0 0 0 0 0 0 0 0 0 0 0 0 0 0 0 0 0 0 0 0 0 0 0 0 0 0 0 0 0 0 0 0 0 0 0 0 0 0 0 0 0 0 0 0 0 0 0 0 0 0 0 0 0 0 0 0 0 0 0 0 0 0 0 0 0 0 0 0 0 0 0 0 0 0 0 0 0 0 0 0 0 0 0 0 0 0 0 0 0 0 0 0 0 0 0 0 0 0 0 0 0 0 0 0 0 0 0 0 0 0 0 0 0 0 0 0 0 0 0 0 0 0 0 0 0 0 0 0 0 0 0 0 0 0 0 0 0 0 0 0 0 0 0 0 0 0 0 0 0 0 0 0 0 0 0 0 0 0 0 0 0 0 0 0 0 0 0 0 0 0 0 0 0 0 0 0 0 0 0 0 0 0 0 0 0 0 0 0 0 0 0 0 0 0 0 0 0 0 0 0 0 0 0 0 0 0 0 0 0 0 0 0 0 0 0 0 0 0 0 0 0 0 0 0 0 0 0 0 0\n"
     ]
    },
    {
     "name": "stdout",
     "output_type": "stream",
     "text": [
      "INFO:tensorflow:segment_ids: 0 0 0 0 0 0 0 0 0 0 0 0 0 0 0 0 0 0 0 0 0 0 0 0 0 0 0 0 0 0 0 0 0 0 0 0 0 1 1 1 1 1 1 1 1 1 1 1 1 1 1 1 1 0 0 0 0 0 0 0 0 0 0 0 0 0 0 0 0 0 0 0 0 0 0 0 0 0 0 0 0 0 0 0 0 0 0 0 0 0 0 0 0 0 0 0 0 0 0 0 0 0 0 0 0 0 0 0 0 0 0 0 0 0 0 0 0 0 0 0 0 0 0 0 0 0 0 0 0 0 0 0 0 0 0 0 0 0 0 0 0 0 0 0 0 0 0 0 0 0 0 0 0 0 0 0 0 0 0 0 0 0 0 0 0 0 0 0 0 0 0 0 0 0 0 0 0 0 0 0 0 0 0 0 0 0 0 0 0 0 0 0 0 0 0 0 0 0 0 0 0 0 0 0 0 0 0 0 0 0 0 0 0 0 0 0 0 0 0 0 0 0 0 0 0 0 0 0 0 0 0 0 0 0 0 0 0 0 0 0 0 0 0 0 0 0 0 0 0 0 0 0 0 0 0 0 0 0 0 0 0 0 0 0 0 0 0 0 0 0 0 0 0 0 0 0 0 0 0 0 0 0 0 0 0 0 0 0 0 0 0 0 0 0 0 0 0 0 0 0 0 0 0 0 0 0 0 0 0 0 0 0 0 0 0 0 0 0 0 0 0 0 0 0 0 0 0 0 0 0 0 0 0 0 0 0 0 0 0 0 0 0 0 0 0 0 0 0 0 0 0 0 0 0 0 0 0 0 0 0 0 0 0 0 0 0 0 0 0 0 0 0 0 0 0 0 0 0 0 0 0 0 0 0 0 0 0 0 0 0 0 0 0 0 0 0 0 0 0 0\n"
     ]
    },
    {
     "name": "stderr",
     "output_type": "stream",
     "text": [
      "I0610 04:38:34.180205 139670860904320 bert_sct_utils_v2.py:304] segment_ids: 0 0 0 0 0 0 0 0 0 0 0 0 0 0 0 0 0 0 0 0 0 0 0 0 0 0 0 0 0 0 0 0 0 0 0 0 0 1 1 1 1 1 1 1 1 1 1 1 1 1 1 1 1 0 0 0 0 0 0 0 0 0 0 0 0 0 0 0 0 0 0 0 0 0 0 0 0 0 0 0 0 0 0 0 0 0 0 0 0 0 0 0 0 0 0 0 0 0 0 0 0 0 0 0 0 0 0 0 0 0 0 0 0 0 0 0 0 0 0 0 0 0 0 0 0 0 0 0 0 0 0 0 0 0 0 0 0 0 0 0 0 0 0 0 0 0 0 0 0 0 0 0 0 0 0 0 0 0 0 0 0 0 0 0 0 0 0 0 0 0 0 0 0 0 0 0 0 0 0 0 0 0 0 0 0 0 0 0 0 0 0 0 0 0 0 0 0 0 0 0 0 0 0 0 0 0 0 0 0 0 0 0 0 0 0 0 0 0 0 0 0 0 0 0 0 0 0 0 0 0 0 0 0 0 0 0 0 0 0 0 0 0 0 0 0 0 0 0 0 0 0 0 0 0 0 0 0 0 0 0 0 0 0 0 0 0 0 0 0 0 0 0 0 0 0 0 0 0 0 0 0 0 0 0 0 0 0 0 0 0 0 0 0 0 0 0 0 0 0 0 0 0 0 0 0 0 0 0 0 0 0 0 0 0 0 0 0 0 0 0 0 0 0 0 0 0 0 0 0 0 0 0 0 0 0 0 0 0 0 0 0 0 0 0 0 0 0 0 0 0 0 0 0 0 0 0 0 0 0 0 0 0 0 0 0 0 0 0 0 0 0 0 0 0 0 0 0 0 0 0 0 0 0 0 0 0 0 0 0 0 0 0 0 0 0 0 0 0 0 0\n"
     ]
    },
    {
     "name": "stdout",
     "output_type": "stream",
     "text": [
      "INFO:tensorflow:label: 0 (id = 0)\n"
     ]
    },
    {
     "name": "stderr",
     "output_type": "stream",
     "text": [
      "I0610 04:38:34.185234 139670860904320 bert_sct_utils_v2.py:305] label: 0 (id = 0)\n"
     ]
    },
    {
     "name": "stdout",
     "output_type": "stream",
     "text": [
      "INFO:tensorflow:sentiment: (20,), [ 0.      0.      1.      0.     -0.3818  0.286   0.714   0.      0.4215\n",
      "  0.      0.588   0.412   0.      0.      1.      0.      0.0762  0.\n",
      "  0.885   0.115 ]\n"
     ]
    },
    {
     "name": "stderr",
     "output_type": "stream",
     "text": [
      "I0610 04:38:34.190009 139670860904320 bert_sct_utils_v2.py:306] sentiment: (20,), [ 0.      0.      1.      0.     -0.3818  0.286   0.714   0.      0.4215\n",
      "  0.      0.588   0.412   0.      0.      1.      0.      0.0762  0.\n",
      "  0.885   0.115 ]\n"
     ]
    },
    {
     "name": "stdout",
     "output_type": "stream",
     "text": [
      "INFO:tensorflow:cs_dist: (4,), [-1. -1. -1. -1.]\n"
     ]
    },
    {
     "name": "stderr",
     "output_type": "stream",
     "text": [
      "I0610 04:38:34.193115 139670860904320 bert_sct_utils_v2.py:307] cs_dist: (4,), [-1. -1. -1. -1.]\n"
     ]
    },
    {
     "name": "stdout",
     "output_type": "stream",
     "text": [
      "INFO:tensorflow:*** Example ***\n"
     ]
    },
    {
     "name": "stderr",
     "output_type": "stream",
     "text": [
      "I0610 04:38:34.198301 139670860904320 bert_sct_utils_v2.py:299] *** Example ***\n"
     ]
    },
    {
     "name": "stdout",
     "output_type": "stream",
     "text": [
      "INFO:tensorflow:unique_id: eval-ffdd4862-65ae-4b18-b13a-97580a0b2318\n"
     ]
    },
    {
     "name": "stderr",
     "output_type": "stream",
     "text": [
      "I0610 04:38:34.202714 139670860904320 bert_sct_utils_v2.py:300] unique_id: eval-ffdd4862-65ae-4b18-b13a-97580a0b2318\n"
     ]
    },
    {
     "name": "stdout",
     "output_type": "stream",
     "text": [
      "INFO:tensorflow:tokens: [CLS] sara came back from the market . and she was eager to try the new coffee that she bought . after she finished preparing it , she drank away . sara was amazed by how smooth and rich it tasted . [SEP] sara decided this was her new favorite coffee . [SEP]\n"
     ]
    },
    {
     "name": "stderr",
     "output_type": "stream",
     "text": [
      "I0610 04:38:34.206462 139670860904320 bert_sct_utils_v2.py:301] tokens: [CLS] sara came back from the market . and she was eager to try the new coffee that she bought . after she finished preparing it , she drank away . sara was amazed by how smooth and rich it tasted . [SEP] sara decided this was her new favorite coffee . [SEP]\n"
     ]
    },
    {
     "name": "stdout",
     "output_type": "stream",
     "text": [
      "INFO:tensorflow:input_ids: 101 7354 2234 2067 2013 1996 3006 1012 1998 2016 2001 9461 2000 3046 1996 2047 4157 2008 2016 4149 1012 2044 2016 2736 8225 2009 1010 2016 10749 2185 1012 7354 2001 15261 2011 2129 5744 1998 4138 2009 12595 1012 102 7354 2787 2023 2001 2014 2047 5440 4157 1012 102 0 0 0 0 0 0 0 0 0 0 0 0 0 0 0 0 0 0 0 0 0 0 0 0 0 0 0 0 0 0 0 0 0 0 0 0 0 0 0 0 0 0 0 0 0 0 0 0 0 0 0 0 0 0 0 0 0 0 0 0 0 0 0 0 0 0 0 0 0 0 0 0 0 0 0 0 0 0 0 0 0 0 0 0 0 0 0 0 0 0 0 0 0 0 0 0 0 0 0 0 0 0 0 0 0 0 0 0 0 0 0 0 0 0 0 0 0 0 0 0 0 0 0 0 0 0 0 0 0 0 0 0 0 0 0 0 0 0 0 0 0 0 0 0 0 0 0 0 0 0 0 0 0 0 0 0 0 0 0 0 0 0 0 0 0 0 0 0 0 0 0 0 0 0 0 0 0 0 0 0 0 0 0 0 0 0 0 0 0 0 0 0 0 0 0 0 0 0 0 0 0 0 0 0 0 0 0 0 0 0 0 0 0 0 0 0 0 0 0 0 0 0 0 0 0 0 0 0 0 0 0 0 0 0 0 0 0 0 0 0 0 0 0 0 0 0 0 0 0 0 0 0 0 0 0 0 0 0 0 0 0 0 0 0 0 0 0 0 0 0 0 0 0 0 0 0 0 0 0 0 0 0 0 0 0 0 0 0 0 0 0 0 0 0 0 0 0 0 0 0 0 0 0 0 0 0 0 0 0 0 0 0 0 0 0 0 0 0 0 0 0 0 0 0 0 0 0 0 0 0 0 0 0 0 0 0 0 0 0 0 0 0 0 0 0 0 0\n"
     ]
    },
    {
     "name": "stderr",
     "output_type": "stream",
     "text": [
      "I0610 04:38:34.211089 139670860904320 bert_sct_utils_v2.py:302] input_ids: 101 7354 2234 2067 2013 1996 3006 1012 1998 2016 2001 9461 2000 3046 1996 2047 4157 2008 2016 4149 1012 2044 2016 2736 8225 2009 1010 2016 10749 2185 1012 7354 2001 15261 2011 2129 5744 1998 4138 2009 12595 1012 102 7354 2787 2023 2001 2014 2047 5440 4157 1012 102 0 0 0 0 0 0 0 0 0 0 0 0 0 0 0 0 0 0 0 0 0 0 0 0 0 0 0 0 0 0 0 0 0 0 0 0 0 0 0 0 0 0 0 0 0 0 0 0 0 0 0 0 0 0 0 0 0 0 0 0 0 0 0 0 0 0 0 0 0 0 0 0 0 0 0 0 0 0 0 0 0 0 0 0 0 0 0 0 0 0 0 0 0 0 0 0 0 0 0 0 0 0 0 0 0 0 0 0 0 0 0 0 0 0 0 0 0 0 0 0 0 0 0 0 0 0 0 0 0 0 0 0 0 0 0 0 0 0 0 0 0 0 0 0 0 0 0 0 0 0 0 0 0 0 0 0 0 0 0 0 0 0 0 0 0 0 0 0 0 0 0 0 0 0 0 0 0 0 0 0 0 0 0 0 0 0 0 0 0 0 0 0 0 0 0 0 0 0 0 0 0 0 0 0 0 0 0 0 0 0 0 0 0 0 0 0 0 0 0 0 0 0 0 0 0 0 0 0 0 0 0 0 0 0 0 0 0 0 0 0 0 0 0 0 0 0 0 0 0 0 0 0 0 0 0 0 0 0 0 0 0 0 0 0 0 0 0 0 0 0 0 0 0 0 0 0 0 0 0 0 0 0 0 0 0 0 0 0 0 0 0 0 0 0 0 0 0 0 0 0 0 0 0 0 0 0 0 0 0 0 0 0 0 0 0 0 0 0 0 0 0 0 0 0 0 0 0 0 0 0 0 0 0 0 0 0 0 0 0 0 0 0 0 0 0 0 0\n"
     ]
    },
    {
     "name": "stdout",
     "output_type": "stream",
     "text": [
      "INFO:tensorflow:input_mask: 1 1 1 1 1 1 1 1 1 1 1 1 1 1 1 1 1 1 1 1 1 1 1 1 1 1 1 1 1 1 1 1 1 1 1 1 1 1 1 1 1 1 1 1 1 1 1 1 1 1 1 1 1 0 0 0 0 0 0 0 0 0 0 0 0 0 0 0 0 0 0 0 0 0 0 0 0 0 0 0 0 0 0 0 0 0 0 0 0 0 0 0 0 0 0 0 0 0 0 0 0 0 0 0 0 0 0 0 0 0 0 0 0 0 0 0 0 0 0 0 0 0 0 0 0 0 0 0 0 0 0 0 0 0 0 0 0 0 0 0 0 0 0 0 0 0 0 0 0 0 0 0 0 0 0 0 0 0 0 0 0 0 0 0 0 0 0 0 0 0 0 0 0 0 0 0 0 0 0 0 0 0 0 0 0 0 0 0 0 0 0 0 0 0 0 0 0 0 0 0 0 0 0 0 0 0 0 0 0 0 0 0 0 0 0 0 0 0 0 0 0 0 0 0 0 0 0 0 0 0 0 0 0 0 0 0 0 0 0 0 0 0 0 0 0 0 0 0 0 0 0 0 0 0 0 0 0 0 0 0 0 0 0 0 0 0 0 0 0 0 0 0 0 0 0 0 0 0 0 0 0 0 0 0 0 0 0 0 0 0 0 0 0 0 0 0 0 0 0 0 0 0 0 0 0 0 0 0 0 0 0 0 0 0 0 0 0 0 0 0 0 0 0 0 0 0 0 0 0 0 0 0 0 0 0 0 0 0 0 0 0 0 0 0 0 0 0 0 0 0 0 0 0 0 0 0 0 0 0 0 0 0 0 0 0 0 0 0 0 0 0 0 0 0 0 0 0 0 0 0 0 0 0 0 0 0 0 0 0 0 0 0 0 0 0 0 0 0 0 0\n"
     ]
    },
    {
     "name": "stderr",
     "output_type": "stream",
     "text": [
      "I0610 04:38:34.214440 139670860904320 bert_sct_utils_v2.py:303] input_mask: 1 1 1 1 1 1 1 1 1 1 1 1 1 1 1 1 1 1 1 1 1 1 1 1 1 1 1 1 1 1 1 1 1 1 1 1 1 1 1 1 1 1 1 1 1 1 1 1 1 1 1 1 1 0 0 0 0 0 0 0 0 0 0 0 0 0 0 0 0 0 0 0 0 0 0 0 0 0 0 0 0 0 0 0 0 0 0 0 0 0 0 0 0 0 0 0 0 0 0 0 0 0 0 0 0 0 0 0 0 0 0 0 0 0 0 0 0 0 0 0 0 0 0 0 0 0 0 0 0 0 0 0 0 0 0 0 0 0 0 0 0 0 0 0 0 0 0 0 0 0 0 0 0 0 0 0 0 0 0 0 0 0 0 0 0 0 0 0 0 0 0 0 0 0 0 0 0 0 0 0 0 0 0 0 0 0 0 0 0 0 0 0 0 0 0 0 0 0 0 0 0 0 0 0 0 0 0 0 0 0 0 0 0 0 0 0 0 0 0 0 0 0 0 0 0 0 0 0 0 0 0 0 0 0 0 0 0 0 0 0 0 0 0 0 0 0 0 0 0 0 0 0 0 0 0 0 0 0 0 0 0 0 0 0 0 0 0 0 0 0 0 0 0 0 0 0 0 0 0 0 0 0 0 0 0 0 0 0 0 0 0 0 0 0 0 0 0 0 0 0 0 0 0 0 0 0 0 0 0 0 0 0 0 0 0 0 0 0 0 0 0 0 0 0 0 0 0 0 0 0 0 0 0 0 0 0 0 0 0 0 0 0 0 0 0 0 0 0 0 0 0 0 0 0 0 0 0 0 0 0 0 0 0 0 0 0 0 0 0 0 0 0 0 0 0 0 0 0 0 0 0 0 0 0 0 0 0 0 0 0 0 0 0 0 0 0 0 0 0 0\n"
     ]
    },
    {
     "name": "stdout",
     "output_type": "stream",
     "text": [
      "INFO:tensorflow:segment_ids: 0 0 0 0 0 0 0 0 0 0 0 0 0 0 0 0 0 0 0 0 0 0 0 0 0 0 0 0 0 0 0 0 0 0 0 0 0 0 0 0 0 0 0 1 1 1 1 1 1 1 1 1 1 0 0 0 0 0 0 0 0 0 0 0 0 0 0 0 0 0 0 0 0 0 0 0 0 0 0 0 0 0 0 0 0 0 0 0 0 0 0 0 0 0 0 0 0 0 0 0 0 0 0 0 0 0 0 0 0 0 0 0 0 0 0 0 0 0 0 0 0 0 0 0 0 0 0 0 0 0 0 0 0 0 0 0 0 0 0 0 0 0 0 0 0 0 0 0 0 0 0 0 0 0 0 0 0 0 0 0 0 0 0 0 0 0 0 0 0 0 0 0 0 0 0 0 0 0 0 0 0 0 0 0 0 0 0 0 0 0 0 0 0 0 0 0 0 0 0 0 0 0 0 0 0 0 0 0 0 0 0 0 0 0 0 0 0 0 0 0 0 0 0 0 0 0 0 0 0 0 0 0 0 0 0 0 0 0 0 0 0 0 0 0 0 0 0 0 0 0 0 0 0 0 0 0 0 0 0 0 0 0 0 0 0 0 0 0 0 0 0 0 0 0 0 0 0 0 0 0 0 0 0 0 0 0 0 0 0 0 0 0 0 0 0 0 0 0 0 0 0 0 0 0 0 0 0 0 0 0 0 0 0 0 0 0 0 0 0 0 0 0 0 0 0 0 0 0 0 0 0 0 0 0 0 0 0 0 0 0 0 0 0 0 0 0 0 0 0 0 0 0 0 0 0 0 0 0 0 0 0 0 0 0 0 0 0 0 0 0 0 0 0 0 0 0 0 0 0 0 0 0 0 0 0 0 0 0 0 0 0 0 0 0 0 0 0 0 0 0\n"
     ]
    },
    {
     "name": "stderr",
     "output_type": "stream",
     "text": [
      "I0610 04:38:34.217382 139670860904320 bert_sct_utils_v2.py:304] segment_ids: 0 0 0 0 0 0 0 0 0 0 0 0 0 0 0 0 0 0 0 0 0 0 0 0 0 0 0 0 0 0 0 0 0 0 0 0 0 0 0 0 0 0 0 1 1 1 1 1 1 1 1 1 1 0 0 0 0 0 0 0 0 0 0 0 0 0 0 0 0 0 0 0 0 0 0 0 0 0 0 0 0 0 0 0 0 0 0 0 0 0 0 0 0 0 0 0 0 0 0 0 0 0 0 0 0 0 0 0 0 0 0 0 0 0 0 0 0 0 0 0 0 0 0 0 0 0 0 0 0 0 0 0 0 0 0 0 0 0 0 0 0 0 0 0 0 0 0 0 0 0 0 0 0 0 0 0 0 0 0 0 0 0 0 0 0 0 0 0 0 0 0 0 0 0 0 0 0 0 0 0 0 0 0 0 0 0 0 0 0 0 0 0 0 0 0 0 0 0 0 0 0 0 0 0 0 0 0 0 0 0 0 0 0 0 0 0 0 0 0 0 0 0 0 0 0 0 0 0 0 0 0 0 0 0 0 0 0 0 0 0 0 0 0 0 0 0 0 0 0 0 0 0 0 0 0 0 0 0 0 0 0 0 0 0 0 0 0 0 0 0 0 0 0 0 0 0 0 0 0 0 0 0 0 0 0 0 0 0 0 0 0 0 0 0 0 0 0 0 0 0 0 0 0 0 0 0 0 0 0 0 0 0 0 0 0 0 0 0 0 0 0 0 0 0 0 0 0 0 0 0 0 0 0 0 0 0 0 0 0 0 0 0 0 0 0 0 0 0 0 0 0 0 0 0 0 0 0 0 0 0 0 0 0 0 0 0 0 0 0 0 0 0 0 0 0 0 0 0 0 0 0 0 0 0 0 0 0 0 0 0 0 0 0 0 0 0 0 0 0 0\n"
     ]
    },
    {
     "name": "stdout",
     "output_type": "stream",
     "text": [
      "INFO:tensorflow:label: 1 (id = 1)\n"
     ]
    },
    {
     "name": "stderr",
     "output_type": "stream",
     "text": [
      "I0610 04:38:34.219614 139670860904320 bert_sct_utils_v2.py:305] label: 1 (id = 1)\n"
     ]
    },
    {
     "name": "stdout",
     "output_type": "stream",
     "text": [
      "INFO:tensorflow:sentiment: (20,), [0.     0.     1.     0.     0.3612 0.     0.815  0.185  0.     0.\n",
      " 1.     0.     0.7783 0.     0.541  0.459  0.4588 0.     0.7    0.3   ]\n"
     ]
    },
    {
     "name": "stderr",
     "output_type": "stream",
     "text": [
      "I0610 04:38:34.224020 139670860904320 bert_sct_utils_v2.py:306] sentiment: (20,), [0.     0.     1.     0.     0.3612 0.     0.815  0.185  0.     0.\n",
      " 1.     0.     0.7783 0.     0.541  0.459  0.4588 0.     0.7    0.3   ]\n"
     ]
    },
    {
     "name": "stdout",
     "output_type": "stream",
     "text": [
      "INFO:tensorflow:cs_dist: (4,), [1. 1. 1. 1.]\n"
     ]
    },
    {
     "name": "stderr",
     "output_type": "stream",
     "text": [
      "I0610 04:38:34.228197 139670860904320 bert_sct_utils_v2.py:307] cs_dist: (4,), [1. 1. 1. 1.]\n"
     ]
    },
    {
     "name": "stdout",
     "output_type": "stream",
     "text": [
      "INFO:tensorflow:*** Example ***\n"
     ]
    },
    {
     "name": "stderr",
     "output_type": "stream",
     "text": [
      "I0610 04:38:34.232429 139670860904320 bert_sct_utils_v2.py:299] *** Example ***\n"
     ]
    },
    {
     "name": "stdout",
     "output_type": "stream",
     "text": [
      "INFO:tensorflow:unique_id: eval-ffdd4862-65ae-4b18-b13a-97580a0b2318\n"
     ]
    },
    {
     "name": "stderr",
     "output_type": "stream",
     "text": [
      "I0610 04:38:34.234707 139670860904320 bert_sct_utils_v2.py:300] unique_id: eval-ffdd4862-65ae-4b18-b13a-97580a0b2318\n"
     ]
    },
    {
     "name": "stdout",
     "output_type": "stream",
     "text": [
      "INFO:tensorflow:tokens: [CLS] sara came back from the market . and she was eager to try the new coffee that she bought . after she finished preparing it , she drank away . sara was amazed by how smooth and rich it tasted . [SEP] sara hated the bitter taste of coffee . [SEP]\n"
     ]
    },
    {
     "name": "stderr",
     "output_type": "stream",
     "text": [
      "I0610 04:38:34.237910 139670860904320 bert_sct_utils_v2.py:301] tokens: [CLS] sara came back from the market . and she was eager to try the new coffee that she bought . after she finished preparing it , she drank away . sara was amazed by how smooth and rich it tasted . [SEP] sara hated the bitter taste of coffee . [SEP]\n"
     ]
    },
    {
     "name": "stdout",
     "output_type": "stream",
     "text": [
      "INFO:tensorflow:input_ids: 101 7354 2234 2067 2013 1996 3006 1012 1998 2016 2001 9461 2000 3046 1996 2047 4157 2008 2016 4149 1012 2044 2016 2736 8225 2009 1010 2016 10749 2185 1012 7354 2001 15261 2011 2129 5744 1998 4138 2009 12595 1012 102 7354 6283 1996 8618 5510 1997 4157 1012 102 0 0 0 0 0 0 0 0 0 0 0 0 0 0 0 0 0 0 0 0 0 0 0 0 0 0 0 0 0 0 0 0 0 0 0 0 0 0 0 0 0 0 0 0 0 0 0 0 0 0 0 0 0 0 0 0 0 0 0 0 0 0 0 0 0 0 0 0 0 0 0 0 0 0 0 0 0 0 0 0 0 0 0 0 0 0 0 0 0 0 0 0 0 0 0 0 0 0 0 0 0 0 0 0 0 0 0 0 0 0 0 0 0 0 0 0 0 0 0 0 0 0 0 0 0 0 0 0 0 0 0 0 0 0 0 0 0 0 0 0 0 0 0 0 0 0 0 0 0 0 0 0 0 0 0 0 0 0 0 0 0 0 0 0 0 0 0 0 0 0 0 0 0 0 0 0 0 0 0 0 0 0 0 0 0 0 0 0 0 0 0 0 0 0 0 0 0 0 0 0 0 0 0 0 0 0 0 0 0 0 0 0 0 0 0 0 0 0 0 0 0 0 0 0 0 0 0 0 0 0 0 0 0 0 0 0 0 0 0 0 0 0 0 0 0 0 0 0 0 0 0 0 0 0 0 0 0 0 0 0 0 0 0 0 0 0 0 0 0 0 0 0 0 0 0 0 0 0 0 0 0 0 0 0 0 0 0 0 0 0 0 0 0 0 0 0 0 0 0 0 0 0 0 0 0 0 0 0 0 0 0 0 0 0 0 0 0 0 0 0 0 0 0 0 0 0 0 0 0 0 0 0 0 0 0 0 0 0 0 0 0 0 0 0 0 0 0 0\n"
     ]
    },
    {
     "name": "stderr",
     "output_type": "stream",
     "text": [
      "I0610 04:38:34.240885 139670860904320 bert_sct_utils_v2.py:302] input_ids: 101 7354 2234 2067 2013 1996 3006 1012 1998 2016 2001 9461 2000 3046 1996 2047 4157 2008 2016 4149 1012 2044 2016 2736 8225 2009 1010 2016 10749 2185 1012 7354 2001 15261 2011 2129 5744 1998 4138 2009 12595 1012 102 7354 6283 1996 8618 5510 1997 4157 1012 102 0 0 0 0 0 0 0 0 0 0 0 0 0 0 0 0 0 0 0 0 0 0 0 0 0 0 0 0 0 0 0 0 0 0 0 0 0 0 0 0 0 0 0 0 0 0 0 0 0 0 0 0 0 0 0 0 0 0 0 0 0 0 0 0 0 0 0 0 0 0 0 0 0 0 0 0 0 0 0 0 0 0 0 0 0 0 0 0 0 0 0 0 0 0 0 0 0 0 0 0 0 0 0 0 0 0 0 0 0 0 0 0 0 0 0 0 0 0 0 0 0 0 0 0 0 0 0 0 0 0 0 0 0 0 0 0 0 0 0 0 0 0 0 0 0 0 0 0 0 0 0 0 0 0 0 0 0 0 0 0 0 0 0 0 0 0 0 0 0 0 0 0 0 0 0 0 0 0 0 0 0 0 0 0 0 0 0 0 0 0 0 0 0 0 0 0 0 0 0 0 0 0 0 0 0 0 0 0 0 0 0 0 0 0 0 0 0 0 0 0 0 0 0 0 0 0 0 0 0 0 0 0 0 0 0 0 0 0 0 0 0 0 0 0 0 0 0 0 0 0 0 0 0 0 0 0 0 0 0 0 0 0 0 0 0 0 0 0 0 0 0 0 0 0 0 0 0 0 0 0 0 0 0 0 0 0 0 0 0 0 0 0 0 0 0 0 0 0 0 0 0 0 0 0 0 0 0 0 0 0 0 0 0 0 0 0 0 0 0 0 0 0 0 0 0 0 0 0 0 0 0 0 0 0 0 0 0 0 0 0 0 0 0 0 0 0 0 0\n"
     ]
    },
    {
     "name": "stdout",
     "output_type": "stream",
     "text": [
      "INFO:tensorflow:input_mask: 1 1 1 1 1 1 1 1 1 1 1 1 1 1 1 1 1 1 1 1 1 1 1 1 1 1 1 1 1 1 1 1 1 1 1 1 1 1 1 1 1 1 1 1 1 1 1 1 1 1 1 1 0 0 0 0 0 0 0 0 0 0 0 0 0 0 0 0 0 0 0 0 0 0 0 0 0 0 0 0 0 0 0 0 0 0 0 0 0 0 0 0 0 0 0 0 0 0 0 0 0 0 0 0 0 0 0 0 0 0 0 0 0 0 0 0 0 0 0 0 0 0 0 0 0 0 0 0 0 0 0 0 0 0 0 0 0 0 0 0 0 0 0 0 0 0 0 0 0 0 0 0 0 0 0 0 0 0 0 0 0 0 0 0 0 0 0 0 0 0 0 0 0 0 0 0 0 0 0 0 0 0 0 0 0 0 0 0 0 0 0 0 0 0 0 0 0 0 0 0 0 0 0 0 0 0 0 0 0 0 0 0 0 0 0 0 0 0 0 0 0 0 0 0 0 0 0 0 0 0 0 0 0 0 0 0 0 0 0 0 0 0 0 0 0 0 0 0 0 0 0 0 0 0 0 0 0 0 0 0 0 0 0 0 0 0 0 0 0 0 0 0 0 0 0 0 0 0 0 0 0 0 0 0 0 0 0 0 0 0 0 0 0 0 0 0 0 0 0 0 0 0 0 0 0 0 0 0 0 0 0 0 0 0 0 0 0 0 0 0 0 0 0 0 0 0 0 0 0 0 0 0 0 0 0 0 0 0 0 0 0 0 0 0 0 0 0 0 0 0 0 0 0 0 0 0 0 0 0 0 0 0 0 0 0 0 0 0 0 0 0 0 0 0 0 0 0 0 0 0 0 0 0 0 0 0 0 0 0 0 0 0 0 0 0 0 0 0 0 0\n"
     ]
    },
    {
     "name": "stderr",
     "output_type": "stream",
     "text": [
      "I0610 04:38:34.244072 139670860904320 bert_sct_utils_v2.py:303] input_mask: 1 1 1 1 1 1 1 1 1 1 1 1 1 1 1 1 1 1 1 1 1 1 1 1 1 1 1 1 1 1 1 1 1 1 1 1 1 1 1 1 1 1 1 1 1 1 1 1 1 1 1 1 0 0 0 0 0 0 0 0 0 0 0 0 0 0 0 0 0 0 0 0 0 0 0 0 0 0 0 0 0 0 0 0 0 0 0 0 0 0 0 0 0 0 0 0 0 0 0 0 0 0 0 0 0 0 0 0 0 0 0 0 0 0 0 0 0 0 0 0 0 0 0 0 0 0 0 0 0 0 0 0 0 0 0 0 0 0 0 0 0 0 0 0 0 0 0 0 0 0 0 0 0 0 0 0 0 0 0 0 0 0 0 0 0 0 0 0 0 0 0 0 0 0 0 0 0 0 0 0 0 0 0 0 0 0 0 0 0 0 0 0 0 0 0 0 0 0 0 0 0 0 0 0 0 0 0 0 0 0 0 0 0 0 0 0 0 0 0 0 0 0 0 0 0 0 0 0 0 0 0 0 0 0 0 0 0 0 0 0 0 0 0 0 0 0 0 0 0 0 0 0 0 0 0 0 0 0 0 0 0 0 0 0 0 0 0 0 0 0 0 0 0 0 0 0 0 0 0 0 0 0 0 0 0 0 0 0 0 0 0 0 0 0 0 0 0 0 0 0 0 0 0 0 0 0 0 0 0 0 0 0 0 0 0 0 0 0 0 0 0 0 0 0 0 0 0 0 0 0 0 0 0 0 0 0 0 0 0 0 0 0 0 0 0 0 0 0 0 0 0 0 0 0 0 0 0 0 0 0 0 0 0 0 0 0 0 0 0 0 0 0 0 0 0 0 0 0 0 0 0 0 0 0 0 0 0 0 0 0 0 0 0 0 0 0 0 0 0 0\n"
     ]
    },
    {
     "name": "stdout",
     "output_type": "stream",
     "text": [
      "INFO:tensorflow:segment_ids: 0 0 0 0 0 0 0 0 0 0 0 0 0 0 0 0 0 0 0 0 0 0 0 0 0 0 0 0 0 0 0 0 0 0 0 0 0 0 0 0 0 0 0 1 1 1 1 1 1 1 1 1 0 0 0 0 0 0 0 0 0 0 0 0 0 0 0 0 0 0 0 0 0 0 0 0 0 0 0 0 0 0 0 0 0 0 0 0 0 0 0 0 0 0 0 0 0 0 0 0 0 0 0 0 0 0 0 0 0 0 0 0 0 0 0 0 0 0 0 0 0 0 0 0 0 0 0 0 0 0 0 0 0 0 0 0 0 0 0 0 0 0 0 0 0 0 0 0 0 0 0 0 0 0 0 0 0 0 0 0 0 0 0 0 0 0 0 0 0 0 0 0 0 0 0 0 0 0 0 0 0 0 0 0 0 0 0 0 0 0 0 0 0 0 0 0 0 0 0 0 0 0 0 0 0 0 0 0 0 0 0 0 0 0 0 0 0 0 0 0 0 0 0 0 0 0 0 0 0 0 0 0 0 0 0 0 0 0 0 0 0 0 0 0 0 0 0 0 0 0 0 0 0 0 0 0 0 0 0 0 0 0 0 0 0 0 0 0 0 0 0 0 0 0 0 0 0 0 0 0 0 0 0 0 0 0 0 0 0 0 0 0 0 0 0 0 0 0 0 0 0 0 0 0 0 0 0 0 0 0 0 0 0 0 0 0 0 0 0 0 0 0 0 0 0 0 0 0 0 0 0 0 0 0 0 0 0 0 0 0 0 0 0 0 0 0 0 0 0 0 0 0 0 0 0 0 0 0 0 0 0 0 0 0 0 0 0 0 0 0 0 0 0 0 0 0 0 0 0 0 0 0 0 0 0 0 0 0 0 0 0 0 0 0 0 0 0 0 0 0\n"
     ]
    },
    {
     "name": "stderr",
     "output_type": "stream",
     "text": [
      "I0610 04:38:34.247151 139670860904320 bert_sct_utils_v2.py:304] segment_ids: 0 0 0 0 0 0 0 0 0 0 0 0 0 0 0 0 0 0 0 0 0 0 0 0 0 0 0 0 0 0 0 0 0 0 0 0 0 0 0 0 0 0 0 1 1 1 1 1 1 1 1 1 0 0 0 0 0 0 0 0 0 0 0 0 0 0 0 0 0 0 0 0 0 0 0 0 0 0 0 0 0 0 0 0 0 0 0 0 0 0 0 0 0 0 0 0 0 0 0 0 0 0 0 0 0 0 0 0 0 0 0 0 0 0 0 0 0 0 0 0 0 0 0 0 0 0 0 0 0 0 0 0 0 0 0 0 0 0 0 0 0 0 0 0 0 0 0 0 0 0 0 0 0 0 0 0 0 0 0 0 0 0 0 0 0 0 0 0 0 0 0 0 0 0 0 0 0 0 0 0 0 0 0 0 0 0 0 0 0 0 0 0 0 0 0 0 0 0 0 0 0 0 0 0 0 0 0 0 0 0 0 0 0 0 0 0 0 0 0 0 0 0 0 0 0 0 0 0 0 0 0 0 0 0 0 0 0 0 0 0 0 0 0 0 0 0 0 0 0 0 0 0 0 0 0 0 0 0 0 0 0 0 0 0 0 0 0 0 0 0 0 0 0 0 0 0 0 0 0 0 0 0 0 0 0 0 0 0 0 0 0 0 0 0 0 0 0 0 0 0 0 0 0 0 0 0 0 0 0 0 0 0 0 0 0 0 0 0 0 0 0 0 0 0 0 0 0 0 0 0 0 0 0 0 0 0 0 0 0 0 0 0 0 0 0 0 0 0 0 0 0 0 0 0 0 0 0 0 0 0 0 0 0 0 0 0 0 0 0 0 0 0 0 0 0 0 0 0 0 0 0 0 0 0 0 0 0 0 0 0 0 0 0 0 0 0 0 0 0 0\n"
     ]
    },
    {
     "name": "stdout",
     "output_type": "stream",
     "text": [
      "INFO:tensorflow:label: 0 (id = 0)\n"
     ]
    },
    {
     "name": "stderr",
     "output_type": "stream",
     "text": [
      "I0610 04:38:34.250019 139670860904320 bert_sct_utils_v2.py:305] label: 0 (id = 0)\n"
     ]
    },
    {
     "name": "stdout",
     "output_type": "stream",
     "text": [
      "INFO:tensorflow:sentiment: (20,), [ 0.      0.      1.      0.      0.3612  0.      0.815   0.185   0.\n",
      "  0.      1.      0.      0.7783  0.      0.541   0.459  -0.7906  0.583\n",
      "  0.417   0.    ]\n"
     ]
    },
    {
     "name": "stderr",
     "output_type": "stream",
     "text": [
      "I0610 04:38:34.254125 139670860904320 bert_sct_utils_v2.py:306] sentiment: (20,), [ 0.      0.      1.      0.      0.3612  0.      0.815   0.185   0.\n",
      "  0.      1.      0.      0.7783  0.      0.541   0.459  -0.7906  0.583\n",
      "  0.417   0.    ]\n"
     ]
    },
    {
     "name": "stdout",
     "output_type": "stream",
     "text": [
      "INFO:tensorflow:cs_dist: (4,), [-1. -1. -1. -1.]\n"
     ]
    },
    {
     "name": "stderr",
     "output_type": "stream",
     "text": [
      "I0610 04:38:34.257298 139670860904320 bert_sct_utils_v2.py:307] cs_dist: (4,), [-1. -1. -1. -1.]\n"
     ]
    },
    {
     "name": "stdout",
     "output_type": "stream",
     "text": [
      "INFO:tensorflow:Writing example 1000 of 1871\n"
     ]
    },
    {
     "name": "stderr",
     "output_type": "stream",
     "text": [
      "I0610 04:38:37.160318 139670860904320 bert_sct_utils_v2.py:322] Writing example 1000 of 1871\n"
     ]
    },
    {
     "name": "stdout",
     "output_type": "stream",
     "text": [
      "INFO:tensorflow:***** Running evaluation *****\n"
     ]
    },
    {
     "name": "stderr",
     "output_type": "stream",
     "text": [
      "I0610 04:38:39.645995 139670860904320 <ipython-input-3-042eac69eb23>:87] ***** Running evaluation *****\n"
     ]
    },
    {
     "name": "stdout",
     "output_type": "stream",
     "text": [
      "INFO:tensorflow:  Num examples = 1871\n"
     ]
    },
    {
     "name": "stderr",
     "output_type": "stream",
     "text": [
      "I0610 04:38:39.652209 139670860904320 <ipython-input-3-042eac69eb23>:88]   Num examples = 1871\n"
     ]
    },
    {
     "name": "stdout",
     "output_type": "stream",
     "text": [
      "INFO:tensorflow:Could not find trained model in model_dir: ./output_F/, running initialization to evaluate.\n"
     ]
    },
    {
     "name": "stderr",
     "output_type": "stream",
     "text": [
      "I0610 04:38:39.655864 139670860904320 estimator.py:488] Could not find trained model in model_dir: ./output_F/, running initialization to evaluate.\n"
     ]
    },
    {
     "name": "stdout",
     "output_type": "stream",
     "text": [
      "\n",
      "WARNING: The TensorFlow contrib module will not be included in TensorFlow 2.0.\n",
      "For more information, please see:\n",
      "  * https://github.com/tensorflow/community/blob/master/rfcs/20180907-contrib-sunset.md\n",
      "  * https://github.com/tensorflow/addons\n",
      "If you depend on functionality not listed there, please file an issue.\n",
      "\n",
      "WARNING:tensorflow:From ./gdrive/My Drive/NLU/Projects/project_2/bert_sct_utils_v2.py:415: map_and_batch (from tensorflow.contrib.data.python.ops.batching) is deprecated and will be removed in a future version.\n",
      "Instructions for updating:\n",
      "Use `tf.data.experimental.map_and_batch(...)`.\n"
     ]
    },
    {
     "name": "stderr",
     "output_type": "stream",
     "text": [
      "W0610 04:38:41.817153 139670860904320 deprecation.py:323] From ./gdrive/My Drive/NLU/Projects/project_2/bert_sct_utils_v2.py:415: map_and_batch (from tensorflow.contrib.data.python.ops.batching) is deprecated and will be removed in a future version.\n",
      "Instructions for updating:\n",
      "Use `tf.data.experimental.map_and_batch(...)`.\n"
     ]
    },
    {
     "name": "stdout",
     "output_type": "stream",
     "text": [
      "WARNING:tensorflow:From ./gdrive/My Drive/NLU/Projects/project_2/bert_sct_utils_v2.py:395: to_int32 (from tensorflow.python.ops.math_ops) is deprecated and will be removed in a future version.\n",
      "Instructions for updating:\n",
      "Use tf.cast instead.\n"
     ]
    },
    {
     "name": "stderr",
     "output_type": "stream",
     "text": [
      "W0610 04:38:41.838058 139670860904320 deprecation.py:323] From ./gdrive/My Drive/NLU/Projects/project_2/bert_sct_utils_v2.py:395: to_int32 (from tensorflow.python.ops.math_ops) is deprecated and will be removed in a future version.\n",
      "Instructions for updating:\n",
      "Use tf.cast instead.\n"
     ]
    },
    {
     "name": "stdout",
     "output_type": "stream",
     "text": [
      "INFO:tensorflow:Calling model_fn.\n"
     ]
    },
    {
     "name": "stderr",
     "output_type": "stream",
     "text": [
      "I0610 04:38:41.869650 139670860904320 estimator.py:1111] Calling model_fn.\n"
     ]
    },
    {
     "name": "stdout",
     "output_type": "stream",
     "text": [
      "INFO:tensorflow:Saver not created because there are no variables in the graph to restore\n"
     ]
    },
    {
     "name": "stderr",
     "output_type": "stream",
     "text": [
      "I0610 04:38:45.191013 139670860904320 saver.py:1483] Saver not created because there are no variables in the graph to restore\n"
     ]
    },
    {
     "name": "stdout",
     "output_type": "stream",
     "text": [
      "INFO:tensorflow:Saver not created because there are no variables in the graph to restore\n"
     ]
    },
    {
     "name": "stderr",
     "output_type": "stream",
     "text": [
      "I0610 04:38:46.130335 139670860904320 saver.py:1483] Saver not created because there are no variables in the graph to restore\n"
     ]
    },
    {
     "name": "stdout",
     "output_type": "stream",
     "text": [
      "WARNING:tensorflow:From ./gdrive/My Drive/NLU/Projects/project_2/bert_sct_utils_v2.py:506: BasicLSTMCell.__init__ (from tensorflow.python.ops.rnn_cell_impl) is deprecated and will be removed in a future version.\n",
      "Instructions for updating:\n",
      "This class is equivalent as tf.keras.layers.LSTMCell, and will be replaced by that in Tensorflow 2.0.\n"
     ]
    },
    {
     "name": "stderr",
     "output_type": "stream",
     "text": [
      "W0610 04:38:46.313663 139670860904320 deprecation.py:323] From ./gdrive/My Drive/NLU/Projects/project_2/bert_sct_utils_v2.py:506: BasicLSTMCell.__init__ (from tensorflow.python.ops.rnn_cell_impl) is deprecated and will be removed in a future version.\n",
      "Instructions for updating:\n",
      "This class is equivalent as tf.keras.layers.LSTMCell, and will be replaced by that in Tensorflow 2.0.\n"
     ]
    },
    {
     "name": "stdout",
     "output_type": "stream",
     "text": [
      "INFO:tensorflow:logits_pos, shape = (?, 1)\n"
     ]
    },
    {
     "name": "stderr",
     "output_type": "stream",
     "text": [
      "I0610 04:38:46.346655 139670860904320 bert_sct_utils_v2.py:535] logits_pos, shape = (?, 1)\n"
     ]
    },
    {
     "name": "stdout",
     "output_type": "stream",
     "text": [
      "INFO:tensorflow:logits_neg, shape = (?, 1)\n"
     ]
    },
    {
     "name": "stderr",
     "output_type": "stream",
     "text": [
      "I0610 04:38:46.348334 139670860904320 bert_sct_utils_v2.py:536] logits_neg, shape = (?, 1)\n"
     ]
    },
    {
     "name": "stdout",
     "output_type": "stream",
     "text": [
      "INFO:tensorflow:logits, shape = (?, 2)\n"
     ]
    },
    {
     "name": "stderr",
     "output_type": "stream",
     "text": [
      "I0610 04:38:46.349886 139670860904320 bert_sct_utils_v2.py:537] logits, shape = (?, 2)\n"
     ]
    },
    {
     "name": "stdout",
     "output_type": "stream",
     "text": [
      "INFO:tensorflow:probabilities, shape = (?, 2)\n"
     ]
    },
    {
     "name": "stderr",
     "output_type": "stream",
     "text": [
      "I0610 04:38:46.353703 139670860904320 bert_sct_utils_v2.py:539] probabilities, shape = (?, 2)\n"
     ]
    },
    {
     "name": "stdout",
     "output_type": "stream",
     "text": [
      "INFO:tensorflow:log_probs, shape = (?, 2)\n"
     ]
    },
    {
     "name": "stderr",
     "output_type": "stream",
     "text": [
      "I0610 04:38:46.357540 139670860904320 bert_sct_utils_v2.py:540] log_probs, shape = (?, 2)\n"
     ]
    },
    {
     "name": "stdout",
     "output_type": "stream",
     "text": [
      "INFO:tensorflow:one_hot_labels, shape = (?, 2)\n"
     ]
    },
    {
     "name": "stderr",
     "output_type": "stream",
     "text": [
      "I0610 04:38:46.361543 139670860904320 bert_sct_utils_v2.py:541] one_hot_labels, shape = (?, 2)\n"
     ]
    },
    {
     "name": "stdout",
     "output_type": "stream",
     "text": [
      "INFO:tensorflow:predicted_labels, shape = (?,)\n"
     ]
    },
    {
     "name": "stderr",
     "output_type": "stream",
     "text": [
      "I0610 04:38:46.365447 139670860904320 bert_sct_utils_v2.py:542] predicted_labels, shape = (?,)\n"
     ]
    },
    {
     "name": "stdout",
     "output_type": "stream",
     "text": [
      "INFO:tensorflow:per_example_loss, shape = (?,)\n"
     ]
    },
    {
     "name": "stderr",
     "output_type": "stream",
     "text": [
      "I0610 04:38:46.369163 139670860904320 bert_sct_utils_v2.py:543] per_example_loss, shape = (?,)\n"
     ]
    },
    {
     "name": "stdout",
     "output_type": "stream",
     "text": [
      "INFO:tensorflow:loss, shape = ()\n"
     ]
    },
    {
     "name": "stderr",
     "output_type": "stream",
     "text": [
      "I0610 04:38:46.371800 139670860904320 bert_sct_utils_v2.py:544] loss, shape = ()\n"
     ]
    },
    {
     "name": "stdout",
     "output_type": "stream",
     "text": [
      "INFO:tensorflow:**** Trainable Variables ****\n"
     ]
    },
    {
     "name": "stderr",
     "output_type": "stream",
     "text": [
      "I0610 04:38:46.417512 139670860904320 bert_sct_utils_v2.py:595] **** Trainable Variables ****\n"
     ]
    },
    {
     "name": "stdout",
     "output_type": "stream",
     "text": [
      "INFO:tensorflow:  name = module/bert/embeddings/word_embeddings:0, shape = (30522, 768)\n"
     ]
    },
    {
     "name": "stderr",
     "output_type": "stream",
     "text": [
      "I0610 04:38:46.419863 139670860904320 bert_sct_utils_v2.py:600]   name = module/bert/embeddings/word_embeddings:0, shape = (30522, 768)\n"
     ]
    },
    {
     "name": "stdout",
     "output_type": "stream",
     "text": [
      "INFO:tensorflow:  name = module/bert/embeddings/token_type_embeddings:0, shape = (2, 768)\n"
     ]
    },
    {
     "name": "stderr",
     "output_type": "stream",
     "text": [
      "I0610 04:38:46.421715 139670860904320 bert_sct_utils_v2.py:600]   name = module/bert/embeddings/token_type_embeddings:0, shape = (2, 768)\n"
     ]
    },
    {
     "name": "stdout",
     "output_type": "stream",
     "text": [
      "INFO:tensorflow:  name = module/bert/embeddings/position_embeddings:0, shape = (512, 768)\n"
     ]
    },
    {
     "name": "stderr",
     "output_type": "stream",
     "text": [
      "I0610 04:38:46.423968 139670860904320 bert_sct_utils_v2.py:600]   name = module/bert/embeddings/position_embeddings:0, shape = (512, 768)\n"
     ]
    },
    {
     "name": "stdout",
     "output_type": "stream",
     "text": [
      "INFO:tensorflow:  name = module/bert/embeddings/LayerNorm/beta:0, shape = (768,)\n"
     ]
    },
    {
     "name": "stderr",
     "output_type": "stream",
     "text": [
      "I0610 04:38:46.426986 139670860904320 bert_sct_utils_v2.py:600]   name = module/bert/embeddings/LayerNorm/beta:0, shape = (768,)\n"
     ]
    },
    {
     "name": "stdout",
     "output_type": "stream",
     "text": [
      "INFO:tensorflow:  name = module/bert/embeddings/LayerNorm/gamma:0, shape = (768,)\n"
     ]
    },
    {
     "name": "stderr",
     "output_type": "stream",
     "text": [
      "I0610 04:38:46.431167 139670860904320 bert_sct_utils_v2.py:600]   name = module/bert/embeddings/LayerNorm/gamma:0, shape = (768,)\n"
     ]
    },
    {
     "name": "stdout",
     "output_type": "stream",
     "text": [
      "INFO:tensorflow:  name = module/bert/encoder/layer_0/attention/self/query/kernel:0, shape = (768, 768)\n"
     ]
    },
    {
     "name": "stderr",
     "output_type": "stream",
     "text": [
      "I0610 04:38:46.433588 139670860904320 bert_sct_utils_v2.py:600]   name = module/bert/encoder/layer_0/attention/self/query/kernel:0, shape = (768, 768)\n"
     ]
    },
    {
     "name": "stdout",
     "output_type": "stream",
     "text": [
      "INFO:tensorflow:  name = module/bert/encoder/layer_0/attention/self/query/bias:0, shape = (768,)\n"
     ]
    },
    {
     "name": "stderr",
     "output_type": "stream",
     "text": [
      "I0610 04:38:46.435533 139670860904320 bert_sct_utils_v2.py:600]   name = module/bert/encoder/layer_0/attention/self/query/bias:0, shape = (768,)\n"
     ]
    },
    {
     "name": "stdout",
     "output_type": "stream",
     "text": [
      "INFO:tensorflow:  name = module/bert/encoder/layer_0/attention/self/key/kernel:0, shape = (768, 768)\n"
     ]
    },
    {
     "name": "stderr",
     "output_type": "stream",
     "text": [
      "I0610 04:38:46.438457 139670860904320 bert_sct_utils_v2.py:600]   name = module/bert/encoder/layer_0/attention/self/key/kernel:0, shape = (768, 768)\n"
     ]
    },
    {
     "name": "stdout",
     "output_type": "stream",
     "text": [
      "INFO:tensorflow:  name = module/bert/encoder/layer_0/attention/self/key/bias:0, shape = (768,)\n"
     ]
    },
    {
     "name": "stderr",
     "output_type": "stream",
     "text": [
      "I0610 04:38:46.441286 139670860904320 bert_sct_utils_v2.py:600]   name = module/bert/encoder/layer_0/attention/self/key/bias:0, shape = (768,)\n"
     ]
    },
    {
     "name": "stdout",
     "output_type": "stream",
     "text": [
      "INFO:tensorflow:  name = module/bert/encoder/layer_0/attention/self/value/kernel:0, shape = (768, 768)\n"
     ]
    },
    {
     "name": "stderr",
     "output_type": "stream",
     "text": [
      "I0610 04:38:46.444377 139670860904320 bert_sct_utils_v2.py:600]   name = module/bert/encoder/layer_0/attention/self/value/kernel:0, shape = (768, 768)\n"
     ]
    },
    {
     "name": "stdout",
     "output_type": "stream",
     "text": [
      "INFO:tensorflow:  name = module/bert/encoder/layer_0/attention/self/value/bias:0, shape = (768,)\n"
     ]
    },
    {
     "name": "stderr",
     "output_type": "stream",
     "text": [
      "I0610 04:38:46.447149 139670860904320 bert_sct_utils_v2.py:600]   name = module/bert/encoder/layer_0/attention/self/value/bias:0, shape = (768,)\n"
     ]
    },
    {
     "name": "stdout",
     "output_type": "stream",
     "text": [
      "INFO:tensorflow:  name = module/bert/encoder/layer_0/attention/output/dense/kernel:0, shape = (768, 768)\n"
     ]
    },
    {
     "name": "stderr",
     "output_type": "stream",
     "text": [
      "I0610 04:38:46.449952 139670860904320 bert_sct_utils_v2.py:600]   name = module/bert/encoder/layer_0/attention/output/dense/kernel:0, shape = (768, 768)\n"
     ]
    },
    {
     "name": "stdout",
     "output_type": "stream",
     "text": [
      "INFO:tensorflow:  name = module/bert/encoder/layer_0/attention/output/dense/bias:0, shape = (768,)\n"
     ]
    },
    {
     "name": "stderr",
     "output_type": "stream",
     "text": [
      "I0610 04:38:46.452823 139670860904320 bert_sct_utils_v2.py:600]   name = module/bert/encoder/layer_0/attention/output/dense/bias:0, shape = (768,)\n"
     ]
    },
    {
     "name": "stdout",
     "output_type": "stream",
     "text": [
      "INFO:tensorflow:  name = module/bert/encoder/layer_0/attention/output/LayerNorm/beta:0, shape = (768,)\n"
     ]
    },
    {
     "name": "stderr",
     "output_type": "stream",
     "text": [
      "I0610 04:38:46.455720 139670860904320 bert_sct_utils_v2.py:600]   name = module/bert/encoder/layer_0/attention/output/LayerNorm/beta:0, shape = (768,)\n"
     ]
    },
    {
     "name": "stdout",
     "output_type": "stream",
     "text": [
      "INFO:tensorflow:  name = module/bert/encoder/layer_0/attention/output/LayerNorm/gamma:0, shape = (768,)\n"
     ]
    },
    {
     "name": "stderr",
     "output_type": "stream",
     "text": [
      "I0610 04:38:46.458587 139670860904320 bert_sct_utils_v2.py:600]   name = module/bert/encoder/layer_0/attention/output/LayerNorm/gamma:0, shape = (768,)\n"
     ]
    },
    {
     "name": "stdout",
     "output_type": "stream",
     "text": [
      "INFO:tensorflow:  name = module/bert/encoder/layer_0/intermediate/dense/kernel:0, shape = (768, 3072)\n"
     ]
    },
    {
     "name": "stderr",
     "output_type": "stream",
     "text": [
      "I0610 04:38:46.461300 139670860904320 bert_sct_utils_v2.py:600]   name = module/bert/encoder/layer_0/intermediate/dense/kernel:0, shape = (768, 3072)\n"
     ]
    },
    {
     "name": "stdout",
     "output_type": "stream",
     "text": [
      "INFO:tensorflow:  name = module/bert/encoder/layer_0/intermediate/dense/bias:0, shape = (3072,)\n"
     ]
    },
    {
     "name": "stderr",
     "output_type": "stream",
     "text": [
      "I0610 04:38:46.464082 139670860904320 bert_sct_utils_v2.py:600]   name = module/bert/encoder/layer_0/intermediate/dense/bias:0, shape = (3072,)\n"
     ]
    },
    {
     "name": "stdout",
     "output_type": "stream",
     "text": [
      "INFO:tensorflow:  name = module/bert/encoder/layer_0/output/dense/kernel:0, shape = (3072, 768)\n"
     ]
    },
    {
     "name": "stderr",
     "output_type": "stream",
     "text": [
      "I0610 04:38:46.467854 139670860904320 bert_sct_utils_v2.py:600]   name = module/bert/encoder/layer_0/output/dense/kernel:0, shape = (3072, 768)\n"
     ]
    },
    {
     "name": "stdout",
     "output_type": "stream",
     "text": [
      "INFO:tensorflow:  name = module/bert/encoder/layer_0/output/dense/bias:0, shape = (768,)\n"
     ]
    },
    {
     "name": "stderr",
     "output_type": "stream",
     "text": [
      "I0610 04:38:46.470859 139670860904320 bert_sct_utils_v2.py:600]   name = module/bert/encoder/layer_0/output/dense/bias:0, shape = (768,)\n"
     ]
    },
    {
     "name": "stdout",
     "output_type": "stream",
     "text": [
      "INFO:tensorflow:  name = module/bert/encoder/layer_0/output/LayerNorm/beta:0, shape = (768,)\n"
     ]
    },
    {
     "name": "stderr",
     "output_type": "stream",
     "text": [
      "I0610 04:38:46.473530 139670860904320 bert_sct_utils_v2.py:600]   name = module/bert/encoder/layer_0/output/LayerNorm/beta:0, shape = (768,)\n"
     ]
    },
    {
     "name": "stdout",
     "output_type": "stream",
     "text": [
      "INFO:tensorflow:  name = module/bert/encoder/layer_0/output/LayerNorm/gamma:0, shape = (768,)\n"
     ]
    },
    {
     "name": "stderr",
     "output_type": "stream",
     "text": [
      "I0610 04:38:46.476264 139670860904320 bert_sct_utils_v2.py:600]   name = module/bert/encoder/layer_0/output/LayerNorm/gamma:0, shape = (768,)\n"
     ]
    },
    {
     "name": "stdout",
     "output_type": "stream",
     "text": [
      "INFO:tensorflow:  name = module/bert/encoder/layer_1/attention/self/query/kernel:0, shape = (768, 768)\n"
     ]
    },
    {
     "name": "stderr",
     "output_type": "stream",
     "text": [
      "I0610 04:38:46.478844 139670860904320 bert_sct_utils_v2.py:600]   name = module/bert/encoder/layer_1/attention/self/query/kernel:0, shape = (768, 768)\n"
     ]
    },
    {
     "name": "stdout",
     "output_type": "stream",
     "text": [
      "INFO:tensorflow:  name = module/bert/encoder/layer_1/attention/self/query/bias:0, shape = (768,)\n"
     ]
    },
    {
     "name": "stderr",
     "output_type": "stream",
     "text": [
      "I0610 04:38:46.481584 139670860904320 bert_sct_utils_v2.py:600]   name = module/bert/encoder/layer_1/attention/self/query/bias:0, shape = (768,)\n"
     ]
    },
    {
     "name": "stdout",
     "output_type": "stream",
     "text": [
      "INFO:tensorflow:  name = module/bert/encoder/layer_1/attention/self/key/kernel:0, shape = (768, 768)\n"
     ]
    },
    {
     "name": "stderr",
     "output_type": "stream",
     "text": [
      "I0610 04:38:46.484323 139670860904320 bert_sct_utils_v2.py:600]   name = module/bert/encoder/layer_1/attention/self/key/kernel:0, shape = (768, 768)\n"
     ]
    },
    {
     "name": "stdout",
     "output_type": "stream",
     "text": [
      "INFO:tensorflow:  name = module/bert/encoder/layer_1/attention/self/key/bias:0, shape = (768,)\n"
     ]
    },
    {
     "name": "stderr",
     "output_type": "stream",
     "text": [
      "I0610 04:38:46.486912 139670860904320 bert_sct_utils_v2.py:600]   name = module/bert/encoder/layer_1/attention/self/key/bias:0, shape = (768,)\n"
     ]
    },
    {
     "name": "stdout",
     "output_type": "stream",
     "text": [
      "INFO:tensorflow:  name = module/bert/encoder/layer_1/attention/self/value/kernel:0, shape = (768, 768)\n"
     ]
    },
    {
     "name": "stderr",
     "output_type": "stream",
     "text": [
      "I0610 04:38:46.489138 139670860904320 bert_sct_utils_v2.py:600]   name = module/bert/encoder/layer_1/attention/self/value/kernel:0, shape = (768, 768)\n"
     ]
    },
    {
     "name": "stdout",
     "output_type": "stream",
     "text": [
      "INFO:tensorflow:  name = module/bert/encoder/layer_1/attention/self/value/bias:0, shape = (768,)\n"
     ]
    },
    {
     "name": "stderr",
     "output_type": "stream",
     "text": [
      "I0610 04:38:46.491700 139670860904320 bert_sct_utils_v2.py:600]   name = module/bert/encoder/layer_1/attention/self/value/bias:0, shape = (768,)\n"
     ]
    },
    {
     "name": "stdout",
     "output_type": "stream",
     "text": [
      "INFO:tensorflow:  name = module/bert/encoder/layer_1/attention/output/dense/kernel:0, shape = (768, 768)\n"
     ]
    },
    {
     "name": "stderr",
     "output_type": "stream",
     "text": [
      "I0610 04:38:46.494225 139670860904320 bert_sct_utils_v2.py:600]   name = module/bert/encoder/layer_1/attention/output/dense/kernel:0, shape = (768, 768)\n"
     ]
    },
    {
     "name": "stdout",
     "output_type": "stream",
     "text": [
      "INFO:tensorflow:  name = module/bert/encoder/layer_1/attention/output/dense/bias:0, shape = (768,)\n"
     ]
    },
    {
     "name": "stderr",
     "output_type": "stream",
     "text": [
      "I0610 04:38:46.496818 139670860904320 bert_sct_utils_v2.py:600]   name = module/bert/encoder/layer_1/attention/output/dense/bias:0, shape = (768,)\n"
     ]
    },
    {
     "name": "stdout",
     "output_type": "stream",
     "text": [
      "INFO:tensorflow:  name = module/bert/encoder/layer_1/attention/output/LayerNorm/beta:0, shape = (768,)\n"
     ]
    },
    {
     "name": "stderr",
     "output_type": "stream",
     "text": [
      "I0610 04:38:46.499583 139670860904320 bert_sct_utils_v2.py:600]   name = module/bert/encoder/layer_1/attention/output/LayerNorm/beta:0, shape = (768,)\n"
     ]
    },
    {
     "name": "stdout",
     "output_type": "stream",
     "text": [
      "INFO:tensorflow:  name = module/bert/encoder/layer_1/attention/output/LayerNorm/gamma:0, shape = (768,)\n"
     ]
    },
    {
     "name": "stderr",
     "output_type": "stream",
     "text": [
      "I0610 04:38:46.502257 139670860904320 bert_sct_utils_v2.py:600]   name = module/bert/encoder/layer_1/attention/output/LayerNorm/gamma:0, shape = (768,)\n"
     ]
    },
    {
     "name": "stdout",
     "output_type": "stream",
     "text": [
      "INFO:tensorflow:  name = module/bert/encoder/layer_1/intermediate/dense/kernel:0, shape = (768, 3072)\n"
     ]
    },
    {
     "name": "stderr",
     "output_type": "stream",
     "text": [
      "I0610 04:38:46.504857 139670860904320 bert_sct_utils_v2.py:600]   name = module/bert/encoder/layer_1/intermediate/dense/kernel:0, shape = (768, 3072)\n"
     ]
    },
    {
     "name": "stdout",
     "output_type": "stream",
     "text": [
      "INFO:tensorflow:  name = module/bert/encoder/layer_1/intermediate/dense/bias:0, shape = (3072,)\n"
     ]
    },
    {
     "name": "stderr",
     "output_type": "stream",
     "text": [
      "I0610 04:38:46.507540 139670860904320 bert_sct_utils_v2.py:600]   name = module/bert/encoder/layer_1/intermediate/dense/bias:0, shape = (3072,)\n"
     ]
    },
    {
     "name": "stdout",
     "output_type": "stream",
     "text": [
      "INFO:tensorflow:  name = module/bert/encoder/layer_1/output/dense/kernel:0, shape = (3072, 768)\n"
     ]
    },
    {
     "name": "stderr",
     "output_type": "stream",
     "text": [
      "I0610 04:38:46.510164 139670860904320 bert_sct_utils_v2.py:600]   name = module/bert/encoder/layer_1/output/dense/kernel:0, shape = (3072, 768)\n"
     ]
    },
    {
     "name": "stdout",
     "output_type": "stream",
     "text": [
      "INFO:tensorflow:  name = module/bert/encoder/layer_1/output/dense/bias:0, shape = (768,)\n"
     ]
    },
    {
     "name": "stderr",
     "output_type": "stream",
     "text": [
      "I0610 04:38:46.512864 139670860904320 bert_sct_utils_v2.py:600]   name = module/bert/encoder/layer_1/output/dense/bias:0, shape = (768,)\n"
     ]
    },
    {
     "name": "stdout",
     "output_type": "stream",
     "text": [
      "INFO:tensorflow:  name = module/bert/encoder/layer_1/output/LayerNorm/beta:0, shape = (768,)\n"
     ]
    },
    {
     "name": "stderr",
     "output_type": "stream",
     "text": [
      "I0610 04:38:46.515564 139670860904320 bert_sct_utils_v2.py:600]   name = module/bert/encoder/layer_1/output/LayerNorm/beta:0, shape = (768,)\n"
     ]
    },
    {
     "name": "stdout",
     "output_type": "stream",
     "text": [
      "INFO:tensorflow:  name = module/bert/encoder/layer_1/output/LayerNorm/gamma:0, shape = (768,)\n"
     ]
    },
    {
     "name": "stderr",
     "output_type": "stream",
     "text": [
      "I0610 04:38:46.517871 139670860904320 bert_sct_utils_v2.py:600]   name = module/bert/encoder/layer_1/output/LayerNorm/gamma:0, shape = (768,)\n"
     ]
    },
    {
     "name": "stdout",
     "output_type": "stream",
     "text": [
      "INFO:tensorflow:  name = module/bert/encoder/layer_2/attention/self/query/kernel:0, shape = (768, 768)\n"
     ]
    },
    {
     "name": "stderr",
     "output_type": "stream",
     "text": [
      "I0610 04:38:46.521208 139670860904320 bert_sct_utils_v2.py:600]   name = module/bert/encoder/layer_2/attention/self/query/kernel:0, shape = (768, 768)\n"
     ]
    },
    {
     "name": "stdout",
     "output_type": "stream",
     "text": [
      "INFO:tensorflow:  name = module/bert/encoder/layer_2/attention/self/query/bias:0, shape = (768,)\n"
     ]
    },
    {
     "name": "stderr",
     "output_type": "stream",
     "text": [
      "I0610 04:38:46.524120 139670860904320 bert_sct_utils_v2.py:600]   name = module/bert/encoder/layer_2/attention/self/query/bias:0, shape = (768,)\n"
     ]
    },
    {
     "name": "stdout",
     "output_type": "stream",
     "text": [
      "INFO:tensorflow:  name = module/bert/encoder/layer_2/attention/self/key/kernel:0, shape = (768, 768)\n"
     ]
    },
    {
     "name": "stderr",
     "output_type": "stream",
     "text": [
      "I0610 04:38:46.526224 139670860904320 bert_sct_utils_v2.py:600]   name = module/bert/encoder/layer_2/attention/self/key/kernel:0, shape = (768, 768)\n"
     ]
    },
    {
     "name": "stdout",
     "output_type": "stream",
     "text": [
      "INFO:tensorflow:  name = module/bert/encoder/layer_2/attention/self/key/bias:0, shape = (768,)\n"
     ]
    },
    {
     "name": "stderr",
     "output_type": "stream",
     "text": [
      "I0610 04:38:46.528966 139670860904320 bert_sct_utils_v2.py:600]   name = module/bert/encoder/layer_2/attention/self/key/bias:0, shape = (768,)\n"
     ]
    },
    {
     "name": "stdout",
     "output_type": "stream",
     "text": [
      "INFO:tensorflow:  name = module/bert/encoder/layer_2/attention/self/value/kernel:0, shape = (768, 768)\n"
     ]
    },
    {
     "name": "stderr",
     "output_type": "stream",
     "text": [
      "I0610 04:38:46.531601 139670860904320 bert_sct_utils_v2.py:600]   name = module/bert/encoder/layer_2/attention/self/value/kernel:0, shape = (768, 768)\n"
     ]
    },
    {
     "name": "stdout",
     "output_type": "stream",
     "text": [
      "INFO:tensorflow:  name = module/bert/encoder/layer_2/attention/self/value/bias:0, shape = (768,)\n"
     ]
    },
    {
     "name": "stderr",
     "output_type": "stream",
     "text": [
      "I0610 04:38:46.534402 139670860904320 bert_sct_utils_v2.py:600]   name = module/bert/encoder/layer_2/attention/self/value/bias:0, shape = (768,)\n"
     ]
    },
    {
     "name": "stdout",
     "output_type": "stream",
     "text": [
      "INFO:tensorflow:  name = module/bert/encoder/layer_2/attention/output/dense/kernel:0, shape = (768, 768)\n"
     ]
    },
    {
     "name": "stderr",
     "output_type": "stream",
     "text": [
      "I0610 04:38:46.535828 139670860904320 bert_sct_utils_v2.py:600]   name = module/bert/encoder/layer_2/attention/output/dense/kernel:0, shape = (768, 768)\n"
     ]
    },
    {
     "name": "stdout",
     "output_type": "stream",
     "text": [
      "INFO:tensorflow:  name = module/bert/encoder/layer_2/attention/output/dense/bias:0, shape = (768,)\n"
     ]
    },
    {
     "name": "stderr",
     "output_type": "stream",
     "text": [
      "I0610 04:38:46.538410 139670860904320 bert_sct_utils_v2.py:600]   name = module/bert/encoder/layer_2/attention/output/dense/bias:0, shape = (768,)\n"
     ]
    },
    {
     "name": "stdout",
     "output_type": "stream",
     "text": [
      "INFO:tensorflow:  name = module/bert/encoder/layer_2/attention/output/LayerNorm/beta:0, shape = (768,)\n"
     ]
    },
    {
     "name": "stderr",
     "output_type": "stream",
     "text": [
      "I0610 04:38:46.541074 139670860904320 bert_sct_utils_v2.py:600]   name = module/bert/encoder/layer_2/attention/output/LayerNorm/beta:0, shape = (768,)\n"
     ]
    },
    {
     "name": "stdout",
     "output_type": "stream",
     "text": [
      "INFO:tensorflow:  name = module/bert/encoder/layer_2/attention/output/LayerNorm/gamma:0, shape = (768,)\n"
     ]
    },
    {
     "name": "stderr",
     "output_type": "stream",
     "text": [
      "I0610 04:38:46.542686 139670860904320 bert_sct_utils_v2.py:600]   name = module/bert/encoder/layer_2/attention/output/LayerNorm/gamma:0, shape = (768,)\n"
     ]
    },
    {
     "name": "stdout",
     "output_type": "stream",
     "text": [
      "INFO:tensorflow:  name = module/bert/encoder/layer_2/intermediate/dense/kernel:0, shape = (768, 3072)\n"
     ]
    },
    {
     "name": "stderr",
     "output_type": "stream",
     "text": [
      "I0610 04:38:46.544389 139670860904320 bert_sct_utils_v2.py:600]   name = module/bert/encoder/layer_2/intermediate/dense/kernel:0, shape = (768, 3072)\n"
     ]
    },
    {
     "name": "stdout",
     "output_type": "stream",
     "text": [
      "INFO:tensorflow:  name = module/bert/encoder/layer_2/intermediate/dense/bias:0, shape = (3072,)\n"
     ]
    },
    {
     "name": "stderr",
     "output_type": "stream",
     "text": [
      "I0610 04:38:46.546592 139670860904320 bert_sct_utils_v2.py:600]   name = module/bert/encoder/layer_2/intermediate/dense/bias:0, shape = (3072,)\n"
     ]
    },
    {
     "name": "stdout",
     "output_type": "stream",
     "text": [
      "INFO:tensorflow:  name = module/bert/encoder/layer_2/output/dense/kernel:0, shape = (3072, 768)\n"
     ]
    },
    {
     "name": "stderr",
     "output_type": "stream",
     "text": [
      "I0610 04:38:46.549793 139670860904320 bert_sct_utils_v2.py:600]   name = module/bert/encoder/layer_2/output/dense/kernel:0, shape = (3072, 768)\n"
     ]
    },
    {
     "name": "stdout",
     "output_type": "stream",
     "text": [
      "INFO:tensorflow:  name = module/bert/encoder/layer_2/output/dense/bias:0, shape = (768,)\n"
     ]
    },
    {
     "name": "stderr",
     "output_type": "stream",
     "text": [
      "I0610 04:38:46.552374 139670860904320 bert_sct_utils_v2.py:600]   name = module/bert/encoder/layer_2/output/dense/bias:0, shape = (768,)\n"
     ]
    },
    {
     "name": "stdout",
     "output_type": "stream",
     "text": [
      "INFO:tensorflow:  name = module/bert/encoder/layer_2/output/LayerNorm/beta:0, shape = (768,)\n"
     ]
    },
    {
     "name": "stderr",
     "output_type": "stream",
     "text": [
      "I0610 04:38:46.554985 139670860904320 bert_sct_utils_v2.py:600]   name = module/bert/encoder/layer_2/output/LayerNorm/beta:0, shape = (768,)\n"
     ]
    },
    {
     "name": "stdout",
     "output_type": "stream",
     "text": [
      "INFO:tensorflow:  name = module/bert/encoder/layer_2/output/LayerNorm/gamma:0, shape = (768,)\n"
     ]
    },
    {
     "name": "stderr",
     "output_type": "stream",
     "text": [
      "I0610 04:38:46.557975 139670860904320 bert_sct_utils_v2.py:600]   name = module/bert/encoder/layer_2/output/LayerNorm/gamma:0, shape = (768,)\n"
     ]
    },
    {
     "name": "stdout",
     "output_type": "stream",
     "text": [
      "INFO:tensorflow:  name = module/bert/encoder/layer_3/attention/self/query/kernel:0, shape = (768, 768)\n"
     ]
    },
    {
     "name": "stderr",
     "output_type": "stream",
     "text": [
      "I0610 04:38:46.560707 139670860904320 bert_sct_utils_v2.py:600]   name = module/bert/encoder/layer_3/attention/self/query/kernel:0, shape = (768, 768)\n"
     ]
    },
    {
     "name": "stdout",
     "output_type": "stream",
     "text": [
      "INFO:tensorflow:  name = module/bert/encoder/layer_3/attention/self/query/bias:0, shape = (768,)\n"
     ]
    },
    {
     "name": "stderr",
     "output_type": "stream",
     "text": [
      "I0610 04:38:46.563422 139670860904320 bert_sct_utils_v2.py:600]   name = module/bert/encoder/layer_3/attention/self/query/bias:0, shape = (768,)\n"
     ]
    },
    {
     "name": "stdout",
     "output_type": "stream",
     "text": [
      "INFO:tensorflow:  name = module/bert/encoder/layer_3/attention/self/key/kernel:0, shape = (768, 768)\n"
     ]
    },
    {
     "name": "stderr",
     "output_type": "stream",
     "text": [
      "I0610 04:38:46.566023 139670860904320 bert_sct_utils_v2.py:600]   name = module/bert/encoder/layer_3/attention/self/key/kernel:0, shape = (768, 768)\n"
     ]
    },
    {
     "name": "stdout",
     "output_type": "stream",
     "text": [
      "INFO:tensorflow:  name = module/bert/encoder/layer_3/attention/self/key/bias:0, shape = (768,)\n"
     ]
    },
    {
     "name": "stderr",
     "output_type": "stream",
     "text": [
      "I0610 04:38:46.569174 139670860904320 bert_sct_utils_v2.py:600]   name = module/bert/encoder/layer_3/attention/self/key/bias:0, shape = (768,)\n"
     ]
    },
    {
     "name": "stdout",
     "output_type": "stream",
     "text": [
      "INFO:tensorflow:  name = module/bert/encoder/layer_3/attention/self/value/kernel:0, shape = (768, 768)\n"
     ]
    },
    {
     "name": "stderr",
     "output_type": "stream",
     "text": [
      "I0610 04:38:46.571123 139670860904320 bert_sct_utils_v2.py:600]   name = module/bert/encoder/layer_3/attention/self/value/kernel:0, shape = (768, 768)\n"
     ]
    },
    {
     "name": "stdout",
     "output_type": "stream",
     "text": [
      "INFO:tensorflow:  name = module/bert/encoder/layer_3/attention/self/value/bias:0, shape = (768,)\n"
     ]
    },
    {
     "name": "stderr",
     "output_type": "stream",
     "text": [
      "I0610 04:38:46.572712 139670860904320 bert_sct_utils_v2.py:600]   name = module/bert/encoder/layer_3/attention/self/value/bias:0, shape = (768,)\n"
     ]
    },
    {
     "name": "stdout",
     "output_type": "stream",
     "text": [
      "INFO:tensorflow:  name = module/bert/encoder/layer_3/attention/output/dense/kernel:0, shape = (768, 768)\n"
     ]
    },
    {
     "name": "stderr",
     "output_type": "stream",
     "text": [
      "I0610 04:38:46.574352 139670860904320 bert_sct_utils_v2.py:600]   name = module/bert/encoder/layer_3/attention/output/dense/kernel:0, shape = (768, 768)\n"
     ]
    },
    {
     "name": "stdout",
     "output_type": "stream",
     "text": [
      "INFO:tensorflow:  name = module/bert/encoder/layer_3/attention/output/dense/bias:0, shape = (768,)\n"
     ]
    },
    {
     "name": "stderr",
     "output_type": "stream",
     "text": [
      "I0610 04:38:46.577292 139670860904320 bert_sct_utils_v2.py:600]   name = module/bert/encoder/layer_3/attention/output/dense/bias:0, shape = (768,)\n"
     ]
    },
    {
     "name": "stdout",
     "output_type": "stream",
     "text": [
      "INFO:tensorflow:  name = module/bert/encoder/layer_3/attention/output/LayerNorm/beta:0, shape = (768,)\n"
     ]
    },
    {
     "name": "stderr",
     "output_type": "stream",
     "text": [
      "I0610 04:38:46.579839 139670860904320 bert_sct_utils_v2.py:600]   name = module/bert/encoder/layer_3/attention/output/LayerNorm/beta:0, shape = (768,)\n"
     ]
    },
    {
     "name": "stdout",
     "output_type": "stream",
     "text": [
      "INFO:tensorflow:  name = module/bert/encoder/layer_3/attention/output/LayerNorm/gamma:0, shape = (768,)\n"
     ]
    },
    {
     "name": "stderr",
     "output_type": "stream",
     "text": [
      "I0610 04:38:46.581982 139670860904320 bert_sct_utils_v2.py:600]   name = module/bert/encoder/layer_3/attention/output/LayerNorm/gamma:0, shape = (768,)\n"
     ]
    },
    {
     "name": "stdout",
     "output_type": "stream",
     "text": [
      "INFO:tensorflow:  name = module/bert/encoder/layer_3/intermediate/dense/kernel:0, shape = (768, 3072)\n"
     ]
    },
    {
     "name": "stderr",
     "output_type": "stream",
     "text": [
      "I0610 04:38:46.584479 139670860904320 bert_sct_utils_v2.py:600]   name = module/bert/encoder/layer_3/intermediate/dense/kernel:0, shape = (768, 3072)\n"
     ]
    },
    {
     "name": "stdout",
     "output_type": "stream",
     "text": [
      "INFO:tensorflow:  name = module/bert/encoder/layer_3/intermediate/dense/bias:0, shape = (3072,)\n"
     ]
    },
    {
     "name": "stderr",
     "output_type": "stream",
     "text": [
      "I0610 04:38:46.587044 139670860904320 bert_sct_utils_v2.py:600]   name = module/bert/encoder/layer_3/intermediate/dense/bias:0, shape = (3072,)\n"
     ]
    },
    {
     "name": "stdout",
     "output_type": "stream",
     "text": [
      "INFO:tensorflow:  name = module/bert/encoder/layer_3/output/dense/kernel:0, shape = (3072, 768)\n"
     ]
    },
    {
     "name": "stderr",
     "output_type": "stream",
     "text": [
      "I0610 04:38:46.589271 139670860904320 bert_sct_utils_v2.py:600]   name = module/bert/encoder/layer_3/output/dense/kernel:0, shape = (3072, 768)\n"
     ]
    },
    {
     "name": "stdout",
     "output_type": "stream",
     "text": [
      "INFO:tensorflow:  name = module/bert/encoder/layer_3/output/dense/bias:0, shape = (768,)\n"
     ]
    },
    {
     "name": "stderr",
     "output_type": "stream",
     "text": [
      "I0610 04:38:46.591090 139670860904320 bert_sct_utils_v2.py:600]   name = module/bert/encoder/layer_3/output/dense/bias:0, shape = (768,)\n"
     ]
    },
    {
     "name": "stdout",
     "output_type": "stream",
     "text": [
      "INFO:tensorflow:  name = module/bert/encoder/layer_3/output/LayerNorm/beta:0, shape = (768,)\n"
     ]
    },
    {
     "name": "stderr",
     "output_type": "stream",
     "text": [
      "I0610 04:38:46.593778 139670860904320 bert_sct_utils_v2.py:600]   name = module/bert/encoder/layer_3/output/LayerNorm/beta:0, shape = (768,)\n"
     ]
    },
    {
     "name": "stdout",
     "output_type": "stream",
     "text": [
      "INFO:tensorflow:  name = module/bert/encoder/layer_3/output/LayerNorm/gamma:0, shape = (768,)\n"
     ]
    },
    {
     "name": "stderr",
     "output_type": "stream",
     "text": [
      "I0610 04:38:46.596503 139670860904320 bert_sct_utils_v2.py:600]   name = module/bert/encoder/layer_3/output/LayerNorm/gamma:0, shape = (768,)\n"
     ]
    },
    {
     "name": "stdout",
     "output_type": "stream",
     "text": [
      "INFO:tensorflow:  name = module/bert/encoder/layer_4/attention/self/query/kernel:0, shape = (768, 768)\n"
     ]
    },
    {
     "name": "stderr",
     "output_type": "stream",
     "text": [
      "I0610 04:38:46.599178 139670860904320 bert_sct_utils_v2.py:600]   name = module/bert/encoder/layer_4/attention/self/query/kernel:0, shape = (768, 768)\n"
     ]
    },
    {
     "name": "stdout",
     "output_type": "stream",
     "text": [
      "INFO:tensorflow:  name = module/bert/encoder/layer_4/attention/self/query/bias:0, shape = (768,)\n"
     ]
    },
    {
     "name": "stderr",
     "output_type": "stream",
     "text": [
      "I0610 04:38:46.601861 139670860904320 bert_sct_utils_v2.py:600]   name = module/bert/encoder/layer_4/attention/self/query/bias:0, shape = (768,)\n"
     ]
    },
    {
     "name": "stdout",
     "output_type": "stream",
     "text": [
      "INFO:tensorflow:  name = module/bert/encoder/layer_4/attention/self/key/kernel:0, shape = (768, 768)\n"
     ]
    },
    {
     "name": "stderr",
     "output_type": "stream",
     "text": [
      "I0610 04:38:46.604090 139670860904320 bert_sct_utils_v2.py:600]   name = module/bert/encoder/layer_4/attention/self/key/kernel:0, shape = (768, 768)\n"
     ]
    },
    {
     "name": "stdout",
     "output_type": "stream",
     "text": [
      "INFO:tensorflow:  name = module/bert/encoder/layer_4/attention/self/key/bias:0, shape = (768,)\n"
     ]
    },
    {
     "name": "stderr",
     "output_type": "stream",
     "text": [
      "I0610 04:38:46.606594 139670860904320 bert_sct_utils_v2.py:600]   name = module/bert/encoder/layer_4/attention/self/key/bias:0, shape = (768,)\n"
     ]
    },
    {
     "name": "stdout",
     "output_type": "stream",
     "text": [
      "INFO:tensorflow:  name = module/bert/encoder/layer_4/attention/self/value/kernel:0, shape = (768, 768)\n"
     ]
    },
    {
     "name": "stderr",
     "output_type": "stream",
     "text": [
      "I0610 04:38:46.609249 139670860904320 bert_sct_utils_v2.py:600]   name = module/bert/encoder/layer_4/attention/self/value/kernel:0, shape = (768, 768)\n"
     ]
    },
    {
     "name": "stdout",
     "output_type": "stream",
     "text": [
      "INFO:tensorflow:  name = module/bert/encoder/layer_4/attention/self/value/bias:0, shape = (768,)\n"
     ]
    },
    {
     "name": "stderr",
     "output_type": "stream",
     "text": [
      "I0610 04:38:46.611921 139670860904320 bert_sct_utils_v2.py:600]   name = module/bert/encoder/layer_4/attention/self/value/bias:0, shape = (768,)\n"
     ]
    },
    {
     "name": "stdout",
     "output_type": "stream",
     "text": [
      "INFO:tensorflow:  name = module/bert/encoder/layer_4/attention/output/dense/kernel:0, shape = (768, 768)\n"
     ]
    },
    {
     "name": "stderr",
     "output_type": "stream",
     "text": [
      "I0610 04:38:46.614188 139670860904320 bert_sct_utils_v2.py:600]   name = module/bert/encoder/layer_4/attention/output/dense/kernel:0, shape = (768, 768)\n"
     ]
    },
    {
     "name": "stdout",
     "output_type": "stream",
     "text": [
      "INFO:tensorflow:  name = module/bert/encoder/layer_4/attention/output/dense/bias:0, shape = (768,)\n"
     ]
    },
    {
     "name": "stderr",
     "output_type": "stream",
     "text": [
      "I0610 04:38:46.616897 139670860904320 bert_sct_utils_v2.py:600]   name = module/bert/encoder/layer_4/attention/output/dense/bias:0, shape = (768,)\n"
     ]
    },
    {
     "name": "stdout",
     "output_type": "stream",
     "text": [
      "INFO:tensorflow:  name = module/bert/encoder/layer_4/attention/output/LayerNorm/beta:0, shape = (768,)\n"
     ]
    },
    {
     "name": "stderr",
     "output_type": "stream",
     "text": [
      "I0610 04:38:46.619589 139670860904320 bert_sct_utils_v2.py:600]   name = module/bert/encoder/layer_4/attention/output/LayerNorm/beta:0, shape = (768,)\n"
     ]
    },
    {
     "name": "stdout",
     "output_type": "stream",
     "text": [
      "INFO:tensorflow:  name = module/bert/encoder/layer_4/attention/output/LayerNorm/gamma:0, shape = (768,)\n"
     ]
    },
    {
     "name": "stderr",
     "output_type": "stream",
     "text": [
      "I0610 04:38:46.622315 139670860904320 bert_sct_utils_v2.py:600]   name = module/bert/encoder/layer_4/attention/output/LayerNorm/gamma:0, shape = (768,)\n"
     ]
    },
    {
     "name": "stdout",
     "output_type": "stream",
     "text": [
      "INFO:tensorflow:  name = module/bert/encoder/layer_4/intermediate/dense/kernel:0, shape = (768, 3072)\n"
     ]
    },
    {
     "name": "stderr",
     "output_type": "stream",
     "text": [
      "I0610 04:38:46.624348 139670860904320 bert_sct_utils_v2.py:600]   name = module/bert/encoder/layer_4/intermediate/dense/kernel:0, shape = (768, 3072)\n"
     ]
    },
    {
     "name": "stdout",
     "output_type": "stream",
     "text": [
      "INFO:tensorflow:  name = module/bert/encoder/layer_4/intermediate/dense/bias:0, shape = (3072,)\n"
     ]
    },
    {
     "name": "stderr",
     "output_type": "stream",
     "text": [
      "I0610 04:38:46.626375 139670860904320 bert_sct_utils_v2.py:600]   name = module/bert/encoder/layer_4/intermediate/dense/bias:0, shape = (3072,)\n"
     ]
    },
    {
     "name": "stdout",
     "output_type": "stream",
     "text": [
      "INFO:tensorflow:  name = module/bert/encoder/layer_4/output/dense/kernel:0, shape = (3072, 768)\n"
     ]
    },
    {
     "name": "stderr",
     "output_type": "stream",
     "text": [
      "I0610 04:38:46.628106 139670860904320 bert_sct_utils_v2.py:600]   name = module/bert/encoder/layer_4/output/dense/kernel:0, shape = (3072, 768)\n"
     ]
    },
    {
     "name": "stdout",
     "output_type": "stream",
     "text": [
      "INFO:tensorflow:  name = module/bert/encoder/layer_4/output/dense/bias:0, shape = (768,)\n"
     ]
    },
    {
     "name": "stderr",
     "output_type": "stream",
     "text": [
      "I0610 04:38:46.630755 139670860904320 bert_sct_utils_v2.py:600]   name = module/bert/encoder/layer_4/output/dense/bias:0, shape = (768,)\n"
     ]
    },
    {
     "name": "stdout",
     "output_type": "stream",
     "text": [
      "INFO:tensorflow:  name = module/bert/encoder/layer_4/output/LayerNorm/beta:0, shape = (768,)\n"
     ]
    },
    {
     "name": "stderr",
     "output_type": "stream",
     "text": [
      "I0610 04:38:46.633394 139670860904320 bert_sct_utils_v2.py:600]   name = module/bert/encoder/layer_4/output/LayerNorm/beta:0, shape = (768,)\n"
     ]
    },
    {
     "name": "stdout",
     "output_type": "stream",
     "text": [
      "INFO:tensorflow:  name = module/bert/encoder/layer_4/output/LayerNorm/gamma:0, shape = (768,)\n"
     ]
    },
    {
     "name": "stderr",
     "output_type": "stream",
     "text": [
      "I0610 04:38:46.635740 139670860904320 bert_sct_utils_v2.py:600]   name = module/bert/encoder/layer_4/output/LayerNorm/gamma:0, shape = (768,)\n"
     ]
    },
    {
     "name": "stdout",
     "output_type": "stream",
     "text": [
      "INFO:tensorflow:  name = module/bert/encoder/layer_5/attention/self/query/kernel:0, shape = (768, 768)\n"
     ]
    },
    {
     "name": "stderr",
     "output_type": "stream",
     "text": [
      "I0610 04:38:46.637905 139670860904320 bert_sct_utils_v2.py:600]   name = module/bert/encoder/layer_5/attention/self/query/kernel:0, shape = (768, 768)\n"
     ]
    },
    {
     "name": "stdout",
     "output_type": "stream",
     "text": [
      "INFO:tensorflow:  name = module/bert/encoder/layer_5/attention/self/query/bias:0, shape = (768,)\n"
     ]
    },
    {
     "name": "stderr",
     "output_type": "stream",
     "text": [
      "I0610 04:38:46.640272 139670860904320 bert_sct_utils_v2.py:600]   name = module/bert/encoder/layer_5/attention/self/query/bias:0, shape = (768,)\n"
     ]
    },
    {
     "name": "stdout",
     "output_type": "stream",
     "text": [
      "INFO:tensorflow:  name = module/bert/encoder/layer_5/attention/self/key/kernel:0, shape = (768, 768)\n"
     ]
    },
    {
     "name": "stderr",
     "output_type": "stream",
     "text": [
      "I0610 04:38:46.643905 139670860904320 bert_sct_utils_v2.py:600]   name = module/bert/encoder/layer_5/attention/self/key/kernel:0, shape = (768, 768)\n"
     ]
    },
    {
     "name": "stdout",
     "output_type": "stream",
     "text": [
      "INFO:tensorflow:  name = module/bert/encoder/layer_5/attention/self/key/bias:0, shape = (768,)\n"
     ]
    },
    {
     "name": "stderr",
     "output_type": "stream",
     "text": [
      "I0610 04:38:46.646265 139670860904320 bert_sct_utils_v2.py:600]   name = module/bert/encoder/layer_5/attention/self/key/bias:0, shape = (768,)\n"
     ]
    },
    {
     "name": "stdout",
     "output_type": "stream",
     "text": [
      "INFO:tensorflow:  name = module/bert/encoder/layer_5/attention/self/value/kernel:0, shape = (768, 768)\n"
     ]
    },
    {
     "name": "stderr",
     "output_type": "stream",
     "text": [
      "I0610 04:38:46.650106 139670860904320 bert_sct_utils_v2.py:600]   name = module/bert/encoder/layer_5/attention/self/value/kernel:0, shape = (768, 768)\n"
     ]
    },
    {
     "name": "stdout",
     "output_type": "stream",
     "text": [
      "INFO:tensorflow:  name = module/bert/encoder/layer_5/attention/self/value/bias:0, shape = (768,)\n"
     ]
    },
    {
     "name": "stderr",
     "output_type": "stream",
     "text": [
      "I0610 04:38:46.652216 139670860904320 bert_sct_utils_v2.py:600]   name = module/bert/encoder/layer_5/attention/self/value/bias:0, shape = (768,)\n"
     ]
    },
    {
     "name": "stdout",
     "output_type": "stream",
     "text": [
      "INFO:tensorflow:  name = module/bert/encoder/layer_5/attention/output/dense/kernel:0, shape = (768, 768)\n"
     ]
    },
    {
     "name": "stderr",
     "output_type": "stream",
     "text": [
      "I0610 04:38:46.654901 139670860904320 bert_sct_utils_v2.py:600]   name = module/bert/encoder/layer_5/attention/output/dense/kernel:0, shape = (768, 768)\n"
     ]
    },
    {
     "name": "stdout",
     "output_type": "stream",
     "text": [
      "INFO:tensorflow:  name = module/bert/encoder/layer_5/attention/output/dense/bias:0, shape = (768,)\n"
     ]
    },
    {
     "name": "stderr",
     "output_type": "stream",
     "text": [
      "I0610 04:38:46.657644 139670860904320 bert_sct_utils_v2.py:600]   name = module/bert/encoder/layer_5/attention/output/dense/bias:0, shape = (768,)\n"
     ]
    },
    {
     "name": "stdout",
     "output_type": "stream",
     "text": [
      "INFO:tensorflow:  name = module/bert/encoder/layer_5/attention/output/LayerNorm/beta:0, shape = (768,)\n"
     ]
    },
    {
     "name": "stderr",
     "output_type": "stream",
     "text": [
      "I0610 04:38:46.660254 139670860904320 bert_sct_utils_v2.py:600]   name = module/bert/encoder/layer_5/attention/output/LayerNorm/beta:0, shape = (768,)\n"
     ]
    },
    {
     "name": "stdout",
     "output_type": "stream",
     "text": [
      "INFO:tensorflow:  name = module/bert/encoder/layer_5/attention/output/LayerNorm/gamma:0, shape = (768,)\n"
     ]
    },
    {
     "name": "stderr",
     "output_type": "stream",
     "text": [
      "I0610 04:38:46.662901 139670860904320 bert_sct_utils_v2.py:600]   name = module/bert/encoder/layer_5/attention/output/LayerNorm/gamma:0, shape = (768,)\n"
     ]
    },
    {
     "name": "stdout",
     "output_type": "stream",
     "text": [
      "INFO:tensorflow:  name = module/bert/encoder/layer_5/intermediate/dense/kernel:0, shape = (768, 3072)\n"
     ]
    },
    {
     "name": "stderr",
     "output_type": "stream",
     "text": [
      "I0610 04:38:46.666168 139670860904320 bert_sct_utils_v2.py:600]   name = module/bert/encoder/layer_5/intermediate/dense/kernel:0, shape = (768, 3072)\n"
     ]
    },
    {
     "name": "stdout",
     "output_type": "stream",
     "text": [
      "INFO:tensorflow:  name = module/bert/encoder/layer_5/intermediate/dense/bias:0, shape = (3072,)\n"
     ]
    },
    {
     "name": "stderr",
     "output_type": "stream",
     "text": [
      "I0610 04:38:46.669188 139670860904320 bert_sct_utils_v2.py:600]   name = module/bert/encoder/layer_5/intermediate/dense/bias:0, shape = (3072,)\n"
     ]
    },
    {
     "name": "stdout",
     "output_type": "stream",
     "text": [
      "INFO:tensorflow:  name = module/bert/encoder/layer_5/output/dense/kernel:0, shape = (3072, 768)\n"
     ]
    },
    {
     "name": "stderr",
     "output_type": "stream",
     "text": [
      "I0610 04:38:46.672216 139670860904320 bert_sct_utils_v2.py:600]   name = module/bert/encoder/layer_5/output/dense/kernel:0, shape = (3072, 768)\n"
     ]
    },
    {
     "name": "stdout",
     "output_type": "stream",
     "text": [
      "INFO:tensorflow:  name = module/bert/encoder/layer_5/output/dense/bias:0, shape = (768,)\n"
     ]
    },
    {
     "name": "stderr",
     "output_type": "stream",
     "text": [
      "I0610 04:38:46.674913 139670860904320 bert_sct_utils_v2.py:600]   name = module/bert/encoder/layer_5/output/dense/bias:0, shape = (768,)\n"
     ]
    },
    {
     "name": "stdout",
     "output_type": "stream",
     "text": [
      "INFO:tensorflow:  name = module/bert/encoder/layer_5/output/LayerNorm/beta:0, shape = (768,)\n"
     ]
    },
    {
     "name": "stderr",
     "output_type": "stream",
     "text": [
      "I0610 04:38:46.677578 139670860904320 bert_sct_utils_v2.py:600]   name = module/bert/encoder/layer_5/output/LayerNorm/beta:0, shape = (768,)\n"
     ]
    },
    {
     "name": "stdout",
     "output_type": "stream",
     "text": [
      "INFO:tensorflow:  name = module/bert/encoder/layer_5/output/LayerNorm/gamma:0, shape = (768,)\n"
     ]
    },
    {
     "name": "stderr",
     "output_type": "stream",
     "text": [
      "I0610 04:38:46.680947 139670860904320 bert_sct_utils_v2.py:600]   name = module/bert/encoder/layer_5/output/LayerNorm/gamma:0, shape = (768,)\n"
     ]
    },
    {
     "name": "stdout",
     "output_type": "stream",
     "text": [
      "INFO:tensorflow:  name = module/bert/encoder/layer_6/attention/self/query/kernel:0, shape = (768, 768)\n"
     ]
    },
    {
     "name": "stderr",
     "output_type": "stream",
     "text": [
      "I0610 04:38:46.683604 139670860904320 bert_sct_utils_v2.py:600]   name = module/bert/encoder/layer_6/attention/self/query/kernel:0, shape = (768, 768)\n"
     ]
    },
    {
     "name": "stdout",
     "output_type": "stream",
     "text": [
      "INFO:tensorflow:  name = module/bert/encoder/layer_6/attention/self/query/bias:0, shape = (768,)\n"
     ]
    },
    {
     "name": "stderr",
     "output_type": "stream",
     "text": [
      "I0610 04:38:46.686352 139670860904320 bert_sct_utils_v2.py:600]   name = module/bert/encoder/layer_6/attention/self/query/bias:0, shape = (768,)\n"
     ]
    },
    {
     "name": "stdout",
     "output_type": "stream",
     "text": [
      "INFO:tensorflow:  name = module/bert/encoder/layer_6/attention/self/key/kernel:0, shape = (768, 768)\n"
     ]
    },
    {
     "name": "stderr",
     "output_type": "stream",
     "text": [
      "I0610 04:38:46.689001 139670860904320 bert_sct_utils_v2.py:600]   name = module/bert/encoder/layer_6/attention/self/key/kernel:0, shape = (768, 768)\n"
     ]
    },
    {
     "name": "stdout",
     "output_type": "stream",
     "text": [
      "INFO:tensorflow:  name = module/bert/encoder/layer_6/attention/self/key/bias:0, shape = (768,)\n"
     ]
    },
    {
     "name": "stderr",
     "output_type": "stream",
     "text": [
      "I0610 04:38:46.691828 139670860904320 bert_sct_utils_v2.py:600]   name = module/bert/encoder/layer_6/attention/self/key/bias:0, shape = (768,)\n"
     ]
    },
    {
     "name": "stdout",
     "output_type": "stream",
     "text": [
      "INFO:tensorflow:  name = module/bert/encoder/layer_6/attention/self/value/kernel:0, shape = (768, 768)\n"
     ]
    },
    {
     "name": "stderr",
     "output_type": "stream",
     "text": [
      "I0610 04:38:46.694542 139670860904320 bert_sct_utils_v2.py:600]   name = module/bert/encoder/layer_6/attention/self/value/kernel:0, shape = (768, 768)\n"
     ]
    },
    {
     "name": "stdout",
     "output_type": "stream",
     "text": [
      "INFO:tensorflow:  name = module/bert/encoder/layer_6/attention/self/value/bias:0, shape = (768,)\n"
     ]
    },
    {
     "name": "stderr",
     "output_type": "stream",
     "text": [
      "I0610 04:38:46.696897 139670860904320 bert_sct_utils_v2.py:600]   name = module/bert/encoder/layer_6/attention/self/value/bias:0, shape = (768,)\n"
     ]
    },
    {
     "name": "stdout",
     "output_type": "stream",
     "text": [
      "INFO:tensorflow:  name = module/bert/encoder/layer_6/attention/output/dense/kernel:0, shape = (768, 768)\n"
     ]
    },
    {
     "name": "stderr",
     "output_type": "stream",
     "text": [
      "I0610 04:38:46.699605 139670860904320 bert_sct_utils_v2.py:600]   name = module/bert/encoder/layer_6/attention/output/dense/kernel:0, shape = (768, 768)\n"
     ]
    },
    {
     "name": "stdout",
     "output_type": "stream",
     "text": [
      "INFO:tensorflow:  name = module/bert/encoder/layer_6/attention/output/dense/bias:0, shape = (768,)\n"
     ]
    },
    {
     "name": "stderr",
     "output_type": "stream",
     "text": [
      "I0610 04:38:46.702401 139670860904320 bert_sct_utils_v2.py:600]   name = module/bert/encoder/layer_6/attention/output/dense/bias:0, shape = (768,)\n"
     ]
    },
    {
     "name": "stdout",
     "output_type": "stream",
     "text": [
      "INFO:tensorflow:  name = module/bert/encoder/layer_6/attention/output/LayerNorm/beta:0, shape = (768,)\n"
     ]
    },
    {
     "name": "stderr",
     "output_type": "stream",
     "text": [
      "I0610 04:38:46.705064 139670860904320 bert_sct_utils_v2.py:600]   name = module/bert/encoder/layer_6/attention/output/LayerNorm/beta:0, shape = (768,)\n"
     ]
    },
    {
     "name": "stdout",
     "output_type": "stream",
     "text": [
      "INFO:tensorflow:  name = module/bert/encoder/layer_6/attention/output/LayerNorm/gamma:0, shape = (768,)\n"
     ]
    },
    {
     "name": "stderr",
     "output_type": "stream",
     "text": [
      "I0610 04:38:46.707353 139670860904320 bert_sct_utils_v2.py:600]   name = module/bert/encoder/layer_6/attention/output/LayerNorm/gamma:0, shape = (768,)\n"
     ]
    },
    {
     "name": "stdout",
     "output_type": "stream",
     "text": [
      "INFO:tensorflow:  name = module/bert/encoder/layer_6/intermediate/dense/kernel:0, shape = (768, 3072)\n"
     ]
    },
    {
     "name": "stderr",
     "output_type": "stream",
     "text": [
      "I0610 04:38:46.709558 139670860904320 bert_sct_utils_v2.py:600]   name = module/bert/encoder/layer_6/intermediate/dense/kernel:0, shape = (768, 3072)\n"
     ]
    },
    {
     "name": "stdout",
     "output_type": "stream",
     "text": [
      "INFO:tensorflow:  name = module/bert/encoder/layer_6/intermediate/dense/bias:0, shape = (3072,)\n"
     ]
    },
    {
     "name": "stderr",
     "output_type": "stream",
     "text": [
      "I0610 04:38:46.712365 139670860904320 bert_sct_utils_v2.py:600]   name = module/bert/encoder/layer_6/intermediate/dense/bias:0, shape = (3072,)\n"
     ]
    },
    {
     "name": "stdout",
     "output_type": "stream",
     "text": [
      "INFO:tensorflow:  name = module/bert/encoder/layer_6/output/dense/kernel:0, shape = (3072, 768)\n"
     ]
    },
    {
     "name": "stderr",
     "output_type": "stream",
     "text": [
      "I0610 04:38:46.715111 139670860904320 bert_sct_utils_v2.py:600]   name = module/bert/encoder/layer_6/output/dense/kernel:0, shape = (3072, 768)\n"
     ]
    },
    {
     "name": "stdout",
     "output_type": "stream",
     "text": [
      "INFO:tensorflow:  name = module/bert/encoder/layer_6/output/dense/bias:0, shape = (768,)\n"
     ]
    },
    {
     "name": "stderr",
     "output_type": "stream",
     "text": [
      "I0610 04:38:46.717408 139670860904320 bert_sct_utils_v2.py:600]   name = module/bert/encoder/layer_6/output/dense/bias:0, shape = (768,)\n"
     ]
    },
    {
     "name": "stdout",
     "output_type": "stream",
     "text": [
      "INFO:tensorflow:  name = module/bert/encoder/layer_6/output/LayerNorm/beta:0, shape = (768,)\n"
     ]
    },
    {
     "name": "stderr",
     "output_type": "stream",
     "text": [
      "I0610 04:38:46.720132 139670860904320 bert_sct_utils_v2.py:600]   name = module/bert/encoder/layer_6/output/LayerNorm/beta:0, shape = (768,)\n"
     ]
    },
    {
     "name": "stdout",
     "output_type": "stream",
     "text": [
      "INFO:tensorflow:  name = module/bert/encoder/layer_6/output/LayerNorm/gamma:0, shape = (768,)\n"
     ]
    },
    {
     "name": "stderr",
     "output_type": "stream",
     "text": [
      "I0610 04:38:46.722872 139670860904320 bert_sct_utils_v2.py:600]   name = module/bert/encoder/layer_6/output/LayerNorm/gamma:0, shape = (768,)\n"
     ]
    },
    {
     "name": "stdout",
     "output_type": "stream",
     "text": [
      "INFO:tensorflow:  name = module/bert/encoder/layer_7/attention/self/query/kernel:0, shape = (768, 768)\n"
     ]
    },
    {
     "name": "stderr",
     "output_type": "stream",
     "text": [
      "I0610 04:38:46.726051 139670860904320 bert_sct_utils_v2.py:600]   name = module/bert/encoder/layer_7/attention/self/query/kernel:0, shape = (768, 768)\n"
     ]
    },
    {
     "name": "stdout",
     "output_type": "stream",
     "text": [
      "INFO:tensorflow:  name = module/bert/encoder/layer_7/attention/self/query/bias:0, shape = (768,)\n"
     ]
    },
    {
     "name": "stderr",
     "output_type": "stream",
     "text": [
      "I0610 04:38:46.728837 139670860904320 bert_sct_utils_v2.py:600]   name = module/bert/encoder/layer_7/attention/self/query/bias:0, shape = (768,)\n"
     ]
    },
    {
     "name": "stdout",
     "output_type": "stream",
     "text": [
      "INFO:tensorflow:  name = module/bert/encoder/layer_7/attention/self/key/kernel:0, shape = (768, 768)\n"
     ]
    },
    {
     "name": "stderr",
     "output_type": "stream",
     "text": [
      "I0610 04:38:46.731410 139670860904320 bert_sct_utils_v2.py:600]   name = module/bert/encoder/layer_7/attention/self/key/kernel:0, shape = (768, 768)\n"
     ]
    },
    {
     "name": "stdout",
     "output_type": "stream",
     "text": [
      "INFO:tensorflow:  name = module/bert/encoder/layer_7/attention/self/key/bias:0, shape = (768,)\n"
     ]
    },
    {
     "name": "stderr",
     "output_type": "stream",
     "text": [
      "I0610 04:38:46.735341 139670860904320 bert_sct_utils_v2.py:600]   name = module/bert/encoder/layer_7/attention/self/key/bias:0, shape = (768,)\n"
     ]
    },
    {
     "name": "stdout",
     "output_type": "stream",
     "text": [
      "INFO:tensorflow:  name = module/bert/encoder/layer_7/attention/self/value/kernel:0, shape = (768, 768)\n"
     ]
    },
    {
     "name": "stderr",
     "output_type": "stream",
     "text": [
      "I0610 04:38:46.737421 139670860904320 bert_sct_utils_v2.py:600]   name = module/bert/encoder/layer_7/attention/self/value/kernel:0, shape = (768, 768)\n"
     ]
    },
    {
     "name": "stdout",
     "output_type": "stream",
     "text": [
      "INFO:tensorflow:  name = module/bert/encoder/layer_7/attention/self/value/bias:0, shape = (768,)\n"
     ]
    },
    {
     "name": "stderr",
     "output_type": "stream",
     "text": [
      "I0610 04:38:46.739900 139670860904320 bert_sct_utils_v2.py:600]   name = module/bert/encoder/layer_7/attention/self/value/bias:0, shape = (768,)\n"
     ]
    },
    {
     "name": "stdout",
     "output_type": "stream",
     "text": [
      "INFO:tensorflow:  name = module/bert/encoder/layer_7/attention/output/dense/kernel:0, shape = (768, 768)\n"
     ]
    },
    {
     "name": "stderr",
     "output_type": "stream",
     "text": [
      "I0610 04:38:46.743235 139670860904320 bert_sct_utils_v2.py:600]   name = module/bert/encoder/layer_7/attention/output/dense/kernel:0, shape = (768, 768)\n"
     ]
    },
    {
     "name": "stdout",
     "output_type": "stream",
     "text": [
      "INFO:tensorflow:  name = module/bert/encoder/layer_7/attention/output/dense/bias:0, shape = (768,)\n"
     ]
    },
    {
     "name": "stderr",
     "output_type": "stream",
     "text": [
      "I0610 04:38:46.746701 139670860904320 bert_sct_utils_v2.py:600]   name = module/bert/encoder/layer_7/attention/output/dense/bias:0, shape = (768,)\n"
     ]
    },
    {
     "name": "stdout",
     "output_type": "stream",
     "text": [
      "INFO:tensorflow:  name = module/bert/encoder/layer_7/attention/output/LayerNorm/beta:0, shape = (768,)\n"
     ]
    },
    {
     "name": "stderr",
     "output_type": "stream",
     "text": [
      "I0610 04:38:46.749058 139670860904320 bert_sct_utils_v2.py:600]   name = module/bert/encoder/layer_7/attention/output/LayerNorm/beta:0, shape = (768,)\n"
     ]
    },
    {
     "name": "stdout",
     "output_type": "stream",
     "text": [
      "INFO:tensorflow:  name = module/bert/encoder/layer_7/attention/output/LayerNorm/gamma:0, shape = (768,)\n"
     ]
    },
    {
     "name": "stderr",
     "output_type": "stream",
     "text": [
      "I0610 04:38:46.751756 139670860904320 bert_sct_utils_v2.py:600]   name = module/bert/encoder/layer_7/attention/output/LayerNorm/gamma:0, shape = (768,)\n"
     ]
    },
    {
     "name": "stdout",
     "output_type": "stream",
     "text": [
      "INFO:tensorflow:  name = module/bert/encoder/layer_7/intermediate/dense/kernel:0, shape = (768, 3072)\n"
     ]
    },
    {
     "name": "stderr",
     "output_type": "stream",
     "text": [
      "I0610 04:38:46.754907 139670860904320 bert_sct_utils_v2.py:600]   name = module/bert/encoder/layer_7/intermediate/dense/kernel:0, shape = (768, 3072)\n"
     ]
    },
    {
     "name": "stdout",
     "output_type": "stream",
     "text": [
      "INFO:tensorflow:  name = module/bert/encoder/layer_7/intermediate/dense/bias:0, shape = (3072,)\n"
     ]
    },
    {
     "name": "stderr",
     "output_type": "stream",
     "text": [
      "I0610 04:38:46.757686 139670860904320 bert_sct_utils_v2.py:600]   name = module/bert/encoder/layer_7/intermediate/dense/bias:0, shape = (3072,)\n"
     ]
    },
    {
     "name": "stdout",
     "output_type": "stream",
     "text": [
      "INFO:tensorflow:  name = module/bert/encoder/layer_7/output/dense/kernel:0, shape = (3072, 768)\n"
     ]
    },
    {
     "name": "stderr",
     "output_type": "stream",
     "text": [
      "I0610 04:38:46.760974 139670860904320 bert_sct_utils_v2.py:600]   name = module/bert/encoder/layer_7/output/dense/kernel:0, shape = (3072, 768)\n"
     ]
    },
    {
     "name": "stdout",
     "output_type": "stream",
     "text": [
      "INFO:tensorflow:  name = module/bert/encoder/layer_7/output/dense/bias:0, shape = (768,)\n"
     ]
    },
    {
     "name": "stderr",
     "output_type": "stream",
     "text": [
      "I0610 04:38:46.764544 139670860904320 bert_sct_utils_v2.py:600]   name = module/bert/encoder/layer_7/output/dense/bias:0, shape = (768,)\n"
     ]
    },
    {
     "name": "stdout",
     "output_type": "stream",
     "text": [
      "INFO:tensorflow:  name = module/bert/encoder/layer_7/output/LayerNorm/beta:0, shape = (768,)\n"
     ]
    },
    {
     "name": "stderr",
     "output_type": "stream",
     "text": [
      "I0610 04:38:46.766888 139670860904320 bert_sct_utils_v2.py:600]   name = module/bert/encoder/layer_7/output/LayerNorm/beta:0, shape = (768,)\n"
     ]
    },
    {
     "name": "stdout",
     "output_type": "stream",
     "text": [
      "INFO:tensorflow:  name = module/bert/encoder/layer_7/output/LayerNorm/gamma:0, shape = (768,)\n"
     ]
    },
    {
     "name": "stderr",
     "output_type": "stream",
     "text": [
      "I0610 04:38:46.769545 139670860904320 bert_sct_utils_v2.py:600]   name = module/bert/encoder/layer_7/output/LayerNorm/gamma:0, shape = (768,)\n"
     ]
    },
    {
     "name": "stdout",
     "output_type": "stream",
     "text": [
      "INFO:tensorflow:  name = module/bert/encoder/layer_8/attention/self/query/kernel:0, shape = (768, 768)\n"
     ]
    },
    {
     "name": "stderr",
     "output_type": "stream",
     "text": [
      "I0610 04:38:46.772720 139670860904320 bert_sct_utils_v2.py:600]   name = module/bert/encoder/layer_8/attention/self/query/kernel:0, shape = (768, 768)\n"
     ]
    },
    {
     "name": "stdout",
     "output_type": "stream",
     "text": [
      "INFO:tensorflow:  name = module/bert/encoder/layer_8/attention/self/query/bias:0, shape = (768,)\n"
     ]
    },
    {
     "name": "stderr",
     "output_type": "stream",
     "text": [
      "I0610 04:38:46.775617 139670860904320 bert_sct_utils_v2.py:600]   name = module/bert/encoder/layer_8/attention/self/query/bias:0, shape = (768,)\n"
     ]
    },
    {
     "name": "stdout",
     "output_type": "stream",
     "text": [
      "INFO:tensorflow:  name = module/bert/encoder/layer_8/attention/self/key/kernel:0, shape = (768, 768)\n"
     ]
    },
    {
     "name": "stderr",
     "output_type": "stream",
     "text": [
      "I0610 04:38:46.778275 139670860904320 bert_sct_utils_v2.py:600]   name = module/bert/encoder/layer_8/attention/self/key/kernel:0, shape = (768, 768)\n"
     ]
    },
    {
     "name": "stdout",
     "output_type": "stream",
     "text": [
      "INFO:tensorflow:  name = module/bert/encoder/layer_8/attention/self/key/bias:0, shape = (768,)\n"
     ]
    },
    {
     "name": "stderr",
     "output_type": "stream",
     "text": [
      "I0610 04:38:46.781382 139670860904320 bert_sct_utils_v2.py:600]   name = module/bert/encoder/layer_8/attention/self/key/bias:0, shape = (768,)\n"
     ]
    },
    {
     "name": "stdout",
     "output_type": "stream",
     "text": [
      "INFO:tensorflow:  name = module/bert/encoder/layer_8/attention/self/value/kernel:0, shape = (768, 768)\n"
     ]
    },
    {
     "name": "stderr",
     "output_type": "stream",
     "text": [
      "I0610 04:38:46.784012 139670860904320 bert_sct_utils_v2.py:600]   name = module/bert/encoder/layer_8/attention/self/value/kernel:0, shape = (768, 768)\n"
     ]
    },
    {
     "name": "stdout",
     "output_type": "stream",
     "text": [
      "INFO:tensorflow:  name = module/bert/encoder/layer_8/attention/self/value/bias:0, shape = (768,)\n"
     ]
    },
    {
     "name": "stderr",
     "output_type": "stream",
     "text": [
      "I0610 04:38:46.786785 139670860904320 bert_sct_utils_v2.py:600]   name = module/bert/encoder/layer_8/attention/self/value/bias:0, shape = (768,)\n"
     ]
    },
    {
     "name": "stdout",
     "output_type": "stream",
     "text": [
      "INFO:tensorflow:  name = module/bert/encoder/layer_8/attention/output/dense/kernel:0, shape = (768, 768)\n"
     ]
    },
    {
     "name": "stderr",
     "output_type": "stream",
     "text": [
      "I0610 04:38:46.789490 139670860904320 bert_sct_utils_v2.py:600]   name = module/bert/encoder/layer_8/attention/output/dense/kernel:0, shape = (768, 768)\n"
     ]
    },
    {
     "name": "stdout",
     "output_type": "stream",
     "text": [
      "INFO:tensorflow:  name = module/bert/encoder/layer_8/attention/output/dense/bias:0, shape = (768,)\n"
     ]
    },
    {
     "name": "stderr",
     "output_type": "stream",
     "text": [
      "I0610 04:38:46.792526 139670860904320 bert_sct_utils_v2.py:600]   name = module/bert/encoder/layer_8/attention/output/dense/bias:0, shape = (768,)\n"
     ]
    },
    {
     "name": "stdout",
     "output_type": "stream",
     "text": [
      "INFO:tensorflow:  name = module/bert/encoder/layer_8/attention/output/LayerNorm/beta:0, shape = (768,)\n"
     ]
    },
    {
     "name": "stderr",
     "output_type": "stream",
     "text": [
      "I0610 04:38:46.795195 139670860904320 bert_sct_utils_v2.py:600]   name = module/bert/encoder/layer_8/attention/output/LayerNorm/beta:0, shape = (768,)\n"
     ]
    },
    {
     "name": "stdout",
     "output_type": "stream",
     "text": [
      "INFO:tensorflow:  name = module/bert/encoder/layer_8/attention/output/LayerNorm/gamma:0, shape = (768,)\n"
     ]
    },
    {
     "name": "stderr",
     "output_type": "stream",
     "text": [
      "I0610 04:38:46.797792 139670860904320 bert_sct_utils_v2.py:600]   name = module/bert/encoder/layer_8/attention/output/LayerNorm/gamma:0, shape = (768,)\n"
     ]
    },
    {
     "name": "stdout",
     "output_type": "stream",
     "text": [
      "INFO:tensorflow:  name = module/bert/encoder/layer_8/intermediate/dense/kernel:0, shape = (768, 3072)\n"
     ]
    },
    {
     "name": "stderr",
     "output_type": "stream",
     "text": [
      "I0610 04:38:46.800572 139670860904320 bert_sct_utils_v2.py:600]   name = module/bert/encoder/layer_8/intermediate/dense/kernel:0, shape = (768, 3072)\n"
     ]
    },
    {
     "name": "stdout",
     "output_type": "stream",
     "text": [
      "INFO:tensorflow:  name = module/bert/encoder/layer_8/intermediate/dense/bias:0, shape = (3072,)\n"
     ]
    },
    {
     "name": "stderr",
     "output_type": "stream",
     "text": [
      "I0610 04:38:46.803113 139670860904320 bert_sct_utils_v2.py:600]   name = module/bert/encoder/layer_8/intermediate/dense/bias:0, shape = (3072,)\n"
     ]
    },
    {
     "name": "stdout",
     "output_type": "stream",
     "text": [
      "INFO:tensorflow:  name = module/bert/encoder/layer_8/output/dense/kernel:0, shape = (3072, 768)\n"
     ]
    },
    {
     "name": "stderr",
     "output_type": "stream",
     "text": [
      "I0610 04:38:46.806250 139670860904320 bert_sct_utils_v2.py:600]   name = module/bert/encoder/layer_8/output/dense/kernel:0, shape = (3072, 768)\n"
     ]
    },
    {
     "name": "stdout",
     "output_type": "stream",
     "text": [
      "INFO:tensorflow:  name = module/bert/encoder/layer_8/output/dense/bias:0, shape = (768,)\n"
     ]
    },
    {
     "name": "stderr",
     "output_type": "stream",
     "text": [
      "I0610 04:38:46.808760 139670860904320 bert_sct_utils_v2.py:600]   name = module/bert/encoder/layer_8/output/dense/bias:0, shape = (768,)\n"
     ]
    },
    {
     "name": "stdout",
     "output_type": "stream",
     "text": [
      "INFO:tensorflow:  name = module/bert/encoder/layer_8/output/LayerNorm/beta:0, shape = (768,)\n"
     ]
    },
    {
     "name": "stderr",
     "output_type": "stream",
     "text": [
      "I0610 04:38:46.811587 139670860904320 bert_sct_utils_v2.py:600]   name = module/bert/encoder/layer_8/output/LayerNorm/beta:0, shape = (768,)\n"
     ]
    },
    {
     "name": "stdout",
     "output_type": "stream",
     "text": [
      "INFO:tensorflow:  name = module/bert/encoder/layer_8/output/LayerNorm/gamma:0, shape = (768,)\n"
     ]
    },
    {
     "name": "stderr",
     "output_type": "stream",
     "text": [
      "I0610 04:38:46.813875 139670860904320 bert_sct_utils_v2.py:600]   name = module/bert/encoder/layer_8/output/LayerNorm/gamma:0, shape = (768,)\n"
     ]
    },
    {
     "name": "stdout",
     "output_type": "stream",
     "text": [
      "INFO:tensorflow:  name = module/bert/encoder/layer_9/attention/self/query/kernel:0, shape = (768, 768)\n"
     ]
    },
    {
     "name": "stderr",
     "output_type": "stream",
     "text": [
      "I0610 04:38:46.816470 139670860904320 bert_sct_utils_v2.py:600]   name = module/bert/encoder/layer_9/attention/self/query/kernel:0, shape = (768, 768)\n"
     ]
    },
    {
     "name": "stdout",
     "output_type": "stream",
     "text": [
      "INFO:tensorflow:  name = module/bert/encoder/layer_9/attention/self/query/bias:0, shape = (768,)\n"
     ]
    },
    {
     "name": "stderr",
     "output_type": "stream",
     "text": [
      "I0610 04:38:46.819136 139670860904320 bert_sct_utils_v2.py:600]   name = module/bert/encoder/layer_9/attention/self/query/bias:0, shape = (768,)\n"
     ]
    },
    {
     "name": "stdout",
     "output_type": "stream",
     "text": [
      "INFO:tensorflow:  name = module/bert/encoder/layer_9/attention/self/key/kernel:0, shape = (768, 768)\n"
     ]
    },
    {
     "name": "stderr",
     "output_type": "stream",
     "text": [
      "I0610 04:38:46.821843 139670860904320 bert_sct_utils_v2.py:600]   name = module/bert/encoder/layer_9/attention/self/key/kernel:0, shape = (768, 768)\n"
     ]
    },
    {
     "name": "stdout",
     "output_type": "stream",
     "text": [
      "INFO:tensorflow:  name = module/bert/encoder/layer_9/attention/self/key/bias:0, shape = (768,)\n"
     ]
    },
    {
     "name": "stderr",
     "output_type": "stream",
     "text": [
      "I0610 04:38:46.824522 139670860904320 bert_sct_utils_v2.py:600]   name = module/bert/encoder/layer_9/attention/self/key/bias:0, shape = (768,)\n"
     ]
    },
    {
     "name": "stdout",
     "output_type": "stream",
     "text": [
      "INFO:tensorflow:  name = module/bert/encoder/layer_9/attention/self/value/kernel:0, shape = (768, 768)\n"
     ]
    },
    {
     "name": "stderr",
     "output_type": "stream",
     "text": [
      "I0610 04:38:46.827244 139670860904320 bert_sct_utils_v2.py:600]   name = module/bert/encoder/layer_9/attention/self/value/kernel:0, shape = (768, 768)\n"
     ]
    },
    {
     "name": "stdout",
     "output_type": "stream",
     "text": [
      "INFO:tensorflow:  name = module/bert/encoder/layer_9/attention/self/value/bias:0, shape = (768,)\n"
     ]
    },
    {
     "name": "stderr",
     "output_type": "stream",
     "text": [
      "I0610 04:38:46.830390 139670860904320 bert_sct_utils_v2.py:600]   name = module/bert/encoder/layer_9/attention/self/value/bias:0, shape = (768,)\n"
     ]
    },
    {
     "name": "stdout",
     "output_type": "stream",
     "text": [
      "INFO:tensorflow:  name = module/bert/encoder/layer_9/attention/output/dense/kernel:0, shape = (768, 768)\n"
     ]
    },
    {
     "name": "stderr",
     "output_type": "stream",
     "text": [
      "I0610 04:38:46.833006 139670860904320 bert_sct_utils_v2.py:600]   name = module/bert/encoder/layer_9/attention/output/dense/kernel:0, shape = (768, 768)\n"
     ]
    },
    {
     "name": "stdout",
     "output_type": "stream",
     "text": [
      "INFO:tensorflow:  name = module/bert/encoder/layer_9/attention/output/dense/bias:0, shape = (768,)\n"
     ]
    },
    {
     "name": "stderr",
     "output_type": "stream",
     "text": [
      "I0610 04:38:46.835445 139670860904320 bert_sct_utils_v2.py:600]   name = module/bert/encoder/layer_9/attention/output/dense/bias:0, shape = (768,)\n"
     ]
    },
    {
     "name": "stdout",
     "output_type": "stream",
     "text": [
      "INFO:tensorflow:  name = module/bert/encoder/layer_9/attention/output/LayerNorm/beta:0, shape = (768,)\n"
     ]
    },
    {
     "name": "stderr",
     "output_type": "stream",
     "text": [
      "I0610 04:38:46.837749 139670860904320 bert_sct_utils_v2.py:600]   name = module/bert/encoder/layer_9/attention/output/LayerNorm/beta:0, shape = (768,)\n"
     ]
    },
    {
     "name": "stdout",
     "output_type": "stream",
     "text": [
      "INFO:tensorflow:  name = module/bert/encoder/layer_9/attention/output/LayerNorm/gamma:0, shape = (768,)\n"
     ]
    },
    {
     "name": "stderr",
     "output_type": "stream",
     "text": [
      "I0610 04:38:46.839642 139670860904320 bert_sct_utils_v2.py:600]   name = module/bert/encoder/layer_9/attention/output/LayerNorm/gamma:0, shape = (768,)\n"
     ]
    },
    {
     "name": "stdout",
     "output_type": "stream",
     "text": [
      "INFO:tensorflow:  name = module/bert/encoder/layer_9/intermediate/dense/kernel:0, shape = (768, 3072)\n"
     ]
    },
    {
     "name": "stderr",
     "output_type": "stream",
     "text": [
      "I0610 04:38:46.842359 139670860904320 bert_sct_utils_v2.py:600]   name = module/bert/encoder/layer_9/intermediate/dense/kernel:0, shape = (768, 3072)\n"
     ]
    },
    {
     "name": "stdout",
     "output_type": "stream",
     "text": [
      "INFO:tensorflow:  name = module/bert/encoder/layer_9/intermediate/dense/bias:0, shape = (3072,)\n"
     ]
    },
    {
     "name": "stderr",
     "output_type": "stream",
     "text": [
      "I0610 04:38:46.845057 139670860904320 bert_sct_utils_v2.py:600]   name = module/bert/encoder/layer_9/intermediate/dense/bias:0, shape = (3072,)\n"
     ]
    },
    {
     "name": "stdout",
     "output_type": "stream",
     "text": [
      "INFO:tensorflow:  name = module/bert/encoder/layer_9/output/dense/kernel:0, shape = (3072, 768)\n"
     ]
    },
    {
     "name": "stderr",
     "output_type": "stream",
     "text": [
      "I0610 04:38:46.848313 139670860904320 bert_sct_utils_v2.py:600]   name = module/bert/encoder/layer_9/output/dense/kernel:0, shape = (3072, 768)\n"
     ]
    },
    {
     "name": "stdout",
     "output_type": "stream",
     "text": [
      "INFO:tensorflow:  name = module/bert/encoder/layer_9/output/dense/bias:0, shape = (768,)\n"
     ]
    },
    {
     "name": "stderr",
     "output_type": "stream",
     "text": [
      "I0610 04:38:46.851033 139670860904320 bert_sct_utils_v2.py:600]   name = module/bert/encoder/layer_9/output/dense/bias:0, shape = (768,)\n"
     ]
    },
    {
     "name": "stdout",
     "output_type": "stream",
     "text": [
      "INFO:tensorflow:  name = module/bert/encoder/layer_9/output/LayerNorm/beta:0, shape = (768,)\n"
     ]
    },
    {
     "name": "stderr",
     "output_type": "stream",
     "text": [
      "I0610 04:38:46.854030 139670860904320 bert_sct_utils_v2.py:600]   name = module/bert/encoder/layer_9/output/LayerNorm/beta:0, shape = (768,)\n"
     ]
    },
    {
     "name": "stdout",
     "output_type": "stream",
     "text": [
      "INFO:tensorflow:  name = module/bert/encoder/layer_9/output/LayerNorm/gamma:0, shape = (768,)\n"
     ]
    },
    {
     "name": "stderr",
     "output_type": "stream",
     "text": [
      "I0610 04:38:46.857071 139670860904320 bert_sct_utils_v2.py:600]   name = module/bert/encoder/layer_9/output/LayerNorm/gamma:0, shape = (768,)\n"
     ]
    },
    {
     "name": "stdout",
     "output_type": "stream",
     "text": [
      "INFO:tensorflow:  name = module/bert/encoder/layer_10/attention/self/query/kernel:0, shape = (768, 768)\n"
     ]
    },
    {
     "name": "stderr",
     "output_type": "stream",
     "text": [
      "I0610 04:38:46.859563 139670860904320 bert_sct_utils_v2.py:600]   name = module/bert/encoder/layer_10/attention/self/query/kernel:0, shape = (768, 768)\n"
     ]
    },
    {
     "name": "stdout",
     "output_type": "stream",
     "text": [
      "INFO:tensorflow:  name = module/bert/encoder/layer_10/attention/self/query/bias:0, shape = (768,)\n"
     ]
    },
    {
     "name": "stderr",
     "output_type": "stream",
     "text": [
      "I0610 04:38:46.861962 139670860904320 bert_sct_utils_v2.py:600]   name = module/bert/encoder/layer_10/attention/self/query/bias:0, shape = (768,)\n"
     ]
    },
    {
     "name": "stdout",
     "output_type": "stream",
     "text": [
      "INFO:tensorflow:  name = module/bert/encoder/layer_10/attention/self/key/kernel:0, shape = (768, 768)\n"
     ]
    },
    {
     "name": "stderr",
     "output_type": "stream",
     "text": [
      "I0610 04:38:46.864985 139670860904320 bert_sct_utils_v2.py:600]   name = module/bert/encoder/layer_10/attention/self/key/kernel:0, shape = (768, 768)\n"
     ]
    },
    {
     "name": "stdout",
     "output_type": "stream",
     "text": [
      "INFO:tensorflow:  name = module/bert/encoder/layer_10/attention/self/key/bias:0, shape = (768,)\n"
     ]
    },
    {
     "name": "stderr",
     "output_type": "stream",
     "text": [
      "I0610 04:38:46.866738 139670860904320 bert_sct_utils_v2.py:600]   name = module/bert/encoder/layer_10/attention/self/key/bias:0, shape = (768,)\n"
     ]
    },
    {
     "name": "stdout",
     "output_type": "stream",
     "text": [
      "INFO:tensorflow:  name = module/bert/encoder/layer_10/attention/self/value/kernel:0, shape = (768, 768)\n"
     ]
    },
    {
     "name": "stderr",
     "output_type": "stream",
     "text": [
      "I0610 04:38:46.872915 139670860904320 bert_sct_utils_v2.py:600]   name = module/bert/encoder/layer_10/attention/self/value/kernel:0, shape = (768, 768)\n"
     ]
    },
    {
     "name": "stdout",
     "output_type": "stream",
     "text": [
      "INFO:tensorflow:  name = module/bert/encoder/layer_10/attention/self/value/bias:0, shape = (768,)\n"
     ]
    },
    {
     "name": "stderr",
     "output_type": "stream",
     "text": [
      "I0610 04:38:46.874695 139670860904320 bert_sct_utils_v2.py:600]   name = module/bert/encoder/layer_10/attention/self/value/bias:0, shape = (768,)\n"
     ]
    },
    {
     "name": "stdout",
     "output_type": "stream",
     "text": [
      "INFO:tensorflow:  name = module/bert/encoder/layer_10/attention/output/dense/kernel:0, shape = (768, 768)\n"
     ]
    },
    {
     "name": "stderr",
     "output_type": "stream",
     "text": [
      "I0610 04:38:46.879078 139670860904320 bert_sct_utils_v2.py:600]   name = module/bert/encoder/layer_10/attention/output/dense/kernel:0, shape = (768, 768)\n"
     ]
    },
    {
     "name": "stdout",
     "output_type": "stream",
     "text": [
      "INFO:tensorflow:  name = module/bert/encoder/layer_10/attention/output/dense/bias:0, shape = (768,)\n"
     ]
    },
    {
     "name": "stderr",
     "output_type": "stream",
     "text": [
      "I0610 04:38:46.881773 139670860904320 bert_sct_utils_v2.py:600]   name = module/bert/encoder/layer_10/attention/output/dense/bias:0, shape = (768,)\n"
     ]
    },
    {
     "name": "stdout",
     "output_type": "stream",
     "text": [
      "INFO:tensorflow:  name = module/bert/encoder/layer_10/attention/output/LayerNorm/beta:0, shape = (768,)\n"
     ]
    },
    {
     "name": "stderr",
     "output_type": "stream",
     "text": [
      "I0610 04:38:46.886303 139670860904320 bert_sct_utils_v2.py:600]   name = module/bert/encoder/layer_10/attention/output/LayerNorm/beta:0, shape = (768,)\n"
     ]
    },
    {
     "name": "stdout",
     "output_type": "stream",
     "text": [
      "INFO:tensorflow:  name = module/bert/encoder/layer_10/attention/output/LayerNorm/gamma:0, shape = (768,)\n"
     ]
    },
    {
     "name": "stderr",
     "output_type": "stream",
     "text": [
      "I0610 04:38:46.887985 139670860904320 bert_sct_utils_v2.py:600]   name = module/bert/encoder/layer_10/attention/output/LayerNorm/gamma:0, shape = (768,)\n"
     ]
    },
    {
     "name": "stdout",
     "output_type": "stream",
     "text": [
      "INFO:tensorflow:  name = module/bert/encoder/layer_10/intermediate/dense/kernel:0, shape = (768, 3072)\n"
     ]
    },
    {
     "name": "stderr",
     "output_type": "stream",
     "text": [
      "I0610 04:38:46.890597 139670860904320 bert_sct_utils_v2.py:600]   name = module/bert/encoder/layer_10/intermediate/dense/kernel:0, shape = (768, 3072)\n"
     ]
    },
    {
     "name": "stdout",
     "output_type": "stream",
     "text": [
      "INFO:tensorflow:  name = module/bert/encoder/layer_10/intermediate/dense/bias:0, shape = (3072,)\n"
     ]
    },
    {
     "name": "stderr",
     "output_type": "stream",
     "text": [
      "I0610 04:38:46.892550 139670860904320 bert_sct_utils_v2.py:600]   name = module/bert/encoder/layer_10/intermediate/dense/bias:0, shape = (3072,)\n"
     ]
    },
    {
     "name": "stdout",
     "output_type": "stream",
     "text": [
      "INFO:tensorflow:  name = module/bert/encoder/layer_10/output/dense/kernel:0, shape = (3072, 768)\n"
     ]
    },
    {
     "name": "stderr",
     "output_type": "stream",
     "text": [
      "I0610 04:38:46.897054 139670860904320 bert_sct_utils_v2.py:600]   name = module/bert/encoder/layer_10/output/dense/kernel:0, shape = (3072, 768)\n"
     ]
    },
    {
     "name": "stdout",
     "output_type": "stream",
     "text": [
      "INFO:tensorflow:  name = module/bert/encoder/layer_10/output/dense/bias:0, shape = (768,)\n"
     ]
    },
    {
     "name": "stderr",
     "output_type": "stream",
     "text": [
      "I0610 04:38:46.900412 139670860904320 bert_sct_utils_v2.py:600]   name = module/bert/encoder/layer_10/output/dense/bias:0, shape = (768,)\n"
     ]
    },
    {
     "name": "stdout",
     "output_type": "stream",
     "text": [
      "INFO:tensorflow:  name = module/bert/encoder/layer_10/output/LayerNorm/beta:0, shape = (768,)\n"
     ]
    },
    {
     "name": "stderr",
     "output_type": "stream",
     "text": [
      "I0610 04:38:46.906559 139670860904320 bert_sct_utils_v2.py:600]   name = module/bert/encoder/layer_10/output/LayerNorm/beta:0, shape = (768,)\n"
     ]
    },
    {
     "name": "stdout",
     "output_type": "stream",
     "text": [
      "INFO:tensorflow:  name = module/bert/encoder/layer_10/output/LayerNorm/gamma:0, shape = (768,)\n"
     ]
    },
    {
     "name": "stderr",
     "output_type": "stream",
     "text": [
      "I0610 04:38:46.908294 139670860904320 bert_sct_utils_v2.py:600]   name = module/bert/encoder/layer_10/output/LayerNorm/gamma:0, shape = (768,)\n"
     ]
    },
    {
     "name": "stdout",
     "output_type": "stream",
     "text": [
      "INFO:tensorflow:  name = module/bert/encoder/layer_11/attention/self/query/kernel:0, shape = (768, 768)\n"
     ]
    },
    {
     "name": "stderr",
     "output_type": "stream",
     "text": [
      "I0610 04:38:46.910744 139670860904320 bert_sct_utils_v2.py:600]   name = module/bert/encoder/layer_11/attention/self/query/kernel:0, shape = (768, 768)\n"
     ]
    },
    {
     "name": "stdout",
     "output_type": "stream",
     "text": [
      "INFO:tensorflow:  name = module/bert/encoder/layer_11/attention/self/query/bias:0, shape = (768,)\n"
     ]
    },
    {
     "name": "stderr",
     "output_type": "stream",
     "text": [
      "I0610 04:38:46.913116 139670860904320 bert_sct_utils_v2.py:600]   name = module/bert/encoder/layer_11/attention/self/query/bias:0, shape = (768,)\n"
     ]
    },
    {
     "name": "stdout",
     "output_type": "stream",
     "text": [
      "INFO:tensorflow:  name = module/bert/encoder/layer_11/attention/self/key/kernel:0, shape = (768, 768)\n"
     ]
    },
    {
     "name": "stderr",
     "output_type": "stream",
     "text": [
      "I0610 04:38:46.915187 139670860904320 bert_sct_utils_v2.py:600]   name = module/bert/encoder/layer_11/attention/self/key/kernel:0, shape = (768, 768)\n"
     ]
    },
    {
     "name": "stdout",
     "output_type": "stream",
     "text": [
      "INFO:tensorflow:  name = module/bert/encoder/layer_11/attention/self/key/bias:0, shape = (768,)\n"
     ]
    },
    {
     "name": "stderr",
     "output_type": "stream",
     "text": [
      "I0610 04:38:46.916971 139670860904320 bert_sct_utils_v2.py:600]   name = module/bert/encoder/layer_11/attention/self/key/bias:0, shape = (768,)\n"
     ]
    },
    {
     "name": "stdout",
     "output_type": "stream",
     "text": [
      "INFO:tensorflow:  name = module/bert/encoder/layer_11/attention/self/value/kernel:0, shape = (768, 768)\n"
     ]
    },
    {
     "name": "stderr",
     "output_type": "stream",
     "text": [
      "I0610 04:38:46.919034 139670860904320 bert_sct_utils_v2.py:600]   name = module/bert/encoder/layer_11/attention/self/value/kernel:0, shape = (768, 768)\n"
     ]
    },
    {
     "name": "stdout",
     "output_type": "stream",
     "text": [
      "INFO:tensorflow:  name = module/bert/encoder/layer_11/attention/self/value/bias:0, shape = (768,)\n"
     ]
    },
    {
     "name": "stderr",
     "output_type": "stream",
     "text": [
      "I0610 04:38:46.921438 139670860904320 bert_sct_utils_v2.py:600]   name = module/bert/encoder/layer_11/attention/self/value/bias:0, shape = (768,)\n"
     ]
    },
    {
     "name": "stdout",
     "output_type": "stream",
     "text": [
      "INFO:tensorflow:  name = module/bert/encoder/layer_11/attention/output/dense/kernel:0, shape = (768, 768)\n"
     ]
    },
    {
     "name": "stderr",
     "output_type": "stream",
     "text": [
      "I0610 04:38:46.924115 139670860904320 bert_sct_utils_v2.py:600]   name = module/bert/encoder/layer_11/attention/output/dense/kernel:0, shape = (768, 768)\n"
     ]
    },
    {
     "name": "stdout",
     "output_type": "stream",
     "text": [
      "INFO:tensorflow:  name = module/bert/encoder/layer_11/attention/output/dense/bias:0, shape = (768,)\n"
     ]
    },
    {
     "name": "stderr",
     "output_type": "stream",
     "text": [
      "I0610 04:38:46.926182 139670860904320 bert_sct_utils_v2.py:600]   name = module/bert/encoder/layer_11/attention/output/dense/bias:0, shape = (768,)\n"
     ]
    },
    {
     "name": "stdout",
     "output_type": "stream",
     "text": [
      "INFO:tensorflow:  name = module/bert/encoder/layer_11/attention/output/LayerNorm/beta:0, shape = (768,)\n"
     ]
    },
    {
     "name": "stderr",
     "output_type": "stream",
     "text": [
      "I0610 04:38:46.928038 139670860904320 bert_sct_utils_v2.py:600]   name = module/bert/encoder/layer_11/attention/output/LayerNorm/beta:0, shape = (768,)\n"
     ]
    },
    {
     "name": "stdout",
     "output_type": "stream",
     "text": [
      "INFO:tensorflow:  name = module/bert/encoder/layer_11/attention/output/LayerNorm/gamma:0, shape = (768,)\n"
     ]
    },
    {
     "name": "stderr",
     "output_type": "stream",
     "text": [
      "I0610 04:38:46.930003 139670860904320 bert_sct_utils_v2.py:600]   name = module/bert/encoder/layer_11/attention/output/LayerNorm/gamma:0, shape = (768,)\n"
     ]
    },
    {
     "name": "stdout",
     "output_type": "stream",
     "text": [
      "INFO:tensorflow:  name = module/bert/encoder/layer_11/intermediate/dense/kernel:0, shape = (768, 3072)\n"
     ]
    },
    {
     "name": "stderr",
     "output_type": "stream",
     "text": [
      "I0610 04:38:46.932786 139670860904320 bert_sct_utils_v2.py:600]   name = module/bert/encoder/layer_11/intermediate/dense/kernel:0, shape = (768, 3072)\n"
     ]
    },
    {
     "name": "stdout",
     "output_type": "stream",
     "text": [
      "INFO:tensorflow:  name = module/bert/encoder/layer_11/intermediate/dense/bias:0, shape = (3072,)\n"
     ]
    },
    {
     "name": "stderr",
     "output_type": "stream",
     "text": [
      "I0610 04:38:46.935154 139670860904320 bert_sct_utils_v2.py:600]   name = module/bert/encoder/layer_11/intermediate/dense/bias:0, shape = (3072,)\n"
     ]
    },
    {
     "name": "stdout",
     "output_type": "stream",
     "text": [
      "INFO:tensorflow:  name = module/bert/encoder/layer_11/output/dense/kernel:0, shape = (3072, 768)\n"
     ]
    },
    {
     "name": "stderr",
     "output_type": "stream",
     "text": [
      "I0610 04:38:46.937316 139670860904320 bert_sct_utils_v2.py:600]   name = module/bert/encoder/layer_11/output/dense/kernel:0, shape = (3072, 768)\n"
     ]
    },
    {
     "name": "stdout",
     "output_type": "stream",
     "text": [
      "INFO:tensorflow:  name = module/bert/encoder/layer_11/output/dense/bias:0, shape = (768,)\n"
     ]
    },
    {
     "name": "stderr",
     "output_type": "stream",
     "text": [
      "I0610 04:38:46.939157 139670860904320 bert_sct_utils_v2.py:600]   name = module/bert/encoder/layer_11/output/dense/bias:0, shape = (768,)\n"
     ]
    },
    {
     "name": "stdout",
     "output_type": "stream",
     "text": [
      "INFO:tensorflow:  name = module/bert/encoder/layer_11/output/LayerNorm/beta:0, shape = (768,)\n"
     ]
    },
    {
     "name": "stderr",
     "output_type": "stream",
     "text": [
      "I0610 04:38:46.941113 139670860904320 bert_sct_utils_v2.py:600]   name = module/bert/encoder/layer_11/output/LayerNorm/beta:0, shape = (768,)\n"
     ]
    },
    {
     "name": "stdout",
     "output_type": "stream",
     "text": [
      "INFO:tensorflow:  name = module/bert/encoder/layer_11/output/LayerNorm/gamma:0, shape = (768,)\n"
     ]
    },
    {
     "name": "stderr",
     "output_type": "stream",
     "text": [
      "I0610 04:38:46.943619 139670860904320 bert_sct_utils_v2.py:600]   name = module/bert/encoder/layer_11/output/LayerNorm/gamma:0, shape = (768,)\n"
     ]
    },
    {
     "name": "stdout",
     "output_type": "stream",
     "text": [
      "INFO:tensorflow:  name = module/bert/pooler/dense/kernel:0, shape = (768, 768)\n"
     ]
    },
    {
     "name": "stderr",
     "output_type": "stream",
     "text": [
      "I0610 04:38:46.945566 139670860904320 bert_sct_utils_v2.py:600]   name = module/bert/pooler/dense/kernel:0, shape = (768, 768)\n"
     ]
    },
    {
     "name": "stdout",
     "output_type": "stream",
     "text": [
      "INFO:tensorflow:  name = module/bert/pooler/dense/bias:0, shape = (768,)\n"
     ]
    },
    {
     "name": "stderr",
     "output_type": "stream",
     "text": [
      "I0610 04:38:46.947458 139670860904320 bert_sct_utils_v2.py:600]   name = module/bert/pooler/dense/bias:0, shape = (768,)\n"
     ]
    },
    {
     "name": "stdout",
     "output_type": "stream",
     "text": [
      "INFO:tensorflow:  name = module/cls/predictions/transform/dense/kernel:0, shape = (768, 768)\n"
     ]
    },
    {
     "name": "stderr",
     "output_type": "stream",
     "text": [
      "I0610 04:38:46.949913 139670860904320 bert_sct_utils_v2.py:600]   name = module/cls/predictions/transform/dense/kernel:0, shape = (768, 768)\n"
     ]
    },
    {
     "name": "stdout",
     "output_type": "stream",
     "text": [
      "INFO:tensorflow:  name = module/cls/predictions/transform/dense/bias:0, shape = (768,)\n"
     ]
    },
    {
     "name": "stderr",
     "output_type": "stream",
     "text": [
      "I0610 04:38:46.951895 139670860904320 bert_sct_utils_v2.py:600]   name = module/cls/predictions/transform/dense/bias:0, shape = (768,)\n"
     ]
    },
    {
     "name": "stdout",
     "output_type": "stream",
     "text": [
      "INFO:tensorflow:  name = module/cls/predictions/transform/LayerNorm/beta:0, shape = (768,)\n"
     ]
    },
    {
     "name": "stderr",
     "output_type": "stream",
     "text": [
      "I0610 04:38:46.953749 139670860904320 bert_sct_utils_v2.py:600]   name = module/cls/predictions/transform/LayerNorm/beta:0, shape = (768,)\n"
     ]
    },
    {
     "name": "stdout",
     "output_type": "stream",
     "text": [
      "INFO:tensorflow:  name = module/cls/predictions/transform/LayerNorm/gamma:0, shape = (768,)\n"
     ]
    },
    {
     "name": "stderr",
     "output_type": "stream",
     "text": [
      "I0610 04:38:46.956160 139670860904320 bert_sct_utils_v2.py:600]   name = module/cls/predictions/transform/LayerNorm/gamma:0, shape = (768,)\n"
     ]
    },
    {
     "name": "stdout",
     "output_type": "stream",
     "text": [
      "INFO:tensorflow:  name = module/cls/predictions/output_bias:0, shape = (30522,)\n"
     ]
    },
    {
     "name": "stderr",
     "output_type": "stream",
     "text": [
      "I0610 04:38:46.958691 139670860904320 bert_sct_utils_v2.py:600]   name = module/cls/predictions/output_bias:0, shape = (30522,)\n"
     ]
    },
    {
     "name": "stdout",
     "output_type": "stream",
     "text": [
      "INFO:tensorflow:  name = output_weights:0, shape = (1, 768)\n"
     ]
    },
    {
     "name": "stderr",
     "output_type": "stream",
     "text": [
      "I0610 04:38:46.960746 139670860904320 bert_sct_utils_v2.py:600]   name = output_weights:0, shape = (1, 768)\n"
     ]
    },
    {
     "name": "stdout",
     "output_type": "stream",
     "text": [
      "INFO:tensorflow:  name = output_bias:0, shape = (1,)\n"
     ]
    },
    {
     "name": "stderr",
     "output_type": "stream",
     "text": [
      "I0610 04:38:46.962490 139670860904320 bert_sct_utils_v2.py:600]   name = output_bias:0, shape = (1,)\n"
     ]
    },
    {
     "name": "stdout",
     "output_type": "stream",
     "text": [
      "WARNING:tensorflow:From /usr/local/lib/python3.6/dist-packages/tensorflow/python/ops/metrics_impl.py:455: to_float (from tensorflow.python.ops.math_ops) is deprecated and will be removed in a future version.\n",
      "Instructions for updating:\n",
      "Use tf.cast instead.\n"
     ]
    },
    {
     "name": "stderr",
     "output_type": "stream",
     "text": [
      "W0610 04:38:46.967523 139670860904320 deprecation.py:323] From /usr/local/lib/python3.6/dist-packages/tensorflow/python/ops/metrics_impl.py:455: to_float (from tensorflow.python.ops.math_ops) is deprecated and will be removed in a future version.\n",
      "Instructions for updating:\n",
      "Use tf.cast instead.\n"
     ]
    },
    {
     "name": "stdout",
     "output_type": "stream",
     "text": [
      "WARNING:tensorflow:From /usr/local/lib/python3.6/dist-packages/tensorflow/python/ops/metrics_impl.py:2176: div (from tensorflow.python.ops.math_ops) is deprecated and will be removed in a future version.\n",
      "Instructions for updating:\n",
      "Deprecated in favor of operator or tf.math.divide.\n"
     ]
    },
    {
     "name": "stderr",
     "output_type": "stream",
     "text": [
      "W0610 04:38:47.073678 139670860904320 deprecation.py:323] From /usr/local/lib/python3.6/dist-packages/tensorflow/python/ops/metrics_impl.py:2176: div (from tensorflow.python.ops.math_ops) is deprecated and will be removed in a future version.\n",
      "Instructions for updating:\n",
      "Deprecated in favor of operator or tf.math.divide.\n"
     ]
    },
    {
     "name": "stdout",
     "output_type": "stream",
     "text": [
      "INFO:tensorflow:Done calling model_fn.\n"
     ]
    },
    {
     "name": "stderr",
     "output_type": "stream",
     "text": [
      "I0610 04:38:47.151752 139670860904320 estimator.py:1113] Done calling model_fn.\n"
     ]
    },
    {
     "name": "stdout",
     "output_type": "stream",
     "text": [
      "INFO:tensorflow:Starting evaluation at 2019-06-10T04:38:47Z\n"
     ]
    },
    {
     "name": "stderr",
     "output_type": "stream",
     "text": [
      "I0610 04:38:47.196988 139670860904320 evaluation.py:257] Starting evaluation at 2019-06-10T04:38:47Z\n"
     ]
    },
    {
     "name": "stdout",
     "output_type": "stream",
     "text": [
      "INFO:tensorflow:Graph was finalized.\n"
     ]
    },
    {
     "name": "stderr",
     "output_type": "stream",
     "text": [
      "I0610 04:38:48.366245 139670860904320 monitored_session.py:222] Graph was finalized.\n"
     ]
    },
    {
     "name": "stdout",
     "output_type": "stream",
     "text": [
      "INFO:tensorflow:Running local_init_op.\n"
     ]
    },
    {
     "name": "stderr",
     "output_type": "stream",
     "text": [
      "I0610 04:38:51.383078 139670860904320 session_manager.py:491] Running local_init_op.\n"
     ]
    },
    {
     "name": "stdout",
     "output_type": "stream",
     "text": [
      "INFO:tensorflow:Done running local_init_op.\n"
     ]
    },
    {
     "name": "stderr",
     "output_type": "stream",
     "text": [
      "I0610 04:38:51.541101 139670860904320 session_manager.py:493] Done running local_init_op.\n"
     ]
    },
    {
     "name": "stdout",
     "output_type": "stream",
     "text": [
      "INFO:tensorflow:Evaluation [23/233]\n"
     ]
    },
    {
     "name": "stderr",
     "output_type": "stream",
     "text": [
      "I0610 04:39:05.860877 139670860904320 evaluation.py:169] Evaluation [23/233]\n"
     ]
    },
    {
     "name": "stdout",
     "output_type": "stream",
     "text": [
      "INFO:tensorflow:Evaluation [46/233]\n"
     ]
    },
    {
     "name": "stderr",
     "output_type": "stream",
     "text": [
      "I0610 04:39:19.359465 139670860904320 evaluation.py:169] Evaluation [46/233]\n"
     ]
    },
    {
     "name": "stdout",
     "output_type": "stream",
     "text": [
      "INFO:tensorflow:Evaluation [69/233]\n"
     ]
    },
    {
     "name": "stderr",
     "output_type": "stream",
     "text": [
      "I0610 04:39:32.479574 139670860904320 evaluation.py:169] Evaluation [69/233]\n"
     ]
    },
    {
     "name": "stdout",
     "output_type": "stream",
     "text": [
      "INFO:tensorflow:Evaluation [92/233]\n"
     ]
    },
    {
     "name": "stderr",
     "output_type": "stream",
     "text": [
      "I0610 04:39:45.050213 139670860904320 evaluation.py:169] Evaluation [92/233]\n"
     ]
    },
    {
     "name": "stdout",
     "output_type": "stream",
     "text": [
      "INFO:tensorflow:Evaluation [115/233]\n"
     ]
    },
    {
     "name": "stderr",
     "output_type": "stream",
     "text": [
      "I0610 04:39:57.369418 139670860904320 evaluation.py:169] Evaluation [115/233]\n"
     ]
    },
    {
     "name": "stdout",
     "output_type": "stream",
     "text": [
      "INFO:tensorflow:Evaluation [138/233]\n"
     ]
    },
    {
     "name": "stderr",
     "output_type": "stream",
     "text": [
      "I0610 04:40:09.656671 139670860904320 evaluation.py:169] Evaluation [138/233]\n"
     ]
    },
    {
     "name": "stdout",
     "output_type": "stream",
     "text": [
      "INFO:tensorflow:Evaluation [161/233]\n"
     ]
    },
    {
     "name": "stderr",
     "output_type": "stream",
     "text": [
      "I0610 04:40:22.107966 139670860904320 evaluation.py:169] Evaluation [161/233]\n"
     ]
    },
    {
     "name": "stdout",
     "output_type": "stream",
     "text": [
      "INFO:tensorflow:Evaluation [184/233]\n"
     ]
    },
    {
     "name": "stderr",
     "output_type": "stream",
     "text": [
      "I0610 04:40:34.780811 139670860904320 evaluation.py:169] Evaluation [184/233]\n"
     ]
    },
    {
     "name": "stdout",
     "output_type": "stream",
     "text": [
      "INFO:tensorflow:Evaluation [207/233]\n"
     ]
    },
    {
     "name": "stderr",
     "output_type": "stream",
     "text": [
      "I0610 04:40:47.568079 139670860904320 evaluation.py:169] Evaluation [207/233]\n"
     ]
    },
    {
     "name": "stdout",
     "output_type": "stream",
     "text": [
      "INFO:tensorflow:Evaluation [230/233]\n"
     ]
    },
    {
     "name": "stderr",
     "output_type": "stream",
     "text": [
      "I0610 04:41:00.329718 139670860904320 evaluation.py:169] Evaluation [230/233]\n"
     ]
    },
    {
     "name": "stdout",
     "output_type": "stream",
     "text": [
      "INFO:tensorflow:Evaluation [233/233]\n"
     ]
    },
    {
     "name": "stderr",
     "output_type": "stream",
     "text": [
      "I0610 04:41:01.985394 139670860904320 evaluation.py:169] Evaluation [233/233]\n"
     ]
    },
    {
     "name": "stdout",
     "output_type": "stream",
     "text": [
      "INFO:tensorflow:Finished evaluation at 2019-06-10-04:41:02\n"
     ]
    },
    {
     "name": "stderr",
     "output_type": "stream",
     "text": [
      "I0610 04:41:02.271015 139670860904320 evaluation.py:277] Finished evaluation at 2019-06-10-04:41:02\n"
     ]
    },
    {
     "name": "stdout",
     "output_type": "stream",
     "text": [
      "INFO:tensorflow:Saving dict for global step 0: eval_accuracy = 0.5767167, eval_loss = 0.6829421, global_step = 0, loss = 0.6829421, precision = 1.0, recall = 0.5767167\n"
     ]
    },
    {
     "name": "stderr",
     "output_type": "stream",
     "text": [
      "I0610 04:41:02.273553 139670860904320 estimator.py:1979] Saving dict for global step 0: eval_accuracy = 0.5767167, eval_loss = 0.6829421, global_step = 0, loss = 0.6829421, precision = 1.0, recall = 0.5767167\n"
     ]
    },
    {
     "name": "stdout",
     "output_type": "stream",
     "text": [
      "INFO:tensorflow:***** Eval results *****\n"
     ]
    },
    {
     "name": "stderr",
     "output_type": "stream",
     "text": [
      "I0610 04:41:03.784824 139670860904320 <ipython-input-3-042eac69eb23>:101] ***** Eval results *****\n"
     ]
    },
    {
     "name": "stdout",
     "output_type": "stream",
     "text": [
      "INFO:tensorflow:  eval_accuracy = 0.5767167\n"
     ]
    },
    {
     "name": "stderr",
     "output_type": "stream",
     "text": [
      "I0610 04:41:03.787057 139670860904320 <ipython-input-3-042eac69eb23>:103]   eval_accuracy = 0.5767167\n"
     ]
    },
    {
     "name": "stdout",
     "output_type": "stream",
     "text": [
      "INFO:tensorflow:  eval_loss = 0.6829421\n"
     ]
    },
    {
     "name": "stderr",
     "output_type": "stream",
     "text": [
      "I0610 04:41:03.796067 139670860904320 <ipython-input-3-042eac69eb23>:103]   eval_loss = 0.6829421\n"
     ]
    },
    {
     "name": "stdout",
     "output_type": "stream",
     "text": [
      "INFO:tensorflow:  global_step = 0\n"
     ]
    },
    {
     "name": "stderr",
     "output_type": "stream",
     "text": [
      "I0610 04:41:03.799222 139670860904320 <ipython-input-3-042eac69eb23>:103]   global_step = 0\n"
     ]
    },
    {
     "name": "stdout",
     "output_type": "stream",
     "text": [
      "INFO:tensorflow:  loss = 0.6829421\n"
     ]
    },
    {
     "name": "stderr",
     "output_type": "stream",
     "text": [
      "I0610 04:41:03.802854 139670860904320 <ipython-input-3-042eac69eb23>:103]   loss = 0.6829421\n"
     ]
    },
    {
     "name": "stdout",
     "output_type": "stream",
     "text": [
      "INFO:tensorflow:  precision = 1.0\n"
     ]
    },
    {
     "name": "stderr",
     "output_type": "stream",
     "text": [
      "I0610 04:41:03.806466 139670860904320 <ipython-input-3-042eac69eb23>:103]   precision = 1.0\n"
     ]
    },
    {
     "name": "stdout",
     "output_type": "stream",
     "text": [
      "INFO:tensorflow:  recall = 0.5767167\n"
     ]
    },
    {
     "name": "stderr",
     "output_type": "stream",
     "text": [
      "I0610 04:41:03.809581 139670860904320 <ipython-input-3-042eac69eb23>:103]   recall = 0.5767167\n"
     ]
    },
    {
     "name": "stdout",
     "output_type": "stream",
     "text": [
      "INFO:tensorflow:Writing example 0 of 2343\n"
     ]
    },
    {
     "name": "stderr",
     "output_type": "stream",
     "text": [
      "I0610 04:41:03.925555 139670860904320 bert_sct_utils_v2.py:322] Writing example 0 of 2343\n"
     ]
    },
    {
     "name": "stdout",
     "output_type": "stream",
     "text": [
      "INFO:tensorflow:*** Example ***\n"
     ]
    },
    {
     "name": "stderr",
     "output_type": "stream",
     "text": [
      "I0610 04:41:03.933541 139670860904320 bert_sct_utils_v2.py:299] *** Example ***\n"
     ]
    },
    {
     "name": "stdout",
     "output_type": "stream",
     "text": [
      "INFO:tensorflow:unique_id: test-0\n"
     ]
    },
    {
     "name": "stderr",
     "output_type": "stream",
     "text": [
      "I0610 04:41:03.937804 139670860904320 bert_sct_utils_v2.py:300] unique_id: test-0\n"
     ]
    },
    {
     "name": "stdout",
     "output_type": "stream",
     "text": [
      "INFO:tensorflow:tokens: [CLS] abe wasn ' t pleased with his new neighbor . not only did they play music all day , but they banged the walls . he tried to talk to them , but they were so intimidating , he recoil ##ed . as the noises weren ' t going away after a month , abe decided to move . [SEP] the next day the neighbors invited her to a barbecue . [SEP]\n"
     ]
    },
    {
     "name": "stderr",
     "output_type": "stream",
     "text": [
      "I0610 04:41:03.941813 139670860904320 bert_sct_utils_v2.py:301] tokens: [CLS] abe wasn ' t pleased with his new neighbor . not only did they play music all day , but they banged the walls . he tried to talk to them , but they were so intimidating , he recoil ##ed . as the noises weren ' t going away after a month , abe decided to move . [SEP] the next day the neighbors invited her to a barbecue . [SEP]\n"
     ]
    },
    {
     "name": "stdout",
     "output_type": "stream",
     "text": [
      "INFO:tensorflow:input_ids: 101 14863 2347 1005 1056 7537 2007 2010 2047 11429 1012 2025 2069 2106 2027 2377 2189 2035 2154 1010 2021 2027 22843 1996 3681 1012 2002 2699 2000 2831 2000 2068 1010 2021 2027 2020 2061 24439 1010 2002 27429 2098 1012 2004 1996 14950 4694 1005 1056 2183 2185 2044 1037 3204 1010 14863 2787 2000 2693 1012 102 1996 2279 2154 1996 10638 4778 2014 2000 1037 26375 1012 102 0 0 0 0 0 0 0 0 0 0 0 0 0 0 0 0 0 0 0 0 0 0 0 0 0 0 0 0 0 0 0 0 0 0 0 0 0 0 0 0 0 0 0 0 0 0 0 0 0 0 0 0 0 0 0 0 0 0 0 0 0 0 0 0 0 0 0 0 0 0 0 0 0 0 0 0 0 0 0 0 0 0 0 0 0 0 0 0 0 0 0 0 0 0 0 0 0 0 0 0 0 0 0 0 0 0 0 0 0 0 0 0 0 0 0 0 0 0 0 0 0 0 0 0 0 0 0 0 0 0 0 0 0 0 0 0 0 0 0 0 0 0 0 0 0 0 0 0 0 0 0 0 0 0 0 0 0 0 0 0 0 0 0 0 0 0 0 0 0 0 0 0 0 0 0 0 0 0 0 0 0 0 0 0 0 0 0 0 0 0 0 0 0 0 0 0 0 0 0 0 0 0 0 0 0 0 0 0 0 0 0 0 0 0 0 0 0 0 0 0 0 0 0 0 0 0 0 0 0 0 0 0 0 0 0 0 0 0 0 0 0 0 0 0 0 0 0 0 0 0 0 0 0 0 0 0 0 0 0 0 0 0 0 0 0 0 0 0 0 0 0 0 0 0 0 0 0 0 0 0 0 0 0 0 0 0 0 0 0 0 0 0 0 0 0 0 0 0 0 0 0 0 0 0 0 0 0 0 0 0 0 0 0 0 0 0 0 0 0 0 0 0 0 0 0 0 0\n"
     ]
    },
    {
     "name": "stderr",
     "output_type": "stream",
     "text": [
      "I0610 04:41:03.945501 139670860904320 bert_sct_utils_v2.py:302] input_ids: 101 14863 2347 1005 1056 7537 2007 2010 2047 11429 1012 2025 2069 2106 2027 2377 2189 2035 2154 1010 2021 2027 22843 1996 3681 1012 2002 2699 2000 2831 2000 2068 1010 2021 2027 2020 2061 24439 1010 2002 27429 2098 1012 2004 1996 14950 4694 1005 1056 2183 2185 2044 1037 3204 1010 14863 2787 2000 2693 1012 102 1996 2279 2154 1996 10638 4778 2014 2000 1037 26375 1012 102 0 0 0 0 0 0 0 0 0 0 0 0 0 0 0 0 0 0 0 0 0 0 0 0 0 0 0 0 0 0 0 0 0 0 0 0 0 0 0 0 0 0 0 0 0 0 0 0 0 0 0 0 0 0 0 0 0 0 0 0 0 0 0 0 0 0 0 0 0 0 0 0 0 0 0 0 0 0 0 0 0 0 0 0 0 0 0 0 0 0 0 0 0 0 0 0 0 0 0 0 0 0 0 0 0 0 0 0 0 0 0 0 0 0 0 0 0 0 0 0 0 0 0 0 0 0 0 0 0 0 0 0 0 0 0 0 0 0 0 0 0 0 0 0 0 0 0 0 0 0 0 0 0 0 0 0 0 0 0 0 0 0 0 0 0 0 0 0 0 0 0 0 0 0 0 0 0 0 0 0 0 0 0 0 0 0 0 0 0 0 0 0 0 0 0 0 0 0 0 0 0 0 0 0 0 0 0 0 0 0 0 0 0 0 0 0 0 0 0 0 0 0 0 0 0 0 0 0 0 0 0 0 0 0 0 0 0 0 0 0 0 0 0 0 0 0 0 0 0 0 0 0 0 0 0 0 0 0 0 0 0 0 0 0 0 0 0 0 0 0 0 0 0 0 0 0 0 0 0 0 0 0 0 0 0 0 0 0 0 0 0 0 0 0 0 0 0 0 0 0 0 0 0 0 0 0 0 0 0 0 0 0 0 0 0 0 0 0 0 0 0 0 0 0 0 0 0\n"
     ]
    },
    {
     "name": "stdout",
     "output_type": "stream",
     "text": [
      "INFO:tensorflow:input_mask: 1 1 1 1 1 1 1 1 1 1 1 1 1 1 1 1 1 1 1 1 1 1 1 1 1 1 1 1 1 1 1 1 1 1 1 1 1 1 1 1 1 1 1 1 1 1 1 1 1 1 1 1 1 1 1 1 1 1 1 1 1 1 1 1 1 1 1 1 1 1 1 1 1 0 0 0 0 0 0 0 0 0 0 0 0 0 0 0 0 0 0 0 0 0 0 0 0 0 0 0 0 0 0 0 0 0 0 0 0 0 0 0 0 0 0 0 0 0 0 0 0 0 0 0 0 0 0 0 0 0 0 0 0 0 0 0 0 0 0 0 0 0 0 0 0 0 0 0 0 0 0 0 0 0 0 0 0 0 0 0 0 0 0 0 0 0 0 0 0 0 0 0 0 0 0 0 0 0 0 0 0 0 0 0 0 0 0 0 0 0 0 0 0 0 0 0 0 0 0 0 0 0 0 0 0 0 0 0 0 0 0 0 0 0 0 0 0 0 0 0 0 0 0 0 0 0 0 0 0 0 0 0 0 0 0 0 0 0 0 0 0 0 0 0 0 0 0 0 0 0 0 0 0 0 0 0 0 0 0 0 0 0 0 0 0 0 0 0 0 0 0 0 0 0 0 0 0 0 0 0 0 0 0 0 0 0 0 0 0 0 0 0 0 0 0 0 0 0 0 0 0 0 0 0 0 0 0 0 0 0 0 0 0 0 0 0 0 0 0 0 0 0 0 0 0 0 0 0 0 0 0 0 0 0 0 0 0 0 0 0 0 0 0 0 0 0 0 0 0 0 0 0 0 0 0 0 0 0 0 0 0 0 0 0 0 0 0 0 0 0 0 0 0 0 0 0 0 0 0 0 0 0 0 0 0 0 0 0 0 0 0 0 0 0 0 0 0 0 0 0\n"
     ]
    },
    {
     "name": "stderr",
     "output_type": "stream",
     "text": [
      "I0610 04:41:03.949231 139670860904320 bert_sct_utils_v2.py:303] input_mask: 1 1 1 1 1 1 1 1 1 1 1 1 1 1 1 1 1 1 1 1 1 1 1 1 1 1 1 1 1 1 1 1 1 1 1 1 1 1 1 1 1 1 1 1 1 1 1 1 1 1 1 1 1 1 1 1 1 1 1 1 1 1 1 1 1 1 1 1 1 1 1 1 1 0 0 0 0 0 0 0 0 0 0 0 0 0 0 0 0 0 0 0 0 0 0 0 0 0 0 0 0 0 0 0 0 0 0 0 0 0 0 0 0 0 0 0 0 0 0 0 0 0 0 0 0 0 0 0 0 0 0 0 0 0 0 0 0 0 0 0 0 0 0 0 0 0 0 0 0 0 0 0 0 0 0 0 0 0 0 0 0 0 0 0 0 0 0 0 0 0 0 0 0 0 0 0 0 0 0 0 0 0 0 0 0 0 0 0 0 0 0 0 0 0 0 0 0 0 0 0 0 0 0 0 0 0 0 0 0 0 0 0 0 0 0 0 0 0 0 0 0 0 0 0 0 0 0 0 0 0 0 0 0 0 0 0 0 0 0 0 0 0 0 0 0 0 0 0 0 0 0 0 0 0 0 0 0 0 0 0 0 0 0 0 0 0 0 0 0 0 0 0 0 0 0 0 0 0 0 0 0 0 0 0 0 0 0 0 0 0 0 0 0 0 0 0 0 0 0 0 0 0 0 0 0 0 0 0 0 0 0 0 0 0 0 0 0 0 0 0 0 0 0 0 0 0 0 0 0 0 0 0 0 0 0 0 0 0 0 0 0 0 0 0 0 0 0 0 0 0 0 0 0 0 0 0 0 0 0 0 0 0 0 0 0 0 0 0 0 0 0 0 0 0 0 0 0 0 0 0 0 0 0 0 0 0 0 0 0 0 0 0 0 0 0 0 0 0 0 0\n"
     ]
    },
    {
     "name": "stdout",
     "output_type": "stream",
     "text": [
      "INFO:tensorflow:segment_ids: 0 0 0 0 0 0 0 0 0 0 0 0 0 0 0 0 0 0 0 0 0 0 0 0 0 0 0 0 0 0 0 0 0 0 0 0 0 0 0 0 0 0 0 0 0 0 0 0 0 0 0 0 0 0 0 0 0 0 0 0 0 1 1 1 1 1 1 1 1 1 1 1 1 0 0 0 0 0 0 0 0 0 0 0 0 0 0 0 0 0 0 0 0 0 0 0 0 0 0 0 0 0 0 0 0 0 0 0 0 0 0 0 0 0 0 0 0 0 0 0 0 0 0 0 0 0 0 0 0 0 0 0 0 0 0 0 0 0 0 0 0 0 0 0 0 0 0 0 0 0 0 0 0 0 0 0 0 0 0 0 0 0 0 0 0 0 0 0 0 0 0 0 0 0 0 0 0 0 0 0 0 0 0 0 0 0 0 0 0 0 0 0 0 0 0 0 0 0 0 0 0 0 0 0 0 0 0 0 0 0 0 0 0 0 0 0 0 0 0 0 0 0 0 0 0 0 0 0 0 0 0 0 0 0 0 0 0 0 0 0 0 0 0 0 0 0 0 0 0 0 0 0 0 0 0 0 0 0 0 0 0 0 0 0 0 0 0 0 0 0 0 0 0 0 0 0 0 0 0 0 0 0 0 0 0 0 0 0 0 0 0 0 0 0 0 0 0 0 0 0 0 0 0 0 0 0 0 0 0 0 0 0 0 0 0 0 0 0 0 0 0 0 0 0 0 0 0 0 0 0 0 0 0 0 0 0 0 0 0 0 0 0 0 0 0 0 0 0 0 0 0 0 0 0 0 0 0 0 0 0 0 0 0 0 0 0 0 0 0 0 0 0 0 0 0 0 0 0 0 0 0 0 0 0 0 0 0 0 0 0 0 0 0 0 0 0 0 0 0 0\n"
     ]
    },
    {
     "name": "stderr",
     "output_type": "stream",
     "text": [
      "I0610 04:41:03.952804 139670860904320 bert_sct_utils_v2.py:304] segment_ids: 0 0 0 0 0 0 0 0 0 0 0 0 0 0 0 0 0 0 0 0 0 0 0 0 0 0 0 0 0 0 0 0 0 0 0 0 0 0 0 0 0 0 0 0 0 0 0 0 0 0 0 0 0 0 0 0 0 0 0 0 0 1 1 1 1 1 1 1 1 1 1 1 1 0 0 0 0 0 0 0 0 0 0 0 0 0 0 0 0 0 0 0 0 0 0 0 0 0 0 0 0 0 0 0 0 0 0 0 0 0 0 0 0 0 0 0 0 0 0 0 0 0 0 0 0 0 0 0 0 0 0 0 0 0 0 0 0 0 0 0 0 0 0 0 0 0 0 0 0 0 0 0 0 0 0 0 0 0 0 0 0 0 0 0 0 0 0 0 0 0 0 0 0 0 0 0 0 0 0 0 0 0 0 0 0 0 0 0 0 0 0 0 0 0 0 0 0 0 0 0 0 0 0 0 0 0 0 0 0 0 0 0 0 0 0 0 0 0 0 0 0 0 0 0 0 0 0 0 0 0 0 0 0 0 0 0 0 0 0 0 0 0 0 0 0 0 0 0 0 0 0 0 0 0 0 0 0 0 0 0 0 0 0 0 0 0 0 0 0 0 0 0 0 0 0 0 0 0 0 0 0 0 0 0 0 0 0 0 0 0 0 0 0 0 0 0 0 0 0 0 0 0 0 0 0 0 0 0 0 0 0 0 0 0 0 0 0 0 0 0 0 0 0 0 0 0 0 0 0 0 0 0 0 0 0 0 0 0 0 0 0 0 0 0 0 0 0 0 0 0 0 0 0 0 0 0 0 0 0 0 0 0 0 0 0 0 0 0 0 0 0 0 0 0 0 0 0 0 0 0 0 0 0 0 0 0 0 0 0 0 0 0 0 0 0 0 0 0 0 0\n"
     ]
    },
    {
     "name": "stdout",
     "output_type": "stream",
     "text": [
      "INFO:tensorflow:label: 1 (id = 1)\n"
     ]
    },
    {
     "name": "stderr",
     "output_type": "stream",
     "text": [
      "I0610 04:41:03.956545 139670860904320 bert_sct_utils_v2.py:305] label: 1 (id = 1)\n"
     ]
    },
    {
     "name": "stdout",
     "output_type": "stream",
     "text": [
      "INFO:tensorflow:sentiment: (20,), [-0.3412  0.286   0.714   0.      0.1779  0.      0.876   0.124  -0.7279\n",
      "  0.299   0.701   0.      0.      0.      1.      0.      0.      0.\n",
      "  1.      0.    ]\n"
     ]
    },
    {
     "name": "stderr",
     "output_type": "stream",
     "text": [
      "I0610 04:41:03.960277 139670860904320 bert_sct_utils_v2.py:306] sentiment: (20,), [-0.3412  0.286   0.714   0.      0.1779  0.      0.876   0.124  -0.7279\n",
      "  0.299   0.701   0.      0.      0.      1.      0.      0.      0.\n",
      "  1.      0.    ]\n"
     ]
    },
    {
     "name": "stdout",
     "output_type": "stream",
     "text": [
      "INFO:tensorflow:cs_dist: (4,), [1. 1. 1. 1.]\n"
     ]
    },
    {
     "name": "stderr",
     "output_type": "stream",
     "text": [
      "I0610 04:41:03.963869 139670860904320 bert_sct_utils_v2.py:307] cs_dist: (4,), [1. 1. 1. 1.]\n"
     ]
    },
    {
     "name": "stdout",
     "output_type": "stream",
     "text": [
      "INFO:tensorflow:*** Example ***\n"
     ]
    },
    {
     "name": "stderr",
     "output_type": "stream",
     "text": [
      "I0610 04:41:03.969819 139670860904320 bert_sct_utils_v2.py:299] *** Example ***\n"
     ]
    },
    {
     "name": "stdout",
     "output_type": "stream",
     "text": [
      "INFO:tensorflow:unique_id: test-0\n"
     ]
    },
    {
     "name": "stderr",
     "output_type": "stream",
     "text": [
      "I0610 04:41:03.973324 139670860904320 bert_sct_utils_v2.py:300] unique_id: test-0\n"
     ]
    },
    {
     "name": "stdout",
     "output_type": "stream",
     "text": [
      "INFO:tensorflow:tokens: [CLS] abe wasn ' t pleased with his new neighbor . not only did they play music all day , but they banged the walls . he tried to talk to them , but they were so intimidating , he recoil ##ed . as the noises weren ' t going away after a month , abe decided to move . [SEP] when she was moved , the neighbors noticed their ass ##oc ##ial behavior [SEP]\n"
     ]
    },
    {
     "name": "stderr",
     "output_type": "stream",
     "text": [
      "I0610 04:41:03.975805 139670860904320 bert_sct_utils_v2.py:301] tokens: [CLS] abe wasn ' t pleased with his new neighbor . not only did they play music all day , but they banged the walls . he tried to talk to them , but they were so intimidating , he recoil ##ed . as the noises weren ' t going away after a month , abe decided to move . [SEP] when she was moved , the neighbors noticed their ass ##oc ##ial behavior [SEP]\n"
     ]
    },
    {
     "name": "stdout",
     "output_type": "stream",
     "text": [
      "INFO:tensorflow:input_ids: 101 14863 2347 1005 1056 7537 2007 2010 2047 11429 1012 2025 2069 2106 2027 2377 2189 2035 2154 1010 2021 2027 22843 1996 3681 1012 2002 2699 2000 2831 2000 2068 1010 2021 2027 2020 2061 24439 1010 2002 27429 2098 1012 2004 1996 14950 4694 1005 1056 2183 2185 2044 1037 3204 1010 14863 2787 2000 2693 1012 102 2043 2016 2001 2333 1010 1996 10638 4384 2037 4632 10085 4818 5248 102 0 0 0 0 0 0 0 0 0 0 0 0 0 0 0 0 0 0 0 0 0 0 0 0 0 0 0 0 0 0 0 0 0 0 0 0 0 0 0 0 0 0 0 0 0 0 0 0 0 0 0 0 0 0 0 0 0 0 0 0 0 0 0 0 0 0 0 0 0 0 0 0 0 0 0 0 0 0 0 0 0 0 0 0 0 0 0 0 0 0 0 0 0 0 0 0 0 0 0 0 0 0 0 0 0 0 0 0 0 0 0 0 0 0 0 0 0 0 0 0 0 0 0 0 0 0 0 0 0 0 0 0 0 0 0 0 0 0 0 0 0 0 0 0 0 0 0 0 0 0 0 0 0 0 0 0 0 0 0 0 0 0 0 0 0 0 0 0 0 0 0 0 0 0 0 0 0 0 0 0 0 0 0 0 0 0 0 0 0 0 0 0 0 0 0 0 0 0 0 0 0 0 0 0 0 0 0 0 0 0 0 0 0 0 0 0 0 0 0 0 0 0 0 0 0 0 0 0 0 0 0 0 0 0 0 0 0 0 0 0 0 0 0 0 0 0 0 0 0 0 0 0 0 0 0 0 0 0 0 0 0 0 0 0 0 0 0 0 0 0 0 0 0 0 0 0 0 0 0 0 0 0 0 0 0 0 0 0 0 0 0 0 0 0 0 0 0 0 0 0 0 0 0 0 0 0 0 0 0 0 0 0 0 0 0 0 0 0 0 0 0 0 0 0 0\n"
     ]
    },
    {
     "name": "stderr",
     "output_type": "stream",
     "text": [
      "I0610 04:41:03.979712 139670860904320 bert_sct_utils_v2.py:302] input_ids: 101 14863 2347 1005 1056 7537 2007 2010 2047 11429 1012 2025 2069 2106 2027 2377 2189 2035 2154 1010 2021 2027 22843 1996 3681 1012 2002 2699 2000 2831 2000 2068 1010 2021 2027 2020 2061 24439 1010 2002 27429 2098 1012 2004 1996 14950 4694 1005 1056 2183 2185 2044 1037 3204 1010 14863 2787 2000 2693 1012 102 2043 2016 2001 2333 1010 1996 10638 4384 2037 4632 10085 4818 5248 102 0 0 0 0 0 0 0 0 0 0 0 0 0 0 0 0 0 0 0 0 0 0 0 0 0 0 0 0 0 0 0 0 0 0 0 0 0 0 0 0 0 0 0 0 0 0 0 0 0 0 0 0 0 0 0 0 0 0 0 0 0 0 0 0 0 0 0 0 0 0 0 0 0 0 0 0 0 0 0 0 0 0 0 0 0 0 0 0 0 0 0 0 0 0 0 0 0 0 0 0 0 0 0 0 0 0 0 0 0 0 0 0 0 0 0 0 0 0 0 0 0 0 0 0 0 0 0 0 0 0 0 0 0 0 0 0 0 0 0 0 0 0 0 0 0 0 0 0 0 0 0 0 0 0 0 0 0 0 0 0 0 0 0 0 0 0 0 0 0 0 0 0 0 0 0 0 0 0 0 0 0 0 0 0 0 0 0 0 0 0 0 0 0 0 0 0 0 0 0 0 0 0 0 0 0 0 0 0 0 0 0 0 0 0 0 0 0 0 0 0 0 0 0 0 0 0 0 0 0 0 0 0 0 0 0 0 0 0 0 0 0 0 0 0 0 0 0 0 0 0 0 0 0 0 0 0 0 0 0 0 0 0 0 0 0 0 0 0 0 0 0 0 0 0 0 0 0 0 0 0 0 0 0 0 0 0 0 0 0 0 0 0 0 0 0 0 0 0 0 0 0 0 0 0 0 0 0 0 0 0 0 0 0 0 0 0 0 0 0 0 0 0 0 0 0\n"
     ]
    },
    {
     "name": "stdout",
     "output_type": "stream",
     "text": [
      "INFO:tensorflow:input_mask: 1 1 1 1 1 1 1 1 1 1 1 1 1 1 1 1 1 1 1 1 1 1 1 1 1 1 1 1 1 1 1 1 1 1 1 1 1 1 1 1 1 1 1 1 1 1 1 1 1 1 1 1 1 1 1 1 1 1 1 1 1 1 1 1 1 1 1 1 1 1 1 1 1 1 1 0 0 0 0 0 0 0 0 0 0 0 0 0 0 0 0 0 0 0 0 0 0 0 0 0 0 0 0 0 0 0 0 0 0 0 0 0 0 0 0 0 0 0 0 0 0 0 0 0 0 0 0 0 0 0 0 0 0 0 0 0 0 0 0 0 0 0 0 0 0 0 0 0 0 0 0 0 0 0 0 0 0 0 0 0 0 0 0 0 0 0 0 0 0 0 0 0 0 0 0 0 0 0 0 0 0 0 0 0 0 0 0 0 0 0 0 0 0 0 0 0 0 0 0 0 0 0 0 0 0 0 0 0 0 0 0 0 0 0 0 0 0 0 0 0 0 0 0 0 0 0 0 0 0 0 0 0 0 0 0 0 0 0 0 0 0 0 0 0 0 0 0 0 0 0 0 0 0 0 0 0 0 0 0 0 0 0 0 0 0 0 0 0 0 0 0 0 0 0 0 0 0 0 0 0 0 0 0 0 0 0 0 0 0 0 0 0 0 0 0 0 0 0 0 0 0 0 0 0 0 0 0 0 0 0 0 0 0 0 0 0 0 0 0 0 0 0 0 0 0 0 0 0 0 0 0 0 0 0 0 0 0 0 0 0 0 0 0 0 0 0 0 0 0 0 0 0 0 0 0 0 0 0 0 0 0 0 0 0 0 0 0 0 0 0 0 0 0 0 0 0 0 0 0 0 0 0 0 0 0 0 0 0 0 0 0 0 0 0 0 0 0 0 0 0\n"
     ]
    },
    {
     "name": "stderr",
     "output_type": "stream",
     "text": [
      "I0610 04:41:03.982196 139670860904320 bert_sct_utils_v2.py:303] input_mask: 1 1 1 1 1 1 1 1 1 1 1 1 1 1 1 1 1 1 1 1 1 1 1 1 1 1 1 1 1 1 1 1 1 1 1 1 1 1 1 1 1 1 1 1 1 1 1 1 1 1 1 1 1 1 1 1 1 1 1 1 1 1 1 1 1 1 1 1 1 1 1 1 1 1 1 0 0 0 0 0 0 0 0 0 0 0 0 0 0 0 0 0 0 0 0 0 0 0 0 0 0 0 0 0 0 0 0 0 0 0 0 0 0 0 0 0 0 0 0 0 0 0 0 0 0 0 0 0 0 0 0 0 0 0 0 0 0 0 0 0 0 0 0 0 0 0 0 0 0 0 0 0 0 0 0 0 0 0 0 0 0 0 0 0 0 0 0 0 0 0 0 0 0 0 0 0 0 0 0 0 0 0 0 0 0 0 0 0 0 0 0 0 0 0 0 0 0 0 0 0 0 0 0 0 0 0 0 0 0 0 0 0 0 0 0 0 0 0 0 0 0 0 0 0 0 0 0 0 0 0 0 0 0 0 0 0 0 0 0 0 0 0 0 0 0 0 0 0 0 0 0 0 0 0 0 0 0 0 0 0 0 0 0 0 0 0 0 0 0 0 0 0 0 0 0 0 0 0 0 0 0 0 0 0 0 0 0 0 0 0 0 0 0 0 0 0 0 0 0 0 0 0 0 0 0 0 0 0 0 0 0 0 0 0 0 0 0 0 0 0 0 0 0 0 0 0 0 0 0 0 0 0 0 0 0 0 0 0 0 0 0 0 0 0 0 0 0 0 0 0 0 0 0 0 0 0 0 0 0 0 0 0 0 0 0 0 0 0 0 0 0 0 0 0 0 0 0 0 0 0 0 0 0 0 0 0 0 0 0 0 0 0 0 0 0 0 0 0 0 0\n"
     ]
    },
    {
     "name": "stdout",
     "output_type": "stream",
     "text": [
      "INFO:tensorflow:segment_ids: 0 0 0 0 0 0 0 0 0 0 0 0 0 0 0 0 0 0 0 0 0 0 0 0 0 0 0 0 0 0 0 0 0 0 0 0 0 0 0 0 0 0 0 0 0 0 0 0 0 0 0 0 0 0 0 0 0 0 0 0 0 1 1 1 1 1 1 1 1 1 1 1 1 1 1 0 0 0 0 0 0 0 0 0 0 0 0 0 0 0 0 0 0 0 0 0 0 0 0 0 0 0 0 0 0 0 0 0 0 0 0 0 0 0 0 0 0 0 0 0 0 0 0 0 0 0 0 0 0 0 0 0 0 0 0 0 0 0 0 0 0 0 0 0 0 0 0 0 0 0 0 0 0 0 0 0 0 0 0 0 0 0 0 0 0 0 0 0 0 0 0 0 0 0 0 0 0 0 0 0 0 0 0 0 0 0 0 0 0 0 0 0 0 0 0 0 0 0 0 0 0 0 0 0 0 0 0 0 0 0 0 0 0 0 0 0 0 0 0 0 0 0 0 0 0 0 0 0 0 0 0 0 0 0 0 0 0 0 0 0 0 0 0 0 0 0 0 0 0 0 0 0 0 0 0 0 0 0 0 0 0 0 0 0 0 0 0 0 0 0 0 0 0 0 0 0 0 0 0 0 0 0 0 0 0 0 0 0 0 0 0 0 0 0 0 0 0 0 0 0 0 0 0 0 0 0 0 0 0 0 0 0 0 0 0 0 0 0 0 0 0 0 0 0 0 0 0 0 0 0 0 0 0 0 0 0 0 0 0 0 0 0 0 0 0 0 0 0 0 0 0 0 0 0 0 0 0 0 0 0 0 0 0 0 0 0 0 0 0 0 0 0 0 0 0 0 0 0 0 0 0 0 0 0 0 0 0 0 0 0 0 0 0 0 0 0 0 0 0 0\n"
     ]
    },
    {
     "name": "stderr",
     "output_type": "stream",
     "text": [
      "I0610 04:41:03.985380 139670860904320 bert_sct_utils_v2.py:304] segment_ids: 0 0 0 0 0 0 0 0 0 0 0 0 0 0 0 0 0 0 0 0 0 0 0 0 0 0 0 0 0 0 0 0 0 0 0 0 0 0 0 0 0 0 0 0 0 0 0 0 0 0 0 0 0 0 0 0 0 0 0 0 0 1 1 1 1 1 1 1 1 1 1 1 1 1 1 0 0 0 0 0 0 0 0 0 0 0 0 0 0 0 0 0 0 0 0 0 0 0 0 0 0 0 0 0 0 0 0 0 0 0 0 0 0 0 0 0 0 0 0 0 0 0 0 0 0 0 0 0 0 0 0 0 0 0 0 0 0 0 0 0 0 0 0 0 0 0 0 0 0 0 0 0 0 0 0 0 0 0 0 0 0 0 0 0 0 0 0 0 0 0 0 0 0 0 0 0 0 0 0 0 0 0 0 0 0 0 0 0 0 0 0 0 0 0 0 0 0 0 0 0 0 0 0 0 0 0 0 0 0 0 0 0 0 0 0 0 0 0 0 0 0 0 0 0 0 0 0 0 0 0 0 0 0 0 0 0 0 0 0 0 0 0 0 0 0 0 0 0 0 0 0 0 0 0 0 0 0 0 0 0 0 0 0 0 0 0 0 0 0 0 0 0 0 0 0 0 0 0 0 0 0 0 0 0 0 0 0 0 0 0 0 0 0 0 0 0 0 0 0 0 0 0 0 0 0 0 0 0 0 0 0 0 0 0 0 0 0 0 0 0 0 0 0 0 0 0 0 0 0 0 0 0 0 0 0 0 0 0 0 0 0 0 0 0 0 0 0 0 0 0 0 0 0 0 0 0 0 0 0 0 0 0 0 0 0 0 0 0 0 0 0 0 0 0 0 0 0 0 0 0 0 0 0 0 0 0 0 0 0 0 0 0 0 0 0 0 0 0 0 0\n"
     ]
    },
    {
     "name": "stdout",
     "output_type": "stream",
     "text": [
      "INFO:tensorflow:label: 0 (id = 0)\n"
     ]
    },
    {
     "name": "stderr",
     "output_type": "stream",
     "text": [
      "I0610 04:41:03.989774 139670860904320 bert_sct_utils_v2.py:305] label: 0 (id = 0)\n"
     ]
    },
    {
     "name": "stdout",
     "output_type": "stream",
     "text": [
      "INFO:tensorflow:sentiment: (20,), [-0.3412  0.286   0.714   0.      0.1779  0.      0.876   0.124  -0.7279\n",
      "  0.299   0.701   0.      0.      0.      1.      0.      0.      0.\n",
      "  1.      0.    ]\n"
     ]
    },
    {
     "name": "stderr",
     "output_type": "stream",
     "text": [
      "I0610 04:41:03.993676 139670860904320 bert_sct_utils_v2.py:306] sentiment: (20,), [-0.3412  0.286   0.714   0.      0.1779  0.      0.876   0.124  -0.7279\n",
      "  0.299   0.701   0.      0.      0.      1.      0.      0.      0.\n",
      "  1.      0.    ]\n"
     ]
    },
    {
     "name": "stdout",
     "output_type": "stream",
     "text": [
      "INFO:tensorflow:cs_dist: (4,), [-1. -1. -1. -1.]\n"
     ]
    },
    {
     "name": "stderr",
     "output_type": "stream",
     "text": [
      "I0610 04:41:03.997286 139670860904320 bert_sct_utils_v2.py:307] cs_dist: (4,), [-1. -1. -1. -1.]\n"
     ]
    },
    {
     "name": "stdout",
     "output_type": "stream",
     "text": [
      "INFO:tensorflow:*** Example ***\n"
     ]
    },
    {
     "name": "stderr",
     "output_type": "stream",
     "text": [
      "I0610 04:41:04.005901 139670860904320 bert_sct_utils_v2.py:299] *** Example ***\n"
     ]
    },
    {
     "name": "stdout",
     "output_type": "stream",
     "text": [
      "INFO:tensorflow:unique_id: test-1\n"
     ]
    },
    {
     "name": "stderr",
     "output_type": "stream",
     "text": [
      "I0610 04:41:04.008207 139670860904320 bert_sct_utils_v2.py:300] unique_id: test-1\n"
     ]
    },
    {
     "name": "stdout",
     "output_type": "stream",
     "text": [
      "INFO:tensorflow:tokens: [CLS] eva was raising two boys alone and needed money badly . she worked long hours as a hotel maid , earning minimum wage . but when a man left his wallet in his room , honest eva returned it . the man was so grateful to have his id and cards back . [SEP] he rewarded her for her honesty . [SEP]\n"
     ]
    },
    {
     "name": "stderr",
     "output_type": "stream",
     "text": [
      "I0610 04:41:04.010680 139670860904320 bert_sct_utils_v2.py:301] tokens: [CLS] eva was raising two boys alone and needed money badly . she worked long hours as a hotel maid , earning minimum wage . but when a man left his wallet in his room , honest eva returned it . the man was so grateful to have his id and cards back . [SEP] he rewarded her for her honesty . [SEP]\n"
     ]
    },
    {
     "name": "stdout",
     "output_type": "stream",
     "text": [
      "INFO:tensorflow:input_ids: 101 9345 2001 6274 2048 3337 2894 1998 2734 2769 6649 1012 2016 2499 2146 2847 2004 1037 3309 10850 1010 7414 6263 11897 1012 2021 2043 1037 2158 2187 2010 15882 1999 2010 2282 1010 7481 9345 2513 2009 1012 1996 2158 2001 2061 8794 2000 2031 2010 8909 1998 5329 2067 1012 102 2002 14610 2014 2005 2014 16718 1012 102 0 0 0 0 0 0 0 0 0 0 0 0 0 0 0 0 0 0 0 0 0 0 0 0 0 0 0 0 0 0 0 0 0 0 0 0 0 0 0 0 0 0 0 0 0 0 0 0 0 0 0 0 0 0 0 0 0 0 0 0 0 0 0 0 0 0 0 0 0 0 0 0 0 0 0 0 0 0 0 0 0 0 0 0 0 0 0 0 0 0 0 0 0 0 0 0 0 0 0 0 0 0 0 0 0 0 0 0 0 0 0 0 0 0 0 0 0 0 0 0 0 0 0 0 0 0 0 0 0 0 0 0 0 0 0 0 0 0 0 0 0 0 0 0 0 0 0 0 0 0 0 0 0 0 0 0 0 0 0 0 0 0 0 0 0 0 0 0 0 0 0 0 0 0 0 0 0 0 0 0 0 0 0 0 0 0 0 0 0 0 0 0 0 0 0 0 0 0 0 0 0 0 0 0 0 0 0 0 0 0 0 0 0 0 0 0 0 0 0 0 0 0 0 0 0 0 0 0 0 0 0 0 0 0 0 0 0 0 0 0 0 0 0 0 0 0 0 0 0 0 0 0 0 0 0 0 0 0 0 0 0 0 0 0 0 0 0 0 0 0 0 0 0 0 0 0 0 0 0 0 0 0 0 0 0 0 0 0 0 0 0 0 0 0 0 0 0 0 0 0 0 0 0 0 0 0 0 0 0 0 0 0 0 0 0 0 0 0 0 0 0 0 0 0 0 0 0 0 0 0 0 0 0 0 0 0 0\n"
     ]
    },
    {
     "name": "stderr",
     "output_type": "stream",
     "text": [
      "I0610 04:41:04.013183 139670860904320 bert_sct_utils_v2.py:302] input_ids: 101 9345 2001 6274 2048 3337 2894 1998 2734 2769 6649 1012 2016 2499 2146 2847 2004 1037 3309 10850 1010 7414 6263 11897 1012 2021 2043 1037 2158 2187 2010 15882 1999 2010 2282 1010 7481 9345 2513 2009 1012 1996 2158 2001 2061 8794 2000 2031 2010 8909 1998 5329 2067 1012 102 2002 14610 2014 2005 2014 16718 1012 102 0 0 0 0 0 0 0 0 0 0 0 0 0 0 0 0 0 0 0 0 0 0 0 0 0 0 0 0 0 0 0 0 0 0 0 0 0 0 0 0 0 0 0 0 0 0 0 0 0 0 0 0 0 0 0 0 0 0 0 0 0 0 0 0 0 0 0 0 0 0 0 0 0 0 0 0 0 0 0 0 0 0 0 0 0 0 0 0 0 0 0 0 0 0 0 0 0 0 0 0 0 0 0 0 0 0 0 0 0 0 0 0 0 0 0 0 0 0 0 0 0 0 0 0 0 0 0 0 0 0 0 0 0 0 0 0 0 0 0 0 0 0 0 0 0 0 0 0 0 0 0 0 0 0 0 0 0 0 0 0 0 0 0 0 0 0 0 0 0 0 0 0 0 0 0 0 0 0 0 0 0 0 0 0 0 0 0 0 0 0 0 0 0 0 0 0 0 0 0 0 0 0 0 0 0 0 0 0 0 0 0 0 0 0 0 0 0 0 0 0 0 0 0 0 0 0 0 0 0 0 0 0 0 0 0 0 0 0 0 0 0 0 0 0 0 0 0 0 0 0 0 0 0 0 0 0 0 0 0 0 0 0 0 0 0 0 0 0 0 0 0 0 0 0 0 0 0 0 0 0 0 0 0 0 0 0 0 0 0 0 0 0 0 0 0 0 0 0 0 0 0 0 0 0 0 0 0 0 0 0 0 0 0 0 0 0 0 0 0 0 0 0 0 0 0 0 0 0 0 0 0 0 0 0 0 0 0\n"
     ]
    },
    {
     "name": "stdout",
     "output_type": "stream",
     "text": [
      "INFO:tensorflow:input_mask: 1 1 1 1 1 1 1 1 1 1 1 1 1 1 1 1 1 1 1 1 1 1 1 1 1 1 1 1 1 1 1 1 1 1 1 1 1 1 1 1 1 1 1 1 1 1 1 1 1 1 1 1 1 1 1 1 1 1 1 1 1 1 1 0 0 0 0 0 0 0 0 0 0 0 0 0 0 0 0 0 0 0 0 0 0 0 0 0 0 0 0 0 0 0 0 0 0 0 0 0 0 0 0 0 0 0 0 0 0 0 0 0 0 0 0 0 0 0 0 0 0 0 0 0 0 0 0 0 0 0 0 0 0 0 0 0 0 0 0 0 0 0 0 0 0 0 0 0 0 0 0 0 0 0 0 0 0 0 0 0 0 0 0 0 0 0 0 0 0 0 0 0 0 0 0 0 0 0 0 0 0 0 0 0 0 0 0 0 0 0 0 0 0 0 0 0 0 0 0 0 0 0 0 0 0 0 0 0 0 0 0 0 0 0 0 0 0 0 0 0 0 0 0 0 0 0 0 0 0 0 0 0 0 0 0 0 0 0 0 0 0 0 0 0 0 0 0 0 0 0 0 0 0 0 0 0 0 0 0 0 0 0 0 0 0 0 0 0 0 0 0 0 0 0 0 0 0 0 0 0 0 0 0 0 0 0 0 0 0 0 0 0 0 0 0 0 0 0 0 0 0 0 0 0 0 0 0 0 0 0 0 0 0 0 0 0 0 0 0 0 0 0 0 0 0 0 0 0 0 0 0 0 0 0 0 0 0 0 0 0 0 0 0 0 0 0 0 0 0 0 0 0 0 0 0 0 0 0 0 0 0 0 0 0 0 0 0 0 0 0 0 0 0 0 0 0 0 0 0 0 0 0 0 0 0 0 0 0 0 0 0 0 0 0 0 0 0 0 0 0\n"
     ]
    },
    {
     "name": "stderr",
     "output_type": "stream",
     "text": [
      "I0610 04:41:04.015558 139670860904320 bert_sct_utils_v2.py:303] input_mask: 1 1 1 1 1 1 1 1 1 1 1 1 1 1 1 1 1 1 1 1 1 1 1 1 1 1 1 1 1 1 1 1 1 1 1 1 1 1 1 1 1 1 1 1 1 1 1 1 1 1 1 1 1 1 1 1 1 1 1 1 1 1 1 0 0 0 0 0 0 0 0 0 0 0 0 0 0 0 0 0 0 0 0 0 0 0 0 0 0 0 0 0 0 0 0 0 0 0 0 0 0 0 0 0 0 0 0 0 0 0 0 0 0 0 0 0 0 0 0 0 0 0 0 0 0 0 0 0 0 0 0 0 0 0 0 0 0 0 0 0 0 0 0 0 0 0 0 0 0 0 0 0 0 0 0 0 0 0 0 0 0 0 0 0 0 0 0 0 0 0 0 0 0 0 0 0 0 0 0 0 0 0 0 0 0 0 0 0 0 0 0 0 0 0 0 0 0 0 0 0 0 0 0 0 0 0 0 0 0 0 0 0 0 0 0 0 0 0 0 0 0 0 0 0 0 0 0 0 0 0 0 0 0 0 0 0 0 0 0 0 0 0 0 0 0 0 0 0 0 0 0 0 0 0 0 0 0 0 0 0 0 0 0 0 0 0 0 0 0 0 0 0 0 0 0 0 0 0 0 0 0 0 0 0 0 0 0 0 0 0 0 0 0 0 0 0 0 0 0 0 0 0 0 0 0 0 0 0 0 0 0 0 0 0 0 0 0 0 0 0 0 0 0 0 0 0 0 0 0 0 0 0 0 0 0 0 0 0 0 0 0 0 0 0 0 0 0 0 0 0 0 0 0 0 0 0 0 0 0 0 0 0 0 0 0 0 0 0 0 0 0 0 0 0 0 0 0 0 0 0 0 0 0 0 0 0 0 0 0 0 0 0 0 0 0 0 0 0 0 0\n"
     ]
    },
    {
     "name": "stdout",
     "output_type": "stream",
     "text": [
      "INFO:tensorflow:segment_ids: 0 0 0 0 0 0 0 0 0 0 0 0 0 0 0 0 0 0 0 0 0 0 0 0 0 0 0 0 0 0 0 0 0 0 0 0 0 0 0 0 0 0 0 0 0 0 0 0 0 0 0 0 0 0 0 1 1 1 1 1 1 1 1 0 0 0 0 0 0 0 0 0 0 0 0 0 0 0 0 0 0 0 0 0 0 0 0 0 0 0 0 0 0 0 0 0 0 0 0 0 0 0 0 0 0 0 0 0 0 0 0 0 0 0 0 0 0 0 0 0 0 0 0 0 0 0 0 0 0 0 0 0 0 0 0 0 0 0 0 0 0 0 0 0 0 0 0 0 0 0 0 0 0 0 0 0 0 0 0 0 0 0 0 0 0 0 0 0 0 0 0 0 0 0 0 0 0 0 0 0 0 0 0 0 0 0 0 0 0 0 0 0 0 0 0 0 0 0 0 0 0 0 0 0 0 0 0 0 0 0 0 0 0 0 0 0 0 0 0 0 0 0 0 0 0 0 0 0 0 0 0 0 0 0 0 0 0 0 0 0 0 0 0 0 0 0 0 0 0 0 0 0 0 0 0 0 0 0 0 0 0 0 0 0 0 0 0 0 0 0 0 0 0 0 0 0 0 0 0 0 0 0 0 0 0 0 0 0 0 0 0 0 0 0 0 0 0 0 0 0 0 0 0 0 0 0 0 0 0 0 0 0 0 0 0 0 0 0 0 0 0 0 0 0 0 0 0 0 0 0 0 0 0 0 0 0 0 0 0 0 0 0 0 0 0 0 0 0 0 0 0 0 0 0 0 0 0 0 0 0 0 0 0 0 0 0 0 0 0 0 0 0 0 0 0 0 0 0 0 0 0 0 0 0 0 0 0 0 0 0 0 0 0 0 0 0 0 0 0 0\n"
     ]
    },
    {
     "name": "stderr",
     "output_type": "stream",
     "text": [
      "I0610 04:41:04.018015 139670860904320 bert_sct_utils_v2.py:304] segment_ids: 0 0 0 0 0 0 0 0 0 0 0 0 0 0 0 0 0 0 0 0 0 0 0 0 0 0 0 0 0 0 0 0 0 0 0 0 0 0 0 0 0 0 0 0 0 0 0 0 0 0 0 0 0 0 0 1 1 1 1 1 1 1 1 0 0 0 0 0 0 0 0 0 0 0 0 0 0 0 0 0 0 0 0 0 0 0 0 0 0 0 0 0 0 0 0 0 0 0 0 0 0 0 0 0 0 0 0 0 0 0 0 0 0 0 0 0 0 0 0 0 0 0 0 0 0 0 0 0 0 0 0 0 0 0 0 0 0 0 0 0 0 0 0 0 0 0 0 0 0 0 0 0 0 0 0 0 0 0 0 0 0 0 0 0 0 0 0 0 0 0 0 0 0 0 0 0 0 0 0 0 0 0 0 0 0 0 0 0 0 0 0 0 0 0 0 0 0 0 0 0 0 0 0 0 0 0 0 0 0 0 0 0 0 0 0 0 0 0 0 0 0 0 0 0 0 0 0 0 0 0 0 0 0 0 0 0 0 0 0 0 0 0 0 0 0 0 0 0 0 0 0 0 0 0 0 0 0 0 0 0 0 0 0 0 0 0 0 0 0 0 0 0 0 0 0 0 0 0 0 0 0 0 0 0 0 0 0 0 0 0 0 0 0 0 0 0 0 0 0 0 0 0 0 0 0 0 0 0 0 0 0 0 0 0 0 0 0 0 0 0 0 0 0 0 0 0 0 0 0 0 0 0 0 0 0 0 0 0 0 0 0 0 0 0 0 0 0 0 0 0 0 0 0 0 0 0 0 0 0 0 0 0 0 0 0 0 0 0 0 0 0 0 0 0 0 0 0 0 0 0 0 0 0 0 0 0 0 0 0 0 0 0 0 0 0 0 0 0 0 0\n"
     ]
    },
    {
     "name": "stdout",
     "output_type": "stream",
     "text": [
      "INFO:tensorflow:label: 1 (id = 1)\n"
     ]
    },
    {
     "name": "stderr",
     "output_type": "stream",
     "text": [
      "I0610 04:41:04.019957 139670860904320 bert_sct_utils_v2.py:305] label: 1 (id = 1)\n"
     ]
    },
    {
     "name": "stdout",
     "output_type": "stream",
     "text": [
      "INFO:tensorflow:sentiment: (20,), [-0.6249  0.389   0.611   0.      0.      0.      1.      0.      0.6652\n",
      "  0.      0.729   0.271   0.5949  0.      0.74    0.26    0.7506  0.\n",
      "  0.385   0.615 ]\n"
     ]
    },
    {
     "name": "stderr",
     "output_type": "stream",
     "text": [
      "I0610 04:41:04.022797 139670860904320 bert_sct_utils_v2.py:306] sentiment: (20,), [-0.6249  0.389   0.611   0.      0.      0.      1.      0.      0.6652\n",
      "  0.      0.729   0.271   0.5949  0.      0.74    0.26    0.7506  0.\n",
      "  0.385   0.615 ]\n"
     ]
    },
    {
     "name": "stdout",
     "output_type": "stream",
     "text": [
      "INFO:tensorflow:cs_dist: (4,), [1. 1. 1. 1.]\n"
     ]
    },
    {
     "name": "stderr",
     "output_type": "stream",
     "text": [
      "I0610 04:41:04.025435 139670860904320 bert_sct_utils_v2.py:307] cs_dist: (4,), [1. 1. 1. 1.]\n"
     ]
    },
    {
     "name": "stdout",
     "output_type": "stream",
     "text": [
      "INFO:tensorflow:*** Example ***\n"
     ]
    },
    {
     "name": "stderr",
     "output_type": "stream",
     "text": [
      "I0610 04:41:04.029639 139670860904320 bert_sct_utils_v2.py:299] *** Example ***\n"
     ]
    },
    {
     "name": "stdout",
     "output_type": "stream",
     "text": [
      "INFO:tensorflow:unique_id: test-1\n"
     ]
    },
    {
     "name": "stderr",
     "output_type": "stream",
     "text": [
      "I0610 04:41:04.031976 139670860904320 bert_sct_utils_v2.py:300] unique_id: test-1\n"
     ]
    },
    {
     "name": "stdout",
     "output_type": "stream",
     "text": [
      "INFO:tensorflow:tokens: [CLS] eva was raising two boys alone and needed money badly . she worked long hours as a hotel maid , earning minimum wage . but when a man left his wallet in his room , honest eva returned it . the man was so grateful to have his id and cards back . [SEP] he sc ##old ##ed her for what she had done . [SEP]\n"
     ]
    },
    {
     "name": "stderr",
     "output_type": "stream",
     "text": [
      "I0610 04:41:04.034371 139670860904320 bert_sct_utils_v2.py:301] tokens: [CLS] eva was raising two boys alone and needed money badly . she worked long hours as a hotel maid , earning minimum wage . but when a man left his wallet in his room , honest eva returned it . the man was so grateful to have his id and cards back . [SEP] he sc ##old ##ed her for what she had done . [SEP]\n"
     ]
    },
    {
     "name": "stdout",
     "output_type": "stream",
     "text": [
      "INFO:tensorflow:input_ids: 101 9345 2001 6274 2048 3337 2894 1998 2734 2769 6649 1012 2016 2499 2146 2847 2004 1037 3309 10850 1010 7414 6263 11897 1012 2021 2043 1037 2158 2187 2010 15882 1999 2010 2282 1010 7481 9345 2513 2009 1012 1996 2158 2001 2061 8794 2000 2031 2010 8909 1998 5329 2067 1012 102 2002 8040 11614 2098 2014 2005 2054 2016 2018 2589 1012 102 0 0 0 0 0 0 0 0 0 0 0 0 0 0 0 0 0 0 0 0 0 0 0 0 0 0 0 0 0 0 0 0 0 0 0 0 0 0 0 0 0 0 0 0 0 0 0 0 0 0 0 0 0 0 0 0 0 0 0 0 0 0 0 0 0 0 0 0 0 0 0 0 0 0 0 0 0 0 0 0 0 0 0 0 0 0 0 0 0 0 0 0 0 0 0 0 0 0 0 0 0 0 0 0 0 0 0 0 0 0 0 0 0 0 0 0 0 0 0 0 0 0 0 0 0 0 0 0 0 0 0 0 0 0 0 0 0 0 0 0 0 0 0 0 0 0 0 0 0 0 0 0 0 0 0 0 0 0 0 0 0 0 0 0 0 0 0 0 0 0 0 0 0 0 0 0 0 0 0 0 0 0 0 0 0 0 0 0 0 0 0 0 0 0 0 0 0 0 0 0 0 0 0 0 0 0 0 0 0 0 0 0 0 0 0 0 0 0 0 0 0 0 0 0 0 0 0 0 0 0 0 0 0 0 0 0 0 0 0 0 0 0 0 0 0 0 0 0 0 0 0 0 0 0 0 0 0 0 0 0 0 0 0 0 0 0 0 0 0 0 0 0 0 0 0 0 0 0 0 0 0 0 0 0 0 0 0 0 0 0 0 0 0 0 0 0 0 0 0 0 0 0 0 0 0 0 0 0 0 0 0 0 0 0 0 0 0 0 0 0 0 0 0 0 0 0 0 0 0 0 0 0 0\n"
     ]
    },
    {
     "name": "stderr",
     "output_type": "stream",
     "text": [
      "I0610 04:41:04.036544 139670860904320 bert_sct_utils_v2.py:302] input_ids: 101 9345 2001 6274 2048 3337 2894 1998 2734 2769 6649 1012 2016 2499 2146 2847 2004 1037 3309 10850 1010 7414 6263 11897 1012 2021 2043 1037 2158 2187 2010 15882 1999 2010 2282 1010 7481 9345 2513 2009 1012 1996 2158 2001 2061 8794 2000 2031 2010 8909 1998 5329 2067 1012 102 2002 8040 11614 2098 2014 2005 2054 2016 2018 2589 1012 102 0 0 0 0 0 0 0 0 0 0 0 0 0 0 0 0 0 0 0 0 0 0 0 0 0 0 0 0 0 0 0 0 0 0 0 0 0 0 0 0 0 0 0 0 0 0 0 0 0 0 0 0 0 0 0 0 0 0 0 0 0 0 0 0 0 0 0 0 0 0 0 0 0 0 0 0 0 0 0 0 0 0 0 0 0 0 0 0 0 0 0 0 0 0 0 0 0 0 0 0 0 0 0 0 0 0 0 0 0 0 0 0 0 0 0 0 0 0 0 0 0 0 0 0 0 0 0 0 0 0 0 0 0 0 0 0 0 0 0 0 0 0 0 0 0 0 0 0 0 0 0 0 0 0 0 0 0 0 0 0 0 0 0 0 0 0 0 0 0 0 0 0 0 0 0 0 0 0 0 0 0 0 0 0 0 0 0 0 0 0 0 0 0 0 0 0 0 0 0 0 0 0 0 0 0 0 0 0 0 0 0 0 0 0 0 0 0 0 0 0 0 0 0 0 0 0 0 0 0 0 0 0 0 0 0 0 0 0 0 0 0 0 0 0 0 0 0 0 0 0 0 0 0 0 0 0 0 0 0 0 0 0 0 0 0 0 0 0 0 0 0 0 0 0 0 0 0 0 0 0 0 0 0 0 0 0 0 0 0 0 0 0 0 0 0 0 0 0 0 0 0 0 0 0 0 0 0 0 0 0 0 0 0 0 0 0 0 0 0 0 0 0 0 0 0 0 0 0 0 0 0 0 0\n"
     ]
    },
    {
     "name": "stdout",
     "output_type": "stream",
     "text": [
      "INFO:tensorflow:input_mask: 1 1 1 1 1 1 1 1 1 1 1 1 1 1 1 1 1 1 1 1 1 1 1 1 1 1 1 1 1 1 1 1 1 1 1 1 1 1 1 1 1 1 1 1 1 1 1 1 1 1 1 1 1 1 1 1 1 1 1 1 1 1 1 1 1 1 1 0 0 0 0 0 0 0 0 0 0 0 0 0 0 0 0 0 0 0 0 0 0 0 0 0 0 0 0 0 0 0 0 0 0 0 0 0 0 0 0 0 0 0 0 0 0 0 0 0 0 0 0 0 0 0 0 0 0 0 0 0 0 0 0 0 0 0 0 0 0 0 0 0 0 0 0 0 0 0 0 0 0 0 0 0 0 0 0 0 0 0 0 0 0 0 0 0 0 0 0 0 0 0 0 0 0 0 0 0 0 0 0 0 0 0 0 0 0 0 0 0 0 0 0 0 0 0 0 0 0 0 0 0 0 0 0 0 0 0 0 0 0 0 0 0 0 0 0 0 0 0 0 0 0 0 0 0 0 0 0 0 0 0 0 0 0 0 0 0 0 0 0 0 0 0 0 0 0 0 0 0 0 0 0 0 0 0 0 0 0 0 0 0 0 0 0 0 0 0 0 0 0 0 0 0 0 0 0 0 0 0 0 0 0 0 0 0 0 0 0 0 0 0 0 0 0 0 0 0 0 0 0 0 0 0 0 0 0 0 0 0 0 0 0 0 0 0 0 0 0 0 0 0 0 0 0 0 0 0 0 0 0 0 0 0 0 0 0 0 0 0 0 0 0 0 0 0 0 0 0 0 0 0 0 0 0 0 0 0 0 0 0 0 0 0 0 0 0 0 0 0 0 0 0 0 0 0 0 0 0 0 0 0 0 0 0 0 0 0 0 0 0 0 0 0 0 0 0 0 0 0 0 0\n"
     ]
    },
    {
     "name": "stderr",
     "output_type": "stream",
     "text": [
      "I0610 04:41:04.038860 139670860904320 bert_sct_utils_v2.py:303] input_mask: 1 1 1 1 1 1 1 1 1 1 1 1 1 1 1 1 1 1 1 1 1 1 1 1 1 1 1 1 1 1 1 1 1 1 1 1 1 1 1 1 1 1 1 1 1 1 1 1 1 1 1 1 1 1 1 1 1 1 1 1 1 1 1 1 1 1 1 0 0 0 0 0 0 0 0 0 0 0 0 0 0 0 0 0 0 0 0 0 0 0 0 0 0 0 0 0 0 0 0 0 0 0 0 0 0 0 0 0 0 0 0 0 0 0 0 0 0 0 0 0 0 0 0 0 0 0 0 0 0 0 0 0 0 0 0 0 0 0 0 0 0 0 0 0 0 0 0 0 0 0 0 0 0 0 0 0 0 0 0 0 0 0 0 0 0 0 0 0 0 0 0 0 0 0 0 0 0 0 0 0 0 0 0 0 0 0 0 0 0 0 0 0 0 0 0 0 0 0 0 0 0 0 0 0 0 0 0 0 0 0 0 0 0 0 0 0 0 0 0 0 0 0 0 0 0 0 0 0 0 0 0 0 0 0 0 0 0 0 0 0 0 0 0 0 0 0 0 0 0 0 0 0 0 0 0 0 0 0 0 0 0 0 0 0 0 0 0 0 0 0 0 0 0 0 0 0 0 0 0 0 0 0 0 0 0 0 0 0 0 0 0 0 0 0 0 0 0 0 0 0 0 0 0 0 0 0 0 0 0 0 0 0 0 0 0 0 0 0 0 0 0 0 0 0 0 0 0 0 0 0 0 0 0 0 0 0 0 0 0 0 0 0 0 0 0 0 0 0 0 0 0 0 0 0 0 0 0 0 0 0 0 0 0 0 0 0 0 0 0 0 0 0 0 0 0 0 0 0 0 0 0 0 0 0 0 0 0 0 0 0 0 0 0 0 0 0 0 0 0 0\n"
     ]
    },
    {
     "name": "stdout",
     "output_type": "stream",
     "text": [
      "INFO:tensorflow:segment_ids: 0 0 0 0 0 0 0 0 0 0 0 0 0 0 0 0 0 0 0 0 0 0 0 0 0 0 0 0 0 0 0 0 0 0 0 0 0 0 0 0 0 0 0 0 0 0 0 0 0 0 0 0 0 0 0 1 1 1 1 1 1 1 1 1 1 1 1 0 0 0 0 0 0 0 0 0 0 0 0 0 0 0 0 0 0 0 0 0 0 0 0 0 0 0 0 0 0 0 0 0 0 0 0 0 0 0 0 0 0 0 0 0 0 0 0 0 0 0 0 0 0 0 0 0 0 0 0 0 0 0 0 0 0 0 0 0 0 0 0 0 0 0 0 0 0 0 0 0 0 0 0 0 0 0 0 0 0 0 0 0 0 0 0 0 0 0 0 0 0 0 0 0 0 0 0 0 0 0 0 0 0 0 0 0 0 0 0 0 0 0 0 0 0 0 0 0 0 0 0 0 0 0 0 0 0 0 0 0 0 0 0 0 0 0 0 0 0 0 0 0 0 0 0 0 0 0 0 0 0 0 0 0 0 0 0 0 0 0 0 0 0 0 0 0 0 0 0 0 0 0 0 0 0 0 0 0 0 0 0 0 0 0 0 0 0 0 0 0 0 0 0 0 0 0 0 0 0 0 0 0 0 0 0 0 0 0 0 0 0 0 0 0 0 0 0 0 0 0 0 0 0 0 0 0 0 0 0 0 0 0 0 0 0 0 0 0 0 0 0 0 0 0 0 0 0 0 0 0 0 0 0 0 0 0 0 0 0 0 0 0 0 0 0 0 0 0 0 0 0 0 0 0 0 0 0 0 0 0 0 0 0 0 0 0 0 0 0 0 0 0 0 0 0 0 0 0 0 0 0 0 0 0 0 0 0 0 0 0 0 0 0 0 0 0 0 0 0 0 0 0\n"
     ]
    },
    {
     "name": "stderr",
     "output_type": "stream",
     "text": [
      "I0610 04:41:04.043224 139670860904320 bert_sct_utils_v2.py:304] segment_ids: 0 0 0 0 0 0 0 0 0 0 0 0 0 0 0 0 0 0 0 0 0 0 0 0 0 0 0 0 0 0 0 0 0 0 0 0 0 0 0 0 0 0 0 0 0 0 0 0 0 0 0 0 0 0 0 1 1 1 1 1 1 1 1 1 1 1 1 0 0 0 0 0 0 0 0 0 0 0 0 0 0 0 0 0 0 0 0 0 0 0 0 0 0 0 0 0 0 0 0 0 0 0 0 0 0 0 0 0 0 0 0 0 0 0 0 0 0 0 0 0 0 0 0 0 0 0 0 0 0 0 0 0 0 0 0 0 0 0 0 0 0 0 0 0 0 0 0 0 0 0 0 0 0 0 0 0 0 0 0 0 0 0 0 0 0 0 0 0 0 0 0 0 0 0 0 0 0 0 0 0 0 0 0 0 0 0 0 0 0 0 0 0 0 0 0 0 0 0 0 0 0 0 0 0 0 0 0 0 0 0 0 0 0 0 0 0 0 0 0 0 0 0 0 0 0 0 0 0 0 0 0 0 0 0 0 0 0 0 0 0 0 0 0 0 0 0 0 0 0 0 0 0 0 0 0 0 0 0 0 0 0 0 0 0 0 0 0 0 0 0 0 0 0 0 0 0 0 0 0 0 0 0 0 0 0 0 0 0 0 0 0 0 0 0 0 0 0 0 0 0 0 0 0 0 0 0 0 0 0 0 0 0 0 0 0 0 0 0 0 0 0 0 0 0 0 0 0 0 0 0 0 0 0 0 0 0 0 0 0 0 0 0 0 0 0 0 0 0 0 0 0 0 0 0 0 0 0 0 0 0 0 0 0 0 0 0 0 0 0 0 0 0 0 0 0 0 0 0 0 0 0 0 0 0 0 0 0 0 0 0 0 0 0 0 0 0 0 0 0 0\n"
     ]
    },
    {
     "name": "stdout",
     "output_type": "stream",
     "text": [
      "INFO:tensorflow:label: 0 (id = 0)\n"
     ]
    },
    {
     "name": "stderr",
     "output_type": "stream",
     "text": [
      "I0610 04:41:04.045662 139670860904320 bert_sct_utils_v2.py:305] label: 0 (id = 0)\n"
     ]
    },
    {
     "name": "stdout",
     "output_type": "stream",
     "text": [
      "INFO:tensorflow:sentiment: (20,), [-0.6249  0.389   0.611   0.      0.      0.      1.      0.      0.6652\n",
      "  0.      0.729   0.271   0.5949  0.      0.74    0.26    0.      0.\n",
      "  1.      0.    ]\n"
     ]
    },
    {
     "name": "stderr",
     "output_type": "stream",
     "text": [
      "I0610 04:41:04.048713 139670860904320 bert_sct_utils_v2.py:306] sentiment: (20,), [-0.6249  0.389   0.611   0.      0.      0.      1.      0.      0.6652\n",
      "  0.      0.729   0.271   0.5949  0.      0.74    0.26    0.      0.\n",
      "  1.      0.    ]\n"
     ]
    },
    {
     "name": "stdout",
     "output_type": "stream",
     "text": [
      "INFO:tensorflow:cs_dist: (4,), [-1. -1. -1. -1.]\n"
     ]
    },
    {
     "name": "stderr",
     "output_type": "stream",
     "text": [
      "I0610 04:41:04.051081 139670860904320 bert_sct_utils_v2.py:307] cs_dist: (4,), [-1. -1. -1. -1.]\n"
     ]
    },
    {
     "name": "stdout",
     "output_type": "stream",
     "text": [
      "INFO:tensorflow:Writing example 1000 of 2343\n"
     ]
    },
    {
     "name": "stderr",
     "output_type": "stream",
     "text": [
      "I0610 04:41:06.927122 139670860904320 bert_sct_utils_v2.py:322] Writing example 1000 of 2343\n"
     ]
    },
    {
     "name": "stdout",
     "output_type": "stream",
     "text": [
      "INFO:tensorflow:Writing example 2000 of 2343\n"
     ]
    },
    {
     "name": "stderr",
     "output_type": "stream",
     "text": [
      "I0610 04:41:09.686414 139670860904320 bert_sct_utils_v2.py:322] Writing example 2000 of 2343\n"
     ]
    },
    {
     "name": "stdout",
     "output_type": "stream",
     "text": [
      "INFO:tensorflow:***** Running prediction*****\n"
     ]
    },
    {
     "name": "stderr",
     "output_type": "stream",
     "text": [
      "I0610 04:41:10.632145 139670860904320 <ipython-input-3-042eac69eb23>:118] ***** Running prediction*****\n"
     ]
    },
    {
     "name": "stdout",
     "output_type": "stream",
     "text": [
      "INFO:tensorflow:  Num examples = 2343\n"
     ]
    },
    {
     "name": "stderr",
     "output_type": "stream",
     "text": [
      "I0610 04:41:10.634651 139670860904320 <ipython-input-3-042eac69eb23>:119]   Num examples = 2343\n"
     ]
    },
    {
     "name": "stdout",
     "output_type": "stream",
     "text": [
      "INFO:tensorflow:***** Predict results *****\n"
     ]
    },
    {
     "name": "stderr",
     "output_type": "stream",
     "text": [
      "I0610 04:41:10.636498 139670860904320 <ipython-input-3-042eac69eb23>:131] ***** Predict results *****\n"
     ]
    },
    {
     "name": "stdout",
     "output_type": "stream",
     "text": [
      "INFO:tensorflow:Could not find trained model in model_dir: ./output_F/, running initialization to predict.\n"
     ]
    },
    {
     "name": "stderr",
     "output_type": "stream",
     "text": [
      "I0610 04:41:10.646017 139670860904320 estimator.py:604] Could not find trained model in model_dir: ./output_F/, running initialization to predict.\n"
     ]
    },
    {
     "name": "stdout",
     "output_type": "stream",
     "text": [
      "INFO:tensorflow:Calling model_fn.\n"
     ]
    },
    {
     "name": "stderr",
     "output_type": "stream",
     "text": [
      "I0610 04:41:10.707215 139670860904320 estimator.py:1111] Calling model_fn.\n"
     ]
    },
    {
     "name": "stdout",
     "output_type": "stream",
     "text": [
      "INFO:tensorflow:Saver not created because there are no variables in the graph to restore\n"
     ]
    },
    {
     "name": "stderr",
     "output_type": "stream",
     "text": [
      "I0610 04:41:14.225655 139670860904320 saver.py:1483] Saver not created because there are no variables in the graph to restore\n"
     ]
    },
    {
     "name": "stdout",
     "output_type": "stream",
     "text": [
      "INFO:tensorflow:Saver not created because there are no variables in the graph to restore\n"
     ]
    },
    {
     "name": "stderr",
     "output_type": "stream",
     "text": [
      "I0610 04:41:15.177034 139670860904320 saver.py:1483] Saver not created because there are no variables in the graph to restore\n"
     ]
    },
    {
     "name": "stdout",
     "output_type": "stream",
     "text": [
      "INFO:tensorflow:logits_pos, shape = (?, 1)\n"
     ]
    },
    {
     "name": "stderr",
     "output_type": "stream",
     "text": [
      "I0610 04:41:15.363581 139670860904320 bert_sct_utils_v2.py:535] logits_pos, shape = (?, 1)\n"
     ]
    },
    {
     "name": "stdout",
     "output_type": "stream",
     "text": [
      "INFO:tensorflow:logits_neg, shape = (?, 1)\n"
     ]
    },
    {
     "name": "stderr",
     "output_type": "stream",
     "text": [
      "I0610 04:41:15.365556 139670860904320 bert_sct_utils_v2.py:536] logits_neg, shape = (?, 1)\n"
     ]
    },
    {
     "name": "stdout",
     "output_type": "stream",
     "text": [
      "INFO:tensorflow:logits, shape = (?, 2)\n"
     ]
    },
    {
     "name": "stderr",
     "output_type": "stream",
     "text": [
      "I0610 04:41:15.368978 139670860904320 bert_sct_utils_v2.py:537] logits, shape = (?, 2)\n"
     ]
    },
    {
     "name": "stdout",
     "output_type": "stream",
     "text": [
      "INFO:tensorflow:probabilities, shape = (?, 2)\n"
     ]
    },
    {
     "name": "stderr",
     "output_type": "stream",
     "text": [
      "I0610 04:41:15.373163 139670860904320 bert_sct_utils_v2.py:539] probabilities, shape = (?, 2)\n"
     ]
    },
    {
     "name": "stdout",
     "output_type": "stream",
     "text": [
      "INFO:tensorflow:log_probs, shape = (?, 2)\n"
     ]
    },
    {
     "name": "stderr",
     "output_type": "stream",
     "text": [
      "I0610 04:41:15.377295 139670860904320 bert_sct_utils_v2.py:540] log_probs, shape = (?, 2)\n"
     ]
    },
    {
     "name": "stdout",
     "output_type": "stream",
     "text": [
      "INFO:tensorflow:one_hot_labels, shape = (?, 2)\n"
     ]
    },
    {
     "name": "stderr",
     "output_type": "stream",
     "text": [
      "I0610 04:41:15.381273 139670860904320 bert_sct_utils_v2.py:541] one_hot_labels, shape = (?, 2)\n"
     ]
    },
    {
     "name": "stdout",
     "output_type": "stream",
     "text": [
      "INFO:tensorflow:predicted_labels, shape = (?,)\n"
     ]
    },
    {
     "name": "stderr",
     "output_type": "stream",
     "text": [
      "I0610 04:41:15.385067 139670860904320 bert_sct_utils_v2.py:542] predicted_labels, shape = (?,)\n"
     ]
    },
    {
     "name": "stdout",
     "output_type": "stream",
     "text": [
      "INFO:tensorflow:per_example_loss, shape = (?,)\n"
     ]
    },
    {
     "name": "stderr",
     "output_type": "stream",
     "text": [
      "I0610 04:41:15.389027 139670860904320 bert_sct_utils_v2.py:543] per_example_loss, shape = (?,)\n"
     ]
    },
    {
     "name": "stdout",
     "output_type": "stream",
     "text": [
      "INFO:tensorflow:loss, shape = ()\n"
     ]
    },
    {
     "name": "stderr",
     "output_type": "stream",
     "text": [
      "I0610 04:41:15.393262 139670860904320 bert_sct_utils_v2.py:544] loss, shape = ()\n"
     ]
    },
    {
     "name": "stdout",
     "output_type": "stream",
     "text": [
      "INFO:tensorflow:**** Trainable Variables ****\n"
     ]
    },
    {
     "name": "stderr",
     "output_type": "stream",
     "text": [
      "I0610 04:41:15.438028 139670860904320 bert_sct_utils_v2.py:595] **** Trainable Variables ****\n"
     ]
    },
    {
     "name": "stdout",
     "output_type": "stream",
     "text": [
      "INFO:tensorflow:  name = module/bert/embeddings/word_embeddings:0, shape = (30522, 768)\n"
     ]
    },
    {
     "name": "stderr",
     "output_type": "stream",
     "text": [
      "I0610 04:41:15.439901 139670860904320 bert_sct_utils_v2.py:600]   name = module/bert/embeddings/word_embeddings:0, shape = (30522, 768)\n"
     ]
    },
    {
     "name": "stdout",
     "output_type": "stream",
     "text": [
      "INFO:tensorflow:  name = module/bert/embeddings/token_type_embeddings:0, shape = (2, 768)\n"
     ]
    },
    {
     "name": "stderr",
     "output_type": "stream",
     "text": [
      "I0610 04:41:15.441799 139670860904320 bert_sct_utils_v2.py:600]   name = module/bert/embeddings/token_type_embeddings:0, shape = (2, 768)\n"
     ]
    },
    {
     "name": "stdout",
     "output_type": "stream",
     "text": [
      "INFO:tensorflow:  name = module/bert/embeddings/position_embeddings:0, shape = (512, 768)\n"
     ]
    },
    {
     "name": "stderr",
     "output_type": "stream",
     "text": [
      "I0610 04:41:15.443654 139670860904320 bert_sct_utils_v2.py:600]   name = module/bert/embeddings/position_embeddings:0, shape = (512, 768)\n"
     ]
    },
    {
     "name": "stdout",
     "output_type": "stream",
     "text": [
      "INFO:tensorflow:  name = module/bert/embeddings/LayerNorm/beta:0, shape = (768,)\n"
     ]
    },
    {
     "name": "stderr",
     "output_type": "stream",
     "text": [
      "I0610 04:41:15.447032 139670860904320 bert_sct_utils_v2.py:600]   name = module/bert/embeddings/LayerNorm/beta:0, shape = (768,)\n"
     ]
    },
    {
     "name": "stdout",
     "output_type": "stream",
     "text": [
      "INFO:tensorflow:  name = module/bert/embeddings/LayerNorm/gamma:0, shape = (768,)\n"
     ]
    },
    {
     "name": "stderr",
     "output_type": "stream",
     "text": [
      "I0610 04:41:15.449991 139670860904320 bert_sct_utils_v2.py:600]   name = module/bert/embeddings/LayerNorm/gamma:0, shape = (768,)\n"
     ]
    },
    {
     "name": "stdout",
     "output_type": "stream",
     "text": [
      "INFO:tensorflow:  name = module/bert/encoder/layer_0/attention/self/query/kernel:0, shape = (768, 768)\n"
     ]
    },
    {
     "name": "stderr",
     "output_type": "stream",
     "text": [
      "I0610 04:41:15.452259 139670860904320 bert_sct_utils_v2.py:600]   name = module/bert/encoder/layer_0/attention/self/query/kernel:0, shape = (768, 768)\n"
     ]
    },
    {
     "name": "stdout",
     "output_type": "stream",
     "text": [
      "INFO:tensorflow:  name = module/bert/encoder/layer_0/attention/self/query/bias:0, shape = (768,)\n"
     ]
    },
    {
     "name": "stderr",
     "output_type": "stream",
     "text": [
      "I0610 04:41:15.454372 139670860904320 bert_sct_utils_v2.py:600]   name = module/bert/encoder/layer_0/attention/self/query/bias:0, shape = (768,)\n"
     ]
    },
    {
     "name": "stdout",
     "output_type": "stream",
     "text": [
      "INFO:tensorflow:  name = module/bert/encoder/layer_0/attention/self/key/kernel:0, shape = (768, 768)\n"
     ]
    },
    {
     "name": "stderr",
     "output_type": "stream",
     "text": [
      "I0610 04:41:15.456667 139670860904320 bert_sct_utils_v2.py:600]   name = module/bert/encoder/layer_0/attention/self/key/kernel:0, shape = (768, 768)\n"
     ]
    },
    {
     "name": "stdout",
     "output_type": "stream",
     "text": [
      "INFO:tensorflow:  name = module/bert/encoder/layer_0/attention/self/key/bias:0, shape = (768,)\n"
     ]
    },
    {
     "name": "stderr",
     "output_type": "stream",
     "text": [
      "I0610 04:41:15.458629 139670860904320 bert_sct_utils_v2.py:600]   name = module/bert/encoder/layer_0/attention/self/key/bias:0, shape = (768,)\n"
     ]
    },
    {
     "name": "stdout",
     "output_type": "stream",
     "text": [
      "INFO:tensorflow:  name = module/bert/encoder/layer_0/attention/self/value/kernel:0, shape = (768, 768)\n"
     ]
    },
    {
     "name": "stderr",
     "output_type": "stream",
     "text": [
      "I0610 04:41:15.460604 139670860904320 bert_sct_utils_v2.py:600]   name = module/bert/encoder/layer_0/attention/self/value/kernel:0, shape = (768, 768)\n"
     ]
    },
    {
     "name": "stdout",
     "output_type": "stream",
     "text": [
      "INFO:tensorflow:  name = module/bert/encoder/layer_0/attention/self/value/bias:0, shape = (768,)\n"
     ]
    },
    {
     "name": "stderr",
     "output_type": "stream",
     "text": [
      "I0610 04:41:15.462944 139670860904320 bert_sct_utils_v2.py:600]   name = module/bert/encoder/layer_0/attention/self/value/bias:0, shape = (768,)\n"
     ]
    },
    {
     "name": "stdout",
     "output_type": "stream",
     "text": [
      "INFO:tensorflow:  name = module/bert/encoder/layer_0/attention/output/dense/kernel:0, shape = (768, 768)\n"
     ]
    },
    {
     "name": "stderr",
     "output_type": "stream",
     "text": [
      "I0610 04:41:15.465059 139670860904320 bert_sct_utils_v2.py:600]   name = module/bert/encoder/layer_0/attention/output/dense/kernel:0, shape = (768, 768)\n"
     ]
    },
    {
     "name": "stdout",
     "output_type": "stream",
     "text": [
      "INFO:tensorflow:  name = module/bert/encoder/layer_0/attention/output/dense/bias:0, shape = (768,)\n"
     ]
    },
    {
     "name": "stderr",
     "output_type": "stream",
     "text": [
      "I0610 04:41:15.467110 139670860904320 bert_sct_utils_v2.py:600]   name = module/bert/encoder/layer_0/attention/output/dense/bias:0, shape = (768,)\n"
     ]
    },
    {
     "name": "stdout",
     "output_type": "stream",
     "text": [
      "INFO:tensorflow:  name = module/bert/encoder/layer_0/attention/output/LayerNorm/beta:0, shape = (768,)\n"
     ]
    },
    {
     "name": "stderr",
     "output_type": "stream",
     "text": [
      "I0610 04:41:15.469399 139670860904320 bert_sct_utils_v2.py:600]   name = module/bert/encoder/layer_0/attention/output/LayerNorm/beta:0, shape = (768,)\n"
     ]
    },
    {
     "name": "stdout",
     "output_type": "stream",
     "text": [
      "INFO:tensorflow:  name = module/bert/encoder/layer_0/attention/output/LayerNorm/gamma:0, shape = (768,)\n"
     ]
    },
    {
     "name": "stderr",
     "output_type": "stream",
     "text": [
      "I0610 04:41:15.471369 139670860904320 bert_sct_utils_v2.py:600]   name = module/bert/encoder/layer_0/attention/output/LayerNorm/gamma:0, shape = (768,)\n"
     ]
    },
    {
     "name": "stdout",
     "output_type": "stream",
     "text": [
      "INFO:tensorflow:  name = module/bert/encoder/layer_0/intermediate/dense/kernel:0, shape = (768, 3072)\n"
     ]
    },
    {
     "name": "stderr",
     "output_type": "stream",
     "text": [
      "I0610 04:41:15.473278 139670860904320 bert_sct_utils_v2.py:600]   name = module/bert/encoder/layer_0/intermediate/dense/kernel:0, shape = (768, 3072)\n"
     ]
    },
    {
     "name": "stdout",
     "output_type": "stream",
     "text": [
      "INFO:tensorflow:  name = module/bert/encoder/layer_0/intermediate/dense/bias:0, shape = (3072,)\n"
     ]
    },
    {
     "name": "stderr",
     "output_type": "stream",
     "text": [
      "I0610 04:41:15.475594 139670860904320 bert_sct_utils_v2.py:600]   name = module/bert/encoder/layer_0/intermediate/dense/bias:0, shape = (3072,)\n"
     ]
    },
    {
     "name": "stdout",
     "output_type": "stream",
     "text": [
      "INFO:tensorflow:  name = module/bert/encoder/layer_0/output/dense/kernel:0, shape = (3072, 768)\n"
     ]
    },
    {
     "name": "stderr",
     "output_type": "stream",
     "text": [
      "I0610 04:41:15.477671 139670860904320 bert_sct_utils_v2.py:600]   name = module/bert/encoder/layer_0/output/dense/kernel:0, shape = (3072, 768)\n"
     ]
    },
    {
     "name": "stdout",
     "output_type": "stream",
     "text": [
      "INFO:tensorflow:  name = module/bert/encoder/layer_0/output/dense/bias:0, shape = (768,)\n"
     ]
    },
    {
     "name": "stderr",
     "output_type": "stream",
     "text": [
      "I0610 04:41:15.479678 139670860904320 bert_sct_utils_v2.py:600]   name = module/bert/encoder/layer_0/output/dense/bias:0, shape = (768,)\n"
     ]
    },
    {
     "name": "stdout",
     "output_type": "stream",
     "text": [
      "INFO:tensorflow:  name = module/bert/encoder/layer_0/output/LayerNorm/beta:0, shape = (768,)\n"
     ]
    },
    {
     "name": "stderr",
     "output_type": "stream",
     "text": [
      "I0610 04:41:15.481842 139670860904320 bert_sct_utils_v2.py:600]   name = module/bert/encoder/layer_0/output/LayerNorm/beta:0, shape = (768,)\n"
     ]
    },
    {
     "name": "stdout",
     "output_type": "stream",
     "text": [
      "INFO:tensorflow:  name = module/bert/encoder/layer_0/output/LayerNorm/gamma:0, shape = (768,)\n"
     ]
    },
    {
     "name": "stderr",
     "output_type": "stream",
     "text": [
      "I0610 04:41:15.483853 139670860904320 bert_sct_utils_v2.py:600]   name = module/bert/encoder/layer_0/output/LayerNorm/gamma:0, shape = (768,)\n"
     ]
    },
    {
     "name": "stdout",
     "output_type": "stream",
     "text": [
      "INFO:tensorflow:  name = module/bert/encoder/layer_1/attention/self/query/kernel:0, shape = (768, 768)\n"
     ]
    },
    {
     "name": "stderr",
     "output_type": "stream",
     "text": [
      "I0610 04:41:15.485836 139670860904320 bert_sct_utils_v2.py:600]   name = module/bert/encoder/layer_1/attention/self/query/kernel:0, shape = (768, 768)\n"
     ]
    },
    {
     "name": "stdout",
     "output_type": "stream",
     "text": [
      "INFO:tensorflow:  name = module/bert/encoder/layer_1/attention/self/query/bias:0, shape = (768,)\n"
     ]
    },
    {
     "name": "stderr",
     "output_type": "stream",
     "text": [
      "I0610 04:41:15.488255 139670860904320 bert_sct_utils_v2.py:600]   name = module/bert/encoder/layer_1/attention/self/query/bias:0, shape = (768,)\n"
     ]
    },
    {
     "name": "stdout",
     "output_type": "stream",
     "text": [
      "INFO:tensorflow:  name = module/bert/encoder/layer_1/attention/self/key/kernel:0, shape = (768, 768)\n"
     ]
    },
    {
     "name": "stderr",
     "output_type": "stream",
     "text": [
      "I0610 04:41:15.490404 139670860904320 bert_sct_utils_v2.py:600]   name = module/bert/encoder/layer_1/attention/self/key/kernel:0, shape = (768, 768)\n"
     ]
    },
    {
     "name": "stdout",
     "output_type": "stream",
     "text": [
      "INFO:tensorflow:  name = module/bert/encoder/layer_1/attention/self/key/bias:0, shape = (768,)\n"
     ]
    },
    {
     "name": "stderr",
     "output_type": "stream",
     "text": [
      "I0610 04:41:15.494337 139670860904320 bert_sct_utils_v2.py:600]   name = module/bert/encoder/layer_1/attention/self/key/bias:0, shape = (768,)\n"
     ]
    },
    {
     "name": "stdout",
     "output_type": "stream",
     "text": [
      "INFO:tensorflow:  name = module/bert/encoder/layer_1/attention/self/value/kernel:0, shape = (768, 768)\n"
     ]
    },
    {
     "name": "stderr",
     "output_type": "stream",
     "text": [
      "I0610 04:41:15.496388 139670860904320 bert_sct_utils_v2.py:600]   name = module/bert/encoder/layer_1/attention/self/value/kernel:0, shape = (768, 768)\n"
     ]
    },
    {
     "name": "stdout",
     "output_type": "stream",
     "text": [
      "INFO:tensorflow:  name = module/bert/encoder/layer_1/attention/self/value/bias:0, shape = (768,)\n"
     ]
    },
    {
     "name": "stderr",
     "output_type": "stream",
     "text": [
      "I0610 04:41:15.498381 139670860904320 bert_sct_utils_v2.py:600]   name = module/bert/encoder/layer_1/attention/self/value/bias:0, shape = (768,)\n"
     ]
    },
    {
     "name": "stdout",
     "output_type": "stream",
     "text": [
      "INFO:tensorflow:  name = module/bert/encoder/layer_1/attention/output/dense/kernel:0, shape = (768, 768)\n"
     ]
    },
    {
     "name": "stderr",
     "output_type": "stream",
     "text": [
      "I0610 04:41:15.500584 139670860904320 bert_sct_utils_v2.py:600]   name = module/bert/encoder/layer_1/attention/output/dense/kernel:0, shape = (768, 768)\n"
     ]
    },
    {
     "name": "stdout",
     "output_type": "stream",
     "text": [
      "INFO:tensorflow:  name = module/bert/encoder/layer_1/attention/output/dense/bias:0, shape = (768,)\n"
     ]
    },
    {
     "name": "stderr",
     "output_type": "stream",
     "text": [
      "I0610 04:41:15.502580 139670860904320 bert_sct_utils_v2.py:600]   name = module/bert/encoder/layer_1/attention/output/dense/bias:0, shape = (768,)\n"
     ]
    },
    {
     "name": "stdout",
     "output_type": "stream",
     "text": [
      "INFO:tensorflow:  name = module/bert/encoder/layer_1/attention/output/LayerNorm/beta:0, shape = (768,)\n"
     ]
    },
    {
     "name": "stderr",
     "output_type": "stream",
     "text": [
      "I0610 04:41:15.504621 139670860904320 bert_sct_utils_v2.py:600]   name = module/bert/encoder/layer_1/attention/output/LayerNorm/beta:0, shape = (768,)\n"
     ]
    },
    {
     "name": "stdout",
     "output_type": "stream",
     "text": [
      "INFO:tensorflow:  name = module/bert/encoder/layer_1/attention/output/LayerNorm/gamma:0, shape = (768,)\n"
     ]
    },
    {
     "name": "stderr",
     "output_type": "stream",
     "text": [
      "I0610 04:41:15.507023 139670860904320 bert_sct_utils_v2.py:600]   name = module/bert/encoder/layer_1/attention/output/LayerNorm/gamma:0, shape = (768,)\n"
     ]
    },
    {
     "name": "stdout",
     "output_type": "stream",
     "text": [
      "INFO:tensorflow:  name = module/bert/encoder/layer_1/intermediate/dense/kernel:0, shape = (768, 3072)\n"
     ]
    },
    {
     "name": "stderr",
     "output_type": "stream",
     "text": [
      "I0610 04:41:15.509042 139670860904320 bert_sct_utils_v2.py:600]   name = module/bert/encoder/layer_1/intermediate/dense/kernel:0, shape = (768, 3072)\n"
     ]
    },
    {
     "name": "stdout",
     "output_type": "stream",
     "text": [
      "INFO:tensorflow:  name = module/bert/encoder/layer_1/intermediate/dense/bias:0, shape = (3072,)\n"
     ]
    },
    {
     "name": "stderr",
     "output_type": "stream",
     "text": [
      "I0610 04:41:15.511028 139670860904320 bert_sct_utils_v2.py:600]   name = module/bert/encoder/layer_1/intermediate/dense/bias:0, shape = (3072,)\n"
     ]
    },
    {
     "name": "stdout",
     "output_type": "stream",
     "text": [
      "INFO:tensorflow:  name = module/bert/encoder/layer_1/output/dense/kernel:0, shape = (3072, 768)\n"
     ]
    },
    {
     "name": "stderr",
     "output_type": "stream",
     "text": [
      "I0610 04:41:15.513248 139670860904320 bert_sct_utils_v2.py:600]   name = module/bert/encoder/layer_1/output/dense/kernel:0, shape = (3072, 768)\n"
     ]
    },
    {
     "name": "stdout",
     "output_type": "stream",
     "text": [
      "INFO:tensorflow:  name = module/bert/encoder/layer_1/output/dense/bias:0, shape = (768,)\n"
     ]
    },
    {
     "name": "stderr",
     "output_type": "stream",
     "text": [
      "I0610 04:41:15.515413 139670860904320 bert_sct_utils_v2.py:600]   name = module/bert/encoder/layer_1/output/dense/bias:0, shape = (768,)\n"
     ]
    },
    {
     "name": "stdout",
     "output_type": "stream",
     "text": [
      "INFO:tensorflow:  name = module/bert/encoder/layer_1/output/LayerNorm/beta:0, shape = (768,)\n"
     ]
    },
    {
     "name": "stderr",
     "output_type": "stream",
     "text": [
      "I0610 04:41:15.517498 139670860904320 bert_sct_utils_v2.py:600]   name = module/bert/encoder/layer_1/output/LayerNorm/beta:0, shape = (768,)\n"
     ]
    },
    {
     "name": "stdout",
     "output_type": "stream",
     "text": [
      "INFO:tensorflow:  name = module/bert/encoder/layer_1/output/LayerNorm/gamma:0, shape = (768,)\n"
     ]
    },
    {
     "name": "stderr",
     "output_type": "stream",
     "text": [
      "I0610 04:41:15.519863 139670860904320 bert_sct_utils_v2.py:600]   name = module/bert/encoder/layer_1/output/LayerNorm/gamma:0, shape = (768,)\n"
     ]
    },
    {
     "name": "stdout",
     "output_type": "stream",
     "text": [
      "INFO:tensorflow:  name = module/bert/encoder/layer_2/attention/self/query/kernel:0, shape = (768, 768)\n"
     ]
    },
    {
     "name": "stderr",
     "output_type": "stream",
     "text": [
      "I0610 04:41:15.521827 139670860904320 bert_sct_utils_v2.py:600]   name = module/bert/encoder/layer_2/attention/self/query/kernel:0, shape = (768, 768)\n"
     ]
    },
    {
     "name": "stdout",
     "output_type": "stream",
     "text": [
      "INFO:tensorflow:  name = module/bert/encoder/layer_2/attention/self/query/bias:0, shape = (768,)\n"
     ]
    },
    {
     "name": "stderr",
     "output_type": "stream",
     "text": [
      "I0610 04:41:15.523867 139670860904320 bert_sct_utils_v2.py:600]   name = module/bert/encoder/layer_2/attention/self/query/bias:0, shape = (768,)\n"
     ]
    },
    {
     "name": "stdout",
     "output_type": "stream",
     "text": [
      "INFO:tensorflow:  name = module/bert/encoder/layer_2/attention/self/key/kernel:0, shape = (768, 768)\n"
     ]
    },
    {
     "name": "stderr",
     "output_type": "stream",
     "text": [
      "I0610 04:41:15.526337 139670860904320 bert_sct_utils_v2.py:600]   name = module/bert/encoder/layer_2/attention/self/key/kernel:0, shape = (768, 768)\n"
     ]
    },
    {
     "name": "stdout",
     "output_type": "stream",
     "text": [
      "INFO:tensorflow:  name = module/bert/encoder/layer_2/attention/self/key/bias:0, shape = (768,)\n"
     ]
    },
    {
     "name": "stderr",
     "output_type": "stream",
     "text": [
      "I0610 04:41:15.528448 139670860904320 bert_sct_utils_v2.py:600]   name = module/bert/encoder/layer_2/attention/self/key/bias:0, shape = (768,)\n"
     ]
    },
    {
     "name": "stdout",
     "output_type": "stream",
     "text": [
      "INFO:tensorflow:  name = module/bert/encoder/layer_2/attention/self/value/kernel:0, shape = (768, 768)\n"
     ]
    },
    {
     "name": "stderr",
     "output_type": "stream",
     "text": [
      "I0610 04:41:15.530710 139670860904320 bert_sct_utils_v2.py:600]   name = module/bert/encoder/layer_2/attention/self/value/kernel:0, shape = (768, 768)\n"
     ]
    },
    {
     "name": "stdout",
     "output_type": "stream",
     "text": [
      "INFO:tensorflow:  name = module/bert/encoder/layer_2/attention/self/value/bias:0, shape = (768,)\n"
     ]
    },
    {
     "name": "stderr",
     "output_type": "stream",
     "text": [
      "I0610 04:41:15.532613 139670860904320 bert_sct_utils_v2.py:600]   name = module/bert/encoder/layer_2/attention/self/value/bias:0, shape = (768,)\n"
     ]
    },
    {
     "name": "stdout",
     "output_type": "stream",
     "text": [
      "INFO:tensorflow:  name = module/bert/encoder/layer_2/attention/output/dense/kernel:0, shape = (768, 768)\n"
     ]
    },
    {
     "name": "stderr",
     "output_type": "stream",
     "text": [
      "I0610 04:41:15.534902 139670860904320 bert_sct_utils_v2.py:600]   name = module/bert/encoder/layer_2/attention/output/dense/kernel:0, shape = (768, 768)\n"
     ]
    },
    {
     "name": "stdout",
     "output_type": "stream",
     "text": [
      "INFO:tensorflow:  name = module/bert/encoder/layer_2/attention/output/dense/bias:0, shape = (768,)\n"
     ]
    },
    {
     "name": "stderr",
     "output_type": "stream",
     "text": [
      "I0610 04:41:15.537000 139670860904320 bert_sct_utils_v2.py:600]   name = module/bert/encoder/layer_2/attention/output/dense/bias:0, shape = (768,)\n"
     ]
    },
    {
     "name": "stdout",
     "output_type": "stream",
     "text": [
      "INFO:tensorflow:  name = module/bert/encoder/layer_2/attention/output/LayerNorm/beta:0, shape = (768,)\n"
     ]
    },
    {
     "name": "stderr",
     "output_type": "stream",
     "text": [
      "I0610 04:41:15.538601 139670860904320 bert_sct_utils_v2.py:600]   name = module/bert/encoder/layer_2/attention/output/LayerNorm/beta:0, shape = (768,)\n"
     ]
    },
    {
     "name": "stdout",
     "output_type": "stream",
     "text": [
      "INFO:tensorflow:  name = module/bert/encoder/layer_2/attention/output/LayerNorm/gamma:0, shape = (768,)\n"
     ]
    },
    {
     "name": "stderr",
     "output_type": "stream",
     "text": [
      "I0610 04:41:15.541069 139670860904320 bert_sct_utils_v2.py:600]   name = module/bert/encoder/layer_2/attention/output/LayerNorm/gamma:0, shape = (768,)\n"
     ]
    },
    {
     "name": "stdout",
     "output_type": "stream",
     "text": [
      "INFO:tensorflow:  name = module/bert/encoder/layer_2/intermediate/dense/kernel:0, shape = (768, 3072)\n"
     ]
    },
    {
     "name": "stderr",
     "output_type": "stream",
     "text": [
      "I0610 04:41:15.543023 139670860904320 bert_sct_utils_v2.py:600]   name = module/bert/encoder/layer_2/intermediate/dense/kernel:0, shape = (768, 3072)\n"
     ]
    },
    {
     "name": "stdout",
     "output_type": "stream",
     "text": [
      "INFO:tensorflow:  name = module/bert/encoder/layer_2/intermediate/dense/bias:0, shape = (3072,)\n"
     ]
    },
    {
     "name": "stderr",
     "output_type": "stream",
     "text": [
      "I0610 04:41:15.545360 139670860904320 bert_sct_utils_v2.py:600]   name = module/bert/encoder/layer_2/intermediate/dense/bias:0, shape = (3072,)\n"
     ]
    },
    {
     "name": "stdout",
     "output_type": "stream",
     "text": [
      "INFO:tensorflow:  name = module/bert/encoder/layer_2/output/dense/kernel:0, shape = (3072, 768)\n"
     ]
    },
    {
     "name": "stderr",
     "output_type": "stream",
     "text": [
      "I0610 04:41:15.547546 139670860904320 bert_sct_utils_v2.py:600]   name = module/bert/encoder/layer_2/output/dense/kernel:0, shape = (3072, 768)\n"
     ]
    },
    {
     "name": "stdout",
     "output_type": "stream",
     "text": [
      "INFO:tensorflow:  name = module/bert/encoder/layer_2/output/dense/bias:0, shape = (768,)\n"
     ]
    },
    {
     "name": "stderr",
     "output_type": "stream",
     "text": [
      "I0610 04:41:15.549611 139670860904320 bert_sct_utils_v2.py:600]   name = module/bert/encoder/layer_2/output/dense/bias:0, shape = (768,)\n"
     ]
    },
    {
     "name": "stdout",
     "output_type": "stream",
     "text": [
      "INFO:tensorflow:  name = module/bert/encoder/layer_2/output/LayerNorm/beta:0, shape = (768,)\n"
     ]
    },
    {
     "name": "stderr",
     "output_type": "stream",
     "text": [
      "I0610 04:41:15.551885 139670860904320 bert_sct_utils_v2.py:600]   name = module/bert/encoder/layer_2/output/LayerNorm/beta:0, shape = (768,)\n"
     ]
    },
    {
     "name": "stdout",
     "output_type": "stream",
     "text": [
      "INFO:tensorflow:  name = module/bert/encoder/layer_2/output/LayerNorm/gamma:0, shape = (768,)\n"
     ]
    },
    {
     "name": "stderr",
     "output_type": "stream",
     "text": [
      "I0610 04:41:15.553955 139670860904320 bert_sct_utils_v2.py:600]   name = module/bert/encoder/layer_2/output/LayerNorm/gamma:0, shape = (768,)\n"
     ]
    },
    {
     "name": "stdout",
     "output_type": "stream",
     "text": [
      "INFO:tensorflow:  name = module/bert/encoder/layer_3/attention/self/query/kernel:0, shape = (768, 768)\n"
     ]
    },
    {
     "name": "stderr",
     "output_type": "stream",
     "text": [
      "I0610 04:41:15.555922 139670860904320 bert_sct_utils_v2.py:600]   name = module/bert/encoder/layer_3/attention/self/query/kernel:0, shape = (768, 768)\n"
     ]
    },
    {
     "name": "stdout",
     "output_type": "stream",
     "text": [
      "INFO:tensorflow:  name = module/bert/encoder/layer_3/attention/self/query/bias:0, shape = (768,)\n"
     ]
    },
    {
     "name": "stderr",
     "output_type": "stream",
     "text": [
      "I0610 04:41:15.558305 139670860904320 bert_sct_utils_v2.py:600]   name = module/bert/encoder/layer_3/attention/self/query/bias:0, shape = (768,)\n"
     ]
    },
    {
     "name": "stdout",
     "output_type": "stream",
     "text": [
      "INFO:tensorflow:  name = module/bert/encoder/layer_3/attention/self/key/kernel:0, shape = (768, 768)\n"
     ]
    },
    {
     "name": "stderr",
     "output_type": "stream",
     "text": [
      "I0610 04:41:15.560356 139670860904320 bert_sct_utils_v2.py:600]   name = module/bert/encoder/layer_3/attention/self/key/kernel:0, shape = (768, 768)\n"
     ]
    },
    {
     "name": "stdout",
     "output_type": "stream",
     "text": [
      "INFO:tensorflow:  name = module/bert/encoder/layer_3/attention/self/key/bias:0, shape = (768,)\n"
     ]
    },
    {
     "name": "stderr",
     "output_type": "stream",
     "text": [
      "I0610 04:41:15.562571 139670860904320 bert_sct_utils_v2.py:600]   name = module/bert/encoder/layer_3/attention/self/key/bias:0, shape = (768,)\n"
     ]
    },
    {
     "name": "stdout",
     "output_type": "stream",
     "text": [
      "INFO:tensorflow:  name = module/bert/encoder/layer_3/attention/self/value/kernel:0, shape = (768, 768)\n"
     ]
    },
    {
     "name": "stderr",
     "output_type": "stream",
     "text": [
      "I0610 04:41:15.564624 139670860904320 bert_sct_utils_v2.py:600]   name = module/bert/encoder/layer_3/attention/self/value/kernel:0, shape = (768, 768)\n"
     ]
    },
    {
     "name": "stdout",
     "output_type": "stream",
     "text": [
      "INFO:tensorflow:  name = module/bert/encoder/layer_3/attention/self/value/bias:0, shape = (768,)\n"
     ]
    },
    {
     "name": "stderr",
     "output_type": "stream",
     "text": [
      "I0610 04:41:15.567146 139670860904320 bert_sct_utils_v2.py:600]   name = module/bert/encoder/layer_3/attention/self/value/bias:0, shape = (768,)\n"
     ]
    },
    {
     "name": "stdout",
     "output_type": "stream",
     "text": [
      "INFO:tensorflow:  name = module/bert/encoder/layer_3/attention/output/dense/kernel:0, shape = (768, 768)\n"
     ]
    },
    {
     "name": "stderr",
     "output_type": "stream",
     "text": [
      "I0610 04:41:15.569350 139670860904320 bert_sct_utils_v2.py:600]   name = module/bert/encoder/layer_3/attention/output/dense/kernel:0, shape = (768, 768)\n"
     ]
    },
    {
     "name": "stdout",
     "output_type": "stream",
     "text": [
      "INFO:tensorflow:  name = module/bert/encoder/layer_3/attention/output/dense/bias:0, shape = (768,)\n"
     ]
    },
    {
     "name": "stderr",
     "output_type": "stream",
     "text": [
      "I0610 04:41:15.571163 139670860904320 bert_sct_utils_v2.py:600]   name = module/bert/encoder/layer_3/attention/output/dense/bias:0, shape = (768,)\n"
     ]
    },
    {
     "name": "stdout",
     "output_type": "stream",
     "text": [
      "INFO:tensorflow:  name = module/bert/encoder/layer_3/attention/output/LayerNorm/beta:0, shape = (768,)\n"
     ]
    },
    {
     "name": "stderr",
     "output_type": "stream",
     "text": [
      "I0610 04:41:15.573338 139670860904320 bert_sct_utils_v2.py:600]   name = module/bert/encoder/layer_3/attention/output/LayerNorm/beta:0, shape = (768,)\n"
     ]
    },
    {
     "name": "stdout",
     "output_type": "stream",
     "text": [
      "INFO:tensorflow:  name = module/bert/encoder/layer_3/attention/output/LayerNorm/gamma:0, shape = (768,)\n"
     ]
    },
    {
     "name": "stderr",
     "output_type": "stream",
     "text": [
      "I0610 04:41:15.575876 139670860904320 bert_sct_utils_v2.py:600]   name = module/bert/encoder/layer_3/attention/output/LayerNorm/gamma:0, shape = (768,)\n"
     ]
    },
    {
     "name": "stdout",
     "output_type": "stream",
     "text": [
      "INFO:tensorflow:  name = module/bert/encoder/layer_3/intermediate/dense/kernel:0, shape = (768, 3072)\n"
     ]
    },
    {
     "name": "stderr",
     "output_type": "stream",
     "text": [
      "I0610 04:41:15.577824 139670860904320 bert_sct_utils_v2.py:600]   name = module/bert/encoder/layer_3/intermediate/dense/kernel:0, shape = (768, 3072)\n"
     ]
    },
    {
     "name": "stdout",
     "output_type": "stream",
     "text": [
      "INFO:tensorflow:  name = module/bert/encoder/layer_3/intermediate/dense/bias:0, shape = (3072,)\n"
     ]
    },
    {
     "name": "stderr",
     "output_type": "stream",
     "text": [
      "I0610 04:41:15.580647 139670860904320 bert_sct_utils_v2.py:600]   name = module/bert/encoder/layer_3/intermediate/dense/bias:0, shape = (3072,)\n"
     ]
    },
    {
     "name": "stdout",
     "output_type": "stream",
     "text": [
      "INFO:tensorflow:  name = module/bert/encoder/layer_3/output/dense/kernel:0, shape = (3072, 768)\n"
     ]
    },
    {
     "name": "stderr",
     "output_type": "stream",
     "text": [
      "I0610 04:41:15.582859 139670860904320 bert_sct_utils_v2.py:600]   name = module/bert/encoder/layer_3/output/dense/kernel:0, shape = (3072, 768)\n"
     ]
    },
    {
     "name": "stdout",
     "output_type": "stream",
     "text": [
      "INFO:tensorflow:  name = module/bert/encoder/layer_3/output/dense/bias:0, shape = (768,)\n"
     ]
    },
    {
     "name": "stderr",
     "output_type": "stream",
     "text": [
      "I0610 04:41:15.585247 139670860904320 bert_sct_utils_v2.py:600]   name = module/bert/encoder/layer_3/output/dense/bias:0, shape = (768,)\n"
     ]
    },
    {
     "name": "stdout",
     "output_type": "stream",
     "text": [
      "INFO:tensorflow:  name = module/bert/encoder/layer_3/output/LayerNorm/beta:0, shape = (768,)\n"
     ]
    },
    {
     "name": "stderr",
     "output_type": "stream",
     "text": [
      "I0610 04:41:15.587065 139670860904320 bert_sct_utils_v2.py:600]   name = module/bert/encoder/layer_3/output/LayerNorm/beta:0, shape = (768,)\n"
     ]
    },
    {
     "name": "stdout",
     "output_type": "stream",
     "text": [
      "INFO:tensorflow:  name = module/bert/encoder/layer_3/output/LayerNorm/gamma:0, shape = (768,)\n"
     ]
    },
    {
     "name": "stderr",
     "output_type": "stream",
     "text": [
      "I0610 04:41:15.589296 139670860904320 bert_sct_utils_v2.py:600]   name = module/bert/encoder/layer_3/output/LayerNorm/gamma:0, shape = (768,)\n"
     ]
    },
    {
     "name": "stdout",
     "output_type": "stream",
     "text": [
      "INFO:tensorflow:  name = module/bert/encoder/layer_4/attention/self/query/kernel:0, shape = (768, 768)\n"
     ]
    },
    {
     "name": "stderr",
     "output_type": "stream",
     "text": [
      "I0610 04:41:15.591857 139670860904320 bert_sct_utils_v2.py:600]   name = module/bert/encoder/layer_4/attention/self/query/kernel:0, shape = (768, 768)\n"
     ]
    },
    {
     "name": "stdout",
     "output_type": "stream",
     "text": [
      "INFO:tensorflow:  name = module/bert/encoder/layer_4/attention/self/query/bias:0, shape = (768,)\n"
     ]
    },
    {
     "name": "stderr",
     "output_type": "stream",
     "text": [
      "I0610 04:41:15.597177 139670860904320 bert_sct_utils_v2.py:600]   name = module/bert/encoder/layer_4/attention/self/query/bias:0, shape = (768,)\n"
     ]
    },
    {
     "name": "stdout",
     "output_type": "stream",
     "text": [
      "INFO:tensorflow:  name = module/bert/encoder/layer_4/attention/self/key/kernel:0, shape = (768, 768)\n"
     ]
    },
    {
     "name": "stderr",
     "output_type": "stream",
     "text": [
      "I0610 04:41:15.600419 139670860904320 bert_sct_utils_v2.py:600]   name = module/bert/encoder/layer_4/attention/self/key/kernel:0, shape = (768, 768)\n"
     ]
    },
    {
     "name": "stdout",
     "output_type": "stream",
     "text": [
      "INFO:tensorflow:  name = module/bert/encoder/layer_4/attention/self/key/bias:0, shape = (768,)\n"
     ]
    },
    {
     "name": "stderr",
     "output_type": "stream",
     "text": [
      "I0610 04:41:15.602674 139670860904320 bert_sct_utils_v2.py:600]   name = module/bert/encoder/layer_4/attention/self/key/bias:0, shape = (768,)\n"
     ]
    },
    {
     "name": "stdout",
     "output_type": "stream",
     "text": [
      "INFO:tensorflow:  name = module/bert/encoder/layer_4/attention/self/value/kernel:0, shape = (768, 768)\n"
     ]
    },
    {
     "name": "stderr",
     "output_type": "stream",
     "text": [
      "I0610 04:41:15.604645 139670860904320 bert_sct_utils_v2.py:600]   name = module/bert/encoder/layer_4/attention/self/value/kernel:0, shape = (768, 768)\n"
     ]
    },
    {
     "name": "stdout",
     "output_type": "stream",
     "text": [
      "INFO:tensorflow:  name = module/bert/encoder/layer_4/attention/self/value/bias:0, shape = (768,)\n"
     ]
    },
    {
     "name": "stderr",
     "output_type": "stream",
     "text": [
      "I0610 04:41:15.606546 139670860904320 bert_sct_utils_v2.py:600]   name = module/bert/encoder/layer_4/attention/self/value/bias:0, shape = (768,)\n"
     ]
    },
    {
     "name": "stdout",
     "output_type": "stream",
     "text": [
      "INFO:tensorflow:  name = module/bert/encoder/layer_4/attention/output/dense/kernel:0, shape = (768, 768)\n"
     ]
    },
    {
     "name": "stderr",
     "output_type": "stream",
     "text": [
      "I0610 04:41:15.608688 139670860904320 bert_sct_utils_v2.py:600]   name = module/bert/encoder/layer_4/attention/output/dense/kernel:0, shape = (768, 768)\n"
     ]
    },
    {
     "name": "stdout",
     "output_type": "stream",
     "text": [
      "INFO:tensorflow:  name = module/bert/encoder/layer_4/attention/output/dense/bias:0, shape = (768,)\n"
     ]
    },
    {
     "name": "stderr",
     "output_type": "stream",
     "text": [
      "I0610 04:41:15.610661 139670860904320 bert_sct_utils_v2.py:600]   name = module/bert/encoder/layer_4/attention/output/dense/bias:0, shape = (768,)\n"
     ]
    },
    {
     "name": "stdout",
     "output_type": "stream",
     "text": [
      "INFO:tensorflow:  name = module/bert/encoder/layer_4/attention/output/LayerNorm/beta:0, shape = (768,)\n"
     ]
    },
    {
     "name": "stderr",
     "output_type": "stream",
     "text": [
      "I0610 04:41:15.612545 139670860904320 bert_sct_utils_v2.py:600]   name = module/bert/encoder/layer_4/attention/output/LayerNorm/beta:0, shape = (768,)\n"
     ]
    },
    {
     "name": "stdout",
     "output_type": "stream",
     "text": [
      "INFO:tensorflow:  name = module/bert/encoder/layer_4/attention/output/LayerNorm/gamma:0, shape = (768,)\n"
     ]
    },
    {
     "name": "stderr",
     "output_type": "stream",
     "text": [
      "I0610 04:41:15.614615 139670860904320 bert_sct_utils_v2.py:600]   name = module/bert/encoder/layer_4/attention/output/LayerNorm/gamma:0, shape = (768,)\n"
     ]
    },
    {
     "name": "stdout",
     "output_type": "stream",
     "text": [
      "INFO:tensorflow:  name = module/bert/encoder/layer_4/intermediate/dense/kernel:0, shape = (768, 3072)\n"
     ]
    },
    {
     "name": "stderr",
     "output_type": "stream",
     "text": [
      "I0610 04:41:15.616553 139670860904320 bert_sct_utils_v2.py:600]   name = module/bert/encoder/layer_4/intermediate/dense/kernel:0, shape = (768, 3072)\n"
     ]
    },
    {
     "name": "stdout",
     "output_type": "stream",
     "text": [
      "INFO:tensorflow:  name = module/bert/encoder/layer_4/intermediate/dense/bias:0, shape = (3072,)\n"
     ]
    },
    {
     "name": "stderr",
     "output_type": "stream",
     "text": [
      "I0610 04:41:15.618749 139670860904320 bert_sct_utils_v2.py:600]   name = module/bert/encoder/layer_4/intermediate/dense/bias:0, shape = (3072,)\n"
     ]
    },
    {
     "name": "stdout",
     "output_type": "stream",
     "text": [
      "INFO:tensorflow:  name = module/bert/encoder/layer_4/output/dense/kernel:0, shape = (3072, 768)\n"
     ]
    },
    {
     "name": "stderr",
     "output_type": "stream",
     "text": [
      "I0610 04:41:15.620773 139670860904320 bert_sct_utils_v2.py:600]   name = module/bert/encoder/layer_4/output/dense/kernel:0, shape = (3072, 768)\n"
     ]
    },
    {
     "name": "stdout",
     "output_type": "stream",
     "text": [
      "INFO:tensorflow:  name = module/bert/encoder/layer_4/output/dense/bias:0, shape = (768,)\n"
     ]
    },
    {
     "name": "stderr",
     "output_type": "stream",
     "text": [
      "I0610 04:41:15.622696 139670860904320 bert_sct_utils_v2.py:600]   name = module/bert/encoder/layer_4/output/dense/bias:0, shape = (768,)\n"
     ]
    },
    {
     "name": "stdout",
     "output_type": "stream",
     "text": [
      "INFO:tensorflow:  name = module/bert/encoder/layer_4/output/LayerNorm/beta:0, shape = (768,)\n"
     ]
    },
    {
     "name": "stderr",
     "output_type": "stream",
     "text": [
      "I0610 04:41:15.624844 139670860904320 bert_sct_utils_v2.py:600]   name = module/bert/encoder/layer_4/output/LayerNorm/beta:0, shape = (768,)\n"
     ]
    },
    {
     "name": "stdout",
     "output_type": "stream",
     "text": [
      "INFO:tensorflow:  name = module/bert/encoder/layer_4/output/LayerNorm/gamma:0, shape = (768,)\n"
     ]
    },
    {
     "name": "stderr",
     "output_type": "stream",
     "text": [
      "I0610 04:41:15.627125 139670860904320 bert_sct_utils_v2.py:600]   name = module/bert/encoder/layer_4/output/LayerNorm/gamma:0, shape = (768,)\n"
     ]
    },
    {
     "name": "stdout",
     "output_type": "stream",
     "text": [
      "INFO:tensorflow:  name = module/bert/encoder/layer_5/attention/self/query/kernel:0, shape = (768, 768)\n"
     ]
    },
    {
     "name": "stderr",
     "output_type": "stream",
     "text": [
      "I0610 04:41:15.629001 139670860904320 bert_sct_utils_v2.py:600]   name = module/bert/encoder/layer_5/attention/self/query/kernel:0, shape = (768, 768)\n"
     ]
    },
    {
     "name": "stdout",
     "output_type": "stream",
     "text": [
      "INFO:tensorflow:  name = module/bert/encoder/layer_5/attention/self/query/bias:0, shape = (768,)\n"
     ]
    },
    {
     "name": "stderr",
     "output_type": "stream",
     "text": [
      "I0610 04:41:15.631053 139670860904320 bert_sct_utils_v2.py:600]   name = module/bert/encoder/layer_5/attention/self/query/bias:0, shape = (768,)\n"
     ]
    },
    {
     "name": "stdout",
     "output_type": "stream",
     "text": [
      "INFO:tensorflow:  name = module/bert/encoder/layer_5/attention/self/key/kernel:0, shape = (768, 768)\n"
     ]
    },
    {
     "name": "stderr",
     "output_type": "stream",
     "text": [
      "I0610 04:41:15.633219 139670860904320 bert_sct_utils_v2.py:600]   name = module/bert/encoder/layer_5/attention/self/key/kernel:0, shape = (768, 768)\n"
     ]
    },
    {
     "name": "stdout",
     "output_type": "stream",
     "text": [
      "INFO:tensorflow:  name = module/bert/encoder/layer_5/attention/self/key/bias:0, shape = (768,)\n"
     ]
    },
    {
     "name": "stderr",
     "output_type": "stream",
     "text": [
      "I0610 04:41:15.635387 139670860904320 bert_sct_utils_v2.py:600]   name = module/bert/encoder/layer_5/attention/self/key/bias:0, shape = (768,)\n"
     ]
    },
    {
     "name": "stdout",
     "output_type": "stream",
     "text": [
      "INFO:tensorflow:  name = module/bert/encoder/layer_5/attention/self/value/kernel:0, shape = (768, 768)\n"
     ]
    },
    {
     "name": "stderr",
     "output_type": "stream",
     "text": [
      "I0610 04:41:15.637892 139670860904320 bert_sct_utils_v2.py:600]   name = module/bert/encoder/layer_5/attention/self/value/kernel:0, shape = (768, 768)\n"
     ]
    },
    {
     "name": "stdout",
     "output_type": "stream",
     "text": [
      "INFO:tensorflow:  name = module/bert/encoder/layer_5/attention/self/value/bias:0, shape = (768,)\n"
     ]
    },
    {
     "name": "stderr",
     "output_type": "stream",
     "text": [
      "I0610 04:41:15.640120 139670860904320 bert_sct_utils_v2.py:600]   name = module/bert/encoder/layer_5/attention/self/value/bias:0, shape = (768,)\n"
     ]
    },
    {
     "name": "stdout",
     "output_type": "stream",
     "text": [
      "INFO:tensorflow:  name = module/bert/encoder/layer_5/attention/output/dense/kernel:0, shape = (768, 768)\n"
     ]
    },
    {
     "name": "stderr",
     "output_type": "stream",
     "text": [
      "I0610 04:41:15.642211 139670860904320 bert_sct_utils_v2.py:600]   name = module/bert/encoder/layer_5/attention/output/dense/kernel:0, shape = (768, 768)\n"
     ]
    },
    {
     "name": "stdout",
     "output_type": "stream",
     "text": [
      "INFO:tensorflow:  name = module/bert/encoder/layer_5/attention/output/dense/bias:0, shape = (768,)\n"
     ]
    },
    {
     "name": "stderr",
     "output_type": "stream",
     "text": [
      "I0610 04:41:15.644826 139670860904320 bert_sct_utils_v2.py:600]   name = module/bert/encoder/layer_5/attention/output/dense/bias:0, shape = (768,)\n"
     ]
    },
    {
     "name": "stdout",
     "output_type": "stream",
     "text": [
      "INFO:tensorflow:  name = module/bert/encoder/layer_5/attention/output/LayerNorm/beta:0, shape = (768,)\n"
     ]
    },
    {
     "name": "stderr",
     "output_type": "stream",
     "text": [
      "I0610 04:41:15.647000 139670860904320 bert_sct_utils_v2.py:600]   name = module/bert/encoder/layer_5/attention/output/LayerNorm/beta:0, shape = (768,)\n"
     ]
    },
    {
     "name": "stdout",
     "output_type": "stream",
     "text": [
      "INFO:tensorflow:  name = module/bert/encoder/layer_5/attention/output/LayerNorm/gamma:0, shape = (768,)\n"
     ]
    },
    {
     "name": "stderr",
     "output_type": "stream",
     "text": [
      "I0610 04:41:15.649456 139670860904320 bert_sct_utils_v2.py:600]   name = module/bert/encoder/layer_5/attention/output/LayerNorm/gamma:0, shape = (768,)\n"
     ]
    },
    {
     "name": "stdout",
     "output_type": "stream",
     "text": [
      "INFO:tensorflow:  name = module/bert/encoder/layer_5/intermediate/dense/kernel:0, shape = (768, 3072)\n"
     ]
    },
    {
     "name": "stderr",
     "output_type": "stream",
     "text": [
      "I0610 04:41:15.651482 139670860904320 bert_sct_utils_v2.py:600]   name = module/bert/encoder/layer_5/intermediate/dense/kernel:0, shape = (768, 3072)\n"
     ]
    },
    {
     "name": "stdout",
     "output_type": "stream",
     "text": [
      "INFO:tensorflow:  name = module/bert/encoder/layer_5/intermediate/dense/bias:0, shape = (3072,)\n"
     ]
    },
    {
     "name": "stderr",
     "output_type": "stream",
     "text": [
      "I0610 04:41:15.653627 139670860904320 bert_sct_utils_v2.py:600]   name = module/bert/encoder/layer_5/intermediate/dense/bias:0, shape = (3072,)\n"
     ]
    },
    {
     "name": "stdout",
     "output_type": "stream",
     "text": [
      "INFO:tensorflow:  name = module/bert/encoder/layer_5/output/dense/kernel:0, shape = (3072, 768)\n"
     ]
    },
    {
     "name": "stderr",
     "output_type": "stream",
     "text": [
      "I0610 04:41:15.655560 139670860904320 bert_sct_utils_v2.py:600]   name = module/bert/encoder/layer_5/output/dense/kernel:0, shape = (3072, 768)\n"
     ]
    },
    {
     "name": "stdout",
     "output_type": "stream",
     "text": [
      "INFO:tensorflow:  name = module/bert/encoder/layer_5/output/dense/bias:0, shape = (768,)\n"
     ]
    },
    {
     "name": "stderr",
     "output_type": "stream",
     "text": [
      "I0610 04:41:15.657659 139670860904320 bert_sct_utils_v2.py:600]   name = module/bert/encoder/layer_5/output/dense/bias:0, shape = (768,)\n"
     ]
    },
    {
     "name": "stdout",
     "output_type": "stream",
     "text": [
      "INFO:tensorflow:  name = module/bert/encoder/layer_5/output/LayerNorm/beta:0, shape = (768,)\n"
     ]
    },
    {
     "name": "stderr",
     "output_type": "stream",
     "text": [
      "I0610 04:41:15.659835 139670860904320 bert_sct_utils_v2.py:600]   name = module/bert/encoder/layer_5/output/LayerNorm/beta:0, shape = (768,)\n"
     ]
    },
    {
     "name": "stdout",
     "output_type": "stream",
     "text": [
      "INFO:tensorflow:  name = module/bert/encoder/layer_5/output/LayerNorm/gamma:0, shape = (768,)\n"
     ]
    },
    {
     "name": "stderr",
     "output_type": "stream",
     "text": [
      "I0610 04:41:15.661741 139670860904320 bert_sct_utils_v2.py:600]   name = module/bert/encoder/layer_5/output/LayerNorm/gamma:0, shape = (768,)\n"
     ]
    },
    {
     "name": "stdout",
     "output_type": "stream",
     "text": [
      "INFO:tensorflow:  name = module/bert/encoder/layer_6/attention/self/query/kernel:0, shape = (768, 768)\n"
     ]
    },
    {
     "name": "stderr",
     "output_type": "stream",
     "text": [
      "I0610 04:41:15.663661 139670860904320 bert_sct_utils_v2.py:600]   name = module/bert/encoder/layer_6/attention/self/query/kernel:0, shape = (768, 768)\n"
     ]
    },
    {
     "name": "stdout",
     "output_type": "stream",
     "text": [
      "INFO:tensorflow:  name = module/bert/encoder/layer_6/attention/self/query/bias:0, shape = (768,)\n"
     ]
    },
    {
     "name": "stderr",
     "output_type": "stream",
     "text": [
      "I0610 04:41:15.666451 139670860904320 bert_sct_utils_v2.py:600]   name = module/bert/encoder/layer_6/attention/self/query/bias:0, shape = (768,)\n"
     ]
    },
    {
     "name": "stdout",
     "output_type": "stream",
     "text": [
      "INFO:tensorflow:  name = module/bert/encoder/layer_6/attention/self/key/kernel:0, shape = (768, 768)\n"
     ]
    },
    {
     "name": "stderr",
     "output_type": "stream",
     "text": [
      "I0610 04:41:15.668565 139670860904320 bert_sct_utils_v2.py:600]   name = module/bert/encoder/layer_6/attention/self/key/kernel:0, shape = (768, 768)\n"
     ]
    },
    {
     "name": "stdout",
     "output_type": "stream",
     "text": [
      "INFO:tensorflow:  name = module/bert/encoder/layer_6/attention/self/key/bias:0, shape = (768,)\n"
     ]
    },
    {
     "name": "stderr",
     "output_type": "stream",
     "text": [
      "I0610 04:41:15.670586 139670860904320 bert_sct_utils_v2.py:600]   name = module/bert/encoder/layer_6/attention/self/key/bias:0, shape = (768,)\n"
     ]
    },
    {
     "name": "stdout",
     "output_type": "stream",
     "text": [
      "INFO:tensorflow:  name = module/bert/encoder/layer_6/attention/self/value/kernel:0, shape = (768, 768)\n"
     ]
    },
    {
     "name": "stderr",
     "output_type": "stream",
     "text": [
      "I0610 04:41:15.672814 139670860904320 bert_sct_utils_v2.py:600]   name = module/bert/encoder/layer_6/attention/self/value/kernel:0, shape = (768, 768)\n"
     ]
    },
    {
     "name": "stdout",
     "output_type": "stream",
     "text": [
      "INFO:tensorflow:  name = module/bert/encoder/layer_6/attention/self/value/bias:0, shape = (768,)\n"
     ]
    },
    {
     "name": "stderr",
     "output_type": "stream",
     "text": [
      "I0610 04:41:15.674677 139670860904320 bert_sct_utils_v2.py:600]   name = module/bert/encoder/layer_6/attention/self/value/bias:0, shape = (768,)\n"
     ]
    },
    {
     "name": "stdout",
     "output_type": "stream",
     "text": [
      "INFO:tensorflow:  name = module/bert/encoder/layer_6/attention/output/dense/kernel:0, shape = (768, 768)\n"
     ]
    },
    {
     "name": "stderr",
     "output_type": "stream",
     "text": [
      "I0610 04:41:15.676612 139670860904320 bert_sct_utils_v2.py:600]   name = module/bert/encoder/layer_6/attention/output/dense/kernel:0, shape = (768, 768)\n"
     ]
    },
    {
     "name": "stdout",
     "output_type": "stream",
     "text": [
      "INFO:tensorflow:  name = module/bert/encoder/layer_6/attention/output/dense/bias:0, shape = (768,)\n"
     ]
    },
    {
     "name": "stderr",
     "output_type": "stream",
     "text": [
      "I0610 04:41:15.679276 139670860904320 bert_sct_utils_v2.py:600]   name = module/bert/encoder/layer_6/attention/output/dense/bias:0, shape = (768,)\n"
     ]
    },
    {
     "name": "stdout",
     "output_type": "stream",
     "text": [
      "INFO:tensorflow:  name = module/bert/encoder/layer_6/attention/output/LayerNorm/beta:0, shape = (768,)\n"
     ]
    },
    {
     "name": "stderr",
     "output_type": "stream",
     "text": [
      "I0610 04:41:15.681385 139670860904320 bert_sct_utils_v2.py:600]   name = module/bert/encoder/layer_6/attention/output/LayerNorm/beta:0, shape = (768,)\n"
     ]
    },
    {
     "name": "stdout",
     "output_type": "stream",
     "text": [
      "INFO:tensorflow:  name = module/bert/encoder/layer_6/attention/output/LayerNorm/gamma:0, shape = (768,)\n"
     ]
    },
    {
     "name": "stderr",
     "output_type": "stream",
     "text": [
      "I0610 04:41:15.683398 139670860904320 bert_sct_utils_v2.py:600]   name = module/bert/encoder/layer_6/attention/output/LayerNorm/gamma:0, shape = (768,)\n"
     ]
    },
    {
     "name": "stdout",
     "output_type": "stream",
     "text": [
      "INFO:tensorflow:  name = module/bert/encoder/layer_6/intermediate/dense/kernel:0, shape = (768, 3072)\n"
     ]
    },
    {
     "name": "stderr",
     "output_type": "stream",
     "text": [
      "I0610 04:41:15.685687 139670860904320 bert_sct_utils_v2.py:600]   name = module/bert/encoder/layer_6/intermediate/dense/kernel:0, shape = (768, 3072)\n"
     ]
    },
    {
     "name": "stdout",
     "output_type": "stream",
     "text": [
      "INFO:tensorflow:  name = module/bert/encoder/layer_6/intermediate/dense/bias:0, shape = (3072,)\n"
     ]
    },
    {
     "name": "stderr",
     "output_type": "stream",
     "text": [
      "I0610 04:41:15.687706 139670860904320 bert_sct_utils_v2.py:600]   name = module/bert/encoder/layer_6/intermediate/dense/bias:0, shape = (3072,)\n"
     ]
    },
    {
     "name": "stdout",
     "output_type": "stream",
     "text": [
      "INFO:tensorflow:  name = module/bert/encoder/layer_6/output/dense/kernel:0, shape = (3072, 768)\n"
     ]
    },
    {
     "name": "stderr",
     "output_type": "stream",
     "text": [
      "I0610 04:41:15.689700 139670860904320 bert_sct_utils_v2.py:600]   name = module/bert/encoder/layer_6/output/dense/kernel:0, shape = (3072, 768)\n"
     ]
    },
    {
     "name": "stdout",
     "output_type": "stream",
     "text": [
      "INFO:tensorflow:  name = module/bert/encoder/layer_6/output/dense/bias:0, shape = (768,)\n"
     ]
    },
    {
     "name": "stderr",
     "output_type": "stream",
     "text": [
      "I0610 04:41:15.691951 139670860904320 bert_sct_utils_v2.py:600]   name = module/bert/encoder/layer_6/output/dense/bias:0, shape = (768,)\n"
     ]
    },
    {
     "name": "stdout",
     "output_type": "stream",
     "text": [
      "INFO:tensorflow:  name = module/bert/encoder/layer_6/output/LayerNorm/beta:0, shape = (768,)\n"
     ]
    },
    {
     "name": "stderr",
     "output_type": "stream",
     "text": [
      "I0610 04:41:15.694130 139670860904320 bert_sct_utils_v2.py:600]   name = module/bert/encoder/layer_6/output/LayerNorm/beta:0, shape = (768,)\n"
     ]
    },
    {
     "name": "stdout",
     "output_type": "stream",
     "text": [
      "INFO:tensorflow:  name = module/bert/encoder/layer_6/output/LayerNorm/gamma:0, shape = (768,)\n"
     ]
    },
    {
     "name": "stderr",
     "output_type": "stream",
     "text": [
      "I0610 04:41:15.696084 139670860904320 bert_sct_utils_v2.py:600]   name = module/bert/encoder/layer_6/output/LayerNorm/gamma:0, shape = (768,)\n"
     ]
    },
    {
     "name": "stdout",
     "output_type": "stream",
     "text": [
      "INFO:tensorflow:  name = module/bert/encoder/layer_7/attention/self/query/kernel:0, shape = (768, 768)\n"
     ]
    },
    {
     "name": "stderr",
     "output_type": "stream",
     "text": [
      "I0610 04:41:15.698233 139670860904320 bert_sct_utils_v2.py:600]   name = module/bert/encoder/layer_7/attention/self/query/kernel:0, shape = (768, 768)\n"
     ]
    },
    {
     "name": "stdout",
     "output_type": "stream",
     "text": [
      "INFO:tensorflow:  name = module/bert/encoder/layer_7/attention/self/query/bias:0, shape = (768,)\n"
     ]
    },
    {
     "name": "stderr",
     "output_type": "stream",
     "text": [
      "I0610 04:41:15.700228 139670860904320 bert_sct_utils_v2.py:600]   name = module/bert/encoder/layer_7/attention/self/query/bias:0, shape = (768,)\n"
     ]
    },
    {
     "name": "stdout",
     "output_type": "stream",
     "text": [
      "INFO:tensorflow:  name = module/bert/encoder/layer_7/attention/self/key/kernel:0, shape = (768, 768)\n"
     ]
    },
    {
     "name": "stderr",
     "output_type": "stream",
     "text": [
      "I0610 04:41:15.702110 139670860904320 bert_sct_utils_v2.py:600]   name = module/bert/encoder/layer_7/attention/self/key/kernel:0, shape = (768, 768)\n"
     ]
    },
    {
     "name": "stdout",
     "output_type": "stream",
     "text": [
      "INFO:tensorflow:  name = module/bert/encoder/layer_7/attention/self/key/bias:0, shape = (768,)\n"
     ]
    },
    {
     "name": "stderr",
     "output_type": "stream",
     "text": [
      "I0610 04:41:15.704335 139670860904320 bert_sct_utils_v2.py:600]   name = module/bert/encoder/layer_7/attention/self/key/bias:0, shape = (768,)\n"
     ]
    },
    {
     "name": "stdout",
     "output_type": "stream",
     "text": [
      "INFO:tensorflow:  name = module/bert/encoder/layer_7/attention/self/value/kernel:0, shape = (768, 768)\n"
     ]
    },
    {
     "name": "stderr",
     "output_type": "stream",
     "text": [
      "I0610 04:41:15.706280 139670860904320 bert_sct_utils_v2.py:600]   name = module/bert/encoder/layer_7/attention/self/value/kernel:0, shape = (768, 768)\n"
     ]
    },
    {
     "name": "stdout",
     "output_type": "stream",
     "text": [
      "INFO:tensorflow:  name = module/bert/encoder/layer_7/attention/self/value/bias:0, shape = (768,)\n"
     ]
    },
    {
     "name": "stderr",
     "output_type": "stream",
     "text": [
      "I0610 04:41:15.708346 139670860904320 bert_sct_utils_v2.py:600]   name = module/bert/encoder/layer_7/attention/self/value/bias:0, shape = (768,)\n"
     ]
    },
    {
     "name": "stdout",
     "output_type": "stream",
     "text": [
      "INFO:tensorflow:  name = module/bert/encoder/layer_7/attention/output/dense/kernel:0, shape = (768, 768)\n"
     ]
    },
    {
     "name": "stderr",
     "output_type": "stream",
     "text": [
      "I0610 04:41:15.710660 139670860904320 bert_sct_utils_v2.py:600]   name = module/bert/encoder/layer_7/attention/output/dense/kernel:0, shape = (768, 768)\n"
     ]
    },
    {
     "name": "stdout",
     "output_type": "stream",
     "text": [
      "INFO:tensorflow:  name = module/bert/encoder/layer_7/attention/output/dense/bias:0, shape = (768,)\n"
     ]
    },
    {
     "name": "stderr",
     "output_type": "stream",
     "text": [
      "I0610 04:41:15.712700 139670860904320 bert_sct_utils_v2.py:600]   name = module/bert/encoder/layer_7/attention/output/dense/bias:0, shape = (768,)\n"
     ]
    },
    {
     "name": "stdout",
     "output_type": "stream",
     "text": [
      "INFO:tensorflow:  name = module/bert/encoder/layer_7/attention/output/LayerNorm/beta:0, shape = (768,)\n"
     ]
    },
    {
     "name": "stderr",
     "output_type": "stream",
     "text": [
      "I0610 04:41:15.714552 139670860904320 bert_sct_utils_v2.py:600]   name = module/bert/encoder/layer_7/attention/output/LayerNorm/beta:0, shape = (768,)\n"
     ]
    },
    {
     "name": "stdout",
     "output_type": "stream",
     "text": [
      "INFO:tensorflow:  name = module/bert/encoder/layer_7/attention/output/LayerNorm/gamma:0, shape = (768,)\n"
     ]
    },
    {
     "name": "stderr",
     "output_type": "stream",
     "text": [
      "I0610 04:41:15.716610 139670860904320 bert_sct_utils_v2.py:600]   name = module/bert/encoder/layer_7/attention/output/LayerNorm/gamma:0, shape = (768,)\n"
     ]
    },
    {
     "name": "stdout",
     "output_type": "stream",
     "text": [
      "INFO:tensorflow:  name = module/bert/encoder/layer_7/intermediate/dense/kernel:0, shape = (768, 3072)\n"
     ]
    },
    {
     "name": "stderr",
     "output_type": "stream",
     "text": [
      "I0610 04:41:15.718916 139670860904320 bert_sct_utils_v2.py:600]   name = module/bert/encoder/layer_7/intermediate/dense/kernel:0, shape = (768, 3072)\n"
     ]
    },
    {
     "name": "stdout",
     "output_type": "stream",
     "text": [
      "INFO:tensorflow:  name = module/bert/encoder/layer_7/intermediate/dense/bias:0, shape = (3072,)\n"
     ]
    },
    {
     "name": "stderr",
     "output_type": "stream",
     "text": [
      "I0610 04:41:15.721329 139670860904320 bert_sct_utils_v2.py:600]   name = module/bert/encoder/layer_7/intermediate/dense/bias:0, shape = (3072,)\n"
     ]
    },
    {
     "name": "stdout",
     "output_type": "stream",
     "text": [
      "INFO:tensorflow:  name = module/bert/encoder/layer_7/output/dense/kernel:0, shape = (3072, 768)\n"
     ]
    },
    {
     "name": "stderr",
     "output_type": "stream",
     "text": [
      "I0610 04:41:15.723470 139670860904320 bert_sct_utils_v2.py:600]   name = module/bert/encoder/layer_7/output/dense/kernel:0, shape = (3072, 768)\n"
     ]
    },
    {
     "name": "stdout",
     "output_type": "stream",
     "text": [
      "INFO:tensorflow:  name = module/bert/encoder/layer_7/output/dense/bias:0, shape = (768,)\n"
     ]
    },
    {
     "name": "stderr",
     "output_type": "stream",
     "text": [
      "I0610 04:41:15.726169 139670860904320 bert_sct_utils_v2.py:600]   name = module/bert/encoder/layer_7/output/dense/bias:0, shape = (768,)\n"
     ]
    },
    {
     "name": "stdout",
     "output_type": "stream",
     "text": [
      "INFO:tensorflow:  name = module/bert/encoder/layer_7/output/LayerNorm/beta:0, shape = (768,)\n"
     ]
    },
    {
     "name": "stderr",
     "output_type": "stream",
     "text": [
      "I0610 04:41:15.728323 139670860904320 bert_sct_utils_v2.py:600]   name = module/bert/encoder/layer_7/output/LayerNorm/beta:0, shape = (768,)\n"
     ]
    },
    {
     "name": "stdout",
     "output_type": "stream",
     "text": [
      "INFO:tensorflow:  name = module/bert/encoder/layer_7/output/LayerNorm/gamma:0, shape = (768,)\n"
     ]
    },
    {
     "name": "stderr",
     "output_type": "stream",
     "text": [
      "I0610 04:41:15.730417 139670860904320 bert_sct_utils_v2.py:600]   name = module/bert/encoder/layer_7/output/LayerNorm/gamma:0, shape = (768,)\n"
     ]
    },
    {
     "name": "stdout",
     "output_type": "stream",
     "text": [
      "INFO:tensorflow:  name = module/bert/encoder/layer_8/attention/self/query/kernel:0, shape = (768, 768)\n"
     ]
    },
    {
     "name": "stderr",
     "output_type": "stream",
     "text": [
      "I0610 04:41:15.732601 139670860904320 bert_sct_utils_v2.py:600]   name = module/bert/encoder/layer_8/attention/self/query/kernel:0, shape = (768, 768)\n"
     ]
    },
    {
     "name": "stdout",
     "output_type": "stream",
     "text": [
      "INFO:tensorflow:  name = module/bert/encoder/layer_8/attention/self/query/bias:0, shape = (768,)\n"
     ]
    },
    {
     "name": "stderr",
     "output_type": "stream",
     "text": [
      "I0610 04:41:15.734467 139670860904320 bert_sct_utils_v2.py:600]   name = module/bert/encoder/layer_8/attention/self/query/bias:0, shape = (768,)\n"
     ]
    },
    {
     "name": "stdout",
     "output_type": "stream",
     "text": [
      "INFO:tensorflow:  name = module/bert/encoder/layer_8/attention/self/key/kernel:0, shape = (768, 768)\n"
     ]
    },
    {
     "name": "stderr",
     "output_type": "stream",
     "text": [
      "I0610 04:41:15.736499 139670860904320 bert_sct_utils_v2.py:600]   name = module/bert/encoder/layer_8/attention/self/key/kernel:0, shape = (768, 768)\n"
     ]
    },
    {
     "name": "stdout",
     "output_type": "stream",
     "text": [
      "INFO:tensorflow:  name = module/bert/encoder/layer_8/attention/self/key/bias:0, shape = (768,)\n"
     ]
    },
    {
     "name": "stderr",
     "output_type": "stream",
     "text": [
      "I0610 04:41:15.738456 139670860904320 bert_sct_utils_v2.py:600]   name = module/bert/encoder/layer_8/attention/self/key/bias:0, shape = (768,)\n"
     ]
    },
    {
     "name": "stdout",
     "output_type": "stream",
     "text": [
      "INFO:tensorflow:  name = module/bert/encoder/layer_8/attention/self/value/kernel:0, shape = (768, 768)\n"
     ]
    },
    {
     "name": "stderr",
     "output_type": "stream",
     "text": [
      "I0610 04:41:15.740610 139670860904320 bert_sct_utils_v2.py:600]   name = module/bert/encoder/layer_8/attention/self/value/kernel:0, shape = (768, 768)\n"
     ]
    },
    {
     "name": "stdout",
     "output_type": "stream",
     "text": [
      "INFO:tensorflow:  name = module/bert/encoder/layer_8/attention/self/value/bias:0, shape = (768,)\n"
     ]
    },
    {
     "name": "stderr",
     "output_type": "stream",
     "text": [
      "I0610 04:41:15.742565 139670860904320 bert_sct_utils_v2.py:600]   name = module/bert/encoder/layer_8/attention/self/value/bias:0, shape = (768,)\n"
     ]
    },
    {
     "name": "stdout",
     "output_type": "stream",
     "text": [
      "INFO:tensorflow:  name = module/bert/encoder/layer_8/attention/output/dense/kernel:0, shape = (768, 768)\n"
     ]
    },
    {
     "name": "stderr",
     "output_type": "stream",
     "text": [
      "I0610 04:41:15.744766 139670860904320 bert_sct_utils_v2.py:600]   name = module/bert/encoder/layer_8/attention/output/dense/kernel:0, shape = (768, 768)\n"
     ]
    },
    {
     "name": "stdout",
     "output_type": "stream",
     "text": [
      "INFO:tensorflow:  name = module/bert/encoder/layer_8/attention/output/dense/bias:0, shape = (768,)\n"
     ]
    },
    {
     "name": "stderr",
     "output_type": "stream",
     "text": [
      "I0610 04:41:15.746770 139670860904320 bert_sct_utils_v2.py:600]   name = module/bert/encoder/layer_8/attention/output/dense/bias:0, shape = (768,)\n"
     ]
    },
    {
     "name": "stdout",
     "output_type": "stream",
     "text": [
      "INFO:tensorflow:  name = module/bert/encoder/layer_8/attention/output/LayerNorm/beta:0, shape = (768,)\n"
     ]
    },
    {
     "name": "stderr",
     "output_type": "stream",
     "text": [
      "I0610 04:41:15.748699 139670860904320 bert_sct_utils_v2.py:600]   name = module/bert/encoder/layer_8/attention/output/LayerNorm/beta:0, shape = (768,)\n"
     ]
    },
    {
     "name": "stdout",
     "output_type": "stream",
     "text": [
      "INFO:tensorflow:  name = module/bert/encoder/layer_8/attention/output/LayerNorm/gamma:0, shape = (768,)\n"
     ]
    },
    {
     "name": "stderr",
     "output_type": "stream",
     "text": [
      "I0610 04:41:15.751196 139670860904320 bert_sct_utils_v2.py:600]   name = module/bert/encoder/layer_8/attention/output/LayerNorm/gamma:0, shape = (768,)\n"
     ]
    },
    {
     "name": "stdout",
     "output_type": "stream",
     "text": [
      "INFO:tensorflow:  name = module/bert/encoder/layer_8/intermediate/dense/kernel:0, shape = (768, 3072)\n"
     ]
    },
    {
     "name": "stderr",
     "output_type": "stream",
     "text": [
      "I0610 04:41:15.753181 139670860904320 bert_sct_utils_v2.py:600]   name = module/bert/encoder/layer_8/intermediate/dense/kernel:0, shape = (768, 3072)\n"
     ]
    },
    {
     "name": "stdout",
     "output_type": "stream",
     "text": [
      "INFO:tensorflow:  name = module/bert/encoder/layer_8/intermediate/dense/bias:0, shape = (3072,)\n"
     ]
    },
    {
     "name": "stderr",
     "output_type": "stream",
     "text": [
      "I0610 04:41:15.755166 139670860904320 bert_sct_utils_v2.py:600]   name = module/bert/encoder/layer_8/intermediate/dense/bias:0, shape = (3072,)\n"
     ]
    },
    {
     "name": "stdout",
     "output_type": "stream",
     "text": [
      "INFO:tensorflow:  name = module/bert/encoder/layer_8/output/dense/kernel:0, shape = (3072, 768)\n"
     ]
    },
    {
     "name": "stderr",
     "output_type": "stream",
     "text": [
      "I0610 04:41:15.757382 139670860904320 bert_sct_utils_v2.py:600]   name = module/bert/encoder/layer_8/output/dense/kernel:0, shape = (3072, 768)\n"
     ]
    },
    {
     "name": "stdout",
     "output_type": "stream",
     "text": [
      "INFO:tensorflow:  name = module/bert/encoder/layer_8/output/dense/bias:0, shape = (768,)\n"
     ]
    },
    {
     "name": "stderr",
     "output_type": "stream",
     "text": [
      "I0610 04:41:15.759243 139670860904320 bert_sct_utils_v2.py:600]   name = module/bert/encoder/layer_8/output/dense/bias:0, shape = (768,)\n"
     ]
    },
    {
     "name": "stdout",
     "output_type": "stream",
     "text": [
      "INFO:tensorflow:  name = module/bert/encoder/layer_8/output/LayerNorm/beta:0, shape = (768,)\n"
     ]
    },
    {
     "name": "stderr",
     "output_type": "stream",
     "text": [
      "I0610 04:41:15.761215 139670860904320 bert_sct_utils_v2.py:600]   name = module/bert/encoder/layer_8/output/LayerNorm/beta:0, shape = (768,)\n"
     ]
    },
    {
     "name": "stdout",
     "output_type": "stream",
     "text": [
      "INFO:tensorflow:  name = module/bert/encoder/layer_8/output/LayerNorm/gamma:0, shape = (768,)\n"
     ]
    },
    {
     "name": "stderr",
     "output_type": "stream",
     "text": [
      "I0610 04:41:15.762851 139670860904320 bert_sct_utils_v2.py:600]   name = module/bert/encoder/layer_8/output/LayerNorm/gamma:0, shape = (768,)\n"
     ]
    },
    {
     "name": "stdout",
     "output_type": "stream",
     "text": [
      "INFO:tensorflow:  name = module/bert/encoder/layer_9/attention/self/query/kernel:0, shape = (768, 768)\n"
     ]
    },
    {
     "name": "stderr",
     "output_type": "stream",
     "text": [
      "I0610 04:41:15.764067 139670860904320 bert_sct_utils_v2.py:600]   name = module/bert/encoder/layer_9/attention/self/query/kernel:0, shape = (768, 768)\n"
     ]
    },
    {
     "name": "stdout",
     "output_type": "stream",
     "text": [
      "INFO:tensorflow:  name = module/bert/encoder/layer_9/attention/self/query/bias:0, shape = (768,)\n"
     ]
    },
    {
     "name": "stderr",
     "output_type": "stream",
     "text": [
      "I0610 04:41:15.765414 139670860904320 bert_sct_utils_v2.py:600]   name = module/bert/encoder/layer_9/attention/self/query/bias:0, shape = (768,)\n"
     ]
    },
    {
     "name": "stdout",
     "output_type": "stream",
     "text": [
      "INFO:tensorflow:  name = module/bert/encoder/layer_9/attention/self/key/kernel:0, shape = (768, 768)\n"
     ]
    },
    {
     "name": "stderr",
     "output_type": "stream",
     "text": [
      "I0610 04:41:15.767328 139670860904320 bert_sct_utils_v2.py:600]   name = module/bert/encoder/layer_9/attention/self/key/kernel:0, shape = (768, 768)\n"
     ]
    },
    {
     "name": "stdout",
     "output_type": "stream",
     "text": [
      "INFO:tensorflow:  name = module/bert/encoder/layer_9/attention/self/key/bias:0, shape = (768,)\n"
     ]
    },
    {
     "name": "stderr",
     "output_type": "stream",
     "text": [
      "I0610 04:41:15.768592 139670860904320 bert_sct_utils_v2.py:600]   name = module/bert/encoder/layer_9/attention/self/key/bias:0, shape = (768,)\n"
     ]
    },
    {
     "name": "stdout",
     "output_type": "stream",
     "text": [
      "INFO:tensorflow:  name = module/bert/encoder/layer_9/attention/self/value/kernel:0, shape = (768, 768)\n"
     ]
    },
    {
     "name": "stderr",
     "output_type": "stream",
     "text": [
      "I0610 04:41:15.770385 139670860904320 bert_sct_utils_v2.py:600]   name = module/bert/encoder/layer_9/attention/self/value/kernel:0, shape = (768, 768)\n"
     ]
    },
    {
     "name": "stdout",
     "output_type": "stream",
     "text": [
      "INFO:tensorflow:  name = module/bert/encoder/layer_9/attention/self/value/bias:0, shape = (768,)\n"
     ]
    },
    {
     "name": "stderr",
     "output_type": "stream",
     "text": [
      "I0610 04:41:15.772572 139670860904320 bert_sct_utils_v2.py:600]   name = module/bert/encoder/layer_9/attention/self/value/bias:0, shape = (768,)\n"
     ]
    },
    {
     "name": "stdout",
     "output_type": "stream",
     "text": [
      "INFO:tensorflow:  name = module/bert/encoder/layer_9/attention/output/dense/kernel:0, shape = (768, 768)\n"
     ]
    },
    {
     "name": "stderr",
     "output_type": "stream",
     "text": [
      "I0610 04:41:15.774481 139670860904320 bert_sct_utils_v2.py:600]   name = module/bert/encoder/layer_9/attention/output/dense/kernel:0, shape = (768, 768)\n"
     ]
    },
    {
     "name": "stdout",
     "output_type": "stream",
     "text": [
      "INFO:tensorflow:  name = module/bert/encoder/layer_9/attention/output/dense/bias:0, shape = (768,)\n"
     ]
    },
    {
     "name": "stderr",
     "output_type": "stream",
     "text": [
      "I0610 04:41:15.777153 139670860904320 bert_sct_utils_v2.py:600]   name = module/bert/encoder/layer_9/attention/output/dense/bias:0, shape = (768,)\n"
     ]
    },
    {
     "name": "stdout",
     "output_type": "stream",
     "text": [
      "INFO:tensorflow:  name = module/bert/encoder/layer_9/attention/output/LayerNorm/beta:0, shape = (768,)\n"
     ]
    },
    {
     "name": "stderr",
     "output_type": "stream",
     "text": [
      "I0610 04:41:15.779648 139670860904320 bert_sct_utils_v2.py:600]   name = module/bert/encoder/layer_9/attention/output/LayerNorm/beta:0, shape = (768,)\n"
     ]
    },
    {
     "name": "stdout",
     "output_type": "stream",
     "text": [
      "INFO:tensorflow:  name = module/bert/encoder/layer_9/attention/output/LayerNorm/gamma:0, shape = (768,)\n"
     ]
    },
    {
     "name": "stderr",
     "output_type": "stream",
     "text": [
      "I0610 04:41:15.781767 139670860904320 bert_sct_utils_v2.py:600]   name = module/bert/encoder/layer_9/attention/output/LayerNorm/gamma:0, shape = (768,)\n"
     ]
    },
    {
     "name": "stdout",
     "output_type": "stream",
     "text": [
      "INFO:tensorflow:  name = module/bert/encoder/layer_9/intermediate/dense/kernel:0, shape = (768, 3072)\n"
     ]
    },
    {
     "name": "stderr",
     "output_type": "stream",
     "text": [
      "I0610 04:41:15.784128 139670860904320 bert_sct_utils_v2.py:600]   name = module/bert/encoder/layer_9/intermediate/dense/kernel:0, shape = (768, 3072)\n"
     ]
    },
    {
     "name": "stdout",
     "output_type": "stream",
     "text": [
      "INFO:tensorflow:  name = module/bert/encoder/layer_9/intermediate/dense/bias:0, shape = (3072,)\n"
     ]
    },
    {
     "name": "stderr",
     "output_type": "stream",
     "text": [
      "I0610 04:41:15.786354 139670860904320 bert_sct_utils_v2.py:600]   name = module/bert/encoder/layer_9/intermediate/dense/bias:0, shape = (3072,)\n"
     ]
    },
    {
     "name": "stdout",
     "output_type": "stream",
     "text": [
      "INFO:tensorflow:  name = module/bert/encoder/layer_9/output/dense/kernel:0, shape = (3072, 768)\n"
     ]
    },
    {
     "name": "stderr",
     "output_type": "stream",
     "text": [
      "I0610 04:41:15.788717 139670860904320 bert_sct_utils_v2.py:600]   name = module/bert/encoder/layer_9/output/dense/kernel:0, shape = (3072, 768)\n"
     ]
    },
    {
     "name": "stdout",
     "output_type": "stream",
     "text": [
      "INFO:tensorflow:  name = module/bert/encoder/layer_9/output/dense/bias:0, shape = (768,)\n"
     ]
    },
    {
     "name": "stderr",
     "output_type": "stream",
     "text": [
      "I0610 04:41:15.790742 139670860904320 bert_sct_utils_v2.py:600]   name = module/bert/encoder/layer_9/output/dense/bias:0, shape = (768,)\n"
     ]
    },
    {
     "name": "stdout",
     "output_type": "stream",
     "text": [
      "INFO:tensorflow:  name = module/bert/encoder/layer_9/output/LayerNorm/beta:0, shape = (768,)\n"
     ]
    },
    {
     "name": "stderr",
     "output_type": "stream",
     "text": [
      "I0610 04:41:15.793346 139670860904320 bert_sct_utils_v2.py:600]   name = module/bert/encoder/layer_9/output/LayerNorm/beta:0, shape = (768,)\n"
     ]
    },
    {
     "name": "stdout",
     "output_type": "stream",
     "text": [
      "INFO:tensorflow:  name = module/bert/encoder/layer_9/output/LayerNorm/gamma:0, shape = (768,)\n"
     ]
    },
    {
     "name": "stderr",
     "output_type": "stream",
     "text": [
      "I0610 04:41:15.796755 139670860904320 bert_sct_utils_v2.py:600]   name = module/bert/encoder/layer_9/output/LayerNorm/gamma:0, shape = (768,)\n"
     ]
    },
    {
     "name": "stdout",
     "output_type": "stream",
     "text": [
      "INFO:tensorflow:  name = module/bert/encoder/layer_10/attention/self/query/kernel:0, shape = (768, 768)\n"
     ]
    },
    {
     "name": "stderr",
     "output_type": "stream",
     "text": [
      "I0610 04:41:15.798747 139670860904320 bert_sct_utils_v2.py:600]   name = module/bert/encoder/layer_10/attention/self/query/kernel:0, shape = (768, 768)\n"
     ]
    },
    {
     "name": "stdout",
     "output_type": "stream",
     "text": [
      "INFO:tensorflow:  name = module/bert/encoder/layer_10/attention/self/query/bias:0, shape = (768,)\n"
     ]
    },
    {
     "name": "stderr",
     "output_type": "stream",
     "text": [
      "I0610 04:41:15.801594 139670860904320 bert_sct_utils_v2.py:600]   name = module/bert/encoder/layer_10/attention/self/query/bias:0, shape = (768,)\n"
     ]
    },
    {
     "name": "stdout",
     "output_type": "stream",
     "text": [
      "INFO:tensorflow:  name = module/bert/encoder/layer_10/attention/self/key/kernel:0, shape = (768, 768)\n"
     ]
    },
    {
     "name": "stderr",
     "output_type": "stream",
     "text": [
      "I0610 04:41:15.803694 139670860904320 bert_sct_utils_v2.py:600]   name = module/bert/encoder/layer_10/attention/self/key/kernel:0, shape = (768, 768)\n"
     ]
    },
    {
     "name": "stdout",
     "output_type": "stream",
     "text": [
      "INFO:tensorflow:  name = module/bert/encoder/layer_10/attention/self/key/bias:0, shape = (768,)\n"
     ]
    },
    {
     "name": "stderr",
     "output_type": "stream",
     "text": [
      "I0610 04:41:15.805513 139670860904320 bert_sct_utils_v2.py:600]   name = module/bert/encoder/layer_10/attention/self/key/bias:0, shape = (768,)\n"
     ]
    },
    {
     "name": "stdout",
     "output_type": "stream",
     "text": [
      "INFO:tensorflow:  name = module/bert/encoder/layer_10/attention/self/value/kernel:0, shape = (768, 768)\n"
     ]
    },
    {
     "name": "stderr",
     "output_type": "stream",
     "text": [
      "I0610 04:41:15.807645 139670860904320 bert_sct_utils_v2.py:600]   name = module/bert/encoder/layer_10/attention/self/value/kernel:0, shape = (768, 768)\n"
     ]
    },
    {
     "name": "stdout",
     "output_type": "stream",
     "text": [
      "INFO:tensorflow:  name = module/bert/encoder/layer_10/attention/self/value/bias:0, shape = (768,)\n"
     ]
    },
    {
     "name": "stderr",
     "output_type": "stream",
     "text": [
      "I0610 04:41:15.809692 139670860904320 bert_sct_utils_v2.py:600]   name = module/bert/encoder/layer_10/attention/self/value/bias:0, shape = (768,)\n"
     ]
    },
    {
     "name": "stdout",
     "output_type": "stream",
     "text": [
      "INFO:tensorflow:  name = module/bert/encoder/layer_10/attention/output/dense/kernel:0, shape = (768, 768)\n"
     ]
    },
    {
     "name": "stderr",
     "output_type": "stream",
     "text": [
      "I0610 04:41:15.811740 139670860904320 bert_sct_utils_v2.py:600]   name = module/bert/encoder/layer_10/attention/output/dense/kernel:0, shape = (768, 768)\n"
     ]
    },
    {
     "name": "stdout",
     "output_type": "stream",
     "text": [
      "INFO:tensorflow:  name = module/bert/encoder/layer_10/attention/output/dense/bias:0, shape = (768,)\n"
     ]
    },
    {
     "name": "stderr",
     "output_type": "stream",
     "text": [
      "I0610 04:41:15.813867 139670860904320 bert_sct_utils_v2.py:600]   name = module/bert/encoder/layer_10/attention/output/dense/bias:0, shape = (768,)\n"
     ]
    },
    {
     "name": "stdout",
     "output_type": "stream",
     "text": [
      "INFO:tensorflow:  name = module/bert/encoder/layer_10/attention/output/LayerNorm/beta:0, shape = (768,)\n"
     ]
    },
    {
     "name": "stderr",
     "output_type": "stream",
     "text": [
      "I0610 04:41:15.815838 139670860904320 bert_sct_utils_v2.py:600]   name = module/bert/encoder/layer_10/attention/output/LayerNorm/beta:0, shape = (768,)\n"
     ]
    },
    {
     "name": "stdout",
     "output_type": "stream",
     "text": [
      "INFO:tensorflow:  name = module/bert/encoder/layer_10/attention/output/LayerNorm/gamma:0, shape = (768,)\n"
     ]
    },
    {
     "name": "stderr",
     "output_type": "stream",
     "text": [
      "I0610 04:41:15.818259 139670860904320 bert_sct_utils_v2.py:600]   name = module/bert/encoder/layer_10/attention/output/LayerNorm/gamma:0, shape = (768,)\n"
     ]
    },
    {
     "name": "stdout",
     "output_type": "stream",
     "text": [
      "INFO:tensorflow:  name = module/bert/encoder/layer_10/intermediate/dense/kernel:0, shape = (768, 3072)\n"
     ]
    },
    {
     "name": "stderr",
     "output_type": "stream",
     "text": [
      "I0610 04:41:15.820139 139670860904320 bert_sct_utils_v2.py:600]   name = module/bert/encoder/layer_10/intermediate/dense/kernel:0, shape = (768, 3072)\n"
     ]
    },
    {
     "name": "stdout",
     "output_type": "stream",
     "text": [
      "INFO:tensorflow:  name = module/bert/encoder/layer_10/intermediate/dense/bias:0, shape = (3072,)\n"
     ]
    },
    {
     "name": "stderr",
     "output_type": "stream",
     "text": [
      "I0610 04:41:15.822034 139670860904320 bert_sct_utils_v2.py:600]   name = module/bert/encoder/layer_10/intermediate/dense/bias:0, shape = (3072,)\n"
     ]
    },
    {
     "name": "stdout",
     "output_type": "stream",
     "text": [
      "INFO:tensorflow:  name = module/bert/encoder/layer_10/output/dense/kernel:0, shape = (3072, 768)\n"
     ]
    },
    {
     "name": "stderr",
     "output_type": "stream",
     "text": [
      "I0610 04:41:15.824271 139670860904320 bert_sct_utils_v2.py:600]   name = module/bert/encoder/layer_10/output/dense/kernel:0, shape = (3072, 768)\n"
     ]
    },
    {
     "name": "stdout",
     "output_type": "stream",
     "text": [
      "INFO:tensorflow:  name = module/bert/encoder/layer_10/output/dense/bias:0, shape = (768,)\n"
     ]
    },
    {
     "name": "stderr",
     "output_type": "stream",
     "text": [
      "I0610 04:41:15.826475 139670860904320 bert_sct_utils_v2.py:600]   name = module/bert/encoder/layer_10/output/dense/bias:0, shape = (768,)\n"
     ]
    },
    {
     "name": "stdout",
     "output_type": "stream",
     "text": [
      "INFO:tensorflow:  name = module/bert/encoder/layer_10/output/LayerNorm/beta:0, shape = (768,)\n"
     ]
    },
    {
     "name": "stderr",
     "output_type": "stream",
     "text": [
      "I0610 04:41:15.828697 139670860904320 bert_sct_utils_v2.py:600]   name = module/bert/encoder/layer_10/output/LayerNorm/beta:0, shape = (768,)\n"
     ]
    },
    {
     "name": "stdout",
     "output_type": "stream",
     "text": [
      "INFO:tensorflow:  name = module/bert/encoder/layer_10/output/LayerNorm/gamma:0, shape = (768,)\n"
     ]
    },
    {
     "name": "stderr",
     "output_type": "stream",
     "text": [
      "I0610 04:41:15.830677 139670860904320 bert_sct_utils_v2.py:600]   name = module/bert/encoder/layer_10/output/LayerNorm/gamma:0, shape = (768,)\n"
     ]
    },
    {
     "name": "stdout",
     "output_type": "stream",
     "text": [
      "INFO:tensorflow:  name = module/bert/encoder/layer_11/attention/self/query/kernel:0, shape = (768, 768)\n"
     ]
    },
    {
     "name": "stderr",
     "output_type": "stream",
     "text": [
      "I0610 04:41:15.832621 139670860904320 bert_sct_utils_v2.py:600]   name = module/bert/encoder/layer_11/attention/self/query/kernel:0, shape = (768, 768)\n"
     ]
    },
    {
     "name": "stdout",
     "output_type": "stream",
     "text": [
      "INFO:tensorflow:  name = module/bert/encoder/layer_11/attention/self/query/bias:0, shape = (768,)\n"
     ]
    },
    {
     "name": "stderr",
     "output_type": "stream",
     "text": [
      "I0610 04:41:15.835496 139670860904320 bert_sct_utils_v2.py:600]   name = module/bert/encoder/layer_11/attention/self/query/bias:0, shape = (768,)\n"
     ]
    },
    {
     "name": "stdout",
     "output_type": "stream",
     "text": [
      "INFO:tensorflow:  name = module/bert/encoder/layer_11/attention/self/key/kernel:0, shape = (768, 768)\n"
     ]
    },
    {
     "name": "stderr",
     "output_type": "stream",
     "text": [
      "I0610 04:41:15.838567 139670860904320 bert_sct_utils_v2.py:600]   name = module/bert/encoder/layer_11/attention/self/key/kernel:0, shape = (768, 768)\n"
     ]
    },
    {
     "name": "stdout",
     "output_type": "stream",
     "text": [
      "INFO:tensorflow:  name = module/bert/encoder/layer_11/attention/self/key/bias:0, shape = (768,)\n"
     ]
    },
    {
     "name": "stderr",
     "output_type": "stream",
     "text": [
      "I0610 04:41:15.841149 139670860904320 bert_sct_utils_v2.py:600]   name = module/bert/encoder/layer_11/attention/self/key/bias:0, shape = (768,)\n"
     ]
    },
    {
     "name": "stdout",
     "output_type": "stream",
     "text": [
      "INFO:tensorflow:  name = module/bert/encoder/layer_11/attention/self/value/kernel:0, shape = (768, 768)\n"
     ]
    },
    {
     "name": "stderr",
     "output_type": "stream",
     "text": [
      "I0610 04:41:15.844086 139670860904320 bert_sct_utils_v2.py:600]   name = module/bert/encoder/layer_11/attention/self/value/kernel:0, shape = (768, 768)\n"
     ]
    },
    {
     "name": "stdout",
     "output_type": "stream",
     "text": [
      "INFO:tensorflow:  name = module/bert/encoder/layer_11/attention/self/value/bias:0, shape = (768,)\n"
     ]
    },
    {
     "name": "stderr",
     "output_type": "stream",
     "text": [
      "I0610 04:41:15.846395 139670860904320 bert_sct_utils_v2.py:600]   name = module/bert/encoder/layer_11/attention/self/value/bias:0, shape = (768,)\n"
     ]
    },
    {
     "name": "stdout",
     "output_type": "stream",
     "text": [
      "INFO:tensorflow:  name = module/bert/encoder/layer_11/attention/output/dense/kernel:0, shape = (768, 768)\n"
     ]
    },
    {
     "name": "stderr",
     "output_type": "stream",
     "text": [
      "I0610 04:41:15.847882 139670860904320 bert_sct_utils_v2.py:600]   name = module/bert/encoder/layer_11/attention/output/dense/kernel:0, shape = (768, 768)\n"
     ]
    },
    {
     "name": "stdout",
     "output_type": "stream",
     "text": [
      "INFO:tensorflow:  name = module/bert/encoder/layer_11/attention/output/dense/bias:0, shape = (768,)\n"
     ]
    },
    {
     "name": "stderr",
     "output_type": "stream",
     "text": [
      "I0610 04:41:15.851180 139670860904320 bert_sct_utils_v2.py:600]   name = module/bert/encoder/layer_11/attention/output/dense/bias:0, shape = (768,)\n"
     ]
    },
    {
     "name": "stdout",
     "output_type": "stream",
     "text": [
      "INFO:tensorflow:  name = module/bert/encoder/layer_11/attention/output/LayerNorm/beta:0, shape = (768,)\n"
     ]
    },
    {
     "name": "stderr",
     "output_type": "stream",
     "text": [
      "I0610 04:41:15.858200 139670860904320 bert_sct_utils_v2.py:600]   name = module/bert/encoder/layer_11/attention/output/LayerNorm/beta:0, shape = (768,)\n"
     ]
    },
    {
     "name": "stdout",
     "output_type": "stream",
     "text": [
      "INFO:tensorflow:  name = module/bert/encoder/layer_11/attention/output/LayerNorm/gamma:0, shape = (768,)\n"
     ]
    },
    {
     "name": "stderr",
     "output_type": "stream",
     "text": [
      "I0610 04:41:15.862474 139670860904320 bert_sct_utils_v2.py:600]   name = module/bert/encoder/layer_11/attention/output/LayerNorm/gamma:0, shape = (768,)\n"
     ]
    },
    {
     "name": "stdout",
     "output_type": "stream",
     "text": [
      "INFO:tensorflow:  name = module/bert/encoder/layer_11/intermediate/dense/kernel:0, shape = (768, 3072)\n"
     ]
    },
    {
     "name": "stderr",
     "output_type": "stream",
     "text": [
      "I0610 04:41:15.864326 139670860904320 bert_sct_utils_v2.py:600]   name = module/bert/encoder/layer_11/intermediate/dense/kernel:0, shape = (768, 3072)\n"
     ]
    },
    {
     "name": "stdout",
     "output_type": "stream",
     "text": [
      "INFO:tensorflow:  name = module/bert/encoder/layer_11/intermediate/dense/bias:0, shape = (3072,)\n"
     ]
    },
    {
     "name": "stderr",
     "output_type": "stream",
     "text": [
      "I0610 04:41:15.866709 139670860904320 bert_sct_utils_v2.py:600]   name = module/bert/encoder/layer_11/intermediate/dense/bias:0, shape = (3072,)\n"
     ]
    },
    {
     "name": "stdout",
     "output_type": "stream",
     "text": [
      "INFO:tensorflow:  name = module/bert/encoder/layer_11/output/dense/kernel:0, shape = (3072, 768)\n"
     ]
    },
    {
     "name": "stderr",
     "output_type": "stream",
     "text": [
      "I0610 04:41:15.869621 139670860904320 bert_sct_utils_v2.py:600]   name = module/bert/encoder/layer_11/output/dense/kernel:0, shape = (3072, 768)\n"
     ]
    },
    {
     "name": "stdout",
     "output_type": "stream",
     "text": [
      "INFO:tensorflow:  name = module/bert/encoder/layer_11/output/dense/bias:0, shape = (768,)\n"
     ]
    },
    {
     "name": "stderr",
     "output_type": "stream",
     "text": [
      "I0610 04:41:15.871841 139670860904320 bert_sct_utils_v2.py:600]   name = module/bert/encoder/layer_11/output/dense/bias:0, shape = (768,)\n"
     ]
    },
    {
     "name": "stdout",
     "output_type": "stream",
     "text": [
      "INFO:tensorflow:  name = module/bert/encoder/layer_11/output/LayerNorm/beta:0, shape = (768,)\n"
     ]
    },
    {
     "name": "stderr",
     "output_type": "stream",
     "text": [
      "I0610 04:41:15.875260 139670860904320 bert_sct_utils_v2.py:600]   name = module/bert/encoder/layer_11/output/LayerNorm/beta:0, shape = (768,)\n"
     ]
    },
    {
     "name": "stdout",
     "output_type": "stream",
     "text": [
      "INFO:tensorflow:  name = module/bert/encoder/layer_11/output/LayerNorm/gamma:0, shape = (768,)\n"
     ]
    },
    {
     "name": "stderr",
     "output_type": "stream",
     "text": [
      "I0610 04:41:15.877074 139670860904320 bert_sct_utils_v2.py:600]   name = module/bert/encoder/layer_11/output/LayerNorm/gamma:0, shape = (768,)\n"
     ]
    },
    {
     "name": "stdout",
     "output_type": "stream",
     "text": [
      "INFO:tensorflow:  name = module/bert/pooler/dense/kernel:0, shape = (768, 768)\n"
     ]
    },
    {
     "name": "stderr",
     "output_type": "stream",
     "text": [
      "I0610 04:41:15.880162 139670860904320 bert_sct_utils_v2.py:600]   name = module/bert/pooler/dense/kernel:0, shape = (768, 768)\n"
     ]
    },
    {
     "name": "stdout",
     "output_type": "stream",
     "text": [
      "INFO:tensorflow:  name = module/bert/pooler/dense/bias:0, shape = (768,)\n"
     ]
    },
    {
     "name": "stderr",
     "output_type": "stream",
     "text": [
      "I0610 04:41:15.883886 139670860904320 bert_sct_utils_v2.py:600]   name = module/bert/pooler/dense/bias:0, shape = (768,)\n"
     ]
    },
    {
     "name": "stdout",
     "output_type": "stream",
     "text": [
      "INFO:tensorflow:  name = module/cls/predictions/transform/dense/kernel:0, shape = (768, 768)\n"
     ]
    },
    {
     "name": "stderr",
     "output_type": "stream",
     "text": [
      "I0610 04:41:15.888624 139670860904320 bert_sct_utils_v2.py:600]   name = module/cls/predictions/transform/dense/kernel:0, shape = (768, 768)\n"
     ]
    },
    {
     "name": "stdout",
     "output_type": "stream",
     "text": [
      "INFO:tensorflow:  name = module/cls/predictions/transform/dense/bias:0, shape = (768,)\n"
     ]
    },
    {
     "name": "stderr",
     "output_type": "stream",
     "text": [
      "I0610 04:41:15.890826 139670860904320 bert_sct_utils_v2.py:600]   name = module/cls/predictions/transform/dense/bias:0, shape = (768,)\n"
     ]
    },
    {
     "name": "stdout",
     "output_type": "stream",
     "text": [
      "INFO:tensorflow:  name = module/cls/predictions/transform/LayerNorm/beta:0, shape = (768,)\n"
     ]
    },
    {
     "name": "stderr",
     "output_type": "stream",
     "text": [
      "I0610 04:41:15.893342 139670860904320 bert_sct_utils_v2.py:600]   name = module/cls/predictions/transform/LayerNorm/beta:0, shape = (768,)\n"
     ]
    },
    {
     "name": "stdout",
     "output_type": "stream",
     "text": [
      "INFO:tensorflow:  name = module/cls/predictions/transform/LayerNorm/gamma:0, shape = (768,)\n"
     ]
    },
    {
     "name": "stderr",
     "output_type": "stream",
     "text": [
      "I0610 04:41:15.898494 139670860904320 bert_sct_utils_v2.py:600]   name = module/cls/predictions/transform/LayerNorm/gamma:0, shape = (768,)\n"
     ]
    },
    {
     "name": "stdout",
     "output_type": "stream",
     "text": [
      "INFO:tensorflow:  name = module/cls/predictions/output_bias:0, shape = (30522,)\n"
     ]
    },
    {
     "name": "stderr",
     "output_type": "stream",
     "text": [
      "I0610 04:41:15.901244 139670860904320 bert_sct_utils_v2.py:600]   name = module/cls/predictions/output_bias:0, shape = (30522,)\n"
     ]
    },
    {
     "name": "stdout",
     "output_type": "stream",
     "text": [
      "INFO:tensorflow:  name = output_weights:0, shape = (1, 768)\n"
     ]
    },
    {
     "name": "stderr",
     "output_type": "stream",
     "text": [
      "I0610 04:41:15.903729 139670860904320 bert_sct_utils_v2.py:600]   name = output_weights:0, shape = (1, 768)\n"
     ]
    },
    {
     "name": "stdout",
     "output_type": "stream",
     "text": [
      "INFO:tensorflow:  name = output_bias:0, shape = (1,)\n"
     ]
    },
    {
     "name": "stderr",
     "output_type": "stream",
     "text": [
      "I0610 04:41:15.907396 139670860904320 bert_sct_utils_v2.py:600]   name = output_bias:0, shape = (1,)\n"
     ]
    },
    {
     "name": "stdout",
     "output_type": "stream",
     "text": [
      "INFO:tensorflow:Done calling model_fn.\n"
     ]
    },
    {
     "name": "stderr",
     "output_type": "stream",
     "text": [
      "I0610 04:41:15.914218 139670860904320 estimator.py:1113] Done calling model_fn.\n"
     ]
    },
    {
     "name": "stdout",
     "output_type": "stream",
     "text": [
      "INFO:tensorflow:Graph was finalized.\n"
     ]
    },
    {
     "name": "stderr",
     "output_type": "stream",
     "text": [
      "I0610 04:41:16.987835 139670860904320 monitored_session.py:222] Graph was finalized.\n"
     ]
    },
    {
     "name": "stdout",
     "output_type": "stream",
     "text": [
      "INFO:tensorflow:Running local_init_op.\n"
     ]
    },
    {
     "name": "stderr",
     "output_type": "stream",
     "text": [
      "I0610 04:41:18.168051 139670860904320 session_manager.py:491] Running local_init_op.\n"
     ]
    },
    {
     "name": "stdout",
     "output_type": "stream",
     "text": [
      "INFO:tensorflow:Done running local_init_op.\n"
     ]
    },
    {
     "name": "stderr",
     "output_type": "stream",
     "text": [
      "I0610 04:41:18.327720 139670860904320 session_manager.py:493] Done running local_init_op.\n"
     ]
    }
   ],
   "source": [
    "if not(FLAGS.bert_model_hub or (FLAGS.bert_dir and FLAGS.init_checkpoint)):\n",
    "    raise ValueError(\"bert_model_hub or (bert_config_file and init_checkpoint)\")\n",
    "\n",
    "# ---------------------------------------------------------------------------------------------------------------- #\n",
    "# Create output directory\n",
    "tf.gfile.MakeDirs(FLAGS.output_dir)\n",
    "\n",
    "# ---------------------------------------------------------------------------------------------------------------- #\n",
    "# Processor\n",
    "processor = SctProcessor()\n",
    "label_list = processor.get_labels()\n",
    "\n",
    "bert_config = None\n",
    "if not FLAGS.init_checkpoint:\n",
    "    tokenizer = create_tokenizer_from_hub_module(FLAGS.bert_model_hub)\n",
    "\n",
    "else:\n",
    "    tokenizer = tokenization.FullTokenizer(vocab_file=os.path.join(FLAGS.bert_dir, \"vocab.txt\"),\n",
    "                                           do_lower_case=False)\n",
    "    bert_config = get_config(os.path.join(FLAGS.bert_dir, \"bert_config.json\"))\n",
    "\n",
    "# ---------------------------------------------------------------------------------------------------------------- #\n",
    "# Model and Estimator\n",
    "train_examples = None\n",
    "num_train_steps = None\n",
    "num_warmup_steps = None\n",
    "if FLAGS.do_train:\n",
    "    train_examples = processor.get_train_examples(FLAGS.data_dir)\n",
    "    num_train_steps = int(len(train_examples) / FLAGS.batch_size * FLAGS.num_train_epochs)\n",
    "    num_warmup_steps = int(num_train_steps * FLAGS.warmup_proportion)\n",
    "\n",
    "run_config = tf.estimator.RunConfig(model_dir=FLAGS.output_dir,\n",
    "                                    save_summary_steps=10,\n",
    "                                    save_checkpoints_steps=1000)\n",
    "\n",
    "model_fn = model_fn_builder(bert_model_hub=FLAGS.bert_model_hub,\n",
    "                            bert_trainable=FLAGS.bert_trainable,\n",
    "                            bert_config=bert_config,\n",
    "                            init_checkpoint=FLAGS.init_checkpoint,\n",
    "                            init_checkpoint_sent=FLAGS.init_checkpoint_sent,\n",
    "                            num_labels=len(label_list),\n",
    "                            learning_rate=FLAGS.learning_rate,\n",
    "                            num_train_steps=num_train_steps,\n",
    "                            num_warmup_steps=num_warmup_steps,\n",
    "                            sentiment_only=FLAGS.sentiment_only,\n",
    "                            commonsense_only=FLAGS.commonsense_only,\n",
    "                            combination=FLAGS.combination,\n",
    "                            )\n",
    "\n",
    "\n",
    "params = {\n",
    "    \"batch_size\": FLAGS.batch_size,\n",
    "}\n",
    "\n",
    "estimator = tf.estimator.Estimator(model_fn=model_fn,\n",
    "                                   config=run_config,\n",
    "                                   params=params)\n",
    "\n",
    "# ---------------------------------------------------------------------------------------------------------------- #\n",
    "# Training\n",
    "if FLAGS.do_train:\n",
    "    train_file = os.path.join(FLAGS.data_dir, \"train.tf_record\")\n",
    "    file_based_convert_examples_to_features(train_examples,\n",
    "                                            label_list,\n",
    "                                            FLAGS.max_seq_length,\n",
    "                                            tokenizer,\n",
    "                                            train_file)\n",
    "\n",
    "    tf.logging.info(\"***** Running training *****\")\n",
    "    tf.logging.info(\"  Num examples = %d\", len(train_examples))\n",
    "    tf.logging.info(\"  Batch size = %d\", FLAGS.batch_size)\n",
    "    tf.logging.info(\"  Num steps = %d\", num_train_steps)\n",
    "\n",
    "    train_input_fn = file_based_input_fn_builder(input_file=train_file,\n",
    "                                                 seq_length=FLAGS.max_seq_length,\n",
    "                                                 is_training=True,\n",
    "                                                 drop_remainder=False)\n",
    "\n",
    "    estimator.train(input_fn=train_input_fn, max_steps=num_train_steps)\n",
    "\n",
    "# ---------------------------------------------------------------------------------------------------------------- #\n",
    "# Evaluation\n",
    "if FLAGS.do_eval:\n",
    "    eval_examples = processor.get_dev_examples(FLAGS.data_dir)\n",
    "\n",
    "    eval_file = os.path.join(FLAGS.data_dir, \"eval.tf_record\")\n",
    "    file_based_convert_examples_to_features(eval_examples,\n",
    "                                            label_list,\n",
    "                                            FLAGS.max_seq_length,\n",
    "                                            tokenizer,\n",
    "                                            eval_file)\n",
    "\n",
    "    tf.logging.info(\"***** Running evaluation *****\")\n",
    "    tf.logging.info(\"  Num examples = %d\", len(eval_examples))\n",
    "\n",
    "    eval_steps = int(len(eval_examples) // FLAGS.batch_size)\n",
    "\n",
    "    eval_input_fn = file_based_input_fn_builder(input_file=eval_file,\n",
    "                                                seq_length=FLAGS.max_seq_length,\n",
    "                                                is_training=False,\n",
    "                                                drop_remainder=False)\n",
    "\n",
    "    result = estimator.evaluate(input_fn=eval_input_fn, steps=eval_steps)\n",
    "\n",
    "    output_eval_file = os.path.join(FLAGS.results_dir, timestamp + \"eval_results.txt\")\n",
    "    with tf.gfile.GFile(output_eval_file, \"w\") as writer:\n",
    "        tf.logging.info(\"***** Eval results *****\")\n",
    "        for key in sorted(result.keys()):\n",
    "            tf.logging.info(\"  %s = %s\", key, str(result[key]))\n",
    "            writer.write(\"%s = %s\\n\" % (key, str(result[key])))\n",
    "\n",
    "# ---------------------------------------------------------------------------------------------------------------- #\n",
    "# Test\n",
    "if FLAGS.do_predict:\n",
    "    predict_examples = processor.get_test_examples(FLAGS.data_dir)\n",
    "\n",
    "    predict_file = os.path.join(FLAGS.data_dir, \"predict.tf_record\")\n",
    "    file_based_convert_examples_to_features(predict_examples,\n",
    "                                            label_list,\n",
    "                                            FLAGS.max_seq_length,\n",
    "                                            tokenizer,\n",
    "                                            predict_file)\n",
    "\n",
    "    tf.logging.info(\"***** Running prediction*****\")\n",
    "    tf.logging.info(\"  Num examples = %d\", len(predict_examples))\n",
    "\n",
    "    predict_input_fn = file_based_input_fn_builder(input_file=predict_file,\n",
    "                                                   seq_length=FLAGS.max_seq_length,\n",
    "                                                   is_training=False,\n",
    "                                                   drop_remainder=False)\n",
    "\n",
    "    result = estimator.predict(input_fn=predict_input_fn)\n",
    "\n",
    "    output_predict_file = os.path.join(FLAGS.results_dir, timestamp + \"test_results.tsv\")\n",
    "    with tf.gfile.GFile(output_predict_file, \"w\") as writer:\n",
    "        num_written_lines = 0\n",
    "        tf.logging.info(\"***** Predict results *****\")\n",
    "        for (i, prediction) in enumerate(result):\n",
    "            probabilities = prediction[\"probabilities\"]\n",
    "            predict_label = str(prediction[\"predict_labels\"])\n",
    "\n",
    "            probs = [\"{0:.4f}\".format(class_probability) for class_probability in probabilities]\n",
    "\n",
    "            output_line = \"\\t\".join(probs) + \"\\t\" + predict_label + \"\\n\"\n",
    "            writer.write(output_line)\n",
    "            num_written_lines += 1"
   ]
  },
  {
   "cell_type": "code",
   "execution_count": 0,
   "metadata": {
    "id": "nZR1wlmir_QO",
    "colab_type": "code",
    "outputId": "9159fb23-c733-4663-c5ad-fe136e559766",
    "executionInfo": {
     "status": "ok",
     "timestamp": 1.55991100884E12,
     "user_tz": -120.0,
     "elapsed": 806.0,
     "user": {
      "displayName": "Rok Šikonja",
      "photoUrl": "",
      "userId": "08390144229917873056"
     }
    },
    "colab": {
     "base_uri": "https://localhost:8080/",
     "height": 34.0
    }
   },
   "outputs": [
    {
     "data": {
      "text/plain": [
       "'./output_A/'"
      ]
     },
     "execution_count": 13,
     "metadata": {
      "tags": []
     },
     "output_type": "execute_result"
    }
   ],
   "source": [
    "import shutil\n",
    "# shutil.rmtree(\"./results\")\n",
    "# shutil.rmtree(\"./output\")\n",
    "\n",
    "\n",
    "shutil.move(\"./output/\", \"./output_A/\")\n",
    "# shutil.move(\"./results/\", \"./results_A/\")"
   ]
  },
  {
   "cell_type": "code",
   "execution_count": 0,
   "metadata": {
    "id": "cUBgfsm7ictb",
    "colab_type": "code",
    "colab": {}
   },
   "outputs": [],
   "source": [
    "FLAGS.do_train = True"
   ]
  },
  {
   "cell_type": "code",
   "execution_count": 0,
   "metadata": {
    "id": "sEed72YQsLJr",
    "colab_type": "code",
    "colab": {}
   },
   "outputs": [],
   "source": [
    "FLAGS.data_dir = \"./gdrive/My Drive/NLU/Projects/project_2/data_pp_test/\""
   ]
  },
  {
   "cell_type": "code",
   "execution_count": 0,
   "metadata": {
    "id": "Ry8rj7rh3_QA",
    "colab_type": "code",
    "colab": {}
   },
   "outputs": [],
   "source": [
    "shutil.move(\"./results_D/\", \"./gdrive/My Drive/NLU/Projects/project_2/results/results_D/\""
   ]
  },
  {
   "cell_type": "code",
   "execution_count": 0,
   "metadata": {
    "id": "FLmsUV6h_vxp",
    "colab_type": "code",
    "colab": {}
   },
   "outputs": [],
   "source": [
    ""
   ]
  }
 ],
 "metadata": {
  "colab": {
   "name": "bert_sct _v2.ipynb",
   "version": "0.3.2",
   "provenance": [],
   "collapsed_sections": []
  },
  "language_info": {
   "codemirror_mode": {
    "name": "ipython",
    "version": 3
   },
   "file_extension": ".py",
   "mimetype": "text/x-python",
   "name": "python",
   "nbconvert_exporter": "python",
   "pygments_lexer": "ipython3",
   "version": "3.6.6"
  },
  "kernelspec": {
   "name": "python3",
   "display_name": "Python 3"
  },
  "accelerator": "GPU"
 },
 "nbformat": 4,
 "nbformat_minor": 0
}
