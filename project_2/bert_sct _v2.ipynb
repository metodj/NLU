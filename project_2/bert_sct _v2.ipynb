{
 "cells": [
  {
   "cell_type": "code",
   "execution_count": 2,
   "metadata": {
    "id": "yecJhSfvrIxr",
    "colab_type": "code",
    "outputId": "dd570bc8-4d99-468e-cd9c-9049fb21cf37",
    "executionInfo": {
     "status": "ok",
     "timestamp": 1.559901550073E12,
     "user_tz": -120.0,
     "elapsed": 8065.0,
     "user": {
      "displayName": "Rok Šikonja",
      "photoUrl": "",
      "userId": "08390144229917873056"
     }
    },
    "colab": {
     "base_uri": "https://localhost:8080/",
     "height": 68.0
    }
   },
   "outputs": [
    {
     "name": "stderr",
     "output_type": "stream",
     "text": [
      "WARNING: Logging before flag parsing goes to stderr.\n",
      "W0607 09:59:02.246831 140294592194432 __init__.py:56] Some hub symbols are not available because TensorFlow version is less than 1.14\n"
     ]
    },
    {
     "name": "stdout",
     "output_type": "stream",
     "text": [
      "Mounted at /content/gdrive/\n"
     ]
    }
   ],
   "source": [
    "from __future__ import absolute_import\n",
    "from __future__ import division\n",
    "from __future__ import print_function\n",
    "\n",
    "import sys\n",
    "import os\n",
    "import datetime\n",
    "\n",
    "import tensorflow as tf\n",
    "import tensorflow_hub as hub\n",
    "\n",
    "!pip install bert-tensorflow --quiet\n",
    "from bert import tokenization\n",
    "\n",
    "\n",
    "from google.colab import drive\n",
    "drive.mount('/content/gdrive/', force_remount=True)\n",
    "\n",
    "sys.path.append(\"./gdrive/My Drive/NLU/Projects/project_2/\")"
   ]
  },
  {
   "cell_type": "code",
   "execution_count": 0,
   "metadata": {
    "id": "BRPZ9_J7sz6X",
    "colab_type": "code",
    "colab": {}
   },
   "outputs": [],
   "source": [
    "flags = tf.flags\n",
    "FLAGS = flags.FLAGS\n",
    "\n",
    "flags.DEFINE_string(\"data_dir\", \"./gdrive/My Drive/NLU/Projects/project_2/data_pp/\", \n",
    "                    \"The input data dir. Should contain the .tsv files (or other data files).\")\n",
    "flags.DEFINE_string(\"output_dir\", \"./output_A/\", \"The output directory where the model checkpoints will be written.\")\n",
    "flags.DEFINE_string(\"results_dir\", \"./results_A/\", \"The output directory for result files.\")\n",
    "\n",
    "# Pretrained BERT from hub\n",
    "flags.DEFINE_string(\"bert_model_hub\", \"https://tfhub.dev/google/bert_uncased_L-12_H-768_A-12/1\", \"Pretrained BERT. (default)\")\n",
    "flags.DEFINE_string(\"bert_dir\", None, \"Local directory of pretrained BERT.\")\n",
    "flags.DEFINE_bool(\"bert_trainable\", True, \"Whether BERT weights are trainable.\")\n",
    "flags.DEFINE_string(\"init_checkpoint\", None, \"Initial checkpoint of BERT.\")\n",
    "\n",
    "# Pretrained Masked LM BERT\n",
    "# flags.DEFINE_string(\"bert_model_hub\", None, \"Pretrained BERT. (default)\")\n",
    "# flags.DEFINE_string(\"bert_dir\", \"./gdrive/My Drive/NLU/Projects/project_2/bert/\", \"Local directory of pretrained BERT.\")\n",
    "# flags.DEFINE_bool(\"bert_trainable\", True, \"Whether BERT weights are trainable.\")\n",
    "# flags.DEFINE_string(\"init_checkpoint\", \"./gdrive/My Drive/NLU/Projects/project_2/bert/bert_model.ckpt\", \"Initial checkpoint of BERT.\")\n",
    "# flags.DEFINE_string(\"init_checkpoint\", \"./gdrive/My Drive/NLU/Projects/project_2/bert_masked_lm_pp/\", \"Initial checkpoint of BERT.\")\n",
    "\n",
    "# Training or evaluation\n",
    "flags.DEFINE_bool(\"do_train\", True, \"Whether to run training.\")\n",
    "flags.DEFINE_bool(\"do_eval\", True, \"Whether to run eval on the dev set.\")\n",
    "flags.DEFINE_bool(\"do_predict\", True, \"Whether to run the model in inference mode on the test set.\")\n",
    "\n",
    "flags.DEFINE_integer(\"max_seq_length\", 400, \"Max. length after tokenization. If shorter padded, else truncated.\")\n",
    "flags.DEFINE_integer(\"batch_size\", 8, \"Total batch size for training.\")\n",
    "flags.DEFINE_float(\"learning_rate\", 2e-5, \"The initial learning rate for Adam.\")\n",
    "flags.DEFINE_float(\"num_train_epochs\", 1.0, \"Total number of training epochs to perform.\")\n",
    "flags.DEFINE_float(\"warmup_proportion\", 0.1, \"Proportion of training to perform linear learning rate warmup for.\")\n",
    "tf.app.flags.DEFINE_string('f', '', 'tensorflow bug')\n",
    "\n",
    "if not os.path.exists(FLAGS.output_dir):\n",
    "    os.makedirs(FLAGS.output_dir)\n",
    "    \n",
    "if not os.path.exists(FLAGS.results_dir):\n",
    "    os.makedirs(FLAGS.results_dir)\n",
    "    \n",
    "timestamp = datetime.datetime.now().strftime(\"%d_%H-%M\")\n",
    "\n",
    "from bert_sct_utils_v2 import create_tokenizer_from_hub_module, SctProcessor, get_config\n",
    "from bert_sct_utils_v2 import model_fn_builder, file_based_input_fn_builder, file_based_convert_examples_to_features"
   ]
  },
  {
   "cell_type": "code",
   "execution_count": 11,
   "metadata": {
    "id": "ZXTiMQkFruBs",
    "colab_type": "code",
    "outputId": "eb03c577-5c67-44a6-ffd4-5d02900582db",
    "executionInfo": {
     "status": "ok",
     "timestamp": 1.559910816181E12,
     "user_tz": -120.0,
     "elapsed": 823643.0,
     "user": {
      "displayName": "Rok Šikonja",
      "photoUrl": "",
      "userId": "08390144229917873056"
     }
    },
    "colab": {
     "base_uri": "https://localhost:8080/",
     "height": 30535.0
    }
   },
   "outputs": [
    {
     "name": "stdout",
     "output_type": "stream",
     "text": [
      "INFO:tensorflow:Saver not created because there are no variables in the graph to restore\n"
     ]
    },
    {
     "name": "stderr",
     "output_type": "stream",
     "text": [
      "I0607 12:19:55.919373 140294592194432 saver.py:1483] Saver not created because there are no variables in the graph to restore\n"
     ]
    },
    {
     "name": "stdout",
     "output_type": "stream",
     "text": [
      "INFO:tensorflow:Using config: {'_model_dir': './output/', '_tf_random_seed': None, '_save_summary_steps': 10, '_save_checkpoints_steps': 1000, '_save_checkpoints_secs': None, '_session_config': allow_soft_placement: true\n",
      "graph_options {\n",
      "  rewrite_options {\n",
      "    meta_optimizer_iterations: ONE\n",
      "  }\n",
      "}\n",
      ", '_keep_checkpoint_max': 5, '_keep_checkpoint_every_n_hours': 10000, '_log_step_count_steps': 100, '_train_distribute': None, '_device_fn': None, '_protocol': None, '_eval_distribute': None, '_experimental_distribute': None, '_service': None, '_cluster_spec': <tensorflow.python.training.server_lib.ClusterSpec object at 0x7f987842cba8>, '_task_type': 'worker', '_task_id': 0, '_global_id_in_cluster': 0, '_master': '', '_evaluation_master': '', '_is_chief': True, '_num_ps_replicas': 0, '_num_worker_replicas': 1}\n"
     ]
    },
    {
     "name": "stderr",
     "output_type": "stream",
     "text": [
      "I0607 12:19:59.318015 140294592194432 estimator.py:201] Using config: {'_model_dir': './output/', '_tf_random_seed': None, '_save_summary_steps': 10, '_save_checkpoints_steps': 1000, '_save_checkpoints_secs': None, '_session_config': allow_soft_placement: true\n",
      "graph_options {\n",
      "  rewrite_options {\n",
      "    meta_optimizer_iterations: ONE\n",
      "  }\n",
      "}\n",
      ", '_keep_checkpoint_max': 5, '_keep_checkpoint_every_n_hours': 10000, '_log_step_count_steps': 100, '_train_distribute': None, '_device_fn': None, '_protocol': None, '_eval_distribute': None, '_experimental_distribute': None, '_service': None, '_cluster_spec': <tensorflow.python.training.server_lib.ClusterSpec object at 0x7f987842cba8>, '_task_type': 'worker', '_task_id': 0, '_global_id_in_cluster': 0, '_master': '', '_evaluation_master': '', '_is_chief': True, '_num_ps_replicas': 0, '_num_worker_replicas': 1}\n"
     ]
    },
    {
     "name": "stdout",
     "output_type": "stream",
     "text": [
      "INFO:tensorflow:Writing example 0 of 41871\n"
     ]
    },
    {
     "name": "stderr",
     "output_type": "stream",
     "text": [
      "I0607 12:19:59.329820 140294592194432 bert_sct_utils_v2.py:322] Writing example 0 of 41871\n"
     ]
    },
    {
     "name": "stdout",
     "output_type": "stream",
     "text": [
      "INFO:tensorflow:*** Example ***\n"
     ]
    },
    {
     "name": "stderr",
     "output_type": "stream",
     "text": [
      "I0607 12:19:59.333092 140294592194432 bert_sct_utils_v2.py:299] *** Example ***\n"
     ]
    },
    {
     "name": "stdout",
     "output_type": "stream",
     "text": [
      "INFO:tensorflow:unique_id: train-ffff61dd-c4e3-490e-99ea-bfda5a755946\n"
     ]
    },
    {
     "name": "stderr",
     "output_type": "stream",
     "text": [
      "I0607 12:19:59.335140 140294592194432 bert_sct_utils_v2.py:300] unique_id: train-ffff61dd-c4e3-490e-99ea-bfda5a755946\n"
     ]
    },
    {
     "name": "stdout",
     "output_type": "stream",
     "text": [
      "INFO:tensorflow:tokens: [CLS] i was on my way to work . suddenly , it started to rain . i had to walk for miles in the rain . i got closer to my work and it rained harder . [SEP] when i got to work , i was soaking wet . [SEP]\n"
     ]
    },
    {
     "name": "stderr",
     "output_type": "stream",
     "text": [
      "I0607 12:19:59.338313 140294592194432 bert_sct_utils_v2.py:301] tokens: [CLS] i was on my way to work . suddenly , it started to rain . i had to walk for miles in the rain . i got closer to my work and it rained harder . [SEP] when i got to work , i was soaking wet . [SEP]\n"
     ]
    },
    {
     "name": "stdout",
     "output_type": "stream",
     "text": [
      "INFO:tensorflow:input_ids: 101 1045 2001 2006 2026 2126 2000 2147 1012 3402 1010 2009 2318 2000 4542 1012 1045 2018 2000 3328 2005 2661 1999 1996 4542 1012 1045 2288 3553 2000 2026 2147 1998 2009 28270 6211 1012 102 2043 1045 2288 2000 2147 1010 1045 2001 22721 4954 1012 102 0 0 0 0 0 0 0 0 0 0 0 0 0 0 0 0 0 0 0 0 0 0 0 0 0 0 0 0 0 0 0 0 0 0 0 0 0 0 0 0 0 0 0 0 0 0 0 0 0 0 0 0 0 0 0 0 0 0 0 0 0 0 0 0 0 0 0 0 0 0 0 0 0 0 0 0 0 0 0 0 0 0 0 0 0 0 0 0 0 0 0 0 0 0 0 0 0 0 0 0 0 0 0 0 0 0 0 0 0 0 0 0 0 0 0 0 0 0 0 0 0 0 0 0 0 0 0 0 0 0 0 0 0 0 0 0 0 0 0 0 0 0 0 0 0 0 0 0 0 0 0 0 0 0 0 0 0 0 0 0 0 0 0 0 0 0 0 0 0 0 0 0 0 0 0 0 0 0 0 0 0 0 0 0 0 0 0 0 0 0 0 0 0 0 0 0 0 0 0 0 0 0 0 0 0 0 0 0 0 0 0 0 0 0 0 0 0 0 0 0 0 0 0 0 0 0 0 0 0 0 0 0 0 0 0 0 0 0 0 0 0 0 0 0 0 0 0 0 0 0 0 0 0 0 0 0 0 0 0 0 0 0 0 0 0 0 0 0 0 0 0 0 0 0 0 0 0 0 0 0 0 0 0 0 0 0 0 0 0 0 0 0 0 0 0 0 0 0 0 0 0 0 0 0 0 0 0 0 0 0 0 0 0 0 0 0 0 0 0 0 0 0 0 0 0 0 0 0 0 0 0 0 0 0 0 0 0 0 0 0 0 0 0 0 0 0 0 0 0 0\n"
     ]
    },
    {
     "name": "stderr",
     "output_type": "stream",
     "text": [
      "I0607 12:19:59.341697 140294592194432 bert_sct_utils_v2.py:302] input_ids: 101 1045 2001 2006 2026 2126 2000 2147 1012 3402 1010 2009 2318 2000 4542 1012 1045 2018 2000 3328 2005 2661 1999 1996 4542 1012 1045 2288 3553 2000 2026 2147 1998 2009 28270 6211 1012 102 2043 1045 2288 2000 2147 1010 1045 2001 22721 4954 1012 102 0 0 0 0 0 0 0 0 0 0 0 0 0 0 0 0 0 0 0 0 0 0 0 0 0 0 0 0 0 0 0 0 0 0 0 0 0 0 0 0 0 0 0 0 0 0 0 0 0 0 0 0 0 0 0 0 0 0 0 0 0 0 0 0 0 0 0 0 0 0 0 0 0 0 0 0 0 0 0 0 0 0 0 0 0 0 0 0 0 0 0 0 0 0 0 0 0 0 0 0 0 0 0 0 0 0 0 0 0 0 0 0 0 0 0 0 0 0 0 0 0 0 0 0 0 0 0 0 0 0 0 0 0 0 0 0 0 0 0 0 0 0 0 0 0 0 0 0 0 0 0 0 0 0 0 0 0 0 0 0 0 0 0 0 0 0 0 0 0 0 0 0 0 0 0 0 0 0 0 0 0 0 0 0 0 0 0 0 0 0 0 0 0 0 0 0 0 0 0 0 0 0 0 0 0 0 0 0 0 0 0 0 0 0 0 0 0 0 0 0 0 0 0 0 0 0 0 0 0 0 0 0 0 0 0 0 0 0 0 0 0 0 0 0 0 0 0 0 0 0 0 0 0 0 0 0 0 0 0 0 0 0 0 0 0 0 0 0 0 0 0 0 0 0 0 0 0 0 0 0 0 0 0 0 0 0 0 0 0 0 0 0 0 0 0 0 0 0 0 0 0 0 0 0 0 0 0 0 0 0 0 0 0 0 0 0 0 0 0 0 0 0 0 0 0 0 0 0 0 0 0 0 0 0 0 0 0 0 0 0 0 0 0 0 0 0 0 0 0 0\n"
     ]
    },
    {
     "name": "stdout",
     "output_type": "stream",
     "text": [
      "INFO:tensorflow:input_mask: 1 1 1 1 1 1 1 1 1 1 1 1 1 1 1 1 1 1 1 1 1 1 1 1 1 1 1 1 1 1 1 1 1 1 1 1 1 1 1 1 1 1 1 1 1 1 1 1 1 1 0 0 0 0 0 0 0 0 0 0 0 0 0 0 0 0 0 0 0 0 0 0 0 0 0 0 0 0 0 0 0 0 0 0 0 0 0 0 0 0 0 0 0 0 0 0 0 0 0 0 0 0 0 0 0 0 0 0 0 0 0 0 0 0 0 0 0 0 0 0 0 0 0 0 0 0 0 0 0 0 0 0 0 0 0 0 0 0 0 0 0 0 0 0 0 0 0 0 0 0 0 0 0 0 0 0 0 0 0 0 0 0 0 0 0 0 0 0 0 0 0 0 0 0 0 0 0 0 0 0 0 0 0 0 0 0 0 0 0 0 0 0 0 0 0 0 0 0 0 0 0 0 0 0 0 0 0 0 0 0 0 0 0 0 0 0 0 0 0 0 0 0 0 0 0 0 0 0 0 0 0 0 0 0 0 0 0 0 0 0 0 0 0 0 0 0 0 0 0 0 0 0 0 0 0 0 0 0 0 0 0 0 0 0 0 0 0 0 0 0 0 0 0 0 0 0 0 0 0 0 0 0 0 0 0 0 0 0 0 0 0 0 0 0 0 0 0 0 0 0 0 0 0 0 0 0 0 0 0 0 0 0 0 0 0 0 0 0 0 0 0 0 0 0 0 0 0 0 0 0 0 0 0 0 0 0 0 0 0 0 0 0 0 0 0 0 0 0 0 0 0 0 0 0 0 0 0 0 0 0 0 0 0 0 0 0 0 0 0 0 0 0 0 0 0 0 0 0 0 0 0 0 0 0 0 0 0 0 0 0 0 0 0 0 0 0 0 0 0 0\n"
     ]
    },
    {
     "name": "stderr",
     "output_type": "stream",
     "text": [
      "I0607 12:19:59.344046 140294592194432 bert_sct_utils_v2.py:303] input_mask: 1 1 1 1 1 1 1 1 1 1 1 1 1 1 1 1 1 1 1 1 1 1 1 1 1 1 1 1 1 1 1 1 1 1 1 1 1 1 1 1 1 1 1 1 1 1 1 1 1 1 0 0 0 0 0 0 0 0 0 0 0 0 0 0 0 0 0 0 0 0 0 0 0 0 0 0 0 0 0 0 0 0 0 0 0 0 0 0 0 0 0 0 0 0 0 0 0 0 0 0 0 0 0 0 0 0 0 0 0 0 0 0 0 0 0 0 0 0 0 0 0 0 0 0 0 0 0 0 0 0 0 0 0 0 0 0 0 0 0 0 0 0 0 0 0 0 0 0 0 0 0 0 0 0 0 0 0 0 0 0 0 0 0 0 0 0 0 0 0 0 0 0 0 0 0 0 0 0 0 0 0 0 0 0 0 0 0 0 0 0 0 0 0 0 0 0 0 0 0 0 0 0 0 0 0 0 0 0 0 0 0 0 0 0 0 0 0 0 0 0 0 0 0 0 0 0 0 0 0 0 0 0 0 0 0 0 0 0 0 0 0 0 0 0 0 0 0 0 0 0 0 0 0 0 0 0 0 0 0 0 0 0 0 0 0 0 0 0 0 0 0 0 0 0 0 0 0 0 0 0 0 0 0 0 0 0 0 0 0 0 0 0 0 0 0 0 0 0 0 0 0 0 0 0 0 0 0 0 0 0 0 0 0 0 0 0 0 0 0 0 0 0 0 0 0 0 0 0 0 0 0 0 0 0 0 0 0 0 0 0 0 0 0 0 0 0 0 0 0 0 0 0 0 0 0 0 0 0 0 0 0 0 0 0 0 0 0 0 0 0 0 0 0 0 0 0 0 0 0 0 0 0 0 0 0 0 0 0 0 0 0 0 0 0 0 0 0 0 0 0\n"
     ]
    },
    {
     "name": "stdout",
     "output_type": "stream",
     "text": [
      "INFO:tensorflow:segment_ids: 0 0 0 0 0 0 0 0 0 0 0 0 0 0 0 0 0 0 0 0 0 0 0 0 0 0 0 0 0 0 0 0 0 0 0 0 0 0 1 1 1 1 1 1 1 1 1 1 1 1 0 0 0 0 0 0 0 0 0 0 0 0 0 0 0 0 0 0 0 0 0 0 0 0 0 0 0 0 0 0 0 0 0 0 0 0 0 0 0 0 0 0 0 0 0 0 0 0 0 0 0 0 0 0 0 0 0 0 0 0 0 0 0 0 0 0 0 0 0 0 0 0 0 0 0 0 0 0 0 0 0 0 0 0 0 0 0 0 0 0 0 0 0 0 0 0 0 0 0 0 0 0 0 0 0 0 0 0 0 0 0 0 0 0 0 0 0 0 0 0 0 0 0 0 0 0 0 0 0 0 0 0 0 0 0 0 0 0 0 0 0 0 0 0 0 0 0 0 0 0 0 0 0 0 0 0 0 0 0 0 0 0 0 0 0 0 0 0 0 0 0 0 0 0 0 0 0 0 0 0 0 0 0 0 0 0 0 0 0 0 0 0 0 0 0 0 0 0 0 0 0 0 0 0 0 0 0 0 0 0 0 0 0 0 0 0 0 0 0 0 0 0 0 0 0 0 0 0 0 0 0 0 0 0 0 0 0 0 0 0 0 0 0 0 0 0 0 0 0 0 0 0 0 0 0 0 0 0 0 0 0 0 0 0 0 0 0 0 0 0 0 0 0 0 0 0 0 0 0 0 0 0 0 0 0 0 0 0 0 0 0 0 0 0 0 0 0 0 0 0 0 0 0 0 0 0 0 0 0 0 0 0 0 0 0 0 0 0 0 0 0 0 0 0 0 0 0 0 0 0 0 0 0 0 0 0 0 0 0 0 0 0 0 0 0 0 0 0 0 0\n"
     ]
    },
    {
     "name": "stderr",
     "output_type": "stream",
     "text": [
      "I0607 12:19:59.346962 140294592194432 bert_sct_utils_v2.py:304] segment_ids: 0 0 0 0 0 0 0 0 0 0 0 0 0 0 0 0 0 0 0 0 0 0 0 0 0 0 0 0 0 0 0 0 0 0 0 0 0 0 1 1 1 1 1 1 1 1 1 1 1 1 0 0 0 0 0 0 0 0 0 0 0 0 0 0 0 0 0 0 0 0 0 0 0 0 0 0 0 0 0 0 0 0 0 0 0 0 0 0 0 0 0 0 0 0 0 0 0 0 0 0 0 0 0 0 0 0 0 0 0 0 0 0 0 0 0 0 0 0 0 0 0 0 0 0 0 0 0 0 0 0 0 0 0 0 0 0 0 0 0 0 0 0 0 0 0 0 0 0 0 0 0 0 0 0 0 0 0 0 0 0 0 0 0 0 0 0 0 0 0 0 0 0 0 0 0 0 0 0 0 0 0 0 0 0 0 0 0 0 0 0 0 0 0 0 0 0 0 0 0 0 0 0 0 0 0 0 0 0 0 0 0 0 0 0 0 0 0 0 0 0 0 0 0 0 0 0 0 0 0 0 0 0 0 0 0 0 0 0 0 0 0 0 0 0 0 0 0 0 0 0 0 0 0 0 0 0 0 0 0 0 0 0 0 0 0 0 0 0 0 0 0 0 0 0 0 0 0 0 0 0 0 0 0 0 0 0 0 0 0 0 0 0 0 0 0 0 0 0 0 0 0 0 0 0 0 0 0 0 0 0 0 0 0 0 0 0 0 0 0 0 0 0 0 0 0 0 0 0 0 0 0 0 0 0 0 0 0 0 0 0 0 0 0 0 0 0 0 0 0 0 0 0 0 0 0 0 0 0 0 0 0 0 0 0 0 0 0 0 0 0 0 0 0 0 0 0 0 0 0 0 0 0 0 0 0 0 0 0 0 0 0 0 0 0 0 0 0 0 0 0\n"
     ]
    },
    {
     "name": "stdout",
     "output_type": "stream",
     "text": [
      "INFO:tensorflow:label: 1 (id = 1)\n"
     ]
    },
    {
     "name": "stderr",
     "output_type": "stream",
     "text": [
      "I0607 12:19:59.349721 140294592194432 bert_sct_utils_v2.py:305] label: 1 (id = 1)\n"
     ]
    },
    {
     "name": "stdout",
     "output_type": "stream",
     "text": [
      "INFO:tensorflow:sentiment: (20,), [0. 0. 1. 0. 0. 0. 1. 0. 0. 0. 1. 0. 0. 0. 1. 0. 0. 0. 1. 0.]\n"
     ]
    },
    {
     "name": "stderr",
     "output_type": "stream",
     "text": [
      "I0607 12:19:59.352952 140294592194432 bert_sct_utils_v2.py:306] sentiment: (20,), [0. 0. 1. 0. 0. 0. 1. 0. 0. 0. 1. 0. 0. 0. 1. 0. 0. 0. 1. 0.]\n"
     ]
    },
    {
     "name": "stdout",
     "output_type": "stream",
     "text": [
      "INFO:tensorflow:cs_dist: (4,), [1. 1. 1. 1.]\n"
     ]
    },
    {
     "name": "stderr",
     "output_type": "stream",
     "text": [
      "I0607 12:19:59.355614 140294592194432 bert_sct_utils_v2.py:307] cs_dist: (4,), [1. 1. 1. 1.]\n"
     ]
    },
    {
     "name": "stdout",
     "output_type": "stream",
     "text": [
      "INFO:tensorflow:*** Example ***\n"
     ]
    },
    {
     "name": "stderr",
     "output_type": "stream",
     "text": [
      "I0607 12:19:59.360129 140294592194432 bert_sct_utils_v2.py:299] *** Example ***\n"
     ]
    },
    {
     "name": "stdout",
     "output_type": "stream",
     "text": [
      "INFO:tensorflow:unique_id: train-ffff61dd-c4e3-490e-99ea-bfda5a755946\n"
     ]
    },
    {
     "name": "stderr",
     "output_type": "stream",
     "text": [
      "I0607 12:19:59.361928 140294592194432 bert_sct_utils_v2.py:300] unique_id: train-ffff61dd-c4e3-490e-99ea-bfda5a755946\n"
     ]
    },
    {
     "name": "stdout",
     "output_type": "stream",
     "text": [
      "INFO:tensorflow:tokens: [CLS] i was on my way to work . suddenly , it started to rain . i had to walk for miles in the rain . i got closer to my work and it rained harder . [SEP] kids loved when he came to parties . [SEP]\n"
     ]
    },
    {
     "name": "stderr",
     "output_type": "stream",
     "text": [
      "I0607 12:19:59.364438 140294592194432 bert_sct_utils_v2.py:301] tokens: [CLS] i was on my way to work . suddenly , it started to rain . i had to walk for miles in the rain . i got closer to my work and it rained harder . [SEP] kids loved when he came to parties . [SEP]\n"
     ]
    },
    {
     "name": "stdout",
     "output_type": "stream",
     "text": [
      "INFO:tensorflow:input_ids: 101 1045 2001 2006 2026 2126 2000 2147 1012 3402 1010 2009 2318 2000 4542 1012 1045 2018 2000 3328 2005 2661 1999 1996 4542 1012 1045 2288 3553 2000 2026 2147 1998 2009 28270 6211 1012 102 4268 3866 2043 2002 2234 2000 4243 1012 102 0 0 0 0 0 0 0 0 0 0 0 0 0 0 0 0 0 0 0 0 0 0 0 0 0 0 0 0 0 0 0 0 0 0 0 0 0 0 0 0 0 0 0 0 0 0 0 0 0 0 0 0 0 0 0 0 0 0 0 0 0 0 0 0 0 0 0 0 0 0 0 0 0 0 0 0 0 0 0 0 0 0 0 0 0 0 0 0 0 0 0 0 0 0 0 0 0 0 0 0 0 0 0 0 0 0 0 0 0 0 0 0 0 0 0 0 0 0 0 0 0 0 0 0 0 0 0 0 0 0 0 0 0 0 0 0 0 0 0 0 0 0 0 0 0 0 0 0 0 0 0 0 0 0 0 0 0 0 0 0 0 0 0 0 0 0 0 0 0 0 0 0 0 0 0 0 0 0 0 0 0 0 0 0 0 0 0 0 0 0 0 0 0 0 0 0 0 0 0 0 0 0 0 0 0 0 0 0 0 0 0 0 0 0 0 0 0 0 0 0 0 0 0 0 0 0 0 0 0 0 0 0 0 0 0 0 0 0 0 0 0 0 0 0 0 0 0 0 0 0 0 0 0 0 0 0 0 0 0 0 0 0 0 0 0 0 0 0 0 0 0 0 0 0 0 0 0 0 0 0 0 0 0 0 0 0 0 0 0 0 0 0 0 0 0 0 0 0 0 0 0 0 0 0 0 0 0 0 0 0 0 0 0 0 0 0 0 0 0 0 0 0 0 0 0 0 0 0 0 0 0 0 0 0 0 0 0 0 0 0 0 0 0 0 0 0 0 0 0 0 0 0 0\n"
     ]
    },
    {
     "name": "stderr",
     "output_type": "stream",
     "text": [
      "I0607 12:19:59.368079 140294592194432 bert_sct_utils_v2.py:302] input_ids: 101 1045 2001 2006 2026 2126 2000 2147 1012 3402 1010 2009 2318 2000 4542 1012 1045 2018 2000 3328 2005 2661 1999 1996 4542 1012 1045 2288 3553 2000 2026 2147 1998 2009 28270 6211 1012 102 4268 3866 2043 2002 2234 2000 4243 1012 102 0 0 0 0 0 0 0 0 0 0 0 0 0 0 0 0 0 0 0 0 0 0 0 0 0 0 0 0 0 0 0 0 0 0 0 0 0 0 0 0 0 0 0 0 0 0 0 0 0 0 0 0 0 0 0 0 0 0 0 0 0 0 0 0 0 0 0 0 0 0 0 0 0 0 0 0 0 0 0 0 0 0 0 0 0 0 0 0 0 0 0 0 0 0 0 0 0 0 0 0 0 0 0 0 0 0 0 0 0 0 0 0 0 0 0 0 0 0 0 0 0 0 0 0 0 0 0 0 0 0 0 0 0 0 0 0 0 0 0 0 0 0 0 0 0 0 0 0 0 0 0 0 0 0 0 0 0 0 0 0 0 0 0 0 0 0 0 0 0 0 0 0 0 0 0 0 0 0 0 0 0 0 0 0 0 0 0 0 0 0 0 0 0 0 0 0 0 0 0 0 0 0 0 0 0 0 0 0 0 0 0 0 0 0 0 0 0 0 0 0 0 0 0 0 0 0 0 0 0 0 0 0 0 0 0 0 0 0 0 0 0 0 0 0 0 0 0 0 0 0 0 0 0 0 0 0 0 0 0 0 0 0 0 0 0 0 0 0 0 0 0 0 0 0 0 0 0 0 0 0 0 0 0 0 0 0 0 0 0 0 0 0 0 0 0 0 0 0 0 0 0 0 0 0 0 0 0 0 0 0 0 0 0 0 0 0 0 0 0 0 0 0 0 0 0 0 0 0 0 0 0 0 0 0 0 0 0 0 0 0 0 0 0 0 0 0 0 0 0 0 0 0 0\n"
     ]
    },
    {
     "name": "stdout",
     "output_type": "stream",
     "text": [
      "INFO:tensorflow:input_mask: 1 1 1 1 1 1 1 1 1 1 1 1 1 1 1 1 1 1 1 1 1 1 1 1 1 1 1 1 1 1 1 1 1 1 1 1 1 1 1 1 1 1 1 1 1 1 1 0 0 0 0 0 0 0 0 0 0 0 0 0 0 0 0 0 0 0 0 0 0 0 0 0 0 0 0 0 0 0 0 0 0 0 0 0 0 0 0 0 0 0 0 0 0 0 0 0 0 0 0 0 0 0 0 0 0 0 0 0 0 0 0 0 0 0 0 0 0 0 0 0 0 0 0 0 0 0 0 0 0 0 0 0 0 0 0 0 0 0 0 0 0 0 0 0 0 0 0 0 0 0 0 0 0 0 0 0 0 0 0 0 0 0 0 0 0 0 0 0 0 0 0 0 0 0 0 0 0 0 0 0 0 0 0 0 0 0 0 0 0 0 0 0 0 0 0 0 0 0 0 0 0 0 0 0 0 0 0 0 0 0 0 0 0 0 0 0 0 0 0 0 0 0 0 0 0 0 0 0 0 0 0 0 0 0 0 0 0 0 0 0 0 0 0 0 0 0 0 0 0 0 0 0 0 0 0 0 0 0 0 0 0 0 0 0 0 0 0 0 0 0 0 0 0 0 0 0 0 0 0 0 0 0 0 0 0 0 0 0 0 0 0 0 0 0 0 0 0 0 0 0 0 0 0 0 0 0 0 0 0 0 0 0 0 0 0 0 0 0 0 0 0 0 0 0 0 0 0 0 0 0 0 0 0 0 0 0 0 0 0 0 0 0 0 0 0 0 0 0 0 0 0 0 0 0 0 0 0 0 0 0 0 0 0 0 0 0 0 0 0 0 0 0 0 0 0 0 0 0 0 0 0 0 0 0 0 0 0 0 0 0 0 0 0 0 0 0 0 0 0 0\n"
     ]
    },
    {
     "name": "stderr",
     "output_type": "stream",
     "text": [
      "I0607 12:19:59.370228 140294592194432 bert_sct_utils_v2.py:303] input_mask: 1 1 1 1 1 1 1 1 1 1 1 1 1 1 1 1 1 1 1 1 1 1 1 1 1 1 1 1 1 1 1 1 1 1 1 1 1 1 1 1 1 1 1 1 1 1 1 0 0 0 0 0 0 0 0 0 0 0 0 0 0 0 0 0 0 0 0 0 0 0 0 0 0 0 0 0 0 0 0 0 0 0 0 0 0 0 0 0 0 0 0 0 0 0 0 0 0 0 0 0 0 0 0 0 0 0 0 0 0 0 0 0 0 0 0 0 0 0 0 0 0 0 0 0 0 0 0 0 0 0 0 0 0 0 0 0 0 0 0 0 0 0 0 0 0 0 0 0 0 0 0 0 0 0 0 0 0 0 0 0 0 0 0 0 0 0 0 0 0 0 0 0 0 0 0 0 0 0 0 0 0 0 0 0 0 0 0 0 0 0 0 0 0 0 0 0 0 0 0 0 0 0 0 0 0 0 0 0 0 0 0 0 0 0 0 0 0 0 0 0 0 0 0 0 0 0 0 0 0 0 0 0 0 0 0 0 0 0 0 0 0 0 0 0 0 0 0 0 0 0 0 0 0 0 0 0 0 0 0 0 0 0 0 0 0 0 0 0 0 0 0 0 0 0 0 0 0 0 0 0 0 0 0 0 0 0 0 0 0 0 0 0 0 0 0 0 0 0 0 0 0 0 0 0 0 0 0 0 0 0 0 0 0 0 0 0 0 0 0 0 0 0 0 0 0 0 0 0 0 0 0 0 0 0 0 0 0 0 0 0 0 0 0 0 0 0 0 0 0 0 0 0 0 0 0 0 0 0 0 0 0 0 0 0 0 0 0 0 0 0 0 0 0 0 0 0 0 0 0 0 0 0 0 0 0 0 0 0 0 0 0 0 0 0 0 0 0 0 0 0\n"
     ]
    },
    {
     "name": "stdout",
     "output_type": "stream",
     "text": [
      "INFO:tensorflow:segment_ids: 0 0 0 0 0 0 0 0 0 0 0 0 0 0 0 0 0 0 0 0 0 0 0 0 0 0 0 0 0 0 0 0 0 0 0 0 0 0 1 1 1 1 1 1 1 1 1 0 0 0 0 0 0 0 0 0 0 0 0 0 0 0 0 0 0 0 0 0 0 0 0 0 0 0 0 0 0 0 0 0 0 0 0 0 0 0 0 0 0 0 0 0 0 0 0 0 0 0 0 0 0 0 0 0 0 0 0 0 0 0 0 0 0 0 0 0 0 0 0 0 0 0 0 0 0 0 0 0 0 0 0 0 0 0 0 0 0 0 0 0 0 0 0 0 0 0 0 0 0 0 0 0 0 0 0 0 0 0 0 0 0 0 0 0 0 0 0 0 0 0 0 0 0 0 0 0 0 0 0 0 0 0 0 0 0 0 0 0 0 0 0 0 0 0 0 0 0 0 0 0 0 0 0 0 0 0 0 0 0 0 0 0 0 0 0 0 0 0 0 0 0 0 0 0 0 0 0 0 0 0 0 0 0 0 0 0 0 0 0 0 0 0 0 0 0 0 0 0 0 0 0 0 0 0 0 0 0 0 0 0 0 0 0 0 0 0 0 0 0 0 0 0 0 0 0 0 0 0 0 0 0 0 0 0 0 0 0 0 0 0 0 0 0 0 0 0 0 0 0 0 0 0 0 0 0 0 0 0 0 0 0 0 0 0 0 0 0 0 0 0 0 0 0 0 0 0 0 0 0 0 0 0 0 0 0 0 0 0 0 0 0 0 0 0 0 0 0 0 0 0 0 0 0 0 0 0 0 0 0 0 0 0 0 0 0 0 0 0 0 0 0 0 0 0 0 0 0 0 0 0 0 0 0 0 0 0 0 0 0 0 0 0 0 0 0 0 0 0 0 0\n"
     ]
    },
    {
     "name": "stderr",
     "output_type": "stream",
     "text": [
      "I0607 12:19:59.372867 140294592194432 bert_sct_utils_v2.py:304] segment_ids: 0 0 0 0 0 0 0 0 0 0 0 0 0 0 0 0 0 0 0 0 0 0 0 0 0 0 0 0 0 0 0 0 0 0 0 0 0 0 1 1 1 1 1 1 1 1 1 0 0 0 0 0 0 0 0 0 0 0 0 0 0 0 0 0 0 0 0 0 0 0 0 0 0 0 0 0 0 0 0 0 0 0 0 0 0 0 0 0 0 0 0 0 0 0 0 0 0 0 0 0 0 0 0 0 0 0 0 0 0 0 0 0 0 0 0 0 0 0 0 0 0 0 0 0 0 0 0 0 0 0 0 0 0 0 0 0 0 0 0 0 0 0 0 0 0 0 0 0 0 0 0 0 0 0 0 0 0 0 0 0 0 0 0 0 0 0 0 0 0 0 0 0 0 0 0 0 0 0 0 0 0 0 0 0 0 0 0 0 0 0 0 0 0 0 0 0 0 0 0 0 0 0 0 0 0 0 0 0 0 0 0 0 0 0 0 0 0 0 0 0 0 0 0 0 0 0 0 0 0 0 0 0 0 0 0 0 0 0 0 0 0 0 0 0 0 0 0 0 0 0 0 0 0 0 0 0 0 0 0 0 0 0 0 0 0 0 0 0 0 0 0 0 0 0 0 0 0 0 0 0 0 0 0 0 0 0 0 0 0 0 0 0 0 0 0 0 0 0 0 0 0 0 0 0 0 0 0 0 0 0 0 0 0 0 0 0 0 0 0 0 0 0 0 0 0 0 0 0 0 0 0 0 0 0 0 0 0 0 0 0 0 0 0 0 0 0 0 0 0 0 0 0 0 0 0 0 0 0 0 0 0 0 0 0 0 0 0 0 0 0 0 0 0 0 0 0 0 0 0 0 0 0 0 0 0 0 0 0 0 0 0 0 0 0 0 0 0 0 0 0\n"
     ]
    },
    {
     "name": "stdout",
     "output_type": "stream",
     "text": [
      "INFO:tensorflow:label: 0 (id = 0)\n"
     ]
    },
    {
     "name": "stderr",
     "output_type": "stream",
     "text": [
      "I0607 12:19:59.375276 140294592194432 bert_sct_utils_v2.py:305] label: 0 (id = 0)\n"
     ]
    },
    {
     "name": "stdout",
     "output_type": "stream",
     "text": [
      "INFO:tensorflow:sentiment: (20,), [0.    0.    1.    0.    0.    0.    1.    0.    0.    0.    1.    0.\n",
      " 0.    0.    1.    0.    0.765 0.    0.431 0.569]\n"
     ]
    },
    {
     "name": "stderr",
     "output_type": "stream",
     "text": [
      "I0607 12:19:59.377972 140294592194432 bert_sct_utils_v2.py:306] sentiment: (20,), [0.    0.    1.    0.    0.    0.    1.    0.    0.    0.    1.    0.\n",
      " 0.    0.    1.    0.    0.765 0.    0.431 0.569]\n"
     ]
    },
    {
     "name": "stdout",
     "output_type": "stream",
     "text": [
      "INFO:tensorflow:cs_dist: (4,), [-1. -1. -1. -1.]\n"
     ]
    },
    {
     "name": "stderr",
     "output_type": "stream",
     "text": [
      "I0607 12:19:59.380787 140294592194432 bert_sct_utils_v2.py:307] cs_dist: (4,), [-1. -1. -1. -1.]\n"
     ]
    },
    {
     "name": "stdout",
     "output_type": "stream",
     "text": [
      "INFO:tensorflow:*** Example ***\n"
     ]
    },
    {
     "name": "stderr",
     "output_type": "stream",
     "text": [
      "I0607 12:19:59.386364 140294592194432 bert_sct_utils_v2.py:299] *** Example ***\n"
     ]
    },
    {
     "name": "stdout",
     "output_type": "stream",
     "text": [
      "INFO:tensorflow:unique_id: train-ffff01c1-69ec-412c-a9a0-15a57f5e79f1\n"
     ]
    },
    {
     "name": "stderr",
     "output_type": "stream",
     "text": [
      "I0607 12:19:59.388823 140294592194432 bert_sct_utils_v2.py:300] unique_id: train-ffff01c1-69ec-412c-a9a0-15a57f5e79f1\n"
     ]
    },
    {
     "name": "stdout",
     "output_type": "stream",
     "text": [
      "INFO:tensorflow:tokens: [CLS] i collect press photos of chinatown ##s . last week i saw a photo of a store in boston ' s chinatown . i made an offer of $ 10 . it was accepted . [SEP] i got the photo a few days ago and was happy . [SEP]\n"
     ]
    },
    {
     "name": "stderr",
     "output_type": "stream",
     "text": [
      "I0607 12:19:59.390919 140294592194432 bert_sct_utils_v2.py:301] tokens: [CLS] i collect press photos of chinatown ##s . last week i saw a photo of a store in boston ' s chinatown . i made an offer of $ 10 . it was accepted . [SEP] i got the photo a few days ago and was happy . [SEP]\n"
     ]
    },
    {
     "name": "stdout",
     "output_type": "stream",
     "text": [
      "INFO:tensorflow:input_ids: 101 1045 8145 2811 7760 1997 22321 2015 1012 2197 2733 1045 2387 1037 6302 1997 1037 3573 1999 3731 1005 1055 22321 1012 1045 2081 2019 3749 1997 1002 2184 1012 2009 2001 3970 1012 102 1045 2288 1996 6302 1037 2261 2420 3283 1998 2001 3407 1012 102 0 0 0 0 0 0 0 0 0 0 0 0 0 0 0 0 0 0 0 0 0 0 0 0 0 0 0 0 0 0 0 0 0 0 0 0 0 0 0 0 0 0 0 0 0 0 0 0 0 0 0 0 0 0 0 0 0 0 0 0 0 0 0 0 0 0 0 0 0 0 0 0 0 0 0 0 0 0 0 0 0 0 0 0 0 0 0 0 0 0 0 0 0 0 0 0 0 0 0 0 0 0 0 0 0 0 0 0 0 0 0 0 0 0 0 0 0 0 0 0 0 0 0 0 0 0 0 0 0 0 0 0 0 0 0 0 0 0 0 0 0 0 0 0 0 0 0 0 0 0 0 0 0 0 0 0 0 0 0 0 0 0 0 0 0 0 0 0 0 0 0 0 0 0 0 0 0 0 0 0 0 0 0 0 0 0 0 0 0 0 0 0 0 0 0 0 0 0 0 0 0 0 0 0 0 0 0 0 0 0 0 0 0 0 0 0 0 0 0 0 0 0 0 0 0 0 0 0 0 0 0 0 0 0 0 0 0 0 0 0 0 0 0 0 0 0 0 0 0 0 0 0 0 0 0 0 0 0 0 0 0 0 0 0 0 0 0 0 0 0 0 0 0 0 0 0 0 0 0 0 0 0 0 0 0 0 0 0 0 0 0 0 0 0 0 0 0 0 0 0 0 0 0 0 0 0 0 0 0 0 0 0 0 0 0 0 0 0 0 0 0 0 0 0 0 0 0 0 0 0 0 0 0 0 0 0 0 0 0 0 0 0 0 0 0 0 0 0 0 0\n"
     ]
    },
    {
     "name": "stderr",
     "output_type": "stream",
     "text": [
      "I0607 12:19:59.393461 140294592194432 bert_sct_utils_v2.py:302] input_ids: 101 1045 8145 2811 7760 1997 22321 2015 1012 2197 2733 1045 2387 1037 6302 1997 1037 3573 1999 3731 1005 1055 22321 1012 1045 2081 2019 3749 1997 1002 2184 1012 2009 2001 3970 1012 102 1045 2288 1996 6302 1037 2261 2420 3283 1998 2001 3407 1012 102 0 0 0 0 0 0 0 0 0 0 0 0 0 0 0 0 0 0 0 0 0 0 0 0 0 0 0 0 0 0 0 0 0 0 0 0 0 0 0 0 0 0 0 0 0 0 0 0 0 0 0 0 0 0 0 0 0 0 0 0 0 0 0 0 0 0 0 0 0 0 0 0 0 0 0 0 0 0 0 0 0 0 0 0 0 0 0 0 0 0 0 0 0 0 0 0 0 0 0 0 0 0 0 0 0 0 0 0 0 0 0 0 0 0 0 0 0 0 0 0 0 0 0 0 0 0 0 0 0 0 0 0 0 0 0 0 0 0 0 0 0 0 0 0 0 0 0 0 0 0 0 0 0 0 0 0 0 0 0 0 0 0 0 0 0 0 0 0 0 0 0 0 0 0 0 0 0 0 0 0 0 0 0 0 0 0 0 0 0 0 0 0 0 0 0 0 0 0 0 0 0 0 0 0 0 0 0 0 0 0 0 0 0 0 0 0 0 0 0 0 0 0 0 0 0 0 0 0 0 0 0 0 0 0 0 0 0 0 0 0 0 0 0 0 0 0 0 0 0 0 0 0 0 0 0 0 0 0 0 0 0 0 0 0 0 0 0 0 0 0 0 0 0 0 0 0 0 0 0 0 0 0 0 0 0 0 0 0 0 0 0 0 0 0 0 0 0 0 0 0 0 0 0 0 0 0 0 0 0 0 0 0 0 0 0 0 0 0 0 0 0 0 0 0 0 0 0 0 0 0 0 0 0 0 0 0 0 0 0 0 0 0 0 0 0 0 0 0 0 0\n"
     ]
    },
    {
     "name": "stdout",
     "output_type": "stream",
     "text": [
      "INFO:tensorflow:input_mask: 1 1 1 1 1 1 1 1 1 1 1 1 1 1 1 1 1 1 1 1 1 1 1 1 1 1 1 1 1 1 1 1 1 1 1 1 1 1 1 1 1 1 1 1 1 1 1 1 1 1 0 0 0 0 0 0 0 0 0 0 0 0 0 0 0 0 0 0 0 0 0 0 0 0 0 0 0 0 0 0 0 0 0 0 0 0 0 0 0 0 0 0 0 0 0 0 0 0 0 0 0 0 0 0 0 0 0 0 0 0 0 0 0 0 0 0 0 0 0 0 0 0 0 0 0 0 0 0 0 0 0 0 0 0 0 0 0 0 0 0 0 0 0 0 0 0 0 0 0 0 0 0 0 0 0 0 0 0 0 0 0 0 0 0 0 0 0 0 0 0 0 0 0 0 0 0 0 0 0 0 0 0 0 0 0 0 0 0 0 0 0 0 0 0 0 0 0 0 0 0 0 0 0 0 0 0 0 0 0 0 0 0 0 0 0 0 0 0 0 0 0 0 0 0 0 0 0 0 0 0 0 0 0 0 0 0 0 0 0 0 0 0 0 0 0 0 0 0 0 0 0 0 0 0 0 0 0 0 0 0 0 0 0 0 0 0 0 0 0 0 0 0 0 0 0 0 0 0 0 0 0 0 0 0 0 0 0 0 0 0 0 0 0 0 0 0 0 0 0 0 0 0 0 0 0 0 0 0 0 0 0 0 0 0 0 0 0 0 0 0 0 0 0 0 0 0 0 0 0 0 0 0 0 0 0 0 0 0 0 0 0 0 0 0 0 0 0 0 0 0 0 0 0 0 0 0 0 0 0 0 0 0 0 0 0 0 0 0 0 0 0 0 0 0 0 0 0 0 0 0 0 0 0 0 0 0 0 0 0 0 0 0 0 0 0 0 0 0 0 0\n"
     ]
    },
    {
     "name": "stderr",
     "output_type": "stream",
     "text": [
      "I0607 12:19:59.396041 140294592194432 bert_sct_utils_v2.py:303] input_mask: 1 1 1 1 1 1 1 1 1 1 1 1 1 1 1 1 1 1 1 1 1 1 1 1 1 1 1 1 1 1 1 1 1 1 1 1 1 1 1 1 1 1 1 1 1 1 1 1 1 1 0 0 0 0 0 0 0 0 0 0 0 0 0 0 0 0 0 0 0 0 0 0 0 0 0 0 0 0 0 0 0 0 0 0 0 0 0 0 0 0 0 0 0 0 0 0 0 0 0 0 0 0 0 0 0 0 0 0 0 0 0 0 0 0 0 0 0 0 0 0 0 0 0 0 0 0 0 0 0 0 0 0 0 0 0 0 0 0 0 0 0 0 0 0 0 0 0 0 0 0 0 0 0 0 0 0 0 0 0 0 0 0 0 0 0 0 0 0 0 0 0 0 0 0 0 0 0 0 0 0 0 0 0 0 0 0 0 0 0 0 0 0 0 0 0 0 0 0 0 0 0 0 0 0 0 0 0 0 0 0 0 0 0 0 0 0 0 0 0 0 0 0 0 0 0 0 0 0 0 0 0 0 0 0 0 0 0 0 0 0 0 0 0 0 0 0 0 0 0 0 0 0 0 0 0 0 0 0 0 0 0 0 0 0 0 0 0 0 0 0 0 0 0 0 0 0 0 0 0 0 0 0 0 0 0 0 0 0 0 0 0 0 0 0 0 0 0 0 0 0 0 0 0 0 0 0 0 0 0 0 0 0 0 0 0 0 0 0 0 0 0 0 0 0 0 0 0 0 0 0 0 0 0 0 0 0 0 0 0 0 0 0 0 0 0 0 0 0 0 0 0 0 0 0 0 0 0 0 0 0 0 0 0 0 0 0 0 0 0 0 0 0 0 0 0 0 0 0 0 0 0 0 0 0 0 0 0 0 0 0 0 0 0 0 0 0 0 0 0 0\n"
     ]
    },
    {
     "name": "stdout",
     "output_type": "stream",
     "text": [
      "INFO:tensorflow:segment_ids: 0 0 0 0 0 0 0 0 0 0 0 0 0 0 0 0 0 0 0 0 0 0 0 0 0 0 0 0 0 0 0 0 0 0 0 0 0 1 1 1 1 1 1 1 1 1 1 1 1 1 0 0 0 0 0 0 0 0 0 0 0 0 0 0 0 0 0 0 0 0 0 0 0 0 0 0 0 0 0 0 0 0 0 0 0 0 0 0 0 0 0 0 0 0 0 0 0 0 0 0 0 0 0 0 0 0 0 0 0 0 0 0 0 0 0 0 0 0 0 0 0 0 0 0 0 0 0 0 0 0 0 0 0 0 0 0 0 0 0 0 0 0 0 0 0 0 0 0 0 0 0 0 0 0 0 0 0 0 0 0 0 0 0 0 0 0 0 0 0 0 0 0 0 0 0 0 0 0 0 0 0 0 0 0 0 0 0 0 0 0 0 0 0 0 0 0 0 0 0 0 0 0 0 0 0 0 0 0 0 0 0 0 0 0 0 0 0 0 0 0 0 0 0 0 0 0 0 0 0 0 0 0 0 0 0 0 0 0 0 0 0 0 0 0 0 0 0 0 0 0 0 0 0 0 0 0 0 0 0 0 0 0 0 0 0 0 0 0 0 0 0 0 0 0 0 0 0 0 0 0 0 0 0 0 0 0 0 0 0 0 0 0 0 0 0 0 0 0 0 0 0 0 0 0 0 0 0 0 0 0 0 0 0 0 0 0 0 0 0 0 0 0 0 0 0 0 0 0 0 0 0 0 0 0 0 0 0 0 0 0 0 0 0 0 0 0 0 0 0 0 0 0 0 0 0 0 0 0 0 0 0 0 0 0 0 0 0 0 0 0 0 0 0 0 0 0 0 0 0 0 0 0 0 0 0 0 0 0 0 0 0 0 0 0 0 0 0 0 0 0\n"
     ]
    },
    {
     "name": "stderr",
     "output_type": "stream",
     "text": [
      "I0607 12:19:59.398583 140294592194432 bert_sct_utils_v2.py:304] segment_ids: 0 0 0 0 0 0 0 0 0 0 0 0 0 0 0 0 0 0 0 0 0 0 0 0 0 0 0 0 0 0 0 0 0 0 0 0 0 1 1 1 1 1 1 1 1 1 1 1 1 1 0 0 0 0 0 0 0 0 0 0 0 0 0 0 0 0 0 0 0 0 0 0 0 0 0 0 0 0 0 0 0 0 0 0 0 0 0 0 0 0 0 0 0 0 0 0 0 0 0 0 0 0 0 0 0 0 0 0 0 0 0 0 0 0 0 0 0 0 0 0 0 0 0 0 0 0 0 0 0 0 0 0 0 0 0 0 0 0 0 0 0 0 0 0 0 0 0 0 0 0 0 0 0 0 0 0 0 0 0 0 0 0 0 0 0 0 0 0 0 0 0 0 0 0 0 0 0 0 0 0 0 0 0 0 0 0 0 0 0 0 0 0 0 0 0 0 0 0 0 0 0 0 0 0 0 0 0 0 0 0 0 0 0 0 0 0 0 0 0 0 0 0 0 0 0 0 0 0 0 0 0 0 0 0 0 0 0 0 0 0 0 0 0 0 0 0 0 0 0 0 0 0 0 0 0 0 0 0 0 0 0 0 0 0 0 0 0 0 0 0 0 0 0 0 0 0 0 0 0 0 0 0 0 0 0 0 0 0 0 0 0 0 0 0 0 0 0 0 0 0 0 0 0 0 0 0 0 0 0 0 0 0 0 0 0 0 0 0 0 0 0 0 0 0 0 0 0 0 0 0 0 0 0 0 0 0 0 0 0 0 0 0 0 0 0 0 0 0 0 0 0 0 0 0 0 0 0 0 0 0 0 0 0 0 0 0 0 0 0 0 0 0 0 0 0 0 0 0 0 0 0 0 0 0 0 0 0 0 0 0 0 0 0 0 0 0 0 0 0 0\n"
     ]
    },
    {
     "name": "stdout",
     "output_type": "stream",
     "text": [
      "INFO:tensorflow:label: 1 (id = 1)\n"
     ]
    },
    {
     "name": "stderr",
     "output_type": "stream",
     "text": [
      "I0607 12:19:59.401274 140294592194432 bert_sct_utils_v2.py:305] label: 1 (id = 1)\n"
     ]
    },
    {
     "name": "stdout",
     "output_type": "stream",
     "text": [
      "INFO:tensorflow:sentiment: (20,), [0.     0.     1.     0.     0.     0.     1.     0.     0.     0.\n",
      " 1.     0.     0.2732 0.     0.488  0.512  0.5719 0.     0.684  0.316 ]\n"
     ]
    },
    {
     "name": "stderr",
     "output_type": "stream",
     "text": [
      "I0607 12:19:59.404490 140294592194432 bert_sct_utils_v2.py:306] sentiment: (20,), [0.     0.     1.     0.     0.     0.     1.     0.     0.     0.\n",
      " 1.     0.     0.2732 0.     0.488  0.512  0.5719 0.     0.684  0.316 ]\n"
     ]
    },
    {
     "name": "stdout",
     "output_type": "stream",
     "text": [
      "INFO:tensorflow:cs_dist: (4,), [1. 1. 1. 1.]\n"
     ]
    },
    {
     "name": "stderr",
     "output_type": "stream",
     "text": [
      "I0607 12:19:59.407204 140294592194432 bert_sct_utils_v2.py:307] cs_dist: (4,), [1. 1. 1. 1.]\n"
     ]
    },
    {
     "name": "stdout",
     "output_type": "stream",
     "text": [
      "INFO:tensorflow:*** Example ***\n"
     ]
    },
    {
     "name": "stderr",
     "output_type": "stream",
     "text": [
      "I0607 12:19:59.410922 140294592194432 bert_sct_utils_v2.py:299] *** Example ***\n"
     ]
    },
    {
     "name": "stdout",
     "output_type": "stream",
     "text": [
      "INFO:tensorflow:unique_id: train-ffff01c1-69ec-412c-a9a0-15a57f5e79f1\n"
     ]
    },
    {
     "name": "stderr",
     "output_type": "stream",
     "text": [
      "I0607 12:19:59.413032 140294592194432 bert_sct_utils_v2.py:300] unique_id: train-ffff01c1-69ec-412c-a9a0-15a57f5e79f1\n"
     ]
    },
    {
     "name": "stdout",
     "output_type": "stream",
     "text": [
      "INFO:tensorflow:tokens: [CLS] i collect press photos of chinatown ##s . last week i saw a photo of a store in boston ' s chinatown . i made an offer of $ 10 . it was accepted . [SEP] i took many notes . [SEP]\n"
     ]
    },
    {
     "name": "stderr",
     "output_type": "stream",
     "text": [
      "I0607 12:19:59.415441 140294592194432 bert_sct_utils_v2.py:301] tokens: [CLS] i collect press photos of chinatown ##s . last week i saw a photo of a store in boston ' s chinatown . i made an offer of $ 10 . it was accepted . [SEP] i took many notes . [SEP]\n"
     ]
    },
    {
     "name": "stdout",
     "output_type": "stream",
     "text": [
      "INFO:tensorflow:input_ids: 101 1045 8145 2811 7760 1997 22321 2015 1012 2197 2733 1045 2387 1037 6302 1997 1037 3573 1999 3731 1005 1055 22321 1012 1045 2081 2019 3749 1997 1002 2184 1012 2009 2001 3970 1012 102 1045 2165 2116 3964 1012 102 0 0 0 0 0 0 0 0 0 0 0 0 0 0 0 0 0 0 0 0 0 0 0 0 0 0 0 0 0 0 0 0 0 0 0 0 0 0 0 0 0 0 0 0 0 0 0 0 0 0 0 0 0 0 0 0 0 0 0 0 0 0 0 0 0 0 0 0 0 0 0 0 0 0 0 0 0 0 0 0 0 0 0 0 0 0 0 0 0 0 0 0 0 0 0 0 0 0 0 0 0 0 0 0 0 0 0 0 0 0 0 0 0 0 0 0 0 0 0 0 0 0 0 0 0 0 0 0 0 0 0 0 0 0 0 0 0 0 0 0 0 0 0 0 0 0 0 0 0 0 0 0 0 0 0 0 0 0 0 0 0 0 0 0 0 0 0 0 0 0 0 0 0 0 0 0 0 0 0 0 0 0 0 0 0 0 0 0 0 0 0 0 0 0 0 0 0 0 0 0 0 0 0 0 0 0 0 0 0 0 0 0 0 0 0 0 0 0 0 0 0 0 0 0 0 0 0 0 0 0 0 0 0 0 0 0 0 0 0 0 0 0 0 0 0 0 0 0 0 0 0 0 0 0 0 0 0 0 0 0 0 0 0 0 0 0 0 0 0 0 0 0 0 0 0 0 0 0 0 0 0 0 0 0 0 0 0 0 0 0 0 0 0 0 0 0 0 0 0 0 0 0 0 0 0 0 0 0 0 0 0 0 0 0 0 0 0 0 0 0 0 0 0 0 0 0 0 0 0 0 0 0 0 0 0 0 0 0 0 0 0 0 0 0 0 0 0 0 0 0 0 0 0 0 0 0 0\n"
     ]
    },
    {
     "name": "stderr",
     "output_type": "stream",
     "text": [
      "I0607 12:19:59.418373 140294592194432 bert_sct_utils_v2.py:302] input_ids: 101 1045 8145 2811 7760 1997 22321 2015 1012 2197 2733 1045 2387 1037 6302 1997 1037 3573 1999 3731 1005 1055 22321 1012 1045 2081 2019 3749 1997 1002 2184 1012 2009 2001 3970 1012 102 1045 2165 2116 3964 1012 102 0 0 0 0 0 0 0 0 0 0 0 0 0 0 0 0 0 0 0 0 0 0 0 0 0 0 0 0 0 0 0 0 0 0 0 0 0 0 0 0 0 0 0 0 0 0 0 0 0 0 0 0 0 0 0 0 0 0 0 0 0 0 0 0 0 0 0 0 0 0 0 0 0 0 0 0 0 0 0 0 0 0 0 0 0 0 0 0 0 0 0 0 0 0 0 0 0 0 0 0 0 0 0 0 0 0 0 0 0 0 0 0 0 0 0 0 0 0 0 0 0 0 0 0 0 0 0 0 0 0 0 0 0 0 0 0 0 0 0 0 0 0 0 0 0 0 0 0 0 0 0 0 0 0 0 0 0 0 0 0 0 0 0 0 0 0 0 0 0 0 0 0 0 0 0 0 0 0 0 0 0 0 0 0 0 0 0 0 0 0 0 0 0 0 0 0 0 0 0 0 0 0 0 0 0 0 0 0 0 0 0 0 0 0 0 0 0 0 0 0 0 0 0 0 0 0 0 0 0 0 0 0 0 0 0 0 0 0 0 0 0 0 0 0 0 0 0 0 0 0 0 0 0 0 0 0 0 0 0 0 0 0 0 0 0 0 0 0 0 0 0 0 0 0 0 0 0 0 0 0 0 0 0 0 0 0 0 0 0 0 0 0 0 0 0 0 0 0 0 0 0 0 0 0 0 0 0 0 0 0 0 0 0 0 0 0 0 0 0 0 0 0 0 0 0 0 0 0 0 0 0 0 0 0 0 0 0 0 0 0 0 0 0 0 0 0 0 0 0 0 0 0 0 0 0 0 0\n"
     ]
    },
    {
     "name": "stdout",
     "output_type": "stream",
     "text": [
      "INFO:tensorflow:input_mask: 1 1 1 1 1 1 1 1 1 1 1 1 1 1 1 1 1 1 1 1 1 1 1 1 1 1 1 1 1 1 1 1 1 1 1 1 1 1 1 1 1 1 1 0 0 0 0 0 0 0 0 0 0 0 0 0 0 0 0 0 0 0 0 0 0 0 0 0 0 0 0 0 0 0 0 0 0 0 0 0 0 0 0 0 0 0 0 0 0 0 0 0 0 0 0 0 0 0 0 0 0 0 0 0 0 0 0 0 0 0 0 0 0 0 0 0 0 0 0 0 0 0 0 0 0 0 0 0 0 0 0 0 0 0 0 0 0 0 0 0 0 0 0 0 0 0 0 0 0 0 0 0 0 0 0 0 0 0 0 0 0 0 0 0 0 0 0 0 0 0 0 0 0 0 0 0 0 0 0 0 0 0 0 0 0 0 0 0 0 0 0 0 0 0 0 0 0 0 0 0 0 0 0 0 0 0 0 0 0 0 0 0 0 0 0 0 0 0 0 0 0 0 0 0 0 0 0 0 0 0 0 0 0 0 0 0 0 0 0 0 0 0 0 0 0 0 0 0 0 0 0 0 0 0 0 0 0 0 0 0 0 0 0 0 0 0 0 0 0 0 0 0 0 0 0 0 0 0 0 0 0 0 0 0 0 0 0 0 0 0 0 0 0 0 0 0 0 0 0 0 0 0 0 0 0 0 0 0 0 0 0 0 0 0 0 0 0 0 0 0 0 0 0 0 0 0 0 0 0 0 0 0 0 0 0 0 0 0 0 0 0 0 0 0 0 0 0 0 0 0 0 0 0 0 0 0 0 0 0 0 0 0 0 0 0 0 0 0 0 0 0 0 0 0 0 0 0 0 0 0 0 0 0 0 0 0 0 0 0 0 0 0 0 0 0 0 0 0 0 0\n"
     ]
    },
    {
     "name": "stderr",
     "output_type": "stream",
     "text": [
      "I0607 12:19:59.421210 140294592194432 bert_sct_utils_v2.py:303] input_mask: 1 1 1 1 1 1 1 1 1 1 1 1 1 1 1 1 1 1 1 1 1 1 1 1 1 1 1 1 1 1 1 1 1 1 1 1 1 1 1 1 1 1 1 0 0 0 0 0 0 0 0 0 0 0 0 0 0 0 0 0 0 0 0 0 0 0 0 0 0 0 0 0 0 0 0 0 0 0 0 0 0 0 0 0 0 0 0 0 0 0 0 0 0 0 0 0 0 0 0 0 0 0 0 0 0 0 0 0 0 0 0 0 0 0 0 0 0 0 0 0 0 0 0 0 0 0 0 0 0 0 0 0 0 0 0 0 0 0 0 0 0 0 0 0 0 0 0 0 0 0 0 0 0 0 0 0 0 0 0 0 0 0 0 0 0 0 0 0 0 0 0 0 0 0 0 0 0 0 0 0 0 0 0 0 0 0 0 0 0 0 0 0 0 0 0 0 0 0 0 0 0 0 0 0 0 0 0 0 0 0 0 0 0 0 0 0 0 0 0 0 0 0 0 0 0 0 0 0 0 0 0 0 0 0 0 0 0 0 0 0 0 0 0 0 0 0 0 0 0 0 0 0 0 0 0 0 0 0 0 0 0 0 0 0 0 0 0 0 0 0 0 0 0 0 0 0 0 0 0 0 0 0 0 0 0 0 0 0 0 0 0 0 0 0 0 0 0 0 0 0 0 0 0 0 0 0 0 0 0 0 0 0 0 0 0 0 0 0 0 0 0 0 0 0 0 0 0 0 0 0 0 0 0 0 0 0 0 0 0 0 0 0 0 0 0 0 0 0 0 0 0 0 0 0 0 0 0 0 0 0 0 0 0 0 0 0 0 0 0 0 0 0 0 0 0 0 0 0 0 0 0 0 0 0 0 0 0 0 0 0 0 0 0 0 0 0 0 0 0 0\n"
     ]
    },
    {
     "name": "stdout",
     "output_type": "stream",
     "text": [
      "INFO:tensorflow:segment_ids: 0 0 0 0 0 0 0 0 0 0 0 0 0 0 0 0 0 0 0 0 0 0 0 0 0 0 0 0 0 0 0 0 0 0 0 0 0 1 1 1 1 1 1 0 0 0 0 0 0 0 0 0 0 0 0 0 0 0 0 0 0 0 0 0 0 0 0 0 0 0 0 0 0 0 0 0 0 0 0 0 0 0 0 0 0 0 0 0 0 0 0 0 0 0 0 0 0 0 0 0 0 0 0 0 0 0 0 0 0 0 0 0 0 0 0 0 0 0 0 0 0 0 0 0 0 0 0 0 0 0 0 0 0 0 0 0 0 0 0 0 0 0 0 0 0 0 0 0 0 0 0 0 0 0 0 0 0 0 0 0 0 0 0 0 0 0 0 0 0 0 0 0 0 0 0 0 0 0 0 0 0 0 0 0 0 0 0 0 0 0 0 0 0 0 0 0 0 0 0 0 0 0 0 0 0 0 0 0 0 0 0 0 0 0 0 0 0 0 0 0 0 0 0 0 0 0 0 0 0 0 0 0 0 0 0 0 0 0 0 0 0 0 0 0 0 0 0 0 0 0 0 0 0 0 0 0 0 0 0 0 0 0 0 0 0 0 0 0 0 0 0 0 0 0 0 0 0 0 0 0 0 0 0 0 0 0 0 0 0 0 0 0 0 0 0 0 0 0 0 0 0 0 0 0 0 0 0 0 0 0 0 0 0 0 0 0 0 0 0 0 0 0 0 0 0 0 0 0 0 0 0 0 0 0 0 0 0 0 0 0 0 0 0 0 0 0 0 0 0 0 0 0 0 0 0 0 0 0 0 0 0 0 0 0 0 0 0 0 0 0 0 0 0 0 0 0 0 0 0 0 0 0 0 0 0 0 0 0 0 0 0 0 0 0 0 0 0 0 0 0\n"
     ]
    },
    {
     "name": "stderr",
     "output_type": "stream",
     "text": [
      "I0607 12:19:59.423800 140294592194432 bert_sct_utils_v2.py:304] segment_ids: 0 0 0 0 0 0 0 0 0 0 0 0 0 0 0 0 0 0 0 0 0 0 0 0 0 0 0 0 0 0 0 0 0 0 0 0 0 1 1 1 1 1 1 0 0 0 0 0 0 0 0 0 0 0 0 0 0 0 0 0 0 0 0 0 0 0 0 0 0 0 0 0 0 0 0 0 0 0 0 0 0 0 0 0 0 0 0 0 0 0 0 0 0 0 0 0 0 0 0 0 0 0 0 0 0 0 0 0 0 0 0 0 0 0 0 0 0 0 0 0 0 0 0 0 0 0 0 0 0 0 0 0 0 0 0 0 0 0 0 0 0 0 0 0 0 0 0 0 0 0 0 0 0 0 0 0 0 0 0 0 0 0 0 0 0 0 0 0 0 0 0 0 0 0 0 0 0 0 0 0 0 0 0 0 0 0 0 0 0 0 0 0 0 0 0 0 0 0 0 0 0 0 0 0 0 0 0 0 0 0 0 0 0 0 0 0 0 0 0 0 0 0 0 0 0 0 0 0 0 0 0 0 0 0 0 0 0 0 0 0 0 0 0 0 0 0 0 0 0 0 0 0 0 0 0 0 0 0 0 0 0 0 0 0 0 0 0 0 0 0 0 0 0 0 0 0 0 0 0 0 0 0 0 0 0 0 0 0 0 0 0 0 0 0 0 0 0 0 0 0 0 0 0 0 0 0 0 0 0 0 0 0 0 0 0 0 0 0 0 0 0 0 0 0 0 0 0 0 0 0 0 0 0 0 0 0 0 0 0 0 0 0 0 0 0 0 0 0 0 0 0 0 0 0 0 0 0 0 0 0 0 0 0 0 0 0 0 0 0 0 0 0 0 0 0 0 0 0 0 0 0 0 0 0 0 0 0 0 0 0 0 0 0 0 0 0 0 0 0 0\n"
     ]
    },
    {
     "name": "stdout",
     "output_type": "stream",
     "text": [
      "INFO:tensorflow:label: 0 (id = 0)\n"
     ]
    },
    {
     "name": "stderr",
     "output_type": "stream",
     "text": [
      "I0607 12:19:59.426220 140294592194432 bert_sct_utils_v2.py:305] label: 0 (id = 0)\n"
     ]
    },
    {
     "name": "stdout",
     "output_type": "stream",
     "text": [
      "INFO:tensorflow:sentiment: (20,), [0.     0.     1.     0.     0.     0.     1.     0.     0.     0.\n",
      " 1.     0.     0.2732 0.     0.488  0.512  0.     0.     1.     0.    ]\n"
     ]
    },
    {
     "name": "stderr",
     "output_type": "stream",
     "text": [
      "I0607 12:19:59.429077 140294592194432 bert_sct_utils_v2.py:306] sentiment: (20,), [0.     0.     1.     0.     0.     0.     1.     0.     0.     0.\n",
      " 1.     0.     0.2732 0.     0.488  0.512  0.     0.     1.     0.    ]\n"
     ]
    },
    {
     "name": "stdout",
     "output_type": "stream",
     "text": [
      "INFO:tensorflow:cs_dist: (4,), [-1. -1. -1. -1.]\n"
     ]
    },
    {
     "name": "stderr",
     "output_type": "stream",
     "text": [
      "I0607 12:19:59.431741 140294592194432 bert_sct_utils_v2.py:307] cs_dist: (4,), [-1. -1. -1. -1.]\n"
     ]
    },
    {
     "name": "stdout",
     "output_type": "stream",
     "text": [
      "INFO:tensorflow:Writing example 1000 of 41871\n"
     ]
    },
    {
     "name": "stderr",
     "output_type": "stream",
     "text": [
      "I0607 12:20:02.111021 140294592194432 bert_sct_utils_v2.py:322] Writing example 1000 of 41871\n"
     ]
    },
    {
     "name": "stdout",
     "output_type": "stream",
     "text": [
      "INFO:tensorflow:Writing example 2000 of 41871\n"
     ]
    },
    {
     "name": "stderr",
     "output_type": "stream",
     "text": [
      "I0607 12:20:04.727011 140294592194432 bert_sct_utils_v2.py:322] Writing example 2000 of 41871\n"
     ]
    },
    {
     "name": "stdout",
     "output_type": "stream",
     "text": [
      "INFO:tensorflow:Writing example 3000 of 41871\n"
     ]
    },
    {
     "name": "stderr",
     "output_type": "stream",
     "text": [
      "I0607 12:20:07.347126 140294592194432 bert_sct_utils_v2.py:322] Writing example 3000 of 41871\n"
     ]
    },
    {
     "name": "stdout",
     "output_type": "stream",
     "text": [
      "INFO:tensorflow:Writing example 4000 of 41871\n"
     ]
    },
    {
     "name": "stderr",
     "output_type": "stream",
     "text": [
      "I0607 12:20:09.914222 140294592194432 bert_sct_utils_v2.py:322] Writing example 4000 of 41871\n"
     ]
    },
    {
     "name": "stdout",
     "output_type": "stream",
     "text": [
      "INFO:tensorflow:Writing example 5000 of 41871\n"
     ]
    },
    {
     "name": "stderr",
     "output_type": "stream",
     "text": [
      "I0607 12:20:12.523664 140294592194432 bert_sct_utils_v2.py:322] Writing example 5000 of 41871\n"
     ]
    },
    {
     "name": "stdout",
     "output_type": "stream",
     "text": [
      "INFO:tensorflow:Writing example 6000 of 41871\n"
     ]
    },
    {
     "name": "stderr",
     "output_type": "stream",
     "text": [
      "I0607 12:20:15.143502 140294592194432 bert_sct_utils_v2.py:322] Writing example 6000 of 41871\n"
     ]
    },
    {
     "name": "stdout",
     "output_type": "stream",
     "text": [
      "INFO:tensorflow:Writing example 7000 of 41871\n"
     ]
    },
    {
     "name": "stderr",
     "output_type": "stream",
     "text": [
      "I0607 12:20:17.738584 140294592194432 bert_sct_utils_v2.py:322] Writing example 7000 of 41871\n"
     ]
    },
    {
     "name": "stdout",
     "output_type": "stream",
     "text": [
      "INFO:tensorflow:Writing example 8000 of 41871\n"
     ]
    },
    {
     "name": "stderr",
     "output_type": "stream",
     "text": [
      "I0607 12:20:20.351833 140294592194432 bert_sct_utils_v2.py:322] Writing example 8000 of 41871\n"
     ]
    },
    {
     "name": "stdout",
     "output_type": "stream",
     "text": [
      "INFO:tensorflow:Writing example 9000 of 41871\n"
     ]
    },
    {
     "name": "stderr",
     "output_type": "stream",
     "text": [
      "I0607 12:20:23.552313 140294592194432 bert_sct_utils_v2.py:322] Writing example 9000 of 41871\n"
     ]
    },
    {
     "name": "stdout",
     "output_type": "stream",
     "text": [
      "INFO:tensorflow:Writing example 10000 of 41871\n"
     ]
    },
    {
     "name": "stderr",
     "output_type": "stream",
     "text": [
      "I0607 12:20:26.164664 140294592194432 bert_sct_utils_v2.py:322] Writing example 10000 of 41871\n"
     ]
    },
    {
     "name": "stdout",
     "output_type": "stream",
     "text": [
      "INFO:tensorflow:Writing example 11000 of 41871\n"
     ]
    },
    {
     "name": "stderr",
     "output_type": "stream",
     "text": [
      "I0607 12:20:28.771349 140294592194432 bert_sct_utils_v2.py:322] Writing example 11000 of 41871\n"
     ]
    },
    {
     "name": "stdout",
     "output_type": "stream",
     "text": [
      "INFO:tensorflow:Writing example 12000 of 41871\n"
     ]
    },
    {
     "name": "stderr",
     "output_type": "stream",
     "text": [
      "I0607 12:20:31.358414 140294592194432 bert_sct_utils_v2.py:322] Writing example 12000 of 41871\n"
     ]
    },
    {
     "name": "stdout",
     "output_type": "stream",
     "text": [
      "INFO:tensorflow:Writing example 13000 of 41871\n"
     ]
    },
    {
     "name": "stderr",
     "output_type": "stream",
     "text": [
      "I0607 12:20:33.947708 140294592194432 bert_sct_utils_v2.py:322] Writing example 13000 of 41871\n"
     ]
    },
    {
     "name": "stdout",
     "output_type": "stream",
     "text": [
      "INFO:tensorflow:Writing example 14000 of 41871\n"
     ]
    },
    {
     "name": "stderr",
     "output_type": "stream",
     "text": [
      "I0607 12:20:36.544427 140294592194432 bert_sct_utils_v2.py:322] Writing example 14000 of 41871\n"
     ]
    },
    {
     "name": "stdout",
     "output_type": "stream",
     "text": [
      "INFO:tensorflow:Writing example 15000 of 41871\n"
     ]
    },
    {
     "name": "stderr",
     "output_type": "stream",
     "text": [
      "I0607 12:20:39.136411 140294592194432 bert_sct_utils_v2.py:322] Writing example 15000 of 41871\n"
     ]
    },
    {
     "name": "stdout",
     "output_type": "stream",
     "text": [
      "INFO:tensorflow:Writing example 16000 of 41871\n"
     ]
    },
    {
     "name": "stderr",
     "output_type": "stream",
     "text": [
      "I0607 12:20:41.713400 140294592194432 bert_sct_utils_v2.py:322] Writing example 16000 of 41871\n"
     ]
    },
    {
     "name": "stdout",
     "output_type": "stream",
     "text": [
      "INFO:tensorflow:Writing example 17000 of 41871\n"
     ]
    },
    {
     "name": "stderr",
     "output_type": "stream",
     "text": [
      "I0607 12:20:44.315166 140294592194432 bert_sct_utils_v2.py:322] Writing example 17000 of 41871\n"
     ]
    },
    {
     "name": "stdout",
     "output_type": "stream",
     "text": [
      "INFO:tensorflow:Writing example 18000 of 41871\n"
     ]
    },
    {
     "name": "stderr",
     "output_type": "stream",
     "text": [
      "I0607 12:20:46.932469 140294592194432 bert_sct_utils_v2.py:322] Writing example 18000 of 41871\n"
     ]
    },
    {
     "name": "stdout",
     "output_type": "stream",
     "text": [
      "INFO:tensorflow:Writing example 19000 of 41871\n"
     ]
    },
    {
     "name": "stderr",
     "output_type": "stream",
     "text": [
      "I0607 12:20:49.520861 140294592194432 bert_sct_utils_v2.py:322] Writing example 19000 of 41871\n"
     ]
    },
    {
     "name": "stdout",
     "output_type": "stream",
     "text": [
      "INFO:tensorflow:Writing example 20000 of 41871\n"
     ]
    },
    {
     "name": "stderr",
     "output_type": "stream",
     "text": [
      "I0607 12:20:52.089133 140294592194432 bert_sct_utils_v2.py:322] Writing example 20000 of 41871\n"
     ]
    },
    {
     "name": "stdout",
     "output_type": "stream",
     "text": [
      "INFO:tensorflow:Writing example 21000 of 41871\n"
     ]
    },
    {
     "name": "stderr",
     "output_type": "stream",
     "text": [
      "I0607 12:20:54.712265 140294592194432 bert_sct_utils_v2.py:322] Writing example 21000 of 41871\n"
     ]
    },
    {
     "name": "stdout",
     "output_type": "stream",
     "text": [
      "INFO:tensorflow:Writing example 22000 of 41871\n"
     ]
    },
    {
     "name": "stderr",
     "output_type": "stream",
     "text": [
      "I0607 12:20:57.284447 140294592194432 bert_sct_utils_v2.py:322] Writing example 22000 of 41871\n"
     ]
    },
    {
     "name": "stdout",
     "output_type": "stream",
     "text": [
      "INFO:tensorflow:Writing example 23000 of 41871\n"
     ]
    },
    {
     "name": "stderr",
     "output_type": "stream",
     "text": [
      "I0607 12:20:59.862981 140294592194432 bert_sct_utils_v2.py:322] Writing example 23000 of 41871\n"
     ]
    },
    {
     "name": "stdout",
     "output_type": "stream",
     "text": [
      "INFO:tensorflow:Writing example 24000 of 41871\n"
     ]
    },
    {
     "name": "stderr",
     "output_type": "stream",
     "text": [
      "I0607 12:21:02.422765 140294592194432 bert_sct_utils_v2.py:322] Writing example 24000 of 41871\n"
     ]
    },
    {
     "name": "stdout",
     "output_type": "stream",
     "text": [
      "INFO:tensorflow:Writing example 25000 of 41871\n"
     ]
    },
    {
     "name": "stderr",
     "output_type": "stream",
     "text": [
      "I0607 12:21:05.031506 140294592194432 bert_sct_utils_v2.py:322] Writing example 25000 of 41871\n"
     ]
    },
    {
     "name": "stdout",
     "output_type": "stream",
     "text": [
      "INFO:tensorflow:Writing example 26000 of 41871\n"
     ]
    },
    {
     "name": "stderr",
     "output_type": "stream",
     "text": [
      "I0607 12:21:07.616505 140294592194432 bert_sct_utils_v2.py:322] Writing example 26000 of 41871\n"
     ]
    },
    {
     "name": "stdout",
     "output_type": "stream",
     "text": [
      "INFO:tensorflow:Writing example 27000 of 41871\n"
     ]
    },
    {
     "name": "stderr",
     "output_type": "stream",
     "text": [
      "I0607 12:21:10.180821 140294592194432 bert_sct_utils_v2.py:322] Writing example 27000 of 41871\n"
     ]
    },
    {
     "name": "stdout",
     "output_type": "stream",
     "text": [
      "INFO:tensorflow:Writing example 28000 of 41871\n"
     ]
    },
    {
     "name": "stderr",
     "output_type": "stream",
     "text": [
      "I0607 12:21:12.777339 140294592194432 bert_sct_utils_v2.py:322] Writing example 28000 of 41871\n"
     ]
    },
    {
     "name": "stdout",
     "output_type": "stream",
     "text": [
      "INFO:tensorflow:Writing example 29000 of 41871\n"
     ]
    },
    {
     "name": "stderr",
     "output_type": "stream",
     "text": [
      "I0607 12:21:15.377792 140294592194432 bert_sct_utils_v2.py:322] Writing example 29000 of 41871\n"
     ]
    },
    {
     "name": "stdout",
     "output_type": "stream",
     "text": [
      "INFO:tensorflow:Writing example 30000 of 41871\n"
     ]
    },
    {
     "name": "stderr",
     "output_type": "stream",
     "text": [
      "I0607 12:21:18.005026 140294592194432 bert_sct_utils_v2.py:322] Writing example 30000 of 41871\n"
     ]
    },
    {
     "name": "stdout",
     "output_type": "stream",
     "text": [
      "INFO:tensorflow:Writing example 31000 of 41871\n"
     ]
    },
    {
     "name": "stderr",
     "output_type": "stream",
     "text": [
      "I0607 12:21:20.620162 140294592194432 bert_sct_utils_v2.py:322] Writing example 31000 of 41871\n"
     ]
    },
    {
     "name": "stdout",
     "output_type": "stream",
     "text": [
      "INFO:tensorflow:Writing example 32000 of 41871\n"
     ]
    },
    {
     "name": "stderr",
     "output_type": "stream",
     "text": [
      "I0607 12:21:23.230086 140294592194432 bert_sct_utils_v2.py:322] Writing example 32000 of 41871\n"
     ]
    },
    {
     "name": "stdout",
     "output_type": "stream",
     "text": [
      "INFO:tensorflow:Writing example 33000 of 41871\n"
     ]
    },
    {
     "name": "stderr",
     "output_type": "stream",
     "text": [
      "I0607 12:21:25.891149 140294592194432 bert_sct_utils_v2.py:322] Writing example 33000 of 41871\n"
     ]
    },
    {
     "name": "stdout",
     "output_type": "stream",
     "text": [
      "INFO:tensorflow:Writing example 34000 of 41871\n"
     ]
    },
    {
     "name": "stderr",
     "output_type": "stream",
     "text": [
      "I0607 12:21:28.473073 140294592194432 bert_sct_utils_v2.py:322] Writing example 34000 of 41871\n"
     ]
    },
    {
     "name": "stdout",
     "output_type": "stream",
     "text": [
      "INFO:tensorflow:Writing example 35000 of 41871\n"
     ]
    },
    {
     "name": "stderr",
     "output_type": "stream",
     "text": [
      "I0607 12:21:31.051221 140294592194432 bert_sct_utils_v2.py:322] Writing example 35000 of 41871\n"
     ]
    },
    {
     "name": "stdout",
     "output_type": "stream",
     "text": [
      "INFO:tensorflow:Writing example 36000 of 41871\n"
     ]
    },
    {
     "name": "stderr",
     "output_type": "stream",
     "text": [
      "I0607 12:21:33.641712 140294592194432 bert_sct_utils_v2.py:322] Writing example 36000 of 41871\n"
     ]
    },
    {
     "name": "stdout",
     "output_type": "stream",
     "text": [
      "INFO:tensorflow:Writing example 37000 of 41871\n"
     ]
    },
    {
     "name": "stderr",
     "output_type": "stream",
     "text": [
      "I0607 12:21:36.249988 140294592194432 bert_sct_utils_v2.py:322] Writing example 37000 of 41871\n"
     ]
    },
    {
     "name": "stdout",
     "output_type": "stream",
     "text": [
      "INFO:tensorflow:Writing example 38000 of 41871\n"
     ]
    },
    {
     "name": "stderr",
     "output_type": "stream",
     "text": [
      "I0607 12:21:38.836430 140294592194432 bert_sct_utils_v2.py:322] Writing example 38000 of 41871\n"
     ]
    },
    {
     "name": "stdout",
     "output_type": "stream",
     "text": [
      "INFO:tensorflow:Writing example 39000 of 41871\n"
     ]
    },
    {
     "name": "stderr",
     "output_type": "stream",
     "text": [
      "I0607 12:21:41.391646 140294592194432 bert_sct_utils_v2.py:322] Writing example 39000 of 41871\n"
     ]
    },
    {
     "name": "stdout",
     "output_type": "stream",
     "text": [
      "INFO:tensorflow:Writing example 40000 of 41871\n"
     ]
    },
    {
     "name": "stderr",
     "output_type": "stream",
     "text": [
      "I0607 12:21:43.990785 140294592194432 bert_sct_utils_v2.py:322] Writing example 40000 of 41871\n"
     ]
    },
    {
     "name": "stdout",
     "output_type": "stream",
     "text": [
      "INFO:tensorflow:Writing example 41000 of 41871\n"
     ]
    },
    {
     "name": "stderr",
     "output_type": "stream",
     "text": [
      "I0607 12:21:46.574230 140294592194432 bert_sct_utils_v2.py:322] Writing example 41000 of 41871\n"
     ]
    },
    {
     "name": "stdout",
     "output_type": "stream",
     "text": [
      "INFO:tensorflow:***** Running training *****\n"
     ]
    },
    {
     "name": "stderr",
     "output_type": "stream",
     "text": [
      "I0607 12:21:48.807145 140294592194432 <ipython-input-11-7b355e037c6c>:63] ***** Running training *****\n"
     ]
    },
    {
     "name": "stdout",
     "output_type": "stream",
     "text": [
      "INFO:tensorflow:  Num examples = 41871\n"
     ]
    },
    {
     "name": "stderr",
     "output_type": "stream",
     "text": [
      "I0607 12:21:48.824295 140294592194432 <ipython-input-11-7b355e037c6c>:64]   Num examples = 41871\n"
     ]
    },
    {
     "name": "stdout",
     "output_type": "stream",
     "text": [
      "INFO:tensorflow:  Batch size = 8\n"
     ]
    },
    {
     "name": "stderr",
     "output_type": "stream",
     "text": [
      "I0607 12:21:48.826727 140294592194432 <ipython-input-11-7b355e037c6c>:65]   Batch size = 8\n"
     ]
    },
    {
     "name": "stdout",
     "output_type": "stream",
     "text": [
      "INFO:tensorflow:  Num steps = 5233\n"
     ]
    },
    {
     "name": "stderr",
     "output_type": "stream",
     "text": [
      "I0607 12:21:48.830949 140294592194432 <ipython-input-11-7b355e037c6c>:66]   Num steps = 5233\n"
     ]
    },
    {
     "name": "stdout",
     "output_type": "stream",
     "text": [
      "INFO:tensorflow:Calling model_fn.\n"
     ]
    },
    {
     "name": "stderr",
     "output_type": "stream",
     "text": [
      "I0607 12:21:48.897262 140294592194432 estimator.py:1111] Calling model_fn.\n"
     ]
    },
    {
     "name": "stdout",
     "output_type": "stream",
     "text": [
      "INFO:tensorflow:Saver not created because there are no variables in the graph to restore\n"
     ]
    },
    {
     "name": "stderr",
     "output_type": "stream",
     "text": [
      "I0607 12:21:51.644554 140294592194432 saver.py:1483] Saver not created because there are no variables in the graph to restore\n"
     ]
    },
    {
     "name": "stdout",
     "output_type": "stream",
     "text": [
      "INFO:tensorflow:Saver not created because there are no variables in the graph to restore\n"
     ]
    },
    {
     "name": "stderr",
     "output_type": "stream",
     "text": [
      "I0607 12:21:52.456197 140294592194432 saver.py:1483] Saver not created because there are no variables in the graph to restore\n"
     ]
    },
    {
     "name": "stdout",
     "output_type": "stream",
     "text": [
      "INFO:tensorflow:logits_pos, shape = (?, 1)\n"
     ]
    },
    {
     "name": "stderr",
     "output_type": "stream",
     "text": [
      "I0607 12:21:52.632210 140294592194432 bert_sct_utils_v2.py:531] logits_pos, shape = (?, 1)\n"
     ]
    },
    {
     "name": "stdout",
     "output_type": "stream",
     "text": [
      "INFO:tensorflow:logits_neg, shape = (?, 1)\n"
     ]
    },
    {
     "name": "stderr",
     "output_type": "stream",
     "text": [
      "I0607 12:21:52.634131 140294592194432 bert_sct_utils_v2.py:532] logits_neg, shape = (?, 1)\n"
     ]
    },
    {
     "name": "stdout",
     "output_type": "stream",
     "text": [
      "INFO:tensorflow:logits, shape = (?, 2)\n"
     ]
    },
    {
     "name": "stderr",
     "output_type": "stream",
     "text": [
      "I0607 12:21:52.635460 140294592194432 bert_sct_utils_v2.py:533] logits, shape = (?, 2)\n"
     ]
    },
    {
     "name": "stdout",
     "output_type": "stream",
     "text": [
      "INFO:tensorflow:probabilities, shape = (?, 2)\n"
     ]
    },
    {
     "name": "stderr",
     "output_type": "stream",
     "text": [
      "I0607 12:21:52.638751 140294592194432 bert_sct_utils_v2.py:535] probabilities, shape = (?, 2)\n"
     ]
    },
    {
     "name": "stdout",
     "output_type": "stream",
     "text": [
      "INFO:tensorflow:log_probs, shape = (?, 2)\n"
     ]
    },
    {
     "name": "stderr",
     "output_type": "stream",
     "text": [
      "I0607 12:21:52.641900 140294592194432 bert_sct_utils_v2.py:536] log_probs, shape = (?, 2)\n"
     ]
    },
    {
     "name": "stdout",
     "output_type": "stream",
     "text": [
      "INFO:tensorflow:one_hot_labels, shape = (?, 2)\n"
     ]
    },
    {
     "name": "stderr",
     "output_type": "stream",
     "text": [
      "I0607 12:21:52.644795 140294592194432 bert_sct_utils_v2.py:537] one_hot_labels, shape = (?, 2)\n"
     ]
    },
    {
     "name": "stdout",
     "output_type": "stream",
     "text": [
      "INFO:tensorflow:predicted_labels, shape = (?,)\n"
     ]
    },
    {
     "name": "stderr",
     "output_type": "stream",
     "text": [
      "I0607 12:21:52.647809 140294592194432 bert_sct_utils_v2.py:538] predicted_labels, shape = (?,)\n"
     ]
    },
    {
     "name": "stdout",
     "output_type": "stream",
     "text": [
      "INFO:tensorflow:per_example_loss, shape = (?,)\n"
     ]
    },
    {
     "name": "stderr",
     "output_type": "stream",
     "text": [
      "I0607 12:21:52.651212 140294592194432 bert_sct_utils_v2.py:539] per_example_loss, shape = (?,)\n"
     ]
    },
    {
     "name": "stdout",
     "output_type": "stream",
     "text": [
      "INFO:tensorflow:loss, shape = ()\n"
     ]
    },
    {
     "name": "stderr",
     "output_type": "stream",
     "text": [
      "I0607 12:21:52.654649 140294592194432 bert_sct_utils_v2.py:540] loss, shape = ()\n"
     ]
    },
    {
     "name": "stdout",
     "output_type": "stream",
     "text": [
      "INFO:tensorflow:**** Trainable Variables ****\n"
     ]
    },
    {
     "name": "stderr",
     "output_type": "stream",
     "text": [
      "I0607 12:21:52.699514 140294592194432 bert_sct_utils_v2.py:591] **** Trainable Variables ****\n"
     ]
    },
    {
     "name": "stdout",
     "output_type": "stream",
     "text": [
      "INFO:tensorflow:  name = module/bert/embeddings/word_embeddings:0, shape = (30522, 768)\n"
     ]
    },
    {
     "name": "stderr",
     "output_type": "stream",
     "text": [
      "I0607 12:21:52.701715 140294592194432 bert_sct_utils_v2.py:593]   name = module/bert/embeddings/word_embeddings:0, shape = (30522, 768)\n"
     ]
    },
    {
     "name": "stdout",
     "output_type": "stream",
     "text": [
      "INFO:tensorflow:  name = module/bert/embeddings/token_type_embeddings:0, shape = (2, 768)\n"
     ]
    },
    {
     "name": "stderr",
     "output_type": "stream",
     "text": [
      "I0607 12:21:52.703582 140294592194432 bert_sct_utils_v2.py:593]   name = module/bert/embeddings/token_type_embeddings:0, shape = (2, 768)\n"
     ]
    },
    {
     "name": "stdout",
     "output_type": "stream",
     "text": [
      "INFO:tensorflow:  name = module/bert/embeddings/position_embeddings:0, shape = (512, 768)\n"
     ]
    },
    {
     "name": "stderr",
     "output_type": "stream",
     "text": [
      "I0607 12:21:52.706099 140294592194432 bert_sct_utils_v2.py:593]   name = module/bert/embeddings/position_embeddings:0, shape = (512, 768)\n"
     ]
    },
    {
     "name": "stdout",
     "output_type": "stream",
     "text": [
      "INFO:tensorflow:  name = module/bert/embeddings/LayerNorm/beta:0, shape = (768,)\n"
     ]
    },
    {
     "name": "stderr",
     "output_type": "stream",
     "text": [
      "I0607 12:21:52.711040 140294592194432 bert_sct_utils_v2.py:593]   name = module/bert/embeddings/LayerNorm/beta:0, shape = (768,)\n"
     ]
    },
    {
     "name": "stdout",
     "output_type": "stream",
     "text": [
      "INFO:tensorflow:  name = module/bert/embeddings/LayerNorm/gamma:0, shape = (768,)\n"
     ]
    },
    {
     "name": "stderr",
     "output_type": "stream",
     "text": [
      "I0607 12:21:52.713283 140294592194432 bert_sct_utils_v2.py:593]   name = module/bert/embeddings/LayerNorm/gamma:0, shape = (768,)\n"
     ]
    },
    {
     "name": "stdout",
     "output_type": "stream",
     "text": [
      "INFO:tensorflow:  name = module/bert/encoder/layer_0/attention/self/query/kernel:0, shape = (768, 768)\n"
     ]
    },
    {
     "name": "stderr",
     "output_type": "stream",
     "text": [
      "I0607 12:21:52.716954 140294592194432 bert_sct_utils_v2.py:593]   name = module/bert/encoder/layer_0/attention/self/query/kernel:0, shape = (768, 768)\n"
     ]
    },
    {
     "name": "stdout",
     "output_type": "stream",
     "text": [
      "INFO:tensorflow:  name = module/bert/encoder/layer_0/attention/self/query/bias:0, shape = (768,)\n"
     ]
    },
    {
     "name": "stderr",
     "output_type": "stream",
     "text": [
      "I0607 12:21:52.718786 140294592194432 bert_sct_utils_v2.py:593]   name = module/bert/encoder/layer_0/attention/self/query/bias:0, shape = (768,)\n"
     ]
    },
    {
     "name": "stdout",
     "output_type": "stream",
     "text": [
      "INFO:tensorflow:  name = module/bert/encoder/layer_0/attention/self/key/kernel:0, shape = (768, 768)\n"
     ]
    },
    {
     "name": "stderr",
     "output_type": "stream",
     "text": [
      "I0607 12:21:52.720596 140294592194432 bert_sct_utils_v2.py:593]   name = module/bert/encoder/layer_0/attention/self/key/kernel:0, shape = (768, 768)\n"
     ]
    },
    {
     "name": "stdout",
     "output_type": "stream",
     "text": [
      "INFO:tensorflow:  name = module/bert/encoder/layer_0/attention/self/key/bias:0, shape = (768,)\n"
     ]
    },
    {
     "name": "stderr",
     "output_type": "stream",
     "text": [
      "I0607 12:21:52.722531 140294592194432 bert_sct_utils_v2.py:593]   name = module/bert/encoder/layer_0/attention/self/key/bias:0, shape = (768,)\n"
     ]
    },
    {
     "name": "stdout",
     "output_type": "stream",
     "text": [
      "INFO:tensorflow:  name = module/bert/encoder/layer_0/attention/self/value/kernel:0, shape = (768, 768)\n"
     ]
    },
    {
     "name": "stderr",
     "output_type": "stream",
     "text": [
      "I0607 12:21:52.724404 140294592194432 bert_sct_utils_v2.py:593]   name = module/bert/encoder/layer_0/attention/self/value/kernel:0, shape = (768, 768)\n"
     ]
    },
    {
     "name": "stdout",
     "output_type": "stream",
     "text": [
      "INFO:tensorflow:  name = module/bert/encoder/layer_0/attention/self/value/bias:0, shape = (768,)\n"
     ]
    },
    {
     "name": "stderr",
     "output_type": "stream",
     "text": [
      "I0607 12:21:52.726258 140294592194432 bert_sct_utils_v2.py:593]   name = module/bert/encoder/layer_0/attention/self/value/bias:0, shape = (768,)\n"
     ]
    },
    {
     "name": "stdout",
     "output_type": "stream",
     "text": [
      "INFO:tensorflow:  name = module/bert/encoder/layer_0/attention/output/dense/kernel:0, shape = (768, 768)\n"
     ]
    },
    {
     "name": "stderr",
     "output_type": "stream",
     "text": [
      "I0607 12:21:52.728122 140294592194432 bert_sct_utils_v2.py:593]   name = module/bert/encoder/layer_0/attention/output/dense/kernel:0, shape = (768, 768)\n"
     ]
    },
    {
     "name": "stdout",
     "output_type": "stream",
     "text": [
      "INFO:tensorflow:  name = module/bert/encoder/layer_0/attention/output/dense/bias:0, shape = (768,)\n"
     ]
    },
    {
     "name": "stderr",
     "output_type": "stream",
     "text": [
      "I0607 12:21:52.730067 140294592194432 bert_sct_utils_v2.py:593]   name = module/bert/encoder/layer_0/attention/output/dense/bias:0, shape = (768,)\n"
     ]
    },
    {
     "name": "stdout",
     "output_type": "stream",
     "text": [
      "INFO:tensorflow:  name = module/bert/encoder/layer_0/attention/output/LayerNorm/beta:0, shape = (768,)\n"
     ]
    },
    {
     "name": "stderr",
     "output_type": "stream",
     "text": [
      "I0607 12:21:52.731916 140294592194432 bert_sct_utils_v2.py:593]   name = module/bert/encoder/layer_0/attention/output/LayerNorm/beta:0, shape = (768,)\n"
     ]
    },
    {
     "name": "stdout",
     "output_type": "stream",
     "text": [
      "INFO:tensorflow:  name = module/bert/encoder/layer_0/attention/output/LayerNorm/gamma:0, shape = (768,)\n"
     ]
    },
    {
     "name": "stderr",
     "output_type": "stream",
     "text": [
      "I0607 12:21:52.733813 140294592194432 bert_sct_utils_v2.py:593]   name = module/bert/encoder/layer_0/attention/output/LayerNorm/gamma:0, shape = (768,)\n"
     ]
    },
    {
     "name": "stdout",
     "output_type": "stream",
     "text": [
      "INFO:tensorflow:  name = module/bert/encoder/layer_0/intermediate/dense/kernel:0, shape = (768, 3072)\n"
     ]
    },
    {
     "name": "stderr",
     "output_type": "stream",
     "text": [
      "I0607 12:21:52.735684 140294592194432 bert_sct_utils_v2.py:593]   name = module/bert/encoder/layer_0/intermediate/dense/kernel:0, shape = (768, 3072)\n"
     ]
    },
    {
     "name": "stdout",
     "output_type": "stream",
     "text": [
      "INFO:tensorflow:  name = module/bert/encoder/layer_0/intermediate/dense/bias:0, shape = (3072,)\n"
     ]
    },
    {
     "name": "stderr",
     "output_type": "stream",
     "text": [
      "I0607 12:21:52.737530 140294592194432 bert_sct_utils_v2.py:593]   name = module/bert/encoder/layer_0/intermediate/dense/bias:0, shape = (3072,)\n"
     ]
    },
    {
     "name": "stdout",
     "output_type": "stream",
     "text": [
      "INFO:tensorflow:  name = module/bert/encoder/layer_0/output/dense/kernel:0, shape = (3072, 768)\n"
     ]
    },
    {
     "name": "stderr",
     "output_type": "stream",
     "text": [
      "I0607 12:21:52.739584 140294592194432 bert_sct_utils_v2.py:593]   name = module/bert/encoder/layer_0/output/dense/kernel:0, shape = (3072, 768)\n"
     ]
    },
    {
     "name": "stdout",
     "output_type": "stream",
     "text": [
      "INFO:tensorflow:  name = module/bert/encoder/layer_0/output/dense/bias:0, shape = (768,)\n"
     ]
    },
    {
     "name": "stderr",
     "output_type": "stream",
     "text": [
      "I0607 12:21:52.741458 140294592194432 bert_sct_utils_v2.py:593]   name = module/bert/encoder/layer_0/output/dense/bias:0, shape = (768,)\n"
     ]
    },
    {
     "name": "stdout",
     "output_type": "stream",
     "text": [
      "INFO:tensorflow:  name = module/bert/encoder/layer_0/output/LayerNorm/beta:0, shape = (768,)\n"
     ]
    },
    {
     "name": "stderr",
     "output_type": "stream",
     "text": [
      "I0607 12:21:52.743316 140294592194432 bert_sct_utils_v2.py:593]   name = module/bert/encoder/layer_0/output/LayerNorm/beta:0, shape = (768,)\n"
     ]
    },
    {
     "name": "stdout",
     "output_type": "stream",
     "text": [
      "INFO:tensorflow:  name = module/bert/encoder/layer_0/output/LayerNorm/gamma:0, shape = (768,)\n"
     ]
    },
    {
     "name": "stderr",
     "output_type": "stream",
     "text": [
      "I0607 12:21:52.745204 140294592194432 bert_sct_utils_v2.py:593]   name = module/bert/encoder/layer_0/output/LayerNorm/gamma:0, shape = (768,)\n"
     ]
    },
    {
     "name": "stdout",
     "output_type": "stream",
     "text": [
      "INFO:tensorflow:  name = module/bert/encoder/layer_1/attention/self/query/kernel:0, shape = (768, 768)\n"
     ]
    },
    {
     "name": "stderr",
     "output_type": "stream",
     "text": [
      "I0607 12:21:52.747112 140294592194432 bert_sct_utils_v2.py:593]   name = module/bert/encoder/layer_1/attention/self/query/kernel:0, shape = (768, 768)\n"
     ]
    },
    {
     "name": "stdout",
     "output_type": "stream",
     "text": [
      "INFO:tensorflow:  name = module/bert/encoder/layer_1/attention/self/query/bias:0, shape = (768,)\n"
     ]
    },
    {
     "name": "stderr",
     "output_type": "stream",
     "text": [
      "I0607 12:21:52.748987 140294592194432 bert_sct_utils_v2.py:593]   name = module/bert/encoder/layer_1/attention/self/query/bias:0, shape = (768,)\n"
     ]
    },
    {
     "name": "stdout",
     "output_type": "stream",
     "text": [
      "INFO:tensorflow:  name = module/bert/encoder/layer_1/attention/self/key/kernel:0, shape = (768, 768)\n"
     ]
    },
    {
     "name": "stderr",
     "output_type": "stream",
     "text": [
      "I0607 12:21:52.750823 140294592194432 bert_sct_utils_v2.py:593]   name = module/bert/encoder/layer_1/attention/self/key/kernel:0, shape = (768, 768)\n"
     ]
    },
    {
     "name": "stdout",
     "output_type": "stream",
     "text": [
      "INFO:tensorflow:  name = module/bert/encoder/layer_1/attention/self/key/bias:0, shape = (768,)\n"
     ]
    },
    {
     "name": "stderr",
     "output_type": "stream",
     "text": [
      "I0607 12:21:52.752647 140294592194432 bert_sct_utils_v2.py:593]   name = module/bert/encoder/layer_1/attention/self/key/bias:0, shape = (768,)\n"
     ]
    },
    {
     "name": "stdout",
     "output_type": "stream",
     "text": [
      "INFO:tensorflow:  name = module/bert/encoder/layer_1/attention/self/value/kernel:0, shape = (768, 768)\n"
     ]
    },
    {
     "name": "stderr",
     "output_type": "stream",
     "text": [
      "I0607 12:21:52.754518 140294592194432 bert_sct_utils_v2.py:593]   name = module/bert/encoder/layer_1/attention/self/value/kernel:0, shape = (768, 768)\n"
     ]
    },
    {
     "name": "stdout",
     "output_type": "stream",
     "text": [
      "INFO:tensorflow:  name = module/bert/encoder/layer_1/attention/self/value/bias:0, shape = (768,)\n"
     ]
    },
    {
     "name": "stderr",
     "output_type": "stream",
     "text": [
      "I0607 12:21:52.756433 140294592194432 bert_sct_utils_v2.py:593]   name = module/bert/encoder/layer_1/attention/self/value/bias:0, shape = (768,)\n"
     ]
    },
    {
     "name": "stdout",
     "output_type": "stream",
     "text": [
      "INFO:tensorflow:  name = module/bert/encoder/layer_1/attention/output/dense/kernel:0, shape = (768, 768)\n"
     ]
    },
    {
     "name": "stderr",
     "output_type": "stream",
     "text": [
      "I0607 12:21:52.758331 140294592194432 bert_sct_utils_v2.py:593]   name = module/bert/encoder/layer_1/attention/output/dense/kernel:0, shape = (768, 768)\n"
     ]
    },
    {
     "name": "stdout",
     "output_type": "stream",
     "text": [
      "INFO:tensorflow:  name = module/bert/encoder/layer_1/attention/output/dense/bias:0, shape = (768,)\n"
     ]
    },
    {
     "name": "stderr",
     "output_type": "stream",
     "text": [
      "I0607 12:21:52.760236 140294592194432 bert_sct_utils_v2.py:593]   name = module/bert/encoder/layer_1/attention/output/dense/bias:0, shape = (768,)\n"
     ]
    },
    {
     "name": "stdout",
     "output_type": "stream",
     "text": [
      "INFO:tensorflow:  name = module/bert/encoder/layer_1/attention/output/LayerNorm/beta:0, shape = (768,)\n"
     ]
    },
    {
     "name": "stderr",
     "output_type": "stream",
     "text": [
      "I0607 12:21:52.762090 140294592194432 bert_sct_utils_v2.py:593]   name = module/bert/encoder/layer_1/attention/output/LayerNorm/beta:0, shape = (768,)\n"
     ]
    },
    {
     "name": "stdout",
     "output_type": "stream",
     "text": [
      "INFO:tensorflow:  name = module/bert/encoder/layer_1/attention/output/LayerNorm/gamma:0, shape = (768,)\n"
     ]
    },
    {
     "name": "stderr",
     "output_type": "stream",
     "text": [
      "I0607 12:21:52.763914 140294592194432 bert_sct_utils_v2.py:593]   name = module/bert/encoder/layer_1/attention/output/LayerNorm/gamma:0, shape = (768,)\n"
     ]
    },
    {
     "name": "stdout",
     "output_type": "stream",
     "text": [
      "INFO:tensorflow:  name = module/bert/encoder/layer_1/intermediate/dense/kernel:0, shape = (768, 3072)\n"
     ]
    },
    {
     "name": "stderr",
     "output_type": "stream",
     "text": [
      "I0607 12:21:52.765902 140294592194432 bert_sct_utils_v2.py:593]   name = module/bert/encoder/layer_1/intermediate/dense/kernel:0, shape = (768, 3072)\n"
     ]
    },
    {
     "name": "stdout",
     "output_type": "stream",
     "text": [
      "INFO:tensorflow:  name = module/bert/encoder/layer_1/intermediate/dense/bias:0, shape = (3072,)\n"
     ]
    },
    {
     "name": "stderr",
     "output_type": "stream",
     "text": [
      "I0607 12:21:52.767775 140294592194432 bert_sct_utils_v2.py:593]   name = module/bert/encoder/layer_1/intermediate/dense/bias:0, shape = (3072,)\n"
     ]
    },
    {
     "name": "stdout",
     "output_type": "stream",
     "text": [
      "INFO:tensorflow:  name = module/bert/encoder/layer_1/output/dense/kernel:0, shape = (3072, 768)\n"
     ]
    },
    {
     "name": "stderr",
     "output_type": "stream",
     "text": [
      "I0607 12:21:52.769571 140294592194432 bert_sct_utils_v2.py:593]   name = module/bert/encoder/layer_1/output/dense/kernel:0, shape = (3072, 768)\n"
     ]
    },
    {
     "name": "stdout",
     "output_type": "stream",
     "text": [
      "INFO:tensorflow:  name = module/bert/encoder/layer_1/output/dense/bias:0, shape = (768,)\n"
     ]
    },
    {
     "name": "stderr",
     "output_type": "stream",
     "text": [
      "I0607 12:21:52.771444 140294592194432 bert_sct_utils_v2.py:593]   name = module/bert/encoder/layer_1/output/dense/bias:0, shape = (768,)\n"
     ]
    },
    {
     "name": "stdout",
     "output_type": "stream",
     "text": [
      "INFO:tensorflow:  name = module/bert/encoder/layer_1/output/LayerNorm/beta:0, shape = (768,)\n"
     ]
    },
    {
     "name": "stderr",
     "output_type": "stream",
     "text": [
      "I0607 12:21:52.773329 140294592194432 bert_sct_utils_v2.py:593]   name = module/bert/encoder/layer_1/output/LayerNorm/beta:0, shape = (768,)\n"
     ]
    },
    {
     "name": "stdout",
     "output_type": "stream",
     "text": [
      "INFO:tensorflow:  name = module/bert/encoder/layer_1/output/LayerNorm/gamma:0, shape = (768,)\n"
     ]
    },
    {
     "name": "stderr",
     "output_type": "stream",
     "text": [
      "I0607 12:21:52.775296 140294592194432 bert_sct_utils_v2.py:593]   name = module/bert/encoder/layer_1/output/LayerNorm/gamma:0, shape = (768,)\n"
     ]
    },
    {
     "name": "stdout",
     "output_type": "stream",
     "text": [
      "INFO:tensorflow:  name = module/bert/encoder/layer_2/attention/self/query/kernel:0, shape = (768, 768)\n"
     ]
    },
    {
     "name": "stderr",
     "output_type": "stream",
     "text": [
      "I0607 12:21:52.777147 140294592194432 bert_sct_utils_v2.py:593]   name = module/bert/encoder/layer_2/attention/self/query/kernel:0, shape = (768, 768)\n"
     ]
    },
    {
     "name": "stdout",
     "output_type": "stream",
     "text": [
      "INFO:tensorflow:  name = module/bert/encoder/layer_2/attention/self/query/bias:0, shape = (768,)\n"
     ]
    },
    {
     "name": "stderr",
     "output_type": "stream",
     "text": [
      "I0607 12:21:52.779173 140294592194432 bert_sct_utils_v2.py:593]   name = module/bert/encoder/layer_2/attention/self/query/bias:0, shape = (768,)\n"
     ]
    },
    {
     "name": "stdout",
     "output_type": "stream",
     "text": [
      "INFO:tensorflow:  name = module/bert/encoder/layer_2/attention/self/key/kernel:0, shape = (768, 768)\n"
     ]
    },
    {
     "name": "stderr",
     "output_type": "stream",
     "text": [
      "I0607 12:21:52.781026 140294592194432 bert_sct_utils_v2.py:593]   name = module/bert/encoder/layer_2/attention/self/key/kernel:0, shape = (768, 768)\n"
     ]
    },
    {
     "name": "stdout",
     "output_type": "stream",
     "text": [
      "INFO:tensorflow:  name = module/bert/encoder/layer_2/attention/self/key/bias:0, shape = (768,)\n"
     ]
    },
    {
     "name": "stderr",
     "output_type": "stream",
     "text": [
      "I0607 12:21:52.783101 140294592194432 bert_sct_utils_v2.py:593]   name = module/bert/encoder/layer_2/attention/self/key/bias:0, shape = (768,)\n"
     ]
    },
    {
     "name": "stdout",
     "output_type": "stream",
     "text": [
      "INFO:tensorflow:  name = module/bert/encoder/layer_2/attention/self/value/kernel:0, shape = (768, 768)\n"
     ]
    },
    {
     "name": "stderr",
     "output_type": "stream",
     "text": [
      "I0607 12:21:52.785128 140294592194432 bert_sct_utils_v2.py:593]   name = module/bert/encoder/layer_2/attention/self/value/kernel:0, shape = (768, 768)\n"
     ]
    },
    {
     "name": "stdout",
     "output_type": "stream",
     "text": [
      "INFO:tensorflow:  name = module/bert/encoder/layer_2/attention/self/value/bias:0, shape = (768,)\n"
     ]
    },
    {
     "name": "stderr",
     "output_type": "stream",
     "text": [
      "I0607 12:21:52.787001 140294592194432 bert_sct_utils_v2.py:593]   name = module/bert/encoder/layer_2/attention/self/value/bias:0, shape = (768,)\n"
     ]
    },
    {
     "name": "stdout",
     "output_type": "stream",
     "text": [
      "INFO:tensorflow:  name = module/bert/encoder/layer_2/attention/output/dense/kernel:0, shape = (768, 768)\n"
     ]
    },
    {
     "name": "stderr",
     "output_type": "stream",
     "text": [
      "I0607 12:21:52.788820 140294592194432 bert_sct_utils_v2.py:593]   name = module/bert/encoder/layer_2/attention/output/dense/kernel:0, shape = (768, 768)\n"
     ]
    },
    {
     "name": "stdout",
     "output_type": "stream",
     "text": [
      "INFO:tensorflow:  name = module/bert/encoder/layer_2/attention/output/dense/bias:0, shape = (768,)\n"
     ]
    },
    {
     "name": "stderr",
     "output_type": "stream",
     "text": [
      "I0607 12:21:52.790689 140294592194432 bert_sct_utils_v2.py:593]   name = module/bert/encoder/layer_2/attention/output/dense/bias:0, shape = (768,)\n"
     ]
    },
    {
     "name": "stdout",
     "output_type": "stream",
     "text": [
      "INFO:tensorflow:  name = module/bert/encoder/layer_2/attention/output/LayerNorm/beta:0, shape = (768,)\n"
     ]
    },
    {
     "name": "stderr",
     "output_type": "stream",
     "text": [
      "I0607 12:21:52.792580 140294592194432 bert_sct_utils_v2.py:593]   name = module/bert/encoder/layer_2/attention/output/LayerNorm/beta:0, shape = (768,)\n"
     ]
    },
    {
     "name": "stdout",
     "output_type": "stream",
     "text": [
      "INFO:tensorflow:  name = module/bert/encoder/layer_2/attention/output/LayerNorm/gamma:0, shape = (768,)\n"
     ]
    },
    {
     "name": "stderr",
     "output_type": "stream",
     "text": [
      "I0607 12:21:52.794473 140294592194432 bert_sct_utils_v2.py:593]   name = module/bert/encoder/layer_2/attention/output/LayerNorm/gamma:0, shape = (768,)\n"
     ]
    },
    {
     "name": "stdout",
     "output_type": "stream",
     "text": [
      "INFO:tensorflow:  name = module/bert/encoder/layer_2/intermediate/dense/kernel:0, shape = (768, 3072)\n"
     ]
    },
    {
     "name": "stderr",
     "output_type": "stream",
     "text": [
      "I0607 12:21:52.796339 140294592194432 bert_sct_utils_v2.py:593]   name = module/bert/encoder/layer_2/intermediate/dense/kernel:0, shape = (768, 3072)\n"
     ]
    },
    {
     "name": "stdout",
     "output_type": "stream",
     "text": [
      "INFO:tensorflow:  name = module/bert/encoder/layer_2/intermediate/dense/bias:0, shape = (3072,)\n"
     ]
    },
    {
     "name": "stderr",
     "output_type": "stream",
     "text": [
      "I0607 12:21:52.798249 140294592194432 bert_sct_utils_v2.py:593]   name = module/bert/encoder/layer_2/intermediate/dense/bias:0, shape = (3072,)\n"
     ]
    },
    {
     "name": "stdout",
     "output_type": "stream",
     "text": [
      "INFO:tensorflow:  name = module/bert/encoder/layer_2/output/dense/kernel:0, shape = (3072, 768)\n"
     ]
    },
    {
     "name": "stderr",
     "output_type": "stream",
     "text": [
      "I0607 12:21:52.800087 140294592194432 bert_sct_utils_v2.py:593]   name = module/bert/encoder/layer_2/output/dense/kernel:0, shape = (3072, 768)\n"
     ]
    },
    {
     "name": "stdout",
     "output_type": "stream",
     "text": [
      "INFO:tensorflow:  name = module/bert/encoder/layer_2/output/dense/bias:0, shape = (768,)\n"
     ]
    },
    {
     "name": "stderr",
     "output_type": "stream",
     "text": [
      "I0607 12:21:52.802001 140294592194432 bert_sct_utils_v2.py:593]   name = module/bert/encoder/layer_2/output/dense/bias:0, shape = (768,)\n"
     ]
    },
    {
     "name": "stdout",
     "output_type": "stream",
     "text": [
      "INFO:tensorflow:  name = module/bert/encoder/layer_2/output/LayerNorm/beta:0, shape = (768,)\n"
     ]
    },
    {
     "name": "stderr",
     "output_type": "stream",
     "text": [
      "I0607 12:21:52.803835 140294592194432 bert_sct_utils_v2.py:593]   name = module/bert/encoder/layer_2/output/LayerNorm/beta:0, shape = (768,)\n"
     ]
    },
    {
     "name": "stdout",
     "output_type": "stream",
     "text": [
      "INFO:tensorflow:  name = module/bert/encoder/layer_2/output/LayerNorm/gamma:0, shape = (768,)\n"
     ]
    },
    {
     "name": "stderr",
     "output_type": "stream",
     "text": [
      "I0607 12:21:52.805677 140294592194432 bert_sct_utils_v2.py:593]   name = module/bert/encoder/layer_2/output/LayerNorm/gamma:0, shape = (768,)\n"
     ]
    },
    {
     "name": "stdout",
     "output_type": "stream",
     "text": [
      "INFO:tensorflow:  name = module/bert/encoder/layer_3/attention/self/query/kernel:0, shape = (768, 768)\n"
     ]
    },
    {
     "name": "stderr",
     "output_type": "stream",
     "text": [
      "I0607 12:21:52.807491 140294592194432 bert_sct_utils_v2.py:593]   name = module/bert/encoder/layer_3/attention/self/query/kernel:0, shape = (768, 768)\n"
     ]
    },
    {
     "name": "stdout",
     "output_type": "stream",
     "text": [
      "INFO:tensorflow:  name = module/bert/encoder/layer_3/attention/self/query/bias:0, shape = (768,)\n"
     ]
    },
    {
     "name": "stderr",
     "output_type": "stream",
     "text": [
      "I0607 12:21:52.809363 140294592194432 bert_sct_utils_v2.py:593]   name = module/bert/encoder/layer_3/attention/self/query/bias:0, shape = (768,)\n"
     ]
    },
    {
     "name": "stdout",
     "output_type": "stream",
     "text": [
      "INFO:tensorflow:  name = module/bert/encoder/layer_3/attention/self/key/kernel:0, shape = (768, 768)\n"
     ]
    },
    {
     "name": "stderr",
     "output_type": "stream",
     "text": [
      "I0607 12:21:52.811231 140294592194432 bert_sct_utils_v2.py:593]   name = module/bert/encoder/layer_3/attention/self/key/kernel:0, shape = (768, 768)\n"
     ]
    },
    {
     "name": "stdout",
     "output_type": "stream",
     "text": [
      "INFO:tensorflow:  name = module/bert/encoder/layer_3/attention/self/key/bias:0, shape = (768,)\n"
     ]
    },
    {
     "name": "stderr",
     "output_type": "stream",
     "text": [
      "I0607 12:21:52.813098 140294592194432 bert_sct_utils_v2.py:593]   name = module/bert/encoder/layer_3/attention/self/key/bias:0, shape = (768,)\n"
     ]
    },
    {
     "name": "stdout",
     "output_type": "stream",
     "text": [
      "INFO:tensorflow:  name = module/bert/encoder/layer_3/attention/self/value/kernel:0, shape = (768, 768)\n"
     ]
    },
    {
     "name": "stderr",
     "output_type": "stream",
     "text": [
      "I0607 12:21:52.814984 140294592194432 bert_sct_utils_v2.py:593]   name = module/bert/encoder/layer_3/attention/self/value/kernel:0, shape = (768, 768)\n"
     ]
    },
    {
     "name": "stdout",
     "output_type": "stream",
     "text": [
      "INFO:tensorflow:  name = module/bert/encoder/layer_3/attention/self/value/bias:0, shape = (768,)\n"
     ]
    },
    {
     "name": "stderr",
     "output_type": "stream",
     "text": [
      "I0607 12:21:52.816859 140294592194432 bert_sct_utils_v2.py:593]   name = module/bert/encoder/layer_3/attention/self/value/bias:0, shape = (768,)\n"
     ]
    },
    {
     "name": "stdout",
     "output_type": "stream",
     "text": [
      "INFO:tensorflow:  name = module/bert/encoder/layer_3/attention/output/dense/kernel:0, shape = (768, 768)\n"
     ]
    },
    {
     "name": "stderr",
     "output_type": "stream",
     "text": [
      "I0607 12:21:52.818712 140294592194432 bert_sct_utils_v2.py:593]   name = module/bert/encoder/layer_3/attention/output/dense/kernel:0, shape = (768, 768)\n"
     ]
    },
    {
     "name": "stdout",
     "output_type": "stream",
     "text": [
      "INFO:tensorflow:  name = module/bert/encoder/layer_3/attention/output/dense/bias:0, shape = (768,)\n"
     ]
    },
    {
     "name": "stderr",
     "output_type": "stream",
     "text": [
      "I0607 12:21:52.820648 140294592194432 bert_sct_utils_v2.py:593]   name = module/bert/encoder/layer_3/attention/output/dense/bias:0, shape = (768,)\n"
     ]
    },
    {
     "name": "stdout",
     "output_type": "stream",
     "text": [
      "INFO:tensorflow:  name = module/bert/encoder/layer_3/attention/output/LayerNorm/beta:0, shape = (768,)\n"
     ]
    },
    {
     "name": "stderr",
     "output_type": "stream",
     "text": [
      "I0607 12:21:52.822344 140294592194432 bert_sct_utils_v2.py:593]   name = module/bert/encoder/layer_3/attention/output/LayerNorm/beta:0, shape = (768,)\n"
     ]
    },
    {
     "name": "stdout",
     "output_type": "stream",
     "text": [
      "INFO:tensorflow:  name = module/bert/encoder/layer_3/attention/output/LayerNorm/gamma:0, shape = (768,)\n"
     ]
    },
    {
     "name": "stderr",
     "output_type": "stream",
     "text": [
      "I0607 12:21:52.824272 140294592194432 bert_sct_utils_v2.py:593]   name = module/bert/encoder/layer_3/attention/output/LayerNorm/gamma:0, shape = (768,)\n"
     ]
    },
    {
     "name": "stdout",
     "output_type": "stream",
     "text": [
      "INFO:tensorflow:  name = module/bert/encoder/layer_3/intermediate/dense/kernel:0, shape = (768, 3072)\n"
     ]
    },
    {
     "name": "stderr",
     "output_type": "stream",
     "text": [
      "I0607 12:21:52.826162 140294592194432 bert_sct_utils_v2.py:593]   name = module/bert/encoder/layer_3/intermediate/dense/kernel:0, shape = (768, 3072)\n"
     ]
    },
    {
     "name": "stdout",
     "output_type": "stream",
     "text": [
      "INFO:tensorflow:  name = module/bert/encoder/layer_3/intermediate/dense/bias:0, shape = (3072,)\n"
     ]
    },
    {
     "name": "stderr",
     "output_type": "stream",
     "text": [
      "I0607 12:21:52.828054 140294592194432 bert_sct_utils_v2.py:593]   name = module/bert/encoder/layer_3/intermediate/dense/bias:0, shape = (3072,)\n"
     ]
    },
    {
     "name": "stdout",
     "output_type": "stream",
     "text": [
      "INFO:tensorflow:  name = module/bert/encoder/layer_3/output/dense/kernel:0, shape = (3072, 768)\n"
     ]
    },
    {
     "name": "stderr",
     "output_type": "stream",
     "text": [
      "I0607 12:21:52.829864 140294592194432 bert_sct_utils_v2.py:593]   name = module/bert/encoder/layer_3/output/dense/kernel:0, shape = (3072, 768)\n"
     ]
    },
    {
     "name": "stdout",
     "output_type": "stream",
     "text": [
      "INFO:tensorflow:  name = module/bert/encoder/layer_3/output/dense/bias:0, shape = (768,)\n"
     ]
    },
    {
     "name": "stderr",
     "output_type": "stream",
     "text": [
      "I0607 12:21:52.831736 140294592194432 bert_sct_utils_v2.py:593]   name = module/bert/encoder/layer_3/output/dense/bias:0, shape = (768,)\n"
     ]
    },
    {
     "name": "stdout",
     "output_type": "stream",
     "text": [
      "INFO:tensorflow:  name = module/bert/encoder/layer_3/output/LayerNorm/beta:0, shape = (768,)\n"
     ]
    },
    {
     "name": "stderr",
     "output_type": "stream",
     "text": [
      "I0607 12:21:52.833693 140294592194432 bert_sct_utils_v2.py:593]   name = module/bert/encoder/layer_3/output/LayerNorm/beta:0, shape = (768,)\n"
     ]
    },
    {
     "name": "stdout",
     "output_type": "stream",
     "text": [
      "INFO:tensorflow:  name = module/bert/encoder/layer_3/output/LayerNorm/gamma:0, shape = (768,)\n"
     ]
    },
    {
     "name": "stderr",
     "output_type": "stream",
     "text": [
      "I0607 12:21:52.836195 140294592194432 bert_sct_utils_v2.py:593]   name = module/bert/encoder/layer_3/output/LayerNorm/gamma:0, shape = (768,)\n"
     ]
    },
    {
     "name": "stdout",
     "output_type": "stream",
     "text": [
      "INFO:tensorflow:  name = module/bert/encoder/layer_4/attention/self/query/kernel:0, shape = (768, 768)\n"
     ]
    },
    {
     "name": "stderr",
     "output_type": "stream",
     "text": [
      "I0607 12:21:52.837800 140294592194432 bert_sct_utils_v2.py:593]   name = module/bert/encoder/layer_4/attention/self/query/kernel:0, shape = (768, 768)\n"
     ]
    },
    {
     "name": "stdout",
     "output_type": "stream",
     "text": [
      "INFO:tensorflow:  name = module/bert/encoder/layer_4/attention/self/query/bias:0, shape = (768,)\n"
     ]
    },
    {
     "name": "stderr",
     "output_type": "stream",
     "text": [
      "I0607 12:21:52.839660 140294592194432 bert_sct_utils_v2.py:593]   name = module/bert/encoder/layer_4/attention/self/query/bias:0, shape = (768,)\n"
     ]
    },
    {
     "name": "stdout",
     "output_type": "stream",
     "text": [
      "INFO:tensorflow:  name = module/bert/encoder/layer_4/attention/self/key/kernel:0, shape = (768, 768)\n"
     ]
    },
    {
     "name": "stderr",
     "output_type": "stream",
     "text": [
      "I0607 12:21:52.841954 140294592194432 bert_sct_utils_v2.py:593]   name = module/bert/encoder/layer_4/attention/self/key/kernel:0, shape = (768, 768)\n"
     ]
    },
    {
     "name": "stdout",
     "output_type": "stream",
     "text": [
      "INFO:tensorflow:  name = module/bert/encoder/layer_4/attention/self/key/bias:0, shape = (768,)\n"
     ]
    },
    {
     "name": "stderr",
     "output_type": "stream",
     "text": [
      "I0607 12:21:52.843751 140294592194432 bert_sct_utils_v2.py:593]   name = module/bert/encoder/layer_4/attention/self/key/bias:0, shape = (768,)\n"
     ]
    },
    {
     "name": "stdout",
     "output_type": "stream",
     "text": [
      "INFO:tensorflow:  name = module/bert/encoder/layer_4/attention/self/value/kernel:0, shape = (768, 768)\n"
     ]
    },
    {
     "name": "stderr",
     "output_type": "stream",
     "text": [
      "I0607 12:21:52.846051 140294592194432 bert_sct_utils_v2.py:593]   name = module/bert/encoder/layer_4/attention/self/value/kernel:0, shape = (768, 768)\n"
     ]
    },
    {
     "name": "stdout",
     "output_type": "stream",
     "text": [
      "INFO:tensorflow:  name = module/bert/encoder/layer_4/attention/self/value/bias:0, shape = (768,)\n"
     ]
    },
    {
     "name": "stderr",
     "output_type": "stream",
     "text": [
      "I0607 12:21:52.848140 140294592194432 bert_sct_utils_v2.py:593]   name = module/bert/encoder/layer_4/attention/self/value/bias:0, shape = (768,)\n"
     ]
    },
    {
     "name": "stdout",
     "output_type": "stream",
     "text": [
      "INFO:tensorflow:  name = module/bert/encoder/layer_4/attention/output/dense/kernel:0, shape = (768, 768)\n"
     ]
    },
    {
     "name": "stderr",
     "output_type": "stream",
     "text": [
      "I0607 12:21:52.849773 140294592194432 bert_sct_utils_v2.py:593]   name = module/bert/encoder/layer_4/attention/output/dense/kernel:0, shape = (768, 768)\n"
     ]
    },
    {
     "name": "stdout",
     "output_type": "stream",
     "text": [
      "INFO:tensorflow:  name = module/bert/encoder/layer_4/attention/output/dense/bias:0, shape = (768,)\n"
     ]
    },
    {
     "name": "stderr",
     "output_type": "stream",
     "text": [
      "I0607 12:21:52.852107 140294592194432 bert_sct_utils_v2.py:593]   name = module/bert/encoder/layer_4/attention/output/dense/bias:0, shape = (768,)\n"
     ]
    },
    {
     "name": "stdout",
     "output_type": "stream",
     "text": [
      "INFO:tensorflow:  name = module/bert/encoder/layer_4/attention/output/LayerNorm/beta:0, shape = (768,)\n"
     ]
    },
    {
     "name": "stderr",
     "output_type": "stream",
     "text": [
      "I0607 12:21:52.854269 140294592194432 bert_sct_utils_v2.py:593]   name = module/bert/encoder/layer_4/attention/output/LayerNorm/beta:0, shape = (768,)\n"
     ]
    },
    {
     "name": "stdout",
     "output_type": "stream",
     "text": [
      "INFO:tensorflow:  name = module/bert/encoder/layer_4/attention/output/LayerNorm/gamma:0, shape = (768,)\n"
     ]
    },
    {
     "name": "stderr",
     "output_type": "stream",
     "text": [
      "I0607 12:21:52.856077 140294592194432 bert_sct_utils_v2.py:593]   name = module/bert/encoder/layer_4/attention/output/LayerNorm/gamma:0, shape = (768,)\n"
     ]
    },
    {
     "name": "stdout",
     "output_type": "stream",
     "text": [
      "INFO:tensorflow:  name = module/bert/encoder/layer_4/intermediate/dense/kernel:0, shape = (768, 3072)\n"
     ]
    },
    {
     "name": "stderr",
     "output_type": "stream",
     "text": [
      "I0607 12:21:52.858130 140294592194432 bert_sct_utils_v2.py:593]   name = module/bert/encoder/layer_4/intermediate/dense/kernel:0, shape = (768, 3072)\n"
     ]
    },
    {
     "name": "stdout",
     "output_type": "stream",
     "text": [
      "INFO:tensorflow:  name = module/bert/encoder/layer_4/intermediate/dense/bias:0, shape = (3072,)\n"
     ]
    },
    {
     "name": "stderr",
     "output_type": "stream",
     "text": [
      "I0607 12:21:52.859746 140294592194432 bert_sct_utils_v2.py:593]   name = module/bert/encoder/layer_4/intermediate/dense/bias:0, shape = (3072,)\n"
     ]
    },
    {
     "name": "stdout",
     "output_type": "stream",
     "text": [
      "INFO:tensorflow:  name = module/bert/encoder/layer_4/output/dense/kernel:0, shape = (3072, 768)\n"
     ]
    },
    {
     "name": "stderr",
     "output_type": "stream",
     "text": [
      "I0607 12:21:52.861553 140294592194432 bert_sct_utils_v2.py:593]   name = module/bert/encoder/layer_4/output/dense/kernel:0, shape = (3072, 768)\n"
     ]
    },
    {
     "name": "stdout",
     "output_type": "stream",
     "text": [
      "INFO:tensorflow:  name = module/bert/encoder/layer_4/output/dense/bias:0, shape = (768,)\n"
     ]
    },
    {
     "name": "stderr",
     "output_type": "stream",
     "text": [
      "I0607 12:21:52.863329 140294592194432 bert_sct_utils_v2.py:593]   name = module/bert/encoder/layer_4/output/dense/bias:0, shape = (768,)\n"
     ]
    },
    {
     "name": "stdout",
     "output_type": "stream",
     "text": [
      "INFO:tensorflow:  name = module/bert/encoder/layer_4/output/LayerNorm/beta:0, shape = (768,)\n"
     ]
    },
    {
     "name": "stderr",
     "output_type": "stream",
     "text": [
      "I0607 12:21:52.865103 140294592194432 bert_sct_utils_v2.py:593]   name = module/bert/encoder/layer_4/output/LayerNorm/beta:0, shape = (768,)\n"
     ]
    },
    {
     "name": "stdout",
     "output_type": "stream",
     "text": [
      "INFO:tensorflow:  name = module/bert/encoder/layer_4/output/LayerNorm/gamma:0, shape = (768,)\n"
     ]
    },
    {
     "name": "stderr",
     "output_type": "stream",
     "text": [
      "I0607 12:21:52.866898 140294592194432 bert_sct_utils_v2.py:593]   name = module/bert/encoder/layer_4/output/LayerNorm/gamma:0, shape = (768,)\n"
     ]
    },
    {
     "name": "stdout",
     "output_type": "stream",
     "text": [
      "INFO:tensorflow:  name = module/bert/encoder/layer_5/attention/self/query/kernel:0, shape = (768, 768)\n"
     ]
    },
    {
     "name": "stderr",
     "output_type": "stream",
     "text": [
      "I0607 12:21:52.868651 140294592194432 bert_sct_utils_v2.py:593]   name = module/bert/encoder/layer_5/attention/self/query/kernel:0, shape = (768, 768)\n"
     ]
    },
    {
     "name": "stdout",
     "output_type": "stream",
     "text": [
      "INFO:tensorflow:  name = module/bert/encoder/layer_5/attention/self/query/bias:0, shape = (768,)\n"
     ]
    },
    {
     "name": "stderr",
     "output_type": "stream",
     "text": [
      "I0607 12:21:52.870503 140294592194432 bert_sct_utils_v2.py:593]   name = module/bert/encoder/layer_5/attention/self/query/bias:0, shape = (768,)\n"
     ]
    },
    {
     "name": "stdout",
     "output_type": "stream",
     "text": [
      "INFO:tensorflow:  name = module/bert/encoder/layer_5/attention/self/key/kernel:0, shape = (768, 768)\n"
     ]
    },
    {
     "name": "stderr",
     "output_type": "stream",
     "text": [
      "I0607 12:21:52.872273 140294592194432 bert_sct_utils_v2.py:593]   name = module/bert/encoder/layer_5/attention/self/key/kernel:0, shape = (768, 768)\n"
     ]
    },
    {
     "name": "stdout",
     "output_type": "stream",
     "text": [
      "INFO:tensorflow:  name = module/bert/encoder/layer_5/attention/self/key/bias:0, shape = (768,)\n"
     ]
    },
    {
     "name": "stderr",
     "output_type": "stream",
     "text": [
      "I0607 12:21:52.874169 140294592194432 bert_sct_utils_v2.py:593]   name = module/bert/encoder/layer_5/attention/self/key/bias:0, shape = (768,)\n"
     ]
    },
    {
     "name": "stdout",
     "output_type": "stream",
     "text": [
      "INFO:tensorflow:  name = module/bert/encoder/layer_5/attention/self/value/kernel:0, shape = (768, 768)\n"
     ]
    },
    {
     "name": "stderr",
     "output_type": "stream",
     "text": [
      "I0607 12:21:52.876002 140294592194432 bert_sct_utils_v2.py:593]   name = module/bert/encoder/layer_5/attention/self/value/kernel:0, shape = (768, 768)\n"
     ]
    },
    {
     "name": "stdout",
     "output_type": "stream",
     "text": [
      "INFO:tensorflow:  name = module/bert/encoder/layer_5/attention/self/value/bias:0, shape = (768,)\n"
     ]
    },
    {
     "name": "stderr",
     "output_type": "stream",
     "text": [
      "I0607 12:21:52.877794 140294592194432 bert_sct_utils_v2.py:593]   name = module/bert/encoder/layer_5/attention/self/value/bias:0, shape = (768,)\n"
     ]
    },
    {
     "name": "stdout",
     "output_type": "stream",
     "text": [
      "INFO:tensorflow:  name = module/bert/encoder/layer_5/attention/output/dense/kernel:0, shape = (768, 768)\n"
     ]
    },
    {
     "name": "stderr",
     "output_type": "stream",
     "text": [
      "I0607 12:21:52.879608 140294592194432 bert_sct_utils_v2.py:593]   name = module/bert/encoder/layer_5/attention/output/dense/kernel:0, shape = (768, 768)\n"
     ]
    },
    {
     "name": "stdout",
     "output_type": "stream",
     "text": [
      "INFO:tensorflow:  name = module/bert/encoder/layer_5/attention/output/dense/bias:0, shape = (768,)\n"
     ]
    },
    {
     "name": "stderr",
     "output_type": "stream",
     "text": [
      "I0607 12:21:52.881468 140294592194432 bert_sct_utils_v2.py:593]   name = module/bert/encoder/layer_5/attention/output/dense/bias:0, shape = (768,)\n"
     ]
    },
    {
     "name": "stdout",
     "output_type": "stream",
     "text": [
      "INFO:tensorflow:  name = module/bert/encoder/layer_5/attention/output/LayerNorm/beta:0, shape = (768,)\n"
     ]
    },
    {
     "name": "stderr",
     "output_type": "stream",
     "text": [
      "I0607 12:21:52.883363 140294592194432 bert_sct_utils_v2.py:593]   name = module/bert/encoder/layer_5/attention/output/LayerNorm/beta:0, shape = (768,)\n"
     ]
    },
    {
     "name": "stdout",
     "output_type": "stream",
     "text": [
      "INFO:tensorflow:  name = module/bert/encoder/layer_5/attention/output/LayerNorm/gamma:0, shape = (768,)\n"
     ]
    },
    {
     "name": "stderr",
     "output_type": "stream",
     "text": [
      "I0607 12:21:52.885145 140294592194432 bert_sct_utils_v2.py:593]   name = module/bert/encoder/layer_5/attention/output/LayerNorm/gamma:0, shape = (768,)\n"
     ]
    },
    {
     "name": "stdout",
     "output_type": "stream",
     "text": [
      "INFO:tensorflow:  name = module/bert/encoder/layer_5/intermediate/dense/kernel:0, shape = (768, 3072)\n"
     ]
    },
    {
     "name": "stderr",
     "output_type": "stream",
     "text": [
      "I0607 12:21:52.886987 140294592194432 bert_sct_utils_v2.py:593]   name = module/bert/encoder/layer_5/intermediate/dense/kernel:0, shape = (768, 3072)\n"
     ]
    },
    {
     "name": "stdout",
     "output_type": "stream",
     "text": [
      "INFO:tensorflow:  name = module/bert/encoder/layer_5/intermediate/dense/bias:0, shape = (3072,)\n"
     ]
    },
    {
     "name": "stderr",
     "output_type": "stream",
     "text": [
      "I0607 12:21:52.888760 140294592194432 bert_sct_utils_v2.py:593]   name = module/bert/encoder/layer_5/intermediate/dense/bias:0, shape = (3072,)\n"
     ]
    },
    {
     "name": "stdout",
     "output_type": "stream",
     "text": [
      "INFO:tensorflow:  name = module/bert/encoder/layer_5/output/dense/kernel:0, shape = (3072, 768)\n"
     ]
    },
    {
     "name": "stderr",
     "output_type": "stream",
     "text": [
      "I0607 12:21:52.890526 140294592194432 bert_sct_utils_v2.py:593]   name = module/bert/encoder/layer_5/output/dense/kernel:0, shape = (3072, 768)\n"
     ]
    },
    {
     "name": "stdout",
     "output_type": "stream",
     "text": [
      "INFO:tensorflow:  name = module/bert/encoder/layer_5/output/dense/bias:0, shape = (768,)\n"
     ]
    },
    {
     "name": "stderr",
     "output_type": "stream",
     "text": [
      "I0607 12:21:52.892399 140294592194432 bert_sct_utils_v2.py:593]   name = module/bert/encoder/layer_5/output/dense/bias:0, shape = (768,)\n"
     ]
    },
    {
     "name": "stdout",
     "output_type": "stream",
     "text": [
      "INFO:tensorflow:  name = module/bert/encoder/layer_5/output/LayerNorm/beta:0, shape = (768,)\n"
     ]
    },
    {
     "name": "stderr",
     "output_type": "stream",
     "text": [
      "I0607 12:21:52.894171 140294592194432 bert_sct_utils_v2.py:593]   name = module/bert/encoder/layer_5/output/LayerNorm/beta:0, shape = (768,)\n"
     ]
    },
    {
     "name": "stdout",
     "output_type": "stream",
     "text": [
      "INFO:tensorflow:  name = module/bert/encoder/layer_5/output/LayerNorm/gamma:0, shape = (768,)\n"
     ]
    },
    {
     "name": "stderr",
     "output_type": "stream",
     "text": [
      "I0607 12:21:52.895984 140294592194432 bert_sct_utils_v2.py:593]   name = module/bert/encoder/layer_5/output/LayerNorm/gamma:0, shape = (768,)\n"
     ]
    },
    {
     "name": "stdout",
     "output_type": "stream",
     "text": [
      "INFO:tensorflow:  name = module/bert/encoder/layer_6/attention/self/query/kernel:0, shape = (768, 768)\n"
     ]
    },
    {
     "name": "stderr",
     "output_type": "stream",
     "text": [
      "I0607 12:21:52.897753 140294592194432 bert_sct_utils_v2.py:593]   name = module/bert/encoder/layer_6/attention/self/query/kernel:0, shape = (768, 768)\n"
     ]
    },
    {
     "name": "stdout",
     "output_type": "stream",
     "text": [
      "INFO:tensorflow:  name = module/bert/encoder/layer_6/attention/self/query/bias:0, shape = (768,)\n"
     ]
    },
    {
     "name": "stderr",
     "output_type": "stream",
     "text": [
      "I0607 12:21:52.899554 140294592194432 bert_sct_utils_v2.py:593]   name = module/bert/encoder/layer_6/attention/self/query/bias:0, shape = (768,)\n"
     ]
    },
    {
     "name": "stdout",
     "output_type": "stream",
     "text": [
      "INFO:tensorflow:  name = module/bert/encoder/layer_6/attention/self/key/kernel:0, shape = (768, 768)\n"
     ]
    },
    {
     "name": "stderr",
     "output_type": "stream",
     "text": [
      "I0607 12:21:52.901733 140294592194432 bert_sct_utils_v2.py:593]   name = module/bert/encoder/layer_6/attention/self/key/kernel:0, shape = (768, 768)\n"
     ]
    },
    {
     "name": "stdout",
     "output_type": "stream",
     "text": [
      "INFO:tensorflow:  name = module/bert/encoder/layer_6/attention/self/key/bias:0, shape = (768,)\n"
     ]
    },
    {
     "name": "stderr",
     "output_type": "stream",
     "text": [
      "I0607 12:21:52.903407 140294592194432 bert_sct_utils_v2.py:593]   name = module/bert/encoder/layer_6/attention/self/key/bias:0, shape = (768,)\n"
     ]
    },
    {
     "name": "stdout",
     "output_type": "stream",
     "text": [
      "INFO:tensorflow:  name = module/bert/encoder/layer_6/attention/self/value/kernel:0, shape = (768, 768)\n"
     ]
    },
    {
     "name": "stderr",
     "output_type": "stream",
     "text": [
      "I0607 12:21:52.905209 140294592194432 bert_sct_utils_v2.py:593]   name = module/bert/encoder/layer_6/attention/self/value/kernel:0, shape = (768, 768)\n"
     ]
    },
    {
     "name": "stdout",
     "output_type": "stream",
     "text": [
      "INFO:tensorflow:  name = module/bert/encoder/layer_6/attention/self/value/bias:0, shape = (768,)\n"
     ]
    },
    {
     "name": "stderr",
     "output_type": "stream",
     "text": [
      "I0607 12:21:52.907059 140294592194432 bert_sct_utils_v2.py:593]   name = module/bert/encoder/layer_6/attention/self/value/bias:0, shape = (768,)\n"
     ]
    },
    {
     "name": "stdout",
     "output_type": "stream",
     "text": [
      "INFO:tensorflow:  name = module/bert/encoder/layer_6/attention/output/dense/kernel:0, shape = (768, 768)\n"
     ]
    },
    {
     "name": "stderr",
     "output_type": "stream",
     "text": [
      "I0607 12:21:52.909348 140294592194432 bert_sct_utils_v2.py:593]   name = module/bert/encoder/layer_6/attention/output/dense/kernel:0, shape = (768, 768)\n"
     ]
    },
    {
     "name": "stdout",
     "output_type": "stream",
     "text": [
      "INFO:tensorflow:  name = module/bert/encoder/layer_6/attention/output/dense/bias:0, shape = (768,)\n"
     ]
    },
    {
     "name": "stderr",
     "output_type": "stream",
     "text": [
      "I0607 12:21:52.911150 140294592194432 bert_sct_utils_v2.py:593]   name = module/bert/encoder/layer_6/attention/output/dense/bias:0, shape = (768,)\n"
     ]
    },
    {
     "name": "stdout",
     "output_type": "stream",
     "text": [
      "INFO:tensorflow:  name = module/bert/encoder/layer_6/attention/output/LayerNorm/beta:0, shape = (768,)\n"
     ]
    },
    {
     "name": "stderr",
     "output_type": "stream",
     "text": [
      "I0607 12:21:52.912994 140294592194432 bert_sct_utils_v2.py:593]   name = module/bert/encoder/layer_6/attention/output/LayerNorm/beta:0, shape = (768,)\n"
     ]
    },
    {
     "name": "stdout",
     "output_type": "stream",
     "text": [
      "INFO:tensorflow:  name = module/bert/encoder/layer_6/attention/output/LayerNorm/gamma:0, shape = (768,)\n"
     ]
    },
    {
     "name": "stderr",
     "output_type": "stream",
     "text": [
      "I0607 12:21:52.914784 140294592194432 bert_sct_utils_v2.py:593]   name = module/bert/encoder/layer_6/attention/output/LayerNorm/gamma:0, shape = (768,)\n"
     ]
    },
    {
     "name": "stdout",
     "output_type": "stream",
     "text": [
      "INFO:tensorflow:  name = module/bert/encoder/layer_6/intermediate/dense/kernel:0, shape = (768, 3072)\n"
     ]
    },
    {
     "name": "stderr",
     "output_type": "stream",
     "text": [
      "I0607 12:21:52.916541 140294592194432 bert_sct_utils_v2.py:593]   name = module/bert/encoder/layer_6/intermediate/dense/kernel:0, shape = (768, 3072)\n"
     ]
    },
    {
     "name": "stdout",
     "output_type": "stream",
     "text": [
      "INFO:tensorflow:  name = module/bert/encoder/layer_6/intermediate/dense/bias:0, shape = (3072,)\n"
     ]
    },
    {
     "name": "stderr",
     "output_type": "stream",
     "text": [
      "I0607 12:21:52.918352 140294592194432 bert_sct_utils_v2.py:593]   name = module/bert/encoder/layer_6/intermediate/dense/bias:0, shape = (3072,)\n"
     ]
    },
    {
     "name": "stdout",
     "output_type": "stream",
     "text": [
      "INFO:tensorflow:  name = module/bert/encoder/layer_6/output/dense/kernel:0, shape = (3072, 768)\n"
     ]
    },
    {
     "name": "stderr",
     "output_type": "stream",
     "text": [
      "I0607 12:21:52.920218 140294592194432 bert_sct_utils_v2.py:593]   name = module/bert/encoder/layer_6/output/dense/kernel:0, shape = (3072, 768)\n"
     ]
    },
    {
     "name": "stdout",
     "output_type": "stream",
     "text": [
      "INFO:tensorflow:  name = module/bert/encoder/layer_6/output/dense/bias:0, shape = (768,)\n"
     ]
    },
    {
     "name": "stderr",
     "output_type": "stream",
     "text": [
      "I0607 12:21:52.922014 140294592194432 bert_sct_utils_v2.py:593]   name = module/bert/encoder/layer_6/output/dense/bias:0, shape = (768,)\n"
     ]
    },
    {
     "name": "stdout",
     "output_type": "stream",
     "text": [
      "INFO:tensorflow:  name = module/bert/encoder/layer_6/output/LayerNorm/beta:0, shape = (768,)\n"
     ]
    },
    {
     "name": "stderr",
     "output_type": "stream",
     "text": [
      "I0607 12:21:52.923805 140294592194432 bert_sct_utils_v2.py:593]   name = module/bert/encoder/layer_6/output/LayerNorm/beta:0, shape = (768,)\n"
     ]
    },
    {
     "name": "stdout",
     "output_type": "stream",
     "text": [
      "INFO:tensorflow:  name = module/bert/encoder/layer_6/output/LayerNorm/gamma:0, shape = (768,)\n"
     ]
    },
    {
     "name": "stderr",
     "output_type": "stream",
     "text": [
      "I0607 12:21:52.925597 140294592194432 bert_sct_utils_v2.py:593]   name = module/bert/encoder/layer_6/output/LayerNorm/gamma:0, shape = (768,)\n"
     ]
    },
    {
     "name": "stdout",
     "output_type": "stream",
     "text": [
      "INFO:tensorflow:  name = module/bert/encoder/layer_7/attention/self/query/kernel:0, shape = (768, 768)\n"
     ]
    },
    {
     "name": "stderr",
     "output_type": "stream",
     "text": [
      "I0607 12:21:52.927440 140294592194432 bert_sct_utils_v2.py:593]   name = module/bert/encoder/layer_7/attention/self/query/kernel:0, shape = (768, 768)\n"
     ]
    },
    {
     "name": "stdout",
     "output_type": "stream",
     "text": [
      "INFO:tensorflow:  name = module/bert/encoder/layer_7/attention/self/query/bias:0, shape = (768,)\n"
     ]
    },
    {
     "name": "stderr",
     "output_type": "stream",
     "text": [
      "I0607 12:21:52.929425 140294592194432 bert_sct_utils_v2.py:593]   name = module/bert/encoder/layer_7/attention/self/query/bias:0, shape = (768,)\n"
     ]
    },
    {
     "name": "stdout",
     "output_type": "stream",
     "text": [
      "INFO:tensorflow:  name = module/bert/encoder/layer_7/attention/self/key/kernel:0, shape = (768, 768)\n"
     ]
    },
    {
     "name": "stderr",
     "output_type": "stream",
     "text": [
      "I0607 12:21:52.931296 140294592194432 bert_sct_utils_v2.py:593]   name = module/bert/encoder/layer_7/attention/self/key/kernel:0, shape = (768, 768)\n"
     ]
    },
    {
     "name": "stdout",
     "output_type": "stream",
     "text": [
      "INFO:tensorflow:  name = module/bert/encoder/layer_7/attention/self/key/bias:0, shape = (768,)\n"
     ]
    },
    {
     "name": "stderr",
     "output_type": "stream",
     "text": [
      "I0607 12:21:52.933112 140294592194432 bert_sct_utils_v2.py:593]   name = module/bert/encoder/layer_7/attention/self/key/bias:0, shape = (768,)\n"
     ]
    },
    {
     "name": "stdout",
     "output_type": "stream",
     "text": [
      "INFO:tensorflow:  name = module/bert/encoder/layer_7/attention/self/value/kernel:0, shape = (768, 768)\n"
     ]
    },
    {
     "name": "stderr",
     "output_type": "stream",
     "text": [
      "I0607 12:21:52.934888 140294592194432 bert_sct_utils_v2.py:593]   name = module/bert/encoder/layer_7/attention/self/value/kernel:0, shape = (768, 768)\n"
     ]
    },
    {
     "name": "stdout",
     "output_type": "stream",
     "text": [
      "INFO:tensorflow:  name = module/bert/encoder/layer_7/attention/self/value/bias:0, shape = (768,)\n"
     ]
    },
    {
     "name": "stderr",
     "output_type": "stream",
     "text": [
      "I0607 12:21:52.937841 140294592194432 bert_sct_utils_v2.py:593]   name = module/bert/encoder/layer_7/attention/self/value/bias:0, shape = (768,)\n"
     ]
    },
    {
     "name": "stdout",
     "output_type": "stream",
     "text": [
      "INFO:tensorflow:  name = module/bert/encoder/layer_7/attention/output/dense/kernel:0, shape = (768, 768)\n"
     ]
    },
    {
     "name": "stderr",
     "output_type": "stream",
     "text": [
      "I0607 12:21:52.939638 140294592194432 bert_sct_utils_v2.py:593]   name = module/bert/encoder/layer_7/attention/output/dense/kernel:0, shape = (768, 768)\n"
     ]
    },
    {
     "name": "stdout",
     "output_type": "stream",
     "text": [
      "INFO:tensorflow:  name = module/bert/encoder/layer_7/attention/output/dense/bias:0, shape = (768,)\n"
     ]
    },
    {
     "name": "stderr",
     "output_type": "stream",
     "text": [
      "I0607 12:21:52.941465 140294592194432 bert_sct_utils_v2.py:593]   name = module/bert/encoder/layer_7/attention/output/dense/bias:0, shape = (768,)\n"
     ]
    },
    {
     "name": "stdout",
     "output_type": "stream",
     "text": [
      "INFO:tensorflow:  name = module/bert/encoder/layer_7/attention/output/LayerNorm/beta:0, shape = (768,)\n"
     ]
    },
    {
     "name": "stderr",
     "output_type": "stream",
     "text": [
      "I0607 12:21:52.943245 140294592194432 bert_sct_utils_v2.py:593]   name = module/bert/encoder/layer_7/attention/output/LayerNorm/beta:0, shape = (768,)\n"
     ]
    },
    {
     "name": "stdout",
     "output_type": "stream",
     "text": [
      "INFO:tensorflow:  name = module/bert/encoder/layer_7/attention/output/LayerNorm/gamma:0, shape = (768,)\n"
     ]
    },
    {
     "name": "stderr",
     "output_type": "stream",
     "text": [
      "I0607 12:21:52.945118 140294592194432 bert_sct_utils_v2.py:593]   name = module/bert/encoder/layer_7/attention/output/LayerNorm/gamma:0, shape = (768,)\n"
     ]
    },
    {
     "name": "stdout",
     "output_type": "stream",
     "text": [
      "INFO:tensorflow:  name = module/bert/encoder/layer_7/intermediate/dense/kernel:0, shape = (768, 3072)\n"
     ]
    },
    {
     "name": "stderr",
     "output_type": "stream",
     "text": [
      "I0607 12:21:52.946955 140294592194432 bert_sct_utils_v2.py:593]   name = module/bert/encoder/layer_7/intermediate/dense/kernel:0, shape = (768, 3072)\n"
     ]
    },
    {
     "name": "stdout",
     "output_type": "stream",
     "text": [
      "INFO:tensorflow:  name = module/bert/encoder/layer_7/intermediate/dense/bias:0, shape = (3072,)\n"
     ]
    },
    {
     "name": "stderr",
     "output_type": "stream",
     "text": [
      "I0607 12:21:52.948768 140294592194432 bert_sct_utils_v2.py:593]   name = module/bert/encoder/layer_7/intermediate/dense/bias:0, shape = (3072,)\n"
     ]
    },
    {
     "name": "stdout",
     "output_type": "stream",
     "text": [
      "INFO:tensorflow:  name = module/bert/encoder/layer_7/output/dense/kernel:0, shape = (3072, 768)\n"
     ]
    },
    {
     "name": "stderr",
     "output_type": "stream",
     "text": [
      "I0607 12:21:52.950534 140294592194432 bert_sct_utils_v2.py:593]   name = module/bert/encoder/layer_7/output/dense/kernel:0, shape = (3072, 768)\n"
     ]
    },
    {
     "name": "stdout",
     "output_type": "stream",
     "text": [
      "INFO:tensorflow:  name = module/bert/encoder/layer_7/output/dense/bias:0, shape = (768,)\n"
     ]
    },
    {
     "name": "stderr",
     "output_type": "stream",
     "text": [
      "I0607 12:21:52.952330 140294592194432 bert_sct_utils_v2.py:593]   name = module/bert/encoder/layer_7/output/dense/bias:0, shape = (768,)\n"
     ]
    },
    {
     "name": "stdout",
     "output_type": "stream",
     "text": [
      "INFO:tensorflow:  name = module/bert/encoder/layer_7/output/LayerNorm/beta:0, shape = (768,)\n"
     ]
    },
    {
     "name": "stderr",
     "output_type": "stream",
     "text": [
      "I0607 12:21:52.954186 140294592194432 bert_sct_utils_v2.py:593]   name = module/bert/encoder/layer_7/output/LayerNorm/beta:0, shape = (768,)\n"
     ]
    },
    {
     "name": "stdout",
     "output_type": "stream",
     "text": [
      "INFO:tensorflow:  name = module/bert/encoder/layer_7/output/LayerNorm/gamma:0, shape = (768,)\n"
     ]
    },
    {
     "name": "stderr",
     "output_type": "stream",
     "text": [
      "I0607 12:21:52.955997 140294592194432 bert_sct_utils_v2.py:593]   name = module/bert/encoder/layer_7/output/LayerNorm/gamma:0, shape = (768,)\n"
     ]
    },
    {
     "name": "stdout",
     "output_type": "stream",
     "text": [
      "INFO:tensorflow:  name = module/bert/encoder/layer_8/attention/self/query/kernel:0, shape = (768, 768)\n"
     ]
    },
    {
     "name": "stderr",
     "output_type": "stream",
     "text": [
      "I0607 12:21:52.957784 140294592194432 bert_sct_utils_v2.py:593]   name = module/bert/encoder/layer_8/attention/self/query/kernel:0, shape = (768, 768)\n"
     ]
    },
    {
     "name": "stdout",
     "output_type": "stream",
     "text": [
      "INFO:tensorflow:  name = module/bert/encoder/layer_8/attention/self/query/bias:0, shape = (768,)\n"
     ]
    },
    {
     "name": "stderr",
     "output_type": "stream",
     "text": [
      "I0607 12:21:52.959523 140294592194432 bert_sct_utils_v2.py:593]   name = module/bert/encoder/layer_8/attention/self/query/bias:0, shape = (768,)\n"
     ]
    },
    {
     "name": "stdout",
     "output_type": "stream",
     "text": [
      "INFO:tensorflow:  name = module/bert/encoder/layer_8/attention/self/key/kernel:0, shape = (768, 768)\n"
     ]
    },
    {
     "name": "stderr",
     "output_type": "stream",
     "text": [
      "I0607 12:21:52.961346 140294592194432 bert_sct_utils_v2.py:593]   name = module/bert/encoder/layer_8/attention/self/key/kernel:0, shape = (768, 768)\n"
     ]
    },
    {
     "name": "stdout",
     "output_type": "stream",
     "text": [
      "INFO:tensorflow:  name = module/bert/encoder/layer_8/attention/self/key/bias:0, shape = (768,)\n"
     ]
    },
    {
     "name": "stderr",
     "output_type": "stream",
     "text": [
      "I0607 12:21:52.963181 140294592194432 bert_sct_utils_v2.py:593]   name = module/bert/encoder/layer_8/attention/self/key/bias:0, shape = (768,)\n"
     ]
    },
    {
     "name": "stdout",
     "output_type": "stream",
     "text": [
      "INFO:tensorflow:  name = module/bert/encoder/layer_8/attention/self/value/kernel:0, shape = (768, 768)\n"
     ]
    },
    {
     "name": "stderr",
     "output_type": "stream",
     "text": [
      "I0607 12:21:52.964995 140294592194432 bert_sct_utils_v2.py:593]   name = module/bert/encoder/layer_8/attention/self/value/kernel:0, shape = (768, 768)\n"
     ]
    },
    {
     "name": "stdout",
     "output_type": "stream",
     "text": [
      "INFO:tensorflow:  name = module/bert/encoder/layer_8/attention/self/value/bias:0, shape = (768,)\n"
     ]
    },
    {
     "name": "stderr",
     "output_type": "stream",
     "text": [
      "I0607 12:21:52.967010 140294592194432 bert_sct_utils_v2.py:593]   name = module/bert/encoder/layer_8/attention/self/value/bias:0, shape = (768,)\n"
     ]
    },
    {
     "name": "stdout",
     "output_type": "stream",
     "text": [
      "INFO:tensorflow:  name = module/bert/encoder/layer_8/attention/output/dense/kernel:0, shape = (768, 768)\n"
     ]
    },
    {
     "name": "stderr",
     "output_type": "stream",
     "text": [
      "I0607 12:21:52.968979 140294592194432 bert_sct_utils_v2.py:593]   name = module/bert/encoder/layer_8/attention/output/dense/kernel:0, shape = (768, 768)\n"
     ]
    },
    {
     "name": "stdout",
     "output_type": "stream",
     "text": [
      "INFO:tensorflow:  name = module/bert/encoder/layer_8/attention/output/dense/bias:0, shape = (768,)\n"
     ]
    },
    {
     "name": "stderr",
     "output_type": "stream",
     "text": [
      "I0607 12:21:52.970766 140294592194432 bert_sct_utils_v2.py:593]   name = module/bert/encoder/layer_8/attention/output/dense/bias:0, shape = (768,)\n"
     ]
    },
    {
     "name": "stdout",
     "output_type": "stream",
     "text": [
      "INFO:tensorflow:  name = module/bert/encoder/layer_8/attention/output/LayerNorm/beta:0, shape = (768,)\n"
     ]
    },
    {
     "name": "stderr",
     "output_type": "stream",
     "text": [
      "I0607 12:21:52.972534 140294592194432 bert_sct_utils_v2.py:593]   name = module/bert/encoder/layer_8/attention/output/LayerNorm/beta:0, shape = (768,)\n"
     ]
    },
    {
     "name": "stdout",
     "output_type": "stream",
     "text": [
      "INFO:tensorflow:  name = module/bert/encoder/layer_8/attention/output/LayerNorm/gamma:0, shape = (768,)\n"
     ]
    },
    {
     "name": "stderr",
     "output_type": "stream",
     "text": [
      "I0607 12:21:52.974320 140294592194432 bert_sct_utils_v2.py:593]   name = module/bert/encoder/layer_8/attention/output/LayerNorm/gamma:0, shape = (768,)\n"
     ]
    },
    {
     "name": "stdout",
     "output_type": "stream",
     "text": [
      "INFO:tensorflow:  name = module/bert/encoder/layer_8/intermediate/dense/kernel:0, shape = (768, 3072)\n"
     ]
    },
    {
     "name": "stderr",
     "output_type": "stream",
     "text": [
      "I0607 12:21:52.976601 140294592194432 bert_sct_utils_v2.py:593]   name = module/bert/encoder/layer_8/intermediate/dense/kernel:0, shape = (768, 3072)\n"
     ]
    },
    {
     "name": "stdout",
     "output_type": "stream",
     "text": [
      "INFO:tensorflow:  name = module/bert/encoder/layer_8/intermediate/dense/bias:0, shape = (3072,)\n"
     ]
    },
    {
     "name": "stderr",
     "output_type": "stream",
     "text": [
      "I0607 12:21:52.978413 140294592194432 bert_sct_utils_v2.py:593]   name = module/bert/encoder/layer_8/intermediate/dense/bias:0, shape = (3072,)\n"
     ]
    },
    {
     "name": "stdout",
     "output_type": "stream",
     "text": [
      "INFO:tensorflow:  name = module/bert/encoder/layer_8/output/dense/kernel:0, shape = (3072, 768)\n"
     ]
    },
    {
     "name": "stderr",
     "output_type": "stream",
     "text": [
      "I0607 12:21:52.980648 140294592194432 bert_sct_utils_v2.py:593]   name = module/bert/encoder/layer_8/output/dense/kernel:0, shape = (3072, 768)\n"
     ]
    },
    {
     "name": "stdout",
     "output_type": "stream",
     "text": [
      "INFO:tensorflow:  name = module/bert/encoder/layer_8/output/dense/bias:0, shape = (768,)\n"
     ]
    },
    {
     "name": "stderr",
     "output_type": "stream",
     "text": [
      "I0607 12:21:52.982446 140294592194432 bert_sct_utils_v2.py:593]   name = module/bert/encoder/layer_8/output/dense/bias:0, shape = (768,)\n"
     ]
    },
    {
     "name": "stdout",
     "output_type": "stream",
     "text": [
      "INFO:tensorflow:  name = module/bert/encoder/layer_8/output/LayerNorm/beta:0, shape = (768,)\n"
     ]
    },
    {
     "name": "stderr",
     "output_type": "stream",
     "text": [
      "I0607 12:21:52.984961 140294592194432 bert_sct_utils_v2.py:593]   name = module/bert/encoder/layer_8/output/LayerNorm/beta:0, shape = (768,)\n"
     ]
    },
    {
     "name": "stdout",
     "output_type": "stream",
     "text": [
      "INFO:tensorflow:  name = module/bert/encoder/layer_8/output/LayerNorm/gamma:0, shape = (768,)\n"
     ]
    },
    {
     "name": "stderr",
     "output_type": "stream",
     "text": [
      "I0607 12:21:52.986557 140294592194432 bert_sct_utils_v2.py:593]   name = module/bert/encoder/layer_8/output/LayerNorm/gamma:0, shape = (768,)\n"
     ]
    },
    {
     "name": "stdout",
     "output_type": "stream",
     "text": [
      "INFO:tensorflow:  name = module/bert/encoder/layer_9/attention/self/query/kernel:0, shape = (768, 768)\n"
     ]
    },
    {
     "name": "stderr",
     "output_type": "stream",
     "text": [
      "I0607 12:21:52.988329 140294592194432 bert_sct_utils_v2.py:593]   name = module/bert/encoder/layer_9/attention/self/query/kernel:0, shape = (768, 768)\n"
     ]
    },
    {
     "name": "stdout",
     "output_type": "stream",
     "text": [
      "INFO:tensorflow:  name = module/bert/encoder/layer_9/attention/self/query/bias:0, shape = (768,)\n"
     ]
    },
    {
     "name": "stderr",
     "output_type": "stream",
     "text": [
      "I0607 12:21:52.990090 140294592194432 bert_sct_utils_v2.py:593]   name = module/bert/encoder/layer_9/attention/self/query/bias:0, shape = (768,)\n"
     ]
    },
    {
     "name": "stdout",
     "output_type": "stream",
     "text": [
      "INFO:tensorflow:  name = module/bert/encoder/layer_9/attention/self/key/kernel:0, shape = (768, 768)\n"
     ]
    },
    {
     "name": "stderr",
     "output_type": "stream",
     "text": [
      "I0607 12:21:52.991908 140294592194432 bert_sct_utils_v2.py:593]   name = module/bert/encoder/layer_9/attention/self/key/kernel:0, shape = (768, 768)\n"
     ]
    },
    {
     "name": "stdout",
     "output_type": "stream",
     "text": [
      "INFO:tensorflow:  name = module/bert/encoder/layer_9/attention/self/key/bias:0, shape = (768,)\n"
     ]
    },
    {
     "name": "stderr",
     "output_type": "stream",
     "text": [
      "I0607 12:21:52.994139 140294592194432 bert_sct_utils_v2.py:593]   name = module/bert/encoder/layer_9/attention/self/key/bias:0, shape = (768,)\n"
     ]
    },
    {
     "name": "stdout",
     "output_type": "stream",
     "text": [
      "INFO:tensorflow:  name = module/bert/encoder/layer_9/attention/self/value/kernel:0, shape = (768, 768)\n"
     ]
    },
    {
     "name": "stderr",
     "output_type": "stream",
     "text": [
      "I0607 12:21:52.995950 140294592194432 bert_sct_utils_v2.py:593]   name = module/bert/encoder/layer_9/attention/self/value/kernel:0, shape = (768, 768)\n"
     ]
    },
    {
     "name": "stdout",
     "output_type": "stream",
     "text": [
      "INFO:tensorflow:  name = module/bert/encoder/layer_9/attention/self/value/bias:0, shape = (768,)\n"
     ]
    },
    {
     "name": "stderr",
     "output_type": "stream",
     "text": [
      "I0607 12:21:52.998196 140294592194432 bert_sct_utils_v2.py:593]   name = module/bert/encoder/layer_9/attention/self/value/bias:0, shape = (768,)\n"
     ]
    },
    {
     "name": "stdout",
     "output_type": "stream",
     "text": [
      "INFO:tensorflow:  name = module/bert/encoder/layer_9/attention/output/dense/kernel:0, shape = (768, 768)\n"
     ]
    },
    {
     "name": "stderr",
     "output_type": "stream",
     "text": [
      "I0607 12:21:53.001146 140294592194432 bert_sct_utils_v2.py:593]   name = module/bert/encoder/layer_9/attention/output/dense/kernel:0, shape = (768, 768)\n"
     ]
    },
    {
     "name": "stdout",
     "output_type": "stream",
     "text": [
      "INFO:tensorflow:  name = module/bert/encoder/layer_9/attention/output/dense/bias:0, shape = (768,)\n"
     ]
    },
    {
     "name": "stderr",
     "output_type": "stream",
     "text": [
      "I0607 12:21:53.003095 140294592194432 bert_sct_utils_v2.py:593]   name = module/bert/encoder/layer_9/attention/output/dense/bias:0, shape = (768,)\n"
     ]
    },
    {
     "name": "stdout",
     "output_type": "stream",
     "text": [
      "INFO:tensorflow:  name = module/bert/encoder/layer_9/attention/output/LayerNorm/beta:0, shape = (768,)\n"
     ]
    },
    {
     "name": "stderr",
     "output_type": "stream",
     "text": [
      "I0607 12:21:53.004738 140294592194432 bert_sct_utils_v2.py:593]   name = module/bert/encoder/layer_9/attention/output/LayerNorm/beta:0, shape = (768,)\n"
     ]
    },
    {
     "name": "stdout",
     "output_type": "stream",
     "text": [
      "INFO:tensorflow:  name = module/bert/encoder/layer_9/attention/output/LayerNorm/gamma:0, shape = (768,)\n"
     ]
    },
    {
     "name": "stderr",
     "output_type": "stream",
     "text": [
      "I0607 12:21:53.006666 140294592194432 bert_sct_utils_v2.py:593]   name = module/bert/encoder/layer_9/attention/output/LayerNorm/gamma:0, shape = (768,)\n"
     ]
    },
    {
     "name": "stdout",
     "output_type": "stream",
     "text": [
      "INFO:tensorflow:  name = module/bert/encoder/layer_9/intermediate/dense/kernel:0, shape = (768, 3072)\n"
     ]
    },
    {
     "name": "stderr",
     "output_type": "stream",
     "text": [
      "I0607 12:21:53.008450 140294592194432 bert_sct_utils_v2.py:593]   name = module/bert/encoder/layer_9/intermediate/dense/kernel:0, shape = (768, 3072)\n"
     ]
    },
    {
     "name": "stdout",
     "output_type": "stream",
     "text": [
      "INFO:tensorflow:  name = module/bert/encoder/layer_9/intermediate/dense/bias:0, shape = (3072,)\n"
     ]
    },
    {
     "name": "stderr",
     "output_type": "stream",
     "text": [
      "I0607 12:21:53.010271 140294592194432 bert_sct_utils_v2.py:593]   name = module/bert/encoder/layer_9/intermediate/dense/bias:0, shape = (3072,)\n"
     ]
    },
    {
     "name": "stdout",
     "output_type": "stream",
     "text": [
      "INFO:tensorflow:  name = module/bert/encoder/layer_9/output/dense/kernel:0, shape = (3072, 768)\n"
     ]
    },
    {
     "name": "stderr",
     "output_type": "stream",
     "text": [
      "I0607 12:21:53.012045 140294592194432 bert_sct_utils_v2.py:593]   name = module/bert/encoder/layer_9/output/dense/kernel:0, shape = (3072, 768)\n"
     ]
    },
    {
     "name": "stdout",
     "output_type": "stream",
     "text": [
      "INFO:tensorflow:  name = module/bert/encoder/layer_9/output/dense/bias:0, shape = (768,)\n"
     ]
    },
    {
     "name": "stderr",
     "output_type": "stream",
     "text": [
      "I0607 12:21:53.014332 140294592194432 bert_sct_utils_v2.py:593]   name = module/bert/encoder/layer_9/output/dense/bias:0, shape = (768,)\n"
     ]
    },
    {
     "name": "stdout",
     "output_type": "stream",
     "text": [
      "INFO:tensorflow:  name = module/bert/encoder/layer_9/output/LayerNorm/beta:0, shape = (768,)\n"
     ]
    },
    {
     "name": "stderr",
     "output_type": "stream",
     "text": [
      "I0607 12:21:53.016121 140294592194432 bert_sct_utils_v2.py:593]   name = module/bert/encoder/layer_9/output/LayerNorm/beta:0, shape = (768,)\n"
     ]
    },
    {
     "name": "stdout",
     "output_type": "stream",
     "text": [
      "INFO:tensorflow:  name = module/bert/encoder/layer_9/output/LayerNorm/gamma:0, shape = (768,)\n"
     ]
    },
    {
     "name": "stderr",
     "output_type": "stream",
     "text": [
      "I0607 12:21:53.017979 140294592194432 bert_sct_utils_v2.py:593]   name = module/bert/encoder/layer_9/output/LayerNorm/gamma:0, shape = (768,)\n"
     ]
    },
    {
     "name": "stdout",
     "output_type": "stream",
     "text": [
      "INFO:tensorflow:  name = module/bert/encoder/layer_10/attention/self/query/kernel:0, shape = (768, 768)\n"
     ]
    },
    {
     "name": "stderr",
     "output_type": "stream",
     "text": [
      "I0607 12:21:53.019762 140294592194432 bert_sct_utils_v2.py:593]   name = module/bert/encoder/layer_10/attention/self/query/kernel:0, shape = (768, 768)\n"
     ]
    },
    {
     "name": "stdout",
     "output_type": "stream",
     "text": [
      "INFO:tensorflow:  name = module/bert/encoder/layer_10/attention/self/query/bias:0, shape = (768,)\n"
     ]
    },
    {
     "name": "stderr",
     "output_type": "stream",
     "text": [
      "I0607 12:21:53.022469 140294592194432 bert_sct_utils_v2.py:593]   name = module/bert/encoder/layer_10/attention/self/query/bias:0, shape = (768,)\n"
     ]
    },
    {
     "name": "stdout",
     "output_type": "stream",
     "text": [
      "INFO:tensorflow:  name = module/bert/encoder/layer_10/attention/self/key/kernel:0, shape = (768, 768)\n"
     ]
    },
    {
     "name": "stderr",
     "output_type": "stream",
     "text": [
      "I0607 12:21:53.025360 140294592194432 bert_sct_utils_v2.py:593]   name = module/bert/encoder/layer_10/attention/self/key/kernel:0, shape = (768, 768)\n"
     ]
    },
    {
     "name": "stdout",
     "output_type": "stream",
     "text": [
      "INFO:tensorflow:  name = module/bert/encoder/layer_10/attention/self/key/bias:0, shape = (768,)\n"
     ]
    },
    {
     "name": "stderr",
     "output_type": "stream",
     "text": [
      "I0607 12:21:53.030619 140294592194432 bert_sct_utils_v2.py:593]   name = module/bert/encoder/layer_10/attention/self/key/bias:0, shape = (768,)\n"
     ]
    },
    {
     "name": "stdout",
     "output_type": "stream",
     "text": [
      "INFO:tensorflow:  name = module/bert/encoder/layer_10/attention/self/value/kernel:0, shape = (768, 768)\n"
     ]
    },
    {
     "name": "stderr",
     "output_type": "stream",
     "text": [
      "I0607 12:21:53.039238 140294592194432 bert_sct_utils_v2.py:593]   name = module/bert/encoder/layer_10/attention/self/value/kernel:0, shape = (768, 768)\n"
     ]
    },
    {
     "name": "stdout",
     "output_type": "stream",
     "text": [
      "INFO:tensorflow:  name = module/bert/encoder/layer_10/attention/self/value/bias:0, shape = (768,)\n"
     ]
    },
    {
     "name": "stderr",
     "output_type": "stream",
     "text": [
      "I0607 12:21:53.046647 140294592194432 bert_sct_utils_v2.py:593]   name = module/bert/encoder/layer_10/attention/self/value/bias:0, shape = (768,)\n"
     ]
    },
    {
     "name": "stdout",
     "output_type": "stream",
     "text": [
      "INFO:tensorflow:  name = module/bert/encoder/layer_10/attention/output/dense/kernel:0, shape = (768, 768)\n"
     ]
    },
    {
     "name": "stderr",
     "output_type": "stream",
     "text": [
      "I0607 12:21:53.052164 140294592194432 bert_sct_utils_v2.py:593]   name = module/bert/encoder/layer_10/attention/output/dense/kernel:0, shape = (768, 768)\n"
     ]
    },
    {
     "name": "stdout",
     "output_type": "stream",
     "text": [
      "INFO:tensorflow:  name = module/bert/encoder/layer_10/attention/output/dense/bias:0, shape = (768,)\n"
     ]
    },
    {
     "name": "stderr",
     "output_type": "stream",
     "text": [
      "I0607 12:21:53.062494 140294592194432 bert_sct_utils_v2.py:593]   name = module/bert/encoder/layer_10/attention/output/dense/bias:0, shape = (768,)\n"
     ]
    },
    {
     "name": "stdout",
     "output_type": "stream",
     "text": [
      "INFO:tensorflow:  name = module/bert/encoder/layer_10/attention/output/LayerNorm/beta:0, shape = (768,)\n"
     ]
    },
    {
     "name": "stderr",
     "output_type": "stream",
     "text": [
      "I0607 12:21:53.068288 140294592194432 bert_sct_utils_v2.py:593]   name = module/bert/encoder/layer_10/attention/output/LayerNorm/beta:0, shape = (768,)\n"
     ]
    },
    {
     "name": "stdout",
     "output_type": "stream",
     "text": [
      "INFO:tensorflow:  name = module/bert/encoder/layer_10/attention/output/LayerNorm/gamma:0, shape = (768,)\n"
     ]
    },
    {
     "name": "stderr",
     "output_type": "stream",
     "text": [
      "I0607 12:21:53.072718 140294592194432 bert_sct_utils_v2.py:593]   name = module/bert/encoder/layer_10/attention/output/LayerNorm/gamma:0, shape = (768,)\n"
     ]
    },
    {
     "name": "stdout",
     "output_type": "stream",
     "text": [
      "INFO:tensorflow:  name = module/bert/encoder/layer_10/intermediate/dense/kernel:0, shape = (768, 3072)\n"
     ]
    },
    {
     "name": "stderr",
     "output_type": "stream",
     "text": [
      "I0607 12:21:53.077073 140294592194432 bert_sct_utils_v2.py:593]   name = module/bert/encoder/layer_10/intermediate/dense/kernel:0, shape = (768, 3072)\n"
     ]
    },
    {
     "name": "stdout",
     "output_type": "stream",
     "text": [
      "INFO:tensorflow:  name = module/bert/encoder/layer_10/intermediate/dense/bias:0, shape = (3072,)\n"
     ]
    },
    {
     "name": "stderr",
     "output_type": "stream",
     "text": [
      "I0607 12:21:53.081138 140294592194432 bert_sct_utils_v2.py:593]   name = module/bert/encoder/layer_10/intermediate/dense/bias:0, shape = (3072,)\n"
     ]
    },
    {
     "name": "stdout",
     "output_type": "stream",
     "text": [
      "INFO:tensorflow:  name = module/bert/encoder/layer_10/output/dense/kernel:0, shape = (3072, 768)\n"
     ]
    },
    {
     "name": "stderr",
     "output_type": "stream",
     "text": [
      "I0607 12:21:53.085239 140294592194432 bert_sct_utils_v2.py:593]   name = module/bert/encoder/layer_10/output/dense/kernel:0, shape = (3072, 768)\n"
     ]
    },
    {
     "name": "stdout",
     "output_type": "stream",
     "text": [
      "INFO:tensorflow:  name = module/bert/encoder/layer_10/output/dense/bias:0, shape = (768,)\n"
     ]
    },
    {
     "name": "stderr",
     "output_type": "stream",
     "text": [
      "I0607 12:21:53.090598 140294592194432 bert_sct_utils_v2.py:593]   name = module/bert/encoder/layer_10/output/dense/bias:0, shape = (768,)\n"
     ]
    },
    {
     "name": "stdout",
     "output_type": "stream",
     "text": [
      "INFO:tensorflow:  name = module/bert/encoder/layer_10/output/LayerNorm/beta:0, shape = (768,)\n"
     ]
    },
    {
     "name": "stderr",
     "output_type": "stream",
     "text": [
      "I0607 12:21:53.096824 140294592194432 bert_sct_utils_v2.py:593]   name = module/bert/encoder/layer_10/output/LayerNorm/beta:0, shape = (768,)\n"
     ]
    },
    {
     "name": "stdout",
     "output_type": "stream",
     "text": [
      "INFO:tensorflow:  name = module/bert/encoder/layer_10/output/LayerNorm/gamma:0, shape = (768,)\n"
     ]
    },
    {
     "name": "stderr",
     "output_type": "stream",
     "text": [
      "I0607 12:21:53.102649 140294592194432 bert_sct_utils_v2.py:593]   name = module/bert/encoder/layer_10/output/LayerNorm/gamma:0, shape = (768,)\n"
     ]
    },
    {
     "name": "stdout",
     "output_type": "stream",
     "text": [
      "INFO:tensorflow:  name = module/bert/encoder/layer_11/attention/self/query/kernel:0, shape = (768, 768)\n"
     ]
    },
    {
     "name": "stderr",
     "output_type": "stream",
     "text": [
      "I0607 12:21:53.109146 140294592194432 bert_sct_utils_v2.py:593]   name = module/bert/encoder/layer_11/attention/self/query/kernel:0, shape = (768, 768)\n"
     ]
    },
    {
     "name": "stdout",
     "output_type": "stream",
     "text": [
      "INFO:tensorflow:  name = module/bert/encoder/layer_11/attention/self/query/bias:0, shape = (768,)\n"
     ]
    },
    {
     "name": "stderr",
     "output_type": "stream",
     "text": [
      "I0607 12:21:53.113220 140294592194432 bert_sct_utils_v2.py:593]   name = module/bert/encoder/layer_11/attention/self/query/bias:0, shape = (768,)\n"
     ]
    },
    {
     "name": "stdout",
     "output_type": "stream",
     "text": [
      "INFO:tensorflow:  name = module/bert/encoder/layer_11/attention/self/key/kernel:0, shape = (768, 768)\n"
     ]
    },
    {
     "name": "stderr",
     "output_type": "stream",
     "text": [
      "I0607 12:21:53.118008 140294592194432 bert_sct_utils_v2.py:593]   name = module/bert/encoder/layer_11/attention/self/key/kernel:0, shape = (768, 768)\n"
     ]
    },
    {
     "name": "stdout",
     "output_type": "stream",
     "text": [
      "INFO:tensorflow:  name = module/bert/encoder/layer_11/attention/self/key/bias:0, shape = (768,)\n"
     ]
    },
    {
     "name": "stderr",
     "output_type": "stream",
     "text": [
      "I0607 12:21:53.122023 140294592194432 bert_sct_utils_v2.py:593]   name = module/bert/encoder/layer_11/attention/self/key/bias:0, shape = (768,)\n"
     ]
    },
    {
     "name": "stdout",
     "output_type": "stream",
     "text": [
      "INFO:tensorflow:  name = module/bert/encoder/layer_11/attention/self/value/kernel:0, shape = (768, 768)\n"
     ]
    },
    {
     "name": "stderr",
     "output_type": "stream",
     "text": [
      "I0607 12:21:53.126134 140294592194432 bert_sct_utils_v2.py:593]   name = module/bert/encoder/layer_11/attention/self/value/kernel:0, shape = (768, 768)\n"
     ]
    },
    {
     "name": "stdout",
     "output_type": "stream",
     "text": [
      "INFO:tensorflow:  name = module/bert/encoder/layer_11/attention/self/value/bias:0, shape = (768,)\n"
     ]
    },
    {
     "name": "stderr",
     "output_type": "stream",
     "text": [
      "I0607 12:21:53.130516 140294592194432 bert_sct_utils_v2.py:593]   name = module/bert/encoder/layer_11/attention/self/value/bias:0, shape = (768,)\n"
     ]
    },
    {
     "name": "stdout",
     "output_type": "stream",
     "text": [
      "INFO:tensorflow:  name = module/bert/encoder/layer_11/attention/output/dense/kernel:0, shape = (768, 768)\n"
     ]
    },
    {
     "name": "stderr",
     "output_type": "stream",
     "text": [
      "I0607 12:21:53.134600 140294592194432 bert_sct_utils_v2.py:593]   name = module/bert/encoder/layer_11/attention/output/dense/kernel:0, shape = (768, 768)\n"
     ]
    },
    {
     "name": "stdout",
     "output_type": "stream",
     "text": [
      "INFO:tensorflow:  name = module/bert/encoder/layer_11/attention/output/dense/bias:0, shape = (768,)\n"
     ]
    },
    {
     "name": "stderr",
     "output_type": "stream",
     "text": [
      "I0607 12:21:53.138677 140294592194432 bert_sct_utils_v2.py:593]   name = module/bert/encoder/layer_11/attention/output/dense/bias:0, shape = (768,)\n"
     ]
    },
    {
     "name": "stdout",
     "output_type": "stream",
     "text": [
      "INFO:tensorflow:  name = module/bert/encoder/layer_11/attention/output/LayerNorm/beta:0, shape = (768,)\n"
     ]
    },
    {
     "name": "stderr",
     "output_type": "stream",
     "text": [
      "I0607 12:21:53.144476 140294592194432 bert_sct_utils_v2.py:593]   name = module/bert/encoder/layer_11/attention/output/LayerNorm/beta:0, shape = (768,)\n"
     ]
    },
    {
     "name": "stdout",
     "output_type": "stream",
     "text": [
      "INFO:tensorflow:  name = module/bert/encoder/layer_11/attention/output/LayerNorm/gamma:0, shape = (768,)\n"
     ]
    },
    {
     "name": "stderr",
     "output_type": "stream",
     "text": [
      "I0607 12:21:53.148679 140294592194432 bert_sct_utils_v2.py:593]   name = module/bert/encoder/layer_11/attention/output/LayerNorm/gamma:0, shape = (768,)\n"
     ]
    },
    {
     "name": "stdout",
     "output_type": "stream",
     "text": [
      "INFO:tensorflow:  name = module/bert/encoder/layer_11/intermediate/dense/kernel:0, shape = (768, 3072)\n"
     ]
    },
    {
     "name": "stderr",
     "output_type": "stream",
     "text": [
      "I0607 12:21:53.153045 140294592194432 bert_sct_utils_v2.py:593]   name = module/bert/encoder/layer_11/intermediate/dense/kernel:0, shape = (768, 3072)\n"
     ]
    },
    {
     "name": "stdout",
     "output_type": "stream",
     "text": [
      "INFO:tensorflow:  name = module/bert/encoder/layer_11/intermediate/dense/bias:0, shape = (3072,)\n"
     ]
    },
    {
     "name": "stderr",
     "output_type": "stream",
     "text": [
      "I0607 12:21:53.158195 140294592194432 bert_sct_utils_v2.py:593]   name = module/bert/encoder/layer_11/intermediate/dense/bias:0, shape = (3072,)\n"
     ]
    },
    {
     "name": "stdout",
     "output_type": "stream",
     "text": [
      "INFO:tensorflow:  name = module/bert/encoder/layer_11/output/dense/kernel:0, shape = (3072, 768)\n"
     ]
    },
    {
     "name": "stderr",
     "output_type": "stream",
     "text": [
      "I0607 12:21:53.162440 140294592194432 bert_sct_utils_v2.py:593]   name = module/bert/encoder/layer_11/output/dense/kernel:0, shape = (3072, 768)\n"
     ]
    },
    {
     "name": "stdout",
     "output_type": "stream",
     "text": [
      "INFO:tensorflow:  name = module/bert/encoder/layer_11/output/dense/bias:0, shape = (768,)\n"
     ]
    },
    {
     "name": "stderr",
     "output_type": "stream",
     "text": [
      "I0607 12:21:53.167223 140294592194432 bert_sct_utils_v2.py:593]   name = module/bert/encoder/layer_11/output/dense/bias:0, shape = (768,)\n"
     ]
    },
    {
     "name": "stdout",
     "output_type": "stream",
     "text": [
      "INFO:tensorflow:  name = module/bert/encoder/layer_11/output/LayerNorm/beta:0, shape = (768,)\n"
     ]
    },
    {
     "name": "stderr",
     "output_type": "stream",
     "text": [
      "I0607 12:21:53.171669 140294592194432 bert_sct_utils_v2.py:593]   name = module/bert/encoder/layer_11/output/LayerNorm/beta:0, shape = (768,)\n"
     ]
    },
    {
     "name": "stdout",
     "output_type": "stream",
     "text": [
      "INFO:tensorflow:  name = module/bert/encoder/layer_11/output/LayerNorm/gamma:0, shape = (768,)\n"
     ]
    },
    {
     "name": "stderr",
     "output_type": "stream",
     "text": [
      "I0607 12:21:53.176900 140294592194432 bert_sct_utils_v2.py:593]   name = module/bert/encoder/layer_11/output/LayerNorm/gamma:0, shape = (768,)\n"
     ]
    },
    {
     "name": "stdout",
     "output_type": "stream",
     "text": [
      "INFO:tensorflow:  name = module/bert/pooler/dense/kernel:0, shape = (768, 768)\n"
     ]
    },
    {
     "name": "stderr",
     "output_type": "stream",
     "text": [
      "I0607 12:21:53.180307 140294592194432 bert_sct_utils_v2.py:593]   name = module/bert/pooler/dense/kernel:0, shape = (768, 768)\n"
     ]
    },
    {
     "name": "stdout",
     "output_type": "stream",
     "text": [
      "INFO:tensorflow:  name = module/bert/pooler/dense/bias:0, shape = (768,)\n"
     ]
    },
    {
     "name": "stderr",
     "output_type": "stream",
     "text": [
      "I0607 12:21:53.185967 140294592194432 bert_sct_utils_v2.py:593]   name = module/bert/pooler/dense/bias:0, shape = (768,)\n"
     ]
    },
    {
     "name": "stdout",
     "output_type": "stream",
     "text": [
      "INFO:tensorflow:  name = module/cls/predictions/transform/dense/kernel:0, shape = (768, 768)\n"
     ]
    },
    {
     "name": "stderr",
     "output_type": "stream",
     "text": [
      "I0607 12:21:53.190532 140294592194432 bert_sct_utils_v2.py:593]   name = module/cls/predictions/transform/dense/kernel:0, shape = (768, 768)\n"
     ]
    },
    {
     "name": "stdout",
     "output_type": "stream",
     "text": [
      "INFO:tensorflow:  name = module/cls/predictions/transform/dense/bias:0, shape = (768,)\n"
     ]
    },
    {
     "name": "stderr",
     "output_type": "stream",
     "text": [
      "I0607 12:21:53.194658 140294592194432 bert_sct_utils_v2.py:593]   name = module/cls/predictions/transform/dense/bias:0, shape = (768,)\n"
     ]
    },
    {
     "name": "stdout",
     "output_type": "stream",
     "text": [
      "INFO:tensorflow:  name = module/cls/predictions/transform/LayerNorm/beta:0, shape = (768,)\n"
     ]
    },
    {
     "name": "stderr",
     "output_type": "stream",
     "text": [
      "I0607 12:21:53.200838 140294592194432 bert_sct_utils_v2.py:593]   name = module/cls/predictions/transform/LayerNorm/beta:0, shape = (768,)\n"
     ]
    },
    {
     "name": "stdout",
     "output_type": "stream",
     "text": [
      "INFO:tensorflow:  name = module/cls/predictions/transform/LayerNorm/gamma:0, shape = (768,)\n"
     ]
    },
    {
     "name": "stderr",
     "output_type": "stream",
     "text": [
      "I0607 12:21:53.204922 140294592194432 bert_sct_utils_v2.py:593]   name = module/cls/predictions/transform/LayerNorm/gamma:0, shape = (768,)\n"
     ]
    },
    {
     "name": "stdout",
     "output_type": "stream",
     "text": [
      "INFO:tensorflow:  name = module/cls/predictions/output_bias:0, shape = (30522,)\n"
     ]
    },
    {
     "name": "stderr",
     "output_type": "stream",
     "text": [
      "I0607 12:21:53.209007 140294592194432 bert_sct_utils_v2.py:593]   name = module/cls/predictions/output_bias:0, shape = (30522,)\n"
     ]
    },
    {
     "name": "stdout",
     "output_type": "stream",
     "text": [
      "INFO:tensorflow:  name = output_weights:0, shape = (1, 768)\n"
     ]
    },
    {
     "name": "stderr",
     "output_type": "stream",
     "text": [
      "I0607 12:21:53.215508 140294592194432 bert_sct_utils_v2.py:593]   name = output_weights:0, shape = (1, 768)\n"
     ]
    },
    {
     "name": "stdout",
     "output_type": "stream",
     "text": [
      "INFO:tensorflow:  name = output_bias:0, shape = (1,)\n"
     ]
    },
    {
     "name": "stderr",
     "output_type": "stream",
     "text": [
      "I0607 12:21:53.221584 140294592194432 bert_sct_utils_v2.py:593]   name = output_bias:0, shape = (1,)\n",
      "/usr/local/lib/python3.6/dist-packages/tensorflow/python/ops/gradients_impl.py:110: UserWarning: Converting sparse IndexedSlices to a dense Tensor of unknown shape. This may consume a large amount of memory.\n",
      "  \"Converting sparse IndexedSlices to a dense Tensor of unknown shape. \"\n"
     ]
    },
    {
     "name": "stdout",
     "output_type": "stream",
     "text": [
      "INFO:tensorflow:Done calling model_fn.\n"
     ]
    },
    {
     "name": "stderr",
     "output_type": "stream",
     "text": [
      "I0607 12:22:05.174079 140294592194432 estimator.py:1113] Done calling model_fn.\n"
     ]
    },
    {
     "name": "stdout",
     "output_type": "stream",
     "text": [
      "INFO:tensorflow:Create CheckpointSaverHook.\n"
     ]
    },
    {
     "name": "stderr",
     "output_type": "stream",
     "text": [
      "I0607 12:22:05.177736 140294592194432 basic_session_run_hooks.py:527] Create CheckpointSaverHook.\n"
     ]
    },
    {
     "name": "stdout",
     "output_type": "stream",
     "text": [
      "INFO:tensorflow:Graph was finalized.\n"
     ]
    },
    {
     "name": "stderr",
     "output_type": "stream",
     "text": [
      "I0607 12:22:06.565576 140294592194432 monitored_session.py:222] Graph was finalized.\n"
     ]
    },
    {
     "name": "stdout",
     "output_type": "stream",
     "text": [
      "INFO:tensorflow:Restoring parameters from ./output/model.ckpt-5000\n"
     ]
    },
    {
     "name": "stderr",
     "output_type": "stream",
     "text": [
      "I0607 12:22:06.576299 140294592194432 saver.py:1270] Restoring parameters from ./output/model.ckpt-5000\n"
     ]
    },
    {
     "name": "stdout",
     "output_type": "stream",
     "text": [
      "WARNING:tensorflow:From /usr/local/lib/python3.6/dist-packages/tensorflow/python/training/saver.py:1070: get_checkpoint_mtimes (from tensorflow.python.training.checkpoint_management) is deprecated and will be removed in a future version.\n",
      "Instructions for updating:\n",
      "Use standard file utilities to get mtimes.\n"
     ]
    },
    {
     "name": "stderr",
     "output_type": "stream",
     "text": [
      "W0607 12:22:08.497839 140294592194432 deprecation.py:323] From /usr/local/lib/python3.6/dist-packages/tensorflow/python/training/saver.py:1070: get_checkpoint_mtimes (from tensorflow.python.training.checkpoint_management) is deprecated and will be removed in a future version.\n",
      "Instructions for updating:\n",
      "Use standard file utilities to get mtimes.\n"
     ]
    },
    {
     "name": "stdout",
     "output_type": "stream",
     "text": [
      "INFO:tensorflow:Running local_init_op.\n"
     ]
    },
    {
     "name": "stderr",
     "output_type": "stream",
     "text": [
      "I0607 12:22:09.032278 140294592194432 session_manager.py:491] Running local_init_op.\n"
     ]
    },
    {
     "name": "stdout",
     "output_type": "stream",
     "text": [
      "INFO:tensorflow:Done running local_init_op.\n"
     ]
    },
    {
     "name": "stderr",
     "output_type": "stream",
     "text": [
      "I0607 12:22:09.318996 140294592194432 session_manager.py:493] Done running local_init_op.\n"
     ]
    },
    {
     "name": "stdout",
     "output_type": "stream",
     "text": [
      "INFO:tensorflow:Saving checkpoints for 5000 into ./output/model.ckpt.\n"
     ]
    },
    {
     "name": "stderr",
     "output_type": "stream",
     "text": [
      "I0607 12:22:20.241895 140294592194432 basic_session_run_hooks.py:594] Saving checkpoints for 5000 into ./output/model.ckpt.\n"
     ]
    },
    {
     "name": "stdout",
     "output_type": "stream",
     "text": [
      "INFO:tensorflow:loss = -0.0, step = 5000\n"
     ]
    },
    {
     "name": "stderr",
     "output_type": "stream",
     "text": [
      "I0607 12:22:38.670281 140294592194432 basic_session_run_hooks.py:249] loss = -0.0, step = 5000\n"
     ]
    },
    {
     "name": "stdout",
     "output_type": "stream",
     "text": [
      "INFO:tensorflow:global_step/sec: 0.633218\n"
     ]
    },
    {
     "name": "stderr",
     "output_type": "stream",
     "text": [
      "I0607 12:25:16.593455 140294592194432 basic_session_run_hooks.py:680] global_step/sec: 0.633218\n"
     ]
    },
    {
     "name": "stdout",
     "output_type": "stream",
     "text": [
      "INFO:tensorflow:loss = 5.960453e-07, step = 5100 (157.929 sec)\n"
     ]
    },
    {
     "name": "stderr",
     "output_type": "stream",
     "text": [
      "I0607 12:25:16.599442 140294592194432 basic_session_run_hooks.py:247] loss = 5.960453e-07, step = 5100 (157.929 sec)\n"
     ]
    },
    {
     "name": "stdout",
     "output_type": "stream",
     "text": [
      "INFO:tensorflow:global_step/sec: 0.709371\n"
     ]
    },
    {
     "name": "stderr",
     "output_type": "stream",
     "text": [
      "I0607 12:27:37.563494 140294592194432 basic_session_run_hooks.py:680] global_step/sec: 0.709371\n"
     ]
    },
    {
     "name": "stdout",
     "output_type": "stream",
     "text": [
      "INFO:tensorflow:loss = 2.6822062e-07, step = 5200 (140.966 sec)\n"
     ]
    },
    {
     "name": "stderr",
     "output_type": "stream",
     "text": [
      "I0607 12:27:37.565516 140294592194432 basic_session_run_hooks.py:247] loss = 2.6822062e-07, step = 5200 (140.966 sec)\n"
     ]
    },
    {
     "name": "stdout",
     "output_type": "stream",
     "text": [
      "INFO:tensorflow:Saving checkpoints for 5233 into ./output/model.ckpt.\n"
     ]
    },
    {
     "name": "stderr",
     "output_type": "stream",
     "text": [
      "I0607 12:28:22.682914 140294592194432 basic_session_run_hooks.py:594] Saving checkpoints for 5233 into ./output/model.ckpt.\n"
     ]
    },
    {
     "name": "stdout",
     "output_type": "stream",
     "text": [
      "INFO:tensorflow:Loss for final step: 9.983762e-07.\n"
     ]
    },
    {
     "name": "stderr",
     "output_type": "stream",
     "text": [
      "I0607 12:28:32.792158 140294592194432 estimator.py:359] Loss for final step: 9.983762e-07.\n"
     ]
    },
    {
     "name": "stdout",
     "output_type": "stream",
     "text": [
      "INFO:tensorflow:Writing example 0 of 1871\n"
     ]
    },
    {
     "name": "stderr",
     "output_type": "stream",
     "text": [
      "I0607 12:28:34.563381 140294592194432 bert_sct_utils_v2.py:322] Writing example 0 of 1871\n"
     ]
    },
    {
     "name": "stdout",
     "output_type": "stream",
     "text": [
      "INFO:tensorflow:*** Example ***\n"
     ]
    },
    {
     "name": "stderr",
     "output_type": "stream",
     "text": [
      "I0607 12:28:34.570738 140294592194432 bert_sct_utils_v2.py:299] *** Example ***\n"
     ]
    },
    {
     "name": "stdout",
     "output_type": "stream",
     "text": [
      "INFO:tensorflow:unique_id: eval-ffe078d1-6744-497d-bf45-e5df0bdfee66\n"
     ]
    },
    {
     "name": "stderr",
     "output_type": "stream",
     "text": [
      "I0607 12:28:34.573249 140294592194432 bert_sct_utils_v2.py:300] unique_id: eval-ffe078d1-6744-497d-bf45-e5df0bdfee66\n"
     ]
    },
    {
     "name": "stdout",
     "output_type": "stream",
     "text": [
      "INFO:tensorflow:tokens: [CLS] sarah was at home when her power was shut off . she had no money to pay the late bill and fees . she contacted a charity in town . she explained the situation . [SEP] a charity gave sarah money to pay her power bill . [SEP]\n"
     ]
    },
    {
     "name": "stderr",
     "output_type": "stream",
     "text": [
      "I0607 12:28:34.576020 140294592194432 bert_sct_utils_v2.py:301] tokens: [CLS] sarah was at home when her power was shut off . she had no money to pay the late bill and fees . she contacted a charity in town . she explained the situation . [SEP] a charity gave sarah money to pay her power bill . [SEP]\n"
     ]
    },
    {
     "name": "stdout",
     "output_type": "stream",
     "text": [
      "INFO:tensorflow:input_ids: 101 4532 2001 2012 2188 2043 2014 2373 2001 3844 2125 1012 2016 2018 2053 2769 2000 3477 1996 2397 3021 1998 9883 1012 2016 11925 1037 5952 1999 2237 1012 2016 4541 1996 3663 1012 102 1037 5952 2435 4532 2769 2000 3477 2014 2373 3021 1012 102 0 0 0 0 0 0 0 0 0 0 0 0 0 0 0 0 0 0 0 0 0 0 0 0 0 0 0 0 0 0 0 0 0 0 0 0 0 0 0 0 0 0 0 0 0 0 0 0 0 0 0 0 0 0 0 0 0 0 0 0 0 0 0 0 0 0 0 0 0 0 0 0 0 0 0 0 0 0 0 0 0 0 0 0 0 0 0 0 0 0 0 0 0 0 0 0 0 0 0 0 0 0 0 0 0 0 0 0 0 0 0 0 0 0 0 0 0 0 0 0 0 0 0 0 0 0 0 0 0 0 0 0 0 0 0 0 0 0 0 0 0 0 0 0 0 0 0 0 0 0 0 0 0 0 0 0 0 0 0 0 0 0 0 0 0 0 0 0 0 0 0 0 0 0 0 0 0 0 0 0 0 0 0 0 0 0 0 0 0 0 0 0 0 0 0 0 0 0 0 0 0 0 0 0 0 0 0 0 0 0 0 0 0 0 0 0 0 0 0 0 0 0 0 0 0 0 0 0 0 0 0 0 0 0 0 0 0 0 0 0 0 0 0 0 0 0 0 0 0 0 0 0 0 0 0 0 0 0 0 0 0 0 0 0 0 0 0 0 0 0 0 0 0 0 0 0 0 0 0 0 0 0 0 0 0 0 0 0 0 0 0 0 0 0 0 0 0 0 0 0 0 0 0 0 0 0 0 0 0 0 0 0 0 0 0 0 0 0 0 0 0 0 0 0 0 0 0 0 0 0 0 0 0 0 0 0 0 0 0 0 0 0 0 0 0 0 0 0 0 0 0\n"
     ]
    },
    {
     "name": "stderr",
     "output_type": "stream",
     "text": [
      "I0607 12:28:34.579342 140294592194432 bert_sct_utils_v2.py:302] input_ids: 101 4532 2001 2012 2188 2043 2014 2373 2001 3844 2125 1012 2016 2018 2053 2769 2000 3477 1996 2397 3021 1998 9883 1012 2016 11925 1037 5952 1999 2237 1012 2016 4541 1996 3663 1012 102 1037 5952 2435 4532 2769 2000 3477 2014 2373 3021 1012 102 0 0 0 0 0 0 0 0 0 0 0 0 0 0 0 0 0 0 0 0 0 0 0 0 0 0 0 0 0 0 0 0 0 0 0 0 0 0 0 0 0 0 0 0 0 0 0 0 0 0 0 0 0 0 0 0 0 0 0 0 0 0 0 0 0 0 0 0 0 0 0 0 0 0 0 0 0 0 0 0 0 0 0 0 0 0 0 0 0 0 0 0 0 0 0 0 0 0 0 0 0 0 0 0 0 0 0 0 0 0 0 0 0 0 0 0 0 0 0 0 0 0 0 0 0 0 0 0 0 0 0 0 0 0 0 0 0 0 0 0 0 0 0 0 0 0 0 0 0 0 0 0 0 0 0 0 0 0 0 0 0 0 0 0 0 0 0 0 0 0 0 0 0 0 0 0 0 0 0 0 0 0 0 0 0 0 0 0 0 0 0 0 0 0 0 0 0 0 0 0 0 0 0 0 0 0 0 0 0 0 0 0 0 0 0 0 0 0 0 0 0 0 0 0 0 0 0 0 0 0 0 0 0 0 0 0 0 0 0 0 0 0 0 0 0 0 0 0 0 0 0 0 0 0 0 0 0 0 0 0 0 0 0 0 0 0 0 0 0 0 0 0 0 0 0 0 0 0 0 0 0 0 0 0 0 0 0 0 0 0 0 0 0 0 0 0 0 0 0 0 0 0 0 0 0 0 0 0 0 0 0 0 0 0 0 0 0 0 0 0 0 0 0 0 0 0 0 0 0 0 0 0 0 0 0 0 0 0 0 0 0 0 0 0 0 0 0 0 0 0 0\n"
     ]
    },
    {
     "name": "stdout",
     "output_type": "stream",
     "text": [
      "INFO:tensorflow:input_mask: 1 1 1 1 1 1 1 1 1 1 1 1 1 1 1 1 1 1 1 1 1 1 1 1 1 1 1 1 1 1 1 1 1 1 1 1 1 1 1 1 1 1 1 1 1 1 1 1 1 0 0 0 0 0 0 0 0 0 0 0 0 0 0 0 0 0 0 0 0 0 0 0 0 0 0 0 0 0 0 0 0 0 0 0 0 0 0 0 0 0 0 0 0 0 0 0 0 0 0 0 0 0 0 0 0 0 0 0 0 0 0 0 0 0 0 0 0 0 0 0 0 0 0 0 0 0 0 0 0 0 0 0 0 0 0 0 0 0 0 0 0 0 0 0 0 0 0 0 0 0 0 0 0 0 0 0 0 0 0 0 0 0 0 0 0 0 0 0 0 0 0 0 0 0 0 0 0 0 0 0 0 0 0 0 0 0 0 0 0 0 0 0 0 0 0 0 0 0 0 0 0 0 0 0 0 0 0 0 0 0 0 0 0 0 0 0 0 0 0 0 0 0 0 0 0 0 0 0 0 0 0 0 0 0 0 0 0 0 0 0 0 0 0 0 0 0 0 0 0 0 0 0 0 0 0 0 0 0 0 0 0 0 0 0 0 0 0 0 0 0 0 0 0 0 0 0 0 0 0 0 0 0 0 0 0 0 0 0 0 0 0 0 0 0 0 0 0 0 0 0 0 0 0 0 0 0 0 0 0 0 0 0 0 0 0 0 0 0 0 0 0 0 0 0 0 0 0 0 0 0 0 0 0 0 0 0 0 0 0 0 0 0 0 0 0 0 0 0 0 0 0 0 0 0 0 0 0 0 0 0 0 0 0 0 0 0 0 0 0 0 0 0 0 0 0 0 0 0 0 0 0 0 0 0 0 0 0 0 0 0 0 0 0 0 0 0 0 0 0 0\n"
     ]
    },
    {
     "name": "stderr",
     "output_type": "stream",
     "text": [
      "I0607 12:28:34.582367 140294592194432 bert_sct_utils_v2.py:303] input_mask: 1 1 1 1 1 1 1 1 1 1 1 1 1 1 1 1 1 1 1 1 1 1 1 1 1 1 1 1 1 1 1 1 1 1 1 1 1 1 1 1 1 1 1 1 1 1 1 1 1 0 0 0 0 0 0 0 0 0 0 0 0 0 0 0 0 0 0 0 0 0 0 0 0 0 0 0 0 0 0 0 0 0 0 0 0 0 0 0 0 0 0 0 0 0 0 0 0 0 0 0 0 0 0 0 0 0 0 0 0 0 0 0 0 0 0 0 0 0 0 0 0 0 0 0 0 0 0 0 0 0 0 0 0 0 0 0 0 0 0 0 0 0 0 0 0 0 0 0 0 0 0 0 0 0 0 0 0 0 0 0 0 0 0 0 0 0 0 0 0 0 0 0 0 0 0 0 0 0 0 0 0 0 0 0 0 0 0 0 0 0 0 0 0 0 0 0 0 0 0 0 0 0 0 0 0 0 0 0 0 0 0 0 0 0 0 0 0 0 0 0 0 0 0 0 0 0 0 0 0 0 0 0 0 0 0 0 0 0 0 0 0 0 0 0 0 0 0 0 0 0 0 0 0 0 0 0 0 0 0 0 0 0 0 0 0 0 0 0 0 0 0 0 0 0 0 0 0 0 0 0 0 0 0 0 0 0 0 0 0 0 0 0 0 0 0 0 0 0 0 0 0 0 0 0 0 0 0 0 0 0 0 0 0 0 0 0 0 0 0 0 0 0 0 0 0 0 0 0 0 0 0 0 0 0 0 0 0 0 0 0 0 0 0 0 0 0 0 0 0 0 0 0 0 0 0 0 0 0 0 0 0 0 0 0 0 0 0 0 0 0 0 0 0 0 0 0 0 0 0 0 0 0 0 0 0 0 0 0 0 0 0 0 0 0 0 0 0 0 0 0\n"
     ]
    },
    {
     "name": "stdout",
     "output_type": "stream",
     "text": [
      "INFO:tensorflow:segment_ids: 0 0 0 0 0 0 0 0 0 0 0 0 0 0 0 0 0 0 0 0 0 0 0 0 0 0 0 0 0 0 0 0 0 0 0 0 0 1 1 1 1 1 1 1 1 1 1 1 1 0 0 0 0 0 0 0 0 0 0 0 0 0 0 0 0 0 0 0 0 0 0 0 0 0 0 0 0 0 0 0 0 0 0 0 0 0 0 0 0 0 0 0 0 0 0 0 0 0 0 0 0 0 0 0 0 0 0 0 0 0 0 0 0 0 0 0 0 0 0 0 0 0 0 0 0 0 0 0 0 0 0 0 0 0 0 0 0 0 0 0 0 0 0 0 0 0 0 0 0 0 0 0 0 0 0 0 0 0 0 0 0 0 0 0 0 0 0 0 0 0 0 0 0 0 0 0 0 0 0 0 0 0 0 0 0 0 0 0 0 0 0 0 0 0 0 0 0 0 0 0 0 0 0 0 0 0 0 0 0 0 0 0 0 0 0 0 0 0 0 0 0 0 0 0 0 0 0 0 0 0 0 0 0 0 0 0 0 0 0 0 0 0 0 0 0 0 0 0 0 0 0 0 0 0 0 0 0 0 0 0 0 0 0 0 0 0 0 0 0 0 0 0 0 0 0 0 0 0 0 0 0 0 0 0 0 0 0 0 0 0 0 0 0 0 0 0 0 0 0 0 0 0 0 0 0 0 0 0 0 0 0 0 0 0 0 0 0 0 0 0 0 0 0 0 0 0 0 0 0 0 0 0 0 0 0 0 0 0 0 0 0 0 0 0 0 0 0 0 0 0 0 0 0 0 0 0 0 0 0 0 0 0 0 0 0 0 0 0 0 0 0 0 0 0 0 0 0 0 0 0 0 0 0 0 0 0 0 0 0 0 0 0 0 0 0 0 0 0 0 0\n"
     ]
    },
    {
     "name": "stderr",
     "output_type": "stream",
     "text": [
      "I0607 12:28:34.585593 140294592194432 bert_sct_utils_v2.py:304] segment_ids: 0 0 0 0 0 0 0 0 0 0 0 0 0 0 0 0 0 0 0 0 0 0 0 0 0 0 0 0 0 0 0 0 0 0 0 0 0 1 1 1 1 1 1 1 1 1 1 1 1 0 0 0 0 0 0 0 0 0 0 0 0 0 0 0 0 0 0 0 0 0 0 0 0 0 0 0 0 0 0 0 0 0 0 0 0 0 0 0 0 0 0 0 0 0 0 0 0 0 0 0 0 0 0 0 0 0 0 0 0 0 0 0 0 0 0 0 0 0 0 0 0 0 0 0 0 0 0 0 0 0 0 0 0 0 0 0 0 0 0 0 0 0 0 0 0 0 0 0 0 0 0 0 0 0 0 0 0 0 0 0 0 0 0 0 0 0 0 0 0 0 0 0 0 0 0 0 0 0 0 0 0 0 0 0 0 0 0 0 0 0 0 0 0 0 0 0 0 0 0 0 0 0 0 0 0 0 0 0 0 0 0 0 0 0 0 0 0 0 0 0 0 0 0 0 0 0 0 0 0 0 0 0 0 0 0 0 0 0 0 0 0 0 0 0 0 0 0 0 0 0 0 0 0 0 0 0 0 0 0 0 0 0 0 0 0 0 0 0 0 0 0 0 0 0 0 0 0 0 0 0 0 0 0 0 0 0 0 0 0 0 0 0 0 0 0 0 0 0 0 0 0 0 0 0 0 0 0 0 0 0 0 0 0 0 0 0 0 0 0 0 0 0 0 0 0 0 0 0 0 0 0 0 0 0 0 0 0 0 0 0 0 0 0 0 0 0 0 0 0 0 0 0 0 0 0 0 0 0 0 0 0 0 0 0 0 0 0 0 0 0 0 0 0 0 0 0 0 0 0 0 0 0 0 0 0 0 0 0 0 0 0 0 0 0 0 0 0 0 0 0\n"
     ]
    },
    {
     "name": "stdout",
     "output_type": "stream",
     "text": [
      "INFO:tensorflow:label: 1 (id = 1)\n"
     ]
    },
    {
     "name": "stderr",
     "output_type": "stream",
     "text": [
      "I0607 12:28:34.588342 140294592194432 bert_sct_utils_v2.py:305] label: 1 (id = 1)\n"
     ]
    },
    {
     "name": "stdout",
     "output_type": "stream",
     "text": [
      "INFO:tensorflow:sentiment: (20,), [ 0.      0.      1.      0.     -0.3818  0.286   0.714   0.      0.4215\n",
      "  0.      0.588   0.412   0.      0.      1.      0.      0.34    0.125\n",
      "  0.625   0.25  ]\n"
     ]
    },
    {
     "name": "stderr",
     "output_type": "stream",
     "text": [
      "I0607 12:28:34.591838 140294592194432 bert_sct_utils_v2.py:306] sentiment: (20,), [ 0.      0.      1.      0.     -0.3818  0.286   0.714   0.      0.4215\n",
      "  0.      0.588   0.412   0.      0.      1.      0.      0.34    0.125\n",
      "  0.625   0.25  ]\n"
     ]
    },
    {
     "name": "stdout",
     "output_type": "stream",
     "text": [
      "INFO:tensorflow:cs_dist: (4,), [1. 1. 1. 1.]\n"
     ]
    },
    {
     "name": "stderr",
     "output_type": "stream",
     "text": [
      "I0607 12:28:34.594842 140294592194432 bert_sct_utils_v2.py:307] cs_dist: (4,), [1. 1. 1. 1.]\n"
     ]
    },
    {
     "name": "stdout",
     "output_type": "stream",
     "text": [
      "INFO:tensorflow:*** Example ***\n"
     ]
    },
    {
     "name": "stderr",
     "output_type": "stream",
     "text": [
      "I0607 12:28:34.600270 140294592194432 bert_sct_utils_v2.py:299] *** Example ***\n"
     ]
    },
    {
     "name": "stdout",
     "output_type": "stream",
     "text": [
      "INFO:tensorflow:unique_id: eval-ffe078d1-6744-497d-bf45-e5df0bdfee66\n"
     ]
    },
    {
     "name": "stderr",
     "output_type": "stream",
     "text": [
      "I0607 12:28:34.603190 140294592194432 bert_sct_utils_v2.py:300] unique_id: eval-ffe078d1-6744-497d-bf45-e5df0bdfee66\n"
     ]
    },
    {
     "name": "stdout",
     "output_type": "stream",
     "text": [
      "INFO:tensorflow:tokens: [CLS] sarah was at home when her power was shut off . she had no money to pay the late bill and fees . she contacted a charity in town . she explained the situation . [SEP] sarah didn ' t pay her bill , so her power was shut off . [SEP]\n"
     ]
    },
    {
     "name": "stderr",
     "output_type": "stream",
     "text": [
      "I0607 12:28:34.606336 140294592194432 bert_sct_utils_v2.py:301] tokens: [CLS] sarah was at home when her power was shut off . she had no money to pay the late bill and fees . she contacted a charity in town . she explained the situation . [SEP] sarah didn ' t pay her bill , so her power was shut off . [SEP]\n"
     ]
    },
    {
     "name": "stdout",
     "output_type": "stream",
     "text": [
      "INFO:tensorflow:input_ids: 101 4532 2001 2012 2188 2043 2014 2373 2001 3844 2125 1012 2016 2018 2053 2769 2000 3477 1996 2397 3021 1998 9883 1012 2016 11925 1037 5952 1999 2237 1012 2016 4541 1996 3663 1012 102 4532 2134 1005 1056 3477 2014 3021 1010 2061 2014 2373 2001 3844 2125 1012 102 0 0 0 0 0 0 0 0 0 0 0 0 0 0 0 0 0 0 0 0 0 0 0 0 0 0 0 0 0 0 0 0 0 0 0 0 0 0 0 0 0 0 0 0 0 0 0 0 0 0 0 0 0 0 0 0 0 0 0 0 0 0 0 0 0 0 0 0 0 0 0 0 0 0 0 0 0 0 0 0 0 0 0 0 0 0 0 0 0 0 0 0 0 0 0 0 0 0 0 0 0 0 0 0 0 0 0 0 0 0 0 0 0 0 0 0 0 0 0 0 0 0 0 0 0 0 0 0 0 0 0 0 0 0 0 0 0 0 0 0 0 0 0 0 0 0 0 0 0 0 0 0 0 0 0 0 0 0 0 0 0 0 0 0 0 0 0 0 0 0 0 0 0 0 0 0 0 0 0 0 0 0 0 0 0 0 0 0 0 0 0 0 0 0 0 0 0 0 0 0 0 0 0 0 0 0 0 0 0 0 0 0 0 0 0 0 0 0 0 0 0 0 0 0 0 0 0 0 0 0 0 0 0 0 0 0 0 0 0 0 0 0 0 0 0 0 0 0 0 0 0 0 0 0 0 0 0 0 0 0 0 0 0 0 0 0 0 0 0 0 0 0 0 0 0 0 0 0 0 0 0 0 0 0 0 0 0 0 0 0 0 0 0 0 0 0 0 0 0 0 0 0 0 0 0 0 0 0 0 0 0 0 0 0 0 0 0 0 0 0 0 0 0 0 0 0 0 0 0 0 0 0 0 0 0 0 0 0 0 0 0 0 0 0 0 0 0\n"
     ]
    },
    {
     "name": "stderr",
     "output_type": "stream",
     "text": [
      "I0607 12:28:34.609421 140294592194432 bert_sct_utils_v2.py:302] input_ids: 101 4532 2001 2012 2188 2043 2014 2373 2001 3844 2125 1012 2016 2018 2053 2769 2000 3477 1996 2397 3021 1998 9883 1012 2016 11925 1037 5952 1999 2237 1012 2016 4541 1996 3663 1012 102 4532 2134 1005 1056 3477 2014 3021 1010 2061 2014 2373 2001 3844 2125 1012 102 0 0 0 0 0 0 0 0 0 0 0 0 0 0 0 0 0 0 0 0 0 0 0 0 0 0 0 0 0 0 0 0 0 0 0 0 0 0 0 0 0 0 0 0 0 0 0 0 0 0 0 0 0 0 0 0 0 0 0 0 0 0 0 0 0 0 0 0 0 0 0 0 0 0 0 0 0 0 0 0 0 0 0 0 0 0 0 0 0 0 0 0 0 0 0 0 0 0 0 0 0 0 0 0 0 0 0 0 0 0 0 0 0 0 0 0 0 0 0 0 0 0 0 0 0 0 0 0 0 0 0 0 0 0 0 0 0 0 0 0 0 0 0 0 0 0 0 0 0 0 0 0 0 0 0 0 0 0 0 0 0 0 0 0 0 0 0 0 0 0 0 0 0 0 0 0 0 0 0 0 0 0 0 0 0 0 0 0 0 0 0 0 0 0 0 0 0 0 0 0 0 0 0 0 0 0 0 0 0 0 0 0 0 0 0 0 0 0 0 0 0 0 0 0 0 0 0 0 0 0 0 0 0 0 0 0 0 0 0 0 0 0 0 0 0 0 0 0 0 0 0 0 0 0 0 0 0 0 0 0 0 0 0 0 0 0 0 0 0 0 0 0 0 0 0 0 0 0 0 0 0 0 0 0 0 0 0 0 0 0 0 0 0 0 0 0 0 0 0 0 0 0 0 0 0 0 0 0 0 0 0 0 0 0 0 0 0 0 0 0 0 0 0 0 0 0 0 0 0 0 0 0 0 0 0 0 0 0 0 0 0 0 0 0 0 0 0\n"
     ]
    },
    {
     "name": "stdout",
     "output_type": "stream",
     "text": [
      "INFO:tensorflow:input_mask: 1 1 1 1 1 1 1 1 1 1 1 1 1 1 1 1 1 1 1 1 1 1 1 1 1 1 1 1 1 1 1 1 1 1 1 1 1 1 1 1 1 1 1 1 1 1 1 1 1 1 1 1 1 0 0 0 0 0 0 0 0 0 0 0 0 0 0 0 0 0 0 0 0 0 0 0 0 0 0 0 0 0 0 0 0 0 0 0 0 0 0 0 0 0 0 0 0 0 0 0 0 0 0 0 0 0 0 0 0 0 0 0 0 0 0 0 0 0 0 0 0 0 0 0 0 0 0 0 0 0 0 0 0 0 0 0 0 0 0 0 0 0 0 0 0 0 0 0 0 0 0 0 0 0 0 0 0 0 0 0 0 0 0 0 0 0 0 0 0 0 0 0 0 0 0 0 0 0 0 0 0 0 0 0 0 0 0 0 0 0 0 0 0 0 0 0 0 0 0 0 0 0 0 0 0 0 0 0 0 0 0 0 0 0 0 0 0 0 0 0 0 0 0 0 0 0 0 0 0 0 0 0 0 0 0 0 0 0 0 0 0 0 0 0 0 0 0 0 0 0 0 0 0 0 0 0 0 0 0 0 0 0 0 0 0 0 0 0 0 0 0 0 0 0 0 0 0 0 0 0 0 0 0 0 0 0 0 0 0 0 0 0 0 0 0 0 0 0 0 0 0 0 0 0 0 0 0 0 0 0 0 0 0 0 0 0 0 0 0 0 0 0 0 0 0 0 0 0 0 0 0 0 0 0 0 0 0 0 0 0 0 0 0 0 0 0 0 0 0 0 0 0 0 0 0 0 0 0 0 0 0 0 0 0 0 0 0 0 0 0 0 0 0 0 0 0 0 0 0 0 0 0 0 0 0 0 0 0 0 0 0 0 0 0 0 0 0 0 0 0\n"
     ]
    },
    {
     "name": "stderr",
     "output_type": "stream",
     "text": [
      "I0607 12:28:34.612232 140294592194432 bert_sct_utils_v2.py:303] input_mask: 1 1 1 1 1 1 1 1 1 1 1 1 1 1 1 1 1 1 1 1 1 1 1 1 1 1 1 1 1 1 1 1 1 1 1 1 1 1 1 1 1 1 1 1 1 1 1 1 1 1 1 1 1 0 0 0 0 0 0 0 0 0 0 0 0 0 0 0 0 0 0 0 0 0 0 0 0 0 0 0 0 0 0 0 0 0 0 0 0 0 0 0 0 0 0 0 0 0 0 0 0 0 0 0 0 0 0 0 0 0 0 0 0 0 0 0 0 0 0 0 0 0 0 0 0 0 0 0 0 0 0 0 0 0 0 0 0 0 0 0 0 0 0 0 0 0 0 0 0 0 0 0 0 0 0 0 0 0 0 0 0 0 0 0 0 0 0 0 0 0 0 0 0 0 0 0 0 0 0 0 0 0 0 0 0 0 0 0 0 0 0 0 0 0 0 0 0 0 0 0 0 0 0 0 0 0 0 0 0 0 0 0 0 0 0 0 0 0 0 0 0 0 0 0 0 0 0 0 0 0 0 0 0 0 0 0 0 0 0 0 0 0 0 0 0 0 0 0 0 0 0 0 0 0 0 0 0 0 0 0 0 0 0 0 0 0 0 0 0 0 0 0 0 0 0 0 0 0 0 0 0 0 0 0 0 0 0 0 0 0 0 0 0 0 0 0 0 0 0 0 0 0 0 0 0 0 0 0 0 0 0 0 0 0 0 0 0 0 0 0 0 0 0 0 0 0 0 0 0 0 0 0 0 0 0 0 0 0 0 0 0 0 0 0 0 0 0 0 0 0 0 0 0 0 0 0 0 0 0 0 0 0 0 0 0 0 0 0 0 0 0 0 0 0 0 0 0 0 0 0 0 0 0 0 0 0 0 0 0 0 0 0 0 0 0 0 0 0 0 0\n"
     ]
    },
    {
     "name": "stdout",
     "output_type": "stream",
     "text": [
      "INFO:tensorflow:segment_ids: 0 0 0 0 0 0 0 0 0 0 0 0 0 0 0 0 0 0 0 0 0 0 0 0 0 0 0 0 0 0 0 0 0 0 0 0 0 1 1 1 1 1 1 1 1 1 1 1 1 1 1 1 1 0 0 0 0 0 0 0 0 0 0 0 0 0 0 0 0 0 0 0 0 0 0 0 0 0 0 0 0 0 0 0 0 0 0 0 0 0 0 0 0 0 0 0 0 0 0 0 0 0 0 0 0 0 0 0 0 0 0 0 0 0 0 0 0 0 0 0 0 0 0 0 0 0 0 0 0 0 0 0 0 0 0 0 0 0 0 0 0 0 0 0 0 0 0 0 0 0 0 0 0 0 0 0 0 0 0 0 0 0 0 0 0 0 0 0 0 0 0 0 0 0 0 0 0 0 0 0 0 0 0 0 0 0 0 0 0 0 0 0 0 0 0 0 0 0 0 0 0 0 0 0 0 0 0 0 0 0 0 0 0 0 0 0 0 0 0 0 0 0 0 0 0 0 0 0 0 0 0 0 0 0 0 0 0 0 0 0 0 0 0 0 0 0 0 0 0 0 0 0 0 0 0 0 0 0 0 0 0 0 0 0 0 0 0 0 0 0 0 0 0 0 0 0 0 0 0 0 0 0 0 0 0 0 0 0 0 0 0 0 0 0 0 0 0 0 0 0 0 0 0 0 0 0 0 0 0 0 0 0 0 0 0 0 0 0 0 0 0 0 0 0 0 0 0 0 0 0 0 0 0 0 0 0 0 0 0 0 0 0 0 0 0 0 0 0 0 0 0 0 0 0 0 0 0 0 0 0 0 0 0 0 0 0 0 0 0 0 0 0 0 0 0 0 0 0 0 0 0 0 0 0 0 0 0 0 0 0 0 0 0 0 0 0 0 0 0 0\n"
     ]
    },
    {
     "name": "stderr",
     "output_type": "stream",
     "text": [
      "I0607 12:28:34.615351 140294592194432 bert_sct_utils_v2.py:304] segment_ids: 0 0 0 0 0 0 0 0 0 0 0 0 0 0 0 0 0 0 0 0 0 0 0 0 0 0 0 0 0 0 0 0 0 0 0 0 0 1 1 1 1 1 1 1 1 1 1 1 1 1 1 1 1 0 0 0 0 0 0 0 0 0 0 0 0 0 0 0 0 0 0 0 0 0 0 0 0 0 0 0 0 0 0 0 0 0 0 0 0 0 0 0 0 0 0 0 0 0 0 0 0 0 0 0 0 0 0 0 0 0 0 0 0 0 0 0 0 0 0 0 0 0 0 0 0 0 0 0 0 0 0 0 0 0 0 0 0 0 0 0 0 0 0 0 0 0 0 0 0 0 0 0 0 0 0 0 0 0 0 0 0 0 0 0 0 0 0 0 0 0 0 0 0 0 0 0 0 0 0 0 0 0 0 0 0 0 0 0 0 0 0 0 0 0 0 0 0 0 0 0 0 0 0 0 0 0 0 0 0 0 0 0 0 0 0 0 0 0 0 0 0 0 0 0 0 0 0 0 0 0 0 0 0 0 0 0 0 0 0 0 0 0 0 0 0 0 0 0 0 0 0 0 0 0 0 0 0 0 0 0 0 0 0 0 0 0 0 0 0 0 0 0 0 0 0 0 0 0 0 0 0 0 0 0 0 0 0 0 0 0 0 0 0 0 0 0 0 0 0 0 0 0 0 0 0 0 0 0 0 0 0 0 0 0 0 0 0 0 0 0 0 0 0 0 0 0 0 0 0 0 0 0 0 0 0 0 0 0 0 0 0 0 0 0 0 0 0 0 0 0 0 0 0 0 0 0 0 0 0 0 0 0 0 0 0 0 0 0 0 0 0 0 0 0 0 0 0 0 0 0 0 0 0 0 0 0 0 0 0 0 0 0 0 0 0 0 0 0 0 0\n"
     ]
    },
    {
     "name": "stdout",
     "output_type": "stream",
     "text": [
      "INFO:tensorflow:label: 0 (id = 0)\n"
     ]
    },
    {
     "name": "stderr",
     "output_type": "stream",
     "text": [
      "I0607 12:28:34.618144 140294592194432 bert_sct_utils_v2.py:305] label: 0 (id = 0)\n"
     ]
    },
    {
     "name": "stdout",
     "output_type": "stream",
     "text": [
      "INFO:tensorflow:sentiment: (20,), [ 0.      0.      1.      0.     -0.3818  0.286   0.714   0.      0.4215\n",
      "  0.      0.588   0.412   0.      0.      1.      0.      0.0762  0.\n",
      "  0.885   0.115 ]\n"
     ]
    },
    {
     "name": "stderr",
     "output_type": "stream",
     "text": [
      "I0607 12:28:34.621392 140294592194432 bert_sct_utils_v2.py:306] sentiment: (20,), [ 0.      0.      1.      0.     -0.3818  0.286   0.714   0.      0.4215\n",
      "  0.      0.588   0.412   0.      0.      1.      0.      0.0762  0.\n",
      "  0.885   0.115 ]\n"
     ]
    },
    {
     "name": "stdout",
     "output_type": "stream",
     "text": [
      "INFO:tensorflow:cs_dist: (4,), [-1. -1. -1. -1.]\n"
     ]
    },
    {
     "name": "stderr",
     "output_type": "stream",
     "text": [
      "I0607 12:28:34.624799 140294592194432 bert_sct_utils_v2.py:307] cs_dist: (4,), [-1. -1. -1. -1.]\n"
     ]
    },
    {
     "name": "stdout",
     "output_type": "stream",
     "text": [
      "INFO:tensorflow:*** Example ***\n"
     ]
    },
    {
     "name": "stderr",
     "output_type": "stream",
     "text": [
      "I0607 12:28:34.631449 140294592194432 bert_sct_utils_v2.py:299] *** Example ***\n"
     ]
    },
    {
     "name": "stdout",
     "output_type": "stream",
     "text": [
      "INFO:tensorflow:unique_id: eval-ffdd4862-65ae-4b18-b13a-97580a0b2318\n"
     ]
    },
    {
     "name": "stderr",
     "output_type": "stream",
     "text": [
      "I0607 12:28:34.634402 140294592194432 bert_sct_utils_v2.py:300] unique_id: eval-ffdd4862-65ae-4b18-b13a-97580a0b2318\n"
     ]
    },
    {
     "name": "stdout",
     "output_type": "stream",
     "text": [
      "INFO:tensorflow:tokens: [CLS] sara came back from the market . and she was eager to try the new coffee that she bought . after she finished preparing it , she drank away . sara was amazed by how smooth and rich it tasted . [SEP] sara decided this was her new favorite coffee . [SEP]\n"
     ]
    },
    {
     "name": "stderr",
     "output_type": "stream",
     "text": [
      "I0607 12:28:34.638479 140294592194432 bert_sct_utils_v2.py:301] tokens: [CLS] sara came back from the market . and she was eager to try the new coffee that she bought . after she finished preparing it , she drank away . sara was amazed by how smooth and rich it tasted . [SEP] sara decided this was her new favorite coffee . [SEP]\n"
     ]
    },
    {
     "name": "stdout",
     "output_type": "stream",
     "text": [
      "INFO:tensorflow:input_ids: 101 7354 2234 2067 2013 1996 3006 1012 1998 2016 2001 9461 2000 3046 1996 2047 4157 2008 2016 4149 1012 2044 2016 2736 8225 2009 1010 2016 10749 2185 1012 7354 2001 15261 2011 2129 5744 1998 4138 2009 12595 1012 102 7354 2787 2023 2001 2014 2047 5440 4157 1012 102 0 0 0 0 0 0 0 0 0 0 0 0 0 0 0 0 0 0 0 0 0 0 0 0 0 0 0 0 0 0 0 0 0 0 0 0 0 0 0 0 0 0 0 0 0 0 0 0 0 0 0 0 0 0 0 0 0 0 0 0 0 0 0 0 0 0 0 0 0 0 0 0 0 0 0 0 0 0 0 0 0 0 0 0 0 0 0 0 0 0 0 0 0 0 0 0 0 0 0 0 0 0 0 0 0 0 0 0 0 0 0 0 0 0 0 0 0 0 0 0 0 0 0 0 0 0 0 0 0 0 0 0 0 0 0 0 0 0 0 0 0 0 0 0 0 0 0 0 0 0 0 0 0 0 0 0 0 0 0 0 0 0 0 0 0 0 0 0 0 0 0 0 0 0 0 0 0 0 0 0 0 0 0 0 0 0 0 0 0 0 0 0 0 0 0 0 0 0 0 0 0 0 0 0 0 0 0 0 0 0 0 0 0 0 0 0 0 0 0 0 0 0 0 0 0 0 0 0 0 0 0 0 0 0 0 0 0 0 0 0 0 0 0 0 0 0 0 0 0 0 0 0 0 0 0 0 0 0 0 0 0 0 0 0 0 0 0 0 0 0 0 0 0 0 0 0 0 0 0 0 0 0 0 0 0 0 0 0 0 0 0 0 0 0 0 0 0 0 0 0 0 0 0 0 0 0 0 0 0 0 0 0 0 0 0 0 0 0 0 0 0 0 0 0 0 0 0 0 0 0 0 0 0 0 0 0 0 0 0 0 0 0 0 0 0 0 0\n"
     ]
    },
    {
     "name": "stderr",
     "output_type": "stream",
     "text": [
      "I0607 12:28:34.641459 140294592194432 bert_sct_utils_v2.py:302] input_ids: 101 7354 2234 2067 2013 1996 3006 1012 1998 2016 2001 9461 2000 3046 1996 2047 4157 2008 2016 4149 1012 2044 2016 2736 8225 2009 1010 2016 10749 2185 1012 7354 2001 15261 2011 2129 5744 1998 4138 2009 12595 1012 102 7354 2787 2023 2001 2014 2047 5440 4157 1012 102 0 0 0 0 0 0 0 0 0 0 0 0 0 0 0 0 0 0 0 0 0 0 0 0 0 0 0 0 0 0 0 0 0 0 0 0 0 0 0 0 0 0 0 0 0 0 0 0 0 0 0 0 0 0 0 0 0 0 0 0 0 0 0 0 0 0 0 0 0 0 0 0 0 0 0 0 0 0 0 0 0 0 0 0 0 0 0 0 0 0 0 0 0 0 0 0 0 0 0 0 0 0 0 0 0 0 0 0 0 0 0 0 0 0 0 0 0 0 0 0 0 0 0 0 0 0 0 0 0 0 0 0 0 0 0 0 0 0 0 0 0 0 0 0 0 0 0 0 0 0 0 0 0 0 0 0 0 0 0 0 0 0 0 0 0 0 0 0 0 0 0 0 0 0 0 0 0 0 0 0 0 0 0 0 0 0 0 0 0 0 0 0 0 0 0 0 0 0 0 0 0 0 0 0 0 0 0 0 0 0 0 0 0 0 0 0 0 0 0 0 0 0 0 0 0 0 0 0 0 0 0 0 0 0 0 0 0 0 0 0 0 0 0 0 0 0 0 0 0 0 0 0 0 0 0 0 0 0 0 0 0 0 0 0 0 0 0 0 0 0 0 0 0 0 0 0 0 0 0 0 0 0 0 0 0 0 0 0 0 0 0 0 0 0 0 0 0 0 0 0 0 0 0 0 0 0 0 0 0 0 0 0 0 0 0 0 0 0 0 0 0 0 0 0 0 0 0 0 0 0 0 0 0 0 0 0 0 0 0 0 0 0 0 0 0 0 0\n"
     ]
    },
    {
     "name": "stdout",
     "output_type": "stream",
     "text": [
      "INFO:tensorflow:input_mask: 1 1 1 1 1 1 1 1 1 1 1 1 1 1 1 1 1 1 1 1 1 1 1 1 1 1 1 1 1 1 1 1 1 1 1 1 1 1 1 1 1 1 1 1 1 1 1 1 1 1 1 1 1 0 0 0 0 0 0 0 0 0 0 0 0 0 0 0 0 0 0 0 0 0 0 0 0 0 0 0 0 0 0 0 0 0 0 0 0 0 0 0 0 0 0 0 0 0 0 0 0 0 0 0 0 0 0 0 0 0 0 0 0 0 0 0 0 0 0 0 0 0 0 0 0 0 0 0 0 0 0 0 0 0 0 0 0 0 0 0 0 0 0 0 0 0 0 0 0 0 0 0 0 0 0 0 0 0 0 0 0 0 0 0 0 0 0 0 0 0 0 0 0 0 0 0 0 0 0 0 0 0 0 0 0 0 0 0 0 0 0 0 0 0 0 0 0 0 0 0 0 0 0 0 0 0 0 0 0 0 0 0 0 0 0 0 0 0 0 0 0 0 0 0 0 0 0 0 0 0 0 0 0 0 0 0 0 0 0 0 0 0 0 0 0 0 0 0 0 0 0 0 0 0 0 0 0 0 0 0 0 0 0 0 0 0 0 0 0 0 0 0 0 0 0 0 0 0 0 0 0 0 0 0 0 0 0 0 0 0 0 0 0 0 0 0 0 0 0 0 0 0 0 0 0 0 0 0 0 0 0 0 0 0 0 0 0 0 0 0 0 0 0 0 0 0 0 0 0 0 0 0 0 0 0 0 0 0 0 0 0 0 0 0 0 0 0 0 0 0 0 0 0 0 0 0 0 0 0 0 0 0 0 0 0 0 0 0 0 0 0 0 0 0 0 0 0 0 0 0 0 0 0 0 0 0 0 0 0 0 0 0 0 0 0 0 0 0 0 0\n"
     ]
    },
    {
     "name": "stderr",
     "output_type": "stream",
     "text": [
      "I0607 12:28:34.645230 140294592194432 bert_sct_utils_v2.py:303] input_mask: 1 1 1 1 1 1 1 1 1 1 1 1 1 1 1 1 1 1 1 1 1 1 1 1 1 1 1 1 1 1 1 1 1 1 1 1 1 1 1 1 1 1 1 1 1 1 1 1 1 1 1 1 1 0 0 0 0 0 0 0 0 0 0 0 0 0 0 0 0 0 0 0 0 0 0 0 0 0 0 0 0 0 0 0 0 0 0 0 0 0 0 0 0 0 0 0 0 0 0 0 0 0 0 0 0 0 0 0 0 0 0 0 0 0 0 0 0 0 0 0 0 0 0 0 0 0 0 0 0 0 0 0 0 0 0 0 0 0 0 0 0 0 0 0 0 0 0 0 0 0 0 0 0 0 0 0 0 0 0 0 0 0 0 0 0 0 0 0 0 0 0 0 0 0 0 0 0 0 0 0 0 0 0 0 0 0 0 0 0 0 0 0 0 0 0 0 0 0 0 0 0 0 0 0 0 0 0 0 0 0 0 0 0 0 0 0 0 0 0 0 0 0 0 0 0 0 0 0 0 0 0 0 0 0 0 0 0 0 0 0 0 0 0 0 0 0 0 0 0 0 0 0 0 0 0 0 0 0 0 0 0 0 0 0 0 0 0 0 0 0 0 0 0 0 0 0 0 0 0 0 0 0 0 0 0 0 0 0 0 0 0 0 0 0 0 0 0 0 0 0 0 0 0 0 0 0 0 0 0 0 0 0 0 0 0 0 0 0 0 0 0 0 0 0 0 0 0 0 0 0 0 0 0 0 0 0 0 0 0 0 0 0 0 0 0 0 0 0 0 0 0 0 0 0 0 0 0 0 0 0 0 0 0 0 0 0 0 0 0 0 0 0 0 0 0 0 0 0 0 0 0 0 0 0 0 0 0 0 0 0 0 0 0 0 0 0 0 0 0 0\n"
     ]
    },
    {
     "name": "stdout",
     "output_type": "stream",
     "text": [
      "INFO:tensorflow:segment_ids: 0 0 0 0 0 0 0 0 0 0 0 0 0 0 0 0 0 0 0 0 0 0 0 0 0 0 0 0 0 0 0 0 0 0 0 0 0 0 0 0 0 0 0 1 1 1 1 1 1 1 1 1 1 0 0 0 0 0 0 0 0 0 0 0 0 0 0 0 0 0 0 0 0 0 0 0 0 0 0 0 0 0 0 0 0 0 0 0 0 0 0 0 0 0 0 0 0 0 0 0 0 0 0 0 0 0 0 0 0 0 0 0 0 0 0 0 0 0 0 0 0 0 0 0 0 0 0 0 0 0 0 0 0 0 0 0 0 0 0 0 0 0 0 0 0 0 0 0 0 0 0 0 0 0 0 0 0 0 0 0 0 0 0 0 0 0 0 0 0 0 0 0 0 0 0 0 0 0 0 0 0 0 0 0 0 0 0 0 0 0 0 0 0 0 0 0 0 0 0 0 0 0 0 0 0 0 0 0 0 0 0 0 0 0 0 0 0 0 0 0 0 0 0 0 0 0 0 0 0 0 0 0 0 0 0 0 0 0 0 0 0 0 0 0 0 0 0 0 0 0 0 0 0 0 0 0 0 0 0 0 0 0 0 0 0 0 0 0 0 0 0 0 0 0 0 0 0 0 0 0 0 0 0 0 0 0 0 0 0 0 0 0 0 0 0 0 0 0 0 0 0 0 0 0 0 0 0 0 0 0 0 0 0 0 0 0 0 0 0 0 0 0 0 0 0 0 0 0 0 0 0 0 0 0 0 0 0 0 0 0 0 0 0 0 0 0 0 0 0 0 0 0 0 0 0 0 0 0 0 0 0 0 0 0 0 0 0 0 0 0 0 0 0 0 0 0 0 0 0 0 0 0 0 0 0 0 0 0 0 0 0 0 0 0 0 0 0 0 0 0\n"
     ]
    },
    {
     "name": "stderr",
     "output_type": "stream",
     "text": [
      "I0607 12:28:34.648121 140294592194432 bert_sct_utils_v2.py:304] segment_ids: 0 0 0 0 0 0 0 0 0 0 0 0 0 0 0 0 0 0 0 0 0 0 0 0 0 0 0 0 0 0 0 0 0 0 0 0 0 0 0 0 0 0 0 1 1 1 1 1 1 1 1 1 1 0 0 0 0 0 0 0 0 0 0 0 0 0 0 0 0 0 0 0 0 0 0 0 0 0 0 0 0 0 0 0 0 0 0 0 0 0 0 0 0 0 0 0 0 0 0 0 0 0 0 0 0 0 0 0 0 0 0 0 0 0 0 0 0 0 0 0 0 0 0 0 0 0 0 0 0 0 0 0 0 0 0 0 0 0 0 0 0 0 0 0 0 0 0 0 0 0 0 0 0 0 0 0 0 0 0 0 0 0 0 0 0 0 0 0 0 0 0 0 0 0 0 0 0 0 0 0 0 0 0 0 0 0 0 0 0 0 0 0 0 0 0 0 0 0 0 0 0 0 0 0 0 0 0 0 0 0 0 0 0 0 0 0 0 0 0 0 0 0 0 0 0 0 0 0 0 0 0 0 0 0 0 0 0 0 0 0 0 0 0 0 0 0 0 0 0 0 0 0 0 0 0 0 0 0 0 0 0 0 0 0 0 0 0 0 0 0 0 0 0 0 0 0 0 0 0 0 0 0 0 0 0 0 0 0 0 0 0 0 0 0 0 0 0 0 0 0 0 0 0 0 0 0 0 0 0 0 0 0 0 0 0 0 0 0 0 0 0 0 0 0 0 0 0 0 0 0 0 0 0 0 0 0 0 0 0 0 0 0 0 0 0 0 0 0 0 0 0 0 0 0 0 0 0 0 0 0 0 0 0 0 0 0 0 0 0 0 0 0 0 0 0 0 0 0 0 0 0 0 0 0 0 0 0 0 0 0 0 0 0 0 0 0 0 0 0 0\n"
     ]
    },
    {
     "name": "stdout",
     "output_type": "stream",
     "text": [
      "INFO:tensorflow:label: 1 (id = 1)\n"
     ]
    },
    {
     "name": "stderr",
     "output_type": "stream",
     "text": [
      "I0607 12:28:34.651036 140294592194432 bert_sct_utils_v2.py:305] label: 1 (id = 1)\n"
     ]
    },
    {
     "name": "stdout",
     "output_type": "stream",
     "text": [
      "INFO:tensorflow:sentiment: (20,), [0.     0.     1.     0.     0.3612 0.     0.815  0.185  0.     0.\n",
      " 1.     0.     0.7783 0.     0.541  0.459  0.4588 0.     0.7    0.3   ]\n"
     ]
    },
    {
     "name": "stderr",
     "output_type": "stream",
     "text": [
      "I0607 12:28:34.654050 140294592194432 bert_sct_utils_v2.py:306] sentiment: (20,), [0.     0.     1.     0.     0.3612 0.     0.815  0.185  0.     0.\n",
      " 1.     0.     0.7783 0.     0.541  0.459  0.4588 0.     0.7    0.3   ]\n"
     ]
    },
    {
     "name": "stdout",
     "output_type": "stream",
     "text": [
      "INFO:tensorflow:cs_dist: (4,), [1. 1. 1. 1.]\n"
     ]
    },
    {
     "name": "stderr",
     "output_type": "stream",
     "text": [
      "I0607 12:28:34.657328 140294592194432 bert_sct_utils_v2.py:307] cs_dist: (4,), [1. 1. 1. 1.]\n"
     ]
    },
    {
     "name": "stdout",
     "output_type": "stream",
     "text": [
      "INFO:tensorflow:*** Example ***\n"
     ]
    },
    {
     "name": "stderr",
     "output_type": "stream",
     "text": [
      "I0607 12:28:34.662606 140294592194432 bert_sct_utils_v2.py:299] *** Example ***\n"
     ]
    },
    {
     "name": "stdout",
     "output_type": "stream",
     "text": [
      "INFO:tensorflow:unique_id: eval-ffdd4862-65ae-4b18-b13a-97580a0b2318\n"
     ]
    },
    {
     "name": "stderr",
     "output_type": "stream",
     "text": [
      "I0607 12:28:34.665252 140294592194432 bert_sct_utils_v2.py:300] unique_id: eval-ffdd4862-65ae-4b18-b13a-97580a0b2318\n"
     ]
    },
    {
     "name": "stdout",
     "output_type": "stream",
     "text": [
      "INFO:tensorflow:tokens: [CLS] sara came back from the market . and she was eager to try the new coffee that she bought . after she finished preparing it , she drank away . sara was amazed by how smooth and rich it tasted . [SEP] sara hated the bitter taste of coffee . [SEP]\n"
     ]
    },
    {
     "name": "stderr",
     "output_type": "stream",
     "text": [
      "I0607 12:28:34.668377 140294592194432 bert_sct_utils_v2.py:301] tokens: [CLS] sara came back from the market . and she was eager to try the new coffee that she bought . after she finished preparing it , she drank away . sara was amazed by how smooth and rich it tasted . [SEP] sara hated the bitter taste of coffee . [SEP]\n"
     ]
    },
    {
     "name": "stdout",
     "output_type": "stream",
     "text": [
      "INFO:tensorflow:input_ids: 101 7354 2234 2067 2013 1996 3006 1012 1998 2016 2001 9461 2000 3046 1996 2047 4157 2008 2016 4149 1012 2044 2016 2736 8225 2009 1010 2016 10749 2185 1012 7354 2001 15261 2011 2129 5744 1998 4138 2009 12595 1012 102 7354 6283 1996 8618 5510 1997 4157 1012 102 0 0 0 0 0 0 0 0 0 0 0 0 0 0 0 0 0 0 0 0 0 0 0 0 0 0 0 0 0 0 0 0 0 0 0 0 0 0 0 0 0 0 0 0 0 0 0 0 0 0 0 0 0 0 0 0 0 0 0 0 0 0 0 0 0 0 0 0 0 0 0 0 0 0 0 0 0 0 0 0 0 0 0 0 0 0 0 0 0 0 0 0 0 0 0 0 0 0 0 0 0 0 0 0 0 0 0 0 0 0 0 0 0 0 0 0 0 0 0 0 0 0 0 0 0 0 0 0 0 0 0 0 0 0 0 0 0 0 0 0 0 0 0 0 0 0 0 0 0 0 0 0 0 0 0 0 0 0 0 0 0 0 0 0 0 0 0 0 0 0 0 0 0 0 0 0 0 0 0 0 0 0 0 0 0 0 0 0 0 0 0 0 0 0 0 0 0 0 0 0 0 0 0 0 0 0 0 0 0 0 0 0 0 0 0 0 0 0 0 0 0 0 0 0 0 0 0 0 0 0 0 0 0 0 0 0 0 0 0 0 0 0 0 0 0 0 0 0 0 0 0 0 0 0 0 0 0 0 0 0 0 0 0 0 0 0 0 0 0 0 0 0 0 0 0 0 0 0 0 0 0 0 0 0 0 0 0 0 0 0 0 0 0 0 0 0 0 0 0 0 0 0 0 0 0 0 0 0 0 0 0 0 0 0 0 0 0 0 0 0 0 0 0 0 0 0 0 0 0 0 0 0 0 0 0 0 0 0 0 0 0 0 0 0 0 0 0 0\n"
     ]
    },
    {
     "name": "stderr",
     "output_type": "stream",
     "text": [
      "I0607 12:28:34.671155 140294592194432 bert_sct_utils_v2.py:302] input_ids: 101 7354 2234 2067 2013 1996 3006 1012 1998 2016 2001 9461 2000 3046 1996 2047 4157 2008 2016 4149 1012 2044 2016 2736 8225 2009 1010 2016 10749 2185 1012 7354 2001 15261 2011 2129 5744 1998 4138 2009 12595 1012 102 7354 6283 1996 8618 5510 1997 4157 1012 102 0 0 0 0 0 0 0 0 0 0 0 0 0 0 0 0 0 0 0 0 0 0 0 0 0 0 0 0 0 0 0 0 0 0 0 0 0 0 0 0 0 0 0 0 0 0 0 0 0 0 0 0 0 0 0 0 0 0 0 0 0 0 0 0 0 0 0 0 0 0 0 0 0 0 0 0 0 0 0 0 0 0 0 0 0 0 0 0 0 0 0 0 0 0 0 0 0 0 0 0 0 0 0 0 0 0 0 0 0 0 0 0 0 0 0 0 0 0 0 0 0 0 0 0 0 0 0 0 0 0 0 0 0 0 0 0 0 0 0 0 0 0 0 0 0 0 0 0 0 0 0 0 0 0 0 0 0 0 0 0 0 0 0 0 0 0 0 0 0 0 0 0 0 0 0 0 0 0 0 0 0 0 0 0 0 0 0 0 0 0 0 0 0 0 0 0 0 0 0 0 0 0 0 0 0 0 0 0 0 0 0 0 0 0 0 0 0 0 0 0 0 0 0 0 0 0 0 0 0 0 0 0 0 0 0 0 0 0 0 0 0 0 0 0 0 0 0 0 0 0 0 0 0 0 0 0 0 0 0 0 0 0 0 0 0 0 0 0 0 0 0 0 0 0 0 0 0 0 0 0 0 0 0 0 0 0 0 0 0 0 0 0 0 0 0 0 0 0 0 0 0 0 0 0 0 0 0 0 0 0 0 0 0 0 0 0 0 0 0 0 0 0 0 0 0 0 0 0 0 0 0 0 0 0 0 0 0 0 0 0 0 0 0 0 0 0 0 0\n"
     ]
    },
    {
     "name": "stdout",
     "output_type": "stream",
     "text": [
      "INFO:tensorflow:input_mask: 1 1 1 1 1 1 1 1 1 1 1 1 1 1 1 1 1 1 1 1 1 1 1 1 1 1 1 1 1 1 1 1 1 1 1 1 1 1 1 1 1 1 1 1 1 1 1 1 1 1 1 1 0 0 0 0 0 0 0 0 0 0 0 0 0 0 0 0 0 0 0 0 0 0 0 0 0 0 0 0 0 0 0 0 0 0 0 0 0 0 0 0 0 0 0 0 0 0 0 0 0 0 0 0 0 0 0 0 0 0 0 0 0 0 0 0 0 0 0 0 0 0 0 0 0 0 0 0 0 0 0 0 0 0 0 0 0 0 0 0 0 0 0 0 0 0 0 0 0 0 0 0 0 0 0 0 0 0 0 0 0 0 0 0 0 0 0 0 0 0 0 0 0 0 0 0 0 0 0 0 0 0 0 0 0 0 0 0 0 0 0 0 0 0 0 0 0 0 0 0 0 0 0 0 0 0 0 0 0 0 0 0 0 0 0 0 0 0 0 0 0 0 0 0 0 0 0 0 0 0 0 0 0 0 0 0 0 0 0 0 0 0 0 0 0 0 0 0 0 0 0 0 0 0 0 0 0 0 0 0 0 0 0 0 0 0 0 0 0 0 0 0 0 0 0 0 0 0 0 0 0 0 0 0 0 0 0 0 0 0 0 0 0 0 0 0 0 0 0 0 0 0 0 0 0 0 0 0 0 0 0 0 0 0 0 0 0 0 0 0 0 0 0 0 0 0 0 0 0 0 0 0 0 0 0 0 0 0 0 0 0 0 0 0 0 0 0 0 0 0 0 0 0 0 0 0 0 0 0 0 0 0 0 0 0 0 0 0 0 0 0 0 0 0 0 0 0 0 0 0 0 0 0 0 0 0 0 0 0 0 0 0 0 0 0 0 0 0 0 0\n"
     ]
    },
    {
     "name": "stderr",
     "output_type": "stream",
     "text": [
      "I0607 12:28:34.674466 140294592194432 bert_sct_utils_v2.py:303] input_mask: 1 1 1 1 1 1 1 1 1 1 1 1 1 1 1 1 1 1 1 1 1 1 1 1 1 1 1 1 1 1 1 1 1 1 1 1 1 1 1 1 1 1 1 1 1 1 1 1 1 1 1 1 0 0 0 0 0 0 0 0 0 0 0 0 0 0 0 0 0 0 0 0 0 0 0 0 0 0 0 0 0 0 0 0 0 0 0 0 0 0 0 0 0 0 0 0 0 0 0 0 0 0 0 0 0 0 0 0 0 0 0 0 0 0 0 0 0 0 0 0 0 0 0 0 0 0 0 0 0 0 0 0 0 0 0 0 0 0 0 0 0 0 0 0 0 0 0 0 0 0 0 0 0 0 0 0 0 0 0 0 0 0 0 0 0 0 0 0 0 0 0 0 0 0 0 0 0 0 0 0 0 0 0 0 0 0 0 0 0 0 0 0 0 0 0 0 0 0 0 0 0 0 0 0 0 0 0 0 0 0 0 0 0 0 0 0 0 0 0 0 0 0 0 0 0 0 0 0 0 0 0 0 0 0 0 0 0 0 0 0 0 0 0 0 0 0 0 0 0 0 0 0 0 0 0 0 0 0 0 0 0 0 0 0 0 0 0 0 0 0 0 0 0 0 0 0 0 0 0 0 0 0 0 0 0 0 0 0 0 0 0 0 0 0 0 0 0 0 0 0 0 0 0 0 0 0 0 0 0 0 0 0 0 0 0 0 0 0 0 0 0 0 0 0 0 0 0 0 0 0 0 0 0 0 0 0 0 0 0 0 0 0 0 0 0 0 0 0 0 0 0 0 0 0 0 0 0 0 0 0 0 0 0 0 0 0 0 0 0 0 0 0 0 0 0 0 0 0 0 0 0 0 0 0 0 0 0 0 0 0 0 0 0 0 0 0 0 0 0 0\n"
     ]
    },
    {
     "name": "stdout",
     "output_type": "stream",
     "text": [
      "INFO:tensorflow:segment_ids: 0 0 0 0 0 0 0 0 0 0 0 0 0 0 0 0 0 0 0 0 0 0 0 0 0 0 0 0 0 0 0 0 0 0 0 0 0 0 0 0 0 0 0 1 1 1 1 1 1 1 1 1 0 0 0 0 0 0 0 0 0 0 0 0 0 0 0 0 0 0 0 0 0 0 0 0 0 0 0 0 0 0 0 0 0 0 0 0 0 0 0 0 0 0 0 0 0 0 0 0 0 0 0 0 0 0 0 0 0 0 0 0 0 0 0 0 0 0 0 0 0 0 0 0 0 0 0 0 0 0 0 0 0 0 0 0 0 0 0 0 0 0 0 0 0 0 0 0 0 0 0 0 0 0 0 0 0 0 0 0 0 0 0 0 0 0 0 0 0 0 0 0 0 0 0 0 0 0 0 0 0 0 0 0 0 0 0 0 0 0 0 0 0 0 0 0 0 0 0 0 0 0 0 0 0 0 0 0 0 0 0 0 0 0 0 0 0 0 0 0 0 0 0 0 0 0 0 0 0 0 0 0 0 0 0 0 0 0 0 0 0 0 0 0 0 0 0 0 0 0 0 0 0 0 0 0 0 0 0 0 0 0 0 0 0 0 0 0 0 0 0 0 0 0 0 0 0 0 0 0 0 0 0 0 0 0 0 0 0 0 0 0 0 0 0 0 0 0 0 0 0 0 0 0 0 0 0 0 0 0 0 0 0 0 0 0 0 0 0 0 0 0 0 0 0 0 0 0 0 0 0 0 0 0 0 0 0 0 0 0 0 0 0 0 0 0 0 0 0 0 0 0 0 0 0 0 0 0 0 0 0 0 0 0 0 0 0 0 0 0 0 0 0 0 0 0 0 0 0 0 0 0 0 0 0 0 0 0 0 0 0 0 0 0 0 0 0 0 0 0\n"
     ]
    },
    {
     "name": "stderr",
     "output_type": "stream",
     "text": [
      "I0607 12:28:34.677268 140294592194432 bert_sct_utils_v2.py:304] segment_ids: 0 0 0 0 0 0 0 0 0 0 0 0 0 0 0 0 0 0 0 0 0 0 0 0 0 0 0 0 0 0 0 0 0 0 0 0 0 0 0 0 0 0 0 1 1 1 1 1 1 1 1 1 0 0 0 0 0 0 0 0 0 0 0 0 0 0 0 0 0 0 0 0 0 0 0 0 0 0 0 0 0 0 0 0 0 0 0 0 0 0 0 0 0 0 0 0 0 0 0 0 0 0 0 0 0 0 0 0 0 0 0 0 0 0 0 0 0 0 0 0 0 0 0 0 0 0 0 0 0 0 0 0 0 0 0 0 0 0 0 0 0 0 0 0 0 0 0 0 0 0 0 0 0 0 0 0 0 0 0 0 0 0 0 0 0 0 0 0 0 0 0 0 0 0 0 0 0 0 0 0 0 0 0 0 0 0 0 0 0 0 0 0 0 0 0 0 0 0 0 0 0 0 0 0 0 0 0 0 0 0 0 0 0 0 0 0 0 0 0 0 0 0 0 0 0 0 0 0 0 0 0 0 0 0 0 0 0 0 0 0 0 0 0 0 0 0 0 0 0 0 0 0 0 0 0 0 0 0 0 0 0 0 0 0 0 0 0 0 0 0 0 0 0 0 0 0 0 0 0 0 0 0 0 0 0 0 0 0 0 0 0 0 0 0 0 0 0 0 0 0 0 0 0 0 0 0 0 0 0 0 0 0 0 0 0 0 0 0 0 0 0 0 0 0 0 0 0 0 0 0 0 0 0 0 0 0 0 0 0 0 0 0 0 0 0 0 0 0 0 0 0 0 0 0 0 0 0 0 0 0 0 0 0 0 0 0 0 0 0 0 0 0 0 0 0 0 0 0 0 0 0 0 0 0 0 0 0 0 0 0 0 0 0 0 0 0 0 0 0 0\n"
     ]
    },
    {
     "name": "stdout",
     "output_type": "stream",
     "text": [
      "INFO:tensorflow:label: 0 (id = 0)\n"
     ]
    },
    {
     "name": "stderr",
     "output_type": "stream",
     "text": [
      "I0607 12:28:34.680296 140294592194432 bert_sct_utils_v2.py:305] label: 0 (id = 0)\n"
     ]
    },
    {
     "name": "stdout",
     "output_type": "stream",
     "text": [
      "INFO:tensorflow:sentiment: (20,), [ 0.      0.      1.      0.      0.3612  0.      0.815   0.185   0.\n",
      "  0.      1.      0.      0.7783  0.      0.541   0.459  -0.7906  0.583\n",
      "  0.417   0.    ]\n"
     ]
    },
    {
     "name": "stderr",
     "output_type": "stream",
     "text": [
      "I0607 12:28:34.684279 140294592194432 bert_sct_utils_v2.py:306] sentiment: (20,), [ 0.      0.      1.      0.      0.3612  0.      0.815   0.185   0.\n",
      "  0.      1.      0.      0.7783  0.      0.541   0.459  -0.7906  0.583\n",
      "  0.417   0.    ]\n"
     ]
    },
    {
     "name": "stdout",
     "output_type": "stream",
     "text": [
      "INFO:tensorflow:cs_dist: (4,), [-1. -1. -1. -1.]\n"
     ]
    },
    {
     "name": "stderr",
     "output_type": "stream",
     "text": [
      "I0607 12:28:34.687176 140294592194432 bert_sct_utils_v2.py:307] cs_dist: (4,), [-1. -1. -1. -1.]\n"
     ]
    },
    {
     "name": "stdout",
     "output_type": "stream",
     "text": [
      "INFO:tensorflow:Writing example 1000 of 1871\n"
     ]
    },
    {
     "name": "stderr",
     "output_type": "stream",
     "text": [
      "I0607 12:28:37.364672 140294592194432 bert_sct_utils_v2.py:322] Writing example 1000 of 1871\n"
     ]
    },
    {
     "name": "stdout",
     "output_type": "stream",
     "text": [
      "INFO:tensorflow:***** Running evaluation *****\n"
     ]
    },
    {
     "name": "stderr",
     "output_type": "stream",
     "text": [
      "I0607 12:28:39.661591 140294592194432 <ipython-input-11-7b355e037c6c>:87] ***** Running evaluation *****\n"
     ]
    },
    {
     "name": "stdout",
     "output_type": "stream",
     "text": [
      "INFO:tensorflow:  Num examples = 1871\n"
     ]
    },
    {
     "name": "stderr",
     "output_type": "stream",
     "text": [
      "I0607 12:28:39.664561 140294592194432 <ipython-input-11-7b355e037c6c>:88]   Num examples = 1871\n"
     ]
    },
    {
     "name": "stdout",
     "output_type": "stream",
     "text": [
      "INFO:tensorflow:Calling model_fn.\n"
     ]
    },
    {
     "name": "stderr",
     "output_type": "stream",
     "text": [
      "I0607 12:28:39.716667 140294592194432 estimator.py:1111] Calling model_fn.\n"
     ]
    },
    {
     "name": "stdout",
     "output_type": "stream",
     "text": [
      "INFO:tensorflow:Saver not created because there are no variables in the graph to restore\n"
     ]
    },
    {
     "name": "stderr",
     "output_type": "stream",
     "text": [
      "I0607 12:28:42.906703 140294592194432 saver.py:1483] Saver not created because there are no variables in the graph to restore\n"
     ]
    },
    {
     "name": "stdout",
     "output_type": "stream",
     "text": [
      "INFO:tensorflow:Saver not created because there are no variables in the graph to restore\n"
     ]
    },
    {
     "name": "stderr",
     "output_type": "stream",
     "text": [
      "I0607 12:28:43.717402 140294592194432 saver.py:1483] Saver not created because there are no variables in the graph to restore\n"
     ]
    },
    {
     "name": "stdout",
     "output_type": "stream",
     "text": [
      "INFO:tensorflow:logits_pos, shape = (?, 1)\n"
     ]
    },
    {
     "name": "stderr",
     "output_type": "stream",
     "text": [
      "I0607 12:28:43.878389 140294592194432 bert_sct_utils_v2.py:531] logits_pos, shape = (?, 1)\n"
     ]
    },
    {
     "name": "stdout",
     "output_type": "stream",
     "text": [
      "INFO:tensorflow:logits_neg, shape = (?, 1)\n"
     ]
    },
    {
     "name": "stderr",
     "output_type": "stream",
     "text": [
      "I0607 12:28:43.880207 140294592194432 bert_sct_utils_v2.py:532] logits_neg, shape = (?, 1)\n"
     ]
    },
    {
     "name": "stdout",
     "output_type": "stream",
     "text": [
      "INFO:tensorflow:logits, shape = (?, 2)\n"
     ]
    },
    {
     "name": "stderr",
     "output_type": "stream",
     "text": [
      "I0607 12:28:43.884863 140294592194432 bert_sct_utils_v2.py:533] logits, shape = (?, 2)\n"
     ]
    },
    {
     "name": "stdout",
     "output_type": "stream",
     "text": [
      "INFO:tensorflow:probabilities, shape = (?, 2)\n"
     ]
    },
    {
     "name": "stderr",
     "output_type": "stream",
     "text": [
      "I0607 12:28:43.890000 140294592194432 bert_sct_utils_v2.py:535] probabilities, shape = (?, 2)\n"
     ]
    },
    {
     "name": "stdout",
     "output_type": "stream",
     "text": [
      "INFO:tensorflow:log_probs, shape = (?, 2)\n"
     ]
    },
    {
     "name": "stderr",
     "output_type": "stream",
     "text": [
      "I0607 12:28:43.892070 140294592194432 bert_sct_utils_v2.py:536] log_probs, shape = (?, 2)\n"
     ]
    },
    {
     "name": "stdout",
     "output_type": "stream",
     "text": [
      "INFO:tensorflow:one_hot_labels, shape = (?, 2)\n"
     ]
    },
    {
     "name": "stderr",
     "output_type": "stream",
     "text": [
      "I0607 12:28:43.894886 140294592194432 bert_sct_utils_v2.py:537] one_hot_labels, shape = (?, 2)\n"
     ]
    },
    {
     "name": "stdout",
     "output_type": "stream",
     "text": [
      "INFO:tensorflow:predicted_labels, shape = (?,)\n"
     ]
    },
    {
     "name": "stderr",
     "output_type": "stream",
     "text": [
      "I0607 12:28:43.897904 140294592194432 bert_sct_utils_v2.py:538] predicted_labels, shape = (?,)\n"
     ]
    },
    {
     "name": "stdout",
     "output_type": "stream",
     "text": [
      "INFO:tensorflow:per_example_loss, shape = (?,)\n"
     ]
    },
    {
     "name": "stderr",
     "output_type": "stream",
     "text": [
      "I0607 12:28:43.900849 140294592194432 bert_sct_utils_v2.py:539] per_example_loss, shape = (?,)\n"
     ]
    },
    {
     "name": "stdout",
     "output_type": "stream",
     "text": [
      "INFO:tensorflow:loss, shape = ()\n"
     ]
    },
    {
     "name": "stderr",
     "output_type": "stream",
     "text": [
      "I0607 12:28:43.903756 140294592194432 bert_sct_utils_v2.py:540] loss, shape = ()\n"
     ]
    },
    {
     "name": "stdout",
     "output_type": "stream",
     "text": [
      "INFO:tensorflow:**** Trainable Variables ****\n"
     ]
    },
    {
     "name": "stderr",
     "output_type": "stream",
     "text": [
      "I0607 12:28:43.942584 140294592194432 bert_sct_utils_v2.py:591] **** Trainable Variables ****\n"
     ]
    },
    {
     "name": "stdout",
     "output_type": "stream",
     "text": [
      "INFO:tensorflow:  name = module/bert/embeddings/word_embeddings:0, shape = (30522, 768)\n"
     ]
    },
    {
     "name": "stderr",
     "output_type": "stream",
     "text": [
      "I0607 12:28:43.949430 140294592194432 bert_sct_utils_v2.py:593]   name = module/bert/embeddings/word_embeddings:0, shape = (30522, 768)\n"
     ]
    },
    {
     "name": "stdout",
     "output_type": "stream",
     "text": [
      "INFO:tensorflow:  name = module/bert/embeddings/token_type_embeddings:0, shape = (2, 768)\n"
     ]
    },
    {
     "name": "stderr",
     "output_type": "stream",
     "text": [
      "I0607 12:28:43.951370 140294592194432 bert_sct_utils_v2.py:593]   name = module/bert/embeddings/token_type_embeddings:0, shape = (2, 768)\n"
     ]
    },
    {
     "name": "stdout",
     "output_type": "stream",
     "text": [
      "INFO:tensorflow:  name = module/bert/embeddings/position_embeddings:0, shape = (512, 768)\n"
     ]
    },
    {
     "name": "stderr",
     "output_type": "stream",
     "text": [
      "I0607 12:28:43.954465 140294592194432 bert_sct_utils_v2.py:593]   name = module/bert/embeddings/position_embeddings:0, shape = (512, 768)\n"
     ]
    },
    {
     "name": "stdout",
     "output_type": "stream",
     "text": [
      "INFO:tensorflow:  name = module/bert/embeddings/LayerNorm/beta:0, shape = (768,)\n"
     ]
    },
    {
     "name": "stderr",
     "output_type": "stream",
     "text": [
      "I0607 12:28:43.957449 140294592194432 bert_sct_utils_v2.py:593]   name = module/bert/embeddings/LayerNorm/beta:0, shape = (768,)\n"
     ]
    },
    {
     "name": "stdout",
     "output_type": "stream",
     "text": [
      "INFO:tensorflow:  name = module/bert/embeddings/LayerNorm/gamma:0, shape = (768,)\n"
     ]
    },
    {
     "name": "stderr",
     "output_type": "stream",
     "text": [
      "I0607 12:28:43.961545 140294592194432 bert_sct_utils_v2.py:593]   name = module/bert/embeddings/LayerNorm/gamma:0, shape = (768,)\n"
     ]
    },
    {
     "name": "stdout",
     "output_type": "stream",
     "text": [
      "INFO:tensorflow:  name = module/bert/encoder/layer_0/attention/self/query/kernel:0, shape = (768, 768)\n"
     ]
    },
    {
     "name": "stderr",
     "output_type": "stream",
     "text": [
      "I0607 12:28:43.964897 140294592194432 bert_sct_utils_v2.py:593]   name = module/bert/encoder/layer_0/attention/self/query/kernel:0, shape = (768, 768)\n"
     ]
    },
    {
     "name": "stdout",
     "output_type": "stream",
     "text": [
      "INFO:tensorflow:  name = module/bert/encoder/layer_0/attention/self/query/bias:0, shape = (768,)\n"
     ]
    },
    {
     "name": "stderr",
     "output_type": "stream",
     "text": [
      "I0607 12:28:43.967508 140294592194432 bert_sct_utils_v2.py:593]   name = module/bert/encoder/layer_0/attention/self/query/bias:0, shape = (768,)\n"
     ]
    },
    {
     "name": "stdout",
     "output_type": "stream",
     "text": [
      "INFO:tensorflow:  name = module/bert/encoder/layer_0/attention/self/key/kernel:0, shape = (768, 768)\n"
     ]
    },
    {
     "name": "stderr",
     "output_type": "stream",
     "text": [
      "I0607 12:28:43.969423 140294592194432 bert_sct_utils_v2.py:593]   name = module/bert/encoder/layer_0/attention/self/key/kernel:0, shape = (768, 768)\n"
     ]
    },
    {
     "name": "stdout",
     "output_type": "stream",
     "text": [
      "INFO:tensorflow:  name = module/bert/encoder/layer_0/attention/self/key/bias:0, shape = (768,)\n"
     ]
    },
    {
     "name": "stderr",
     "output_type": "stream",
     "text": [
      "I0607 12:28:43.971898 140294592194432 bert_sct_utils_v2.py:593]   name = module/bert/encoder/layer_0/attention/self/key/bias:0, shape = (768,)\n"
     ]
    },
    {
     "name": "stdout",
     "output_type": "stream",
     "text": [
      "INFO:tensorflow:  name = module/bert/encoder/layer_0/attention/self/value/kernel:0, shape = (768, 768)\n"
     ]
    },
    {
     "name": "stderr",
     "output_type": "stream",
     "text": [
      "I0607 12:28:43.974236 140294592194432 bert_sct_utils_v2.py:593]   name = module/bert/encoder/layer_0/attention/self/value/kernel:0, shape = (768, 768)\n"
     ]
    },
    {
     "name": "stdout",
     "output_type": "stream",
     "text": [
      "INFO:tensorflow:  name = module/bert/encoder/layer_0/attention/self/value/bias:0, shape = (768,)\n"
     ]
    },
    {
     "name": "stderr",
     "output_type": "stream",
     "text": [
      "I0607 12:28:43.976196 140294592194432 bert_sct_utils_v2.py:593]   name = module/bert/encoder/layer_0/attention/self/value/bias:0, shape = (768,)\n"
     ]
    },
    {
     "name": "stdout",
     "output_type": "stream",
     "text": [
      "INFO:tensorflow:  name = module/bert/encoder/layer_0/attention/output/dense/kernel:0, shape = (768, 768)\n"
     ]
    },
    {
     "name": "stderr",
     "output_type": "stream",
     "text": [
      "I0607 12:28:43.978564 140294592194432 bert_sct_utils_v2.py:593]   name = module/bert/encoder/layer_0/attention/output/dense/kernel:0, shape = (768, 768)\n"
     ]
    },
    {
     "name": "stdout",
     "output_type": "stream",
     "text": [
      "INFO:tensorflow:  name = module/bert/encoder/layer_0/attention/output/dense/bias:0, shape = (768,)\n"
     ]
    },
    {
     "name": "stderr",
     "output_type": "stream",
     "text": [
      "I0607 12:28:43.981060 140294592194432 bert_sct_utils_v2.py:593]   name = module/bert/encoder/layer_0/attention/output/dense/bias:0, shape = (768,)\n"
     ]
    },
    {
     "name": "stdout",
     "output_type": "stream",
     "text": [
      "INFO:tensorflow:  name = module/bert/encoder/layer_0/attention/output/LayerNorm/beta:0, shape = (768,)\n"
     ]
    },
    {
     "name": "stderr",
     "output_type": "stream",
     "text": [
      "I0607 12:28:43.983458 140294592194432 bert_sct_utils_v2.py:593]   name = module/bert/encoder/layer_0/attention/output/LayerNorm/beta:0, shape = (768,)\n"
     ]
    },
    {
     "name": "stdout",
     "output_type": "stream",
     "text": [
      "INFO:tensorflow:  name = module/bert/encoder/layer_0/attention/output/LayerNorm/gamma:0, shape = (768,)\n"
     ]
    },
    {
     "name": "stderr",
     "output_type": "stream",
     "text": [
      "I0607 12:28:43.985489 140294592194432 bert_sct_utils_v2.py:593]   name = module/bert/encoder/layer_0/attention/output/LayerNorm/gamma:0, shape = (768,)\n"
     ]
    },
    {
     "name": "stdout",
     "output_type": "stream",
     "text": [
      "INFO:tensorflow:  name = module/bert/encoder/layer_0/intermediate/dense/kernel:0, shape = (768, 3072)\n"
     ]
    },
    {
     "name": "stderr",
     "output_type": "stream",
     "text": [
      "I0607 12:28:43.987989 140294592194432 bert_sct_utils_v2.py:593]   name = module/bert/encoder/layer_0/intermediate/dense/kernel:0, shape = (768, 3072)\n"
     ]
    },
    {
     "name": "stdout",
     "output_type": "stream",
     "text": [
      "INFO:tensorflow:  name = module/bert/encoder/layer_0/intermediate/dense/bias:0, shape = (3072,)\n"
     ]
    },
    {
     "name": "stderr",
     "output_type": "stream",
     "text": [
      "I0607 12:28:43.990436 140294592194432 bert_sct_utils_v2.py:593]   name = module/bert/encoder/layer_0/intermediate/dense/bias:0, shape = (3072,)\n"
     ]
    },
    {
     "name": "stdout",
     "output_type": "stream",
     "text": [
      "INFO:tensorflow:  name = module/bert/encoder/layer_0/output/dense/kernel:0, shape = (3072, 768)\n"
     ]
    },
    {
     "name": "stderr",
     "output_type": "stream",
     "text": [
      "I0607 12:28:43.992869 140294592194432 bert_sct_utils_v2.py:593]   name = module/bert/encoder/layer_0/output/dense/kernel:0, shape = (3072, 768)\n"
     ]
    },
    {
     "name": "stdout",
     "output_type": "stream",
     "text": [
      "INFO:tensorflow:  name = module/bert/encoder/layer_0/output/dense/bias:0, shape = (768,)\n"
     ]
    },
    {
     "name": "stderr",
     "output_type": "stream",
     "text": [
      "I0607 12:28:43.994866 140294592194432 bert_sct_utils_v2.py:593]   name = module/bert/encoder/layer_0/output/dense/bias:0, shape = (768,)\n"
     ]
    },
    {
     "name": "stdout",
     "output_type": "stream",
     "text": [
      "INFO:tensorflow:  name = module/bert/encoder/layer_0/output/LayerNorm/beta:0, shape = (768,)\n"
     ]
    },
    {
     "name": "stderr",
     "output_type": "stream",
     "text": [
      "I0607 12:28:43.997380 140294592194432 bert_sct_utils_v2.py:593]   name = module/bert/encoder/layer_0/output/LayerNorm/beta:0, shape = (768,)\n"
     ]
    },
    {
     "name": "stdout",
     "output_type": "stream",
     "text": [
      "INFO:tensorflow:  name = module/bert/encoder/layer_0/output/LayerNorm/gamma:0, shape = (768,)\n"
     ]
    },
    {
     "name": "stderr",
     "output_type": "stream",
     "text": [
      "I0607 12:28:43.999782 140294592194432 bert_sct_utils_v2.py:593]   name = module/bert/encoder/layer_0/output/LayerNorm/gamma:0, shape = (768,)\n"
     ]
    },
    {
     "name": "stdout",
     "output_type": "stream",
     "text": [
      "INFO:tensorflow:  name = module/bert/encoder/layer_1/attention/self/query/kernel:0, shape = (768, 768)\n"
     ]
    },
    {
     "name": "stderr",
     "output_type": "stream",
     "text": [
      "I0607 12:28:44.002241 140294592194432 bert_sct_utils_v2.py:593]   name = module/bert/encoder/layer_1/attention/self/query/kernel:0, shape = (768, 768)\n"
     ]
    },
    {
     "name": "stdout",
     "output_type": "stream",
     "text": [
      "INFO:tensorflow:  name = module/bert/encoder/layer_1/attention/self/query/bias:0, shape = (768,)\n"
     ]
    },
    {
     "name": "stderr",
     "output_type": "stream",
     "text": [
      "I0607 12:28:44.004780 140294592194432 bert_sct_utils_v2.py:593]   name = module/bert/encoder/layer_1/attention/self/query/bias:0, shape = (768,)\n"
     ]
    },
    {
     "name": "stdout",
     "output_type": "stream",
     "text": [
      "INFO:tensorflow:  name = module/bert/encoder/layer_1/attention/self/key/kernel:0, shape = (768, 768)\n"
     ]
    },
    {
     "name": "stderr",
     "output_type": "stream",
     "text": [
      "I0607 12:28:44.006811 140294592194432 bert_sct_utils_v2.py:593]   name = module/bert/encoder/layer_1/attention/self/key/kernel:0, shape = (768, 768)\n"
     ]
    },
    {
     "name": "stdout",
     "output_type": "stream",
     "text": [
      "INFO:tensorflow:  name = module/bert/encoder/layer_1/attention/self/key/bias:0, shape = (768,)\n"
     ]
    },
    {
     "name": "stderr",
     "output_type": "stream",
     "text": [
      "I0607 12:28:44.009223 140294592194432 bert_sct_utils_v2.py:593]   name = module/bert/encoder/layer_1/attention/self/key/bias:0, shape = (768,)\n"
     ]
    },
    {
     "name": "stdout",
     "output_type": "stream",
     "text": [
      "INFO:tensorflow:  name = module/bert/encoder/layer_1/attention/self/value/kernel:0, shape = (768, 768)\n"
     ]
    },
    {
     "name": "stderr",
     "output_type": "stream",
     "text": [
      "I0607 12:28:44.011610 140294592194432 bert_sct_utils_v2.py:593]   name = module/bert/encoder/layer_1/attention/self/value/kernel:0, shape = (768, 768)\n"
     ]
    },
    {
     "name": "stdout",
     "output_type": "stream",
     "text": [
      "INFO:tensorflow:  name = module/bert/encoder/layer_1/attention/self/value/bias:0, shape = (768,)\n"
     ]
    },
    {
     "name": "stderr",
     "output_type": "stream",
     "text": [
      "I0607 12:28:44.014025 140294592194432 bert_sct_utils_v2.py:593]   name = module/bert/encoder/layer_1/attention/self/value/bias:0, shape = (768,)\n"
     ]
    },
    {
     "name": "stdout",
     "output_type": "stream",
     "text": [
      "INFO:tensorflow:  name = module/bert/encoder/layer_1/attention/output/dense/kernel:0, shape = (768, 768)\n"
     ]
    },
    {
     "name": "stderr",
     "output_type": "stream",
     "text": [
      "I0607 12:28:44.016023 140294592194432 bert_sct_utils_v2.py:593]   name = module/bert/encoder/layer_1/attention/output/dense/kernel:0, shape = (768, 768)\n"
     ]
    },
    {
     "name": "stdout",
     "output_type": "stream",
     "text": [
      "INFO:tensorflow:  name = module/bert/encoder/layer_1/attention/output/dense/bias:0, shape = (768,)\n"
     ]
    },
    {
     "name": "stderr",
     "output_type": "stream",
     "text": [
      "I0607 12:28:44.018496 140294592194432 bert_sct_utils_v2.py:593]   name = module/bert/encoder/layer_1/attention/output/dense/bias:0, shape = (768,)\n"
     ]
    },
    {
     "name": "stdout",
     "output_type": "stream",
     "text": [
      "INFO:tensorflow:  name = module/bert/encoder/layer_1/attention/output/LayerNorm/beta:0, shape = (768,)\n"
     ]
    },
    {
     "name": "stderr",
     "output_type": "stream",
     "text": [
      "I0607 12:28:44.020965 140294592194432 bert_sct_utils_v2.py:593]   name = module/bert/encoder/layer_1/attention/output/LayerNorm/beta:0, shape = (768,)\n"
     ]
    },
    {
     "name": "stdout",
     "output_type": "stream",
     "text": [
      "INFO:tensorflow:  name = module/bert/encoder/layer_1/attention/output/LayerNorm/gamma:0, shape = (768,)\n"
     ]
    },
    {
     "name": "stderr",
     "output_type": "stream",
     "text": [
      "I0607 12:28:44.023392 140294592194432 bert_sct_utils_v2.py:593]   name = module/bert/encoder/layer_1/attention/output/LayerNorm/gamma:0, shape = (768,)\n"
     ]
    },
    {
     "name": "stdout",
     "output_type": "stream",
     "text": [
      "INFO:tensorflow:  name = module/bert/encoder/layer_1/intermediate/dense/kernel:0, shape = (768, 3072)\n"
     ]
    },
    {
     "name": "stderr",
     "output_type": "stream",
     "text": [
      "I0607 12:28:44.025415 140294592194432 bert_sct_utils_v2.py:593]   name = module/bert/encoder/layer_1/intermediate/dense/kernel:0, shape = (768, 3072)\n"
     ]
    },
    {
     "name": "stdout",
     "output_type": "stream",
     "text": [
      "INFO:tensorflow:  name = module/bert/encoder/layer_1/intermediate/dense/bias:0, shape = (3072,)\n"
     ]
    },
    {
     "name": "stderr",
     "output_type": "stream",
     "text": [
      "I0607 12:28:44.027865 140294592194432 bert_sct_utils_v2.py:593]   name = module/bert/encoder/layer_1/intermediate/dense/bias:0, shape = (3072,)\n"
     ]
    },
    {
     "name": "stdout",
     "output_type": "stream",
     "text": [
      "INFO:tensorflow:  name = module/bert/encoder/layer_1/output/dense/kernel:0, shape = (3072, 768)\n"
     ]
    },
    {
     "name": "stderr",
     "output_type": "stream",
     "text": [
      "I0607 12:28:44.030265 140294592194432 bert_sct_utils_v2.py:593]   name = module/bert/encoder/layer_1/output/dense/kernel:0, shape = (3072, 768)\n"
     ]
    },
    {
     "name": "stdout",
     "output_type": "stream",
     "text": [
      "INFO:tensorflow:  name = module/bert/encoder/layer_1/output/dense/bias:0, shape = (768,)\n"
     ]
    },
    {
     "name": "stderr",
     "output_type": "stream",
     "text": [
      "I0607 12:28:44.032355 140294592194432 bert_sct_utils_v2.py:593]   name = module/bert/encoder/layer_1/output/dense/bias:0, shape = (768,)\n"
     ]
    },
    {
     "name": "stdout",
     "output_type": "stream",
     "text": [
      "INFO:tensorflow:  name = module/bert/encoder/layer_1/output/LayerNorm/beta:0, shape = (768,)\n"
     ]
    },
    {
     "name": "stderr",
     "output_type": "stream",
     "text": [
      "I0607 12:28:44.034601 140294592194432 bert_sct_utils_v2.py:593]   name = module/bert/encoder/layer_1/output/LayerNorm/beta:0, shape = (768,)\n"
     ]
    },
    {
     "name": "stdout",
     "output_type": "stream",
     "text": [
      "INFO:tensorflow:  name = module/bert/encoder/layer_1/output/LayerNorm/gamma:0, shape = (768,)\n"
     ]
    },
    {
     "name": "stderr",
     "output_type": "stream",
     "text": [
      "I0607 12:28:44.037027 140294592194432 bert_sct_utils_v2.py:593]   name = module/bert/encoder/layer_1/output/LayerNorm/gamma:0, shape = (768,)\n"
     ]
    },
    {
     "name": "stdout",
     "output_type": "stream",
     "text": [
      "INFO:tensorflow:  name = module/bert/encoder/layer_2/attention/self/query/kernel:0, shape = (768, 768)\n"
     ]
    },
    {
     "name": "stderr",
     "output_type": "stream",
     "text": [
      "I0607 12:28:44.039566 140294592194432 bert_sct_utils_v2.py:593]   name = module/bert/encoder/layer_2/attention/self/query/kernel:0, shape = (768, 768)\n"
     ]
    },
    {
     "name": "stdout",
     "output_type": "stream",
     "text": [
      "INFO:tensorflow:  name = module/bert/encoder/layer_2/attention/self/query/bias:0, shape = (768,)\n"
     ]
    },
    {
     "name": "stderr",
     "output_type": "stream",
     "text": [
      "I0607 12:28:44.041697 140294592194432 bert_sct_utils_v2.py:593]   name = module/bert/encoder/layer_2/attention/self/query/bias:0, shape = (768,)\n"
     ]
    },
    {
     "name": "stdout",
     "output_type": "stream",
     "text": [
      "INFO:tensorflow:  name = module/bert/encoder/layer_2/attention/self/key/kernel:0, shape = (768, 768)\n"
     ]
    },
    {
     "name": "stderr",
     "output_type": "stream",
     "text": [
      "I0607 12:28:44.044068 140294592194432 bert_sct_utils_v2.py:593]   name = module/bert/encoder/layer_2/attention/self/key/kernel:0, shape = (768, 768)\n"
     ]
    },
    {
     "name": "stdout",
     "output_type": "stream",
     "text": [
      "INFO:tensorflow:  name = module/bert/encoder/layer_2/attention/self/key/bias:0, shape = (768,)\n"
     ]
    },
    {
     "name": "stderr",
     "output_type": "stream",
     "text": [
      "I0607 12:28:44.046528 140294592194432 bert_sct_utils_v2.py:593]   name = module/bert/encoder/layer_2/attention/self/key/bias:0, shape = (768,)\n"
     ]
    },
    {
     "name": "stdout",
     "output_type": "stream",
     "text": [
      "INFO:tensorflow:  name = module/bert/encoder/layer_2/attention/self/value/kernel:0, shape = (768, 768)\n"
     ]
    },
    {
     "name": "stderr",
     "output_type": "stream",
     "text": [
      "I0607 12:28:44.048959 140294592194432 bert_sct_utils_v2.py:593]   name = module/bert/encoder/layer_2/attention/self/value/kernel:0, shape = (768, 768)\n"
     ]
    },
    {
     "name": "stdout",
     "output_type": "stream",
     "text": [
      "INFO:tensorflow:  name = module/bert/encoder/layer_2/attention/self/value/bias:0, shape = (768,)\n"
     ]
    },
    {
     "name": "stderr",
     "output_type": "stream",
     "text": [
      "I0607 12:28:44.050954 140294592194432 bert_sct_utils_v2.py:593]   name = module/bert/encoder/layer_2/attention/self/value/bias:0, shape = (768,)\n"
     ]
    },
    {
     "name": "stdout",
     "output_type": "stream",
     "text": [
      "INFO:tensorflow:  name = module/bert/encoder/layer_2/attention/output/dense/kernel:0, shape = (768, 768)\n"
     ]
    },
    {
     "name": "stderr",
     "output_type": "stream",
     "text": [
      "I0607 12:28:44.053349 140294592194432 bert_sct_utils_v2.py:593]   name = module/bert/encoder/layer_2/attention/output/dense/kernel:0, shape = (768, 768)\n"
     ]
    },
    {
     "name": "stdout",
     "output_type": "stream",
     "text": [
      "INFO:tensorflow:  name = module/bert/encoder/layer_2/attention/output/dense/bias:0, shape = (768,)\n"
     ]
    },
    {
     "name": "stderr",
     "output_type": "stream",
     "text": [
      "I0607 12:28:44.055758 140294592194432 bert_sct_utils_v2.py:593]   name = module/bert/encoder/layer_2/attention/output/dense/bias:0, shape = (768,)\n"
     ]
    },
    {
     "name": "stdout",
     "output_type": "stream",
     "text": [
      "INFO:tensorflow:  name = module/bert/encoder/layer_2/attention/output/LayerNorm/beta:0, shape = (768,)\n"
     ]
    },
    {
     "name": "stderr",
     "output_type": "stream",
     "text": [
      "I0607 12:28:44.058137 140294592194432 bert_sct_utils_v2.py:593]   name = module/bert/encoder/layer_2/attention/output/LayerNorm/beta:0, shape = (768,)\n"
     ]
    },
    {
     "name": "stdout",
     "output_type": "stream",
     "text": [
      "INFO:tensorflow:  name = module/bert/encoder/layer_2/attention/output/LayerNorm/gamma:0, shape = (768,)\n"
     ]
    },
    {
     "name": "stderr",
     "output_type": "stream",
     "text": [
      "I0607 12:28:44.061607 140294592194432 bert_sct_utils_v2.py:593]   name = module/bert/encoder/layer_2/attention/output/LayerNorm/gamma:0, shape = (768,)\n"
     ]
    },
    {
     "name": "stdout",
     "output_type": "stream",
     "text": [
      "INFO:tensorflow:  name = module/bert/encoder/layer_2/intermediate/dense/kernel:0, shape = (768, 3072)\n"
     ]
    },
    {
     "name": "stderr",
     "output_type": "stream",
     "text": [
      "I0607 12:28:44.065263 140294592194432 bert_sct_utils_v2.py:593]   name = module/bert/encoder/layer_2/intermediate/dense/kernel:0, shape = (768, 3072)\n"
     ]
    },
    {
     "name": "stdout",
     "output_type": "stream",
     "text": [
      "INFO:tensorflow:  name = module/bert/encoder/layer_2/intermediate/dense/bias:0, shape = (3072,)\n"
     ]
    },
    {
     "name": "stderr",
     "output_type": "stream",
     "text": [
      "I0607 12:28:44.067724 140294592194432 bert_sct_utils_v2.py:593]   name = module/bert/encoder/layer_2/intermediate/dense/bias:0, shape = (3072,)\n"
     ]
    },
    {
     "name": "stdout",
     "output_type": "stream",
     "text": [
      "INFO:tensorflow:  name = module/bert/encoder/layer_2/output/dense/kernel:0, shape = (3072, 768)\n"
     ]
    },
    {
     "name": "stderr",
     "output_type": "stream",
     "text": [
      "I0607 12:28:44.070110 140294592194432 bert_sct_utils_v2.py:593]   name = module/bert/encoder/layer_2/output/dense/kernel:0, shape = (3072, 768)\n"
     ]
    },
    {
     "name": "stdout",
     "output_type": "stream",
     "text": [
      "INFO:tensorflow:  name = module/bert/encoder/layer_2/output/dense/bias:0, shape = (768,)\n"
     ]
    },
    {
     "name": "stderr",
     "output_type": "stream",
     "text": [
      "I0607 12:28:44.072553 140294592194432 bert_sct_utils_v2.py:593]   name = module/bert/encoder/layer_2/output/dense/bias:0, shape = (768,)\n"
     ]
    },
    {
     "name": "stdout",
     "output_type": "stream",
     "text": [
      "INFO:tensorflow:  name = module/bert/encoder/layer_2/output/LayerNorm/beta:0, shape = (768,)\n"
     ]
    },
    {
     "name": "stderr",
     "output_type": "stream",
     "text": [
      "I0607 12:28:44.074584 140294592194432 bert_sct_utils_v2.py:593]   name = module/bert/encoder/layer_2/output/LayerNorm/beta:0, shape = (768,)\n"
     ]
    },
    {
     "name": "stdout",
     "output_type": "stream",
     "text": [
      "INFO:tensorflow:  name = module/bert/encoder/layer_2/output/LayerNorm/gamma:0, shape = (768,)\n"
     ]
    },
    {
     "name": "stderr",
     "output_type": "stream",
     "text": [
      "I0607 12:28:44.077024 140294592194432 bert_sct_utils_v2.py:593]   name = module/bert/encoder/layer_2/output/LayerNorm/gamma:0, shape = (768,)\n"
     ]
    },
    {
     "name": "stdout",
     "output_type": "stream",
     "text": [
      "INFO:tensorflow:  name = module/bert/encoder/layer_3/attention/self/query/kernel:0, shape = (768, 768)\n"
     ]
    },
    {
     "name": "stderr",
     "output_type": "stream",
     "text": [
      "I0607 12:28:44.079480 140294592194432 bert_sct_utils_v2.py:593]   name = module/bert/encoder/layer_3/attention/self/query/kernel:0, shape = (768, 768)\n"
     ]
    },
    {
     "name": "stdout",
     "output_type": "stream",
     "text": [
      "INFO:tensorflow:  name = module/bert/encoder/layer_3/attention/self/query/bias:0, shape = (768,)\n"
     ]
    },
    {
     "name": "stderr",
     "output_type": "stream",
     "text": [
      "I0607 12:28:44.081973 140294592194432 bert_sct_utils_v2.py:593]   name = module/bert/encoder/layer_3/attention/self/query/bias:0, shape = (768,)\n"
     ]
    },
    {
     "name": "stdout",
     "output_type": "stream",
     "text": [
      "INFO:tensorflow:  name = module/bert/encoder/layer_3/attention/self/key/kernel:0, shape = (768, 768)\n"
     ]
    },
    {
     "name": "stderr",
     "output_type": "stream",
     "text": [
      "I0607 12:28:44.084482 140294592194432 bert_sct_utils_v2.py:593]   name = module/bert/encoder/layer_3/attention/self/key/kernel:0, shape = (768, 768)\n"
     ]
    },
    {
     "name": "stdout",
     "output_type": "stream",
     "text": [
      "INFO:tensorflow:  name = module/bert/encoder/layer_3/attention/self/key/bias:0, shape = (768,)\n"
     ]
    },
    {
     "name": "stderr",
     "output_type": "stream",
     "text": [
      "I0607 12:28:44.086539 140294592194432 bert_sct_utils_v2.py:593]   name = module/bert/encoder/layer_3/attention/self/key/bias:0, shape = (768,)\n"
     ]
    },
    {
     "name": "stdout",
     "output_type": "stream",
     "text": [
      "INFO:tensorflow:  name = module/bert/encoder/layer_3/attention/self/value/kernel:0, shape = (768, 768)\n"
     ]
    },
    {
     "name": "stderr",
     "output_type": "stream",
     "text": [
      "I0607 12:28:44.089326 140294592194432 bert_sct_utils_v2.py:593]   name = module/bert/encoder/layer_3/attention/self/value/kernel:0, shape = (768, 768)\n"
     ]
    },
    {
     "name": "stdout",
     "output_type": "stream",
     "text": [
      "INFO:tensorflow:  name = module/bert/encoder/layer_3/attention/self/value/bias:0, shape = (768,)\n"
     ]
    },
    {
     "name": "stderr",
     "output_type": "stream",
     "text": [
      "I0607 12:28:44.091681 140294592194432 bert_sct_utils_v2.py:593]   name = module/bert/encoder/layer_3/attention/self/value/bias:0, shape = (768,)\n"
     ]
    },
    {
     "name": "stdout",
     "output_type": "stream",
     "text": [
      "INFO:tensorflow:  name = module/bert/encoder/layer_3/attention/output/dense/kernel:0, shape = (768, 768)\n"
     ]
    },
    {
     "name": "stderr",
     "output_type": "stream",
     "text": [
      "I0607 12:28:44.094062 140294592194432 bert_sct_utils_v2.py:593]   name = module/bert/encoder/layer_3/attention/output/dense/kernel:0, shape = (768, 768)\n"
     ]
    },
    {
     "name": "stdout",
     "output_type": "stream",
     "text": [
      "INFO:tensorflow:  name = module/bert/encoder/layer_3/attention/output/dense/bias:0, shape = (768,)\n"
     ]
    },
    {
     "name": "stderr",
     "output_type": "stream",
     "text": [
      "I0607 12:28:44.096991 140294592194432 bert_sct_utils_v2.py:593]   name = module/bert/encoder/layer_3/attention/output/dense/bias:0, shape = (768,)\n"
     ]
    },
    {
     "name": "stdout",
     "output_type": "stream",
     "text": [
      "INFO:tensorflow:  name = module/bert/encoder/layer_3/attention/output/LayerNorm/beta:0, shape = (768,)\n"
     ]
    },
    {
     "name": "stderr",
     "output_type": "stream",
     "text": [
      "I0607 12:28:44.099332 140294592194432 bert_sct_utils_v2.py:593]   name = module/bert/encoder/layer_3/attention/output/LayerNorm/beta:0, shape = (768,)\n"
     ]
    },
    {
     "name": "stdout",
     "output_type": "stream",
     "text": [
      "INFO:tensorflow:  name = module/bert/encoder/layer_3/attention/output/LayerNorm/gamma:0, shape = (768,)\n"
     ]
    },
    {
     "name": "stderr",
     "output_type": "stream",
     "text": [
      "I0607 12:28:44.102238 140294592194432 bert_sct_utils_v2.py:593]   name = module/bert/encoder/layer_3/attention/output/LayerNorm/gamma:0, shape = (768,)\n"
     ]
    },
    {
     "name": "stdout",
     "output_type": "stream",
     "text": [
      "INFO:tensorflow:  name = module/bert/encoder/layer_3/intermediate/dense/kernel:0, shape = (768, 3072)\n"
     ]
    },
    {
     "name": "stderr",
     "output_type": "stream",
     "text": [
      "I0607 12:28:44.105178 140294592194432 bert_sct_utils_v2.py:593]   name = module/bert/encoder/layer_3/intermediate/dense/kernel:0, shape = (768, 3072)\n"
     ]
    },
    {
     "name": "stdout",
     "output_type": "stream",
     "text": [
      "INFO:tensorflow:  name = module/bert/encoder/layer_3/intermediate/dense/bias:0, shape = (3072,)\n"
     ]
    },
    {
     "name": "stderr",
     "output_type": "stream",
     "text": [
      "I0607 12:28:44.107807 140294592194432 bert_sct_utils_v2.py:593]   name = module/bert/encoder/layer_3/intermediate/dense/bias:0, shape = (3072,)\n"
     ]
    },
    {
     "name": "stdout",
     "output_type": "stream",
     "text": [
      "INFO:tensorflow:  name = module/bert/encoder/layer_3/output/dense/kernel:0, shape = (3072, 768)\n"
     ]
    },
    {
     "name": "stderr",
     "output_type": "stream",
     "text": [
      "I0607 12:28:44.110092 140294592194432 bert_sct_utils_v2.py:593]   name = module/bert/encoder/layer_3/output/dense/kernel:0, shape = (3072, 768)\n"
     ]
    },
    {
     "name": "stdout",
     "output_type": "stream",
     "text": [
      "INFO:tensorflow:  name = module/bert/encoder/layer_3/output/dense/bias:0, shape = (768,)\n"
     ]
    },
    {
     "name": "stderr",
     "output_type": "stream",
     "text": [
      "I0607 12:28:44.112095 140294592194432 bert_sct_utils_v2.py:593]   name = module/bert/encoder/layer_3/output/dense/bias:0, shape = (768,)\n"
     ]
    },
    {
     "name": "stdout",
     "output_type": "stream",
     "text": [
      "INFO:tensorflow:  name = module/bert/encoder/layer_3/output/LayerNorm/beta:0, shape = (768,)\n"
     ]
    },
    {
     "name": "stderr",
     "output_type": "stream",
     "text": [
      "I0607 12:28:44.114290 140294592194432 bert_sct_utils_v2.py:593]   name = module/bert/encoder/layer_3/output/LayerNorm/beta:0, shape = (768,)\n"
     ]
    },
    {
     "name": "stdout",
     "output_type": "stream",
     "text": [
      "INFO:tensorflow:  name = module/bert/encoder/layer_3/output/LayerNorm/gamma:0, shape = (768,)\n"
     ]
    },
    {
     "name": "stderr",
     "output_type": "stream",
     "text": [
      "I0607 12:28:44.116588 140294592194432 bert_sct_utils_v2.py:593]   name = module/bert/encoder/layer_3/output/LayerNorm/gamma:0, shape = (768,)\n"
     ]
    },
    {
     "name": "stdout",
     "output_type": "stream",
     "text": [
      "INFO:tensorflow:  name = module/bert/encoder/layer_4/attention/self/query/kernel:0, shape = (768, 768)\n"
     ]
    },
    {
     "name": "stderr",
     "output_type": "stream",
     "text": [
      "I0607 12:28:44.118695 140294592194432 bert_sct_utils_v2.py:593]   name = module/bert/encoder/layer_4/attention/self/query/kernel:0, shape = (768, 768)\n"
     ]
    },
    {
     "name": "stdout",
     "output_type": "stream",
     "text": [
      "INFO:tensorflow:  name = module/bert/encoder/layer_4/attention/self/query/bias:0, shape = (768,)\n"
     ]
    },
    {
     "name": "stderr",
     "output_type": "stream",
     "text": [
      "I0607 12:28:44.121420 140294592194432 bert_sct_utils_v2.py:593]   name = module/bert/encoder/layer_4/attention/self/query/bias:0, shape = (768,)\n"
     ]
    },
    {
     "name": "stdout",
     "output_type": "stream",
     "text": [
      "INFO:tensorflow:  name = module/bert/encoder/layer_4/attention/self/key/kernel:0, shape = (768, 768)\n"
     ]
    },
    {
     "name": "stderr",
     "output_type": "stream",
     "text": [
      "I0607 12:28:44.124119 140294592194432 bert_sct_utils_v2.py:593]   name = module/bert/encoder/layer_4/attention/self/key/kernel:0, shape = (768, 768)\n"
     ]
    },
    {
     "name": "stdout",
     "output_type": "stream",
     "text": [
      "INFO:tensorflow:  name = module/bert/encoder/layer_4/attention/self/key/bias:0, shape = (768,)\n"
     ]
    },
    {
     "name": "stderr",
     "output_type": "stream",
     "text": [
      "I0607 12:28:44.126355 140294592194432 bert_sct_utils_v2.py:593]   name = module/bert/encoder/layer_4/attention/self/key/bias:0, shape = (768,)\n"
     ]
    },
    {
     "name": "stdout",
     "output_type": "stream",
     "text": [
      "INFO:tensorflow:  name = module/bert/encoder/layer_4/attention/self/value/kernel:0, shape = (768, 768)\n"
     ]
    },
    {
     "name": "stderr",
     "output_type": "stream",
     "text": [
      "I0607 12:28:44.129000 140294592194432 bert_sct_utils_v2.py:593]   name = module/bert/encoder/layer_4/attention/self/value/kernel:0, shape = (768, 768)\n"
     ]
    },
    {
     "name": "stdout",
     "output_type": "stream",
     "text": [
      "INFO:tensorflow:  name = module/bert/encoder/layer_4/attention/self/value/bias:0, shape = (768,)\n"
     ]
    },
    {
     "name": "stderr",
     "output_type": "stream",
     "text": [
      "I0607 12:28:44.131710 140294592194432 bert_sct_utils_v2.py:593]   name = module/bert/encoder/layer_4/attention/self/value/bias:0, shape = (768,)\n"
     ]
    },
    {
     "name": "stdout",
     "output_type": "stream",
     "text": [
      "INFO:tensorflow:  name = module/bert/encoder/layer_4/attention/output/dense/kernel:0, shape = (768, 768)\n"
     ]
    },
    {
     "name": "stderr",
     "output_type": "stream",
     "text": [
      "I0607 12:28:44.134027 140294592194432 bert_sct_utils_v2.py:593]   name = module/bert/encoder/layer_4/attention/output/dense/kernel:0, shape = (768, 768)\n"
     ]
    },
    {
     "name": "stdout",
     "output_type": "stream",
     "text": [
      "INFO:tensorflow:  name = module/bert/encoder/layer_4/attention/output/dense/bias:0, shape = (768,)\n"
     ]
    },
    {
     "name": "stderr",
     "output_type": "stream",
     "text": [
      "I0607 12:28:44.136760 140294592194432 bert_sct_utils_v2.py:593]   name = module/bert/encoder/layer_4/attention/output/dense/bias:0, shape = (768,)\n"
     ]
    },
    {
     "name": "stdout",
     "output_type": "stream",
     "text": [
      "INFO:tensorflow:  name = module/bert/encoder/layer_4/attention/output/LayerNorm/beta:0, shape = (768,)\n"
     ]
    },
    {
     "name": "stderr",
     "output_type": "stream",
     "text": [
      "I0607 12:28:44.139418 140294592194432 bert_sct_utils_v2.py:593]   name = module/bert/encoder/layer_4/attention/output/LayerNorm/beta:0, shape = (768,)\n"
     ]
    },
    {
     "name": "stdout",
     "output_type": "stream",
     "text": [
      "INFO:tensorflow:  name = module/bert/encoder/layer_4/attention/output/LayerNorm/gamma:0, shape = (768,)\n"
     ]
    },
    {
     "name": "stderr",
     "output_type": "stream",
     "text": [
      "I0607 12:28:44.141557 140294592194432 bert_sct_utils_v2.py:593]   name = module/bert/encoder/layer_4/attention/output/LayerNorm/gamma:0, shape = (768,)\n"
     ]
    },
    {
     "name": "stdout",
     "output_type": "stream",
     "text": [
      "INFO:tensorflow:  name = module/bert/encoder/layer_4/intermediate/dense/kernel:0, shape = (768, 3072)\n"
     ]
    },
    {
     "name": "stderr",
     "output_type": "stream",
     "text": [
      "I0607 12:28:44.144188 140294592194432 bert_sct_utils_v2.py:593]   name = module/bert/encoder/layer_4/intermediate/dense/kernel:0, shape = (768, 3072)\n"
     ]
    },
    {
     "name": "stdout",
     "output_type": "stream",
     "text": [
      "INFO:tensorflow:  name = module/bert/encoder/layer_4/intermediate/dense/bias:0, shape = (3072,)\n"
     ]
    },
    {
     "name": "stderr",
     "output_type": "stream",
     "text": [
      "I0607 12:28:44.146529 140294592194432 bert_sct_utils_v2.py:593]   name = module/bert/encoder/layer_4/intermediate/dense/bias:0, shape = (3072,)\n"
     ]
    },
    {
     "name": "stdout",
     "output_type": "stream",
     "text": [
      "INFO:tensorflow:  name = module/bert/encoder/layer_4/output/dense/kernel:0, shape = (3072, 768)\n"
     ]
    },
    {
     "name": "stderr",
     "output_type": "stream",
     "text": [
      "I0607 12:28:44.148485 140294592194432 bert_sct_utils_v2.py:593]   name = module/bert/encoder/layer_4/output/dense/kernel:0, shape = (3072, 768)\n"
     ]
    },
    {
     "name": "stdout",
     "output_type": "stream",
     "text": [
      "INFO:tensorflow:  name = module/bert/encoder/layer_4/output/dense/bias:0, shape = (768,)\n"
     ]
    },
    {
     "name": "stderr",
     "output_type": "stream",
     "text": [
      "I0607 12:28:44.150870 140294592194432 bert_sct_utils_v2.py:593]   name = module/bert/encoder/layer_4/output/dense/bias:0, shape = (768,)\n"
     ]
    },
    {
     "name": "stdout",
     "output_type": "stream",
     "text": [
      "INFO:tensorflow:  name = module/bert/encoder/layer_4/output/LayerNorm/beta:0, shape = (768,)\n"
     ]
    },
    {
     "name": "stderr",
     "output_type": "stream",
     "text": [
      "I0607 12:28:44.153295 140294592194432 bert_sct_utils_v2.py:593]   name = module/bert/encoder/layer_4/output/LayerNorm/beta:0, shape = (768,)\n"
     ]
    },
    {
     "name": "stdout",
     "output_type": "stream",
     "text": [
      "INFO:tensorflow:  name = module/bert/encoder/layer_4/output/LayerNorm/gamma:0, shape = (768,)\n"
     ]
    },
    {
     "name": "stderr",
     "output_type": "stream",
     "text": [
      "I0607 12:28:44.156033 140294592194432 bert_sct_utils_v2.py:593]   name = module/bert/encoder/layer_4/output/LayerNorm/gamma:0, shape = (768,)\n"
     ]
    },
    {
     "name": "stdout",
     "output_type": "stream",
     "text": [
      "INFO:tensorflow:  name = module/bert/encoder/layer_5/attention/self/query/kernel:0, shape = (768, 768)\n"
     ]
    },
    {
     "name": "stderr",
     "output_type": "stream",
     "text": [
      "I0607 12:28:44.157865 140294592194432 bert_sct_utils_v2.py:593]   name = module/bert/encoder/layer_5/attention/self/query/kernel:0, shape = (768, 768)\n"
     ]
    },
    {
     "name": "stdout",
     "output_type": "stream",
     "text": [
      "INFO:tensorflow:  name = module/bert/encoder/layer_5/attention/self/query/bias:0, shape = (768,)\n"
     ]
    },
    {
     "name": "stderr",
     "output_type": "stream",
     "text": [
      "I0607 12:28:44.160249 140294592194432 bert_sct_utils_v2.py:593]   name = module/bert/encoder/layer_5/attention/self/query/bias:0, shape = (768,)\n"
     ]
    },
    {
     "name": "stdout",
     "output_type": "stream",
     "text": [
      "INFO:tensorflow:  name = module/bert/encoder/layer_5/attention/self/key/kernel:0, shape = (768, 768)\n"
     ]
    },
    {
     "name": "stderr",
     "output_type": "stream",
     "text": [
      "I0607 12:28:44.162608 140294592194432 bert_sct_utils_v2.py:593]   name = module/bert/encoder/layer_5/attention/self/key/kernel:0, shape = (768, 768)\n"
     ]
    },
    {
     "name": "stdout",
     "output_type": "stream",
     "text": [
      "INFO:tensorflow:  name = module/bert/encoder/layer_5/attention/self/key/bias:0, shape = (768,)\n"
     ]
    },
    {
     "name": "stderr",
     "output_type": "stream",
     "text": [
      "I0607 12:28:44.165289 140294592194432 bert_sct_utils_v2.py:593]   name = module/bert/encoder/layer_5/attention/self/key/bias:0, shape = (768,)\n"
     ]
    },
    {
     "name": "stdout",
     "output_type": "stream",
     "text": [
      "INFO:tensorflow:  name = module/bert/encoder/layer_5/attention/self/value/kernel:0, shape = (768, 768)\n"
     ]
    },
    {
     "name": "stderr",
     "output_type": "stream",
     "text": [
      "I0607 12:28:44.173971 140294592194432 bert_sct_utils_v2.py:593]   name = module/bert/encoder/layer_5/attention/self/value/kernel:0, shape = (768, 768)\n"
     ]
    },
    {
     "name": "stdout",
     "output_type": "stream",
     "text": [
      "INFO:tensorflow:  name = module/bert/encoder/layer_5/attention/self/value/bias:0, shape = (768,)\n"
     ]
    },
    {
     "name": "stderr",
     "output_type": "stream",
     "text": [
      "I0607 12:28:44.175889 140294592194432 bert_sct_utils_v2.py:593]   name = module/bert/encoder/layer_5/attention/self/value/bias:0, shape = (768,)\n"
     ]
    },
    {
     "name": "stdout",
     "output_type": "stream",
     "text": [
      "INFO:tensorflow:  name = module/bert/encoder/layer_5/attention/output/dense/kernel:0, shape = (768, 768)\n"
     ]
    },
    {
     "name": "stderr",
     "output_type": "stream",
     "text": [
      "I0607 12:28:44.177923 140294592194432 bert_sct_utils_v2.py:593]   name = module/bert/encoder/layer_5/attention/output/dense/kernel:0, shape = (768, 768)\n"
     ]
    },
    {
     "name": "stdout",
     "output_type": "stream",
     "text": [
      "INFO:tensorflow:  name = module/bert/encoder/layer_5/attention/output/dense/bias:0, shape = (768,)\n"
     ]
    },
    {
     "name": "stderr",
     "output_type": "stream",
     "text": [
      "I0607 12:28:44.181091 140294592194432 bert_sct_utils_v2.py:593]   name = module/bert/encoder/layer_5/attention/output/dense/bias:0, shape = (768,)\n"
     ]
    },
    {
     "name": "stdout",
     "output_type": "stream",
     "text": [
      "INFO:tensorflow:  name = module/bert/encoder/layer_5/attention/output/LayerNorm/beta:0, shape = (768,)\n"
     ]
    },
    {
     "name": "stderr",
     "output_type": "stream",
     "text": [
      "I0607 12:28:44.183430 140294592194432 bert_sct_utils_v2.py:593]   name = module/bert/encoder/layer_5/attention/output/LayerNorm/beta:0, shape = (768,)\n"
     ]
    },
    {
     "name": "stdout",
     "output_type": "stream",
     "text": [
      "INFO:tensorflow:  name = module/bert/encoder/layer_5/attention/output/LayerNorm/gamma:0, shape = (768,)\n"
     ]
    },
    {
     "name": "stderr",
     "output_type": "stream",
     "text": [
      "I0607 12:28:44.185048 140294592194432 bert_sct_utils_v2.py:593]   name = module/bert/encoder/layer_5/attention/output/LayerNorm/gamma:0, shape = (768,)\n"
     ]
    },
    {
     "name": "stdout",
     "output_type": "stream",
     "text": [
      "INFO:tensorflow:  name = module/bert/encoder/layer_5/intermediate/dense/kernel:0, shape = (768, 3072)\n"
     ]
    },
    {
     "name": "stderr",
     "output_type": "stream",
     "text": [
      "I0607 12:28:44.189704 140294592194432 bert_sct_utils_v2.py:593]   name = module/bert/encoder/layer_5/intermediate/dense/kernel:0, shape = (768, 3072)\n"
     ]
    },
    {
     "name": "stdout",
     "output_type": "stream",
     "text": [
      "INFO:tensorflow:  name = module/bert/encoder/layer_5/intermediate/dense/bias:0, shape = (3072,)\n"
     ]
    },
    {
     "name": "stderr",
     "output_type": "stream",
     "text": [
      "I0607 12:28:44.193805 140294592194432 bert_sct_utils_v2.py:593]   name = module/bert/encoder/layer_5/intermediate/dense/bias:0, shape = (3072,)\n"
     ]
    },
    {
     "name": "stdout",
     "output_type": "stream",
     "text": [
      "INFO:tensorflow:  name = module/bert/encoder/layer_5/output/dense/kernel:0, shape = (3072, 768)\n"
     ]
    },
    {
     "name": "stderr",
     "output_type": "stream",
     "text": [
      "I0607 12:28:44.195716 140294592194432 bert_sct_utils_v2.py:593]   name = module/bert/encoder/layer_5/output/dense/kernel:0, shape = (3072, 768)\n"
     ]
    },
    {
     "name": "stdout",
     "output_type": "stream",
     "text": [
      "INFO:tensorflow:  name = module/bert/encoder/layer_5/output/dense/bias:0, shape = (768,)\n"
     ]
    },
    {
     "name": "stderr",
     "output_type": "stream",
     "text": [
      "I0607 12:28:44.197506 140294592194432 bert_sct_utils_v2.py:593]   name = module/bert/encoder/layer_5/output/dense/bias:0, shape = (768,)\n"
     ]
    },
    {
     "name": "stdout",
     "output_type": "stream",
     "text": [
      "INFO:tensorflow:  name = module/bert/encoder/layer_5/output/LayerNorm/beta:0, shape = (768,)\n"
     ]
    },
    {
     "name": "stderr",
     "output_type": "stream",
     "text": [
      "I0607 12:28:44.200378 140294592194432 bert_sct_utils_v2.py:593]   name = module/bert/encoder/layer_5/output/LayerNorm/beta:0, shape = (768,)\n"
     ]
    },
    {
     "name": "stdout",
     "output_type": "stream",
     "text": [
      "INFO:tensorflow:  name = module/bert/encoder/layer_5/output/LayerNorm/gamma:0, shape = (768,)\n"
     ]
    },
    {
     "name": "stderr",
     "output_type": "stream",
     "text": [
      "I0607 12:28:44.202792 140294592194432 bert_sct_utils_v2.py:593]   name = module/bert/encoder/layer_5/output/LayerNorm/gamma:0, shape = (768,)\n"
     ]
    },
    {
     "name": "stdout",
     "output_type": "stream",
     "text": [
      "INFO:tensorflow:  name = module/bert/encoder/layer_6/attention/self/query/kernel:0, shape = (768, 768)\n"
     ]
    },
    {
     "name": "stderr",
     "output_type": "stream",
     "text": [
      "I0607 12:28:44.204719 140294592194432 bert_sct_utils_v2.py:593]   name = module/bert/encoder/layer_6/attention/self/query/kernel:0, shape = (768, 768)\n"
     ]
    },
    {
     "name": "stdout",
     "output_type": "stream",
     "text": [
      "INFO:tensorflow:  name = module/bert/encoder/layer_6/attention/self/query/bias:0, shape = (768,)\n"
     ]
    },
    {
     "name": "stderr",
     "output_type": "stream",
     "text": [
      "I0607 12:28:44.207098 140294592194432 bert_sct_utils_v2.py:593]   name = module/bert/encoder/layer_6/attention/self/query/bias:0, shape = (768,)\n"
     ]
    },
    {
     "name": "stdout",
     "output_type": "stream",
     "text": [
      "INFO:tensorflow:  name = module/bert/encoder/layer_6/attention/self/key/kernel:0, shape = (768, 768)\n"
     ]
    },
    {
     "name": "stderr",
     "output_type": "stream",
     "text": [
      "I0607 12:28:44.209357 140294592194432 bert_sct_utils_v2.py:593]   name = module/bert/encoder/layer_6/attention/self/key/kernel:0, shape = (768, 768)\n"
     ]
    },
    {
     "name": "stdout",
     "output_type": "stream",
     "text": [
      "INFO:tensorflow:  name = module/bert/encoder/layer_6/attention/self/key/bias:0, shape = (768,)\n"
     ]
    },
    {
     "name": "stderr",
     "output_type": "stream",
     "text": [
      "I0607 12:28:44.211496 140294592194432 bert_sct_utils_v2.py:593]   name = module/bert/encoder/layer_6/attention/self/key/bias:0, shape = (768,)\n"
     ]
    },
    {
     "name": "stdout",
     "output_type": "stream",
     "text": [
      "INFO:tensorflow:  name = module/bert/encoder/layer_6/attention/self/value/kernel:0, shape = (768, 768)\n"
     ]
    },
    {
     "name": "stderr",
     "output_type": "stream",
     "text": [
      "I0607 12:28:44.213850 140294592194432 bert_sct_utils_v2.py:593]   name = module/bert/encoder/layer_6/attention/self/value/kernel:0, shape = (768, 768)\n"
     ]
    },
    {
     "name": "stdout",
     "output_type": "stream",
     "text": [
      "INFO:tensorflow:  name = module/bert/encoder/layer_6/attention/self/value/bias:0, shape = (768,)\n"
     ]
    },
    {
     "name": "stderr",
     "output_type": "stream",
     "text": [
      "I0607 12:28:44.216227 140294592194432 bert_sct_utils_v2.py:593]   name = module/bert/encoder/layer_6/attention/self/value/bias:0, shape = (768,)\n"
     ]
    },
    {
     "name": "stdout",
     "output_type": "stream",
     "text": [
      "INFO:tensorflow:  name = module/bert/encoder/layer_6/attention/output/dense/kernel:0, shape = (768, 768)\n"
     ]
    },
    {
     "name": "stderr",
     "output_type": "stream",
     "text": [
      "I0607 12:28:44.218747 140294592194432 bert_sct_utils_v2.py:593]   name = module/bert/encoder/layer_6/attention/output/dense/kernel:0, shape = (768, 768)\n"
     ]
    },
    {
     "name": "stdout",
     "output_type": "stream",
     "text": [
      "INFO:tensorflow:  name = module/bert/encoder/layer_6/attention/output/dense/bias:0, shape = (768,)\n"
     ]
    },
    {
     "name": "stderr",
     "output_type": "stream",
     "text": [
      "I0607 12:28:44.221005 140294592194432 bert_sct_utils_v2.py:593]   name = module/bert/encoder/layer_6/attention/output/dense/bias:0, shape = (768,)\n"
     ]
    },
    {
     "name": "stdout",
     "output_type": "stream",
     "text": [
      "INFO:tensorflow:  name = module/bert/encoder/layer_6/attention/output/LayerNorm/beta:0, shape = (768,)\n"
     ]
    },
    {
     "name": "stderr",
     "output_type": "stream",
     "text": [
      "I0607 12:28:44.223220 140294592194432 bert_sct_utils_v2.py:593]   name = module/bert/encoder/layer_6/attention/output/LayerNorm/beta:0, shape = (768,)\n"
     ]
    },
    {
     "name": "stdout",
     "output_type": "stream",
     "text": [
      "INFO:tensorflow:  name = module/bert/encoder/layer_6/attention/output/LayerNorm/gamma:0, shape = (768,)\n"
     ]
    },
    {
     "name": "stderr",
     "output_type": "stream",
     "text": [
      "I0607 12:28:44.225572 140294592194432 bert_sct_utils_v2.py:593]   name = module/bert/encoder/layer_6/attention/output/LayerNorm/gamma:0, shape = (768,)\n"
     ]
    },
    {
     "name": "stdout",
     "output_type": "stream",
     "text": [
      "INFO:tensorflow:  name = module/bert/encoder/layer_6/intermediate/dense/kernel:0, shape = (768, 3072)\n"
     ]
    },
    {
     "name": "stderr",
     "output_type": "stream",
     "text": [
      "I0607 12:28:44.227998 140294592194432 bert_sct_utils_v2.py:593]   name = module/bert/encoder/layer_6/intermediate/dense/kernel:0, shape = (768, 3072)\n"
     ]
    },
    {
     "name": "stdout",
     "output_type": "stream",
     "text": [
      "INFO:tensorflow:  name = module/bert/encoder/layer_6/intermediate/dense/bias:0, shape = (3072,)\n"
     ]
    },
    {
     "name": "stderr",
     "output_type": "stream",
     "text": [
      "I0607 12:28:44.229993 140294592194432 bert_sct_utils_v2.py:593]   name = module/bert/encoder/layer_6/intermediate/dense/bias:0, shape = (3072,)\n"
     ]
    },
    {
     "name": "stdout",
     "output_type": "stream",
     "text": [
      "INFO:tensorflow:  name = module/bert/encoder/layer_6/output/dense/kernel:0, shape = (3072, 768)\n"
     ]
    },
    {
     "name": "stderr",
     "output_type": "stream",
     "text": [
      "I0607 12:28:44.232339 140294592194432 bert_sct_utils_v2.py:593]   name = module/bert/encoder/layer_6/output/dense/kernel:0, shape = (3072, 768)\n"
     ]
    },
    {
     "name": "stdout",
     "output_type": "stream",
     "text": [
      "INFO:tensorflow:  name = module/bert/encoder/layer_6/output/dense/bias:0, shape = (768,)\n"
     ]
    },
    {
     "name": "stderr",
     "output_type": "stream",
     "text": [
      "I0607 12:28:44.234324 140294592194432 bert_sct_utils_v2.py:593]   name = module/bert/encoder/layer_6/output/dense/bias:0, shape = (768,)\n"
     ]
    },
    {
     "name": "stdout",
     "output_type": "stream",
     "text": [
      "INFO:tensorflow:  name = module/bert/encoder/layer_6/output/LayerNorm/beta:0, shape = (768,)\n"
     ]
    },
    {
     "name": "stderr",
     "output_type": "stream",
     "text": [
      "I0607 12:28:44.236592 140294592194432 bert_sct_utils_v2.py:593]   name = module/bert/encoder/layer_6/output/LayerNorm/beta:0, shape = (768,)\n"
     ]
    },
    {
     "name": "stdout",
     "output_type": "stream",
     "text": [
      "INFO:tensorflow:  name = module/bert/encoder/layer_6/output/LayerNorm/gamma:0, shape = (768,)\n"
     ]
    },
    {
     "name": "stderr",
     "output_type": "stream",
     "text": [
      "I0607 12:28:44.238973 140294592194432 bert_sct_utils_v2.py:593]   name = module/bert/encoder/layer_6/output/LayerNorm/gamma:0, shape = (768,)\n"
     ]
    },
    {
     "name": "stdout",
     "output_type": "stream",
     "text": [
      "INFO:tensorflow:  name = module/bert/encoder/layer_7/attention/self/query/kernel:0, shape = (768, 768)\n"
     ]
    },
    {
     "name": "stderr",
     "output_type": "stream",
     "text": [
      "I0607 12:28:44.241464 140294592194432 bert_sct_utils_v2.py:593]   name = module/bert/encoder/layer_7/attention/self/query/kernel:0, shape = (768, 768)\n"
     ]
    },
    {
     "name": "stdout",
     "output_type": "stream",
     "text": [
      "INFO:tensorflow:  name = module/bert/encoder/layer_7/attention/self/query/bias:0, shape = (768,)\n"
     ]
    },
    {
     "name": "stderr",
     "output_type": "stream",
     "text": [
      "I0607 12:28:44.243515 140294592194432 bert_sct_utils_v2.py:593]   name = module/bert/encoder/layer_7/attention/self/query/bias:0, shape = (768,)\n"
     ]
    },
    {
     "name": "stdout",
     "output_type": "stream",
     "text": [
      "INFO:tensorflow:  name = module/bert/encoder/layer_7/attention/self/key/kernel:0, shape = (768, 768)\n"
     ]
    },
    {
     "name": "stderr",
     "output_type": "stream",
     "text": [
      "I0607 12:28:44.245880 140294592194432 bert_sct_utils_v2.py:593]   name = module/bert/encoder/layer_7/attention/self/key/kernel:0, shape = (768, 768)\n"
     ]
    },
    {
     "name": "stdout",
     "output_type": "stream",
     "text": [
      "INFO:tensorflow:  name = module/bert/encoder/layer_7/attention/self/key/bias:0, shape = (768,)\n"
     ]
    },
    {
     "name": "stderr",
     "output_type": "stream",
     "text": [
      "I0607 12:28:44.247903 140294592194432 bert_sct_utils_v2.py:593]   name = module/bert/encoder/layer_7/attention/self/key/bias:0, shape = (768,)\n"
     ]
    },
    {
     "name": "stdout",
     "output_type": "stream",
     "text": [
      "INFO:tensorflow:  name = module/bert/encoder/layer_7/attention/self/value/kernel:0, shape = (768, 768)\n"
     ]
    },
    {
     "name": "stderr",
     "output_type": "stream",
     "text": [
      "I0607 12:28:44.250178 140294592194432 bert_sct_utils_v2.py:593]   name = module/bert/encoder/layer_7/attention/self/value/kernel:0, shape = (768, 768)\n"
     ]
    },
    {
     "name": "stdout",
     "output_type": "stream",
     "text": [
      "INFO:tensorflow:  name = module/bert/encoder/layer_7/attention/self/value/bias:0, shape = (768,)\n"
     ]
    },
    {
     "name": "stderr",
     "output_type": "stream",
     "text": [
      "I0607 12:28:44.252596 140294592194432 bert_sct_utils_v2.py:593]   name = module/bert/encoder/layer_7/attention/self/value/bias:0, shape = (768,)\n"
     ]
    },
    {
     "name": "stdout",
     "output_type": "stream",
     "text": [
      "INFO:tensorflow:  name = module/bert/encoder/layer_7/attention/output/dense/kernel:0, shape = (768, 768)\n"
     ]
    },
    {
     "name": "stderr",
     "output_type": "stream",
     "text": [
      "I0607 12:28:44.254974 140294592194432 bert_sct_utils_v2.py:593]   name = module/bert/encoder/layer_7/attention/output/dense/kernel:0, shape = (768, 768)\n"
     ]
    },
    {
     "name": "stdout",
     "output_type": "stream",
     "text": [
      "INFO:tensorflow:  name = module/bert/encoder/layer_7/attention/output/dense/bias:0, shape = (768,)\n"
     ]
    },
    {
     "name": "stderr",
     "output_type": "stream",
     "text": [
      "I0607 12:28:44.256993 140294592194432 bert_sct_utils_v2.py:593]   name = module/bert/encoder/layer_7/attention/output/dense/bias:0, shape = (768,)\n"
     ]
    },
    {
     "name": "stdout",
     "output_type": "stream",
     "text": [
      "INFO:tensorflow:  name = module/bert/encoder/layer_7/attention/output/LayerNorm/beta:0, shape = (768,)\n"
     ]
    },
    {
     "name": "stderr",
     "output_type": "stream",
     "text": [
      "I0607 12:28:44.259385 140294592194432 bert_sct_utils_v2.py:593]   name = module/bert/encoder/layer_7/attention/output/LayerNorm/beta:0, shape = (768,)\n"
     ]
    },
    {
     "name": "stdout",
     "output_type": "stream",
     "text": [
      "INFO:tensorflow:  name = module/bert/encoder/layer_7/attention/output/LayerNorm/gamma:0, shape = (768,)\n"
     ]
    },
    {
     "name": "stderr",
     "output_type": "stream",
     "text": [
      "I0607 12:28:44.262094 140294592194432 bert_sct_utils_v2.py:593]   name = module/bert/encoder/layer_7/attention/output/LayerNorm/gamma:0, shape = (768,)\n"
     ]
    },
    {
     "name": "stdout",
     "output_type": "stream",
     "text": [
      "INFO:tensorflow:  name = module/bert/encoder/layer_7/intermediate/dense/kernel:0, shape = (768, 3072)\n"
     ]
    },
    {
     "name": "stderr",
     "output_type": "stream",
     "text": [
      "I0607 12:28:44.264437 140294592194432 bert_sct_utils_v2.py:593]   name = module/bert/encoder/layer_7/intermediate/dense/kernel:0, shape = (768, 3072)\n"
     ]
    },
    {
     "name": "stdout",
     "output_type": "stream",
     "text": [
      "INFO:tensorflow:  name = module/bert/encoder/layer_7/intermediate/dense/bias:0, shape = (3072,)\n"
     ]
    },
    {
     "name": "stderr",
     "output_type": "stream",
     "text": [
      "I0607 12:28:44.266593 140294592194432 bert_sct_utils_v2.py:593]   name = module/bert/encoder/layer_7/intermediate/dense/bias:0, shape = (3072,)\n"
     ]
    },
    {
     "name": "stdout",
     "output_type": "stream",
     "text": [
      "INFO:tensorflow:  name = module/bert/encoder/layer_7/output/dense/kernel:0, shape = (3072, 768)\n"
     ]
    },
    {
     "name": "stderr",
     "output_type": "stream",
     "text": [
      "I0607 12:28:44.269032 140294592194432 bert_sct_utils_v2.py:593]   name = module/bert/encoder/layer_7/output/dense/kernel:0, shape = (3072, 768)\n"
     ]
    },
    {
     "name": "stdout",
     "output_type": "stream",
     "text": [
      "INFO:tensorflow:  name = module/bert/encoder/layer_7/output/dense/bias:0, shape = (768,)\n"
     ]
    },
    {
     "name": "stderr",
     "output_type": "stream",
     "text": [
      "I0607 12:28:44.271143 140294592194432 bert_sct_utils_v2.py:593]   name = module/bert/encoder/layer_7/output/dense/bias:0, shape = (768,)\n"
     ]
    },
    {
     "name": "stdout",
     "output_type": "stream",
     "text": [
      "INFO:tensorflow:  name = module/bert/encoder/layer_7/output/LayerNorm/beta:0, shape = (768,)\n"
     ]
    },
    {
     "name": "stderr",
     "output_type": "stream",
     "text": [
      "I0607 12:28:44.273475 140294592194432 bert_sct_utils_v2.py:593]   name = module/bert/encoder/layer_7/output/LayerNorm/beta:0, shape = (768,)\n"
     ]
    },
    {
     "name": "stdout",
     "output_type": "stream",
     "text": [
      "INFO:tensorflow:  name = module/bert/encoder/layer_7/output/LayerNorm/gamma:0, shape = (768,)\n"
     ]
    },
    {
     "name": "stderr",
     "output_type": "stream",
     "text": [
      "I0607 12:28:44.276237 140294592194432 bert_sct_utils_v2.py:593]   name = module/bert/encoder/layer_7/output/LayerNorm/gamma:0, shape = (768,)\n"
     ]
    },
    {
     "name": "stdout",
     "output_type": "stream",
     "text": [
      "INFO:tensorflow:  name = module/bert/encoder/layer_8/attention/self/query/kernel:0, shape = (768, 768)\n"
     ]
    },
    {
     "name": "stderr",
     "output_type": "stream",
     "text": [
      "I0607 12:28:44.278279 140294592194432 bert_sct_utils_v2.py:593]   name = module/bert/encoder/layer_8/attention/self/query/kernel:0, shape = (768, 768)\n"
     ]
    },
    {
     "name": "stdout",
     "output_type": "stream",
     "text": [
      "INFO:tensorflow:  name = module/bert/encoder/layer_8/attention/self/query/bias:0, shape = (768,)\n"
     ]
    },
    {
     "name": "stderr",
     "output_type": "stream",
     "text": [
      "I0607 12:28:44.280977 140294592194432 bert_sct_utils_v2.py:593]   name = module/bert/encoder/layer_8/attention/self/query/bias:0, shape = (768,)\n"
     ]
    },
    {
     "name": "stdout",
     "output_type": "stream",
     "text": [
      "INFO:tensorflow:  name = module/bert/encoder/layer_8/attention/self/key/kernel:0, shape = (768, 768)\n"
     ]
    },
    {
     "name": "stderr",
     "output_type": "stream",
     "text": [
      "I0607 12:28:44.283382 140294592194432 bert_sct_utils_v2.py:593]   name = module/bert/encoder/layer_8/attention/self/key/kernel:0, shape = (768, 768)\n"
     ]
    },
    {
     "name": "stdout",
     "output_type": "stream",
     "text": [
      "INFO:tensorflow:  name = module/bert/encoder/layer_8/attention/self/key/bias:0, shape = (768,)\n"
     ]
    },
    {
     "name": "stderr",
     "output_type": "stream",
     "text": [
      "I0607 12:28:44.285408 140294592194432 bert_sct_utils_v2.py:593]   name = module/bert/encoder/layer_8/attention/self/key/bias:0, shape = (768,)\n"
     ]
    },
    {
     "name": "stdout",
     "output_type": "stream",
     "text": [
      "INFO:tensorflow:  name = module/bert/encoder/layer_8/attention/self/value/kernel:0, shape = (768, 768)\n"
     ]
    },
    {
     "name": "stderr",
     "output_type": "stream",
     "text": [
      "I0607 12:28:44.288058 140294592194432 bert_sct_utils_v2.py:593]   name = module/bert/encoder/layer_8/attention/self/value/kernel:0, shape = (768, 768)\n"
     ]
    },
    {
     "name": "stdout",
     "output_type": "stream",
     "text": [
      "INFO:tensorflow:  name = module/bert/encoder/layer_8/attention/self/value/bias:0, shape = (768,)\n"
     ]
    },
    {
     "name": "stderr",
     "output_type": "stream",
     "text": [
      "I0607 12:28:44.290647 140294592194432 bert_sct_utils_v2.py:593]   name = module/bert/encoder/layer_8/attention/self/value/bias:0, shape = (768,)\n"
     ]
    },
    {
     "name": "stdout",
     "output_type": "stream",
     "text": [
      "INFO:tensorflow:  name = module/bert/encoder/layer_8/attention/output/dense/kernel:0, shape = (768, 768)\n"
     ]
    },
    {
     "name": "stderr",
     "output_type": "stream",
     "text": [
      "I0607 12:28:44.293291 140294592194432 bert_sct_utils_v2.py:593]   name = module/bert/encoder/layer_8/attention/output/dense/kernel:0, shape = (768, 768)\n"
     ]
    },
    {
     "name": "stdout",
     "output_type": "stream",
     "text": [
      "INFO:tensorflow:  name = module/bert/encoder/layer_8/attention/output/dense/bias:0, shape = (768,)\n"
     ]
    },
    {
     "name": "stderr",
     "output_type": "stream",
     "text": [
      "I0607 12:28:44.295833 140294592194432 bert_sct_utils_v2.py:593]   name = module/bert/encoder/layer_8/attention/output/dense/bias:0, shape = (768,)\n"
     ]
    },
    {
     "name": "stdout",
     "output_type": "stream",
     "text": [
      "INFO:tensorflow:  name = module/bert/encoder/layer_8/attention/output/LayerNorm/beta:0, shape = (768,)\n"
     ]
    },
    {
     "name": "stderr",
     "output_type": "stream",
     "text": [
      "I0607 12:28:44.298197 140294592194432 bert_sct_utils_v2.py:593]   name = module/bert/encoder/layer_8/attention/output/LayerNorm/beta:0, shape = (768,)\n"
     ]
    },
    {
     "name": "stdout",
     "output_type": "stream",
     "text": [
      "INFO:tensorflow:  name = module/bert/encoder/layer_8/attention/output/LayerNorm/gamma:0, shape = (768,)\n"
     ]
    },
    {
     "name": "stderr",
     "output_type": "stream",
     "text": [
      "I0607 12:28:44.300965 140294592194432 bert_sct_utils_v2.py:593]   name = module/bert/encoder/layer_8/attention/output/LayerNorm/gamma:0, shape = (768,)\n"
     ]
    },
    {
     "name": "stdout",
     "output_type": "stream",
     "text": [
      "INFO:tensorflow:  name = module/bert/encoder/layer_8/intermediate/dense/kernel:0, shape = (768, 3072)\n"
     ]
    },
    {
     "name": "stderr",
     "output_type": "stream",
     "text": [
      "I0607 12:28:44.303600 140294592194432 bert_sct_utils_v2.py:593]   name = module/bert/encoder/layer_8/intermediate/dense/kernel:0, shape = (768, 3072)\n"
     ]
    },
    {
     "name": "stdout",
     "output_type": "stream",
     "text": [
      "INFO:tensorflow:  name = module/bert/encoder/layer_8/intermediate/dense/bias:0, shape = (3072,)\n"
     ]
    },
    {
     "name": "stderr",
     "output_type": "stream",
     "text": [
      "I0607 12:28:44.305516 140294592194432 bert_sct_utils_v2.py:593]   name = module/bert/encoder/layer_8/intermediate/dense/bias:0, shape = (3072,)\n"
     ]
    },
    {
     "name": "stdout",
     "output_type": "stream",
     "text": [
      "INFO:tensorflow:  name = module/bert/encoder/layer_8/output/dense/kernel:0, shape = (3072, 768)\n"
     ]
    },
    {
     "name": "stderr",
     "output_type": "stream",
     "text": [
      "I0607 12:28:44.307897 140294592194432 bert_sct_utils_v2.py:593]   name = module/bert/encoder/layer_8/output/dense/kernel:0, shape = (3072, 768)\n"
     ]
    },
    {
     "name": "stdout",
     "output_type": "stream",
     "text": [
      "INFO:tensorflow:  name = module/bert/encoder/layer_8/output/dense/bias:0, shape = (768,)\n"
     ]
    },
    {
     "name": "stderr",
     "output_type": "stream",
     "text": [
      "I0607 12:28:44.310309 140294592194432 bert_sct_utils_v2.py:593]   name = module/bert/encoder/layer_8/output/dense/bias:0, shape = (768,)\n"
     ]
    },
    {
     "name": "stdout",
     "output_type": "stream",
     "text": [
      "INFO:tensorflow:  name = module/bert/encoder/layer_8/output/LayerNorm/beta:0, shape = (768,)\n"
     ]
    },
    {
     "name": "stderr",
     "output_type": "stream",
     "text": [
      "I0607 12:28:44.312310 140294592194432 bert_sct_utils_v2.py:593]   name = module/bert/encoder/layer_8/output/LayerNorm/beta:0, shape = (768,)\n"
     ]
    },
    {
     "name": "stdout",
     "output_type": "stream",
     "text": [
      "INFO:tensorflow:  name = module/bert/encoder/layer_8/output/LayerNorm/gamma:0, shape = (768,)\n"
     ]
    },
    {
     "name": "stderr",
     "output_type": "stream",
     "text": [
      "I0607 12:28:44.314650 140294592194432 bert_sct_utils_v2.py:593]   name = module/bert/encoder/layer_8/output/LayerNorm/gamma:0, shape = (768,)\n"
     ]
    },
    {
     "name": "stdout",
     "output_type": "stream",
     "text": [
      "INFO:tensorflow:  name = module/bert/encoder/layer_9/attention/self/query/kernel:0, shape = (768, 768)\n"
     ]
    },
    {
     "name": "stderr",
     "output_type": "stream",
     "text": [
      "I0607 12:28:44.317055 140294592194432 bert_sct_utils_v2.py:593]   name = module/bert/encoder/layer_9/attention/self/query/kernel:0, shape = (768, 768)\n"
     ]
    },
    {
     "name": "stdout",
     "output_type": "stream",
     "text": [
      "INFO:tensorflow:  name = module/bert/encoder/layer_9/attention/self/query/bias:0, shape = (768,)\n"
     ]
    },
    {
     "name": "stderr",
     "output_type": "stream",
     "text": [
      "I0607 12:28:44.319007 140294592194432 bert_sct_utils_v2.py:593]   name = module/bert/encoder/layer_9/attention/self/query/bias:0, shape = (768,)\n"
     ]
    },
    {
     "name": "stdout",
     "output_type": "stream",
     "text": [
      "INFO:tensorflow:  name = module/bert/encoder/layer_9/attention/self/key/kernel:0, shape = (768, 768)\n"
     ]
    },
    {
     "name": "stderr",
     "output_type": "stream",
     "text": [
      "I0607 12:28:44.321418 140294592194432 bert_sct_utils_v2.py:593]   name = module/bert/encoder/layer_9/attention/self/key/kernel:0, shape = (768, 768)\n"
     ]
    },
    {
     "name": "stdout",
     "output_type": "stream",
     "text": [
      "INFO:tensorflow:  name = module/bert/encoder/layer_9/attention/self/key/bias:0, shape = (768,)\n"
     ]
    },
    {
     "name": "stderr",
     "output_type": "stream",
     "text": [
      "I0607 12:28:44.323831 140294592194432 bert_sct_utils_v2.py:593]   name = module/bert/encoder/layer_9/attention/self/key/bias:0, shape = (768,)\n"
     ]
    },
    {
     "name": "stdout",
     "output_type": "stream",
     "text": [
      "INFO:tensorflow:  name = module/bert/encoder/layer_9/attention/self/value/kernel:0, shape = (768, 768)\n"
     ]
    },
    {
     "name": "stderr",
     "output_type": "stream",
     "text": [
      "I0607 12:28:44.325824 140294592194432 bert_sct_utils_v2.py:593]   name = module/bert/encoder/layer_9/attention/self/value/kernel:0, shape = (768, 768)\n"
     ]
    },
    {
     "name": "stdout",
     "output_type": "stream",
     "text": [
      "INFO:tensorflow:  name = module/bert/encoder/layer_9/attention/self/value/bias:0, shape = (768,)\n"
     ]
    },
    {
     "name": "stderr",
     "output_type": "stream",
     "text": [
      "I0607 12:28:44.328101 140294592194432 bert_sct_utils_v2.py:593]   name = module/bert/encoder/layer_9/attention/self/value/bias:0, shape = (768,)\n"
     ]
    },
    {
     "name": "stdout",
     "output_type": "stream",
     "text": [
      "INFO:tensorflow:  name = module/bert/encoder/layer_9/attention/output/dense/kernel:0, shape = (768, 768)\n"
     ]
    },
    {
     "name": "stderr",
     "output_type": "stream",
     "text": [
      "I0607 12:28:44.330786 140294592194432 bert_sct_utils_v2.py:593]   name = module/bert/encoder/layer_9/attention/output/dense/kernel:0, shape = (768, 768)\n"
     ]
    },
    {
     "name": "stdout",
     "output_type": "stream",
     "text": [
      "INFO:tensorflow:  name = module/bert/encoder/layer_9/attention/output/dense/bias:0, shape = (768,)\n"
     ]
    },
    {
     "name": "stderr",
     "output_type": "stream",
     "text": [
      "I0607 12:28:44.332832 140294592194432 bert_sct_utils_v2.py:593]   name = module/bert/encoder/layer_9/attention/output/dense/bias:0, shape = (768,)\n"
     ]
    },
    {
     "name": "stdout",
     "output_type": "stream",
     "text": [
      "INFO:tensorflow:  name = module/bert/encoder/layer_9/attention/output/LayerNorm/beta:0, shape = (768,)\n"
     ]
    },
    {
     "name": "stderr",
     "output_type": "stream",
     "text": [
      "I0607 12:28:44.335517 140294592194432 bert_sct_utils_v2.py:593]   name = module/bert/encoder/layer_9/attention/output/LayerNorm/beta:0, shape = (768,)\n"
     ]
    },
    {
     "name": "stdout",
     "output_type": "stream",
     "text": [
      "INFO:tensorflow:  name = module/bert/encoder/layer_9/attention/output/LayerNorm/gamma:0, shape = (768,)\n"
     ]
    },
    {
     "name": "stderr",
     "output_type": "stream",
     "text": [
      "I0607 12:28:44.337826 140294592194432 bert_sct_utils_v2.py:593]   name = module/bert/encoder/layer_9/attention/output/LayerNorm/gamma:0, shape = (768,)\n"
     ]
    },
    {
     "name": "stdout",
     "output_type": "stream",
     "text": [
      "INFO:tensorflow:  name = module/bert/encoder/layer_9/intermediate/dense/kernel:0, shape = (768, 3072)\n"
     ]
    },
    {
     "name": "stderr",
     "output_type": "stream",
     "text": [
      "I0607 12:28:44.340318 140294592194432 bert_sct_utils_v2.py:593]   name = module/bert/encoder/layer_9/intermediate/dense/kernel:0, shape = (768, 3072)\n"
     ]
    },
    {
     "name": "stdout",
     "output_type": "stream",
     "text": [
      "INFO:tensorflow:  name = module/bert/encoder/layer_9/intermediate/dense/bias:0, shape = (3072,)\n"
     ]
    },
    {
     "name": "stderr",
     "output_type": "stream",
     "text": [
      "I0607 12:28:44.343388 140294592194432 bert_sct_utils_v2.py:593]   name = module/bert/encoder/layer_9/intermediate/dense/bias:0, shape = (3072,)\n"
     ]
    },
    {
     "name": "stdout",
     "output_type": "stream",
     "text": [
      "INFO:tensorflow:  name = module/bert/encoder/layer_9/output/dense/kernel:0, shape = (3072, 768)\n"
     ]
    },
    {
     "name": "stderr",
     "output_type": "stream",
     "text": [
      "I0607 12:28:44.345761 140294592194432 bert_sct_utils_v2.py:593]   name = module/bert/encoder/layer_9/output/dense/kernel:0, shape = (3072, 768)\n"
     ]
    },
    {
     "name": "stdout",
     "output_type": "stream",
     "text": [
      "INFO:tensorflow:  name = module/bert/encoder/layer_9/output/dense/bias:0, shape = (768,)\n"
     ]
    },
    {
     "name": "stderr",
     "output_type": "stream",
     "text": [
      "I0607 12:28:44.347736 140294592194432 bert_sct_utils_v2.py:593]   name = module/bert/encoder/layer_9/output/dense/bias:0, shape = (768,)\n"
     ]
    },
    {
     "name": "stdout",
     "output_type": "stream",
     "text": [
      "INFO:tensorflow:  name = module/bert/encoder/layer_9/output/LayerNorm/beta:0, shape = (768,)\n"
     ]
    },
    {
     "name": "stderr",
     "output_type": "stream",
     "text": [
      "I0607 12:28:44.351652 140294592194432 bert_sct_utils_v2.py:593]   name = module/bert/encoder/layer_9/output/LayerNorm/beta:0, shape = (768,)\n"
     ]
    },
    {
     "name": "stdout",
     "output_type": "stream",
     "text": [
      "INFO:tensorflow:  name = module/bert/encoder/layer_9/output/LayerNorm/gamma:0, shape = (768,)\n"
     ]
    },
    {
     "name": "stderr",
     "output_type": "stream",
     "text": [
      "I0607 12:28:44.354230 140294592194432 bert_sct_utils_v2.py:593]   name = module/bert/encoder/layer_9/output/LayerNorm/gamma:0, shape = (768,)\n"
     ]
    },
    {
     "name": "stdout",
     "output_type": "stream",
     "text": [
      "INFO:tensorflow:  name = module/bert/encoder/layer_10/attention/self/query/kernel:0, shape = (768, 768)\n"
     ]
    },
    {
     "name": "stderr",
     "output_type": "stream",
     "text": [
      "I0607 12:28:44.356736 140294592194432 bert_sct_utils_v2.py:593]   name = module/bert/encoder/layer_10/attention/self/query/kernel:0, shape = (768, 768)\n"
     ]
    },
    {
     "name": "stdout",
     "output_type": "stream",
     "text": [
      "INFO:tensorflow:  name = module/bert/encoder/layer_10/attention/self/query/bias:0, shape = (768,)\n"
     ]
    },
    {
     "name": "stderr",
     "output_type": "stream",
     "text": [
      "I0607 12:28:44.359602 140294592194432 bert_sct_utils_v2.py:593]   name = module/bert/encoder/layer_10/attention/self/query/bias:0, shape = (768,)\n"
     ]
    },
    {
     "name": "stdout",
     "output_type": "stream",
     "text": [
      "INFO:tensorflow:  name = module/bert/encoder/layer_10/attention/self/key/kernel:0, shape = (768, 768)\n"
     ]
    },
    {
     "name": "stderr",
     "output_type": "stream",
     "text": [
      "I0607 12:28:44.362146 140294592194432 bert_sct_utils_v2.py:593]   name = module/bert/encoder/layer_10/attention/self/key/kernel:0, shape = (768, 768)\n"
     ]
    },
    {
     "name": "stdout",
     "output_type": "stream",
     "text": [
      "INFO:tensorflow:  name = module/bert/encoder/layer_10/attention/self/key/bias:0, shape = (768,)\n"
     ]
    },
    {
     "name": "stderr",
     "output_type": "stream",
     "text": [
      "I0607 12:28:44.364690 140294592194432 bert_sct_utils_v2.py:593]   name = module/bert/encoder/layer_10/attention/self/key/bias:0, shape = (768,)\n"
     ]
    },
    {
     "name": "stdout",
     "output_type": "stream",
     "text": [
      "INFO:tensorflow:  name = module/bert/encoder/layer_10/attention/self/value/kernel:0, shape = (768, 768)\n"
     ]
    },
    {
     "name": "stderr",
     "output_type": "stream",
     "text": [
      "I0607 12:28:44.367074 140294592194432 bert_sct_utils_v2.py:593]   name = module/bert/encoder/layer_10/attention/self/value/kernel:0, shape = (768, 768)\n"
     ]
    },
    {
     "name": "stdout",
     "output_type": "stream",
     "text": [
      "INFO:tensorflow:  name = module/bert/encoder/layer_10/attention/self/value/bias:0, shape = (768,)\n"
     ]
    },
    {
     "name": "stderr",
     "output_type": "stream",
     "text": [
      "I0607 12:28:44.369512 140294592194432 bert_sct_utils_v2.py:593]   name = module/bert/encoder/layer_10/attention/self/value/bias:0, shape = (768,)\n"
     ]
    },
    {
     "name": "stdout",
     "output_type": "stream",
     "text": [
      "INFO:tensorflow:  name = module/bert/encoder/layer_10/attention/output/dense/kernel:0, shape = (768, 768)\n"
     ]
    },
    {
     "name": "stderr",
     "output_type": "stream",
     "text": [
      "I0607 12:28:44.371644 140294592194432 bert_sct_utils_v2.py:593]   name = module/bert/encoder/layer_10/attention/output/dense/kernel:0, shape = (768, 768)\n"
     ]
    },
    {
     "name": "stdout",
     "output_type": "stream",
     "text": [
      "INFO:tensorflow:  name = module/bert/encoder/layer_10/attention/output/dense/bias:0, shape = (768,)\n"
     ]
    },
    {
     "name": "stderr",
     "output_type": "stream",
     "text": [
      "I0607 12:28:44.374034 140294592194432 bert_sct_utils_v2.py:593]   name = module/bert/encoder/layer_10/attention/output/dense/bias:0, shape = (768,)\n"
     ]
    },
    {
     "name": "stdout",
     "output_type": "stream",
     "text": [
      "INFO:tensorflow:  name = module/bert/encoder/layer_10/attention/output/LayerNorm/beta:0, shape = (768,)\n"
     ]
    },
    {
     "name": "stderr",
     "output_type": "stream",
     "text": [
      "I0607 12:28:44.376308 140294592194432 bert_sct_utils_v2.py:593]   name = module/bert/encoder/layer_10/attention/output/LayerNorm/beta:0, shape = (768,)\n"
     ]
    },
    {
     "name": "stdout",
     "output_type": "stream",
     "text": [
      "INFO:tensorflow:  name = module/bert/encoder/layer_10/attention/output/LayerNorm/gamma:0, shape = (768,)\n"
     ]
    },
    {
     "name": "stderr",
     "output_type": "stream",
     "text": [
      "I0607 12:28:44.379247 140294592194432 bert_sct_utils_v2.py:593]   name = module/bert/encoder/layer_10/attention/output/LayerNorm/gamma:0, shape = (768,)\n"
     ]
    },
    {
     "name": "stdout",
     "output_type": "stream",
     "text": [
      "INFO:tensorflow:  name = module/bert/encoder/layer_10/intermediate/dense/kernel:0, shape = (768, 3072)\n"
     ]
    },
    {
     "name": "stderr",
     "output_type": "stream",
     "text": [
      "I0607 12:28:44.381510 140294592194432 bert_sct_utils_v2.py:593]   name = module/bert/encoder/layer_10/intermediate/dense/kernel:0, shape = (768, 3072)\n"
     ]
    },
    {
     "name": "stdout",
     "output_type": "stream",
     "text": [
      "INFO:tensorflow:  name = module/bert/encoder/layer_10/intermediate/dense/bias:0, shape = (3072,)\n"
     ]
    },
    {
     "name": "stderr",
     "output_type": "stream",
     "text": [
      "I0607 12:28:44.384114 140294592194432 bert_sct_utils_v2.py:593]   name = module/bert/encoder/layer_10/intermediate/dense/bias:0, shape = (3072,)\n"
     ]
    },
    {
     "name": "stdout",
     "output_type": "stream",
     "text": [
      "INFO:tensorflow:  name = module/bert/encoder/layer_10/output/dense/kernel:0, shape = (3072, 768)\n"
     ]
    },
    {
     "name": "stderr",
     "output_type": "stream",
     "text": [
      "I0607 12:28:44.387230 140294592194432 bert_sct_utils_v2.py:593]   name = module/bert/encoder/layer_10/output/dense/kernel:0, shape = (3072, 768)\n"
     ]
    },
    {
     "name": "stdout",
     "output_type": "stream",
     "text": [
      "INFO:tensorflow:  name = module/bert/encoder/layer_10/output/dense/bias:0, shape = (768,)\n"
     ]
    },
    {
     "name": "stderr",
     "output_type": "stream",
     "text": [
      "I0607 12:28:44.390519 140294592194432 bert_sct_utils_v2.py:593]   name = module/bert/encoder/layer_10/output/dense/bias:0, shape = (768,)\n"
     ]
    },
    {
     "name": "stdout",
     "output_type": "stream",
     "text": [
      "INFO:tensorflow:  name = module/bert/encoder/layer_10/output/LayerNorm/beta:0, shape = (768,)\n"
     ]
    },
    {
     "name": "stderr",
     "output_type": "stream",
     "text": [
      "I0607 12:28:44.392936 140294592194432 bert_sct_utils_v2.py:593]   name = module/bert/encoder/layer_10/output/LayerNorm/beta:0, shape = (768,)\n"
     ]
    },
    {
     "name": "stdout",
     "output_type": "stream",
     "text": [
      "INFO:tensorflow:  name = module/bert/encoder/layer_10/output/LayerNorm/gamma:0, shape = (768,)\n"
     ]
    },
    {
     "name": "stderr",
     "output_type": "stream",
     "text": [
      "I0607 12:28:44.395656 140294592194432 bert_sct_utils_v2.py:593]   name = module/bert/encoder/layer_10/output/LayerNorm/gamma:0, shape = (768,)\n"
     ]
    },
    {
     "name": "stdout",
     "output_type": "stream",
     "text": [
      "INFO:tensorflow:  name = module/bert/encoder/layer_11/attention/self/query/kernel:0, shape = (768, 768)\n"
     ]
    },
    {
     "name": "stderr",
     "output_type": "stream",
     "text": [
      "I0607 12:28:44.398507 140294592194432 bert_sct_utils_v2.py:593]   name = module/bert/encoder/layer_11/attention/self/query/kernel:0, shape = (768, 768)\n"
     ]
    },
    {
     "name": "stdout",
     "output_type": "stream",
     "text": [
      "INFO:tensorflow:  name = module/bert/encoder/layer_11/attention/self/query/bias:0, shape = (768,)\n"
     ]
    },
    {
     "name": "stderr",
     "output_type": "stream",
     "text": [
      "I0607 12:28:44.401931 140294592194432 bert_sct_utils_v2.py:593]   name = module/bert/encoder/layer_11/attention/self/query/bias:0, shape = (768,)\n"
     ]
    },
    {
     "name": "stdout",
     "output_type": "stream",
     "text": [
      "INFO:tensorflow:  name = module/bert/encoder/layer_11/attention/self/key/kernel:0, shape = (768, 768)\n"
     ]
    },
    {
     "name": "stderr",
     "output_type": "stream",
     "text": [
      "I0607 12:28:44.404447 140294592194432 bert_sct_utils_v2.py:593]   name = module/bert/encoder/layer_11/attention/self/key/kernel:0, shape = (768, 768)\n"
     ]
    },
    {
     "name": "stdout",
     "output_type": "stream",
     "text": [
      "INFO:tensorflow:  name = module/bert/encoder/layer_11/attention/self/key/bias:0, shape = (768,)\n"
     ]
    },
    {
     "name": "stderr",
     "output_type": "stream",
     "text": [
      "I0607 12:28:44.406565 140294592194432 bert_sct_utils_v2.py:593]   name = module/bert/encoder/layer_11/attention/self/key/bias:0, shape = (768,)\n"
     ]
    },
    {
     "name": "stdout",
     "output_type": "stream",
     "text": [
      "INFO:tensorflow:  name = module/bert/encoder/layer_11/attention/self/value/kernel:0, shape = (768, 768)\n"
     ]
    },
    {
     "name": "stderr",
     "output_type": "stream",
     "text": [
      "I0607 12:28:44.408965 140294592194432 bert_sct_utils_v2.py:593]   name = module/bert/encoder/layer_11/attention/self/value/kernel:0, shape = (768, 768)\n"
     ]
    },
    {
     "name": "stdout",
     "output_type": "stream",
     "text": [
      "INFO:tensorflow:  name = module/bert/encoder/layer_11/attention/self/value/bias:0, shape = (768,)\n"
     ]
    },
    {
     "name": "stderr",
     "output_type": "stream",
     "text": [
      "I0607 12:28:44.411395 140294592194432 bert_sct_utils_v2.py:593]   name = module/bert/encoder/layer_11/attention/self/value/bias:0, shape = (768,)\n"
     ]
    },
    {
     "name": "stdout",
     "output_type": "stream",
     "text": [
      "INFO:tensorflow:  name = module/bert/encoder/layer_11/attention/output/dense/kernel:0, shape = (768, 768)\n"
     ]
    },
    {
     "name": "stderr",
     "output_type": "stream",
     "text": [
      "I0607 12:28:44.413409 140294592194432 bert_sct_utils_v2.py:593]   name = module/bert/encoder/layer_11/attention/output/dense/kernel:0, shape = (768, 768)\n"
     ]
    },
    {
     "name": "stdout",
     "output_type": "stream",
     "text": [
      "INFO:tensorflow:  name = module/bert/encoder/layer_11/attention/output/dense/bias:0, shape = (768,)\n"
     ]
    },
    {
     "name": "stderr",
     "output_type": "stream",
     "text": [
      "I0607 12:28:44.415685 140294592194432 bert_sct_utils_v2.py:593]   name = module/bert/encoder/layer_11/attention/output/dense/bias:0, shape = (768,)\n"
     ]
    },
    {
     "name": "stdout",
     "output_type": "stream",
     "text": [
      "INFO:tensorflow:  name = module/bert/encoder/layer_11/attention/output/LayerNorm/beta:0, shape = (768,)\n"
     ]
    },
    {
     "name": "stderr",
     "output_type": "stream",
     "text": [
      "I0607 12:28:44.418134 140294592194432 bert_sct_utils_v2.py:593]   name = module/bert/encoder/layer_11/attention/output/LayerNorm/beta:0, shape = (768,)\n"
     ]
    },
    {
     "name": "stdout",
     "output_type": "stream",
     "text": [
      "INFO:tensorflow:  name = module/bert/encoder/layer_11/attention/output/LayerNorm/gamma:0, shape = (768,)\n"
     ]
    },
    {
     "name": "stderr",
     "output_type": "stream",
     "text": [
      "I0607 12:28:44.420659 140294592194432 bert_sct_utils_v2.py:593]   name = module/bert/encoder/layer_11/attention/output/LayerNorm/gamma:0, shape = (768,)\n"
     ]
    },
    {
     "name": "stdout",
     "output_type": "stream",
     "text": [
      "INFO:tensorflow:  name = module/bert/encoder/layer_11/intermediate/dense/kernel:0, shape = (768, 3072)\n"
     ]
    },
    {
     "name": "stderr",
     "output_type": "stream",
     "text": [
      "I0607 12:28:44.423037 140294592194432 bert_sct_utils_v2.py:593]   name = module/bert/encoder/layer_11/intermediate/dense/kernel:0, shape = (768, 3072)\n"
     ]
    },
    {
     "name": "stdout",
     "output_type": "stream",
     "text": [
      "INFO:tensorflow:  name = module/bert/encoder/layer_11/intermediate/dense/bias:0, shape = (3072,)\n"
     ]
    },
    {
     "name": "stderr",
     "output_type": "stream",
     "text": [
      "I0607 12:28:44.425482 140294592194432 bert_sct_utils_v2.py:593]   name = module/bert/encoder/layer_11/intermediate/dense/bias:0, shape = (3072,)\n"
     ]
    },
    {
     "name": "stdout",
     "output_type": "stream",
     "text": [
      "INFO:tensorflow:  name = module/bert/encoder/layer_11/output/dense/kernel:0, shape = (3072, 768)\n"
     ]
    },
    {
     "name": "stderr",
     "output_type": "stream",
     "text": [
      "I0607 12:28:44.427647 140294592194432 bert_sct_utils_v2.py:593]   name = module/bert/encoder/layer_11/output/dense/kernel:0, shape = (3072, 768)\n"
     ]
    },
    {
     "name": "stdout",
     "output_type": "stream",
     "text": [
      "INFO:tensorflow:  name = module/bert/encoder/layer_11/output/dense/bias:0, shape = (768,)\n"
     ]
    },
    {
     "name": "stderr",
     "output_type": "stream",
     "text": [
      "I0607 12:28:44.430029 140294592194432 bert_sct_utils_v2.py:593]   name = module/bert/encoder/layer_11/output/dense/bias:0, shape = (768,)\n"
     ]
    },
    {
     "name": "stdout",
     "output_type": "stream",
     "text": [
      "INFO:tensorflow:  name = module/bert/encoder/layer_11/output/LayerNorm/beta:0, shape = (768,)\n"
     ]
    },
    {
     "name": "stderr",
     "output_type": "stream",
     "text": [
      "I0607 12:28:44.432491 140294592194432 bert_sct_utils_v2.py:593]   name = module/bert/encoder/layer_11/output/LayerNorm/beta:0, shape = (768,)\n"
     ]
    },
    {
     "name": "stdout",
     "output_type": "stream",
     "text": [
      "INFO:tensorflow:  name = module/bert/encoder/layer_11/output/LayerNorm/gamma:0, shape = (768,)\n"
     ]
    },
    {
     "name": "stderr",
     "output_type": "stream",
     "text": [
      "I0607 12:28:44.435307 140294592194432 bert_sct_utils_v2.py:593]   name = module/bert/encoder/layer_11/output/LayerNorm/gamma:0, shape = (768,)\n"
     ]
    },
    {
     "name": "stdout",
     "output_type": "stream",
     "text": [
      "INFO:tensorflow:  name = module/bert/pooler/dense/kernel:0, shape = (768, 768)\n"
     ]
    },
    {
     "name": "stderr",
     "output_type": "stream",
     "text": [
      "I0607 12:28:44.436703 140294592194432 bert_sct_utils_v2.py:593]   name = module/bert/pooler/dense/kernel:0, shape = (768, 768)\n"
     ]
    },
    {
     "name": "stdout",
     "output_type": "stream",
     "text": [
      "INFO:tensorflow:  name = module/bert/pooler/dense/bias:0, shape = (768,)\n"
     ]
    },
    {
     "name": "stderr",
     "output_type": "stream",
     "text": [
      "I0607 12:28:44.445273 140294592194432 bert_sct_utils_v2.py:593]   name = module/bert/pooler/dense/bias:0, shape = (768,)\n"
     ]
    },
    {
     "name": "stdout",
     "output_type": "stream",
     "text": [
      "INFO:tensorflow:  name = module/cls/predictions/transform/dense/kernel:0, shape = (768, 768)\n"
     ]
    },
    {
     "name": "stderr",
     "output_type": "stream",
     "text": [
      "I0607 12:28:44.446748 140294592194432 bert_sct_utils_v2.py:593]   name = module/cls/predictions/transform/dense/kernel:0, shape = (768, 768)\n"
     ]
    },
    {
     "name": "stdout",
     "output_type": "stream",
     "text": [
      "INFO:tensorflow:  name = module/cls/predictions/transform/dense/bias:0, shape = (768,)\n"
     ]
    },
    {
     "name": "stderr",
     "output_type": "stream",
     "text": [
      "I0607 12:28:44.460599 140294592194432 bert_sct_utils_v2.py:593]   name = module/cls/predictions/transform/dense/bias:0, shape = (768,)\n"
     ]
    },
    {
     "name": "stdout",
     "output_type": "stream",
     "text": [
      "INFO:tensorflow:  name = module/cls/predictions/transform/LayerNorm/beta:0, shape = (768,)\n"
     ]
    },
    {
     "name": "stderr",
     "output_type": "stream",
     "text": [
      "I0607 12:28:44.463034 140294592194432 bert_sct_utils_v2.py:593]   name = module/cls/predictions/transform/LayerNorm/beta:0, shape = (768,)\n"
     ]
    },
    {
     "name": "stdout",
     "output_type": "stream",
     "text": [
      "INFO:tensorflow:  name = module/cls/predictions/transform/LayerNorm/gamma:0, shape = (768,)\n"
     ]
    },
    {
     "name": "stderr",
     "output_type": "stream",
     "text": [
      "I0607 12:28:44.465648 140294592194432 bert_sct_utils_v2.py:593]   name = module/cls/predictions/transform/LayerNorm/gamma:0, shape = (768,)\n"
     ]
    },
    {
     "name": "stdout",
     "output_type": "stream",
     "text": [
      "INFO:tensorflow:  name = module/cls/predictions/output_bias:0, shape = (30522,)\n"
     ]
    },
    {
     "name": "stderr",
     "output_type": "stream",
     "text": [
      "I0607 12:28:44.467703 140294592194432 bert_sct_utils_v2.py:593]   name = module/cls/predictions/output_bias:0, shape = (30522,)\n"
     ]
    },
    {
     "name": "stdout",
     "output_type": "stream",
     "text": [
      "INFO:tensorflow:  name = output_weights:0, shape = (1, 768)\n"
     ]
    },
    {
     "name": "stderr",
     "output_type": "stream",
     "text": [
      "I0607 12:28:44.471227 140294592194432 bert_sct_utils_v2.py:593]   name = output_weights:0, shape = (1, 768)\n"
     ]
    },
    {
     "name": "stdout",
     "output_type": "stream",
     "text": [
      "INFO:tensorflow:  name = output_bias:0, shape = (1,)\n"
     ]
    },
    {
     "name": "stderr",
     "output_type": "stream",
     "text": [
      "I0607 12:28:44.473801 140294592194432 bert_sct_utils_v2.py:593]   name = output_bias:0, shape = (1,)\n"
     ]
    },
    {
     "name": "stdout",
     "output_type": "stream",
     "text": [
      "INFO:tensorflow:Done calling model_fn.\n"
     ]
    },
    {
     "name": "stderr",
     "output_type": "stream",
     "text": [
      "I0607 12:28:44.710956 140294592194432 estimator.py:1113] Done calling model_fn.\n"
     ]
    },
    {
     "name": "stdout",
     "output_type": "stream",
     "text": [
      "INFO:tensorflow:Starting evaluation at 2019-06-07T12:28:44Z\n"
     ]
    },
    {
     "name": "stderr",
     "output_type": "stream",
     "text": [
      "I0607 12:28:44.760458 140294592194432 evaluation.py:257] Starting evaluation at 2019-06-07T12:28:44Z\n"
     ]
    },
    {
     "name": "stdout",
     "output_type": "stream",
     "text": [
      "INFO:tensorflow:Graph was finalized.\n"
     ]
    },
    {
     "name": "stderr",
     "output_type": "stream",
     "text": [
      "I0607 12:28:45.474603 140294592194432 monitored_session.py:222] Graph was finalized.\n"
     ]
    },
    {
     "name": "stdout",
     "output_type": "stream",
     "text": [
      "INFO:tensorflow:Restoring parameters from ./output/model.ckpt-5233\n"
     ]
    },
    {
     "name": "stderr",
     "output_type": "stream",
     "text": [
      "I0607 12:28:45.484339 140294592194432 saver.py:1270] Restoring parameters from ./output/model.ckpt-5233\n"
     ]
    },
    {
     "name": "stdout",
     "output_type": "stream",
     "text": [
      "INFO:tensorflow:Running local_init_op.\n"
     ]
    },
    {
     "name": "stderr",
     "output_type": "stream",
     "text": [
      "I0607 12:28:46.352752 140294592194432 session_manager.py:491] Running local_init_op.\n"
     ]
    },
    {
     "name": "stdout",
     "output_type": "stream",
     "text": [
      "INFO:tensorflow:Done running local_init_op.\n"
     ]
    },
    {
     "name": "stderr",
     "output_type": "stream",
     "text": [
      "I0607 12:28:46.475363 140294592194432 session_manager.py:493] Done running local_init_op.\n"
     ]
    },
    {
     "name": "stdout",
     "output_type": "stream",
     "text": [
      "INFO:tensorflow:Evaluation [23/233]\n"
     ]
    },
    {
     "name": "stderr",
     "output_type": "stream",
     "text": [
      "I0607 12:28:59.030663 140294592194432 evaluation.py:169] Evaluation [23/233]\n"
     ]
    },
    {
     "name": "stdout",
     "output_type": "stream",
     "text": [
      "INFO:tensorflow:Evaluation [46/233]\n"
     ]
    },
    {
     "name": "stderr",
     "output_type": "stream",
     "text": [
      "I0607 12:29:11.058783 140294592194432 evaluation.py:169] Evaluation [46/233]\n"
     ]
    },
    {
     "name": "stdout",
     "output_type": "stream",
     "text": [
      "INFO:tensorflow:Evaluation [69/233]\n"
     ]
    },
    {
     "name": "stderr",
     "output_type": "stream",
     "text": [
      "I0607 12:29:23.443171 140294592194432 evaluation.py:169] Evaluation [69/233]\n"
     ]
    },
    {
     "name": "stdout",
     "output_type": "stream",
     "text": [
      "INFO:tensorflow:Evaluation [92/233]\n"
     ]
    },
    {
     "name": "stderr",
     "output_type": "stream",
     "text": [
      "I0607 12:29:35.609319 140294592194432 evaluation.py:169] Evaluation [92/233]\n"
     ]
    },
    {
     "name": "stdout",
     "output_type": "stream",
     "text": [
      "INFO:tensorflow:Evaluation [115/233]\n"
     ]
    },
    {
     "name": "stderr",
     "output_type": "stream",
     "text": [
      "I0607 12:29:47.515348 140294592194432 evaluation.py:169] Evaluation [115/233]\n"
     ]
    },
    {
     "name": "stdout",
     "output_type": "stream",
     "text": [
      "INFO:tensorflow:Evaluation [138/233]\n"
     ]
    },
    {
     "name": "stderr",
     "output_type": "stream",
     "text": [
      "I0607 12:29:59.228534 140294592194432 evaluation.py:169] Evaluation [138/233]\n"
     ]
    },
    {
     "name": "stdout",
     "output_type": "stream",
     "text": [
      "INFO:tensorflow:Evaluation [161/233]\n"
     ]
    },
    {
     "name": "stderr",
     "output_type": "stream",
     "text": [
      "I0607 12:30:10.940670 140294592194432 evaluation.py:169] Evaluation [161/233]\n"
     ]
    },
    {
     "name": "stdout",
     "output_type": "stream",
     "text": [
      "INFO:tensorflow:Evaluation [184/233]\n"
     ]
    },
    {
     "name": "stderr",
     "output_type": "stream",
     "text": [
      "I0607 12:30:22.658250 140294592194432 evaluation.py:169] Evaluation [184/233]\n"
     ]
    },
    {
     "name": "stdout",
     "output_type": "stream",
     "text": [
      "INFO:tensorflow:Evaluation [207/233]\n"
     ]
    },
    {
     "name": "stderr",
     "output_type": "stream",
     "text": [
      "I0607 12:30:34.470451 140294592194432 evaluation.py:169] Evaluation [207/233]\n"
     ]
    },
    {
     "name": "stdout",
     "output_type": "stream",
     "text": [
      "INFO:tensorflow:Evaluation [230/233]\n"
     ]
    },
    {
     "name": "stderr",
     "output_type": "stream",
     "text": [
      "I0607 12:30:46.374371 140294592194432 evaluation.py:169] Evaluation [230/233]\n"
     ]
    },
    {
     "name": "stdout",
     "output_type": "stream",
     "text": [
      "INFO:tensorflow:Evaluation [233/233]\n"
     ]
    },
    {
     "name": "stderr",
     "output_type": "stream",
     "text": [
      "I0607 12:30:47.933722 140294592194432 evaluation.py:169] Evaluation [233/233]\n"
     ]
    },
    {
     "name": "stdout",
     "output_type": "stream",
     "text": [
      "INFO:tensorflow:Finished evaluation at 2019-06-07-12:30:48\n"
     ]
    },
    {
     "name": "stderr",
     "output_type": "stream",
     "text": [
      "I0607 12:30:48.172054 140294592194432 evaluation.py:277] Finished evaluation at 2019-06-07-12:30:48\n"
     ]
    },
    {
     "name": "stdout",
     "output_type": "stream",
     "text": [
      "INFO:tensorflow:Saving dict for global step 5233: eval_accuracy = 0.611588, eval_loss = 1.1456347, global_step = 5233, loss = 1.1456347, precision = 1.0, recall = 0.611588\n"
     ]
    },
    {
     "name": "stderr",
     "output_type": "stream",
     "text": [
      "I0607 12:30:48.177908 140294592194432 estimator.py:1979] Saving dict for global step 5233: eval_accuracy = 0.611588, eval_loss = 1.1456347, global_step = 5233, loss = 1.1456347, precision = 1.0, recall = 0.611588\n"
     ]
    },
    {
     "name": "stdout",
     "output_type": "stream",
     "text": [
      "INFO:tensorflow:Saving 'checkpoint_path' summary for global step 5233: ./output/model.ckpt-5233\n"
     ]
    },
    {
     "name": "stderr",
     "output_type": "stream",
     "text": [
      "I0607 12:30:48.181918 140294592194432 estimator.py:2039] Saving 'checkpoint_path' summary for global step 5233: ./output/model.ckpt-5233\n"
     ]
    },
    {
     "name": "stdout",
     "output_type": "stream",
     "text": [
      "INFO:tensorflow:***** Eval results *****\n"
     ]
    },
    {
     "name": "stderr",
     "output_type": "stream",
     "text": [
      "I0607 12:30:48.186775 140294592194432 <ipython-input-11-7b355e037c6c>:101] ***** Eval results *****\n"
     ]
    },
    {
     "name": "stdout",
     "output_type": "stream",
     "text": [
      "INFO:tensorflow:  eval_accuracy = 0.611588\n"
     ]
    },
    {
     "name": "stderr",
     "output_type": "stream",
     "text": [
      "I0607 12:30:48.189052 140294592194432 <ipython-input-11-7b355e037c6c>:103]   eval_accuracy = 0.611588\n"
     ]
    },
    {
     "name": "stdout",
     "output_type": "stream",
     "text": [
      "INFO:tensorflow:  eval_loss = 1.1456347\n"
     ]
    },
    {
     "name": "stderr",
     "output_type": "stream",
     "text": [
      "I0607 12:30:48.193032 140294592194432 <ipython-input-11-7b355e037c6c>:103]   eval_loss = 1.1456347\n"
     ]
    },
    {
     "name": "stdout",
     "output_type": "stream",
     "text": [
      "INFO:tensorflow:  global_step = 5233\n"
     ]
    },
    {
     "name": "stderr",
     "output_type": "stream",
     "text": [
      "I0607 12:30:48.196472 140294592194432 <ipython-input-11-7b355e037c6c>:103]   global_step = 5233\n"
     ]
    },
    {
     "name": "stdout",
     "output_type": "stream",
     "text": [
      "INFO:tensorflow:  loss = 1.1456347\n"
     ]
    },
    {
     "name": "stderr",
     "output_type": "stream",
     "text": [
      "I0607 12:30:48.200338 140294592194432 <ipython-input-11-7b355e037c6c>:103]   loss = 1.1456347\n"
     ]
    },
    {
     "name": "stdout",
     "output_type": "stream",
     "text": [
      "INFO:tensorflow:  precision = 1.0\n"
     ]
    },
    {
     "name": "stderr",
     "output_type": "stream",
     "text": [
      "I0607 12:30:48.204023 140294592194432 <ipython-input-11-7b355e037c6c>:103]   precision = 1.0\n"
     ]
    },
    {
     "name": "stdout",
     "output_type": "stream",
     "text": [
      "INFO:tensorflow:  recall = 0.611588\n"
     ]
    },
    {
     "name": "stderr",
     "output_type": "stream",
     "text": [
      "I0607 12:30:48.207408 140294592194432 <ipython-input-11-7b355e037c6c>:103]   recall = 0.611588\n"
     ]
    },
    {
     "name": "stdout",
     "output_type": "stream",
     "text": [
      "INFO:tensorflow:Writing example 0 of 2343\n"
     ]
    },
    {
     "name": "stderr",
     "output_type": "stream",
     "text": [
      "I0607 12:30:49.885115 140294592194432 bert_sct_utils_v2.py:322] Writing example 0 of 2343\n"
     ]
    },
    {
     "name": "stdout",
     "output_type": "stream",
     "text": [
      "INFO:tensorflow:*** Example ***\n"
     ]
    },
    {
     "name": "stderr",
     "output_type": "stream",
     "text": [
      "I0607 12:30:49.890854 140294592194432 bert_sct_utils_v2.py:299] *** Example ***\n"
     ]
    },
    {
     "name": "stdout",
     "output_type": "stream",
     "text": [
      "INFO:tensorflow:unique_id: test-0\n"
     ]
    },
    {
     "name": "stderr",
     "output_type": "stream",
     "text": [
      "I0607 12:30:49.893887 140294592194432 bert_sct_utils_v2.py:300] unique_id: test-0\n"
     ]
    },
    {
     "name": "stdout",
     "output_type": "stream",
     "text": [
      "INFO:tensorflow:tokens: [CLS] abe wasn ' t pleased with his new neighbor . not only did they play music all day , but they banged the walls . he tried to talk to them , but they were so intimidating , he recoil ##ed . as the noises weren ' t going away after a month , abe decided to move . [SEP] the next day the neighbors invited her to a barbecue . [SEP]\n"
     ]
    },
    {
     "name": "stderr",
     "output_type": "stream",
     "text": [
      "I0607 12:30:49.896138 140294592194432 bert_sct_utils_v2.py:301] tokens: [CLS] abe wasn ' t pleased with his new neighbor . not only did they play music all day , but they banged the walls . he tried to talk to them , but they were so intimidating , he recoil ##ed . as the noises weren ' t going away after a month , abe decided to move . [SEP] the next day the neighbors invited her to a barbecue . [SEP]\n"
     ]
    },
    {
     "name": "stdout",
     "output_type": "stream",
     "text": [
      "INFO:tensorflow:input_ids: 101 14863 2347 1005 1056 7537 2007 2010 2047 11429 1012 2025 2069 2106 2027 2377 2189 2035 2154 1010 2021 2027 22843 1996 3681 1012 2002 2699 2000 2831 2000 2068 1010 2021 2027 2020 2061 24439 1010 2002 27429 2098 1012 2004 1996 14950 4694 1005 1056 2183 2185 2044 1037 3204 1010 14863 2787 2000 2693 1012 102 1996 2279 2154 1996 10638 4778 2014 2000 1037 26375 1012 102 0 0 0 0 0 0 0 0 0 0 0 0 0 0 0 0 0 0 0 0 0 0 0 0 0 0 0 0 0 0 0 0 0 0 0 0 0 0 0 0 0 0 0 0 0 0 0 0 0 0 0 0 0 0 0 0 0 0 0 0 0 0 0 0 0 0 0 0 0 0 0 0 0 0 0 0 0 0 0 0 0 0 0 0 0 0 0 0 0 0 0 0 0 0 0 0 0 0 0 0 0 0 0 0 0 0 0 0 0 0 0 0 0 0 0 0 0 0 0 0 0 0 0 0 0 0 0 0 0 0 0 0 0 0 0 0 0 0 0 0 0 0 0 0 0 0 0 0 0 0 0 0 0 0 0 0 0 0 0 0 0 0 0 0 0 0 0 0 0 0 0 0 0 0 0 0 0 0 0 0 0 0 0 0 0 0 0 0 0 0 0 0 0 0 0 0 0 0 0 0 0 0 0 0 0 0 0 0 0 0 0 0 0 0 0 0 0 0 0 0 0 0 0 0 0 0 0 0 0 0 0 0 0 0 0 0 0 0 0 0 0 0 0 0 0 0 0 0 0 0 0 0 0 0 0 0 0 0 0 0 0 0 0 0 0 0 0 0 0 0 0 0 0 0 0 0 0 0 0 0 0 0 0 0 0 0 0 0 0 0 0 0 0 0 0 0 0 0 0 0 0 0 0 0 0 0 0 0 0 0 0 0 0 0 0 0 0 0 0 0 0 0 0 0 0 0 0\n"
     ]
    },
    {
     "name": "stderr",
     "output_type": "stream",
     "text": [
      "I0607 12:30:49.899065 140294592194432 bert_sct_utils_v2.py:302] input_ids: 101 14863 2347 1005 1056 7537 2007 2010 2047 11429 1012 2025 2069 2106 2027 2377 2189 2035 2154 1010 2021 2027 22843 1996 3681 1012 2002 2699 2000 2831 2000 2068 1010 2021 2027 2020 2061 24439 1010 2002 27429 2098 1012 2004 1996 14950 4694 1005 1056 2183 2185 2044 1037 3204 1010 14863 2787 2000 2693 1012 102 1996 2279 2154 1996 10638 4778 2014 2000 1037 26375 1012 102 0 0 0 0 0 0 0 0 0 0 0 0 0 0 0 0 0 0 0 0 0 0 0 0 0 0 0 0 0 0 0 0 0 0 0 0 0 0 0 0 0 0 0 0 0 0 0 0 0 0 0 0 0 0 0 0 0 0 0 0 0 0 0 0 0 0 0 0 0 0 0 0 0 0 0 0 0 0 0 0 0 0 0 0 0 0 0 0 0 0 0 0 0 0 0 0 0 0 0 0 0 0 0 0 0 0 0 0 0 0 0 0 0 0 0 0 0 0 0 0 0 0 0 0 0 0 0 0 0 0 0 0 0 0 0 0 0 0 0 0 0 0 0 0 0 0 0 0 0 0 0 0 0 0 0 0 0 0 0 0 0 0 0 0 0 0 0 0 0 0 0 0 0 0 0 0 0 0 0 0 0 0 0 0 0 0 0 0 0 0 0 0 0 0 0 0 0 0 0 0 0 0 0 0 0 0 0 0 0 0 0 0 0 0 0 0 0 0 0 0 0 0 0 0 0 0 0 0 0 0 0 0 0 0 0 0 0 0 0 0 0 0 0 0 0 0 0 0 0 0 0 0 0 0 0 0 0 0 0 0 0 0 0 0 0 0 0 0 0 0 0 0 0 0 0 0 0 0 0 0 0 0 0 0 0 0 0 0 0 0 0 0 0 0 0 0 0 0 0 0 0 0 0 0 0 0 0 0 0 0 0 0 0 0 0 0 0 0 0 0 0 0 0 0 0 0 0\n"
     ]
    },
    {
     "name": "stdout",
     "output_type": "stream",
     "text": [
      "INFO:tensorflow:input_mask: 1 1 1 1 1 1 1 1 1 1 1 1 1 1 1 1 1 1 1 1 1 1 1 1 1 1 1 1 1 1 1 1 1 1 1 1 1 1 1 1 1 1 1 1 1 1 1 1 1 1 1 1 1 1 1 1 1 1 1 1 1 1 1 1 1 1 1 1 1 1 1 1 1 0 0 0 0 0 0 0 0 0 0 0 0 0 0 0 0 0 0 0 0 0 0 0 0 0 0 0 0 0 0 0 0 0 0 0 0 0 0 0 0 0 0 0 0 0 0 0 0 0 0 0 0 0 0 0 0 0 0 0 0 0 0 0 0 0 0 0 0 0 0 0 0 0 0 0 0 0 0 0 0 0 0 0 0 0 0 0 0 0 0 0 0 0 0 0 0 0 0 0 0 0 0 0 0 0 0 0 0 0 0 0 0 0 0 0 0 0 0 0 0 0 0 0 0 0 0 0 0 0 0 0 0 0 0 0 0 0 0 0 0 0 0 0 0 0 0 0 0 0 0 0 0 0 0 0 0 0 0 0 0 0 0 0 0 0 0 0 0 0 0 0 0 0 0 0 0 0 0 0 0 0 0 0 0 0 0 0 0 0 0 0 0 0 0 0 0 0 0 0 0 0 0 0 0 0 0 0 0 0 0 0 0 0 0 0 0 0 0 0 0 0 0 0 0 0 0 0 0 0 0 0 0 0 0 0 0 0 0 0 0 0 0 0 0 0 0 0 0 0 0 0 0 0 0 0 0 0 0 0 0 0 0 0 0 0 0 0 0 0 0 0 0 0 0 0 0 0 0 0 0 0 0 0 0 0 0 0 0 0 0 0 0 0 0 0 0 0 0 0 0 0 0 0 0 0 0 0 0 0 0 0 0 0 0 0 0 0 0 0 0 0 0 0 0 0 0 0\n"
     ]
    },
    {
     "name": "stderr",
     "output_type": "stream",
     "text": [
      "I0607 12:30:49.902277 140294592194432 bert_sct_utils_v2.py:303] input_mask: 1 1 1 1 1 1 1 1 1 1 1 1 1 1 1 1 1 1 1 1 1 1 1 1 1 1 1 1 1 1 1 1 1 1 1 1 1 1 1 1 1 1 1 1 1 1 1 1 1 1 1 1 1 1 1 1 1 1 1 1 1 1 1 1 1 1 1 1 1 1 1 1 1 0 0 0 0 0 0 0 0 0 0 0 0 0 0 0 0 0 0 0 0 0 0 0 0 0 0 0 0 0 0 0 0 0 0 0 0 0 0 0 0 0 0 0 0 0 0 0 0 0 0 0 0 0 0 0 0 0 0 0 0 0 0 0 0 0 0 0 0 0 0 0 0 0 0 0 0 0 0 0 0 0 0 0 0 0 0 0 0 0 0 0 0 0 0 0 0 0 0 0 0 0 0 0 0 0 0 0 0 0 0 0 0 0 0 0 0 0 0 0 0 0 0 0 0 0 0 0 0 0 0 0 0 0 0 0 0 0 0 0 0 0 0 0 0 0 0 0 0 0 0 0 0 0 0 0 0 0 0 0 0 0 0 0 0 0 0 0 0 0 0 0 0 0 0 0 0 0 0 0 0 0 0 0 0 0 0 0 0 0 0 0 0 0 0 0 0 0 0 0 0 0 0 0 0 0 0 0 0 0 0 0 0 0 0 0 0 0 0 0 0 0 0 0 0 0 0 0 0 0 0 0 0 0 0 0 0 0 0 0 0 0 0 0 0 0 0 0 0 0 0 0 0 0 0 0 0 0 0 0 0 0 0 0 0 0 0 0 0 0 0 0 0 0 0 0 0 0 0 0 0 0 0 0 0 0 0 0 0 0 0 0 0 0 0 0 0 0 0 0 0 0 0 0 0 0 0 0 0 0 0 0 0 0 0 0 0 0 0 0 0 0 0 0 0 0 0 0\n"
     ]
    },
    {
     "name": "stdout",
     "output_type": "stream",
     "text": [
      "INFO:tensorflow:segment_ids: 0 0 0 0 0 0 0 0 0 0 0 0 0 0 0 0 0 0 0 0 0 0 0 0 0 0 0 0 0 0 0 0 0 0 0 0 0 0 0 0 0 0 0 0 0 0 0 0 0 0 0 0 0 0 0 0 0 0 0 0 0 1 1 1 1 1 1 1 1 1 1 1 1 0 0 0 0 0 0 0 0 0 0 0 0 0 0 0 0 0 0 0 0 0 0 0 0 0 0 0 0 0 0 0 0 0 0 0 0 0 0 0 0 0 0 0 0 0 0 0 0 0 0 0 0 0 0 0 0 0 0 0 0 0 0 0 0 0 0 0 0 0 0 0 0 0 0 0 0 0 0 0 0 0 0 0 0 0 0 0 0 0 0 0 0 0 0 0 0 0 0 0 0 0 0 0 0 0 0 0 0 0 0 0 0 0 0 0 0 0 0 0 0 0 0 0 0 0 0 0 0 0 0 0 0 0 0 0 0 0 0 0 0 0 0 0 0 0 0 0 0 0 0 0 0 0 0 0 0 0 0 0 0 0 0 0 0 0 0 0 0 0 0 0 0 0 0 0 0 0 0 0 0 0 0 0 0 0 0 0 0 0 0 0 0 0 0 0 0 0 0 0 0 0 0 0 0 0 0 0 0 0 0 0 0 0 0 0 0 0 0 0 0 0 0 0 0 0 0 0 0 0 0 0 0 0 0 0 0 0 0 0 0 0 0 0 0 0 0 0 0 0 0 0 0 0 0 0 0 0 0 0 0 0 0 0 0 0 0 0 0 0 0 0 0 0 0 0 0 0 0 0 0 0 0 0 0 0 0 0 0 0 0 0 0 0 0 0 0 0 0 0 0 0 0 0 0 0 0 0 0 0 0 0 0 0 0 0 0 0 0 0 0 0 0 0 0 0 0 0\n"
     ]
    },
    {
     "name": "stderr",
     "output_type": "stream",
     "text": [
      "I0607 12:30:49.908375 140294592194432 bert_sct_utils_v2.py:304] segment_ids: 0 0 0 0 0 0 0 0 0 0 0 0 0 0 0 0 0 0 0 0 0 0 0 0 0 0 0 0 0 0 0 0 0 0 0 0 0 0 0 0 0 0 0 0 0 0 0 0 0 0 0 0 0 0 0 0 0 0 0 0 0 1 1 1 1 1 1 1 1 1 1 1 1 0 0 0 0 0 0 0 0 0 0 0 0 0 0 0 0 0 0 0 0 0 0 0 0 0 0 0 0 0 0 0 0 0 0 0 0 0 0 0 0 0 0 0 0 0 0 0 0 0 0 0 0 0 0 0 0 0 0 0 0 0 0 0 0 0 0 0 0 0 0 0 0 0 0 0 0 0 0 0 0 0 0 0 0 0 0 0 0 0 0 0 0 0 0 0 0 0 0 0 0 0 0 0 0 0 0 0 0 0 0 0 0 0 0 0 0 0 0 0 0 0 0 0 0 0 0 0 0 0 0 0 0 0 0 0 0 0 0 0 0 0 0 0 0 0 0 0 0 0 0 0 0 0 0 0 0 0 0 0 0 0 0 0 0 0 0 0 0 0 0 0 0 0 0 0 0 0 0 0 0 0 0 0 0 0 0 0 0 0 0 0 0 0 0 0 0 0 0 0 0 0 0 0 0 0 0 0 0 0 0 0 0 0 0 0 0 0 0 0 0 0 0 0 0 0 0 0 0 0 0 0 0 0 0 0 0 0 0 0 0 0 0 0 0 0 0 0 0 0 0 0 0 0 0 0 0 0 0 0 0 0 0 0 0 0 0 0 0 0 0 0 0 0 0 0 0 0 0 0 0 0 0 0 0 0 0 0 0 0 0 0 0 0 0 0 0 0 0 0 0 0 0 0 0 0 0 0 0 0 0 0 0 0 0 0 0 0 0 0 0 0 0 0 0 0 0 0\n"
     ]
    },
    {
     "name": "stdout",
     "output_type": "stream",
     "text": [
      "INFO:tensorflow:label: 1 (id = 1)\n"
     ]
    },
    {
     "name": "stderr",
     "output_type": "stream",
     "text": [
      "I0607 12:30:49.912951 140294592194432 bert_sct_utils_v2.py:305] label: 1 (id = 1)\n"
     ]
    },
    {
     "name": "stdout",
     "output_type": "stream",
     "text": [
      "INFO:tensorflow:sentiment: (20,), [-0.3412  0.286   0.714   0.      0.1779  0.      0.876   0.124  -0.7279\n",
      "  0.299   0.701   0.      0.      0.      1.      0.      0.      0.\n",
      "  1.      0.    ]\n"
     ]
    },
    {
     "name": "stderr",
     "output_type": "stream",
     "text": [
      "I0607 12:30:49.917303 140294592194432 bert_sct_utils_v2.py:306] sentiment: (20,), [-0.3412  0.286   0.714   0.      0.1779  0.      0.876   0.124  -0.7279\n",
      "  0.299   0.701   0.      0.      0.      1.      0.      0.      0.\n",
      "  1.      0.    ]\n"
     ]
    },
    {
     "name": "stdout",
     "output_type": "stream",
     "text": [
      "INFO:tensorflow:cs_dist: (4,), [1. 1. 1. 1.]\n"
     ]
    },
    {
     "name": "stderr",
     "output_type": "stream",
     "text": [
      "I0607 12:30:49.920501 140294592194432 bert_sct_utils_v2.py:307] cs_dist: (4,), [1. 1. 1. 1.]\n"
     ]
    },
    {
     "name": "stdout",
     "output_type": "stream",
     "text": [
      "INFO:tensorflow:*** Example ***\n"
     ]
    },
    {
     "name": "stderr",
     "output_type": "stream",
     "text": [
      "I0607 12:30:49.924793 140294592194432 bert_sct_utils_v2.py:299] *** Example ***\n"
     ]
    },
    {
     "name": "stdout",
     "output_type": "stream",
     "text": [
      "INFO:tensorflow:unique_id: test-0\n"
     ]
    },
    {
     "name": "stderr",
     "output_type": "stream",
     "text": [
      "I0607 12:30:49.926728 140294592194432 bert_sct_utils_v2.py:300] unique_id: test-0\n"
     ]
    },
    {
     "name": "stdout",
     "output_type": "stream",
     "text": [
      "INFO:tensorflow:tokens: [CLS] abe wasn ' t pleased with his new neighbor . not only did they play music all day , but they banged the walls . he tried to talk to them , but they were so intimidating , he recoil ##ed . as the noises weren ' t going away after a month , abe decided to move . [SEP] when she was moved , the neighbors noticed their ass ##oc ##ial behavior [SEP]\n"
     ]
    },
    {
     "name": "stderr",
     "output_type": "stream",
     "text": [
      "I0607 12:30:49.929669 140294592194432 bert_sct_utils_v2.py:301] tokens: [CLS] abe wasn ' t pleased with his new neighbor . not only did they play music all day , but they banged the walls . he tried to talk to them , but they were so intimidating , he recoil ##ed . as the noises weren ' t going away after a month , abe decided to move . [SEP] when she was moved , the neighbors noticed their ass ##oc ##ial behavior [SEP]\n"
     ]
    },
    {
     "name": "stdout",
     "output_type": "stream",
     "text": [
      "INFO:tensorflow:input_ids: 101 14863 2347 1005 1056 7537 2007 2010 2047 11429 1012 2025 2069 2106 2027 2377 2189 2035 2154 1010 2021 2027 22843 1996 3681 1012 2002 2699 2000 2831 2000 2068 1010 2021 2027 2020 2061 24439 1010 2002 27429 2098 1012 2004 1996 14950 4694 1005 1056 2183 2185 2044 1037 3204 1010 14863 2787 2000 2693 1012 102 2043 2016 2001 2333 1010 1996 10638 4384 2037 4632 10085 4818 5248 102 0 0 0 0 0 0 0 0 0 0 0 0 0 0 0 0 0 0 0 0 0 0 0 0 0 0 0 0 0 0 0 0 0 0 0 0 0 0 0 0 0 0 0 0 0 0 0 0 0 0 0 0 0 0 0 0 0 0 0 0 0 0 0 0 0 0 0 0 0 0 0 0 0 0 0 0 0 0 0 0 0 0 0 0 0 0 0 0 0 0 0 0 0 0 0 0 0 0 0 0 0 0 0 0 0 0 0 0 0 0 0 0 0 0 0 0 0 0 0 0 0 0 0 0 0 0 0 0 0 0 0 0 0 0 0 0 0 0 0 0 0 0 0 0 0 0 0 0 0 0 0 0 0 0 0 0 0 0 0 0 0 0 0 0 0 0 0 0 0 0 0 0 0 0 0 0 0 0 0 0 0 0 0 0 0 0 0 0 0 0 0 0 0 0 0 0 0 0 0 0 0 0 0 0 0 0 0 0 0 0 0 0 0 0 0 0 0 0 0 0 0 0 0 0 0 0 0 0 0 0 0 0 0 0 0 0 0 0 0 0 0 0 0 0 0 0 0 0 0 0 0 0 0 0 0 0 0 0 0 0 0 0 0 0 0 0 0 0 0 0 0 0 0 0 0 0 0 0 0 0 0 0 0 0 0 0 0 0 0 0 0 0 0 0 0 0 0 0 0 0 0 0 0 0 0 0 0 0 0 0 0 0 0 0 0 0 0 0 0 0 0 0 0 0 0\n"
     ]
    },
    {
     "name": "stderr",
     "output_type": "stream",
     "text": [
      "I0607 12:30:49.932414 140294592194432 bert_sct_utils_v2.py:302] input_ids: 101 14863 2347 1005 1056 7537 2007 2010 2047 11429 1012 2025 2069 2106 2027 2377 2189 2035 2154 1010 2021 2027 22843 1996 3681 1012 2002 2699 2000 2831 2000 2068 1010 2021 2027 2020 2061 24439 1010 2002 27429 2098 1012 2004 1996 14950 4694 1005 1056 2183 2185 2044 1037 3204 1010 14863 2787 2000 2693 1012 102 2043 2016 2001 2333 1010 1996 10638 4384 2037 4632 10085 4818 5248 102 0 0 0 0 0 0 0 0 0 0 0 0 0 0 0 0 0 0 0 0 0 0 0 0 0 0 0 0 0 0 0 0 0 0 0 0 0 0 0 0 0 0 0 0 0 0 0 0 0 0 0 0 0 0 0 0 0 0 0 0 0 0 0 0 0 0 0 0 0 0 0 0 0 0 0 0 0 0 0 0 0 0 0 0 0 0 0 0 0 0 0 0 0 0 0 0 0 0 0 0 0 0 0 0 0 0 0 0 0 0 0 0 0 0 0 0 0 0 0 0 0 0 0 0 0 0 0 0 0 0 0 0 0 0 0 0 0 0 0 0 0 0 0 0 0 0 0 0 0 0 0 0 0 0 0 0 0 0 0 0 0 0 0 0 0 0 0 0 0 0 0 0 0 0 0 0 0 0 0 0 0 0 0 0 0 0 0 0 0 0 0 0 0 0 0 0 0 0 0 0 0 0 0 0 0 0 0 0 0 0 0 0 0 0 0 0 0 0 0 0 0 0 0 0 0 0 0 0 0 0 0 0 0 0 0 0 0 0 0 0 0 0 0 0 0 0 0 0 0 0 0 0 0 0 0 0 0 0 0 0 0 0 0 0 0 0 0 0 0 0 0 0 0 0 0 0 0 0 0 0 0 0 0 0 0 0 0 0 0 0 0 0 0 0 0 0 0 0 0 0 0 0 0 0 0 0 0 0 0 0 0 0 0 0 0 0 0 0 0 0 0 0 0 0 0\n"
     ]
    },
    {
     "name": "stdout",
     "output_type": "stream",
     "text": [
      "INFO:tensorflow:input_mask: 1 1 1 1 1 1 1 1 1 1 1 1 1 1 1 1 1 1 1 1 1 1 1 1 1 1 1 1 1 1 1 1 1 1 1 1 1 1 1 1 1 1 1 1 1 1 1 1 1 1 1 1 1 1 1 1 1 1 1 1 1 1 1 1 1 1 1 1 1 1 1 1 1 1 1 0 0 0 0 0 0 0 0 0 0 0 0 0 0 0 0 0 0 0 0 0 0 0 0 0 0 0 0 0 0 0 0 0 0 0 0 0 0 0 0 0 0 0 0 0 0 0 0 0 0 0 0 0 0 0 0 0 0 0 0 0 0 0 0 0 0 0 0 0 0 0 0 0 0 0 0 0 0 0 0 0 0 0 0 0 0 0 0 0 0 0 0 0 0 0 0 0 0 0 0 0 0 0 0 0 0 0 0 0 0 0 0 0 0 0 0 0 0 0 0 0 0 0 0 0 0 0 0 0 0 0 0 0 0 0 0 0 0 0 0 0 0 0 0 0 0 0 0 0 0 0 0 0 0 0 0 0 0 0 0 0 0 0 0 0 0 0 0 0 0 0 0 0 0 0 0 0 0 0 0 0 0 0 0 0 0 0 0 0 0 0 0 0 0 0 0 0 0 0 0 0 0 0 0 0 0 0 0 0 0 0 0 0 0 0 0 0 0 0 0 0 0 0 0 0 0 0 0 0 0 0 0 0 0 0 0 0 0 0 0 0 0 0 0 0 0 0 0 0 0 0 0 0 0 0 0 0 0 0 0 0 0 0 0 0 0 0 0 0 0 0 0 0 0 0 0 0 0 0 0 0 0 0 0 0 0 0 0 0 0 0 0 0 0 0 0 0 0 0 0 0 0 0 0 0 0 0 0 0 0 0 0 0 0 0 0 0 0 0 0 0 0 0 0 0\n"
     ]
    },
    {
     "name": "stderr",
     "output_type": "stream",
     "text": [
      "I0607 12:30:49.934732 140294592194432 bert_sct_utils_v2.py:303] input_mask: 1 1 1 1 1 1 1 1 1 1 1 1 1 1 1 1 1 1 1 1 1 1 1 1 1 1 1 1 1 1 1 1 1 1 1 1 1 1 1 1 1 1 1 1 1 1 1 1 1 1 1 1 1 1 1 1 1 1 1 1 1 1 1 1 1 1 1 1 1 1 1 1 1 1 1 0 0 0 0 0 0 0 0 0 0 0 0 0 0 0 0 0 0 0 0 0 0 0 0 0 0 0 0 0 0 0 0 0 0 0 0 0 0 0 0 0 0 0 0 0 0 0 0 0 0 0 0 0 0 0 0 0 0 0 0 0 0 0 0 0 0 0 0 0 0 0 0 0 0 0 0 0 0 0 0 0 0 0 0 0 0 0 0 0 0 0 0 0 0 0 0 0 0 0 0 0 0 0 0 0 0 0 0 0 0 0 0 0 0 0 0 0 0 0 0 0 0 0 0 0 0 0 0 0 0 0 0 0 0 0 0 0 0 0 0 0 0 0 0 0 0 0 0 0 0 0 0 0 0 0 0 0 0 0 0 0 0 0 0 0 0 0 0 0 0 0 0 0 0 0 0 0 0 0 0 0 0 0 0 0 0 0 0 0 0 0 0 0 0 0 0 0 0 0 0 0 0 0 0 0 0 0 0 0 0 0 0 0 0 0 0 0 0 0 0 0 0 0 0 0 0 0 0 0 0 0 0 0 0 0 0 0 0 0 0 0 0 0 0 0 0 0 0 0 0 0 0 0 0 0 0 0 0 0 0 0 0 0 0 0 0 0 0 0 0 0 0 0 0 0 0 0 0 0 0 0 0 0 0 0 0 0 0 0 0 0 0 0 0 0 0 0 0 0 0 0 0 0 0 0 0 0 0 0 0 0 0 0 0 0 0 0 0 0 0 0 0 0 0 0\n"
     ]
    },
    {
     "name": "stdout",
     "output_type": "stream",
     "text": [
      "INFO:tensorflow:segment_ids: 0 0 0 0 0 0 0 0 0 0 0 0 0 0 0 0 0 0 0 0 0 0 0 0 0 0 0 0 0 0 0 0 0 0 0 0 0 0 0 0 0 0 0 0 0 0 0 0 0 0 0 0 0 0 0 0 0 0 0 0 0 1 1 1 1 1 1 1 1 1 1 1 1 1 1 0 0 0 0 0 0 0 0 0 0 0 0 0 0 0 0 0 0 0 0 0 0 0 0 0 0 0 0 0 0 0 0 0 0 0 0 0 0 0 0 0 0 0 0 0 0 0 0 0 0 0 0 0 0 0 0 0 0 0 0 0 0 0 0 0 0 0 0 0 0 0 0 0 0 0 0 0 0 0 0 0 0 0 0 0 0 0 0 0 0 0 0 0 0 0 0 0 0 0 0 0 0 0 0 0 0 0 0 0 0 0 0 0 0 0 0 0 0 0 0 0 0 0 0 0 0 0 0 0 0 0 0 0 0 0 0 0 0 0 0 0 0 0 0 0 0 0 0 0 0 0 0 0 0 0 0 0 0 0 0 0 0 0 0 0 0 0 0 0 0 0 0 0 0 0 0 0 0 0 0 0 0 0 0 0 0 0 0 0 0 0 0 0 0 0 0 0 0 0 0 0 0 0 0 0 0 0 0 0 0 0 0 0 0 0 0 0 0 0 0 0 0 0 0 0 0 0 0 0 0 0 0 0 0 0 0 0 0 0 0 0 0 0 0 0 0 0 0 0 0 0 0 0 0 0 0 0 0 0 0 0 0 0 0 0 0 0 0 0 0 0 0 0 0 0 0 0 0 0 0 0 0 0 0 0 0 0 0 0 0 0 0 0 0 0 0 0 0 0 0 0 0 0 0 0 0 0 0 0 0 0 0 0 0 0 0 0 0 0 0 0 0 0 0 0\n"
     ]
    },
    {
     "name": "stderr",
     "output_type": "stream",
     "text": [
      "I0607 12:30:49.937633 140294592194432 bert_sct_utils_v2.py:304] segment_ids: 0 0 0 0 0 0 0 0 0 0 0 0 0 0 0 0 0 0 0 0 0 0 0 0 0 0 0 0 0 0 0 0 0 0 0 0 0 0 0 0 0 0 0 0 0 0 0 0 0 0 0 0 0 0 0 0 0 0 0 0 0 1 1 1 1 1 1 1 1 1 1 1 1 1 1 0 0 0 0 0 0 0 0 0 0 0 0 0 0 0 0 0 0 0 0 0 0 0 0 0 0 0 0 0 0 0 0 0 0 0 0 0 0 0 0 0 0 0 0 0 0 0 0 0 0 0 0 0 0 0 0 0 0 0 0 0 0 0 0 0 0 0 0 0 0 0 0 0 0 0 0 0 0 0 0 0 0 0 0 0 0 0 0 0 0 0 0 0 0 0 0 0 0 0 0 0 0 0 0 0 0 0 0 0 0 0 0 0 0 0 0 0 0 0 0 0 0 0 0 0 0 0 0 0 0 0 0 0 0 0 0 0 0 0 0 0 0 0 0 0 0 0 0 0 0 0 0 0 0 0 0 0 0 0 0 0 0 0 0 0 0 0 0 0 0 0 0 0 0 0 0 0 0 0 0 0 0 0 0 0 0 0 0 0 0 0 0 0 0 0 0 0 0 0 0 0 0 0 0 0 0 0 0 0 0 0 0 0 0 0 0 0 0 0 0 0 0 0 0 0 0 0 0 0 0 0 0 0 0 0 0 0 0 0 0 0 0 0 0 0 0 0 0 0 0 0 0 0 0 0 0 0 0 0 0 0 0 0 0 0 0 0 0 0 0 0 0 0 0 0 0 0 0 0 0 0 0 0 0 0 0 0 0 0 0 0 0 0 0 0 0 0 0 0 0 0 0 0 0 0 0 0 0 0 0 0 0 0 0 0 0 0 0 0 0 0 0 0 0 0\n"
     ]
    },
    {
     "name": "stdout",
     "output_type": "stream",
     "text": [
      "INFO:tensorflow:label: 0 (id = 0)\n"
     ]
    },
    {
     "name": "stderr",
     "output_type": "stream",
     "text": [
      "I0607 12:30:49.939560 140294592194432 bert_sct_utils_v2.py:305] label: 0 (id = 0)\n"
     ]
    },
    {
     "name": "stdout",
     "output_type": "stream",
     "text": [
      "INFO:tensorflow:sentiment: (20,), [-0.3412  0.286   0.714   0.      0.1779  0.      0.876   0.124  -0.7279\n",
      "  0.299   0.701   0.      0.      0.      1.      0.      0.      0.\n",
      "  1.      0.    ]\n"
     ]
    },
    {
     "name": "stderr",
     "output_type": "stream",
     "text": [
      "I0607 12:30:49.941843 140294592194432 bert_sct_utils_v2.py:306] sentiment: (20,), [-0.3412  0.286   0.714   0.      0.1779  0.      0.876   0.124  -0.7279\n",
      "  0.299   0.701   0.      0.      0.      1.      0.      0.      0.\n",
      "  1.      0.    ]\n"
     ]
    },
    {
     "name": "stdout",
     "output_type": "stream",
     "text": [
      "INFO:tensorflow:cs_dist: (4,), [-1. -1. -1. -1.]\n"
     ]
    },
    {
     "name": "stderr",
     "output_type": "stream",
     "text": [
      "I0607 12:30:49.944954 140294592194432 bert_sct_utils_v2.py:307] cs_dist: (4,), [-1. -1. -1. -1.]\n"
     ]
    },
    {
     "name": "stdout",
     "output_type": "stream",
     "text": [
      "INFO:tensorflow:*** Example ***\n"
     ]
    },
    {
     "name": "stderr",
     "output_type": "stream",
     "text": [
      "I0607 12:30:49.950317 140294592194432 bert_sct_utils_v2.py:299] *** Example ***\n"
     ]
    },
    {
     "name": "stdout",
     "output_type": "stream",
     "text": [
      "INFO:tensorflow:unique_id: test-1\n"
     ]
    },
    {
     "name": "stderr",
     "output_type": "stream",
     "text": [
      "I0607 12:30:49.953677 140294592194432 bert_sct_utils_v2.py:300] unique_id: test-1\n"
     ]
    },
    {
     "name": "stdout",
     "output_type": "stream",
     "text": [
      "INFO:tensorflow:tokens: [CLS] eva was raising two boys alone and needed money badly . she worked long hours as a hotel maid , earning minimum wage . but when a man left his wallet in his room , honest eva returned it . the man was so grateful to have his id and cards back . [SEP] he rewarded her for her honesty . [SEP]\n"
     ]
    },
    {
     "name": "stderr",
     "output_type": "stream",
     "text": [
      "I0607 12:30:49.956247 140294592194432 bert_sct_utils_v2.py:301] tokens: [CLS] eva was raising two boys alone and needed money badly . she worked long hours as a hotel maid , earning minimum wage . but when a man left his wallet in his room , honest eva returned it . the man was so grateful to have his id and cards back . [SEP] he rewarded her for her honesty . [SEP]\n"
     ]
    },
    {
     "name": "stdout",
     "output_type": "stream",
     "text": [
      "INFO:tensorflow:input_ids: 101 9345 2001 6274 2048 3337 2894 1998 2734 2769 6649 1012 2016 2499 2146 2847 2004 1037 3309 10850 1010 7414 6263 11897 1012 2021 2043 1037 2158 2187 2010 15882 1999 2010 2282 1010 7481 9345 2513 2009 1012 1996 2158 2001 2061 8794 2000 2031 2010 8909 1998 5329 2067 1012 102 2002 14610 2014 2005 2014 16718 1012 102 0 0 0 0 0 0 0 0 0 0 0 0 0 0 0 0 0 0 0 0 0 0 0 0 0 0 0 0 0 0 0 0 0 0 0 0 0 0 0 0 0 0 0 0 0 0 0 0 0 0 0 0 0 0 0 0 0 0 0 0 0 0 0 0 0 0 0 0 0 0 0 0 0 0 0 0 0 0 0 0 0 0 0 0 0 0 0 0 0 0 0 0 0 0 0 0 0 0 0 0 0 0 0 0 0 0 0 0 0 0 0 0 0 0 0 0 0 0 0 0 0 0 0 0 0 0 0 0 0 0 0 0 0 0 0 0 0 0 0 0 0 0 0 0 0 0 0 0 0 0 0 0 0 0 0 0 0 0 0 0 0 0 0 0 0 0 0 0 0 0 0 0 0 0 0 0 0 0 0 0 0 0 0 0 0 0 0 0 0 0 0 0 0 0 0 0 0 0 0 0 0 0 0 0 0 0 0 0 0 0 0 0 0 0 0 0 0 0 0 0 0 0 0 0 0 0 0 0 0 0 0 0 0 0 0 0 0 0 0 0 0 0 0 0 0 0 0 0 0 0 0 0 0 0 0 0 0 0 0 0 0 0 0 0 0 0 0 0 0 0 0 0 0 0 0 0 0 0 0 0 0 0 0 0 0 0 0 0 0 0 0 0 0 0 0 0 0 0 0 0 0 0 0 0 0 0 0 0 0 0 0 0 0 0 0 0 0 0 0 0 0 0 0 0 0 0 0 0 0 0 0 0 0 0 0 0 0\n"
     ]
    },
    {
     "name": "stderr",
     "output_type": "stream",
     "text": [
      "I0607 12:30:49.958922 140294592194432 bert_sct_utils_v2.py:302] input_ids: 101 9345 2001 6274 2048 3337 2894 1998 2734 2769 6649 1012 2016 2499 2146 2847 2004 1037 3309 10850 1010 7414 6263 11897 1012 2021 2043 1037 2158 2187 2010 15882 1999 2010 2282 1010 7481 9345 2513 2009 1012 1996 2158 2001 2061 8794 2000 2031 2010 8909 1998 5329 2067 1012 102 2002 14610 2014 2005 2014 16718 1012 102 0 0 0 0 0 0 0 0 0 0 0 0 0 0 0 0 0 0 0 0 0 0 0 0 0 0 0 0 0 0 0 0 0 0 0 0 0 0 0 0 0 0 0 0 0 0 0 0 0 0 0 0 0 0 0 0 0 0 0 0 0 0 0 0 0 0 0 0 0 0 0 0 0 0 0 0 0 0 0 0 0 0 0 0 0 0 0 0 0 0 0 0 0 0 0 0 0 0 0 0 0 0 0 0 0 0 0 0 0 0 0 0 0 0 0 0 0 0 0 0 0 0 0 0 0 0 0 0 0 0 0 0 0 0 0 0 0 0 0 0 0 0 0 0 0 0 0 0 0 0 0 0 0 0 0 0 0 0 0 0 0 0 0 0 0 0 0 0 0 0 0 0 0 0 0 0 0 0 0 0 0 0 0 0 0 0 0 0 0 0 0 0 0 0 0 0 0 0 0 0 0 0 0 0 0 0 0 0 0 0 0 0 0 0 0 0 0 0 0 0 0 0 0 0 0 0 0 0 0 0 0 0 0 0 0 0 0 0 0 0 0 0 0 0 0 0 0 0 0 0 0 0 0 0 0 0 0 0 0 0 0 0 0 0 0 0 0 0 0 0 0 0 0 0 0 0 0 0 0 0 0 0 0 0 0 0 0 0 0 0 0 0 0 0 0 0 0 0 0 0 0 0 0 0 0 0 0 0 0 0 0 0 0 0 0 0 0 0 0 0 0 0 0 0 0 0 0 0 0 0 0 0 0 0 0 0 0\n"
     ]
    },
    {
     "name": "stdout",
     "output_type": "stream",
     "text": [
      "INFO:tensorflow:input_mask: 1 1 1 1 1 1 1 1 1 1 1 1 1 1 1 1 1 1 1 1 1 1 1 1 1 1 1 1 1 1 1 1 1 1 1 1 1 1 1 1 1 1 1 1 1 1 1 1 1 1 1 1 1 1 1 1 1 1 1 1 1 1 1 0 0 0 0 0 0 0 0 0 0 0 0 0 0 0 0 0 0 0 0 0 0 0 0 0 0 0 0 0 0 0 0 0 0 0 0 0 0 0 0 0 0 0 0 0 0 0 0 0 0 0 0 0 0 0 0 0 0 0 0 0 0 0 0 0 0 0 0 0 0 0 0 0 0 0 0 0 0 0 0 0 0 0 0 0 0 0 0 0 0 0 0 0 0 0 0 0 0 0 0 0 0 0 0 0 0 0 0 0 0 0 0 0 0 0 0 0 0 0 0 0 0 0 0 0 0 0 0 0 0 0 0 0 0 0 0 0 0 0 0 0 0 0 0 0 0 0 0 0 0 0 0 0 0 0 0 0 0 0 0 0 0 0 0 0 0 0 0 0 0 0 0 0 0 0 0 0 0 0 0 0 0 0 0 0 0 0 0 0 0 0 0 0 0 0 0 0 0 0 0 0 0 0 0 0 0 0 0 0 0 0 0 0 0 0 0 0 0 0 0 0 0 0 0 0 0 0 0 0 0 0 0 0 0 0 0 0 0 0 0 0 0 0 0 0 0 0 0 0 0 0 0 0 0 0 0 0 0 0 0 0 0 0 0 0 0 0 0 0 0 0 0 0 0 0 0 0 0 0 0 0 0 0 0 0 0 0 0 0 0 0 0 0 0 0 0 0 0 0 0 0 0 0 0 0 0 0 0 0 0 0 0 0 0 0 0 0 0 0 0 0 0 0 0 0 0 0 0 0 0 0 0 0 0 0 0 0\n"
     ]
    },
    {
     "name": "stderr",
     "output_type": "stream",
     "text": [
      "I0607 12:30:49.961656 140294592194432 bert_sct_utils_v2.py:303] input_mask: 1 1 1 1 1 1 1 1 1 1 1 1 1 1 1 1 1 1 1 1 1 1 1 1 1 1 1 1 1 1 1 1 1 1 1 1 1 1 1 1 1 1 1 1 1 1 1 1 1 1 1 1 1 1 1 1 1 1 1 1 1 1 1 0 0 0 0 0 0 0 0 0 0 0 0 0 0 0 0 0 0 0 0 0 0 0 0 0 0 0 0 0 0 0 0 0 0 0 0 0 0 0 0 0 0 0 0 0 0 0 0 0 0 0 0 0 0 0 0 0 0 0 0 0 0 0 0 0 0 0 0 0 0 0 0 0 0 0 0 0 0 0 0 0 0 0 0 0 0 0 0 0 0 0 0 0 0 0 0 0 0 0 0 0 0 0 0 0 0 0 0 0 0 0 0 0 0 0 0 0 0 0 0 0 0 0 0 0 0 0 0 0 0 0 0 0 0 0 0 0 0 0 0 0 0 0 0 0 0 0 0 0 0 0 0 0 0 0 0 0 0 0 0 0 0 0 0 0 0 0 0 0 0 0 0 0 0 0 0 0 0 0 0 0 0 0 0 0 0 0 0 0 0 0 0 0 0 0 0 0 0 0 0 0 0 0 0 0 0 0 0 0 0 0 0 0 0 0 0 0 0 0 0 0 0 0 0 0 0 0 0 0 0 0 0 0 0 0 0 0 0 0 0 0 0 0 0 0 0 0 0 0 0 0 0 0 0 0 0 0 0 0 0 0 0 0 0 0 0 0 0 0 0 0 0 0 0 0 0 0 0 0 0 0 0 0 0 0 0 0 0 0 0 0 0 0 0 0 0 0 0 0 0 0 0 0 0 0 0 0 0 0 0 0 0 0 0 0 0 0 0 0 0 0 0 0 0 0 0 0 0 0 0 0 0 0 0 0 0 0\n"
     ]
    },
    {
     "name": "stdout",
     "output_type": "stream",
     "text": [
      "INFO:tensorflow:segment_ids: 0 0 0 0 0 0 0 0 0 0 0 0 0 0 0 0 0 0 0 0 0 0 0 0 0 0 0 0 0 0 0 0 0 0 0 0 0 0 0 0 0 0 0 0 0 0 0 0 0 0 0 0 0 0 0 1 1 1 1 1 1 1 1 0 0 0 0 0 0 0 0 0 0 0 0 0 0 0 0 0 0 0 0 0 0 0 0 0 0 0 0 0 0 0 0 0 0 0 0 0 0 0 0 0 0 0 0 0 0 0 0 0 0 0 0 0 0 0 0 0 0 0 0 0 0 0 0 0 0 0 0 0 0 0 0 0 0 0 0 0 0 0 0 0 0 0 0 0 0 0 0 0 0 0 0 0 0 0 0 0 0 0 0 0 0 0 0 0 0 0 0 0 0 0 0 0 0 0 0 0 0 0 0 0 0 0 0 0 0 0 0 0 0 0 0 0 0 0 0 0 0 0 0 0 0 0 0 0 0 0 0 0 0 0 0 0 0 0 0 0 0 0 0 0 0 0 0 0 0 0 0 0 0 0 0 0 0 0 0 0 0 0 0 0 0 0 0 0 0 0 0 0 0 0 0 0 0 0 0 0 0 0 0 0 0 0 0 0 0 0 0 0 0 0 0 0 0 0 0 0 0 0 0 0 0 0 0 0 0 0 0 0 0 0 0 0 0 0 0 0 0 0 0 0 0 0 0 0 0 0 0 0 0 0 0 0 0 0 0 0 0 0 0 0 0 0 0 0 0 0 0 0 0 0 0 0 0 0 0 0 0 0 0 0 0 0 0 0 0 0 0 0 0 0 0 0 0 0 0 0 0 0 0 0 0 0 0 0 0 0 0 0 0 0 0 0 0 0 0 0 0 0 0 0 0 0 0 0 0 0 0 0 0 0 0 0 0 0 0 0\n"
     ]
    },
    {
     "name": "stderr",
     "output_type": "stream",
     "text": [
      "I0607 12:30:49.964696 140294592194432 bert_sct_utils_v2.py:304] segment_ids: 0 0 0 0 0 0 0 0 0 0 0 0 0 0 0 0 0 0 0 0 0 0 0 0 0 0 0 0 0 0 0 0 0 0 0 0 0 0 0 0 0 0 0 0 0 0 0 0 0 0 0 0 0 0 0 1 1 1 1 1 1 1 1 0 0 0 0 0 0 0 0 0 0 0 0 0 0 0 0 0 0 0 0 0 0 0 0 0 0 0 0 0 0 0 0 0 0 0 0 0 0 0 0 0 0 0 0 0 0 0 0 0 0 0 0 0 0 0 0 0 0 0 0 0 0 0 0 0 0 0 0 0 0 0 0 0 0 0 0 0 0 0 0 0 0 0 0 0 0 0 0 0 0 0 0 0 0 0 0 0 0 0 0 0 0 0 0 0 0 0 0 0 0 0 0 0 0 0 0 0 0 0 0 0 0 0 0 0 0 0 0 0 0 0 0 0 0 0 0 0 0 0 0 0 0 0 0 0 0 0 0 0 0 0 0 0 0 0 0 0 0 0 0 0 0 0 0 0 0 0 0 0 0 0 0 0 0 0 0 0 0 0 0 0 0 0 0 0 0 0 0 0 0 0 0 0 0 0 0 0 0 0 0 0 0 0 0 0 0 0 0 0 0 0 0 0 0 0 0 0 0 0 0 0 0 0 0 0 0 0 0 0 0 0 0 0 0 0 0 0 0 0 0 0 0 0 0 0 0 0 0 0 0 0 0 0 0 0 0 0 0 0 0 0 0 0 0 0 0 0 0 0 0 0 0 0 0 0 0 0 0 0 0 0 0 0 0 0 0 0 0 0 0 0 0 0 0 0 0 0 0 0 0 0 0 0 0 0 0 0 0 0 0 0 0 0 0 0 0 0 0 0 0 0 0 0 0 0 0 0 0 0 0 0 0 0 0 0 0 0\n"
     ]
    },
    {
     "name": "stdout",
     "output_type": "stream",
     "text": [
      "INFO:tensorflow:label: 1 (id = 1)\n"
     ]
    },
    {
     "name": "stderr",
     "output_type": "stream",
     "text": [
      "I0607 12:30:49.967276 140294592194432 bert_sct_utils_v2.py:305] label: 1 (id = 1)\n"
     ]
    },
    {
     "name": "stdout",
     "output_type": "stream",
     "text": [
      "INFO:tensorflow:sentiment: (20,), [-0.6249  0.389   0.611   0.      0.      0.      1.      0.      0.6652\n",
      "  0.      0.729   0.271   0.5949  0.      0.74    0.26    0.7506  0.\n",
      "  0.385   0.615 ]\n"
     ]
    },
    {
     "name": "stderr",
     "output_type": "stream",
     "text": [
      "I0607 12:30:49.970218 140294592194432 bert_sct_utils_v2.py:306] sentiment: (20,), [-0.6249  0.389   0.611   0.      0.      0.      1.      0.      0.6652\n",
      "  0.      0.729   0.271   0.5949  0.      0.74    0.26    0.7506  0.\n",
      "  0.385   0.615 ]\n"
     ]
    },
    {
     "name": "stdout",
     "output_type": "stream",
     "text": [
      "INFO:tensorflow:cs_dist: (4,), [1. 1. 1. 1.]\n"
     ]
    },
    {
     "name": "stderr",
     "output_type": "stream",
     "text": [
      "I0607 12:30:49.973026 140294592194432 bert_sct_utils_v2.py:307] cs_dist: (4,), [1. 1. 1. 1.]\n"
     ]
    },
    {
     "name": "stdout",
     "output_type": "stream",
     "text": [
      "INFO:tensorflow:*** Example ***\n"
     ]
    },
    {
     "name": "stderr",
     "output_type": "stream",
     "text": [
      "I0607 12:30:49.977205 140294592194432 bert_sct_utils_v2.py:299] *** Example ***\n"
     ]
    },
    {
     "name": "stdout",
     "output_type": "stream",
     "text": [
      "INFO:tensorflow:unique_id: test-1\n"
     ]
    },
    {
     "name": "stderr",
     "output_type": "stream",
     "text": [
      "I0607 12:30:49.980872 140294592194432 bert_sct_utils_v2.py:300] unique_id: test-1\n"
     ]
    },
    {
     "name": "stdout",
     "output_type": "stream",
     "text": [
      "INFO:tensorflow:tokens: [CLS] eva was raising two boys alone and needed money badly . she worked long hours as a hotel maid , earning minimum wage . but when a man left his wallet in his room , honest eva returned it . the man was so grateful to have his id and cards back . [SEP] he sc ##old ##ed her for what she had done . [SEP]\n"
     ]
    },
    {
     "name": "stderr",
     "output_type": "stream",
     "text": [
      "I0607 12:30:49.983437 140294592194432 bert_sct_utils_v2.py:301] tokens: [CLS] eva was raising two boys alone and needed money badly . she worked long hours as a hotel maid , earning minimum wage . but when a man left his wallet in his room , honest eva returned it . the man was so grateful to have his id and cards back . [SEP] he sc ##old ##ed her for what she had done . [SEP]\n"
     ]
    },
    {
     "name": "stdout",
     "output_type": "stream",
     "text": [
      "INFO:tensorflow:input_ids: 101 9345 2001 6274 2048 3337 2894 1998 2734 2769 6649 1012 2016 2499 2146 2847 2004 1037 3309 10850 1010 7414 6263 11897 1012 2021 2043 1037 2158 2187 2010 15882 1999 2010 2282 1010 7481 9345 2513 2009 1012 1996 2158 2001 2061 8794 2000 2031 2010 8909 1998 5329 2067 1012 102 2002 8040 11614 2098 2014 2005 2054 2016 2018 2589 1012 102 0 0 0 0 0 0 0 0 0 0 0 0 0 0 0 0 0 0 0 0 0 0 0 0 0 0 0 0 0 0 0 0 0 0 0 0 0 0 0 0 0 0 0 0 0 0 0 0 0 0 0 0 0 0 0 0 0 0 0 0 0 0 0 0 0 0 0 0 0 0 0 0 0 0 0 0 0 0 0 0 0 0 0 0 0 0 0 0 0 0 0 0 0 0 0 0 0 0 0 0 0 0 0 0 0 0 0 0 0 0 0 0 0 0 0 0 0 0 0 0 0 0 0 0 0 0 0 0 0 0 0 0 0 0 0 0 0 0 0 0 0 0 0 0 0 0 0 0 0 0 0 0 0 0 0 0 0 0 0 0 0 0 0 0 0 0 0 0 0 0 0 0 0 0 0 0 0 0 0 0 0 0 0 0 0 0 0 0 0 0 0 0 0 0 0 0 0 0 0 0 0 0 0 0 0 0 0 0 0 0 0 0 0 0 0 0 0 0 0 0 0 0 0 0 0 0 0 0 0 0 0 0 0 0 0 0 0 0 0 0 0 0 0 0 0 0 0 0 0 0 0 0 0 0 0 0 0 0 0 0 0 0 0 0 0 0 0 0 0 0 0 0 0 0 0 0 0 0 0 0 0 0 0 0 0 0 0 0 0 0 0 0 0 0 0 0 0 0 0 0 0 0 0 0 0 0 0 0 0 0 0 0 0 0 0 0 0 0 0 0 0 0 0 0 0 0 0 0 0 0 0 0 0\n"
     ]
    },
    {
     "name": "stderr",
     "output_type": "stream",
     "text": [
      "I0607 12:30:49.986160 140294592194432 bert_sct_utils_v2.py:302] input_ids: 101 9345 2001 6274 2048 3337 2894 1998 2734 2769 6649 1012 2016 2499 2146 2847 2004 1037 3309 10850 1010 7414 6263 11897 1012 2021 2043 1037 2158 2187 2010 15882 1999 2010 2282 1010 7481 9345 2513 2009 1012 1996 2158 2001 2061 8794 2000 2031 2010 8909 1998 5329 2067 1012 102 2002 8040 11614 2098 2014 2005 2054 2016 2018 2589 1012 102 0 0 0 0 0 0 0 0 0 0 0 0 0 0 0 0 0 0 0 0 0 0 0 0 0 0 0 0 0 0 0 0 0 0 0 0 0 0 0 0 0 0 0 0 0 0 0 0 0 0 0 0 0 0 0 0 0 0 0 0 0 0 0 0 0 0 0 0 0 0 0 0 0 0 0 0 0 0 0 0 0 0 0 0 0 0 0 0 0 0 0 0 0 0 0 0 0 0 0 0 0 0 0 0 0 0 0 0 0 0 0 0 0 0 0 0 0 0 0 0 0 0 0 0 0 0 0 0 0 0 0 0 0 0 0 0 0 0 0 0 0 0 0 0 0 0 0 0 0 0 0 0 0 0 0 0 0 0 0 0 0 0 0 0 0 0 0 0 0 0 0 0 0 0 0 0 0 0 0 0 0 0 0 0 0 0 0 0 0 0 0 0 0 0 0 0 0 0 0 0 0 0 0 0 0 0 0 0 0 0 0 0 0 0 0 0 0 0 0 0 0 0 0 0 0 0 0 0 0 0 0 0 0 0 0 0 0 0 0 0 0 0 0 0 0 0 0 0 0 0 0 0 0 0 0 0 0 0 0 0 0 0 0 0 0 0 0 0 0 0 0 0 0 0 0 0 0 0 0 0 0 0 0 0 0 0 0 0 0 0 0 0 0 0 0 0 0 0 0 0 0 0 0 0 0 0 0 0 0 0 0 0 0 0 0 0 0 0 0 0 0 0 0 0 0 0 0 0 0 0 0 0 0\n"
     ]
    },
    {
     "name": "stdout",
     "output_type": "stream",
     "text": [
      "INFO:tensorflow:input_mask: 1 1 1 1 1 1 1 1 1 1 1 1 1 1 1 1 1 1 1 1 1 1 1 1 1 1 1 1 1 1 1 1 1 1 1 1 1 1 1 1 1 1 1 1 1 1 1 1 1 1 1 1 1 1 1 1 1 1 1 1 1 1 1 1 1 1 1 0 0 0 0 0 0 0 0 0 0 0 0 0 0 0 0 0 0 0 0 0 0 0 0 0 0 0 0 0 0 0 0 0 0 0 0 0 0 0 0 0 0 0 0 0 0 0 0 0 0 0 0 0 0 0 0 0 0 0 0 0 0 0 0 0 0 0 0 0 0 0 0 0 0 0 0 0 0 0 0 0 0 0 0 0 0 0 0 0 0 0 0 0 0 0 0 0 0 0 0 0 0 0 0 0 0 0 0 0 0 0 0 0 0 0 0 0 0 0 0 0 0 0 0 0 0 0 0 0 0 0 0 0 0 0 0 0 0 0 0 0 0 0 0 0 0 0 0 0 0 0 0 0 0 0 0 0 0 0 0 0 0 0 0 0 0 0 0 0 0 0 0 0 0 0 0 0 0 0 0 0 0 0 0 0 0 0 0 0 0 0 0 0 0 0 0 0 0 0 0 0 0 0 0 0 0 0 0 0 0 0 0 0 0 0 0 0 0 0 0 0 0 0 0 0 0 0 0 0 0 0 0 0 0 0 0 0 0 0 0 0 0 0 0 0 0 0 0 0 0 0 0 0 0 0 0 0 0 0 0 0 0 0 0 0 0 0 0 0 0 0 0 0 0 0 0 0 0 0 0 0 0 0 0 0 0 0 0 0 0 0 0 0 0 0 0 0 0 0 0 0 0 0 0 0 0 0 0 0 0 0 0 0 0 0 0 0 0 0 0 0 0 0 0 0 0 0 0 0 0 0 0 0\n"
     ]
    },
    {
     "name": "stderr",
     "output_type": "stream",
     "text": [
      "I0607 12:30:49.988874 140294592194432 bert_sct_utils_v2.py:303] input_mask: 1 1 1 1 1 1 1 1 1 1 1 1 1 1 1 1 1 1 1 1 1 1 1 1 1 1 1 1 1 1 1 1 1 1 1 1 1 1 1 1 1 1 1 1 1 1 1 1 1 1 1 1 1 1 1 1 1 1 1 1 1 1 1 1 1 1 1 0 0 0 0 0 0 0 0 0 0 0 0 0 0 0 0 0 0 0 0 0 0 0 0 0 0 0 0 0 0 0 0 0 0 0 0 0 0 0 0 0 0 0 0 0 0 0 0 0 0 0 0 0 0 0 0 0 0 0 0 0 0 0 0 0 0 0 0 0 0 0 0 0 0 0 0 0 0 0 0 0 0 0 0 0 0 0 0 0 0 0 0 0 0 0 0 0 0 0 0 0 0 0 0 0 0 0 0 0 0 0 0 0 0 0 0 0 0 0 0 0 0 0 0 0 0 0 0 0 0 0 0 0 0 0 0 0 0 0 0 0 0 0 0 0 0 0 0 0 0 0 0 0 0 0 0 0 0 0 0 0 0 0 0 0 0 0 0 0 0 0 0 0 0 0 0 0 0 0 0 0 0 0 0 0 0 0 0 0 0 0 0 0 0 0 0 0 0 0 0 0 0 0 0 0 0 0 0 0 0 0 0 0 0 0 0 0 0 0 0 0 0 0 0 0 0 0 0 0 0 0 0 0 0 0 0 0 0 0 0 0 0 0 0 0 0 0 0 0 0 0 0 0 0 0 0 0 0 0 0 0 0 0 0 0 0 0 0 0 0 0 0 0 0 0 0 0 0 0 0 0 0 0 0 0 0 0 0 0 0 0 0 0 0 0 0 0 0 0 0 0 0 0 0 0 0 0 0 0 0 0 0 0 0 0 0 0 0 0 0 0 0 0 0 0 0 0 0 0 0 0 0 0\n"
     ]
    },
    {
     "name": "stdout",
     "output_type": "stream",
     "text": [
      "INFO:tensorflow:segment_ids: 0 0 0 0 0 0 0 0 0 0 0 0 0 0 0 0 0 0 0 0 0 0 0 0 0 0 0 0 0 0 0 0 0 0 0 0 0 0 0 0 0 0 0 0 0 0 0 0 0 0 0 0 0 0 0 1 1 1 1 1 1 1 1 1 1 1 1 0 0 0 0 0 0 0 0 0 0 0 0 0 0 0 0 0 0 0 0 0 0 0 0 0 0 0 0 0 0 0 0 0 0 0 0 0 0 0 0 0 0 0 0 0 0 0 0 0 0 0 0 0 0 0 0 0 0 0 0 0 0 0 0 0 0 0 0 0 0 0 0 0 0 0 0 0 0 0 0 0 0 0 0 0 0 0 0 0 0 0 0 0 0 0 0 0 0 0 0 0 0 0 0 0 0 0 0 0 0 0 0 0 0 0 0 0 0 0 0 0 0 0 0 0 0 0 0 0 0 0 0 0 0 0 0 0 0 0 0 0 0 0 0 0 0 0 0 0 0 0 0 0 0 0 0 0 0 0 0 0 0 0 0 0 0 0 0 0 0 0 0 0 0 0 0 0 0 0 0 0 0 0 0 0 0 0 0 0 0 0 0 0 0 0 0 0 0 0 0 0 0 0 0 0 0 0 0 0 0 0 0 0 0 0 0 0 0 0 0 0 0 0 0 0 0 0 0 0 0 0 0 0 0 0 0 0 0 0 0 0 0 0 0 0 0 0 0 0 0 0 0 0 0 0 0 0 0 0 0 0 0 0 0 0 0 0 0 0 0 0 0 0 0 0 0 0 0 0 0 0 0 0 0 0 0 0 0 0 0 0 0 0 0 0 0 0 0 0 0 0 0 0 0 0 0 0 0 0 0 0 0 0 0 0 0 0 0 0 0 0 0 0 0 0 0 0 0 0 0 0 0 0\n"
     ]
    },
    {
     "name": "stderr",
     "output_type": "stream",
     "text": [
      "I0607 12:30:49.991889 140294592194432 bert_sct_utils_v2.py:304] segment_ids: 0 0 0 0 0 0 0 0 0 0 0 0 0 0 0 0 0 0 0 0 0 0 0 0 0 0 0 0 0 0 0 0 0 0 0 0 0 0 0 0 0 0 0 0 0 0 0 0 0 0 0 0 0 0 0 1 1 1 1 1 1 1 1 1 1 1 1 0 0 0 0 0 0 0 0 0 0 0 0 0 0 0 0 0 0 0 0 0 0 0 0 0 0 0 0 0 0 0 0 0 0 0 0 0 0 0 0 0 0 0 0 0 0 0 0 0 0 0 0 0 0 0 0 0 0 0 0 0 0 0 0 0 0 0 0 0 0 0 0 0 0 0 0 0 0 0 0 0 0 0 0 0 0 0 0 0 0 0 0 0 0 0 0 0 0 0 0 0 0 0 0 0 0 0 0 0 0 0 0 0 0 0 0 0 0 0 0 0 0 0 0 0 0 0 0 0 0 0 0 0 0 0 0 0 0 0 0 0 0 0 0 0 0 0 0 0 0 0 0 0 0 0 0 0 0 0 0 0 0 0 0 0 0 0 0 0 0 0 0 0 0 0 0 0 0 0 0 0 0 0 0 0 0 0 0 0 0 0 0 0 0 0 0 0 0 0 0 0 0 0 0 0 0 0 0 0 0 0 0 0 0 0 0 0 0 0 0 0 0 0 0 0 0 0 0 0 0 0 0 0 0 0 0 0 0 0 0 0 0 0 0 0 0 0 0 0 0 0 0 0 0 0 0 0 0 0 0 0 0 0 0 0 0 0 0 0 0 0 0 0 0 0 0 0 0 0 0 0 0 0 0 0 0 0 0 0 0 0 0 0 0 0 0 0 0 0 0 0 0 0 0 0 0 0 0 0 0 0 0 0 0 0 0 0 0 0 0 0 0 0 0 0 0 0 0 0 0 0 0 0\n"
     ]
    },
    {
     "name": "stdout",
     "output_type": "stream",
     "text": [
      "INFO:tensorflow:label: 0 (id = 0)\n"
     ]
    },
    {
     "name": "stderr",
     "output_type": "stream",
     "text": [
      "I0607 12:30:49.994462 140294592194432 bert_sct_utils_v2.py:305] label: 0 (id = 0)\n"
     ]
    },
    {
     "name": "stdout",
     "output_type": "stream",
     "text": [
      "INFO:tensorflow:sentiment: (20,), [-0.6249  0.389   0.611   0.      0.      0.      1.      0.      0.6652\n",
      "  0.      0.729   0.271   0.5949  0.      0.74    0.26    0.      0.\n",
      "  1.      0.    ]\n"
     ]
    },
    {
     "name": "stderr",
     "output_type": "stream",
     "text": [
      "I0607 12:30:49.997361 140294592194432 bert_sct_utils_v2.py:306] sentiment: (20,), [-0.6249  0.389   0.611   0.      0.      0.      1.      0.      0.6652\n",
      "  0.      0.729   0.271   0.5949  0.      0.74    0.26    0.      0.\n",
      "  1.      0.    ]\n"
     ]
    },
    {
     "name": "stdout",
     "output_type": "stream",
     "text": [
      "INFO:tensorflow:cs_dist: (4,), [-1. -1. -1. -1.]\n"
     ]
    },
    {
     "name": "stderr",
     "output_type": "stream",
     "text": [
      "I0607 12:30:50.000169 140294592194432 bert_sct_utils_v2.py:307] cs_dist: (4,), [-1. -1. -1. -1.]\n"
     ]
    },
    {
     "name": "stdout",
     "output_type": "stream",
     "text": [
      "INFO:tensorflow:Writing example 1000 of 2343\n"
     ]
    },
    {
     "name": "stderr",
     "output_type": "stream",
     "text": [
      "I0607 12:30:52.590540 140294592194432 bert_sct_utils_v2.py:322] Writing example 1000 of 2343\n"
     ]
    },
    {
     "name": "stdout",
     "output_type": "stream",
     "text": [
      "INFO:tensorflow:Writing example 2000 of 2343\n"
     ]
    },
    {
     "name": "stderr",
     "output_type": "stream",
     "text": [
      "I0607 12:30:55.154283 140294592194432 bert_sct_utils_v2.py:322] Writing example 2000 of 2343\n"
     ]
    },
    {
     "name": "stdout",
     "output_type": "stream",
     "text": [
      "INFO:tensorflow:***** Running prediction*****\n"
     ]
    },
    {
     "name": "stderr",
     "output_type": "stream",
     "text": [
      "I0607 12:30:56.029547 140294592194432 <ipython-input-11-7b355e037c6c>:118] ***** Running prediction*****\n"
     ]
    },
    {
     "name": "stdout",
     "output_type": "stream",
     "text": [
      "INFO:tensorflow:  Num examples = 2343\n"
     ]
    },
    {
     "name": "stderr",
     "output_type": "stream",
     "text": [
      "I0607 12:30:56.031477 140294592194432 <ipython-input-11-7b355e037c6c>:119]   Num examples = 2343\n"
     ]
    },
    {
     "name": "stdout",
     "output_type": "stream",
     "text": [
      "INFO:tensorflow:***** Predict results *****\n"
     ]
    },
    {
     "name": "stderr",
     "output_type": "stream",
     "text": [
      "I0607 12:30:56.033087 140294592194432 <ipython-input-11-7b355e037c6c>:131] ***** Predict results *****\n"
     ]
    },
    {
     "name": "stdout",
     "output_type": "stream",
     "text": [
      "INFO:tensorflow:Calling model_fn.\n"
     ]
    },
    {
     "name": "stderr",
     "output_type": "stream",
     "text": [
      "I0607 12:30:56.087403 140294592194432 estimator.py:1111] Calling model_fn.\n"
     ]
    },
    {
     "name": "stdout",
     "output_type": "stream",
     "text": [
      "INFO:tensorflow:Saver not created because there are no variables in the graph to restore\n"
     ]
    },
    {
     "name": "stderr",
     "output_type": "stream",
     "text": [
      "I0607 12:30:59.123887 140294592194432 saver.py:1483] Saver not created because there are no variables in the graph to restore\n"
     ]
    },
    {
     "name": "stdout",
     "output_type": "stream",
     "text": [
      "INFO:tensorflow:Saver not created because there are no variables in the graph to restore\n"
     ]
    },
    {
     "name": "stderr",
     "output_type": "stream",
     "text": [
      "I0607 12:30:59.925153 140294592194432 saver.py:1483] Saver not created because there are no variables in the graph to restore\n"
     ]
    },
    {
     "name": "stdout",
     "output_type": "stream",
     "text": [
      "INFO:tensorflow:logits_pos, shape = (?, 1)\n"
     ]
    },
    {
     "name": "stderr",
     "output_type": "stream",
     "text": [
      "I0607 12:31:00.094791 140294592194432 bert_sct_utils_v2.py:531] logits_pos, shape = (?, 1)\n"
     ]
    },
    {
     "name": "stdout",
     "output_type": "stream",
     "text": [
      "INFO:tensorflow:logits_neg, shape = (?, 1)\n"
     ]
    },
    {
     "name": "stderr",
     "output_type": "stream",
     "text": [
      "I0607 12:31:00.096725 140294592194432 bert_sct_utils_v2.py:532] logits_neg, shape = (?, 1)\n"
     ]
    },
    {
     "name": "stdout",
     "output_type": "stream",
     "text": [
      "INFO:tensorflow:logits, shape = (?, 2)\n"
     ]
    },
    {
     "name": "stderr",
     "output_type": "stream",
     "text": [
      "I0607 12:31:00.099891 140294592194432 bert_sct_utils_v2.py:533] logits, shape = (?, 2)\n"
     ]
    },
    {
     "name": "stdout",
     "output_type": "stream",
     "text": [
      "INFO:tensorflow:probabilities, shape = (?, 2)\n"
     ]
    },
    {
     "name": "stderr",
     "output_type": "stream",
     "text": [
      "I0607 12:31:00.102594 140294592194432 bert_sct_utils_v2.py:535] probabilities, shape = (?, 2)\n"
     ]
    },
    {
     "name": "stdout",
     "output_type": "stream",
     "text": [
      "INFO:tensorflow:log_probs, shape = (?, 2)\n"
     ]
    },
    {
     "name": "stderr",
     "output_type": "stream",
     "text": [
      "I0607 12:31:00.105444 140294592194432 bert_sct_utils_v2.py:536] log_probs, shape = (?, 2)\n"
     ]
    },
    {
     "name": "stdout",
     "output_type": "stream",
     "text": [
      "INFO:tensorflow:one_hot_labels, shape = (?, 2)\n"
     ]
    },
    {
     "name": "stderr",
     "output_type": "stream",
     "text": [
      "I0607 12:31:00.108469 140294592194432 bert_sct_utils_v2.py:537] one_hot_labels, shape = (?, 2)\n"
     ]
    },
    {
     "name": "stdout",
     "output_type": "stream",
     "text": [
      "INFO:tensorflow:predicted_labels, shape = (?,)\n"
     ]
    },
    {
     "name": "stderr",
     "output_type": "stream",
     "text": [
      "I0607 12:31:00.110228 140294592194432 bert_sct_utils_v2.py:538] predicted_labels, shape = (?,)\n"
     ]
    },
    {
     "name": "stdout",
     "output_type": "stream",
     "text": [
      "INFO:tensorflow:per_example_loss, shape = (?,)\n"
     ]
    },
    {
     "name": "stderr",
     "output_type": "stream",
     "text": [
      "I0607 12:31:00.115059 140294592194432 bert_sct_utils_v2.py:539] per_example_loss, shape = (?,)\n"
     ]
    },
    {
     "name": "stdout",
     "output_type": "stream",
     "text": [
      "INFO:tensorflow:loss, shape = ()\n"
     ]
    },
    {
     "name": "stderr",
     "output_type": "stream",
     "text": [
      "I0607 12:31:00.117921 140294592194432 bert_sct_utils_v2.py:540] loss, shape = ()\n"
     ]
    },
    {
     "name": "stdout",
     "output_type": "stream",
     "text": [
      "INFO:tensorflow:**** Trainable Variables ****\n"
     ]
    },
    {
     "name": "stderr",
     "output_type": "stream",
     "text": [
      "I0607 12:31:00.163598 140294592194432 bert_sct_utils_v2.py:591] **** Trainable Variables ****\n"
     ]
    },
    {
     "name": "stdout",
     "output_type": "stream",
     "text": [
      "INFO:tensorflow:  name = module/bert/embeddings/word_embeddings:0, shape = (30522, 768)\n"
     ]
    },
    {
     "name": "stderr",
     "output_type": "stream",
     "text": [
      "I0607 12:31:00.165051 140294592194432 bert_sct_utils_v2.py:593]   name = module/bert/embeddings/word_embeddings:0, shape = (30522, 768)\n"
     ]
    },
    {
     "name": "stdout",
     "output_type": "stream",
     "text": [
      "INFO:tensorflow:  name = module/bert/embeddings/token_type_embeddings:0, shape = (2, 768)\n"
     ]
    },
    {
     "name": "stderr",
     "output_type": "stream",
     "text": [
      "I0607 12:31:00.166941 140294592194432 bert_sct_utils_v2.py:593]   name = module/bert/embeddings/token_type_embeddings:0, shape = (2, 768)\n"
     ]
    },
    {
     "name": "stdout",
     "output_type": "stream",
     "text": [
      "INFO:tensorflow:  name = module/bert/embeddings/position_embeddings:0, shape = (512, 768)\n"
     ]
    },
    {
     "name": "stderr",
     "output_type": "stream",
     "text": [
      "I0607 12:31:00.168814 140294592194432 bert_sct_utils_v2.py:593]   name = module/bert/embeddings/position_embeddings:0, shape = (512, 768)\n"
     ]
    },
    {
     "name": "stdout",
     "output_type": "stream",
     "text": [
      "INFO:tensorflow:  name = module/bert/embeddings/LayerNorm/beta:0, shape = (768,)\n"
     ]
    },
    {
     "name": "stderr",
     "output_type": "stream",
     "text": [
      "I0607 12:31:00.171945 140294592194432 bert_sct_utils_v2.py:593]   name = module/bert/embeddings/LayerNorm/beta:0, shape = (768,)\n"
     ]
    },
    {
     "name": "stdout",
     "output_type": "stream",
     "text": [
      "INFO:tensorflow:  name = module/bert/embeddings/LayerNorm/gamma:0, shape = (768,)\n"
     ]
    },
    {
     "name": "stderr",
     "output_type": "stream",
     "text": [
      "I0607 12:31:00.175349 140294592194432 bert_sct_utils_v2.py:593]   name = module/bert/embeddings/LayerNorm/gamma:0, shape = (768,)\n"
     ]
    },
    {
     "name": "stdout",
     "output_type": "stream",
     "text": [
      "INFO:tensorflow:  name = module/bert/encoder/layer_0/attention/self/query/kernel:0, shape = (768, 768)\n"
     ]
    },
    {
     "name": "stderr",
     "output_type": "stream",
     "text": [
      "I0607 12:31:00.177918 140294592194432 bert_sct_utils_v2.py:593]   name = module/bert/encoder/layer_0/attention/self/query/kernel:0, shape = (768, 768)\n"
     ]
    },
    {
     "name": "stdout",
     "output_type": "stream",
     "text": [
      "INFO:tensorflow:  name = module/bert/encoder/layer_0/attention/self/query/bias:0, shape = (768,)\n"
     ]
    },
    {
     "name": "stderr",
     "output_type": "stream",
     "text": [
      "I0607 12:31:00.180457 140294592194432 bert_sct_utils_v2.py:593]   name = module/bert/encoder/layer_0/attention/self/query/bias:0, shape = (768,)\n"
     ]
    },
    {
     "name": "stdout",
     "output_type": "stream",
     "text": [
      "INFO:tensorflow:  name = module/bert/encoder/layer_0/attention/self/key/kernel:0, shape = (768, 768)\n"
     ]
    },
    {
     "name": "stderr",
     "output_type": "stream",
     "text": [
      "I0607 12:31:00.183094 140294592194432 bert_sct_utils_v2.py:593]   name = module/bert/encoder/layer_0/attention/self/key/kernel:0, shape = (768, 768)\n"
     ]
    },
    {
     "name": "stdout",
     "output_type": "stream",
     "text": [
      "INFO:tensorflow:  name = module/bert/encoder/layer_0/attention/self/key/bias:0, shape = (768,)\n"
     ]
    },
    {
     "name": "stderr",
     "output_type": "stream",
     "text": [
      "I0607 12:31:00.185616 140294592194432 bert_sct_utils_v2.py:593]   name = module/bert/encoder/layer_0/attention/self/key/bias:0, shape = (768,)\n"
     ]
    },
    {
     "name": "stdout",
     "output_type": "stream",
     "text": [
      "INFO:tensorflow:  name = module/bert/encoder/layer_0/attention/self/value/kernel:0, shape = (768, 768)\n"
     ]
    },
    {
     "name": "stderr",
     "output_type": "stream",
     "text": [
      "I0607 12:31:00.188021 140294592194432 bert_sct_utils_v2.py:593]   name = module/bert/encoder/layer_0/attention/self/value/kernel:0, shape = (768, 768)\n"
     ]
    },
    {
     "name": "stdout",
     "output_type": "stream",
     "text": [
      "INFO:tensorflow:  name = module/bert/encoder/layer_0/attention/self/value/bias:0, shape = (768,)\n"
     ]
    },
    {
     "name": "stderr",
     "output_type": "stream",
     "text": [
      "I0607 12:31:00.190471 140294592194432 bert_sct_utils_v2.py:593]   name = module/bert/encoder/layer_0/attention/self/value/bias:0, shape = (768,)\n"
     ]
    },
    {
     "name": "stdout",
     "output_type": "stream",
     "text": [
      "INFO:tensorflow:  name = module/bert/encoder/layer_0/attention/output/dense/kernel:0, shape = (768, 768)\n"
     ]
    },
    {
     "name": "stderr",
     "output_type": "stream",
     "text": [
      "I0607 12:31:00.193073 140294592194432 bert_sct_utils_v2.py:593]   name = module/bert/encoder/layer_0/attention/output/dense/kernel:0, shape = (768, 768)\n"
     ]
    },
    {
     "name": "stdout",
     "output_type": "stream",
     "text": [
      "INFO:tensorflow:  name = module/bert/encoder/layer_0/attention/output/dense/bias:0, shape = (768,)\n"
     ]
    },
    {
     "name": "stderr",
     "output_type": "stream",
     "text": [
      "I0607 12:31:00.195703 140294592194432 bert_sct_utils_v2.py:593]   name = module/bert/encoder/layer_0/attention/output/dense/bias:0, shape = (768,)\n"
     ]
    },
    {
     "name": "stdout",
     "output_type": "stream",
     "text": [
      "INFO:tensorflow:  name = module/bert/encoder/layer_0/attention/output/LayerNorm/beta:0, shape = (768,)\n"
     ]
    },
    {
     "name": "stderr",
     "output_type": "stream",
     "text": [
      "I0607 12:31:00.198217 140294592194432 bert_sct_utils_v2.py:593]   name = module/bert/encoder/layer_0/attention/output/LayerNorm/beta:0, shape = (768,)\n"
     ]
    },
    {
     "name": "stdout",
     "output_type": "stream",
     "text": [
      "INFO:tensorflow:  name = module/bert/encoder/layer_0/attention/output/LayerNorm/gamma:0, shape = (768,)\n"
     ]
    },
    {
     "name": "stderr",
     "output_type": "stream",
     "text": [
      "I0607 12:31:00.200746 140294592194432 bert_sct_utils_v2.py:593]   name = module/bert/encoder/layer_0/attention/output/LayerNorm/gamma:0, shape = (768,)\n"
     ]
    },
    {
     "name": "stdout",
     "output_type": "stream",
     "text": [
      "INFO:tensorflow:  name = module/bert/encoder/layer_0/intermediate/dense/kernel:0, shape = (768, 3072)\n"
     ]
    },
    {
     "name": "stderr",
     "output_type": "stream",
     "text": [
      "I0607 12:31:00.203300 140294592194432 bert_sct_utils_v2.py:593]   name = module/bert/encoder/layer_0/intermediate/dense/kernel:0, shape = (768, 3072)\n"
     ]
    },
    {
     "name": "stdout",
     "output_type": "stream",
     "text": [
      "INFO:tensorflow:  name = module/bert/encoder/layer_0/intermediate/dense/bias:0, shape = (3072,)\n"
     ]
    },
    {
     "name": "stderr",
     "output_type": "stream",
     "text": [
      "I0607 12:31:00.205884 140294592194432 bert_sct_utils_v2.py:593]   name = module/bert/encoder/layer_0/intermediate/dense/bias:0, shape = (3072,)\n"
     ]
    },
    {
     "name": "stdout",
     "output_type": "stream",
     "text": [
      "INFO:tensorflow:  name = module/bert/encoder/layer_0/output/dense/kernel:0, shape = (3072, 768)\n"
     ]
    },
    {
     "name": "stderr",
     "output_type": "stream",
     "text": [
      "I0607 12:31:00.208371 140294592194432 bert_sct_utils_v2.py:593]   name = module/bert/encoder/layer_0/output/dense/kernel:0, shape = (3072, 768)\n"
     ]
    },
    {
     "name": "stdout",
     "output_type": "stream",
     "text": [
      "INFO:tensorflow:  name = module/bert/encoder/layer_0/output/dense/bias:0, shape = (768,)\n"
     ]
    },
    {
     "name": "stderr",
     "output_type": "stream",
     "text": [
      "I0607 12:31:00.210928 140294592194432 bert_sct_utils_v2.py:593]   name = module/bert/encoder/layer_0/output/dense/bias:0, shape = (768,)\n"
     ]
    },
    {
     "name": "stdout",
     "output_type": "stream",
     "text": [
      "INFO:tensorflow:  name = module/bert/encoder/layer_0/output/LayerNorm/beta:0, shape = (768,)\n"
     ]
    },
    {
     "name": "stderr",
     "output_type": "stream",
     "text": [
      "I0607 12:31:00.213370 140294592194432 bert_sct_utils_v2.py:593]   name = module/bert/encoder/layer_0/output/LayerNorm/beta:0, shape = (768,)\n"
     ]
    },
    {
     "name": "stdout",
     "output_type": "stream",
     "text": [
      "INFO:tensorflow:  name = module/bert/encoder/layer_0/output/LayerNorm/gamma:0, shape = (768,)\n"
     ]
    },
    {
     "name": "stderr",
     "output_type": "stream",
     "text": [
      "I0607 12:31:00.215958 140294592194432 bert_sct_utils_v2.py:593]   name = module/bert/encoder/layer_0/output/LayerNorm/gamma:0, shape = (768,)\n"
     ]
    },
    {
     "name": "stdout",
     "output_type": "stream",
     "text": [
      "INFO:tensorflow:  name = module/bert/encoder/layer_1/attention/self/query/kernel:0, shape = (768, 768)\n"
     ]
    },
    {
     "name": "stderr",
     "output_type": "stream",
     "text": [
      "I0607 12:31:00.218442 140294592194432 bert_sct_utils_v2.py:593]   name = module/bert/encoder/layer_1/attention/self/query/kernel:0, shape = (768, 768)\n"
     ]
    },
    {
     "name": "stdout",
     "output_type": "stream",
     "text": [
      "INFO:tensorflow:  name = module/bert/encoder/layer_1/attention/self/query/bias:0, shape = (768,)\n"
     ]
    },
    {
     "name": "stderr",
     "output_type": "stream",
     "text": [
      "I0607 12:31:00.220996 140294592194432 bert_sct_utils_v2.py:593]   name = module/bert/encoder/layer_1/attention/self/query/bias:0, shape = (768,)\n"
     ]
    },
    {
     "name": "stdout",
     "output_type": "stream",
     "text": [
      "INFO:tensorflow:  name = module/bert/encoder/layer_1/attention/self/key/kernel:0, shape = (768, 768)\n"
     ]
    },
    {
     "name": "stderr",
     "output_type": "stream",
     "text": [
      "I0607 12:31:00.223477 140294592194432 bert_sct_utils_v2.py:593]   name = module/bert/encoder/layer_1/attention/self/key/kernel:0, shape = (768, 768)\n"
     ]
    },
    {
     "name": "stdout",
     "output_type": "stream",
     "text": [
      "INFO:tensorflow:  name = module/bert/encoder/layer_1/attention/self/key/bias:0, shape = (768,)\n"
     ]
    },
    {
     "name": "stderr",
     "output_type": "stream",
     "text": [
      "I0607 12:31:00.226055 140294592194432 bert_sct_utils_v2.py:593]   name = module/bert/encoder/layer_1/attention/self/key/bias:0, shape = (768,)\n"
     ]
    },
    {
     "name": "stdout",
     "output_type": "stream",
     "text": [
      "INFO:tensorflow:  name = module/bert/encoder/layer_1/attention/self/value/kernel:0, shape = (768, 768)\n"
     ]
    },
    {
     "name": "stderr",
     "output_type": "stream",
     "text": [
      "I0607 12:31:00.228546 140294592194432 bert_sct_utils_v2.py:593]   name = module/bert/encoder/layer_1/attention/self/value/kernel:0, shape = (768, 768)\n"
     ]
    },
    {
     "name": "stdout",
     "output_type": "stream",
     "text": [
      "INFO:tensorflow:  name = module/bert/encoder/layer_1/attention/self/value/bias:0, shape = (768,)\n"
     ]
    },
    {
     "name": "stderr",
     "output_type": "stream",
     "text": [
      "I0607 12:31:00.231118 140294592194432 bert_sct_utils_v2.py:593]   name = module/bert/encoder/layer_1/attention/self/value/bias:0, shape = (768,)\n"
     ]
    },
    {
     "name": "stdout",
     "output_type": "stream",
     "text": [
      "INFO:tensorflow:  name = module/bert/encoder/layer_1/attention/output/dense/kernel:0, shape = (768, 768)\n"
     ]
    },
    {
     "name": "stderr",
     "output_type": "stream",
     "text": [
      "I0607 12:31:00.233648 140294592194432 bert_sct_utils_v2.py:593]   name = module/bert/encoder/layer_1/attention/output/dense/kernel:0, shape = (768, 768)\n"
     ]
    },
    {
     "name": "stdout",
     "output_type": "stream",
     "text": [
      "INFO:tensorflow:  name = module/bert/encoder/layer_1/attention/output/dense/bias:0, shape = (768,)\n"
     ]
    },
    {
     "name": "stderr",
     "output_type": "stream",
     "text": [
      "I0607 12:31:00.236189 140294592194432 bert_sct_utils_v2.py:593]   name = module/bert/encoder/layer_1/attention/output/dense/bias:0, shape = (768,)\n"
     ]
    },
    {
     "name": "stdout",
     "output_type": "stream",
     "text": [
      "INFO:tensorflow:  name = module/bert/encoder/layer_1/attention/output/LayerNorm/beta:0, shape = (768,)\n"
     ]
    },
    {
     "name": "stderr",
     "output_type": "stream",
     "text": [
      "I0607 12:31:00.238700 140294592194432 bert_sct_utils_v2.py:593]   name = module/bert/encoder/layer_1/attention/output/LayerNorm/beta:0, shape = (768,)\n"
     ]
    },
    {
     "name": "stdout",
     "output_type": "stream",
     "text": [
      "INFO:tensorflow:  name = module/bert/encoder/layer_1/attention/output/LayerNorm/gamma:0, shape = (768,)\n"
     ]
    },
    {
     "name": "stderr",
     "output_type": "stream",
     "text": [
      "I0607 12:31:00.241232 140294592194432 bert_sct_utils_v2.py:593]   name = module/bert/encoder/layer_1/attention/output/LayerNorm/gamma:0, shape = (768,)\n"
     ]
    },
    {
     "name": "stdout",
     "output_type": "stream",
     "text": [
      "INFO:tensorflow:  name = module/bert/encoder/layer_1/intermediate/dense/kernel:0, shape = (768, 3072)\n"
     ]
    },
    {
     "name": "stderr",
     "output_type": "stream",
     "text": [
      "I0607 12:31:00.243773 140294592194432 bert_sct_utils_v2.py:593]   name = module/bert/encoder/layer_1/intermediate/dense/kernel:0, shape = (768, 3072)\n"
     ]
    },
    {
     "name": "stdout",
     "output_type": "stream",
     "text": [
      "INFO:tensorflow:  name = module/bert/encoder/layer_1/intermediate/dense/bias:0, shape = (3072,)\n"
     ]
    },
    {
     "name": "stderr",
     "output_type": "stream",
     "text": [
      "I0607 12:31:00.246293 140294592194432 bert_sct_utils_v2.py:593]   name = module/bert/encoder/layer_1/intermediate/dense/bias:0, shape = (3072,)\n"
     ]
    },
    {
     "name": "stdout",
     "output_type": "stream",
     "text": [
      "INFO:tensorflow:  name = module/bert/encoder/layer_1/output/dense/kernel:0, shape = (3072, 768)\n"
     ]
    },
    {
     "name": "stderr",
     "output_type": "stream",
     "text": [
      "I0607 12:31:00.248834 140294592194432 bert_sct_utils_v2.py:593]   name = module/bert/encoder/layer_1/output/dense/kernel:0, shape = (3072, 768)\n"
     ]
    },
    {
     "name": "stdout",
     "output_type": "stream",
     "text": [
      "INFO:tensorflow:  name = module/bert/encoder/layer_1/output/dense/bias:0, shape = (768,)\n"
     ]
    },
    {
     "name": "stderr",
     "output_type": "stream",
     "text": [
      "I0607 12:31:00.251344 140294592194432 bert_sct_utils_v2.py:593]   name = module/bert/encoder/layer_1/output/dense/bias:0, shape = (768,)\n"
     ]
    },
    {
     "name": "stdout",
     "output_type": "stream",
     "text": [
      "INFO:tensorflow:  name = module/bert/encoder/layer_1/output/LayerNorm/beta:0, shape = (768,)\n"
     ]
    },
    {
     "name": "stderr",
     "output_type": "stream",
     "text": [
      "I0607 12:31:00.253922 140294592194432 bert_sct_utils_v2.py:593]   name = module/bert/encoder/layer_1/output/LayerNorm/beta:0, shape = (768,)\n"
     ]
    },
    {
     "name": "stdout",
     "output_type": "stream",
     "text": [
      "INFO:tensorflow:  name = module/bert/encoder/layer_1/output/LayerNorm/gamma:0, shape = (768,)\n"
     ]
    },
    {
     "name": "stderr",
     "output_type": "stream",
     "text": [
      "I0607 12:31:00.256441 140294592194432 bert_sct_utils_v2.py:593]   name = module/bert/encoder/layer_1/output/LayerNorm/gamma:0, shape = (768,)\n"
     ]
    },
    {
     "name": "stdout",
     "output_type": "stream",
     "text": [
      "INFO:tensorflow:  name = module/bert/encoder/layer_2/attention/self/query/kernel:0, shape = (768, 768)\n"
     ]
    },
    {
     "name": "stderr",
     "output_type": "stream",
     "text": [
      "I0607 12:31:00.258987 140294592194432 bert_sct_utils_v2.py:593]   name = module/bert/encoder/layer_2/attention/self/query/kernel:0, shape = (768, 768)\n"
     ]
    },
    {
     "name": "stdout",
     "output_type": "stream",
     "text": [
      "INFO:tensorflow:  name = module/bert/encoder/layer_2/attention/self/query/bias:0, shape = (768,)\n"
     ]
    },
    {
     "name": "stderr",
     "output_type": "stream",
     "text": [
      "I0607 12:31:00.261062 140294592194432 bert_sct_utils_v2.py:593]   name = module/bert/encoder/layer_2/attention/self/query/bias:0, shape = (768,)\n"
     ]
    },
    {
     "name": "stdout",
     "output_type": "stream",
     "text": [
      "INFO:tensorflow:  name = module/bert/encoder/layer_2/attention/self/key/kernel:0, shape = (768, 768)\n"
     ]
    },
    {
     "name": "stderr",
     "output_type": "stream",
     "text": [
      "I0607 12:31:00.262652 140294592194432 bert_sct_utils_v2.py:593]   name = module/bert/encoder/layer_2/attention/self/key/kernel:0, shape = (768, 768)\n"
     ]
    },
    {
     "name": "stdout",
     "output_type": "stream",
     "text": [
      "INFO:tensorflow:  name = module/bert/encoder/layer_2/attention/self/key/bias:0, shape = (768,)\n"
     ]
    },
    {
     "name": "stderr",
     "output_type": "stream",
     "text": [
      "I0607 12:31:00.264959 140294592194432 bert_sct_utils_v2.py:593]   name = module/bert/encoder/layer_2/attention/self/key/bias:0, shape = (768,)\n"
     ]
    },
    {
     "name": "stdout",
     "output_type": "stream",
     "text": [
      "INFO:tensorflow:  name = module/bert/encoder/layer_2/attention/self/value/kernel:0, shape = (768, 768)\n"
     ]
    },
    {
     "name": "stderr",
     "output_type": "stream",
     "text": [
      "I0607 12:31:00.267686 140294592194432 bert_sct_utils_v2.py:593]   name = module/bert/encoder/layer_2/attention/self/value/kernel:0, shape = (768, 768)\n"
     ]
    },
    {
     "name": "stdout",
     "output_type": "stream",
     "text": [
      "INFO:tensorflow:  name = module/bert/encoder/layer_2/attention/self/value/bias:0, shape = (768,)\n"
     ]
    },
    {
     "name": "stderr",
     "output_type": "stream",
     "text": [
      "I0607 12:31:00.270215 140294592194432 bert_sct_utils_v2.py:593]   name = module/bert/encoder/layer_2/attention/self/value/bias:0, shape = (768,)\n"
     ]
    },
    {
     "name": "stdout",
     "output_type": "stream",
     "text": [
      "INFO:tensorflow:  name = module/bert/encoder/layer_2/attention/output/dense/kernel:0, shape = (768, 768)\n"
     ]
    },
    {
     "name": "stderr",
     "output_type": "stream",
     "text": [
      "I0607 12:31:00.272759 140294592194432 bert_sct_utils_v2.py:593]   name = module/bert/encoder/layer_2/attention/output/dense/kernel:0, shape = (768, 768)\n"
     ]
    },
    {
     "name": "stdout",
     "output_type": "stream",
     "text": [
      "INFO:tensorflow:  name = module/bert/encoder/layer_2/attention/output/dense/bias:0, shape = (768,)\n"
     ]
    },
    {
     "name": "stderr",
     "output_type": "stream",
     "text": [
      "I0607 12:31:00.275227 140294592194432 bert_sct_utils_v2.py:593]   name = module/bert/encoder/layer_2/attention/output/dense/bias:0, shape = (768,)\n"
     ]
    },
    {
     "name": "stdout",
     "output_type": "stream",
     "text": [
      "INFO:tensorflow:  name = module/bert/encoder/layer_2/attention/output/LayerNorm/beta:0, shape = (768,)\n"
     ]
    },
    {
     "name": "stderr",
     "output_type": "stream",
     "text": [
      "I0607 12:31:00.277765 140294592194432 bert_sct_utils_v2.py:593]   name = module/bert/encoder/layer_2/attention/output/LayerNorm/beta:0, shape = (768,)\n"
     ]
    },
    {
     "name": "stdout",
     "output_type": "stream",
     "text": [
      "INFO:tensorflow:  name = module/bert/encoder/layer_2/attention/output/LayerNorm/gamma:0, shape = (768,)\n"
     ]
    },
    {
     "name": "stderr",
     "output_type": "stream",
     "text": [
      "I0607 12:31:00.280256 140294592194432 bert_sct_utils_v2.py:593]   name = module/bert/encoder/layer_2/attention/output/LayerNorm/gamma:0, shape = (768,)\n"
     ]
    },
    {
     "name": "stdout",
     "output_type": "stream",
     "text": [
      "INFO:tensorflow:  name = module/bert/encoder/layer_2/intermediate/dense/kernel:0, shape = (768, 3072)\n"
     ]
    },
    {
     "name": "stderr",
     "output_type": "stream",
     "text": [
      "I0607 12:31:00.283279 140294592194432 bert_sct_utils_v2.py:593]   name = module/bert/encoder/layer_2/intermediate/dense/kernel:0, shape = (768, 3072)\n"
     ]
    },
    {
     "name": "stdout",
     "output_type": "stream",
     "text": [
      "INFO:tensorflow:  name = module/bert/encoder/layer_2/intermediate/dense/bias:0, shape = (3072,)\n"
     ]
    },
    {
     "name": "stderr",
     "output_type": "stream",
     "text": [
      "I0607 12:31:00.285854 140294592194432 bert_sct_utils_v2.py:593]   name = module/bert/encoder/layer_2/intermediate/dense/bias:0, shape = (3072,)\n"
     ]
    },
    {
     "name": "stdout",
     "output_type": "stream",
     "text": [
      "INFO:tensorflow:  name = module/bert/encoder/layer_2/output/dense/kernel:0, shape = (3072, 768)\n"
     ]
    },
    {
     "name": "stderr",
     "output_type": "stream",
     "text": [
      "I0607 12:31:00.288342 140294592194432 bert_sct_utils_v2.py:593]   name = module/bert/encoder/layer_2/output/dense/kernel:0, shape = (3072, 768)\n"
     ]
    },
    {
     "name": "stdout",
     "output_type": "stream",
     "text": [
      "INFO:tensorflow:  name = module/bert/encoder/layer_2/output/dense/bias:0, shape = (768,)\n"
     ]
    },
    {
     "name": "stderr",
     "output_type": "stream",
     "text": [
      "I0607 12:31:00.290911 140294592194432 bert_sct_utils_v2.py:593]   name = module/bert/encoder/layer_2/output/dense/bias:0, shape = (768,)\n"
     ]
    },
    {
     "name": "stdout",
     "output_type": "stream",
     "text": [
      "INFO:tensorflow:  name = module/bert/encoder/layer_2/output/LayerNorm/beta:0, shape = (768,)\n"
     ]
    },
    {
     "name": "stderr",
     "output_type": "stream",
     "text": [
      "I0607 12:31:00.293470 140294592194432 bert_sct_utils_v2.py:593]   name = module/bert/encoder/layer_2/output/LayerNorm/beta:0, shape = (768,)\n"
     ]
    },
    {
     "name": "stdout",
     "output_type": "stream",
     "text": [
      "INFO:tensorflow:  name = module/bert/encoder/layer_2/output/LayerNorm/gamma:0, shape = (768,)\n"
     ]
    },
    {
     "name": "stderr",
     "output_type": "stream",
     "text": [
      "I0607 12:31:00.296118 140294592194432 bert_sct_utils_v2.py:593]   name = module/bert/encoder/layer_2/output/LayerNorm/gamma:0, shape = (768,)\n"
     ]
    },
    {
     "name": "stdout",
     "output_type": "stream",
     "text": [
      "INFO:tensorflow:  name = module/bert/encoder/layer_3/attention/self/query/kernel:0, shape = (768, 768)\n"
     ]
    },
    {
     "name": "stderr",
     "output_type": "stream",
     "text": [
      "I0607 12:31:00.298937 140294592194432 bert_sct_utils_v2.py:593]   name = module/bert/encoder/layer_3/attention/self/query/kernel:0, shape = (768, 768)\n"
     ]
    },
    {
     "name": "stdout",
     "output_type": "stream",
     "text": [
      "INFO:tensorflow:  name = module/bert/encoder/layer_3/attention/self/query/bias:0, shape = (768,)\n"
     ]
    },
    {
     "name": "stderr",
     "output_type": "stream",
     "text": [
      "I0607 12:31:00.301487 140294592194432 bert_sct_utils_v2.py:593]   name = module/bert/encoder/layer_3/attention/self/query/bias:0, shape = (768,)\n"
     ]
    },
    {
     "name": "stdout",
     "output_type": "stream",
     "text": [
      "INFO:tensorflow:  name = module/bert/encoder/layer_3/attention/self/key/kernel:0, shape = (768, 768)\n"
     ]
    },
    {
     "name": "stderr",
     "output_type": "stream",
     "text": [
      "I0607 12:31:00.304040 140294592194432 bert_sct_utils_v2.py:593]   name = module/bert/encoder/layer_3/attention/self/key/kernel:0, shape = (768, 768)\n"
     ]
    },
    {
     "name": "stdout",
     "output_type": "stream",
     "text": [
      "INFO:tensorflow:  name = module/bert/encoder/layer_3/attention/self/key/bias:0, shape = (768,)\n"
     ]
    },
    {
     "name": "stderr",
     "output_type": "stream",
     "text": [
      "I0607 12:31:00.306557 140294592194432 bert_sct_utils_v2.py:593]   name = module/bert/encoder/layer_3/attention/self/key/bias:0, shape = (768,)\n"
     ]
    },
    {
     "name": "stdout",
     "output_type": "stream",
     "text": [
      "INFO:tensorflow:  name = module/bert/encoder/layer_3/attention/self/value/kernel:0, shape = (768, 768)\n"
     ]
    },
    {
     "name": "stderr",
     "output_type": "stream",
     "text": [
      "I0607 12:31:00.309087 140294592194432 bert_sct_utils_v2.py:593]   name = module/bert/encoder/layer_3/attention/self/value/kernel:0, shape = (768, 768)\n"
     ]
    },
    {
     "name": "stdout",
     "output_type": "stream",
     "text": [
      "INFO:tensorflow:  name = module/bert/encoder/layer_3/attention/self/value/bias:0, shape = (768,)\n"
     ]
    },
    {
     "name": "stderr",
     "output_type": "stream",
     "text": [
      "I0607 12:31:00.311602 140294592194432 bert_sct_utils_v2.py:593]   name = module/bert/encoder/layer_3/attention/self/value/bias:0, shape = (768,)\n"
     ]
    },
    {
     "name": "stdout",
     "output_type": "stream",
     "text": [
      "INFO:tensorflow:  name = module/bert/encoder/layer_3/attention/output/dense/kernel:0, shape = (768, 768)\n"
     ]
    },
    {
     "name": "stderr",
     "output_type": "stream",
     "text": [
      "I0607 12:31:00.314104 140294592194432 bert_sct_utils_v2.py:593]   name = module/bert/encoder/layer_3/attention/output/dense/kernel:0, shape = (768, 768)\n"
     ]
    },
    {
     "name": "stdout",
     "output_type": "stream",
     "text": [
      "INFO:tensorflow:  name = module/bert/encoder/layer_3/attention/output/dense/bias:0, shape = (768,)\n"
     ]
    },
    {
     "name": "stderr",
     "output_type": "stream",
     "text": [
      "I0607 12:31:00.322269 140294592194432 bert_sct_utils_v2.py:593]   name = module/bert/encoder/layer_3/attention/output/dense/bias:0, shape = (768,)\n"
     ]
    },
    {
     "name": "stdout",
     "output_type": "stream",
     "text": [
      "INFO:tensorflow:  name = module/bert/encoder/layer_3/attention/output/LayerNorm/beta:0, shape = (768,)\n"
     ]
    },
    {
     "name": "stderr",
     "output_type": "stream",
     "text": [
      "I0607 12:31:00.325134 140294592194432 bert_sct_utils_v2.py:593]   name = module/bert/encoder/layer_3/attention/output/LayerNorm/beta:0, shape = (768,)\n"
     ]
    },
    {
     "name": "stdout",
     "output_type": "stream",
     "text": [
      "INFO:tensorflow:  name = module/bert/encoder/layer_3/attention/output/LayerNorm/gamma:0, shape = (768,)\n"
     ]
    },
    {
     "name": "stderr",
     "output_type": "stream",
     "text": [
      "I0607 12:31:00.327640 140294592194432 bert_sct_utils_v2.py:593]   name = module/bert/encoder/layer_3/attention/output/LayerNorm/gamma:0, shape = (768,)\n"
     ]
    },
    {
     "name": "stdout",
     "output_type": "stream",
     "text": [
      "INFO:tensorflow:  name = module/bert/encoder/layer_3/intermediate/dense/kernel:0, shape = (768, 3072)\n"
     ]
    },
    {
     "name": "stderr",
     "output_type": "stream",
     "text": [
      "I0607 12:31:00.330157 140294592194432 bert_sct_utils_v2.py:593]   name = module/bert/encoder/layer_3/intermediate/dense/kernel:0, shape = (768, 3072)\n"
     ]
    },
    {
     "name": "stdout",
     "output_type": "stream",
     "text": [
      "INFO:tensorflow:  name = module/bert/encoder/layer_3/intermediate/dense/bias:0, shape = (3072,)\n"
     ]
    },
    {
     "name": "stderr",
     "output_type": "stream",
     "text": [
      "I0607 12:31:00.332700 140294592194432 bert_sct_utils_v2.py:593]   name = module/bert/encoder/layer_3/intermediate/dense/bias:0, shape = (3072,)\n"
     ]
    },
    {
     "name": "stdout",
     "output_type": "stream",
     "text": [
      "INFO:tensorflow:  name = module/bert/encoder/layer_3/output/dense/kernel:0, shape = (3072, 768)\n"
     ]
    },
    {
     "name": "stderr",
     "output_type": "stream",
     "text": [
      "I0607 12:31:00.335194 140294592194432 bert_sct_utils_v2.py:593]   name = module/bert/encoder/layer_3/output/dense/kernel:0, shape = (3072, 768)\n"
     ]
    },
    {
     "name": "stdout",
     "output_type": "stream",
     "text": [
      "INFO:tensorflow:  name = module/bert/encoder/layer_3/output/dense/bias:0, shape = (768,)\n"
     ]
    },
    {
     "name": "stderr",
     "output_type": "stream",
     "text": [
      "I0607 12:31:00.337759 140294592194432 bert_sct_utils_v2.py:593]   name = module/bert/encoder/layer_3/output/dense/bias:0, shape = (768,)\n"
     ]
    },
    {
     "name": "stdout",
     "output_type": "stream",
     "text": [
      "INFO:tensorflow:  name = module/bert/encoder/layer_3/output/LayerNorm/beta:0, shape = (768,)\n"
     ]
    },
    {
     "name": "stderr",
     "output_type": "stream",
     "text": [
      "I0607 12:31:00.340290 140294592194432 bert_sct_utils_v2.py:593]   name = module/bert/encoder/layer_3/output/LayerNorm/beta:0, shape = (768,)\n"
     ]
    },
    {
     "name": "stdout",
     "output_type": "stream",
     "text": [
      "INFO:tensorflow:  name = module/bert/encoder/layer_3/output/LayerNorm/gamma:0, shape = (768,)\n"
     ]
    },
    {
     "name": "stderr",
     "output_type": "stream",
     "text": [
      "I0607 12:31:00.342778 140294592194432 bert_sct_utils_v2.py:593]   name = module/bert/encoder/layer_3/output/LayerNorm/gamma:0, shape = (768,)\n"
     ]
    },
    {
     "name": "stdout",
     "output_type": "stream",
     "text": [
      "INFO:tensorflow:  name = module/bert/encoder/layer_4/attention/self/query/kernel:0, shape = (768, 768)\n"
     ]
    },
    {
     "name": "stderr",
     "output_type": "stream",
     "text": [
      "I0607 12:31:00.345284 140294592194432 bert_sct_utils_v2.py:593]   name = module/bert/encoder/layer_4/attention/self/query/kernel:0, shape = (768, 768)\n"
     ]
    },
    {
     "name": "stdout",
     "output_type": "stream",
     "text": [
      "INFO:tensorflow:  name = module/bert/encoder/layer_4/attention/self/query/bias:0, shape = (768,)\n"
     ]
    },
    {
     "name": "stderr",
     "output_type": "stream",
     "text": [
      "I0607 12:31:00.347887 140294592194432 bert_sct_utils_v2.py:593]   name = module/bert/encoder/layer_4/attention/self/query/bias:0, shape = (768,)\n"
     ]
    },
    {
     "name": "stdout",
     "output_type": "stream",
     "text": [
      "INFO:tensorflow:  name = module/bert/encoder/layer_4/attention/self/key/kernel:0, shape = (768, 768)\n"
     ]
    },
    {
     "name": "stderr",
     "output_type": "stream",
     "text": [
      "I0607 12:31:00.350369 140294592194432 bert_sct_utils_v2.py:593]   name = module/bert/encoder/layer_4/attention/self/key/kernel:0, shape = (768, 768)\n"
     ]
    },
    {
     "name": "stdout",
     "output_type": "stream",
     "text": [
      "INFO:tensorflow:  name = module/bert/encoder/layer_4/attention/self/key/bias:0, shape = (768,)\n"
     ]
    },
    {
     "name": "stderr",
     "output_type": "stream",
     "text": [
      "I0607 12:31:00.352909 140294592194432 bert_sct_utils_v2.py:593]   name = module/bert/encoder/layer_4/attention/self/key/bias:0, shape = (768,)\n"
     ]
    },
    {
     "name": "stdout",
     "output_type": "stream",
     "text": [
      "INFO:tensorflow:  name = module/bert/encoder/layer_4/attention/self/value/kernel:0, shape = (768, 768)\n"
     ]
    },
    {
     "name": "stderr",
     "output_type": "stream",
     "text": [
      "I0607 12:31:00.355407 140294592194432 bert_sct_utils_v2.py:593]   name = module/bert/encoder/layer_4/attention/self/value/kernel:0, shape = (768, 768)\n"
     ]
    },
    {
     "name": "stdout",
     "output_type": "stream",
     "text": [
      "INFO:tensorflow:  name = module/bert/encoder/layer_4/attention/self/value/bias:0, shape = (768,)\n"
     ]
    },
    {
     "name": "stderr",
     "output_type": "stream",
     "text": [
      "I0607 12:31:00.357926 140294592194432 bert_sct_utils_v2.py:593]   name = module/bert/encoder/layer_4/attention/self/value/bias:0, shape = (768,)\n"
     ]
    },
    {
     "name": "stdout",
     "output_type": "stream",
     "text": [
      "INFO:tensorflow:  name = module/bert/encoder/layer_4/attention/output/dense/kernel:0, shape = (768, 768)\n"
     ]
    },
    {
     "name": "stderr",
     "output_type": "stream",
     "text": [
      "I0607 12:31:00.360425 140294592194432 bert_sct_utils_v2.py:593]   name = module/bert/encoder/layer_4/attention/output/dense/kernel:0, shape = (768, 768)\n"
     ]
    },
    {
     "name": "stdout",
     "output_type": "stream",
     "text": [
      "INFO:tensorflow:  name = module/bert/encoder/layer_4/attention/output/dense/bias:0, shape = (768,)\n"
     ]
    },
    {
     "name": "stderr",
     "output_type": "stream",
     "text": [
      "I0607 12:31:00.363011 140294592194432 bert_sct_utils_v2.py:593]   name = module/bert/encoder/layer_4/attention/output/dense/bias:0, shape = (768,)\n"
     ]
    },
    {
     "name": "stdout",
     "output_type": "stream",
     "text": [
      "INFO:tensorflow:  name = module/bert/encoder/layer_4/attention/output/LayerNorm/beta:0, shape = (768,)\n"
     ]
    },
    {
     "name": "stderr",
     "output_type": "stream",
     "text": [
      "I0607 12:31:00.365790 140294592194432 bert_sct_utils_v2.py:593]   name = module/bert/encoder/layer_4/attention/output/LayerNorm/beta:0, shape = (768,)\n"
     ]
    },
    {
     "name": "stdout",
     "output_type": "stream",
     "text": [
      "INFO:tensorflow:  name = module/bert/encoder/layer_4/attention/output/LayerNorm/gamma:0, shape = (768,)\n"
     ]
    },
    {
     "name": "stderr",
     "output_type": "stream",
     "text": [
      "I0607 12:31:00.368177 140294592194432 bert_sct_utils_v2.py:593]   name = module/bert/encoder/layer_4/attention/output/LayerNorm/gamma:0, shape = (768,)\n"
     ]
    },
    {
     "name": "stdout",
     "output_type": "stream",
     "text": [
      "INFO:tensorflow:  name = module/bert/encoder/layer_4/intermediate/dense/kernel:0, shape = (768, 3072)\n"
     ]
    },
    {
     "name": "stderr",
     "output_type": "stream",
     "text": [
      "I0607 12:31:00.370664 140294592194432 bert_sct_utils_v2.py:593]   name = module/bert/encoder/layer_4/intermediate/dense/kernel:0, shape = (768, 3072)\n"
     ]
    },
    {
     "name": "stdout",
     "output_type": "stream",
     "text": [
      "INFO:tensorflow:  name = module/bert/encoder/layer_4/intermediate/dense/bias:0, shape = (3072,)\n"
     ]
    },
    {
     "name": "stderr",
     "output_type": "stream",
     "text": [
      "I0607 12:31:00.373158 140294592194432 bert_sct_utils_v2.py:593]   name = module/bert/encoder/layer_4/intermediate/dense/bias:0, shape = (3072,)\n"
     ]
    },
    {
     "name": "stdout",
     "output_type": "stream",
     "text": [
      "INFO:tensorflow:  name = module/bert/encoder/layer_4/output/dense/kernel:0, shape = (3072, 768)\n"
     ]
    },
    {
     "name": "stderr",
     "output_type": "stream",
     "text": [
      "I0607 12:31:00.375868 140294592194432 bert_sct_utils_v2.py:593]   name = module/bert/encoder/layer_4/output/dense/kernel:0, shape = (3072, 768)\n"
     ]
    },
    {
     "name": "stdout",
     "output_type": "stream",
     "text": [
      "INFO:tensorflow:  name = module/bert/encoder/layer_4/output/dense/bias:0, shape = (768,)\n"
     ]
    },
    {
     "name": "stderr",
     "output_type": "stream",
     "text": [
      "I0607 12:31:00.378425 140294592194432 bert_sct_utils_v2.py:593]   name = module/bert/encoder/layer_4/output/dense/bias:0, shape = (768,)\n"
     ]
    },
    {
     "name": "stdout",
     "output_type": "stream",
     "text": [
      "INFO:tensorflow:  name = module/bert/encoder/layer_4/output/LayerNorm/beta:0, shape = (768,)\n"
     ]
    },
    {
     "name": "stderr",
     "output_type": "stream",
     "text": [
      "I0607 12:31:00.380741 140294592194432 bert_sct_utils_v2.py:593]   name = module/bert/encoder/layer_4/output/LayerNorm/beta:0, shape = (768,)\n"
     ]
    },
    {
     "name": "stdout",
     "output_type": "stream",
     "text": [
      "INFO:tensorflow:  name = module/bert/encoder/layer_4/output/LayerNorm/gamma:0, shape = (768,)\n"
     ]
    },
    {
     "name": "stderr",
     "output_type": "stream",
     "text": [
      "I0607 12:31:00.383239 140294592194432 bert_sct_utils_v2.py:593]   name = module/bert/encoder/layer_4/output/LayerNorm/gamma:0, shape = (768,)\n"
     ]
    },
    {
     "name": "stdout",
     "output_type": "stream",
     "text": [
      "INFO:tensorflow:  name = module/bert/encoder/layer_5/attention/self/query/kernel:0, shape = (768, 768)\n"
     ]
    },
    {
     "name": "stderr",
     "output_type": "stream",
     "text": [
      "I0607 12:31:00.385765 140294592194432 bert_sct_utils_v2.py:593]   name = module/bert/encoder/layer_5/attention/self/query/kernel:0, shape = (768, 768)\n"
     ]
    },
    {
     "name": "stdout",
     "output_type": "stream",
     "text": [
      "INFO:tensorflow:  name = module/bert/encoder/layer_5/attention/self/query/bias:0, shape = (768,)\n"
     ]
    },
    {
     "name": "stderr",
     "output_type": "stream",
     "text": [
      "I0607 12:31:00.388291 140294592194432 bert_sct_utils_v2.py:593]   name = module/bert/encoder/layer_5/attention/self/query/bias:0, shape = (768,)\n"
     ]
    },
    {
     "name": "stdout",
     "output_type": "stream",
     "text": [
      "INFO:tensorflow:  name = module/bert/encoder/layer_5/attention/self/key/kernel:0, shape = (768, 768)\n"
     ]
    },
    {
     "name": "stderr",
     "output_type": "stream",
     "text": [
      "I0607 12:31:00.391098 140294592194432 bert_sct_utils_v2.py:593]   name = module/bert/encoder/layer_5/attention/self/key/kernel:0, shape = (768, 768)\n"
     ]
    },
    {
     "name": "stdout",
     "output_type": "stream",
     "text": [
      "INFO:tensorflow:  name = module/bert/encoder/layer_5/attention/self/key/bias:0, shape = (768,)\n"
     ]
    },
    {
     "name": "stderr",
     "output_type": "stream",
     "text": [
      "I0607 12:31:00.393576 140294592194432 bert_sct_utils_v2.py:593]   name = module/bert/encoder/layer_5/attention/self/key/bias:0, shape = (768,)\n"
     ]
    },
    {
     "name": "stdout",
     "output_type": "stream",
     "text": [
      "INFO:tensorflow:  name = module/bert/encoder/layer_5/attention/self/value/kernel:0, shape = (768, 768)\n"
     ]
    },
    {
     "name": "stderr",
     "output_type": "stream",
     "text": [
      "I0607 12:31:00.396495 140294592194432 bert_sct_utils_v2.py:593]   name = module/bert/encoder/layer_5/attention/self/value/kernel:0, shape = (768, 768)\n"
     ]
    },
    {
     "name": "stdout",
     "output_type": "stream",
     "text": [
      "INFO:tensorflow:  name = module/bert/encoder/layer_5/attention/self/value/bias:0, shape = (768,)\n"
     ]
    },
    {
     "name": "stderr",
     "output_type": "stream",
     "text": [
      "I0607 12:31:00.399010 140294592194432 bert_sct_utils_v2.py:593]   name = module/bert/encoder/layer_5/attention/self/value/bias:0, shape = (768,)\n"
     ]
    },
    {
     "name": "stdout",
     "output_type": "stream",
     "text": [
      "INFO:tensorflow:  name = module/bert/encoder/layer_5/attention/output/dense/kernel:0, shape = (768, 768)\n"
     ]
    },
    {
     "name": "stderr",
     "output_type": "stream",
     "text": [
      "I0607 12:31:00.401518 140294592194432 bert_sct_utils_v2.py:593]   name = module/bert/encoder/layer_5/attention/output/dense/kernel:0, shape = (768, 768)\n"
     ]
    },
    {
     "name": "stdout",
     "output_type": "stream",
     "text": [
      "INFO:tensorflow:  name = module/bert/encoder/layer_5/attention/output/dense/bias:0, shape = (768,)\n"
     ]
    },
    {
     "name": "stderr",
     "output_type": "stream",
     "text": [
      "I0607 12:31:00.403060 140294592194432 bert_sct_utils_v2.py:593]   name = module/bert/encoder/layer_5/attention/output/dense/bias:0, shape = (768,)\n"
     ]
    },
    {
     "name": "stdout",
     "output_type": "stream",
     "text": [
      "INFO:tensorflow:  name = module/bert/encoder/layer_5/attention/output/LayerNorm/beta:0, shape = (768,)\n"
     ]
    },
    {
     "name": "stderr",
     "output_type": "stream",
     "text": [
      "I0607 12:31:00.405487 140294592194432 bert_sct_utils_v2.py:593]   name = module/bert/encoder/layer_5/attention/output/LayerNorm/beta:0, shape = (768,)\n"
     ]
    },
    {
     "name": "stdout",
     "output_type": "stream",
     "text": [
      "INFO:tensorflow:  name = module/bert/encoder/layer_5/attention/output/LayerNorm/gamma:0, shape = (768,)\n"
     ]
    },
    {
     "name": "stderr",
     "output_type": "stream",
     "text": [
      "I0607 12:31:00.407986 140294592194432 bert_sct_utils_v2.py:593]   name = module/bert/encoder/layer_5/attention/output/LayerNorm/gamma:0, shape = (768,)\n"
     ]
    },
    {
     "name": "stdout",
     "output_type": "stream",
     "text": [
      "INFO:tensorflow:  name = module/bert/encoder/layer_5/intermediate/dense/kernel:0, shape = (768, 3072)\n"
     ]
    },
    {
     "name": "stderr",
     "output_type": "stream",
     "text": [
      "I0607 12:31:00.410400 140294592194432 bert_sct_utils_v2.py:593]   name = module/bert/encoder/layer_5/intermediate/dense/kernel:0, shape = (768, 3072)\n"
     ]
    },
    {
     "name": "stdout",
     "output_type": "stream",
     "text": [
      "INFO:tensorflow:  name = module/bert/encoder/layer_5/intermediate/dense/bias:0, shape = (3072,)\n"
     ]
    },
    {
     "name": "stderr",
     "output_type": "stream",
     "text": [
      "I0607 12:31:00.413028 140294592194432 bert_sct_utils_v2.py:593]   name = module/bert/encoder/layer_5/intermediate/dense/bias:0, shape = (3072,)\n"
     ]
    },
    {
     "name": "stdout",
     "output_type": "stream",
     "text": [
      "INFO:tensorflow:  name = module/bert/encoder/layer_5/output/dense/kernel:0, shape = (3072, 768)\n"
     ]
    },
    {
     "name": "stderr",
     "output_type": "stream",
     "text": [
      "I0607 12:31:00.415473 140294592194432 bert_sct_utils_v2.py:593]   name = module/bert/encoder/layer_5/output/dense/kernel:0, shape = (3072, 768)\n"
     ]
    },
    {
     "name": "stdout",
     "output_type": "stream",
     "text": [
      "INFO:tensorflow:  name = module/bert/encoder/layer_5/output/dense/bias:0, shape = (768,)\n"
     ]
    },
    {
     "name": "stderr",
     "output_type": "stream",
     "text": [
      "I0607 12:31:00.417950 140294592194432 bert_sct_utils_v2.py:593]   name = module/bert/encoder/layer_5/output/dense/bias:0, shape = (768,)\n"
     ]
    },
    {
     "name": "stdout",
     "output_type": "stream",
     "text": [
      "INFO:tensorflow:  name = module/bert/encoder/layer_5/output/LayerNorm/beta:0, shape = (768,)\n"
     ]
    },
    {
     "name": "stderr",
     "output_type": "stream",
     "text": [
      "I0607 12:31:00.420408 140294592194432 bert_sct_utils_v2.py:593]   name = module/bert/encoder/layer_5/output/LayerNorm/beta:0, shape = (768,)\n"
     ]
    },
    {
     "name": "stdout",
     "output_type": "stream",
     "text": [
      "INFO:tensorflow:  name = module/bert/encoder/layer_5/output/LayerNorm/gamma:0, shape = (768,)\n"
     ]
    },
    {
     "name": "stderr",
     "output_type": "stream",
     "text": [
      "I0607 12:31:00.422950 140294592194432 bert_sct_utils_v2.py:593]   name = module/bert/encoder/layer_5/output/LayerNorm/gamma:0, shape = (768,)\n"
     ]
    },
    {
     "name": "stdout",
     "output_type": "stream",
     "text": [
      "INFO:tensorflow:  name = module/bert/encoder/layer_6/attention/self/query/kernel:0, shape = (768, 768)\n"
     ]
    },
    {
     "name": "stderr",
     "output_type": "stream",
     "text": [
      "I0607 12:31:00.425380 140294592194432 bert_sct_utils_v2.py:593]   name = module/bert/encoder/layer_6/attention/self/query/kernel:0, shape = (768, 768)\n"
     ]
    },
    {
     "name": "stdout",
     "output_type": "stream",
     "text": [
      "INFO:tensorflow:  name = module/bert/encoder/layer_6/attention/self/query/bias:0, shape = (768,)\n"
     ]
    },
    {
     "name": "stderr",
     "output_type": "stream",
     "text": [
      "I0607 12:31:00.427915 140294592194432 bert_sct_utils_v2.py:593]   name = module/bert/encoder/layer_6/attention/self/query/bias:0, shape = (768,)\n"
     ]
    },
    {
     "name": "stdout",
     "output_type": "stream",
     "text": [
      "INFO:tensorflow:  name = module/bert/encoder/layer_6/attention/self/key/kernel:0, shape = (768, 768)\n"
     ]
    },
    {
     "name": "stderr",
     "output_type": "stream",
     "text": [
      "I0607 12:31:00.430480 140294592194432 bert_sct_utils_v2.py:593]   name = module/bert/encoder/layer_6/attention/self/key/kernel:0, shape = (768, 768)\n"
     ]
    },
    {
     "name": "stdout",
     "output_type": "stream",
     "text": [
      "INFO:tensorflow:  name = module/bert/encoder/layer_6/attention/self/key/bias:0, shape = (768,)\n"
     ]
    },
    {
     "name": "stderr",
     "output_type": "stream",
     "text": [
      "I0607 12:31:00.432972 140294592194432 bert_sct_utils_v2.py:593]   name = module/bert/encoder/layer_6/attention/self/key/bias:0, shape = (768,)\n"
     ]
    },
    {
     "name": "stdout",
     "output_type": "stream",
     "text": [
      "INFO:tensorflow:  name = module/bert/encoder/layer_6/attention/self/value/kernel:0, shape = (768, 768)\n"
     ]
    },
    {
     "name": "stderr",
     "output_type": "stream",
     "text": [
      "I0607 12:31:00.435405 140294592194432 bert_sct_utils_v2.py:593]   name = module/bert/encoder/layer_6/attention/self/value/kernel:0, shape = (768, 768)\n"
     ]
    },
    {
     "name": "stdout",
     "output_type": "stream",
     "text": [
      "INFO:tensorflow:  name = module/bert/encoder/layer_6/attention/self/value/bias:0, shape = (768,)\n"
     ]
    },
    {
     "name": "stderr",
     "output_type": "stream",
     "text": [
      "I0607 12:31:00.438102 140294592194432 bert_sct_utils_v2.py:593]   name = module/bert/encoder/layer_6/attention/self/value/bias:0, shape = (768,)\n"
     ]
    },
    {
     "name": "stdout",
     "output_type": "stream",
     "text": [
      "INFO:tensorflow:  name = module/bert/encoder/layer_6/attention/output/dense/kernel:0, shape = (768, 768)\n"
     ]
    },
    {
     "name": "stderr",
     "output_type": "stream",
     "text": [
      "I0607 12:31:00.440563 140294592194432 bert_sct_utils_v2.py:593]   name = module/bert/encoder/layer_6/attention/output/dense/kernel:0, shape = (768, 768)\n"
     ]
    },
    {
     "name": "stdout",
     "output_type": "stream",
     "text": [
      "INFO:tensorflow:  name = module/bert/encoder/layer_6/attention/output/dense/bias:0, shape = (768,)\n"
     ]
    },
    {
     "name": "stderr",
     "output_type": "stream",
     "text": [
      "I0607 12:31:00.443080 140294592194432 bert_sct_utils_v2.py:593]   name = module/bert/encoder/layer_6/attention/output/dense/bias:0, shape = (768,)\n"
     ]
    },
    {
     "name": "stdout",
     "output_type": "stream",
     "text": [
      "INFO:tensorflow:  name = module/bert/encoder/layer_6/attention/output/LayerNorm/beta:0, shape = (768,)\n"
     ]
    },
    {
     "name": "stderr",
     "output_type": "stream",
     "text": [
      "I0607 12:31:00.445540 140294592194432 bert_sct_utils_v2.py:593]   name = module/bert/encoder/layer_6/attention/output/LayerNorm/beta:0, shape = (768,)\n"
     ]
    },
    {
     "name": "stdout",
     "output_type": "stream",
     "text": [
      "INFO:tensorflow:  name = module/bert/encoder/layer_6/attention/output/LayerNorm/gamma:0, shape = (768,)\n"
     ]
    },
    {
     "name": "stderr",
     "output_type": "stream",
     "text": [
      "I0607 12:31:00.448065 140294592194432 bert_sct_utils_v2.py:593]   name = module/bert/encoder/layer_6/attention/output/LayerNorm/gamma:0, shape = (768,)\n"
     ]
    },
    {
     "name": "stdout",
     "output_type": "stream",
     "text": [
      "INFO:tensorflow:  name = module/bert/encoder/layer_6/intermediate/dense/kernel:0, shape = (768, 3072)\n"
     ]
    },
    {
     "name": "stderr",
     "output_type": "stream",
     "text": [
      "I0607 12:31:00.450553 140294592194432 bert_sct_utils_v2.py:593]   name = module/bert/encoder/layer_6/intermediate/dense/kernel:0, shape = (768, 3072)\n"
     ]
    },
    {
     "name": "stdout",
     "output_type": "stream",
     "text": [
      "INFO:tensorflow:  name = module/bert/encoder/layer_6/intermediate/dense/bias:0, shape = (3072,)\n"
     ]
    },
    {
     "name": "stderr",
     "output_type": "stream",
     "text": [
      "I0607 12:31:00.453037 140294592194432 bert_sct_utils_v2.py:593]   name = module/bert/encoder/layer_6/intermediate/dense/bias:0, shape = (3072,)\n"
     ]
    },
    {
     "name": "stdout",
     "output_type": "stream",
     "text": [
      "INFO:tensorflow:  name = module/bert/encoder/layer_6/output/dense/kernel:0, shape = (3072, 768)\n"
     ]
    },
    {
     "name": "stderr",
     "output_type": "stream",
     "text": [
      "I0607 12:31:00.455475 140294592194432 bert_sct_utils_v2.py:593]   name = module/bert/encoder/layer_6/output/dense/kernel:0, shape = (3072, 768)\n"
     ]
    },
    {
     "name": "stdout",
     "output_type": "stream",
     "text": [
      "INFO:tensorflow:  name = module/bert/encoder/layer_6/output/dense/bias:0, shape = (768,)\n"
     ]
    },
    {
     "name": "stderr",
     "output_type": "stream",
     "text": [
      "I0607 12:31:00.457996 140294592194432 bert_sct_utils_v2.py:593]   name = module/bert/encoder/layer_6/output/dense/bias:0, shape = (768,)\n"
     ]
    },
    {
     "name": "stdout",
     "output_type": "stream",
     "text": [
      "INFO:tensorflow:  name = module/bert/encoder/layer_6/output/LayerNorm/beta:0, shape = (768,)\n"
     ]
    },
    {
     "name": "stderr",
     "output_type": "stream",
     "text": [
      "I0607 12:31:00.460943 140294592194432 bert_sct_utils_v2.py:593]   name = module/bert/encoder/layer_6/output/LayerNorm/beta:0, shape = (768,)\n"
     ]
    },
    {
     "name": "stdout",
     "output_type": "stream",
     "text": [
      "INFO:tensorflow:  name = module/bert/encoder/layer_6/output/LayerNorm/gamma:0, shape = (768,)\n"
     ]
    },
    {
     "name": "stderr",
     "output_type": "stream",
     "text": [
      "I0607 12:31:00.463384 140294592194432 bert_sct_utils_v2.py:593]   name = module/bert/encoder/layer_6/output/LayerNorm/gamma:0, shape = (768,)\n"
     ]
    },
    {
     "name": "stdout",
     "output_type": "stream",
     "text": [
      "INFO:tensorflow:  name = module/bert/encoder/layer_7/attention/self/query/kernel:0, shape = (768, 768)\n"
     ]
    },
    {
     "name": "stderr",
     "output_type": "stream",
     "text": [
      "I0607 12:31:00.466295 140294592194432 bert_sct_utils_v2.py:593]   name = module/bert/encoder/layer_7/attention/self/query/kernel:0, shape = (768, 768)\n"
     ]
    },
    {
     "name": "stdout",
     "output_type": "stream",
     "text": [
      "INFO:tensorflow:  name = module/bert/encoder/layer_7/attention/self/query/bias:0, shape = (768,)\n"
     ]
    },
    {
     "name": "stderr",
     "output_type": "stream",
     "text": [
      "I0607 12:31:00.468722 140294592194432 bert_sct_utils_v2.py:593]   name = module/bert/encoder/layer_7/attention/self/query/bias:0, shape = (768,)\n"
     ]
    },
    {
     "name": "stdout",
     "output_type": "stream",
     "text": [
      "INFO:tensorflow:  name = module/bert/encoder/layer_7/attention/self/key/kernel:0, shape = (768, 768)\n"
     ]
    },
    {
     "name": "stderr",
     "output_type": "stream",
     "text": [
      "I0607 12:31:00.471930 140294592194432 bert_sct_utils_v2.py:593]   name = module/bert/encoder/layer_7/attention/self/key/kernel:0, shape = (768, 768)\n"
     ]
    },
    {
     "name": "stdout",
     "output_type": "stream",
     "text": [
      "INFO:tensorflow:  name = module/bert/encoder/layer_7/attention/self/key/bias:0, shape = (768,)\n"
     ]
    },
    {
     "name": "stderr",
     "output_type": "stream",
     "text": [
      "I0607 12:31:00.474337 140294592194432 bert_sct_utils_v2.py:593]   name = module/bert/encoder/layer_7/attention/self/key/bias:0, shape = (768,)\n"
     ]
    },
    {
     "name": "stdout",
     "output_type": "stream",
     "text": [
      "INFO:tensorflow:  name = module/bert/encoder/layer_7/attention/self/value/kernel:0, shape = (768, 768)\n"
     ]
    },
    {
     "name": "stderr",
     "output_type": "stream",
     "text": [
      "I0607 12:31:00.477266 140294592194432 bert_sct_utils_v2.py:593]   name = module/bert/encoder/layer_7/attention/self/value/kernel:0, shape = (768, 768)\n"
     ]
    },
    {
     "name": "stdout",
     "output_type": "stream",
     "text": [
      "INFO:tensorflow:  name = module/bert/encoder/layer_7/attention/self/value/bias:0, shape = (768,)\n"
     ]
    },
    {
     "name": "stderr",
     "output_type": "stream",
     "text": [
      "I0607 12:31:00.479704 140294592194432 bert_sct_utils_v2.py:593]   name = module/bert/encoder/layer_7/attention/self/value/bias:0, shape = (768,)\n"
     ]
    },
    {
     "name": "stdout",
     "output_type": "stream",
     "text": [
      "INFO:tensorflow:  name = module/bert/encoder/layer_7/attention/output/dense/kernel:0, shape = (768, 768)\n"
     ]
    },
    {
     "name": "stderr",
     "output_type": "stream",
     "text": [
      "I0607 12:31:00.482157 140294592194432 bert_sct_utils_v2.py:593]   name = module/bert/encoder/layer_7/attention/output/dense/kernel:0, shape = (768, 768)\n"
     ]
    },
    {
     "name": "stdout",
     "output_type": "stream",
     "text": [
      "INFO:tensorflow:  name = module/bert/encoder/layer_7/attention/output/dense/bias:0, shape = (768,)\n"
     ]
    },
    {
     "name": "stderr",
     "output_type": "stream",
     "text": [
      "I0607 12:31:00.484678 140294592194432 bert_sct_utils_v2.py:593]   name = module/bert/encoder/layer_7/attention/output/dense/bias:0, shape = (768,)\n"
     ]
    },
    {
     "name": "stdout",
     "output_type": "stream",
     "text": [
      "INFO:tensorflow:  name = module/bert/encoder/layer_7/attention/output/LayerNorm/beta:0, shape = (768,)\n"
     ]
    },
    {
     "name": "stderr",
     "output_type": "stream",
     "text": [
      "I0607 12:31:00.487301 140294592194432 bert_sct_utils_v2.py:593]   name = module/bert/encoder/layer_7/attention/output/LayerNorm/beta:0, shape = (768,)\n"
     ]
    },
    {
     "name": "stdout",
     "output_type": "stream",
     "text": [
      "INFO:tensorflow:  name = module/bert/encoder/layer_7/attention/output/LayerNorm/gamma:0, shape = (768,)\n"
     ]
    },
    {
     "name": "stderr",
     "output_type": "stream",
     "text": [
      "I0607 12:31:00.490206 140294592194432 bert_sct_utils_v2.py:593]   name = module/bert/encoder/layer_7/attention/output/LayerNorm/gamma:0, shape = (768,)\n"
     ]
    },
    {
     "name": "stdout",
     "output_type": "stream",
     "text": [
      "INFO:tensorflow:  name = module/bert/encoder/layer_7/intermediate/dense/kernel:0, shape = (768, 3072)\n"
     ]
    },
    {
     "name": "stderr",
     "output_type": "stream",
     "text": [
      "I0607 12:31:00.492570 140294592194432 bert_sct_utils_v2.py:593]   name = module/bert/encoder/layer_7/intermediate/dense/kernel:0, shape = (768, 3072)\n"
     ]
    },
    {
     "name": "stdout",
     "output_type": "stream",
     "text": [
      "INFO:tensorflow:  name = module/bert/encoder/layer_7/intermediate/dense/bias:0, shape = (3072,)\n"
     ]
    },
    {
     "name": "stderr",
     "output_type": "stream",
     "text": [
      "I0607 12:31:00.495039 140294592194432 bert_sct_utils_v2.py:593]   name = module/bert/encoder/layer_7/intermediate/dense/bias:0, shape = (3072,)\n"
     ]
    },
    {
     "name": "stdout",
     "output_type": "stream",
     "text": [
      "INFO:tensorflow:  name = module/bert/encoder/layer_7/output/dense/kernel:0, shape = (3072, 768)\n"
     ]
    },
    {
     "name": "stderr",
     "output_type": "stream",
     "text": [
      "I0607 12:31:00.498317 140294592194432 bert_sct_utils_v2.py:593]   name = module/bert/encoder/layer_7/output/dense/kernel:0, shape = (3072, 768)\n"
     ]
    },
    {
     "name": "stdout",
     "output_type": "stream",
     "text": [
      "INFO:tensorflow:  name = module/bert/encoder/layer_7/output/dense/bias:0, shape = (768,)\n"
     ]
    },
    {
     "name": "stderr",
     "output_type": "stream",
     "text": [
      "I0607 12:31:00.500440 140294592194432 bert_sct_utils_v2.py:593]   name = module/bert/encoder/layer_7/output/dense/bias:0, shape = (768,)\n"
     ]
    },
    {
     "name": "stdout",
     "output_type": "stream",
     "text": [
      "INFO:tensorflow:  name = module/bert/encoder/layer_7/output/LayerNorm/beta:0, shape = (768,)\n"
     ]
    },
    {
     "name": "stderr",
     "output_type": "stream",
     "text": [
      "I0607 12:31:00.503722 140294592194432 bert_sct_utils_v2.py:593]   name = module/bert/encoder/layer_7/output/LayerNorm/beta:0, shape = (768,)\n"
     ]
    },
    {
     "name": "stdout",
     "output_type": "stream",
     "text": [
      "INFO:tensorflow:  name = module/bert/encoder/layer_7/output/LayerNorm/gamma:0, shape = (768,)\n"
     ]
    },
    {
     "name": "stderr",
     "output_type": "stream",
     "text": [
      "I0607 12:31:00.506135 140294592194432 bert_sct_utils_v2.py:593]   name = module/bert/encoder/layer_7/output/LayerNorm/gamma:0, shape = (768,)\n"
     ]
    },
    {
     "name": "stdout",
     "output_type": "stream",
     "text": [
      "INFO:tensorflow:  name = module/bert/encoder/layer_8/attention/self/query/kernel:0, shape = (768, 768)\n"
     ]
    },
    {
     "name": "stderr",
     "output_type": "stream",
     "text": [
      "I0607 12:31:00.509207 140294592194432 bert_sct_utils_v2.py:593]   name = module/bert/encoder/layer_8/attention/self/query/kernel:0, shape = (768, 768)\n"
     ]
    },
    {
     "name": "stdout",
     "output_type": "stream",
     "text": [
      "INFO:tensorflow:  name = module/bert/encoder/layer_8/attention/self/query/bias:0, shape = (768,)\n"
     ]
    },
    {
     "name": "stderr",
     "output_type": "stream",
     "text": [
      "I0607 12:31:00.511472 140294592194432 bert_sct_utils_v2.py:593]   name = module/bert/encoder/layer_8/attention/self/query/bias:0, shape = (768,)\n"
     ]
    },
    {
     "name": "stdout",
     "output_type": "stream",
     "text": [
      "INFO:tensorflow:  name = module/bert/encoder/layer_8/attention/self/key/kernel:0, shape = (768, 768)\n"
     ]
    },
    {
     "name": "stderr",
     "output_type": "stream",
     "text": [
      "I0607 12:31:00.513927 140294592194432 bert_sct_utils_v2.py:593]   name = module/bert/encoder/layer_8/attention/self/key/kernel:0, shape = (768, 768)\n"
     ]
    },
    {
     "name": "stdout",
     "output_type": "stream",
     "text": [
      "INFO:tensorflow:  name = module/bert/encoder/layer_8/attention/self/key/bias:0, shape = (768,)\n"
     ]
    },
    {
     "name": "stderr",
     "output_type": "stream",
     "text": [
      "I0607 12:31:00.516365 140294592194432 bert_sct_utils_v2.py:593]   name = module/bert/encoder/layer_8/attention/self/key/bias:0, shape = (768,)\n"
     ]
    },
    {
     "name": "stdout",
     "output_type": "stream",
     "text": [
      "INFO:tensorflow:  name = module/bert/encoder/layer_8/attention/self/value/kernel:0, shape = (768, 768)\n"
     ]
    },
    {
     "name": "stderr",
     "output_type": "stream",
     "text": [
      "I0607 12:31:00.518840 140294592194432 bert_sct_utils_v2.py:593]   name = module/bert/encoder/layer_8/attention/self/value/kernel:0, shape = (768, 768)\n"
     ]
    },
    {
     "name": "stdout",
     "output_type": "stream",
     "text": [
      "INFO:tensorflow:  name = module/bert/encoder/layer_8/attention/self/value/bias:0, shape = (768,)\n"
     ]
    },
    {
     "name": "stderr",
     "output_type": "stream",
     "text": [
      "I0607 12:31:00.521496 140294592194432 bert_sct_utils_v2.py:593]   name = module/bert/encoder/layer_8/attention/self/value/bias:0, shape = (768,)\n"
     ]
    },
    {
     "name": "stdout",
     "output_type": "stream",
     "text": [
      "INFO:tensorflow:  name = module/bert/encoder/layer_8/attention/output/dense/kernel:0, shape = (768, 768)\n"
     ]
    },
    {
     "name": "stderr",
     "output_type": "stream",
     "text": [
      "I0607 12:31:00.523917 140294592194432 bert_sct_utils_v2.py:593]   name = module/bert/encoder/layer_8/attention/output/dense/kernel:0, shape = (768, 768)\n"
     ]
    },
    {
     "name": "stdout",
     "output_type": "stream",
     "text": [
      "INFO:tensorflow:  name = module/bert/encoder/layer_8/attention/output/dense/bias:0, shape = (768,)\n"
     ]
    },
    {
     "name": "stderr",
     "output_type": "stream",
     "text": [
      "I0607 12:31:00.526942 140294592194432 bert_sct_utils_v2.py:593]   name = module/bert/encoder/layer_8/attention/output/dense/bias:0, shape = (768,)\n"
     ]
    },
    {
     "name": "stdout",
     "output_type": "stream",
     "text": [
      "INFO:tensorflow:  name = module/bert/encoder/layer_8/attention/output/LayerNorm/beta:0, shape = (768,)\n"
     ]
    },
    {
     "name": "stderr",
     "output_type": "stream",
     "text": [
      "I0607 12:31:00.529643 140294592194432 bert_sct_utils_v2.py:593]   name = module/bert/encoder/layer_8/attention/output/LayerNorm/beta:0, shape = (768,)\n"
     ]
    },
    {
     "name": "stdout",
     "output_type": "stream",
     "text": [
      "INFO:tensorflow:  name = module/bert/encoder/layer_8/attention/output/LayerNorm/gamma:0, shape = (768,)\n"
     ]
    },
    {
     "name": "stderr",
     "output_type": "stream",
     "text": [
      "I0607 12:31:00.531902 140294592194432 bert_sct_utils_v2.py:593]   name = module/bert/encoder/layer_8/attention/output/LayerNorm/gamma:0, shape = (768,)\n"
     ]
    },
    {
     "name": "stdout",
     "output_type": "stream",
     "text": [
      "INFO:tensorflow:  name = module/bert/encoder/layer_8/intermediate/dense/kernel:0, shape = (768, 3072)\n"
     ]
    },
    {
     "name": "stderr",
     "output_type": "stream",
     "text": [
      "I0607 12:31:00.534343 140294592194432 bert_sct_utils_v2.py:593]   name = module/bert/encoder/layer_8/intermediate/dense/kernel:0, shape = (768, 3072)\n"
     ]
    },
    {
     "name": "stdout",
     "output_type": "stream",
     "text": [
      "INFO:tensorflow:  name = module/bert/encoder/layer_8/intermediate/dense/bias:0, shape = (3072,)\n"
     ]
    },
    {
     "name": "stderr",
     "output_type": "stream",
     "text": [
      "I0607 12:31:00.536910 140294592194432 bert_sct_utils_v2.py:593]   name = module/bert/encoder/layer_8/intermediate/dense/bias:0, shape = (3072,)\n"
     ]
    },
    {
     "name": "stdout",
     "output_type": "stream",
     "text": [
      "INFO:tensorflow:  name = module/bert/encoder/layer_8/output/dense/kernel:0, shape = (3072, 768)\n"
     ]
    },
    {
     "name": "stderr",
     "output_type": "stream",
     "text": [
      "I0607 12:31:00.539345 140294592194432 bert_sct_utils_v2.py:593]   name = module/bert/encoder/layer_8/output/dense/kernel:0, shape = (3072, 768)\n"
     ]
    },
    {
     "name": "stdout",
     "output_type": "stream",
     "text": [
      "INFO:tensorflow:  name = module/bert/encoder/layer_8/output/dense/bias:0, shape = (768,)\n"
     ]
    },
    {
     "name": "stderr",
     "output_type": "stream",
     "text": [
      "I0607 12:31:00.541889 140294592194432 bert_sct_utils_v2.py:593]   name = module/bert/encoder/layer_8/output/dense/bias:0, shape = (768,)\n"
     ]
    },
    {
     "name": "stdout",
     "output_type": "stream",
     "text": [
      "INFO:tensorflow:  name = module/bert/encoder/layer_8/output/LayerNorm/beta:0, shape = (768,)\n"
     ]
    },
    {
     "name": "stderr",
     "output_type": "stream",
     "text": [
      "I0607 12:31:00.543904 140294592194432 bert_sct_utils_v2.py:593]   name = module/bert/encoder/layer_8/output/LayerNorm/beta:0, shape = (768,)\n"
     ]
    },
    {
     "name": "stdout",
     "output_type": "stream",
     "text": [
      "INFO:tensorflow:  name = module/bert/encoder/layer_8/output/LayerNorm/gamma:0, shape = (768,)\n"
     ]
    },
    {
     "name": "stderr",
     "output_type": "stream",
     "text": [
      "I0607 12:31:00.547223 140294592194432 bert_sct_utils_v2.py:593]   name = module/bert/encoder/layer_8/output/LayerNorm/gamma:0, shape = (768,)\n"
     ]
    },
    {
     "name": "stdout",
     "output_type": "stream",
     "text": [
      "INFO:tensorflow:  name = module/bert/encoder/layer_9/attention/self/query/kernel:0, shape = (768, 768)\n"
     ]
    },
    {
     "name": "stderr",
     "output_type": "stream",
     "text": [
      "I0607 12:31:00.549709 140294592194432 bert_sct_utils_v2.py:593]   name = module/bert/encoder/layer_9/attention/self/query/kernel:0, shape = (768, 768)\n"
     ]
    },
    {
     "name": "stdout",
     "output_type": "stream",
     "text": [
      "INFO:tensorflow:  name = module/bert/encoder/layer_9/attention/self/query/bias:0, shape = (768,)\n"
     ]
    },
    {
     "name": "stderr",
     "output_type": "stream",
     "text": [
      "I0607 12:31:00.552118 140294592194432 bert_sct_utils_v2.py:593]   name = module/bert/encoder/layer_9/attention/self/query/bias:0, shape = (768,)\n"
     ]
    },
    {
     "name": "stdout",
     "output_type": "stream",
     "text": [
      "INFO:tensorflow:  name = module/bert/encoder/layer_9/attention/self/key/kernel:0, shape = (768, 768)\n"
     ]
    },
    {
     "name": "stderr",
     "output_type": "stream",
     "text": [
      "I0607 12:31:00.554503 140294592194432 bert_sct_utils_v2.py:593]   name = module/bert/encoder/layer_9/attention/self/key/kernel:0, shape = (768, 768)\n"
     ]
    },
    {
     "name": "stdout",
     "output_type": "stream",
     "text": [
      "INFO:tensorflow:  name = module/bert/encoder/layer_9/attention/self/key/bias:0, shape = (768,)\n"
     ]
    },
    {
     "name": "stderr",
     "output_type": "stream",
     "text": [
      "I0607 12:31:00.557435 140294592194432 bert_sct_utils_v2.py:593]   name = module/bert/encoder/layer_9/attention/self/key/bias:0, shape = (768,)\n"
     ]
    },
    {
     "name": "stdout",
     "output_type": "stream",
     "text": [
      "INFO:tensorflow:  name = module/bert/encoder/layer_9/attention/self/value/kernel:0, shape = (768, 768)\n"
     ]
    },
    {
     "name": "stderr",
     "output_type": "stream",
     "text": [
      "I0607 12:31:00.559919 140294592194432 bert_sct_utils_v2.py:593]   name = module/bert/encoder/layer_9/attention/self/value/kernel:0, shape = (768, 768)\n"
     ]
    },
    {
     "name": "stdout",
     "output_type": "stream",
     "text": [
      "INFO:tensorflow:  name = module/bert/encoder/layer_9/attention/self/value/bias:0, shape = (768,)\n"
     ]
    },
    {
     "name": "stderr",
     "output_type": "stream",
     "text": [
      "I0607 12:31:00.562305 140294592194432 bert_sct_utils_v2.py:593]   name = module/bert/encoder/layer_9/attention/self/value/bias:0, shape = (768,)\n"
     ]
    },
    {
     "name": "stdout",
     "output_type": "stream",
     "text": [
      "INFO:tensorflow:  name = module/bert/encoder/layer_9/attention/output/dense/kernel:0, shape = (768, 768)\n"
     ]
    },
    {
     "name": "stderr",
     "output_type": "stream",
     "text": [
      "I0607 12:31:00.565209 140294592194432 bert_sct_utils_v2.py:593]   name = module/bert/encoder/layer_9/attention/output/dense/kernel:0, shape = (768, 768)\n"
     ]
    },
    {
     "name": "stdout",
     "output_type": "stream",
     "text": [
      "INFO:tensorflow:  name = module/bert/encoder/layer_9/attention/output/dense/bias:0, shape = (768,)\n"
     ]
    },
    {
     "name": "stderr",
     "output_type": "stream",
     "text": [
      "I0607 12:31:00.567671 140294592194432 bert_sct_utils_v2.py:593]   name = module/bert/encoder/layer_9/attention/output/dense/bias:0, shape = (768,)\n"
     ]
    },
    {
     "name": "stdout",
     "output_type": "stream",
     "text": [
      "INFO:tensorflow:  name = module/bert/encoder/layer_9/attention/output/LayerNorm/beta:0, shape = (768,)\n"
     ]
    },
    {
     "name": "stderr",
     "output_type": "stream",
     "text": [
      "I0607 12:31:00.570518 140294592194432 bert_sct_utils_v2.py:593]   name = module/bert/encoder/layer_9/attention/output/LayerNorm/beta:0, shape = (768,)\n"
     ]
    },
    {
     "name": "stdout",
     "output_type": "stream",
     "text": [
      "INFO:tensorflow:  name = module/bert/encoder/layer_9/attention/output/LayerNorm/gamma:0, shape = (768,)\n"
     ]
    },
    {
     "name": "stderr",
     "output_type": "stream",
     "text": [
      "I0607 12:31:00.572954 140294592194432 bert_sct_utils_v2.py:593]   name = module/bert/encoder/layer_9/attention/output/LayerNorm/gamma:0, shape = (768,)\n"
     ]
    },
    {
     "name": "stdout",
     "output_type": "stream",
     "text": [
      "INFO:tensorflow:  name = module/bert/encoder/layer_9/intermediate/dense/kernel:0, shape = (768, 3072)\n"
     ]
    },
    {
     "name": "stderr",
     "output_type": "stream",
     "text": [
      "I0607 12:31:00.575393 140294592194432 bert_sct_utils_v2.py:593]   name = module/bert/encoder/layer_9/intermediate/dense/kernel:0, shape = (768, 3072)\n"
     ]
    },
    {
     "name": "stdout",
     "output_type": "stream",
     "text": [
      "INFO:tensorflow:  name = module/bert/encoder/layer_9/intermediate/dense/bias:0, shape = (3072,)\n"
     ]
    },
    {
     "name": "stderr",
     "output_type": "stream",
     "text": [
      "I0607 12:31:00.577860 140294592194432 bert_sct_utils_v2.py:593]   name = module/bert/encoder/layer_9/intermediate/dense/bias:0, shape = (3072,)\n"
     ]
    },
    {
     "name": "stdout",
     "output_type": "stream",
     "text": [
      "INFO:tensorflow:  name = module/bert/encoder/layer_9/output/dense/kernel:0, shape = (3072, 768)\n"
     ]
    },
    {
     "name": "stderr",
     "output_type": "stream",
     "text": [
      "I0607 12:31:00.580223 140294592194432 bert_sct_utils_v2.py:593]   name = module/bert/encoder/layer_9/output/dense/kernel:0, shape = (3072, 768)\n"
     ]
    },
    {
     "name": "stdout",
     "output_type": "stream",
     "text": [
      "INFO:tensorflow:  name = module/bert/encoder/layer_9/output/dense/bias:0, shape = (768,)\n"
     ]
    },
    {
     "name": "stderr",
     "output_type": "stream",
     "text": [
      "I0607 12:31:00.582721 140294592194432 bert_sct_utils_v2.py:593]   name = module/bert/encoder/layer_9/output/dense/bias:0, shape = (768,)\n"
     ]
    },
    {
     "name": "stdout",
     "output_type": "stream",
     "text": [
      "INFO:tensorflow:  name = module/bert/encoder/layer_9/output/LayerNorm/beta:0, shape = (768,)\n"
     ]
    },
    {
     "name": "stderr",
     "output_type": "stream",
     "text": [
      "I0607 12:31:00.585125 140294592194432 bert_sct_utils_v2.py:593]   name = module/bert/encoder/layer_9/output/LayerNorm/beta:0, shape = (768,)\n"
     ]
    },
    {
     "name": "stdout",
     "output_type": "stream",
     "text": [
      "INFO:tensorflow:  name = module/bert/encoder/layer_9/output/LayerNorm/gamma:0, shape = (768,)\n"
     ]
    },
    {
     "name": "stderr",
     "output_type": "stream",
     "text": [
      "I0607 12:31:00.587598 140294592194432 bert_sct_utils_v2.py:593]   name = module/bert/encoder/layer_9/output/LayerNorm/gamma:0, shape = (768,)\n"
     ]
    },
    {
     "name": "stdout",
     "output_type": "stream",
     "text": [
      "INFO:tensorflow:  name = module/bert/encoder/layer_10/attention/self/query/kernel:0, shape = (768, 768)\n"
     ]
    },
    {
     "name": "stderr",
     "output_type": "stream",
     "text": [
      "I0607 12:31:00.589996 140294592194432 bert_sct_utils_v2.py:593]   name = module/bert/encoder/layer_10/attention/self/query/kernel:0, shape = (768, 768)\n"
     ]
    },
    {
     "name": "stdout",
     "output_type": "stream",
     "text": [
      "INFO:tensorflow:  name = module/bert/encoder/layer_10/attention/self/query/bias:0, shape = (768,)\n"
     ]
    },
    {
     "name": "stderr",
     "output_type": "stream",
     "text": [
      "I0607 12:31:00.592900 140294592194432 bert_sct_utils_v2.py:593]   name = module/bert/encoder/layer_10/attention/self/query/bias:0, shape = (768,)\n"
     ]
    },
    {
     "name": "stdout",
     "output_type": "stream",
     "text": [
      "INFO:tensorflow:  name = module/bert/encoder/layer_10/attention/self/key/kernel:0, shape = (768, 768)\n"
     ]
    },
    {
     "name": "stderr",
     "output_type": "stream",
     "text": [
      "I0607 12:31:00.595327 140294592194432 bert_sct_utils_v2.py:593]   name = module/bert/encoder/layer_10/attention/self/key/kernel:0, shape = (768, 768)\n"
     ]
    },
    {
     "name": "stdout",
     "output_type": "stream",
     "text": [
      "INFO:tensorflow:  name = module/bert/encoder/layer_10/attention/self/key/bias:0, shape = (768,)\n"
     ]
    },
    {
     "name": "stderr",
     "output_type": "stream",
     "text": [
      "I0607 12:31:00.598577 140294592194432 bert_sct_utils_v2.py:593]   name = module/bert/encoder/layer_10/attention/self/key/bias:0, shape = (768,)\n"
     ]
    },
    {
     "name": "stdout",
     "output_type": "stream",
     "text": [
      "INFO:tensorflow:  name = module/bert/encoder/layer_10/attention/self/value/kernel:0, shape = (768, 768)\n"
     ]
    },
    {
     "name": "stderr",
     "output_type": "stream",
     "text": [
      "I0607 12:31:00.600868 140294592194432 bert_sct_utils_v2.py:593]   name = module/bert/encoder/layer_10/attention/self/value/kernel:0, shape = (768, 768)\n"
     ]
    },
    {
     "name": "stdout",
     "output_type": "stream",
     "text": [
      "INFO:tensorflow:  name = module/bert/encoder/layer_10/attention/self/value/bias:0, shape = (768,)\n"
     ]
    },
    {
     "name": "stderr",
     "output_type": "stream",
     "text": [
      "I0607 12:31:00.603288 140294592194432 bert_sct_utils_v2.py:593]   name = module/bert/encoder/layer_10/attention/self/value/bias:0, shape = (768,)\n"
     ]
    },
    {
     "name": "stdout",
     "output_type": "stream",
     "text": [
      "INFO:tensorflow:  name = module/bert/encoder/layer_10/attention/output/dense/kernel:0, shape = (768, 768)\n"
     ]
    },
    {
     "name": "stderr",
     "output_type": "stream",
     "text": [
      "I0607 12:31:00.606441 140294592194432 bert_sct_utils_v2.py:593]   name = module/bert/encoder/layer_10/attention/output/dense/kernel:0, shape = (768, 768)\n"
     ]
    },
    {
     "name": "stdout",
     "output_type": "stream",
     "text": [
      "INFO:tensorflow:  name = module/bert/encoder/layer_10/attention/output/dense/bias:0, shape = (768,)\n"
     ]
    },
    {
     "name": "stderr",
     "output_type": "stream",
     "text": [
      "I0607 12:31:00.609032 140294592194432 bert_sct_utils_v2.py:593]   name = module/bert/encoder/layer_10/attention/output/dense/bias:0, shape = (768,)\n"
     ]
    },
    {
     "name": "stdout",
     "output_type": "stream",
     "text": [
      "INFO:tensorflow:  name = module/bert/encoder/layer_10/attention/output/LayerNorm/beta:0, shape = (768,)\n"
     ]
    },
    {
     "name": "stderr",
     "output_type": "stream",
     "text": [
      "I0607 12:31:00.611308 140294592194432 bert_sct_utils_v2.py:593]   name = module/bert/encoder/layer_10/attention/output/LayerNorm/beta:0, shape = (768,)\n"
     ]
    },
    {
     "name": "stdout",
     "output_type": "stream",
     "text": [
      "INFO:tensorflow:  name = module/bert/encoder/layer_10/attention/output/LayerNorm/gamma:0, shape = (768,)\n"
     ]
    },
    {
     "name": "stderr",
     "output_type": "stream",
     "text": [
      "I0607 12:31:00.615069 140294592194432 bert_sct_utils_v2.py:593]   name = module/bert/encoder/layer_10/attention/output/LayerNorm/gamma:0, shape = (768,)\n"
     ]
    },
    {
     "name": "stdout",
     "output_type": "stream",
     "text": [
      "INFO:tensorflow:  name = module/bert/encoder/layer_10/intermediate/dense/kernel:0, shape = (768, 3072)\n"
     ]
    },
    {
     "name": "stderr",
     "output_type": "stream",
     "text": [
      "I0607 12:31:00.617577 140294592194432 bert_sct_utils_v2.py:593]   name = module/bert/encoder/layer_10/intermediate/dense/kernel:0, shape = (768, 3072)\n"
     ]
    },
    {
     "name": "stdout",
     "output_type": "stream",
     "text": [
      "INFO:tensorflow:  name = module/bert/encoder/layer_10/intermediate/dense/bias:0, shape = (3072,)\n"
     ]
    },
    {
     "name": "stderr",
     "output_type": "stream",
     "text": [
      "I0607 12:31:00.620055 140294592194432 bert_sct_utils_v2.py:593]   name = module/bert/encoder/layer_10/intermediate/dense/bias:0, shape = (3072,)\n"
     ]
    },
    {
     "name": "stdout",
     "output_type": "stream",
     "text": [
      "INFO:tensorflow:  name = module/bert/encoder/layer_10/output/dense/kernel:0, shape = (3072, 768)\n"
     ]
    },
    {
     "name": "stderr",
     "output_type": "stream",
     "text": [
      "I0607 12:31:00.622536 140294592194432 bert_sct_utils_v2.py:593]   name = module/bert/encoder/layer_10/output/dense/kernel:0, shape = (3072, 768)\n"
     ]
    },
    {
     "name": "stdout",
     "output_type": "stream",
     "text": [
      "INFO:tensorflow:  name = module/bert/encoder/layer_10/output/dense/bias:0, shape = (768,)\n"
     ]
    },
    {
     "name": "stderr",
     "output_type": "stream",
     "text": [
      "I0607 12:31:00.625051 140294592194432 bert_sct_utils_v2.py:593]   name = module/bert/encoder/layer_10/output/dense/bias:0, shape = (768,)\n"
     ]
    },
    {
     "name": "stdout",
     "output_type": "stream",
     "text": [
      "INFO:tensorflow:  name = module/bert/encoder/layer_10/output/LayerNorm/beta:0, shape = (768,)\n"
     ]
    },
    {
     "name": "stderr",
     "output_type": "stream",
     "text": [
      "I0607 12:31:00.627467 140294592194432 bert_sct_utils_v2.py:593]   name = module/bert/encoder/layer_10/output/LayerNorm/beta:0, shape = (768,)\n"
     ]
    },
    {
     "name": "stdout",
     "output_type": "stream",
     "text": [
      "INFO:tensorflow:  name = module/bert/encoder/layer_10/output/LayerNorm/gamma:0, shape = (768,)\n"
     ]
    },
    {
     "name": "stderr",
     "output_type": "stream",
     "text": [
      "I0607 12:31:00.629939 140294592194432 bert_sct_utils_v2.py:593]   name = module/bert/encoder/layer_10/output/LayerNorm/gamma:0, shape = (768,)\n"
     ]
    },
    {
     "name": "stdout",
     "output_type": "stream",
     "text": [
      "INFO:tensorflow:  name = module/bert/encoder/layer_11/attention/self/query/kernel:0, shape = (768, 768)\n"
     ]
    },
    {
     "name": "stderr",
     "output_type": "stream",
     "text": [
      "I0607 12:31:00.632311 140294592194432 bert_sct_utils_v2.py:593]   name = module/bert/encoder/layer_11/attention/self/query/kernel:0, shape = (768, 768)\n"
     ]
    },
    {
     "name": "stdout",
     "output_type": "stream",
     "text": [
      "INFO:tensorflow:  name = module/bert/encoder/layer_11/attention/self/query/bias:0, shape = (768,)\n"
     ]
    },
    {
     "name": "stderr",
     "output_type": "stream",
     "text": [
      "I0607 12:31:00.635208 140294592194432 bert_sct_utils_v2.py:593]   name = module/bert/encoder/layer_11/attention/self/query/bias:0, shape = (768,)\n"
     ]
    },
    {
     "name": "stdout",
     "output_type": "stream",
     "text": [
      "INFO:tensorflow:  name = module/bert/encoder/layer_11/attention/self/key/kernel:0, shape = (768, 768)\n"
     ]
    },
    {
     "name": "stderr",
     "output_type": "stream",
     "text": [
      "I0607 12:31:00.637717 140294592194432 bert_sct_utils_v2.py:593]   name = module/bert/encoder/layer_11/attention/self/key/kernel:0, shape = (768, 768)\n"
     ]
    },
    {
     "name": "stdout",
     "output_type": "stream",
     "text": [
      "INFO:tensorflow:  name = module/bert/encoder/layer_11/attention/self/key/bias:0, shape = (768,)\n"
     ]
    },
    {
     "name": "stderr",
     "output_type": "stream",
     "text": [
      "I0607 12:31:00.641147 140294592194432 bert_sct_utils_v2.py:593]   name = module/bert/encoder/layer_11/attention/self/key/bias:0, shape = (768,)\n"
     ]
    },
    {
     "name": "stdout",
     "output_type": "stream",
     "text": [
      "INFO:tensorflow:  name = module/bert/encoder/layer_11/attention/self/value/kernel:0, shape = (768, 768)\n"
     ]
    },
    {
     "name": "stderr",
     "output_type": "stream",
     "text": [
      "I0607 12:31:00.643094 140294592194432 bert_sct_utils_v2.py:593]   name = module/bert/encoder/layer_11/attention/self/value/kernel:0, shape = (768, 768)\n"
     ]
    },
    {
     "name": "stdout",
     "output_type": "stream",
     "text": [
      "INFO:tensorflow:  name = module/bert/encoder/layer_11/attention/self/value/bias:0, shape = (768,)\n"
     ]
    },
    {
     "name": "stderr",
     "output_type": "stream",
     "text": [
      "I0607 12:31:00.645472 140294592194432 bert_sct_utils_v2.py:593]   name = module/bert/encoder/layer_11/attention/self/value/bias:0, shape = (768,)\n"
     ]
    },
    {
     "name": "stdout",
     "output_type": "stream",
     "text": [
      "INFO:tensorflow:  name = module/bert/encoder/layer_11/attention/output/dense/kernel:0, shape = (768, 768)\n"
     ]
    },
    {
     "name": "stderr",
     "output_type": "stream",
     "text": [
      "I0607 12:31:00.647995 140294592194432 bert_sct_utils_v2.py:593]   name = module/bert/encoder/layer_11/attention/output/dense/kernel:0, shape = (768, 768)\n"
     ]
    },
    {
     "name": "stdout",
     "output_type": "stream",
     "text": [
      "INFO:tensorflow:  name = module/bert/encoder/layer_11/attention/output/dense/bias:0, shape = (768,)\n"
     ]
    },
    {
     "name": "stderr",
     "output_type": "stream",
     "text": [
      "I0607 12:31:00.650386 140294592194432 bert_sct_utils_v2.py:593]   name = module/bert/encoder/layer_11/attention/output/dense/bias:0, shape = (768,)\n"
     ]
    },
    {
     "name": "stdout",
     "output_type": "stream",
     "text": [
      "INFO:tensorflow:  name = module/bert/encoder/layer_11/attention/output/LayerNorm/beta:0, shape = (768,)\n"
     ]
    },
    {
     "name": "stderr",
     "output_type": "stream",
     "text": [
      "I0607 12:31:00.653238 140294592194432 bert_sct_utils_v2.py:593]   name = module/bert/encoder/layer_11/attention/output/LayerNorm/beta:0, shape = (768,)\n"
     ]
    },
    {
     "name": "stdout",
     "output_type": "stream",
     "text": [
      "INFO:tensorflow:  name = module/bert/encoder/layer_11/attention/output/LayerNorm/gamma:0, shape = (768,)\n"
     ]
    },
    {
     "name": "stderr",
     "output_type": "stream",
     "text": [
      "I0607 12:31:00.654848 140294592194432 bert_sct_utils_v2.py:593]   name = module/bert/encoder/layer_11/attention/output/LayerNorm/gamma:0, shape = (768,)\n"
     ]
    },
    {
     "name": "stdout",
     "output_type": "stream",
     "text": [
      "INFO:tensorflow:  name = module/bert/encoder/layer_11/intermediate/dense/kernel:0, shape = (768, 3072)\n"
     ]
    },
    {
     "name": "stderr",
     "output_type": "stream",
     "text": [
      "I0607 12:31:00.656241 140294592194432 bert_sct_utils_v2.py:593]   name = module/bert/encoder/layer_11/intermediate/dense/kernel:0, shape = (768, 3072)\n"
     ]
    },
    {
     "name": "stdout",
     "output_type": "stream",
     "text": [
      "INFO:tensorflow:  name = module/bert/encoder/layer_11/intermediate/dense/bias:0, shape = (3072,)\n"
     ]
    },
    {
     "name": "stderr",
     "output_type": "stream",
     "text": [
      "I0607 12:31:00.660324 140294592194432 bert_sct_utils_v2.py:593]   name = module/bert/encoder/layer_11/intermediate/dense/bias:0, shape = (3072,)\n"
     ]
    },
    {
     "name": "stdout",
     "output_type": "stream",
     "text": [
      "INFO:tensorflow:  name = module/bert/encoder/layer_11/output/dense/kernel:0, shape = (3072, 768)\n"
     ]
    },
    {
     "name": "stderr",
     "output_type": "stream",
     "text": [
      "I0607 12:31:00.663003 140294592194432 bert_sct_utils_v2.py:593]   name = module/bert/encoder/layer_11/output/dense/kernel:0, shape = (3072, 768)\n"
     ]
    },
    {
     "name": "stdout",
     "output_type": "stream",
     "text": [
      "INFO:tensorflow:  name = module/bert/encoder/layer_11/output/dense/bias:0, shape = (768,)\n"
     ]
    },
    {
     "name": "stderr",
     "output_type": "stream",
     "text": [
      "I0607 12:31:00.665954 140294592194432 bert_sct_utils_v2.py:593]   name = module/bert/encoder/layer_11/output/dense/bias:0, shape = (768,)\n"
     ]
    },
    {
     "name": "stdout",
     "output_type": "stream",
     "text": [
      "INFO:tensorflow:  name = module/bert/encoder/layer_11/output/LayerNorm/beta:0, shape = (768,)\n"
     ]
    },
    {
     "name": "stderr",
     "output_type": "stream",
     "text": [
      "I0607 12:31:00.667540 140294592194432 bert_sct_utils_v2.py:593]   name = module/bert/encoder/layer_11/output/LayerNorm/beta:0, shape = (768,)\n"
     ]
    },
    {
     "name": "stdout",
     "output_type": "stream",
     "text": [
      "INFO:tensorflow:  name = module/bert/encoder/layer_11/output/LayerNorm/gamma:0, shape = (768,)\n"
     ]
    },
    {
     "name": "stderr",
     "output_type": "stream",
     "text": [
      "I0607 12:31:00.669861 140294592194432 bert_sct_utils_v2.py:593]   name = module/bert/encoder/layer_11/output/LayerNorm/gamma:0, shape = (768,)\n"
     ]
    },
    {
     "name": "stdout",
     "output_type": "stream",
     "text": [
      "INFO:tensorflow:  name = module/bert/pooler/dense/kernel:0, shape = (768, 768)\n"
     ]
    },
    {
     "name": "stderr",
     "output_type": "stream",
     "text": [
      "I0607 12:31:00.671353 140294592194432 bert_sct_utils_v2.py:593]   name = module/bert/pooler/dense/kernel:0, shape = (768, 768)\n"
     ]
    },
    {
     "name": "stdout",
     "output_type": "stream",
     "text": [
      "INFO:tensorflow:  name = module/bert/pooler/dense/bias:0, shape = (768,)\n"
     ]
    },
    {
     "name": "stderr",
     "output_type": "stream",
     "text": [
      "I0607 12:31:00.672929 140294592194432 bert_sct_utils_v2.py:593]   name = module/bert/pooler/dense/bias:0, shape = (768,)\n"
     ]
    },
    {
     "name": "stdout",
     "output_type": "stream",
     "text": [
      "INFO:tensorflow:  name = module/cls/predictions/transform/dense/kernel:0, shape = (768, 768)\n"
     ]
    },
    {
     "name": "stderr",
     "output_type": "stream",
     "text": [
      "I0607 12:31:00.675243 140294592194432 bert_sct_utils_v2.py:593]   name = module/cls/predictions/transform/dense/kernel:0, shape = (768, 768)\n"
     ]
    },
    {
     "name": "stdout",
     "output_type": "stream",
     "text": [
      "INFO:tensorflow:  name = module/cls/predictions/transform/dense/bias:0, shape = (768,)\n"
     ]
    },
    {
     "name": "stderr",
     "output_type": "stream",
     "text": [
      "I0607 12:31:00.676880 140294592194432 bert_sct_utils_v2.py:593]   name = module/cls/predictions/transform/dense/bias:0, shape = (768,)\n"
     ]
    },
    {
     "name": "stdout",
     "output_type": "stream",
     "text": [
      "INFO:tensorflow:  name = module/cls/predictions/transform/LayerNorm/beta:0, shape = (768,)\n"
     ]
    },
    {
     "name": "stderr",
     "output_type": "stream",
     "text": [
      "I0607 12:31:00.679201 140294592194432 bert_sct_utils_v2.py:593]   name = module/cls/predictions/transform/LayerNorm/beta:0, shape = (768,)\n"
     ]
    },
    {
     "name": "stdout",
     "output_type": "stream",
     "text": [
      "INFO:tensorflow:  name = module/cls/predictions/transform/LayerNorm/gamma:0, shape = (768,)\n"
     ]
    },
    {
     "name": "stderr",
     "output_type": "stream",
     "text": [
      "I0607 12:31:00.681647 140294592194432 bert_sct_utils_v2.py:593]   name = module/cls/predictions/transform/LayerNorm/gamma:0, shape = (768,)\n"
     ]
    },
    {
     "name": "stdout",
     "output_type": "stream",
     "text": [
      "INFO:tensorflow:  name = module/cls/predictions/output_bias:0, shape = (30522,)\n"
     ]
    },
    {
     "name": "stderr",
     "output_type": "stream",
     "text": [
      "I0607 12:31:00.685143 140294592194432 bert_sct_utils_v2.py:593]   name = module/cls/predictions/output_bias:0, shape = (30522,)\n"
     ]
    },
    {
     "name": "stdout",
     "output_type": "stream",
     "text": [
      "INFO:tensorflow:  name = output_weights:0, shape = (1, 768)\n"
     ]
    },
    {
     "name": "stderr",
     "output_type": "stream",
     "text": [
      "I0607 12:31:00.687731 140294592194432 bert_sct_utils_v2.py:593]   name = output_weights:0, shape = (1, 768)\n"
     ]
    },
    {
     "name": "stdout",
     "output_type": "stream",
     "text": [
      "INFO:tensorflow:  name = output_bias:0, shape = (1,)\n"
     ]
    },
    {
     "name": "stderr",
     "output_type": "stream",
     "text": [
      "I0607 12:31:00.690323 140294592194432 bert_sct_utils_v2.py:593]   name = output_bias:0, shape = (1,)\n"
     ]
    },
    {
     "name": "stdout",
     "output_type": "stream",
     "text": [
      "INFO:tensorflow:Done calling model_fn.\n"
     ]
    },
    {
     "name": "stderr",
     "output_type": "stream",
     "text": [
      "I0607 12:31:00.696686 140294592194432 estimator.py:1113] Done calling model_fn.\n"
     ]
    },
    {
     "name": "stdout",
     "output_type": "stream",
     "text": [
      "INFO:tensorflow:Graph was finalized.\n"
     ]
    },
    {
     "name": "stderr",
     "output_type": "stream",
     "text": [
      "I0607 12:31:01.535201 140294592194432 monitored_session.py:222] Graph was finalized.\n"
     ]
    },
    {
     "name": "stdout",
     "output_type": "stream",
     "text": [
      "INFO:tensorflow:Restoring parameters from ./output/model.ckpt-5233\n"
     ]
    },
    {
     "name": "stderr",
     "output_type": "stream",
     "text": [
      "I0607 12:31:01.544399 140294592194432 saver.py:1270] Restoring parameters from ./output/model.ckpt-5233\n"
     ]
    },
    {
     "name": "stdout",
     "output_type": "stream",
     "text": [
      "INFO:tensorflow:Running local_init_op.\n"
     ]
    },
    {
     "name": "stderr",
     "output_type": "stream",
     "text": [
      "I0607 12:31:02.452171 140294592194432 session_manager.py:491] Running local_init_op.\n"
     ]
    },
    {
     "name": "stdout",
     "output_type": "stream",
     "text": [
      "INFO:tensorflow:Done running local_init_op.\n"
     ]
    },
    {
     "name": "stderr",
     "output_type": "stream",
     "text": [
      "I0607 12:31:02.570091 140294592194432 session_manager.py:493] Done running local_init_op.\n"
     ]
    }
   ],
   "source": [
    "if not(FLAGS.bert_model_hub or (FLAGS.bert_dir and FLAGS.init_checkpoint)):\n",
    "    raise ValueError(\"bert_model_hub or (bert_config_file and init_checkpoint)\")\n",
    "\n",
    "# ---------------------------------------------------------------------------------------------------------------- #\n",
    "# Create output directory\n",
    "tf.gfile.MakeDirs(FLAGS.output_dir)\n",
    "\n",
    "# ---------------------------------------------------------------------------------------------------------------- #\n",
    "# Processor\n",
    "processor = SctProcessor()\n",
    "label_list = processor.get_labels()\n",
    "\n",
    "bert_config = None\n",
    "if not FLAGS.init_checkpoint:\n",
    "    tokenizer = create_tokenizer_from_hub_module(FLAGS.bert_model_hub)\n",
    "\n",
    "else:\n",
    "    tokenizer = tokenization.FullTokenizer(vocab_file=os.path.join(FLAGS.bert_dir, \"vocab.txt\"),\n",
    "                                           do_lower_case=False)\n",
    "    bert_config = get_config(os.path.join(FLAGS.bert_dir, \"bert_config.json\"))\n",
    "\n",
    "# ---------------------------------------------------------------------------------------------------------------- #\n",
    "# Model and Estimator\n",
    "train_examples = None\n",
    "num_train_steps = None\n",
    "num_warmup_steps = None\n",
    "if FLAGS.do_train:\n",
    "    train_examples = processor.get_train_examples(FLAGS.data_dir)\n",
    "    num_train_steps = int(len(train_examples) / FLAGS.batch_size * FLAGS.num_train_epochs)\n",
    "    num_warmup_steps = int(num_train_steps * FLAGS.warmup_proportion)\n",
    "\n",
    "run_config = tf.estimator.RunConfig(model_dir=FLAGS.output_dir,\n",
    "                                    save_summary_steps=10,\n",
    "                                    save_checkpoints_steps=1000)\n",
    "\n",
    "model_fn = model_fn_builder(bert_model_hub=FLAGS.bert_model_hub,\n",
    "                            bert_trainable=FLAGS.bert_trainable,\n",
    "                            bert_config=bert_config,\n",
    "                            init_checkpoint=FLAGS.init_checkpoint,\n",
    "                            num_labels=len(label_list),\n",
    "                            learning_rate=FLAGS.learning_rate,\n",
    "                            num_train_steps=num_train_steps,\n",
    "                            num_warmup_steps=num_warmup_steps)\n",
    "\n",
    "params = {\n",
    "    \"batch_size\": FLAGS.batch_size,\n",
    "}\n",
    "\n",
    "estimator = tf.estimator.Estimator(model_fn=model_fn,\n",
    "                                   config=run_config,\n",
    "                                   params=params)\n",
    "\n",
    "# ---------------------------------------------------------------------------------------------------------------- #\n",
    "# Training\n",
    "if FLAGS.do_train:\n",
    "    train_file = os.path.join(FLAGS.data_dir, \"train.tf_record\")\n",
    "    file_based_convert_examples_to_features(train_examples,\n",
    "                                            label_list,\n",
    "                                            FLAGS.max_seq_length,\n",
    "                                            tokenizer,\n",
    "                                            train_file)\n",
    "\n",
    "    tf.logging.info(\"***** Running training *****\")\n",
    "    tf.logging.info(\"  Num examples = %d\", len(train_examples))\n",
    "    tf.logging.info(\"  Batch size = %d\", FLAGS.batch_size)\n",
    "    tf.logging.info(\"  Num steps = %d\", num_train_steps)\n",
    "\n",
    "    train_input_fn = file_based_input_fn_builder(input_file=train_file,\n",
    "                                                 seq_length=FLAGS.max_seq_length,\n",
    "                                                 is_training=True,\n",
    "                                                 drop_remainder=False)\n",
    "\n",
    "    estimator.train(input_fn=train_input_fn, max_steps=num_train_steps)\n",
    "\n",
    "# ---------------------------------------------------------------------------------------------------------------- #\n",
    "# Evaluation\n",
    "if FLAGS.do_eval:\n",
    "    eval_examples = processor.get_dev_examples(FLAGS.data_dir)\n",
    "\n",
    "    eval_file = os.path.join(FLAGS.data_dir, \"eval.tf_record\")\n",
    "    file_based_convert_examples_to_features(eval_examples,\n",
    "                                            label_list,\n",
    "                                            FLAGS.max_seq_length,\n",
    "                                            tokenizer,\n",
    "                                            eval_file)\n",
    "\n",
    "    tf.logging.info(\"***** Running evaluation *****\")\n",
    "    tf.logging.info(\"  Num examples = %d\", len(eval_examples))\n",
    "\n",
    "    eval_steps = int(len(eval_examples) // FLAGS.batch_size)\n",
    "\n",
    "    eval_input_fn = file_based_input_fn_builder(input_file=eval_file,\n",
    "                                                seq_length=FLAGS.max_seq_length,\n",
    "                                                is_training=False,\n",
    "                                                drop_remainder=False)\n",
    "\n",
    "    result = estimator.evaluate(input_fn=eval_input_fn, steps=eval_steps)\n",
    "\n",
    "    output_eval_file = os.path.join(FLAGS.results_dir, timestamp + \"eval_results.txt\")\n",
    "    with tf.gfile.GFile(output_eval_file, \"w\") as writer:\n",
    "        tf.logging.info(\"***** Eval results *****\")\n",
    "        for key in sorted(result.keys()):\n",
    "            tf.logging.info(\"  %s = %s\", key, str(result[key]))\n",
    "            writer.write(\"%s = %s\\n\" % (key, str(result[key])))\n",
    "\n",
    "# ---------------------------------------------------------------------------------------------------------------- #\n",
    "# Test\n",
    "if FLAGS.do_predict:\n",
    "    predict_examples = processor.get_test_examples(FLAGS.data_dir)\n",
    "\n",
    "    predict_file = os.path.join(FLAGS.data_dir, \"predict.tf_record\")\n",
    "    file_based_convert_examples_to_features(predict_examples,\n",
    "                                            label_list,\n",
    "                                            FLAGS.max_seq_length,\n",
    "                                            tokenizer,\n",
    "                                            predict_file)\n",
    "\n",
    "    tf.logging.info(\"***** Running prediction*****\")\n",
    "    tf.logging.info(\"  Num examples = %d\", len(predict_examples))\n",
    "\n",
    "    predict_input_fn = file_based_input_fn_builder(input_file=predict_file,\n",
    "                                                   seq_length=FLAGS.max_seq_length,\n",
    "                                                   is_training=False,\n",
    "                                                   drop_remainder=False)\n",
    "\n",
    "    result = estimator.predict(input_fn=predict_input_fn)\n",
    "\n",
    "    output_predict_file = os.path.join(FLAGS.results_dir, timestamp + \"test_results.tsv\")\n",
    "    with tf.gfile.GFile(output_predict_file, \"w\") as writer:\n",
    "        num_written_lines = 0\n",
    "        tf.logging.info(\"***** Predict results *****\")\n",
    "        for (i, prediction) in enumerate(result):\n",
    "            probabilities = prediction[\"probabilities\"]\n",
    "            predict_label = str(prediction[\"predict_labels\"])\n",
    "\n",
    "            probs = [\"{0:.4f}\".format(class_probability) for class_probability in probabilities]\n",
    "\n",
    "            output_line = \"\\t\".join(probs) + \"\\t\" + predict_label + \"\\n\"\n",
    "            writer.write(output_line)\n",
    "            num_written_lines += 1"
   ]
  },
  {
   "cell_type": "code",
   "execution_count": 13,
   "metadata": {
    "id": "nZR1wlmir_QO",
    "colab_type": "code",
    "colab": {
     "base_uri": "https://localhost:8080/",
     "height": 34.0
    },
    "outputId": "9159fb23-c733-4663-c5ad-fe136e559766",
    "executionInfo": {
     "status": "ok",
     "timestamp": 1.55991100884E12,
     "user_tz": -120.0,
     "elapsed": 806.0,
     "user": {
      "displayName": "Rok Šikonja",
      "photoUrl": "",
      "userId": "08390144229917873056"
     }
    }
   },
   "outputs": [
    {
     "data": {
      "text/plain": [
       "'./output_A/'"
      ]
     },
     "execution_count": 13,
     "metadata": {
      "tags": []
     },
     "output_type": "execute_result"
    }
   ],
   "source": [
    "import shutil\n",
    "# shutil.rmtree(\"./results\")\n",
    "# shutil.rmtree(\"./output\")\n",
    "\n",
    "\n",
    "shutil.move(\"./output/\", \"./output_A/\")\n",
    "# shutil.move(\"./results/\", \"./results_A/\")"
   ]
  },
  {
   "cell_type": "code",
   "execution_count": 0,
   "metadata": {
    "id": "cUBgfsm7ictb",
    "colab_type": "code",
    "colab": {}
   },
   "outputs": [],
   "source": [
    "FLAGS.do_train = True"
   ]
  },
  {
   "cell_type": "code",
   "execution_count": 0,
   "metadata": {
    "id": "sEed72YQsLJr",
    "colab_type": "code",
    "colab": {}
   },
   "outputs": [],
   "source": [
    "FLAGS.data_dir = \"./gdrive/My Drive/NLU/Projects/project_2/data_pp_test/\""
   ]
  },
  {
   "cell_type": "code",
   "execution_count": 0,
   "metadata": {
    "id": "Ry8rj7rh3_QA",
    "colab_type": "code",
    "colab": {}
   },
   "outputs": [],
   "source": [
    "F"
   ]
  }
 ],
 "metadata": {
  "colab": {
   "name": "bert_sct _v2.ipynb",
   "version": "0.3.2",
   "provenance": [],
   "collapsed_sections": []
  },
  "language_info": {
   "codemirror_mode": {
    "name": "ipython",
    "version": 3
   },
   "file_extension": ".py",
   "mimetype": "text/x-python",
   "name": "python",
   "nbconvert_exporter": "python",
   "pygments_lexer": "ipython3",
   "version": "3.6.6"
  },
  "kernelspec": {
   "name": "python3",
   "display_name": "Python 3"
  },
  "accelerator": "GPU"
 },
 "nbformat": 4,
 "nbformat_minor": 0
}
