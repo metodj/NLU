{
 "cells": [
  {
   "cell_type": "code",
   "execution_count": 1,
   "metadata": {
    "colab": {
     "base_uri": "https://localhost:8080/",
     "height": 173
    },
    "colab_type": "code",
    "executionInfo": {
     "elapsed": 415527,
     "status": "ok",
     "timestamp": 1560027466263,
     "user": {
      "displayName": "Rok Šikonja",
      "photoUrl": "",
      "userId": "08390144229917873056"
     },
     "user_tz": -120
    },
    "id": "yecJhSfvrIxr",
    "outputId": "c8bf3bac-3584-4440-962e-b7c9483862f1"
   },
   "outputs": [
    {
     "name": "stderr",
     "output_type": "stream",
     "text": [
      "WARNING: Logging before flag parsing goes to stderr.\n",
      "W0608 20:50:51.723980 140290448865152 __init__.py:56] Some hub symbols are not available because TensorFlow version is less than 1.14\n"
     ]
    },
    {
     "name": "stdout",
     "output_type": "stream",
     "text": [
      "\u001b[?25l\r",
      "\u001b[K     |████▉                           | 10kB 6.3MB/s eta 0:00:01\r",
      "\u001b[K     |█████████▊                      | 20kB 2.2MB/s eta 0:00:01\r",
      "\u001b[K     |██████████████▋                 | 30kB 3.2MB/s eta 0:00:01\r",
      "\u001b[K     |███████████████████▍            | 40kB 2.1MB/s eta 0:00:01\r",
      "\u001b[K     |████████████████████████▎       | 51kB 2.6MB/s eta 0:00:01\r",
      "\u001b[K     |█████████████████████████████▏  | 61kB 3.0MB/s eta 0:00:01\r",
      "\u001b[K     |████████████████████████████████| 71kB 3.3MB/s \n",
      "\u001b[?25hGo to this URL in a browser: https://accounts.google.com/o/oauth2/auth?client_id=947318989803-6bn6qk8qdgf4n4g3pfee6491hc0brc4i.apps.googleusercontent.com&redirect_uri=urn%3Aietf%3Awg%3Aoauth%3A2.0%3Aoob&scope=email%20https%3A%2F%2Fwww.googleapis.com%2Fauth%2Fdocs.test%20https%3A%2F%2Fwww.googleapis.com%2Fauth%2Fdrive%20https%3A%2F%2Fwww.googleapis.com%2Fauth%2Fdrive.photos.readonly%20https%3A%2F%2Fwww.googleapis.com%2Fauth%2Fpeopleapi.readonly&response_type=code\n",
      "\n",
      "Enter your authorization code:\n",
      "··········\n",
      "Mounted at /content/gdrive/\n"
     ]
    }
   ],
   "source": [
    "from __future__ import absolute_import\n",
    "from __future__ import division\n",
    "from __future__ import print_function\n",
    "\n",
    "import sys\n",
    "import os\n",
    "import datetime\n",
    "\n",
    "import tensorflow as tf\n",
    "import tensorflow_hub as hub\n",
    "\n",
    "!pip install bert-tensorflow --quiet\n",
    "from bert import tokenization\n",
    "\n",
    "\n",
    "from google.colab import drive\n",
    "drive.mount('/content/gdrive/', force_remount=True)\n",
    "\n",
    "sys.path.append(\"./gdrive/My Drive/NLU/Projects/project_2/\")"
   ]
  },
  {
   "cell_type": "code",
   "execution_count": 0,
   "metadata": {
    "colab": {},
    "colab_type": "code",
    "id": "BRPZ9_J7sz6X"
   },
   "outputs": [],
   "source": [
    "flags = tf.flags\n",
    "FLAGS = flags.FLAGS\n",
    "\n",
    "flags.DEFINE_string(\"data_dir\", \"./gdrive/My Drive/NLU/Projects/project_2/data_pp/\", \n",
    "                    \"The input data dir. Should contain the .tsv files (or other data files).\")\n",
    "flags.DEFINE_string(\"output_dir\", \"./output_D/\", \"The output directory where the model checkpoints will be written.\")\n",
    "flags.DEFINE_string(\"results_dir\", \"./results_D/\", \"The output directory for result files.\")\n",
    "\n",
    "# Pretrained BERT from hub\n",
    "flags.DEFINE_string(\"bert_model_hub\", \"https://tfhub.dev/google/bert_uncased_L-12_H-768_A-12/1\", \"Pretrained BERT. (default)\")\n",
    "flags.DEFINE_string(\"bert_dir\", None, \"Local directory of pretrained BERT.\")\n",
    "flags.DEFINE_bool(\"bert_trainable\", True, \"Whether BERT weights are trainable.\")\n",
    "flags.DEFINE_string(\"init_checkpoint\", None, \"Initial checkpoint of BERT.\")\n",
    "\n",
    "# Pretrained Masked LM BERT\n",
    "# flags.DEFINE_string(\"bert_model_hub\", None, \"Pretrained BERT. (default)\")\n",
    "# flags.DEFINE_string(\"bert_dir\", \"./gdrive/My Drive/NLU/Projects/project_2/bert/\", \"Local directory of pretrained BERT.\")\n",
    "# flags.DEFINE_bool(\"bert_trainable\", True, \"Whether BERT weights are trainable.\")\n",
    "# flags.DEFINE_string(\"init_checkpoint\", \"./gdrive/My Drive/NLU/Projects/project_2/bert/bert_model.ckpt\", \"Initial checkpoint of BERT.\")\n",
    "# flags.DEFINE_string(\"init_checkpoint\", \"./gdrive/My Drive/NLU/Projects/project_2/bert_masked_lm_pp/\", \"Initial checkpoint of BERT.\")\n",
    "\n",
    "# Training or evaluation\n",
    "flags.DEFINE_bool(\"do_train\", True, \"Whether to run training.\")\n",
    "flags.DEFINE_bool(\"do_eval\", True, \"Whether to run eval on the dev set.\")\n",
    "flags.DEFINE_bool(\"do_predict\", True, \"Whether to run the model in inference mode on the test set.\")\n",
    "\n",
    "flags.DEFINE_integer(\"max_seq_length\", 400, \"Max. length after tokenization. If shorter padded, else truncated.\")\n",
    "flags.DEFINE_integer(\"batch_size\", 8, \"Total batch size for training.\")\n",
    "flags.DEFINE_float(\"learning_rate\", 2e-5, \"The initial learning rate for Adam.\")\n",
    "flags.DEFINE_float(\"num_train_epochs\", 3.0, \"Total number of training epochs to perform.\")\n",
    "flags.DEFINE_float(\"warmup_proportion\", 0.1, \"Proportion of training to perform linear learning rate warmup for.\")\n",
    "tf.app.flags.DEFINE_string('f', '', 'tensorflow bug')\n",
    "\n",
    "if not os.path.exists(FLAGS.output_dir):\n",
    "    os.makedirs(FLAGS.output_dir)\n",
    "    \n",
    "if not os.path.exists(FLAGS.results_dir):\n",
    "    os.makedirs(FLAGS.results_dir)\n",
    "    \n",
    "timestamp = datetime.datetime.now().strftime(\"%d_%H-%M\")\n",
    "\n",
    "from bert_sct_utils_v2 import create_tokenizer_from_hub_module, SctProcessor, get_config\n",
    "from bert_sct_utils_v2 import model_fn_builder, file_based_input_fn_builder, file_based_convert_examples_to_features"
   ]
  },
  {
   "cell_type": "code",
   "execution_count": 3,
   "metadata": {
    "colab": {
     "base_uri": "https://localhost:8080/",
     "height": 29991
    },
    "colab_type": "code",
    "executionInfo": {
     "elapsed": 6139069,
     "status": "error",
     "timestamp": 1560060210449,
     "user": {
      "displayName": "Rok Šikonja",
      "photoUrl": "",
      "userId": "08390144229917873056"
     },
     "user_tz": -120
    },
    "id": "ZXTiMQkFruBs",
    "outputId": "0d1c7d1d-cd63-41cd-c10d-168508de45d4"
   },
   "outputs": [
    {
     "name": "stdout",
     "output_type": "stream",
     "text": [
      "WARNING:tensorflow:From /usr/local/lib/python3.6/dist-packages/tensorflow/python/ops/control_flow_ops.py:3632: colocate_with (from tensorflow.python.framework.ops) is deprecated and will be removed in a future version.\n",
      "Instructions for updating:\n",
      "Colocations handled automatically by placer.\n"
     ]
    },
    {
     "name": "stderr",
     "output_type": "stream",
     "text": [
      "W0608 20:58:45.215811 140290448865152 deprecation.py:323] From /usr/local/lib/python3.6/dist-packages/tensorflow/python/ops/control_flow_ops.py:3632: colocate_with (from tensorflow.python.framework.ops) is deprecated and will be removed in a future version.\n",
      "Instructions for updating:\n",
      "Colocations handled automatically by placer.\n"
     ]
    },
    {
     "name": "stdout",
     "output_type": "stream",
     "text": [
      "INFO:tensorflow:Saver not created because there are no variables in the graph to restore\n"
     ]
    },
    {
     "name": "stderr",
     "output_type": "stream",
     "text": [
      "I0608 20:58:48.295953 140290448865152 saver.py:1483] Saver not created because there are no variables in the graph to restore\n"
     ]
    },
    {
     "name": "stdout",
     "output_type": "stream",
     "text": [
      "INFO:tensorflow:Using config: {'_model_dir': './output_D/', '_tf_random_seed': None, '_save_summary_steps': 10, '_save_checkpoints_steps': 1000, '_save_checkpoints_secs': None, '_session_config': allow_soft_placement: true\n",
      "graph_options {\n",
      "  rewrite_options {\n",
      "    meta_optimizer_iterations: ONE\n",
      "  }\n",
      "}\n",
      ", '_keep_checkpoint_max': 5, '_keep_checkpoint_every_n_hours': 10000, '_log_step_count_steps': 100, '_train_distribute': None, '_device_fn': None, '_protocol': None, '_eval_distribute': None, '_experimental_distribute': None, '_service': None, '_cluster_spec': <tensorflow.python.training.server_lib.ClusterSpec object at 0x7f974b04fe48>, '_task_type': 'worker', '_task_id': 0, '_global_id_in_cluster': 0, '_master': '', '_evaluation_master': '', '_is_chief': True, '_num_ps_replicas': 0, '_num_worker_replicas': 1}\n"
     ]
    },
    {
     "name": "stderr",
     "output_type": "stream",
     "text": [
      "I0608 20:58:56.684615 140290448865152 estimator.py:201] Using config: {'_model_dir': './output_D/', '_tf_random_seed': None, '_save_summary_steps': 10, '_save_checkpoints_steps': 1000, '_save_checkpoints_secs': None, '_session_config': allow_soft_placement: true\n",
      "graph_options {\n",
      "  rewrite_options {\n",
      "    meta_optimizer_iterations: ONE\n",
      "  }\n",
      "}\n",
      ", '_keep_checkpoint_max': 5, '_keep_checkpoint_every_n_hours': 10000, '_log_step_count_steps': 100, '_train_distribute': None, '_device_fn': None, '_protocol': None, '_eval_distribute': None, '_experimental_distribute': None, '_service': None, '_cluster_spec': <tensorflow.python.training.server_lib.ClusterSpec object at 0x7f974b04fe48>, '_task_type': 'worker', '_task_id': 0, '_global_id_in_cluster': 0, '_master': '', '_evaluation_master': '', '_is_chief': True, '_num_ps_replicas': 0, '_num_worker_replicas': 1}\n"
     ]
    },
    {
     "name": "stdout",
     "output_type": "stream",
     "text": [
      "INFO:tensorflow:Writing example 0 of 105000\n"
     ]
    },
    {
     "name": "stderr",
     "output_type": "stream",
     "text": [
      "I0608 20:58:59.263447 140290448865152 bert_sct_utils_v2.py:322] Writing example 0 of 105000\n"
     ]
    },
    {
     "name": "stdout",
     "output_type": "stream",
     "text": [
      "INFO:tensorflow:*** Example ***\n"
     ]
    },
    {
     "name": "stderr",
     "output_type": "stream",
     "text": [
      "I0608 20:58:59.268262 140290448865152 bert_sct_utils_v2.py:299] *** Example ***\n"
     ]
    },
    {
     "name": "stdout",
     "output_type": "stream",
     "text": [
      "INFO:tensorflow:unique_id: train-ffff61dd-c4e3-490e-99ea-bfda5a755946\n"
     ]
    },
    {
     "name": "stderr",
     "output_type": "stream",
     "text": [
      "I0608 20:58:59.273773 140290448865152 bert_sct_utils_v2.py:300] unique_id: train-ffff61dd-c4e3-490e-99ea-bfda5a755946\n"
     ]
    },
    {
     "name": "stdout",
     "output_type": "stream",
     "text": [
      "INFO:tensorflow:tokens: [CLS] i was on my way to work . suddenly , it started to rain . i had to walk for miles in the rain . i got closer to my work and it rained harder . [SEP] when i got to work , i was soaking wet . [SEP]\n"
     ]
    },
    {
     "name": "stderr",
     "output_type": "stream",
     "text": [
      "I0608 20:58:59.280788 140290448865152 bert_sct_utils_v2.py:301] tokens: [CLS] i was on my way to work . suddenly , it started to rain . i had to walk for miles in the rain . i got closer to my work and it rained harder . [SEP] when i got to work , i was soaking wet . [SEP]\n"
     ]
    },
    {
     "name": "stdout",
     "output_type": "stream",
     "text": [
      "INFO:tensorflow:input_ids: 101 1045 2001 2006 2026 2126 2000 2147 1012 3402 1010 2009 2318 2000 4542 1012 1045 2018 2000 3328 2005 2661 1999 1996 4542 1012 1045 2288 3553 2000 2026 2147 1998 2009 28270 6211 1012 102 2043 1045 2288 2000 2147 1010 1045 2001 22721 4954 1012 102 0 0 0 0 0 0 0 0 0 0 0 0 0 0 0 0 0 0 0 0 0 0 0 0 0 0 0 0 0 0 0 0 0 0 0 0 0 0 0 0 0 0 0 0 0 0 0 0 0 0 0 0 0 0 0 0 0 0 0 0 0 0 0 0 0 0 0 0 0 0 0 0 0 0 0 0 0 0 0 0 0 0 0 0 0 0 0 0 0 0 0 0 0 0 0 0 0 0 0 0 0 0 0 0 0 0 0 0 0 0 0 0 0 0 0 0 0 0 0 0 0 0 0 0 0 0 0 0 0 0 0 0 0 0 0 0 0 0 0 0 0 0 0 0 0 0 0 0 0 0 0 0 0 0 0 0 0 0 0 0 0 0 0 0 0 0 0 0 0 0 0 0 0 0 0 0 0 0 0 0 0 0 0 0 0 0 0 0 0 0 0 0 0 0 0 0 0 0 0 0 0 0 0 0 0 0 0 0 0 0 0 0 0 0 0 0 0 0 0 0 0 0 0 0 0 0 0 0 0 0 0 0 0 0 0 0 0 0 0 0 0 0 0 0 0 0 0 0 0 0 0 0 0 0 0 0 0 0 0 0 0 0 0 0 0 0 0 0 0 0 0 0 0 0 0 0 0 0 0 0 0 0 0 0 0 0 0 0 0 0 0 0 0 0 0 0 0 0 0 0 0 0 0 0 0 0 0 0 0 0 0 0 0 0 0 0 0 0 0 0 0 0 0 0 0 0 0 0 0 0 0 0 0 0 0 0 0 0 0 0 0 0 0 0 0 0 0 0 0 0\n"
     ]
    },
    {
     "name": "stderr",
     "output_type": "stream",
     "text": [
      "I0608 20:58:59.283356 140290448865152 bert_sct_utils_v2.py:302] input_ids: 101 1045 2001 2006 2026 2126 2000 2147 1012 3402 1010 2009 2318 2000 4542 1012 1045 2018 2000 3328 2005 2661 1999 1996 4542 1012 1045 2288 3553 2000 2026 2147 1998 2009 28270 6211 1012 102 2043 1045 2288 2000 2147 1010 1045 2001 22721 4954 1012 102 0 0 0 0 0 0 0 0 0 0 0 0 0 0 0 0 0 0 0 0 0 0 0 0 0 0 0 0 0 0 0 0 0 0 0 0 0 0 0 0 0 0 0 0 0 0 0 0 0 0 0 0 0 0 0 0 0 0 0 0 0 0 0 0 0 0 0 0 0 0 0 0 0 0 0 0 0 0 0 0 0 0 0 0 0 0 0 0 0 0 0 0 0 0 0 0 0 0 0 0 0 0 0 0 0 0 0 0 0 0 0 0 0 0 0 0 0 0 0 0 0 0 0 0 0 0 0 0 0 0 0 0 0 0 0 0 0 0 0 0 0 0 0 0 0 0 0 0 0 0 0 0 0 0 0 0 0 0 0 0 0 0 0 0 0 0 0 0 0 0 0 0 0 0 0 0 0 0 0 0 0 0 0 0 0 0 0 0 0 0 0 0 0 0 0 0 0 0 0 0 0 0 0 0 0 0 0 0 0 0 0 0 0 0 0 0 0 0 0 0 0 0 0 0 0 0 0 0 0 0 0 0 0 0 0 0 0 0 0 0 0 0 0 0 0 0 0 0 0 0 0 0 0 0 0 0 0 0 0 0 0 0 0 0 0 0 0 0 0 0 0 0 0 0 0 0 0 0 0 0 0 0 0 0 0 0 0 0 0 0 0 0 0 0 0 0 0 0 0 0 0 0 0 0 0 0 0 0 0 0 0 0 0 0 0 0 0 0 0 0 0 0 0 0 0 0 0 0 0 0 0 0 0 0 0 0 0 0 0 0 0 0 0 0 0 0 0 0 0 0\n"
     ]
    },
    {
     "name": "stdout",
     "output_type": "stream",
     "text": [
      "INFO:tensorflow:input_mask: 1 1 1 1 1 1 1 1 1 1 1 1 1 1 1 1 1 1 1 1 1 1 1 1 1 1 1 1 1 1 1 1 1 1 1 1 1 1 1 1 1 1 1 1 1 1 1 1 1 1 0 0 0 0 0 0 0 0 0 0 0 0 0 0 0 0 0 0 0 0 0 0 0 0 0 0 0 0 0 0 0 0 0 0 0 0 0 0 0 0 0 0 0 0 0 0 0 0 0 0 0 0 0 0 0 0 0 0 0 0 0 0 0 0 0 0 0 0 0 0 0 0 0 0 0 0 0 0 0 0 0 0 0 0 0 0 0 0 0 0 0 0 0 0 0 0 0 0 0 0 0 0 0 0 0 0 0 0 0 0 0 0 0 0 0 0 0 0 0 0 0 0 0 0 0 0 0 0 0 0 0 0 0 0 0 0 0 0 0 0 0 0 0 0 0 0 0 0 0 0 0 0 0 0 0 0 0 0 0 0 0 0 0 0 0 0 0 0 0 0 0 0 0 0 0 0 0 0 0 0 0 0 0 0 0 0 0 0 0 0 0 0 0 0 0 0 0 0 0 0 0 0 0 0 0 0 0 0 0 0 0 0 0 0 0 0 0 0 0 0 0 0 0 0 0 0 0 0 0 0 0 0 0 0 0 0 0 0 0 0 0 0 0 0 0 0 0 0 0 0 0 0 0 0 0 0 0 0 0 0 0 0 0 0 0 0 0 0 0 0 0 0 0 0 0 0 0 0 0 0 0 0 0 0 0 0 0 0 0 0 0 0 0 0 0 0 0 0 0 0 0 0 0 0 0 0 0 0 0 0 0 0 0 0 0 0 0 0 0 0 0 0 0 0 0 0 0 0 0 0 0 0 0 0 0 0 0 0 0 0 0 0 0 0 0 0 0 0 0 0\n"
     ]
    },
    {
     "name": "stderr",
     "output_type": "stream",
     "text": [
      "I0608 20:58:59.285477 140290448865152 bert_sct_utils_v2.py:303] input_mask: 1 1 1 1 1 1 1 1 1 1 1 1 1 1 1 1 1 1 1 1 1 1 1 1 1 1 1 1 1 1 1 1 1 1 1 1 1 1 1 1 1 1 1 1 1 1 1 1 1 1 0 0 0 0 0 0 0 0 0 0 0 0 0 0 0 0 0 0 0 0 0 0 0 0 0 0 0 0 0 0 0 0 0 0 0 0 0 0 0 0 0 0 0 0 0 0 0 0 0 0 0 0 0 0 0 0 0 0 0 0 0 0 0 0 0 0 0 0 0 0 0 0 0 0 0 0 0 0 0 0 0 0 0 0 0 0 0 0 0 0 0 0 0 0 0 0 0 0 0 0 0 0 0 0 0 0 0 0 0 0 0 0 0 0 0 0 0 0 0 0 0 0 0 0 0 0 0 0 0 0 0 0 0 0 0 0 0 0 0 0 0 0 0 0 0 0 0 0 0 0 0 0 0 0 0 0 0 0 0 0 0 0 0 0 0 0 0 0 0 0 0 0 0 0 0 0 0 0 0 0 0 0 0 0 0 0 0 0 0 0 0 0 0 0 0 0 0 0 0 0 0 0 0 0 0 0 0 0 0 0 0 0 0 0 0 0 0 0 0 0 0 0 0 0 0 0 0 0 0 0 0 0 0 0 0 0 0 0 0 0 0 0 0 0 0 0 0 0 0 0 0 0 0 0 0 0 0 0 0 0 0 0 0 0 0 0 0 0 0 0 0 0 0 0 0 0 0 0 0 0 0 0 0 0 0 0 0 0 0 0 0 0 0 0 0 0 0 0 0 0 0 0 0 0 0 0 0 0 0 0 0 0 0 0 0 0 0 0 0 0 0 0 0 0 0 0 0 0 0 0 0 0 0 0 0 0 0 0 0 0 0 0 0 0 0 0 0 0 0 0\n"
     ]
    },
    {
     "name": "stdout",
     "output_type": "stream",
     "text": [
      "INFO:tensorflow:segment_ids: 0 0 0 0 0 0 0 0 0 0 0 0 0 0 0 0 0 0 0 0 0 0 0 0 0 0 0 0 0 0 0 0 0 0 0 0 0 0 1 1 1 1 1 1 1 1 1 1 1 1 0 0 0 0 0 0 0 0 0 0 0 0 0 0 0 0 0 0 0 0 0 0 0 0 0 0 0 0 0 0 0 0 0 0 0 0 0 0 0 0 0 0 0 0 0 0 0 0 0 0 0 0 0 0 0 0 0 0 0 0 0 0 0 0 0 0 0 0 0 0 0 0 0 0 0 0 0 0 0 0 0 0 0 0 0 0 0 0 0 0 0 0 0 0 0 0 0 0 0 0 0 0 0 0 0 0 0 0 0 0 0 0 0 0 0 0 0 0 0 0 0 0 0 0 0 0 0 0 0 0 0 0 0 0 0 0 0 0 0 0 0 0 0 0 0 0 0 0 0 0 0 0 0 0 0 0 0 0 0 0 0 0 0 0 0 0 0 0 0 0 0 0 0 0 0 0 0 0 0 0 0 0 0 0 0 0 0 0 0 0 0 0 0 0 0 0 0 0 0 0 0 0 0 0 0 0 0 0 0 0 0 0 0 0 0 0 0 0 0 0 0 0 0 0 0 0 0 0 0 0 0 0 0 0 0 0 0 0 0 0 0 0 0 0 0 0 0 0 0 0 0 0 0 0 0 0 0 0 0 0 0 0 0 0 0 0 0 0 0 0 0 0 0 0 0 0 0 0 0 0 0 0 0 0 0 0 0 0 0 0 0 0 0 0 0 0 0 0 0 0 0 0 0 0 0 0 0 0 0 0 0 0 0 0 0 0 0 0 0 0 0 0 0 0 0 0 0 0 0 0 0 0 0 0 0 0 0 0 0 0 0 0 0 0 0 0 0 0 0 0\n"
     ]
    },
    {
     "name": "stderr",
     "output_type": "stream",
     "text": [
      "I0608 20:58:59.287189 140290448865152 bert_sct_utils_v2.py:304] segment_ids: 0 0 0 0 0 0 0 0 0 0 0 0 0 0 0 0 0 0 0 0 0 0 0 0 0 0 0 0 0 0 0 0 0 0 0 0 0 0 1 1 1 1 1 1 1 1 1 1 1 1 0 0 0 0 0 0 0 0 0 0 0 0 0 0 0 0 0 0 0 0 0 0 0 0 0 0 0 0 0 0 0 0 0 0 0 0 0 0 0 0 0 0 0 0 0 0 0 0 0 0 0 0 0 0 0 0 0 0 0 0 0 0 0 0 0 0 0 0 0 0 0 0 0 0 0 0 0 0 0 0 0 0 0 0 0 0 0 0 0 0 0 0 0 0 0 0 0 0 0 0 0 0 0 0 0 0 0 0 0 0 0 0 0 0 0 0 0 0 0 0 0 0 0 0 0 0 0 0 0 0 0 0 0 0 0 0 0 0 0 0 0 0 0 0 0 0 0 0 0 0 0 0 0 0 0 0 0 0 0 0 0 0 0 0 0 0 0 0 0 0 0 0 0 0 0 0 0 0 0 0 0 0 0 0 0 0 0 0 0 0 0 0 0 0 0 0 0 0 0 0 0 0 0 0 0 0 0 0 0 0 0 0 0 0 0 0 0 0 0 0 0 0 0 0 0 0 0 0 0 0 0 0 0 0 0 0 0 0 0 0 0 0 0 0 0 0 0 0 0 0 0 0 0 0 0 0 0 0 0 0 0 0 0 0 0 0 0 0 0 0 0 0 0 0 0 0 0 0 0 0 0 0 0 0 0 0 0 0 0 0 0 0 0 0 0 0 0 0 0 0 0 0 0 0 0 0 0 0 0 0 0 0 0 0 0 0 0 0 0 0 0 0 0 0 0 0 0 0 0 0 0 0 0 0 0 0 0 0 0 0 0 0 0 0 0 0 0 0 0 0\n"
     ]
    },
    {
     "name": "stdout",
     "output_type": "stream",
     "text": [
      "INFO:tensorflow:label: 1 (id = 1)\n"
     ]
    },
    {
     "name": "stderr",
     "output_type": "stream",
     "text": [
      "I0608 20:58:59.289148 140290448865152 bert_sct_utils_v2.py:305] label: 1 (id = 1)\n"
     ]
    },
    {
     "name": "stdout",
     "output_type": "stream",
     "text": [
      "INFO:tensorflow:sentiment: (20,), [0. 0. 1. 0. 0. 0. 1. 0. 0. 0. 1. 0. 0. 0. 1. 0. 0. 0. 1. 0.]\n"
     ]
    },
    {
     "name": "stderr",
     "output_type": "stream",
     "text": [
      "I0608 20:58:59.292230 140290448865152 bert_sct_utils_v2.py:306] sentiment: (20,), [0. 0. 1. 0. 0. 0. 1. 0. 0. 0. 1. 0. 0. 0. 1. 0. 0. 0. 1. 0.]\n"
     ]
    },
    {
     "name": "stdout",
     "output_type": "stream",
     "text": [
      "INFO:tensorflow:cs_dist: (4,), [1. 1. 1. 1.]\n"
     ]
    },
    {
     "name": "stderr",
     "output_type": "stream",
     "text": [
      "I0608 20:58:59.294241 140290448865152 bert_sct_utils_v2.py:307] cs_dist: (4,), [1. 1. 1. 1.]\n"
     ]
    },
    {
     "name": "stdout",
     "output_type": "stream",
     "text": [
      "INFO:tensorflow:*** Example ***\n"
     ]
    },
    {
     "name": "stderr",
     "output_type": "stream",
     "text": [
      "I0608 20:58:59.297147 140290448865152 bert_sct_utils_v2.py:299] *** Example ***\n"
     ]
    },
    {
     "name": "stdout",
     "output_type": "stream",
     "text": [
      "INFO:tensorflow:unique_id: train-ffff61dd-c4e3-490e-99ea-bfda5a755946\n"
     ]
    },
    {
     "name": "stderr",
     "output_type": "stream",
     "text": [
      "I0608 20:58:59.298940 140290448865152 bert_sct_utils_v2.py:300] unique_id: train-ffff61dd-c4e3-490e-99ea-bfda5a755946\n"
     ]
    },
    {
     "name": "stdout",
     "output_type": "stream",
     "text": [
      "INFO:tensorflow:tokens: [CLS] i was on my way to work . suddenly , it started to rain . i had to walk for miles in the rain . i got closer to my work and it rained harder . [SEP] kids loved when he came to parties . [SEP]\n"
     ]
    },
    {
     "name": "stderr",
     "output_type": "stream",
     "text": [
      "I0608 20:58:59.300630 140290448865152 bert_sct_utils_v2.py:301] tokens: [CLS] i was on my way to work . suddenly , it started to rain . i had to walk for miles in the rain . i got closer to my work and it rained harder . [SEP] kids loved when he came to parties . [SEP]\n"
     ]
    },
    {
     "name": "stdout",
     "output_type": "stream",
     "text": [
      "INFO:tensorflow:input_ids: 101 1045 2001 2006 2026 2126 2000 2147 1012 3402 1010 2009 2318 2000 4542 1012 1045 2018 2000 3328 2005 2661 1999 1996 4542 1012 1045 2288 3553 2000 2026 2147 1998 2009 28270 6211 1012 102 4268 3866 2043 2002 2234 2000 4243 1012 102 0 0 0 0 0 0 0 0 0 0 0 0 0 0 0 0 0 0 0 0 0 0 0 0 0 0 0 0 0 0 0 0 0 0 0 0 0 0 0 0 0 0 0 0 0 0 0 0 0 0 0 0 0 0 0 0 0 0 0 0 0 0 0 0 0 0 0 0 0 0 0 0 0 0 0 0 0 0 0 0 0 0 0 0 0 0 0 0 0 0 0 0 0 0 0 0 0 0 0 0 0 0 0 0 0 0 0 0 0 0 0 0 0 0 0 0 0 0 0 0 0 0 0 0 0 0 0 0 0 0 0 0 0 0 0 0 0 0 0 0 0 0 0 0 0 0 0 0 0 0 0 0 0 0 0 0 0 0 0 0 0 0 0 0 0 0 0 0 0 0 0 0 0 0 0 0 0 0 0 0 0 0 0 0 0 0 0 0 0 0 0 0 0 0 0 0 0 0 0 0 0 0 0 0 0 0 0 0 0 0 0 0 0 0 0 0 0 0 0 0 0 0 0 0 0 0 0 0 0 0 0 0 0 0 0 0 0 0 0 0 0 0 0 0 0 0 0 0 0 0 0 0 0 0 0 0 0 0 0 0 0 0 0 0 0 0 0 0 0 0 0 0 0 0 0 0 0 0 0 0 0 0 0 0 0 0 0 0 0 0 0 0 0 0 0 0 0 0 0 0 0 0 0 0 0 0 0 0 0 0 0 0 0 0 0 0 0 0 0 0 0 0 0 0 0 0 0 0 0 0 0 0 0 0 0 0 0 0 0 0 0 0 0 0 0 0 0 0 0 0 0 0 0\n"
     ]
    },
    {
     "name": "stderr",
     "output_type": "stream",
     "text": [
      "I0608 20:58:59.302414 140290448865152 bert_sct_utils_v2.py:302] input_ids: 101 1045 2001 2006 2026 2126 2000 2147 1012 3402 1010 2009 2318 2000 4542 1012 1045 2018 2000 3328 2005 2661 1999 1996 4542 1012 1045 2288 3553 2000 2026 2147 1998 2009 28270 6211 1012 102 4268 3866 2043 2002 2234 2000 4243 1012 102 0 0 0 0 0 0 0 0 0 0 0 0 0 0 0 0 0 0 0 0 0 0 0 0 0 0 0 0 0 0 0 0 0 0 0 0 0 0 0 0 0 0 0 0 0 0 0 0 0 0 0 0 0 0 0 0 0 0 0 0 0 0 0 0 0 0 0 0 0 0 0 0 0 0 0 0 0 0 0 0 0 0 0 0 0 0 0 0 0 0 0 0 0 0 0 0 0 0 0 0 0 0 0 0 0 0 0 0 0 0 0 0 0 0 0 0 0 0 0 0 0 0 0 0 0 0 0 0 0 0 0 0 0 0 0 0 0 0 0 0 0 0 0 0 0 0 0 0 0 0 0 0 0 0 0 0 0 0 0 0 0 0 0 0 0 0 0 0 0 0 0 0 0 0 0 0 0 0 0 0 0 0 0 0 0 0 0 0 0 0 0 0 0 0 0 0 0 0 0 0 0 0 0 0 0 0 0 0 0 0 0 0 0 0 0 0 0 0 0 0 0 0 0 0 0 0 0 0 0 0 0 0 0 0 0 0 0 0 0 0 0 0 0 0 0 0 0 0 0 0 0 0 0 0 0 0 0 0 0 0 0 0 0 0 0 0 0 0 0 0 0 0 0 0 0 0 0 0 0 0 0 0 0 0 0 0 0 0 0 0 0 0 0 0 0 0 0 0 0 0 0 0 0 0 0 0 0 0 0 0 0 0 0 0 0 0 0 0 0 0 0 0 0 0 0 0 0 0 0 0 0 0 0 0 0 0 0 0 0 0 0 0 0 0 0 0 0 0 0 0 0 0 0\n"
     ]
    },
    {
     "name": "stdout",
     "output_type": "stream",
     "text": [
      "INFO:tensorflow:input_mask: 1 1 1 1 1 1 1 1 1 1 1 1 1 1 1 1 1 1 1 1 1 1 1 1 1 1 1 1 1 1 1 1 1 1 1 1 1 1 1 1 1 1 1 1 1 1 1 0 0 0 0 0 0 0 0 0 0 0 0 0 0 0 0 0 0 0 0 0 0 0 0 0 0 0 0 0 0 0 0 0 0 0 0 0 0 0 0 0 0 0 0 0 0 0 0 0 0 0 0 0 0 0 0 0 0 0 0 0 0 0 0 0 0 0 0 0 0 0 0 0 0 0 0 0 0 0 0 0 0 0 0 0 0 0 0 0 0 0 0 0 0 0 0 0 0 0 0 0 0 0 0 0 0 0 0 0 0 0 0 0 0 0 0 0 0 0 0 0 0 0 0 0 0 0 0 0 0 0 0 0 0 0 0 0 0 0 0 0 0 0 0 0 0 0 0 0 0 0 0 0 0 0 0 0 0 0 0 0 0 0 0 0 0 0 0 0 0 0 0 0 0 0 0 0 0 0 0 0 0 0 0 0 0 0 0 0 0 0 0 0 0 0 0 0 0 0 0 0 0 0 0 0 0 0 0 0 0 0 0 0 0 0 0 0 0 0 0 0 0 0 0 0 0 0 0 0 0 0 0 0 0 0 0 0 0 0 0 0 0 0 0 0 0 0 0 0 0 0 0 0 0 0 0 0 0 0 0 0 0 0 0 0 0 0 0 0 0 0 0 0 0 0 0 0 0 0 0 0 0 0 0 0 0 0 0 0 0 0 0 0 0 0 0 0 0 0 0 0 0 0 0 0 0 0 0 0 0 0 0 0 0 0 0 0 0 0 0 0 0 0 0 0 0 0 0 0 0 0 0 0 0 0 0 0 0 0 0 0 0 0 0 0 0 0 0 0 0 0 0 0\n"
     ]
    },
    {
     "name": "stderr",
     "output_type": "stream",
     "text": [
      "I0608 20:58:59.304354 140290448865152 bert_sct_utils_v2.py:303] input_mask: 1 1 1 1 1 1 1 1 1 1 1 1 1 1 1 1 1 1 1 1 1 1 1 1 1 1 1 1 1 1 1 1 1 1 1 1 1 1 1 1 1 1 1 1 1 1 1 0 0 0 0 0 0 0 0 0 0 0 0 0 0 0 0 0 0 0 0 0 0 0 0 0 0 0 0 0 0 0 0 0 0 0 0 0 0 0 0 0 0 0 0 0 0 0 0 0 0 0 0 0 0 0 0 0 0 0 0 0 0 0 0 0 0 0 0 0 0 0 0 0 0 0 0 0 0 0 0 0 0 0 0 0 0 0 0 0 0 0 0 0 0 0 0 0 0 0 0 0 0 0 0 0 0 0 0 0 0 0 0 0 0 0 0 0 0 0 0 0 0 0 0 0 0 0 0 0 0 0 0 0 0 0 0 0 0 0 0 0 0 0 0 0 0 0 0 0 0 0 0 0 0 0 0 0 0 0 0 0 0 0 0 0 0 0 0 0 0 0 0 0 0 0 0 0 0 0 0 0 0 0 0 0 0 0 0 0 0 0 0 0 0 0 0 0 0 0 0 0 0 0 0 0 0 0 0 0 0 0 0 0 0 0 0 0 0 0 0 0 0 0 0 0 0 0 0 0 0 0 0 0 0 0 0 0 0 0 0 0 0 0 0 0 0 0 0 0 0 0 0 0 0 0 0 0 0 0 0 0 0 0 0 0 0 0 0 0 0 0 0 0 0 0 0 0 0 0 0 0 0 0 0 0 0 0 0 0 0 0 0 0 0 0 0 0 0 0 0 0 0 0 0 0 0 0 0 0 0 0 0 0 0 0 0 0 0 0 0 0 0 0 0 0 0 0 0 0 0 0 0 0 0 0 0 0 0 0 0 0 0 0 0 0 0 0 0 0 0 0 0 0\n"
     ]
    },
    {
     "name": "stdout",
     "output_type": "stream",
     "text": [
      "INFO:tensorflow:segment_ids: 0 0 0 0 0 0 0 0 0 0 0 0 0 0 0 0 0 0 0 0 0 0 0 0 0 0 0 0 0 0 0 0 0 0 0 0 0 0 1 1 1 1 1 1 1 1 1 0 0 0 0 0 0 0 0 0 0 0 0 0 0 0 0 0 0 0 0 0 0 0 0 0 0 0 0 0 0 0 0 0 0 0 0 0 0 0 0 0 0 0 0 0 0 0 0 0 0 0 0 0 0 0 0 0 0 0 0 0 0 0 0 0 0 0 0 0 0 0 0 0 0 0 0 0 0 0 0 0 0 0 0 0 0 0 0 0 0 0 0 0 0 0 0 0 0 0 0 0 0 0 0 0 0 0 0 0 0 0 0 0 0 0 0 0 0 0 0 0 0 0 0 0 0 0 0 0 0 0 0 0 0 0 0 0 0 0 0 0 0 0 0 0 0 0 0 0 0 0 0 0 0 0 0 0 0 0 0 0 0 0 0 0 0 0 0 0 0 0 0 0 0 0 0 0 0 0 0 0 0 0 0 0 0 0 0 0 0 0 0 0 0 0 0 0 0 0 0 0 0 0 0 0 0 0 0 0 0 0 0 0 0 0 0 0 0 0 0 0 0 0 0 0 0 0 0 0 0 0 0 0 0 0 0 0 0 0 0 0 0 0 0 0 0 0 0 0 0 0 0 0 0 0 0 0 0 0 0 0 0 0 0 0 0 0 0 0 0 0 0 0 0 0 0 0 0 0 0 0 0 0 0 0 0 0 0 0 0 0 0 0 0 0 0 0 0 0 0 0 0 0 0 0 0 0 0 0 0 0 0 0 0 0 0 0 0 0 0 0 0 0 0 0 0 0 0 0 0 0 0 0 0 0 0 0 0 0 0 0 0 0 0 0 0 0 0 0 0 0 0 0\n"
     ]
    },
    {
     "name": "stderr",
     "output_type": "stream",
     "text": [
      "I0608 20:58:59.306244 140290448865152 bert_sct_utils_v2.py:304] segment_ids: 0 0 0 0 0 0 0 0 0 0 0 0 0 0 0 0 0 0 0 0 0 0 0 0 0 0 0 0 0 0 0 0 0 0 0 0 0 0 1 1 1 1 1 1 1 1 1 0 0 0 0 0 0 0 0 0 0 0 0 0 0 0 0 0 0 0 0 0 0 0 0 0 0 0 0 0 0 0 0 0 0 0 0 0 0 0 0 0 0 0 0 0 0 0 0 0 0 0 0 0 0 0 0 0 0 0 0 0 0 0 0 0 0 0 0 0 0 0 0 0 0 0 0 0 0 0 0 0 0 0 0 0 0 0 0 0 0 0 0 0 0 0 0 0 0 0 0 0 0 0 0 0 0 0 0 0 0 0 0 0 0 0 0 0 0 0 0 0 0 0 0 0 0 0 0 0 0 0 0 0 0 0 0 0 0 0 0 0 0 0 0 0 0 0 0 0 0 0 0 0 0 0 0 0 0 0 0 0 0 0 0 0 0 0 0 0 0 0 0 0 0 0 0 0 0 0 0 0 0 0 0 0 0 0 0 0 0 0 0 0 0 0 0 0 0 0 0 0 0 0 0 0 0 0 0 0 0 0 0 0 0 0 0 0 0 0 0 0 0 0 0 0 0 0 0 0 0 0 0 0 0 0 0 0 0 0 0 0 0 0 0 0 0 0 0 0 0 0 0 0 0 0 0 0 0 0 0 0 0 0 0 0 0 0 0 0 0 0 0 0 0 0 0 0 0 0 0 0 0 0 0 0 0 0 0 0 0 0 0 0 0 0 0 0 0 0 0 0 0 0 0 0 0 0 0 0 0 0 0 0 0 0 0 0 0 0 0 0 0 0 0 0 0 0 0 0 0 0 0 0 0 0 0 0 0 0 0 0 0 0 0 0 0 0 0 0 0 0 0 0\n"
     ]
    },
    {
     "name": "stdout",
     "output_type": "stream",
     "text": [
      "INFO:tensorflow:label: 0 (id = 0)\n"
     ]
    },
    {
     "name": "stderr",
     "output_type": "stream",
     "text": [
      "I0608 20:58:59.307923 140290448865152 bert_sct_utils_v2.py:305] label: 0 (id = 0)\n"
     ]
    },
    {
     "name": "stdout",
     "output_type": "stream",
     "text": [
      "INFO:tensorflow:sentiment: (20,), [0.    0.    1.    0.    0.    0.    1.    0.    0.    0.    1.    0.\n",
      " 0.    0.    1.    0.    0.765 0.    0.431 0.569]\n"
     ]
    },
    {
     "name": "stderr",
     "output_type": "stream",
     "text": [
      "I0608 20:58:59.310030 140290448865152 bert_sct_utils_v2.py:306] sentiment: (20,), [0.    0.    1.    0.    0.    0.    1.    0.    0.    0.    1.    0.\n",
      " 0.    0.    1.    0.    0.765 0.    0.431 0.569]\n"
     ]
    },
    {
     "name": "stdout",
     "output_type": "stream",
     "text": [
      "INFO:tensorflow:cs_dist: (4,), [-1. -1. -1. -1.]\n"
     ]
    },
    {
     "name": "stderr",
     "output_type": "stream",
     "text": [
      "I0608 20:58:59.312187 140290448865152 bert_sct_utils_v2.py:307] cs_dist: (4,), [-1. -1. -1. -1.]\n"
     ]
    },
    {
     "name": "stdout",
     "output_type": "stream",
     "text": [
      "INFO:tensorflow:*** Example ***\n"
     ]
    },
    {
     "name": "stderr",
     "output_type": "stream",
     "text": [
      "I0608 20:58:59.317101 140290448865152 bert_sct_utils_v2.py:299] *** Example ***\n"
     ]
    },
    {
     "name": "stdout",
     "output_type": "stream",
     "text": [
      "INFO:tensorflow:unique_id: train-ffff01c1-69ec-412c-a9a0-15a57f5e79f1\n"
     ]
    },
    {
     "name": "stderr",
     "output_type": "stream",
     "text": [
      "I0608 20:58:59.318693 140290448865152 bert_sct_utils_v2.py:300] unique_id: train-ffff01c1-69ec-412c-a9a0-15a57f5e79f1\n"
     ]
    },
    {
     "name": "stdout",
     "output_type": "stream",
     "text": [
      "INFO:tensorflow:tokens: [CLS] i collect press photos of chinatown ##s . last week i saw a photo of a store in boston ' s chinatown . i made an offer of $ 10 . it was accepted . [SEP] i got the photo a few days ago and was happy . [SEP]\n"
     ]
    },
    {
     "name": "stderr",
     "output_type": "stream",
     "text": [
      "I0608 20:58:59.320421 140290448865152 bert_sct_utils_v2.py:301] tokens: [CLS] i collect press photos of chinatown ##s . last week i saw a photo of a store in boston ' s chinatown . i made an offer of $ 10 . it was accepted . [SEP] i got the photo a few days ago and was happy . [SEP]\n"
     ]
    },
    {
     "name": "stdout",
     "output_type": "stream",
     "text": [
      "INFO:tensorflow:input_ids: 101 1045 8145 2811 7760 1997 22321 2015 1012 2197 2733 1045 2387 1037 6302 1997 1037 3573 1999 3731 1005 1055 22321 1012 1045 2081 2019 3749 1997 1002 2184 1012 2009 2001 3970 1012 102 1045 2288 1996 6302 1037 2261 2420 3283 1998 2001 3407 1012 102 0 0 0 0 0 0 0 0 0 0 0 0 0 0 0 0 0 0 0 0 0 0 0 0 0 0 0 0 0 0 0 0 0 0 0 0 0 0 0 0 0 0 0 0 0 0 0 0 0 0 0 0 0 0 0 0 0 0 0 0 0 0 0 0 0 0 0 0 0 0 0 0 0 0 0 0 0 0 0 0 0 0 0 0 0 0 0 0 0 0 0 0 0 0 0 0 0 0 0 0 0 0 0 0 0 0 0 0 0 0 0 0 0 0 0 0 0 0 0 0 0 0 0 0 0 0 0 0 0 0 0 0 0 0 0 0 0 0 0 0 0 0 0 0 0 0 0 0 0 0 0 0 0 0 0 0 0 0 0 0 0 0 0 0 0 0 0 0 0 0 0 0 0 0 0 0 0 0 0 0 0 0 0 0 0 0 0 0 0 0 0 0 0 0 0 0 0 0 0 0 0 0 0 0 0 0 0 0 0 0 0 0 0 0 0 0 0 0 0 0 0 0 0 0 0 0 0 0 0 0 0 0 0 0 0 0 0 0 0 0 0 0 0 0 0 0 0 0 0 0 0 0 0 0 0 0 0 0 0 0 0 0 0 0 0 0 0 0 0 0 0 0 0 0 0 0 0 0 0 0 0 0 0 0 0 0 0 0 0 0 0 0 0 0 0 0 0 0 0 0 0 0 0 0 0 0 0 0 0 0 0 0 0 0 0 0 0 0 0 0 0 0 0 0 0 0 0 0 0 0 0 0 0 0 0 0 0 0 0 0 0 0 0 0 0 0 0 0 0 0\n"
     ]
    },
    {
     "name": "stderr",
     "output_type": "stream",
     "text": [
      "I0608 20:58:59.322304 140290448865152 bert_sct_utils_v2.py:302] input_ids: 101 1045 8145 2811 7760 1997 22321 2015 1012 2197 2733 1045 2387 1037 6302 1997 1037 3573 1999 3731 1005 1055 22321 1012 1045 2081 2019 3749 1997 1002 2184 1012 2009 2001 3970 1012 102 1045 2288 1996 6302 1037 2261 2420 3283 1998 2001 3407 1012 102 0 0 0 0 0 0 0 0 0 0 0 0 0 0 0 0 0 0 0 0 0 0 0 0 0 0 0 0 0 0 0 0 0 0 0 0 0 0 0 0 0 0 0 0 0 0 0 0 0 0 0 0 0 0 0 0 0 0 0 0 0 0 0 0 0 0 0 0 0 0 0 0 0 0 0 0 0 0 0 0 0 0 0 0 0 0 0 0 0 0 0 0 0 0 0 0 0 0 0 0 0 0 0 0 0 0 0 0 0 0 0 0 0 0 0 0 0 0 0 0 0 0 0 0 0 0 0 0 0 0 0 0 0 0 0 0 0 0 0 0 0 0 0 0 0 0 0 0 0 0 0 0 0 0 0 0 0 0 0 0 0 0 0 0 0 0 0 0 0 0 0 0 0 0 0 0 0 0 0 0 0 0 0 0 0 0 0 0 0 0 0 0 0 0 0 0 0 0 0 0 0 0 0 0 0 0 0 0 0 0 0 0 0 0 0 0 0 0 0 0 0 0 0 0 0 0 0 0 0 0 0 0 0 0 0 0 0 0 0 0 0 0 0 0 0 0 0 0 0 0 0 0 0 0 0 0 0 0 0 0 0 0 0 0 0 0 0 0 0 0 0 0 0 0 0 0 0 0 0 0 0 0 0 0 0 0 0 0 0 0 0 0 0 0 0 0 0 0 0 0 0 0 0 0 0 0 0 0 0 0 0 0 0 0 0 0 0 0 0 0 0 0 0 0 0 0 0 0 0 0 0 0 0 0 0 0 0 0 0 0 0 0 0 0 0 0 0 0 0 0\n"
     ]
    },
    {
     "name": "stdout",
     "output_type": "stream",
     "text": [
      "INFO:tensorflow:input_mask: 1 1 1 1 1 1 1 1 1 1 1 1 1 1 1 1 1 1 1 1 1 1 1 1 1 1 1 1 1 1 1 1 1 1 1 1 1 1 1 1 1 1 1 1 1 1 1 1 1 1 0 0 0 0 0 0 0 0 0 0 0 0 0 0 0 0 0 0 0 0 0 0 0 0 0 0 0 0 0 0 0 0 0 0 0 0 0 0 0 0 0 0 0 0 0 0 0 0 0 0 0 0 0 0 0 0 0 0 0 0 0 0 0 0 0 0 0 0 0 0 0 0 0 0 0 0 0 0 0 0 0 0 0 0 0 0 0 0 0 0 0 0 0 0 0 0 0 0 0 0 0 0 0 0 0 0 0 0 0 0 0 0 0 0 0 0 0 0 0 0 0 0 0 0 0 0 0 0 0 0 0 0 0 0 0 0 0 0 0 0 0 0 0 0 0 0 0 0 0 0 0 0 0 0 0 0 0 0 0 0 0 0 0 0 0 0 0 0 0 0 0 0 0 0 0 0 0 0 0 0 0 0 0 0 0 0 0 0 0 0 0 0 0 0 0 0 0 0 0 0 0 0 0 0 0 0 0 0 0 0 0 0 0 0 0 0 0 0 0 0 0 0 0 0 0 0 0 0 0 0 0 0 0 0 0 0 0 0 0 0 0 0 0 0 0 0 0 0 0 0 0 0 0 0 0 0 0 0 0 0 0 0 0 0 0 0 0 0 0 0 0 0 0 0 0 0 0 0 0 0 0 0 0 0 0 0 0 0 0 0 0 0 0 0 0 0 0 0 0 0 0 0 0 0 0 0 0 0 0 0 0 0 0 0 0 0 0 0 0 0 0 0 0 0 0 0 0 0 0 0 0 0 0 0 0 0 0 0 0 0 0 0 0 0 0 0 0 0 0 0\n"
     ]
    },
    {
     "name": "stderr",
     "output_type": "stream",
     "text": [
      "I0608 20:58:59.324102 140290448865152 bert_sct_utils_v2.py:303] input_mask: 1 1 1 1 1 1 1 1 1 1 1 1 1 1 1 1 1 1 1 1 1 1 1 1 1 1 1 1 1 1 1 1 1 1 1 1 1 1 1 1 1 1 1 1 1 1 1 1 1 1 0 0 0 0 0 0 0 0 0 0 0 0 0 0 0 0 0 0 0 0 0 0 0 0 0 0 0 0 0 0 0 0 0 0 0 0 0 0 0 0 0 0 0 0 0 0 0 0 0 0 0 0 0 0 0 0 0 0 0 0 0 0 0 0 0 0 0 0 0 0 0 0 0 0 0 0 0 0 0 0 0 0 0 0 0 0 0 0 0 0 0 0 0 0 0 0 0 0 0 0 0 0 0 0 0 0 0 0 0 0 0 0 0 0 0 0 0 0 0 0 0 0 0 0 0 0 0 0 0 0 0 0 0 0 0 0 0 0 0 0 0 0 0 0 0 0 0 0 0 0 0 0 0 0 0 0 0 0 0 0 0 0 0 0 0 0 0 0 0 0 0 0 0 0 0 0 0 0 0 0 0 0 0 0 0 0 0 0 0 0 0 0 0 0 0 0 0 0 0 0 0 0 0 0 0 0 0 0 0 0 0 0 0 0 0 0 0 0 0 0 0 0 0 0 0 0 0 0 0 0 0 0 0 0 0 0 0 0 0 0 0 0 0 0 0 0 0 0 0 0 0 0 0 0 0 0 0 0 0 0 0 0 0 0 0 0 0 0 0 0 0 0 0 0 0 0 0 0 0 0 0 0 0 0 0 0 0 0 0 0 0 0 0 0 0 0 0 0 0 0 0 0 0 0 0 0 0 0 0 0 0 0 0 0 0 0 0 0 0 0 0 0 0 0 0 0 0 0 0 0 0 0 0 0 0 0 0 0 0 0 0 0 0 0 0 0 0 0 0 0\n"
     ]
    },
    {
     "name": "stdout",
     "output_type": "stream",
     "text": [
      "INFO:tensorflow:segment_ids: 0 0 0 0 0 0 0 0 0 0 0 0 0 0 0 0 0 0 0 0 0 0 0 0 0 0 0 0 0 0 0 0 0 0 0 0 0 1 1 1 1 1 1 1 1 1 1 1 1 1 0 0 0 0 0 0 0 0 0 0 0 0 0 0 0 0 0 0 0 0 0 0 0 0 0 0 0 0 0 0 0 0 0 0 0 0 0 0 0 0 0 0 0 0 0 0 0 0 0 0 0 0 0 0 0 0 0 0 0 0 0 0 0 0 0 0 0 0 0 0 0 0 0 0 0 0 0 0 0 0 0 0 0 0 0 0 0 0 0 0 0 0 0 0 0 0 0 0 0 0 0 0 0 0 0 0 0 0 0 0 0 0 0 0 0 0 0 0 0 0 0 0 0 0 0 0 0 0 0 0 0 0 0 0 0 0 0 0 0 0 0 0 0 0 0 0 0 0 0 0 0 0 0 0 0 0 0 0 0 0 0 0 0 0 0 0 0 0 0 0 0 0 0 0 0 0 0 0 0 0 0 0 0 0 0 0 0 0 0 0 0 0 0 0 0 0 0 0 0 0 0 0 0 0 0 0 0 0 0 0 0 0 0 0 0 0 0 0 0 0 0 0 0 0 0 0 0 0 0 0 0 0 0 0 0 0 0 0 0 0 0 0 0 0 0 0 0 0 0 0 0 0 0 0 0 0 0 0 0 0 0 0 0 0 0 0 0 0 0 0 0 0 0 0 0 0 0 0 0 0 0 0 0 0 0 0 0 0 0 0 0 0 0 0 0 0 0 0 0 0 0 0 0 0 0 0 0 0 0 0 0 0 0 0 0 0 0 0 0 0 0 0 0 0 0 0 0 0 0 0 0 0 0 0 0 0 0 0 0 0 0 0 0 0 0 0 0 0 0 0\n"
     ]
    },
    {
     "name": "stderr",
     "output_type": "stream",
     "text": [
      "I0608 20:58:59.325834 140290448865152 bert_sct_utils_v2.py:304] segment_ids: 0 0 0 0 0 0 0 0 0 0 0 0 0 0 0 0 0 0 0 0 0 0 0 0 0 0 0 0 0 0 0 0 0 0 0 0 0 1 1 1 1 1 1 1 1 1 1 1 1 1 0 0 0 0 0 0 0 0 0 0 0 0 0 0 0 0 0 0 0 0 0 0 0 0 0 0 0 0 0 0 0 0 0 0 0 0 0 0 0 0 0 0 0 0 0 0 0 0 0 0 0 0 0 0 0 0 0 0 0 0 0 0 0 0 0 0 0 0 0 0 0 0 0 0 0 0 0 0 0 0 0 0 0 0 0 0 0 0 0 0 0 0 0 0 0 0 0 0 0 0 0 0 0 0 0 0 0 0 0 0 0 0 0 0 0 0 0 0 0 0 0 0 0 0 0 0 0 0 0 0 0 0 0 0 0 0 0 0 0 0 0 0 0 0 0 0 0 0 0 0 0 0 0 0 0 0 0 0 0 0 0 0 0 0 0 0 0 0 0 0 0 0 0 0 0 0 0 0 0 0 0 0 0 0 0 0 0 0 0 0 0 0 0 0 0 0 0 0 0 0 0 0 0 0 0 0 0 0 0 0 0 0 0 0 0 0 0 0 0 0 0 0 0 0 0 0 0 0 0 0 0 0 0 0 0 0 0 0 0 0 0 0 0 0 0 0 0 0 0 0 0 0 0 0 0 0 0 0 0 0 0 0 0 0 0 0 0 0 0 0 0 0 0 0 0 0 0 0 0 0 0 0 0 0 0 0 0 0 0 0 0 0 0 0 0 0 0 0 0 0 0 0 0 0 0 0 0 0 0 0 0 0 0 0 0 0 0 0 0 0 0 0 0 0 0 0 0 0 0 0 0 0 0 0 0 0 0 0 0 0 0 0 0 0 0 0 0 0 0 0\n"
     ]
    },
    {
     "name": "stdout",
     "output_type": "stream",
     "text": [
      "INFO:tensorflow:label: 1 (id = 1)\n"
     ]
    },
    {
     "name": "stderr",
     "output_type": "stream",
     "text": [
      "I0608 20:58:59.327419 140290448865152 bert_sct_utils_v2.py:305] label: 1 (id = 1)\n"
     ]
    },
    {
     "name": "stdout",
     "output_type": "stream",
     "text": [
      "INFO:tensorflow:sentiment: (20,), [0.     0.     1.     0.     0.     0.     1.     0.     0.     0.\n",
      " 1.     0.     0.2732 0.     0.488  0.512  0.5719 0.     0.684  0.316 ]\n"
     ]
    },
    {
     "name": "stderr",
     "output_type": "stream",
     "text": [
      "I0608 20:58:59.329679 140290448865152 bert_sct_utils_v2.py:306] sentiment: (20,), [0.     0.     1.     0.     0.     0.     1.     0.     0.     0.\n",
      " 1.     0.     0.2732 0.     0.488  0.512  0.5719 0.     0.684  0.316 ]\n"
     ]
    },
    {
     "name": "stdout",
     "output_type": "stream",
     "text": [
      "INFO:tensorflow:cs_dist: (4,), [1. 1. 1. 1.]\n"
     ]
    },
    {
     "name": "stderr",
     "output_type": "stream",
     "text": [
      "I0608 20:58:59.331535 140290448865152 bert_sct_utils_v2.py:307] cs_dist: (4,), [1. 1. 1. 1.]\n"
     ]
    },
    {
     "name": "stdout",
     "output_type": "stream",
     "text": [
      "INFO:tensorflow:*** Example ***\n"
     ]
    },
    {
     "name": "stderr",
     "output_type": "stream",
     "text": [
      "I0608 20:58:59.334222 140290448865152 bert_sct_utils_v2.py:299] *** Example ***\n"
     ]
    },
    {
     "name": "stdout",
     "output_type": "stream",
     "text": [
      "INFO:tensorflow:unique_id: train-ffff01c1-69ec-412c-a9a0-15a57f5e79f1\n"
     ]
    },
    {
     "name": "stderr",
     "output_type": "stream",
     "text": [
      "I0608 20:58:59.336002 140290448865152 bert_sct_utils_v2.py:300] unique_id: train-ffff01c1-69ec-412c-a9a0-15a57f5e79f1\n"
     ]
    },
    {
     "name": "stdout",
     "output_type": "stream",
     "text": [
      "INFO:tensorflow:tokens: [CLS] i collect press photos of chinatown ##s . last week i saw a photo of a store in boston ' s chinatown . i made an offer of $ 10 . it was accepted . [SEP] i took many notes . [SEP]\n"
     ]
    },
    {
     "name": "stderr",
     "output_type": "stream",
     "text": [
      "I0608 20:58:59.337764 140290448865152 bert_sct_utils_v2.py:301] tokens: [CLS] i collect press photos of chinatown ##s . last week i saw a photo of a store in boston ' s chinatown . i made an offer of $ 10 . it was accepted . [SEP] i took many notes . [SEP]\n"
     ]
    },
    {
     "name": "stdout",
     "output_type": "stream",
     "text": [
      "INFO:tensorflow:input_ids: 101 1045 8145 2811 7760 1997 22321 2015 1012 2197 2733 1045 2387 1037 6302 1997 1037 3573 1999 3731 1005 1055 22321 1012 1045 2081 2019 3749 1997 1002 2184 1012 2009 2001 3970 1012 102 1045 2165 2116 3964 1012 102 0 0 0 0 0 0 0 0 0 0 0 0 0 0 0 0 0 0 0 0 0 0 0 0 0 0 0 0 0 0 0 0 0 0 0 0 0 0 0 0 0 0 0 0 0 0 0 0 0 0 0 0 0 0 0 0 0 0 0 0 0 0 0 0 0 0 0 0 0 0 0 0 0 0 0 0 0 0 0 0 0 0 0 0 0 0 0 0 0 0 0 0 0 0 0 0 0 0 0 0 0 0 0 0 0 0 0 0 0 0 0 0 0 0 0 0 0 0 0 0 0 0 0 0 0 0 0 0 0 0 0 0 0 0 0 0 0 0 0 0 0 0 0 0 0 0 0 0 0 0 0 0 0 0 0 0 0 0 0 0 0 0 0 0 0 0 0 0 0 0 0 0 0 0 0 0 0 0 0 0 0 0 0 0 0 0 0 0 0 0 0 0 0 0 0 0 0 0 0 0 0 0 0 0 0 0 0 0 0 0 0 0 0 0 0 0 0 0 0 0 0 0 0 0 0 0 0 0 0 0 0 0 0 0 0 0 0 0 0 0 0 0 0 0 0 0 0 0 0 0 0 0 0 0 0 0 0 0 0 0 0 0 0 0 0 0 0 0 0 0 0 0 0 0 0 0 0 0 0 0 0 0 0 0 0 0 0 0 0 0 0 0 0 0 0 0 0 0 0 0 0 0 0 0 0 0 0 0 0 0 0 0 0 0 0 0 0 0 0 0 0 0 0 0 0 0 0 0 0 0 0 0 0 0 0 0 0 0 0 0 0 0 0 0 0 0 0 0 0 0 0 0 0 0 0 0 0\n"
     ]
    },
    {
     "name": "stderr",
     "output_type": "stream",
     "text": [
      "I0608 20:58:59.339765 140290448865152 bert_sct_utils_v2.py:302] input_ids: 101 1045 8145 2811 7760 1997 22321 2015 1012 2197 2733 1045 2387 1037 6302 1997 1037 3573 1999 3731 1005 1055 22321 1012 1045 2081 2019 3749 1997 1002 2184 1012 2009 2001 3970 1012 102 1045 2165 2116 3964 1012 102 0 0 0 0 0 0 0 0 0 0 0 0 0 0 0 0 0 0 0 0 0 0 0 0 0 0 0 0 0 0 0 0 0 0 0 0 0 0 0 0 0 0 0 0 0 0 0 0 0 0 0 0 0 0 0 0 0 0 0 0 0 0 0 0 0 0 0 0 0 0 0 0 0 0 0 0 0 0 0 0 0 0 0 0 0 0 0 0 0 0 0 0 0 0 0 0 0 0 0 0 0 0 0 0 0 0 0 0 0 0 0 0 0 0 0 0 0 0 0 0 0 0 0 0 0 0 0 0 0 0 0 0 0 0 0 0 0 0 0 0 0 0 0 0 0 0 0 0 0 0 0 0 0 0 0 0 0 0 0 0 0 0 0 0 0 0 0 0 0 0 0 0 0 0 0 0 0 0 0 0 0 0 0 0 0 0 0 0 0 0 0 0 0 0 0 0 0 0 0 0 0 0 0 0 0 0 0 0 0 0 0 0 0 0 0 0 0 0 0 0 0 0 0 0 0 0 0 0 0 0 0 0 0 0 0 0 0 0 0 0 0 0 0 0 0 0 0 0 0 0 0 0 0 0 0 0 0 0 0 0 0 0 0 0 0 0 0 0 0 0 0 0 0 0 0 0 0 0 0 0 0 0 0 0 0 0 0 0 0 0 0 0 0 0 0 0 0 0 0 0 0 0 0 0 0 0 0 0 0 0 0 0 0 0 0 0 0 0 0 0 0 0 0 0 0 0 0 0 0 0 0 0 0 0 0 0 0 0 0 0 0 0 0 0 0 0 0 0 0 0 0 0 0 0 0 0 0\n"
     ]
    },
    {
     "name": "stdout",
     "output_type": "stream",
     "text": [
      "INFO:tensorflow:input_mask: 1 1 1 1 1 1 1 1 1 1 1 1 1 1 1 1 1 1 1 1 1 1 1 1 1 1 1 1 1 1 1 1 1 1 1 1 1 1 1 1 1 1 1 0 0 0 0 0 0 0 0 0 0 0 0 0 0 0 0 0 0 0 0 0 0 0 0 0 0 0 0 0 0 0 0 0 0 0 0 0 0 0 0 0 0 0 0 0 0 0 0 0 0 0 0 0 0 0 0 0 0 0 0 0 0 0 0 0 0 0 0 0 0 0 0 0 0 0 0 0 0 0 0 0 0 0 0 0 0 0 0 0 0 0 0 0 0 0 0 0 0 0 0 0 0 0 0 0 0 0 0 0 0 0 0 0 0 0 0 0 0 0 0 0 0 0 0 0 0 0 0 0 0 0 0 0 0 0 0 0 0 0 0 0 0 0 0 0 0 0 0 0 0 0 0 0 0 0 0 0 0 0 0 0 0 0 0 0 0 0 0 0 0 0 0 0 0 0 0 0 0 0 0 0 0 0 0 0 0 0 0 0 0 0 0 0 0 0 0 0 0 0 0 0 0 0 0 0 0 0 0 0 0 0 0 0 0 0 0 0 0 0 0 0 0 0 0 0 0 0 0 0 0 0 0 0 0 0 0 0 0 0 0 0 0 0 0 0 0 0 0 0 0 0 0 0 0 0 0 0 0 0 0 0 0 0 0 0 0 0 0 0 0 0 0 0 0 0 0 0 0 0 0 0 0 0 0 0 0 0 0 0 0 0 0 0 0 0 0 0 0 0 0 0 0 0 0 0 0 0 0 0 0 0 0 0 0 0 0 0 0 0 0 0 0 0 0 0 0 0 0 0 0 0 0 0 0 0 0 0 0 0 0 0 0 0 0 0 0 0 0 0 0 0 0 0 0 0 0 0\n"
     ]
    },
    {
     "name": "stderr",
     "output_type": "stream",
     "text": [
      "I0608 20:58:59.341557 140290448865152 bert_sct_utils_v2.py:303] input_mask: 1 1 1 1 1 1 1 1 1 1 1 1 1 1 1 1 1 1 1 1 1 1 1 1 1 1 1 1 1 1 1 1 1 1 1 1 1 1 1 1 1 1 1 0 0 0 0 0 0 0 0 0 0 0 0 0 0 0 0 0 0 0 0 0 0 0 0 0 0 0 0 0 0 0 0 0 0 0 0 0 0 0 0 0 0 0 0 0 0 0 0 0 0 0 0 0 0 0 0 0 0 0 0 0 0 0 0 0 0 0 0 0 0 0 0 0 0 0 0 0 0 0 0 0 0 0 0 0 0 0 0 0 0 0 0 0 0 0 0 0 0 0 0 0 0 0 0 0 0 0 0 0 0 0 0 0 0 0 0 0 0 0 0 0 0 0 0 0 0 0 0 0 0 0 0 0 0 0 0 0 0 0 0 0 0 0 0 0 0 0 0 0 0 0 0 0 0 0 0 0 0 0 0 0 0 0 0 0 0 0 0 0 0 0 0 0 0 0 0 0 0 0 0 0 0 0 0 0 0 0 0 0 0 0 0 0 0 0 0 0 0 0 0 0 0 0 0 0 0 0 0 0 0 0 0 0 0 0 0 0 0 0 0 0 0 0 0 0 0 0 0 0 0 0 0 0 0 0 0 0 0 0 0 0 0 0 0 0 0 0 0 0 0 0 0 0 0 0 0 0 0 0 0 0 0 0 0 0 0 0 0 0 0 0 0 0 0 0 0 0 0 0 0 0 0 0 0 0 0 0 0 0 0 0 0 0 0 0 0 0 0 0 0 0 0 0 0 0 0 0 0 0 0 0 0 0 0 0 0 0 0 0 0 0 0 0 0 0 0 0 0 0 0 0 0 0 0 0 0 0 0 0 0 0 0 0 0 0 0 0 0 0 0 0 0 0 0 0 0 0\n"
     ]
    },
    {
     "name": "stdout",
     "output_type": "stream",
     "text": [
      "INFO:tensorflow:segment_ids: 0 0 0 0 0 0 0 0 0 0 0 0 0 0 0 0 0 0 0 0 0 0 0 0 0 0 0 0 0 0 0 0 0 0 0 0 0 1 1 1 1 1 1 0 0 0 0 0 0 0 0 0 0 0 0 0 0 0 0 0 0 0 0 0 0 0 0 0 0 0 0 0 0 0 0 0 0 0 0 0 0 0 0 0 0 0 0 0 0 0 0 0 0 0 0 0 0 0 0 0 0 0 0 0 0 0 0 0 0 0 0 0 0 0 0 0 0 0 0 0 0 0 0 0 0 0 0 0 0 0 0 0 0 0 0 0 0 0 0 0 0 0 0 0 0 0 0 0 0 0 0 0 0 0 0 0 0 0 0 0 0 0 0 0 0 0 0 0 0 0 0 0 0 0 0 0 0 0 0 0 0 0 0 0 0 0 0 0 0 0 0 0 0 0 0 0 0 0 0 0 0 0 0 0 0 0 0 0 0 0 0 0 0 0 0 0 0 0 0 0 0 0 0 0 0 0 0 0 0 0 0 0 0 0 0 0 0 0 0 0 0 0 0 0 0 0 0 0 0 0 0 0 0 0 0 0 0 0 0 0 0 0 0 0 0 0 0 0 0 0 0 0 0 0 0 0 0 0 0 0 0 0 0 0 0 0 0 0 0 0 0 0 0 0 0 0 0 0 0 0 0 0 0 0 0 0 0 0 0 0 0 0 0 0 0 0 0 0 0 0 0 0 0 0 0 0 0 0 0 0 0 0 0 0 0 0 0 0 0 0 0 0 0 0 0 0 0 0 0 0 0 0 0 0 0 0 0 0 0 0 0 0 0 0 0 0 0 0 0 0 0 0 0 0 0 0 0 0 0 0 0 0 0 0 0 0 0 0 0 0 0 0 0 0 0 0 0 0 0 0\n"
     ]
    },
    {
     "name": "stderr",
     "output_type": "stream",
     "text": [
      "I0608 20:58:59.343346 140290448865152 bert_sct_utils_v2.py:304] segment_ids: 0 0 0 0 0 0 0 0 0 0 0 0 0 0 0 0 0 0 0 0 0 0 0 0 0 0 0 0 0 0 0 0 0 0 0 0 0 1 1 1 1 1 1 0 0 0 0 0 0 0 0 0 0 0 0 0 0 0 0 0 0 0 0 0 0 0 0 0 0 0 0 0 0 0 0 0 0 0 0 0 0 0 0 0 0 0 0 0 0 0 0 0 0 0 0 0 0 0 0 0 0 0 0 0 0 0 0 0 0 0 0 0 0 0 0 0 0 0 0 0 0 0 0 0 0 0 0 0 0 0 0 0 0 0 0 0 0 0 0 0 0 0 0 0 0 0 0 0 0 0 0 0 0 0 0 0 0 0 0 0 0 0 0 0 0 0 0 0 0 0 0 0 0 0 0 0 0 0 0 0 0 0 0 0 0 0 0 0 0 0 0 0 0 0 0 0 0 0 0 0 0 0 0 0 0 0 0 0 0 0 0 0 0 0 0 0 0 0 0 0 0 0 0 0 0 0 0 0 0 0 0 0 0 0 0 0 0 0 0 0 0 0 0 0 0 0 0 0 0 0 0 0 0 0 0 0 0 0 0 0 0 0 0 0 0 0 0 0 0 0 0 0 0 0 0 0 0 0 0 0 0 0 0 0 0 0 0 0 0 0 0 0 0 0 0 0 0 0 0 0 0 0 0 0 0 0 0 0 0 0 0 0 0 0 0 0 0 0 0 0 0 0 0 0 0 0 0 0 0 0 0 0 0 0 0 0 0 0 0 0 0 0 0 0 0 0 0 0 0 0 0 0 0 0 0 0 0 0 0 0 0 0 0 0 0 0 0 0 0 0 0 0 0 0 0 0 0 0 0 0 0 0 0 0 0 0 0 0 0 0 0 0 0 0 0 0 0 0 0 0\n"
     ]
    },
    {
     "name": "stdout",
     "output_type": "stream",
     "text": [
      "INFO:tensorflow:label: 0 (id = 0)\n"
     ]
    },
    {
     "name": "stderr",
     "output_type": "stream",
     "text": [
      "I0608 20:58:59.345103 140290448865152 bert_sct_utils_v2.py:305] label: 0 (id = 0)\n"
     ]
    },
    {
     "name": "stdout",
     "output_type": "stream",
     "text": [
      "INFO:tensorflow:sentiment: (20,), [0.     0.     1.     0.     0.     0.     1.     0.     0.     0.\n",
      " 1.     0.     0.2732 0.     0.488  0.512  0.     0.     1.     0.    ]\n"
     ]
    },
    {
     "name": "stderr",
     "output_type": "stream",
     "text": [
      "I0608 20:58:59.347249 140290448865152 bert_sct_utils_v2.py:306] sentiment: (20,), [0.     0.     1.     0.     0.     0.     1.     0.     0.     0.\n",
      " 1.     0.     0.2732 0.     0.488  0.512  0.     0.     1.     0.    ]\n"
     ]
    },
    {
     "name": "stdout",
     "output_type": "stream",
     "text": [
      "INFO:tensorflow:cs_dist: (4,), [-1. -1. -1. -1.]\n"
     ]
    },
    {
     "name": "stderr",
     "output_type": "stream",
     "text": [
      "I0608 20:58:59.349063 140290448865152 bert_sct_utils_v2.py:307] cs_dist: (4,), [-1. -1. -1. -1.]\n"
     ]
    },
    {
     "name": "stdout",
     "output_type": "stream",
     "text": [
      "INFO:tensorflow:Writing example 1000 of 105000\n"
     ]
    },
    {
     "name": "stderr",
     "output_type": "stream",
     "text": [
      "I0608 20:59:02.015612 140290448865152 bert_sct_utils_v2.py:322] Writing example 1000 of 105000\n"
     ]
    },
    {
     "name": "stdout",
     "output_type": "stream",
     "text": [
      "INFO:tensorflow:Writing example 2000 of 105000\n"
     ]
    },
    {
     "name": "stderr",
     "output_type": "stream",
     "text": [
      "I0608 20:59:04.600089 140290448865152 bert_sct_utils_v2.py:322] Writing example 2000 of 105000\n"
     ]
    },
    {
     "name": "stdout",
     "output_type": "stream",
     "text": [
      "INFO:tensorflow:Writing example 3000 of 105000\n"
     ]
    },
    {
     "name": "stderr",
     "output_type": "stream",
     "text": [
      "I0608 20:59:07.157551 140290448865152 bert_sct_utils_v2.py:322] Writing example 3000 of 105000\n"
     ]
    },
    {
     "name": "stdout",
     "output_type": "stream",
     "text": [
      "INFO:tensorflow:Writing example 4000 of 105000\n"
     ]
    },
    {
     "name": "stderr",
     "output_type": "stream",
     "text": [
      "I0608 20:59:09.743803 140290448865152 bert_sct_utils_v2.py:322] Writing example 4000 of 105000\n"
     ]
    },
    {
     "name": "stdout",
     "output_type": "stream",
     "text": [
      "INFO:tensorflow:Writing example 5000 of 105000\n"
     ]
    },
    {
     "name": "stderr",
     "output_type": "stream",
     "text": [
      "I0608 20:59:12.339409 140290448865152 bert_sct_utils_v2.py:322] Writing example 5000 of 105000\n"
     ]
    },
    {
     "name": "stdout",
     "output_type": "stream",
     "text": [
      "INFO:tensorflow:Writing example 6000 of 105000\n"
     ]
    },
    {
     "name": "stderr",
     "output_type": "stream",
     "text": [
      "I0608 20:59:14.921796 140290448865152 bert_sct_utils_v2.py:322] Writing example 6000 of 105000\n"
     ]
    },
    {
     "name": "stdout",
     "output_type": "stream",
     "text": [
      "INFO:tensorflow:Writing example 7000 of 105000\n"
     ]
    },
    {
     "name": "stderr",
     "output_type": "stream",
     "text": [
      "I0608 20:59:17.499952 140290448865152 bert_sct_utils_v2.py:322] Writing example 7000 of 105000\n"
     ]
    },
    {
     "name": "stdout",
     "output_type": "stream",
     "text": [
      "INFO:tensorflow:Writing example 8000 of 105000\n"
     ]
    },
    {
     "name": "stderr",
     "output_type": "stream",
     "text": [
      "I0608 20:59:20.066392 140290448865152 bert_sct_utils_v2.py:322] Writing example 8000 of 105000\n"
     ]
    },
    {
     "name": "stdout",
     "output_type": "stream",
     "text": [
      "INFO:tensorflow:Writing example 9000 of 105000\n"
     ]
    },
    {
     "name": "stderr",
     "output_type": "stream",
     "text": [
      "I0608 20:59:22.636182 140290448865152 bert_sct_utils_v2.py:322] Writing example 9000 of 105000\n"
     ]
    },
    {
     "name": "stdout",
     "output_type": "stream",
     "text": [
      "INFO:tensorflow:Writing example 10000 of 105000\n"
     ]
    },
    {
     "name": "stderr",
     "output_type": "stream",
     "text": [
      "I0608 20:59:25.196055 140290448865152 bert_sct_utils_v2.py:322] Writing example 10000 of 105000\n"
     ]
    },
    {
     "name": "stdout",
     "output_type": "stream",
     "text": [
      "INFO:tensorflow:Writing example 11000 of 105000\n"
     ]
    },
    {
     "name": "stderr",
     "output_type": "stream",
     "text": [
      "I0608 20:59:27.773059 140290448865152 bert_sct_utils_v2.py:322] Writing example 11000 of 105000\n"
     ]
    },
    {
     "name": "stdout",
     "output_type": "stream",
     "text": [
      "INFO:tensorflow:Writing example 12000 of 105000\n"
     ]
    },
    {
     "name": "stderr",
     "output_type": "stream",
     "text": [
      "I0608 20:59:30.373391 140290448865152 bert_sct_utils_v2.py:322] Writing example 12000 of 105000\n"
     ]
    },
    {
     "name": "stdout",
     "output_type": "stream",
     "text": [
      "INFO:tensorflow:Writing example 13000 of 105000\n"
     ]
    },
    {
     "name": "stderr",
     "output_type": "stream",
     "text": [
      "I0608 20:59:32.940079 140290448865152 bert_sct_utils_v2.py:322] Writing example 13000 of 105000\n"
     ]
    },
    {
     "name": "stdout",
     "output_type": "stream",
     "text": [
      "INFO:tensorflow:Writing example 14000 of 105000\n"
     ]
    },
    {
     "name": "stderr",
     "output_type": "stream",
     "text": [
      "I0608 20:59:35.531493 140290448865152 bert_sct_utils_v2.py:322] Writing example 14000 of 105000\n"
     ]
    },
    {
     "name": "stdout",
     "output_type": "stream",
     "text": [
      "INFO:tensorflow:Writing example 15000 of 105000\n"
     ]
    },
    {
     "name": "stderr",
     "output_type": "stream",
     "text": [
      "I0608 20:59:38.083953 140290448865152 bert_sct_utils_v2.py:322] Writing example 15000 of 105000\n"
     ]
    },
    {
     "name": "stdout",
     "output_type": "stream",
     "text": [
      "INFO:tensorflow:Writing example 16000 of 105000\n"
     ]
    },
    {
     "name": "stderr",
     "output_type": "stream",
     "text": [
      "I0608 20:59:40.656618 140290448865152 bert_sct_utils_v2.py:322] Writing example 16000 of 105000\n"
     ]
    },
    {
     "name": "stdout",
     "output_type": "stream",
     "text": [
      "INFO:tensorflow:Writing example 17000 of 105000\n"
     ]
    },
    {
     "name": "stderr",
     "output_type": "stream",
     "text": [
      "I0608 20:59:43.226901 140290448865152 bert_sct_utils_v2.py:322] Writing example 17000 of 105000\n"
     ]
    },
    {
     "name": "stdout",
     "output_type": "stream",
     "text": [
      "INFO:tensorflow:Writing example 18000 of 105000\n"
     ]
    },
    {
     "name": "stderr",
     "output_type": "stream",
     "text": [
      "I0608 20:59:45.785997 140290448865152 bert_sct_utils_v2.py:322] Writing example 18000 of 105000\n"
     ]
    },
    {
     "name": "stdout",
     "output_type": "stream",
     "text": [
      "INFO:tensorflow:Writing example 19000 of 105000\n"
     ]
    },
    {
     "name": "stderr",
     "output_type": "stream",
     "text": [
      "I0608 20:59:48.362097 140290448865152 bert_sct_utils_v2.py:322] Writing example 19000 of 105000\n"
     ]
    },
    {
     "name": "stdout",
     "output_type": "stream",
     "text": [
      "INFO:tensorflow:Writing example 20000 of 105000\n"
     ]
    },
    {
     "name": "stderr",
     "output_type": "stream",
     "text": [
      "I0608 20:59:50.914238 140290448865152 bert_sct_utils_v2.py:322] Writing example 20000 of 105000\n"
     ]
    },
    {
     "name": "stdout",
     "output_type": "stream",
     "text": [
      "INFO:tensorflow:Writing example 21000 of 105000\n"
     ]
    },
    {
     "name": "stderr",
     "output_type": "stream",
     "text": [
      "I0608 20:59:53.516892 140290448865152 bert_sct_utils_v2.py:322] Writing example 21000 of 105000\n"
     ]
    },
    {
     "name": "stdout",
     "output_type": "stream",
     "text": [
      "INFO:tensorflow:Writing example 22000 of 105000\n"
     ]
    },
    {
     "name": "stderr",
     "output_type": "stream",
     "text": [
      "I0608 20:59:56.097173 140290448865152 bert_sct_utils_v2.py:322] Writing example 22000 of 105000\n"
     ]
    },
    {
     "name": "stdout",
     "output_type": "stream",
     "text": [
      "INFO:tensorflow:Writing example 23000 of 105000\n"
     ]
    },
    {
     "name": "stderr",
     "output_type": "stream",
     "text": [
      "I0608 20:59:58.666559 140290448865152 bert_sct_utils_v2.py:322] Writing example 23000 of 105000\n"
     ]
    },
    {
     "name": "stdout",
     "output_type": "stream",
     "text": [
      "INFO:tensorflow:Writing example 24000 of 105000\n"
     ]
    },
    {
     "name": "stderr",
     "output_type": "stream",
     "text": [
      "I0608 21:00:01.238196 140290448865152 bert_sct_utils_v2.py:322] Writing example 24000 of 105000\n"
     ]
    },
    {
     "name": "stdout",
     "output_type": "stream",
     "text": [
      "INFO:tensorflow:Writing example 25000 of 105000\n"
     ]
    },
    {
     "name": "stderr",
     "output_type": "stream",
     "text": [
      "I0608 21:00:03.805582 140290448865152 bert_sct_utils_v2.py:322] Writing example 25000 of 105000\n"
     ]
    },
    {
     "name": "stdout",
     "output_type": "stream",
     "text": [
      "INFO:tensorflow:Writing example 26000 of 105000\n"
     ]
    },
    {
     "name": "stderr",
     "output_type": "stream",
     "text": [
      "I0608 21:00:06.396112 140290448865152 bert_sct_utils_v2.py:322] Writing example 26000 of 105000\n"
     ]
    },
    {
     "name": "stdout",
     "output_type": "stream",
     "text": [
      "INFO:tensorflow:Writing example 27000 of 105000\n"
     ]
    },
    {
     "name": "stderr",
     "output_type": "stream",
     "text": [
      "I0608 21:00:09.008254 140290448865152 bert_sct_utils_v2.py:322] Writing example 27000 of 105000\n"
     ]
    },
    {
     "name": "stdout",
     "output_type": "stream",
     "text": [
      "INFO:tensorflow:Writing example 28000 of 105000\n"
     ]
    },
    {
     "name": "stderr",
     "output_type": "stream",
     "text": [
      "I0608 21:00:11.650864 140290448865152 bert_sct_utils_v2.py:322] Writing example 28000 of 105000\n"
     ]
    },
    {
     "name": "stdout",
     "output_type": "stream",
     "text": [
      "INFO:tensorflow:Writing example 29000 of 105000\n"
     ]
    },
    {
     "name": "stderr",
     "output_type": "stream",
     "text": [
      "I0608 21:00:14.240976 140290448865152 bert_sct_utils_v2.py:322] Writing example 29000 of 105000\n"
     ]
    },
    {
     "name": "stdout",
     "output_type": "stream",
     "text": [
      "INFO:tensorflow:Writing example 30000 of 105000\n"
     ]
    },
    {
     "name": "stderr",
     "output_type": "stream",
     "text": [
      "I0608 21:00:16.846907 140290448865152 bert_sct_utils_v2.py:322] Writing example 30000 of 105000\n"
     ]
    },
    {
     "name": "stdout",
     "output_type": "stream",
     "text": [
      "INFO:tensorflow:Writing example 31000 of 105000\n"
     ]
    },
    {
     "name": "stderr",
     "output_type": "stream",
     "text": [
      "I0608 21:00:19.386485 140290448865152 bert_sct_utils_v2.py:322] Writing example 31000 of 105000\n"
     ]
    },
    {
     "name": "stdout",
     "output_type": "stream",
     "text": [
      "INFO:tensorflow:Writing example 32000 of 105000\n"
     ]
    },
    {
     "name": "stderr",
     "output_type": "stream",
     "text": [
      "I0608 21:00:21.962044 140290448865152 bert_sct_utils_v2.py:322] Writing example 32000 of 105000\n"
     ]
    },
    {
     "name": "stdout",
     "output_type": "stream",
     "text": [
      "INFO:tensorflow:Writing example 33000 of 105000\n"
     ]
    },
    {
     "name": "stderr",
     "output_type": "stream",
     "text": [
      "I0608 21:00:24.543334 140290448865152 bert_sct_utils_v2.py:322] Writing example 33000 of 105000\n"
     ]
    },
    {
     "name": "stdout",
     "output_type": "stream",
     "text": [
      "INFO:tensorflow:Writing example 34000 of 105000\n"
     ]
    },
    {
     "name": "stderr",
     "output_type": "stream",
     "text": [
      "I0608 21:00:27.101292 140290448865152 bert_sct_utils_v2.py:322] Writing example 34000 of 105000\n"
     ]
    },
    {
     "name": "stdout",
     "output_type": "stream",
     "text": [
      "INFO:tensorflow:Writing example 35000 of 105000\n"
     ]
    },
    {
     "name": "stderr",
     "output_type": "stream",
     "text": [
      "I0608 21:00:29.657759 140290448865152 bert_sct_utils_v2.py:322] Writing example 35000 of 105000\n"
     ]
    },
    {
     "name": "stdout",
     "output_type": "stream",
     "text": [
      "INFO:tensorflow:Writing example 36000 of 105000\n"
     ]
    },
    {
     "name": "stderr",
     "output_type": "stream",
     "text": [
      "I0608 21:00:32.247577 140290448865152 bert_sct_utils_v2.py:322] Writing example 36000 of 105000\n"
     ]
    },
    {
     "name": "stdout",
     "output_type": "stream",
     "text": [
      "INFO:tensorflow:Writing example 37000 of 105000\n"
     ]
    },
    {
     "name": "stderr",
     "output_type": "stream",
     "text": [
      "I0608 21:00:34.823088 140290448865152 bert_sct_utils_v2.py:322] Writing example 37000 of 105000\n"
     ]
    },
    {
     "name": "stdout",
     "output_type": "stream",
     "text": [
      "INFO:tensorflow:Writing example 38000 of 105000\n"
     ]
    },
    {
     "name": "stderr",
     "output_type": "stream",
     "text": [
      "I0608 21:00:37.390929 140290448865152 bert_sct_utils_v2.py:322] Writing example 38000 of 105000\n"
     ]
    },
    {
     "name": "stdout",
     "output_type": "stream",
     "text": [
      "INFO:tensorflow:Writing example 39000 of 105000\n"
     ]
    },
    {
     "name": "stderr",
     "output_type": "stream",
     "text": [
      "I0608 21:00:39.933962 140290448865152 bert_sct_utils_v2.py:322] Writing example 39000 of 105000\n"
     ]
    },
    {
     "name": "stdout",
     "output_type": "stream",
     "text": [
      "INFO:tensorflow:Writing example 40000 of 105000\n"
     ]
    },
    {
     "name": "stderr",
     "output_type": "stream",
     "text": [
      "I0608 21:00:42.522136 140290448865152 bert_sct_utils_v2.py:322] Writing example 40000 of 105000\n"
     ]
    },
    {
     "name": "stdout",
     "output_type": "stream",
     "text": [
      "INFO:tensorflow:Writing example 41000 of 105000\n"
     ]
    },
    {
     "name": "stderr",
     "output_type": "stream",
     "text": [
      "I0608 21:00:45.073980 140290448865152 bert_sct_utils_v2.py:322] Writing example 41000 of 105000\n"
     ]
    },
    {
     "name": "stdout",
     "output_type": "stream",
     "text": [
      "INFO:tensorflow:Writing example 42000 of 105000\n"
     ]
    },
    {
     "name": "stderr",
     "output_type": "stream",
     "text": [
      "I0608 21:00:47.635839 140290448865152 bert_sct_utils_v2.py:322] Writing example 42000 of 105000\n"
     ]
    },
    {
     "name": "stdout",
     "output_type": "stream",
     "text": [
      "INFO:tensorflow:Writing example 43000 of 105000\n"
     ]
    },
    {
     "name": "stderr",
     "output_type": "stream",
     "text": [
      "I0608 21:00:50.207838 140290448865152 bert_sct_utils_v2.py:322] Writing example 43000 of 105000\n"
     ]
    },
    {
     "name": "stdout",
     "output_type": "stream",
     "text": [
      "INFO:tensorflow:Writing example 44000 of 105000\n"
     ]
    },
    {
     "name": "stderr",
     "output_type": "stream",
     "text": [
      "I0608 21:00:52.779552 140290448865152 bert_sct_utils_v2.py:322] Writing example 44000 of 105000\n"
     ]
    },
    {
     "name": "stdout",
     "output_type": "stream",
     "text": [
      "INFO:tensorflow:Writing example 45000 of 105000\n"
     ]
    },
    {
     "name": "stderr",
     "output_type": "stream",
     "text": [
      "I0608 21:00:55.362634 140290448865152 bert_sct_utils_v2.py:322] Writing example 45000 of 105000\n"
     ]
    },
    {
     "name": "stdout",
     "output_type": "stream",
     "text": [
      "INFO:tensorflow:Writing example 46000 of 105000\n"
     ]
    },
    {
     "name": "stderr",
     "output_type": "stream",
     "text": [
      "I0608 21:00:57.942701 140290448865152 bert_sct_utils_v2.py:322] Writing example 46000 of 105000\n"
     ]
    },
    {
     "name": "stdout",
     "output_type": "stream",
     "text": [
      "INFO:tensorflow:Writing example 47000 of 105000\n"
     ]
    },
    {
     "name": "stderr",
     "output_type": "stream",
     "text": [
      "I0608 21:01:00.513005 140290448865152 bert_sct_utils_v2.py:322] Writing example 47000 of 105000\n"
     ]
    },
    {
     "name": "stdout",
     "output_type": "stream",
     "text": [
      "INFO:tensorflow:Writing example 48000 of 105000\n"
     ]
    },
    {
     "name": "stderr",
     "output_type": "stream",
     "text": [
      "I0608 21:01:03.118010 140290448865152 bert_sct_utils_v2.py:322] Writing example 48000 of 105000\n"
     ]
    },
    {
     "name": "stdout",
     "output_type": "stream",
     "text": [
      "INFO:tensorflow:Writing example 49000 of 105000\n"
     ]
    },
    {
     "name": "stderr",
     "output_type": "stream",
     "text": [
      "I0608 21:01:05.787492 140290448865152 bert_sct_utils_v2.py:322] Writing example 49000 of 105000\n"
     ]
    },
    {
     "name": "stdout",
     "output_type": "stream",
     "text": [
      "INFO:tensorflow:Writing example 50000 of 105000\n"
     ]
    },
    {
     "name": "stderr",
     "output_type": "stream",
     "text": [
      "I0608 21:01:08.421097 140290448865152 bert_sct_utils_v2.py:322] Writing example 50000 of 105000\n"
     ]
    },
    {
     "name": "stdout",
     "output_type": "stream",
     "text": [
      "INFO:tensorflow:Writing example 51000 of 105000\n"
     ]
    },
    {
     "name": "stderr",
     "output_type": "stream",
     "text": [
      "I0608 21:01:11.101115 140290448865152 bert_sct_utils_v2.py:322] Writing example 51000 of 105000\n"
     ]
    },
    {
     "name": "stdout",
     "output_type": "stream",
     "text": [
      "INFO:tensorflow:Writing example 52000 of 105000\n"
     ]
    },
    {
     "name": "stderr",
     "output_type": "stream",
     "text": [
      "I0608 21:01:13.771410 140290448865152 bert_sct_utils_v2.py:322] Writing example 52000 of 105000\n"
     ]
    },
    {
     "name": "stdout",
     "output_type": "stream",
     "text": [
      "INFO:tensorflow:Writing example 53000 of 105000\n"
     ]
    },
    {
     "name": "stderr",
     "output_type": "stream",
     "text": [
      "I0608 21:01:16.320540 140290448865152 bert_sct_utils_v2.py:322] Writing example 53000 of 105000\n"
     ]
    },
    {
     "name": "stdout",
     "output_type": "stream",
     "text": [
      "INFO:tensorflow:Writing example 54000 of 105000\n"
     ]
    },
    {
     "name": "stderr",
     "output_type": "stream",
     "text": [
      "I0608 21:01:18.869752 140290448865152 bert_sct_utils_v2.py:322] Writing example 54000 of 105000\n"
     ]
    },
    {
     "name": "stdout",
     "output_type": "stream",
     "text": [
      "INFO:tensorflow:Writing example 55000 of 105000\n"
     ]
    },
    {
     "name": "stderr",
     "output_type": "stream",
     "text": [
      "I0608 21:01:21.444909 140290448865152 bert_sct_utils_v2.py:322] Writing example 55000 of 105000\n"
     ]
    },
    {
     "name": "stdout",
     "output_type": "stream",
     "text": [
      "INFO:tensorflow:Writing example 56000 of 105000\n"
     ]
    },
    {
     "name": "stderr",
     "output_type": "stream",
     "text": [
      "I0608 21:01:23.997107 140290448865152 bert_sct_utils_v2.py:322] Writing example 56000 of 105000\n"
     ]
    },
    {
     "name": "stdout",
     "output_type": "stream",
     "text": [
      "INFO:tensorflow:Writing example 57000 of 105000\n"
     ]
    },
    {
     "name": "stderr",
     "output_type": "stream",
     "text": [
      "I0608 21:01:26.592673 140290448865152 bert_sct_utils_v2.py:322] Writing example 57000 of 105000\n"
     ]
    },
    {
     "name": "stdout",
     "output_type": "stream",
     "text": [
      "INFO:tensorflow:Writing example 58000 of 105000\n"
     ]
    },
    {
     "name": "stderr",
     "output_type": "stream",
     "text": [
      "I0608 21:01:29.237965 140290448865152 bert_sct_utils_v2.py:322] Writing example 58000 of 105000\n"
     ]
    },
    {
     "name": "stdout",
     "output_type": "stream",
     "text": [
      "INFO:tensorflow:Writing example 59000 of 105000\n"
     ]
    },
    {
     "name": "stderr",
     "output_type": "stream",
     "text": [
      "I0608 21:01:31.864548 140290448865152 bert_sct_utils_v2.py:322] Writing example 59000 of 105000\n"
     ]
    },
    {
     "name": "stdout",
     "output_type": "stream",
     "text": [
      "INFO:tensorflow:Writing example 60000 of 105000\n"
     ]
    },
    {
     "name": "stderr",
     "output_type": "stream",
     "text": [
      "I0608 21:01:34.519583 140290448865152 bert_sct_utils_v2.py:322] Writing example 60000 of 105000\n"
     ]
    },
    {
     "name": "stdout",
     "output_type": "stream",
     "text": [
      "INFO:tensorflow:Writing example 61000 of 105000\n"
     ]
    },
    {
     "name": "stderr",
     "output_type": "stream",
     "text": [
      "I0608 21:01:37.112087 140290448865152 bert_sct_utils_v2.py:322] Writing example 61000 of 105000\n"
     ]
    },
    {
     "name": "stdout",
     "output_type": "stream",
     "text": [
      "INFO:tensorflow:Writing example 62000 of 105000\n"
     ]
    },
    {
     "name": "stderr",
     "output_type": "stream",
     "text": [
      "I0608 21:01:39.668397 140290448865152 bert_sct_utils_v2.py:322] Writing example 62000 of 105000\n"
     ]
    },
    {
     "name": "stdout",
     "output_type": "stream",
     "text": [
      "INFO:tensorflow:Writing example 63000 of 105000\n"
     ]
    },
    {
     "name": "stderr",
     "output_type": "stream",
     "text": [
      "I0608 21:01:42.223099 140290448865152 bert_sct_utils_v2.py:322] Writing example 63000 of 105000\n"
     ]
    },
    {
     "name": "stdout",
     "output_type": "stream",
     "text": [
      "INFO:tensorflow:Writing example 64000 of 105000\n"
     ]
    },
    {
     "name": "stderr",
     "output_type": "stream",
     "text": [
      "I0608 21:01:44.800631 140290448865152 bert_sct_utils_v2.py:322] Writing example 64000 of 105000\n"
     ]
    },
    {
     "name": "stdout",
     "output_type": "stream",
     "text": [
      "INFO:tensorflow:Writing example 65000 of 105000\n"
     ]
    },
    {
     "name": "stderr",
     "output_type": "stream",
     "text": [
      "I0608 21:01:47.360311 140290448865152 bert_sct_utils_v2.py:322] Writing example 65000 of 105000\n"
     ]
    },
    {
     "name": "stdout",
     "output_type": "stream",
     "text": [
      "INFO:tensorflow:Writing example 66000 of 105000\n"
     ]
    },
    {
     "name": "stderr",
     "output_type": "stream",
     "text": [
      "I0608 21:01:49.934874 140290448865152 bert_sct_utils_v2.py:322] Writing example 66000 of 105000\n"
     ]
    },
    {
     "name": "stdout",
     "output_type": "stream",
     "text": [
      "INFO:tensorflow:Writing example 67000 of 105000\n"
     ]
    },
    {
     "name": "stderr",
     "output_type": "stream",
     "text": [
      "I0608 21:01:52.496397 140290448865152 bert_sct_utils_v2.py:322] Writing example 67000 of 105000\n"
     ]
    },
    {
     "name": "stdout",
     "output_type": "stream",
     "text": [
      "INFO:tensorflow:Writing example 68000 of 105000\n"
     ]
    },
    {
     "name": "stderr",
     "output_type": "stream",
     "text": [
      "I0608 21:01:55.052037 140290448865152 bert_sct_utils_v2.py:322] Writing example 68000 of 105000\n"
     ]
    },
    {
     "name": "stdout",
     "output_type": "stream",
     "text": [
      "INFO:tensorflow:Writing example 69000 of 105000\n"
     ]
    },
    {
     "name": "stderr",
     "output_type": "stream",
     "text": [
      "I0608 21:01:57.596972 140290448865152 bert_sct_utils_v2.py:322] Writing example 69000 of 105000\n"
     ]
    },
    {
     "name": "stdout",
     "output_type": "stream",
     "text": [
      "INFO:tensorflow:Writing example 70000 of 105000\n"
     ]
    },
    {
     "name": "stderr",
     "output_type": "stream",
     "text": [
      "I0608 21:02:00.134590 140290448865152 bert_sct_utils_v2.py:322] Writing example 70000 of 105000\n"
     ]
    },
    {
     "name": "stdout",
     "output_type": "stream",
     "text": [
      "INFO:tensorflow:Writing example 71000 of 105000\n"
     ]
    },
    {
     "name": "stderr",
     "output_type": "stream",
     "text": [
      "I0608 21:02:02.670469 140290448865152 bert_sct_utils_v2.py:322] Writing example 71000 of 105000\n"
     ]
    },
    {
     "name": "stdout",
     "output_type": "stream",
     "text": [
      "INFO:tensorflow:Writing example 72000 of 105000\n"
     ]
    },
    {
     "name": "stderr",
     "output_type": "stream",
     "text": [
      "I0608 21:02:05.241239 140290448865152 bert_sct_utils_v2.py:322] Writing example 72000 of 105000\n"
     ]
    },
    {
     "name": "stdout",
     "output_type": "stream",
     "text": [
      "INFO:tensorflow:Writing example 73000 of 105000\n"
     ]
    },
    {
     "name": "stderr",
     "output_type": "stream",
     "text": [
      "I0608 21:02:07.782269 140290448865152 bert_sct_utils_v2.py:322] Writing example 73000 of 105000\n"
     ]
    },
    {
     "name": "stdout",
     "output_type": "stream",
     "text": [
      "INFO:tensorflow:Writing example 74000 of 105000\n"
     ]
    },
    {
     "name": "stderr",
     "output_type": "stream",
     "text": [
      "I0608 21:02:10.320116 140290448865152 bert_sct_utils_v2.py:322] Writing example 74000 of 105000\n"
     ]
    },
    {
     "name": "stdout",
     "output_type": "stream",
     "text": [
      "INFO:tensorflow:Writing example 75000 of 105000\n"
     ]
    },
    {
     "name": "stderr",
     "output_type": "stream",
     "text": [
      "I0608 21:02:12.838629 140290448865152 bert_sct_utils_v2.py:322] Writing example 75000 of 105000\n"
     ]
    },
    {
     "name": "stdout",
     "output_type": "stream",
     "text": [
      "INFO:tensorflow:Writing example 76000 of 105000\n"
     ]
    },
    {
     "name": "stderr",
     "output_type": "stream",
     "text": [
      "I0608 21:02:15.412829 140290448865152 bert_sct_utils_v2.py:322] Writing example 76000 of 105000\n"
     ]
    },
    {
     "name": "stdout",
     "output_type": "stream",
     "text": [
      "INFO:tensorflow:Writing example 77000 of 105000\n"
     ]
    },
    {
     "name": "stderr",
     "output_type": "stream",
     "text": [
      "I0608 21:02:17.961915 140290448865152 bert_sct_utils_v2.py:322] Writing example 77000 of 105000\n"
     ]
    },
    {
     "name": "stdout",
     "output_type": "stream",
     "text": [
      "INFO:tensorflow:Writing example 78000 of 105000\n"
     ]
    },
    {
     "name": "stderr",
     "output_type": "stream",
     "text": [
      "I0608 21:02:20.512910 140290448865152 bert_sct_utils_v2.py:322] Writing example 78000 of 105000\n"
     ]
    },
    {
     "name": "stdout",
     "output_type": "stream",
     "text": [
      "INFO:tensorflow:Writing example 79000 of 105000\n"
     ]
    },
    {
     "name": "stderr",
     "output_type": "stream",
     "text": [
      "I0608 21:02:23.042191 140290448865152 bert_sct_utils_v2.py:322] Writing example 79000 of 105000\n"
     ]
    },
    {
     "name": "stdout",
     "output_type": "stream",
     "text": [
      "INFO:tensorflow:Writing example 80000 of 105000\n"
     ]
    },
    {
     "name": "stderr",
     "output_type": "stream",
     "text": [
      "I0608 21:02:25.576305 140290448865152 bert_sct_utils_v2.py:322] Writing example 80000 of 105000\n"
     ]
    },
    {
     "name": "stdout",
     "output_type": "stream",
     "text": [
      "INFO:tensorflow:Writing example 81000 of 105000\n"
     ]
    },
    {
     "name": "stderr",
     "output_type": "stream",
     "text": [
      "I0608 21:02:28.131819 140290448865152 bert_sct_utils_v2.py:322] Writing example 81000 of 105000\n"
     ]
    },
    {
     "name": "stdout",
     "output_type": "stream",
     "text": [
      "INFO:tensorflow:Writing example 82000 of 105000\n"
     ]
    },
    {
     "name": "stderr",
     "output_type": "stream",
     "text": [
      "I0608 21:02:30.676043 140290448865152 bert_sct_utils_v2.py:322] Writing example 82000 of 105000\n"
     ]
    },
    {
     "name": "stdout",
     "output_type": "stream",
     "text": [
      "INFO:tensorflow:Writing example 83000 of 105000\n"
     ]
    },
    {
     "name": "stderr",
     "output_type": "stream",
     "text": [
      "I0608 21:02:33.195281 140290448865152 bert_sct_utils_v2.py:322] Writing example 83000 of 105000\n"
     ]
    },
    {
     "name": "stdout",
     "output_type": "stream",
     "text": [
      "INFO:tensorflow:Writing example 84000 of 105000\n"
     ]
    },
    {
     "name": "stderr",
     "output_type": "stream",
     "text": [
      "I0608 21:02:35.751554 140290448865152 bert_sct_utils_v2.py:322] Writing example 84000 of 105000\n"
     ]
    },
    {
     "name": "stdout",
     "output_type": "stream",
     "text": [
      "INFO:tensorflow:Writing example 85000 of 105000\n"
     ]
    },
    {
     "name": "stderr",
     "output_type": "stream",
     "text": [
      "I0608 21:02:38.304376 140290448865152 bert_sct_utils_v2.py:322] Writing example 85000 of 105000\n"
     ]
    },
    {
     "name": "stdout",
     "output_type": "stream",
     "text": [
      "INFO:tensorflow:Writing example 86000 of 105000\n"
     ]
    },
    {
     "name": "stderr",
     "output_type": "stream",
     "text": [
      "I0608 21:02:40.846470 140290448865152 bert_sct_utils_v2.py:322] Writing example 86000 of 105000\n"
     ]
    },
    {
     "name": "stdout",
     "output_type": "stream",
     "text": [
      "INFO:tensorflow:Writing example 87000 of 105000\n"
     ]
    },
    {
     "name": "stderr",
     "output_type": "stream",
     "text": [
      "I0608 21:02:43.370372 140290448865152 bert_sct_utils_v2.py:322] Writing example 87000 of 105000\n"
     ]
    },
    {
     "name": "stdout",
     "output_type": "stream",
     "text": [
      "INFO:tensorflow:Writing example 88000 of 105000\n"
     ]
    },
    {
     "name": "stderr",
     "output_type": "stream",
     "text": [
      "I0608 21:02:45.927854 140290448865152 bert_sct_utils_v2.py:322] Writing example 88000 of 105000\n"
     ]
    },
    {
     "name": "stdout",
     "output_type": "stream",
     "text": [
      "INFO:tensorflow:Writing example 89000 of 105000\n"
     ]
    },
    {
     "name": "stderr",
     "output_type": "stream",
     "text": [
      "I0608 21:02:48.499650 140290448865152 bert_sct_utils_v2.py:322] Writing example 89000 of 105000\n"
     ]
    },
    {
     "name": "stdout",
     "output_type": "stream",
     "text": [
      "INFO:tensorflow:Writing example 90000 of 105000\n"
     ]
    },
    {
     "name": "stderr",
     "output_type": "stream",
     "text": [
      "I0608 21:02:51.081446 140290448865152 bert_sct_utils_v2.py:322] Writing example 90000 of 105000\n"
     ]
    },
    {
     "name": "stdout",
     "output_type": "stream",
     "text": [
      "INFO:tensorflow:Writing example 91000 of 105000\n"
     ]
    },
    {
     "name": "stderr",
     "output_type": "stream",
     "text": [
      "I0608 21:02:53.657598 140290448865152 bert_sct_utils_v2.py:322] Writing example 91000 of 105000\n"
     ]
    },
    {
     "name": "stdout",
     "output_type": "stream",
     "text": [
      "INFO:tensorflow:Writing example 92000 of 105000\n"
     ]
    },
    {
     "name": "stderr",
     "output_type": "stream",
     "text": [
      "I0608 21:02:56.239989 140290448865152 bert_sct_utils_v2.py:322] Writing example 92000 of 105000\n"
     ]
    },
    {
     "name": "stdout",
     "output_type": "stream",
     "text": [
      "INFO:tensorflow:Writing example 93000 of 105000\n"
     ]
    },
    {
     "name": "stderr",
     "output_type": "stream",
     "text": [
      "I0608 21:02:58.776468 140290448865152 bert_sct_utils_v2.py:322] Writing example 93000 of 105000\n"
     ]
    },
    {
     "name": "stdout",
     "output_type": "stream",
     "text": [
      "INFO:tensorflow:Writing example 94000 of 105000\n"
     ]
    },
    {
     "name": "stderr",
     "output_type": "stream",
     "text": [
      "I0608 21:03:01.324304 140290448865152 bert_sct_utils_v2.py:322] Writing example 94000 of 105000\n"
     ]
    },
    {
     "name": "stdout",
     "output_type": "stream",
     "text": [
      "INFO:tensorflow:Writing example 95000 of 105000\n"
     ]
    },
    {
     "name": "stderr",
     "output_type": "stream",
     "text": [
      "I0608 21:03:03.843556 140290448865152 bert_sct_utils_v2.py:322] Writing example 95000 of 105000\n"
     ]
    },
    {
     "name": "stdout",
     "output_type": "stream",
     "text": [
      "INFO:tensorflow:Writing example 96000 of 105000\n"
     ]
    },
    {
     "name": "stderr",
     "output_type": "stream",
     "text": [
      "I0608 21:03:06.379647 140290448865152 bert_sct_utils_v2.py:322] Writing example 96000 of 105000\n"
     ]
    },
    {
     "name": "stdout",
     "output_type": "stream",
     "text": [
      "INFO:tensorflow:Writing example 97000 of 105000\n"
     ]
    },
    {
     "name": "stderr",
     "output_type": "stream",
     "text": [
      "I0608 21:03:08.905666 140290448865152 bert_sct_utils_v2.py:322] Writing example 97000 of 105000\n"
     ]
    },
    {
     "name": "stdout",
     "output_type": "stream",
     "text": [
      "INFO:tensorflow:Writing example 98000 of 105000\n"
     ]
    },
    {
     "name": "stderr",
     "output_type": "stream",
     "text": [
      "I0608 21:03:11.425939 140290448865152 bert_sct_utils_v2.py:322] Writing example 98000 of 105000\n"
     ]
    },
    {
     "name": "stdout",
     "output_type": "stream",
     "text": [
      "INFO:tensorflow:Writing example 99000 of 105000\n"
     ]
    },
    {
     "name": "stderr",
     "output_type": "stream",
     "text": [
      "I0608 21:03:13.963263 140290448865152 bert_sct_utils_v2.py:322] Writing example 99000 of 105000\n"
     ]
    },
    {
     "name": "stdout",
     "output_type": "stream",
     "text": [
      "INFO:tensorflow:Writing example 100000 of 105000\n"
     ]
    },
    {
     "name": "stderr",
     "output_type": "stream",
     "text": [
      "I0608 21:03:16.500225 140290448865152 bert_sct_utils_v2.py:322] Writing example 100000 of 105000\n"
     ]
    },
    {
     "name": "stdout",
     "output_type": "stream",
     "text": [
      "INFO:tensorflow:Writing example 101000 of 105000\n"
     ]
    },
    {
     "name": "stderr",
     "output_type": "stream",
     "text": [
      "I0608 21:03:19.031452 140290448865152 bert_sct_utils_v2.py:322] Writing example 101000 of 105000\n"
     ]
    },
    {
     "name": "stdout",
     "output_type": "stream",
     "text": [
      "INFO:tensorflow:Writing example 102000 of 105000\n"
     ]
    },
    {
     "name": "stderr",
     "output_type": "stream",
     "text": [
      "I0608 21:03:21.561151 140290448865152 bert_sct_utils_v2.py:322] Writing example 102000 of 105000\n"
     ]
    },
    {
     "name": "stdout",
     "output_type": "stream",
     "text": [
      "INFO:tensorflow:Writing example 103000 of 105000\n"
     ]
    },
    {
     "name": "stderr",
     "output_type": "stream",
     "text": [
      "I0608 21:03:24.099501 140290448865152 bert_sct_utils_v2.py:322] Writing example 103000 of 105000\n"
     ]
    },
    {
     "name": "stdout",
     "output_type": "stream",
     "text": [
      "INFO:tensorflow:Writing example 104000 of 105000\n"
     ]
    },
    {
     "name": "stderr",
     "output_type": "stream",
     "text": [
      "I0608 21:03:26.621827 140290448865152 bert_sct_utils_v2.py:322] Writing example 104000 of 105000\n"
     ]
    },
    {
     "name": "stdout",
     "output_type": "stream",
     "text": [
      "INFO:tensorflow:***** Running training *****\n"
     ]
    },
    {
     "name": "stderr",
     "output_type": "stream",
     "text": [
      "I0608 21:03:29.168053 140290448865152 <ipython-input-3-042eac69eb23>:63] ***** Running training *****\n"
     ]
    },
    {
     "name": "stdout",
     "output_type": "stream",
     "text": [
      "INFO:tensorflow:  Num examples = 105000\n"
     ]
    },
    {
     "name": "stderr",
     "output_type": "stream",
     "text": [
      "I0608 21:03:29.185642 140290448865152 <ipython-input-3-042eac69eb23>:64]   Num examples = 105000\n"
     ]
    },
    {
     "name": "stdout",
     "output_type": "stream",
     "text": [
      "INFO:tensorflow:  Batch size = 8\n"
     ]
    },
    {
     "name": "stderr",
     "output_type": "stream",
     "text": [
      "I0608 21:03:29.189841 140290448865152 <ipython-input-3-042eac69eb23>:65]   Batch size = 8\n"
     ]
    },
    {
     "name": "stdout",
     "output_type": "stream",
     "text": [
      "INFO:tensorflow:  Num steps = 39375\n"
     ]
    },
    {
     "name": "stderr",
     "output_type": "stream",
     "text": [
      "I0608 21:03:29.193603 140290448865152 <ipython-input-3-042eac69eb23>:66]   Num steps = 39375\n"
     ]
    },
    {
     "name": "stdout",
     "output_type": "stream",
     "text": [
      "\n",
      "WARNING: The TensorFlow contrib module will not be included in TensorFlow 2.0.\n",
      "For more information, please see:\n",
      "  * https://github.com/tensorflow/community/blob/master/rfcs/20180907-contrib-sunset.md\n",
      "  * https://github.com/tensorflow/addons\n",
      "If you depend on functionality not listed there, please file an issue.\n",
      "\n",
      "WARNING:tensorflow:From ./gdrive/My Drive/NLU/Projects/project_2/bert_sct_utils_v2.py:415: map_and_batch (from tensorflow.contrib.data.python.ops.batching) is deprecated and will be removed in a future version.\n",
      "Instructions for updating:\n",
      "Use `tf.data.experimental.map_and_batch(...)`.\n"
     ]
    },
    {
     "name": "stderr",
     "output_type": "stream",
     "text": [
      "W0608 21:03:31.972991 140290448865152 deprecation.py:323] From ./gdrive/My Drive/NLU/Projects/project_2/bert_sct_utils_v2.py:415: map_and_batch (from tensorflow.contrib.data.python.ops.batching) is deprecated and will be removed in a future version.\n",
      "Instructions for updating:\n",
      "Use `tf.data.experimental.map_and_batch(...)`.\n"
     ]
    },
    {
     "name": "stdout",
     "output_type": "stream",
     "text": [
      "WARNING:tensorflow:From ./gdrive/My Drive/NLU/Projects/project_2/bert_sct_utils_v2.py:395: to_int32 (from tensorflow.python.ops.math_ops) is deprecated and will be removed in a future version.\n",
      "Instructions for updating:\n",
      "Use tf.cast instead.\n"
     ]
    },
    {
     "name": "stderr",
     "output_type": "stream",
     "text": [
      "W0608 21:03:32.000345 140290448865152 deprecation.py:323] From ./gdrive/My Drive/NLU/Projects/project_2/bert_sct_utils_v2.py:395: to_int32 (from tensorflow.python.ops.math_ops) is deprecated and will be removed in a future version.\n",
      "Instructions for updating:\n",
      "Use tf.cast instead.\n"
     ]
    },
    {
     "name": "stdout",
     "output_type": "stream",
     "text": [
      "INFO:tensorflow:Calling model_fn.\n"
     ]
    },
    {
     "name": "stderr",
     "output_type": "stream",
     "text": [
      "I0608 21:03:32.031217 140290448865152 estimator.py:1111] Calling model_fn.\n"
     ]
    },
    {
     "name": "stdout",
     "output_type": "stream",
     "text": [
      "INFO:tensorflow:Saver not created because there are no variables in the graph to restore\n"
     ]
    },
    {
     "name": "stderr",
     "output_type": "stream",
     "text": [
      "I0608 21:03:34.937209 140290448865152 saver.py:1483] Saver not created because there are no variables in the graph to restore\n"
     ]
    },
    {
     "name": "stdout",
     "output_type": "stream",
     "text": [
      "INFO:tensorflow:Saver not created because there are no variables in the graph to restore\n"
     ]
    },
    {
     "name": "stderr",
     "output_type": "stream",
     "text": [
      "I0608 21:03:35.859592 140290448865152 saver.py:1483] Saver not created because there are no variables in the graph to restore\n"
     ]
    },
    {
     "name": "stdout",
     "output_type": "stream",
     "text": [
      "WARNING:tensorflow:From ./gdrive/My Drive/NLU/Projects/project_2/bert_sct_utils_v2.py:506: BasicLSTMCell.__init__ (from tensorflow.python.ops.rnn_cell_impl) is deprecated and will be removed in a future version.\n",
      "Instructions for updating:\n",
      "This class is equivalent as tf.keras.layers.LSTMCell, and will be replaced by that in Tensorflow 2.0.\n"
     ]
    },
    {
     "name": "stderr",
     "output_type": "stream",
     "text": [
      "W0608 21:03:36.020634 140290448865152 deprecation.py:323] From ./gdrive/My Drive/NLU/Projects/project_2/bert_sct_utils_v2.py:506: BasicLSTMCell.__init__ (from tensorflow.python.ops.rnn_cell_impl) is deprecated and will be removed in a future version.\n",
      "Instructions for updating:\n",
      "This class is equivalent as tf.keras.layers.LSTMCell, and will be replaced by that in Tensorflow 2.0.\n"
     ]
    },
    {
     "name": "stdout",
     "output_type": "stream",
     "text": [
      "INFO:tensorflow:logits_pos, shape = (?, 1)\n"
     ]
    },
    {
     "name": "stderr",
     "output_type": "stream",
     "text": [
      "I0608 21:03:36.076052 140290448865152 bert_sct_utils_v2.py:535] logits_pos, shape = (?, 1)\n"
     ]
    },
    {
     "name": "stdout",
     "output_type": "stream",
     "text": [
      "INFO:tensorflow:logits_neg, shape = (?, 1)\n"
     ]
    },
    {
     "name": "stderr",
     "output_type": "stream",
     "text": [
      "I0608 21:03:36.080781 140290448865152 bert_sct_utils_v2.py:536] logits_neg, shape = (?, 1)\n"
     ]
    },
    {
     "name": "stdout",
     "output_type": "stream",
     "text": [
      "INFO:tensorflow:logits, shape = (?, 2)\n"
     ]
    },
    {
     "name": "stderr",
     "output_type": "stream",
     "text": [
      "I0608 21:03:36.083343 140290448865152 bert_sct_utils_v2.py:537] logits, shape = (?, 2)\n"
     ]
    },
    {
     "name": "stdout",
     "output_type": "stream",
     "text": [
      "INFO:tensorflow:probabilities, shape = (?, 2)\n"
     ]
    },
    {
     "name": "stderr",
     "output_type": "stream",
     "text": [
      "I0608 21:03:36.086834 140290448865152 bert_sct_utils_v2.py:539] probabilities, shape = (?, 2)\n"
     ]
    },
    {
     "name": "stdout",
     "output_type": "stream",
     "text": [
      "INFO:tensorflow:log_probs, shape = (?, 2)\n"
     ]
    },
    {
     "name": "stderr",
     "output_type": "stream",
     "text": [
      "I0608 21:03:36.090105 140290448865152 bert_sct_utils_v2.py:540] log_probs, shape = (?, 2)\n"
     ]
    },
    {
     "name": "stdout",
     "output_type": "stream",
     "text": [
      "INFO:tensorflow:one_hot_labels, shape = (?, 2)\n"
     ]
    },
    {
     "name": "stderr",
     "output_type": "stream",
     "text": [
      "I0608 21:03:36.093485 140290448865152 bert_sct_utils_v2.py:541] one_hot_labels, shape = (?, 2)\n"
     ]
    },
    {
     "name": "stdout",
     "output_type": "stream",
     "text": [
      "INFO:tensorflow:predicted_labels, shape = (?,)\n"
     ]
    },
    {
     "name": "stderr",
     "output_type": "stream",
     "text": [
      "I0608 21:03:36.098185 140290448865152 bert_sct_utils_v2.py:542] predicted_labels, shape = (?,)\n"
     ]
    },
    {
     "name": "stdout",
     "output_type": "stream",
     "text": [
      "INFO:tensorflow:per_example_loss, shape = (?,)\n"
     ]
    },
    {
     "name": "stderr",
     "output_type": "stream",
     "text": [
      "I0608 21:03:36.102114 140290448865152 bert_sct_utils_v2.py:543] per_example_loss, shape = (?,)\n"
     ]
    },
    {
     "name": "stdout",
     "output_type": "stream",
     "text": [
      "INFO:tensorflow:loss, shape = ()\n"
     ]
    },
    {
     "name": "stderr",
     "output_type": "stream",
     "text": [
      "I0608 21:03:36.105856 140290448865152 bert_sct_utils_v2.py:544] loss, shape = ()\n"
     ]
    },
    {
     "name": "stdout",
     "output_type": "stream",
     "text": [
      "INFO:tensorflow:**** Trainable Variables ****\n"
     ]
    },
    {
     "name": "stderr",
     "output_type": "stream",
     "text": [
      "I0608 21:03:36.147459 140290448865152 bert_sct_utils_v2.py:595] **** Trainable Variables ****\n"
     ]
    },
    {
     "name": "stdout",
     "output_type": "stream",
     "text": [
      "INFO:tensorflow:  name = module/bert/embeddings/word_embeddings:0, shape = (30522, 768), *INIT_FROM_HUB*\n"
     ]
    },
    {
     "name": "stderr",
     "output_type": "stream",
     "text": [
      "I0608 21:03:36.149346 140290448865152 bert_sct_utils_v2.py:600]   name = module/bert/embeddings/word_embeddings:0, shape = (30522, 768), *INIT_FROM_HUB*\n"
     ]
    },
    {
     "name": "stdout",
     "output_type": "stream",
     "text": [
      "INFO:tensorflow:  name = module/bert/embeddings/token_type_embeddings:0, shape = (2, 768), *INIT_FROM_HUB*\n"
     ]
    },
    {
     "name": "stderr",
     "output_type": "stream",
     "text": [
      "I0608 21:03:36.151116 140290448865152 bert_sct_utils_v2.py:600]   name = module/bert/embeddings/token_type_embeddings:0, shape = (2, 768), *INIT_FROM_HUB*\n"
     ]
    },
    {
     "name": "stdout",
     "output_type": "stream",
     "text": [
      "INFO:tensorflow:  name = module/bert/embeddings/position_embeddings:0, shape = (512, 768), *INIT_FROM_HUB*\n"
     ]
    },
    {
     "name": "stderr",
     "output_type": "stream",
     "text": [
      "I0608 21:03:36.159397 140290448865152 bert_sct_utils_v2.py:600]   name = module/bert/embeddings/position_embeddings:0, shape = (512, 768), *INIT_FROM_HUB*\n"
     ]
    },
    {
     "name": "stdout",
     "output_type": "stream",
     "text": [
      "INFO:tensorflow:  name = module/bert/embeddings/LayerNorm/beta:0, shape = (768,), *INIT_FROM_HUB*\n"
     ]
    },
    {
     "name": "stderr",
     "output_type": "stream",
     "text": [
      "I0608 21:03:36.163422 140290448865152 bert_sct_utils_v2.py:600]   name = module/bert/embeddings/LayerNorm/beta:0, shape = (768,), *INIT_FROM_HUB*\n"
     ]
    },
    {
     "name": "stdout",
     "output_type": "stream",
     "text": [
      "INFO:tensorflow:  name = module/bert/embeddings/LayerNorm/gamma:0, shape = (768,), *INIT_FROM_HUB*\n"
     ]
    },
    {
     "name": "stderr",
     "output_type": "stream",
     "text": [
      "I0608 21:03:36.167716 140290448865152 bert_sct_utils_v2.py:600]   name = module/bert/embeddings/LayerNorm/gamma:0, shape = (768,), *INIT_FROM_HUB*\n"
     ]
    },
    {
     "name": "stdout",
     "output_type": "stream",
     "text": [
      "INFO:tensorflow:  name = module/bert/encoder/layer_0/attention/self/query/kernel:0, shape = (768, 768), *INIT_FROM_HUB*\n"
     ]
    },
    {
     "name": "stderr",
     "output_type": "stream",
     "text": [
      "I0608 21:03:36.175050 140290448865152 bert_sct_utils_v2.py:600]   name = module/bert/encoder/layer_0/attention/self/query/kernel:0, shape = (768, 768), *INIT_FROM_HUB*\n"
     ]
    },
    {
     "name": "stdout",
     "output_type": "stream",
     "text": [
      "INFO:tensorflow:  name = module/bert/encoder/layer_0/attention/self/query/bias:0, shape = (768,), *INIT_FROM_HUB*\n"
     ]
    },
    {
     "name": "stderr",
     "output_type": "stream",
     "text": [
      "I0608 21:03:36.180828 140290448865152 bert_sct_utils_v2.py:600]   name = module/bert/encoder/layer_0/attention/self/query/bias:0, shape = (768,), *INIT_FROM_HUB*\n"
     ]
    },
    {
     "name": "stdout",
     "output_type": "stream",
     "text": [
      "INFO:tensorflow:  name = module/bert/encoder/layer_0/attention/self/key/kernel:0, shape = (768, 768), *INIT_FROM_HUB*\n"
     ]
    },
    {
     "name": "stderr",
     "output_type": "stream",
     "text": [
      "I0608 21:03:36.185984 140290448865152 bert_sct_utils_v2.py:600]   name = module/bert/encoder/layer_0/attention/self/key/kernel:0, shape = (768, 768), *INIT_FROM_HUB*\n"
     ]
    },
    {
     "name": "stdout",
     "output_type": "stream",
     "text": [
      "INFO:tensorflow:  name = module/bert/encoder/layer_0/attention/self/key/bias:0, shape = (768,), *INIT_FROM_HUB*\n"
     ]
    },
    {
     "name": "stderr",
     "output_type": "stream",
     "text": [
      "I0608 21:03:36.188119 140290448865152 bert_sct_utils_v2.py:600]   name = module/bert/encoder/layer_0/attention/self/key/bias:0, shape = (768,), *INIT_FROM_HUB*\n"
     ]
    },
    {
     "name": "stdout",
     "output_type": "stream",
     "text": [
      "INFO:tensorflow:  name = module/bert/encoder/layer_0/attention/self/value/kernel:0, shape = (768, 768), *INIT_FROM_HUB*\n"
     ]
    },
    {
     "name": "stderr",
     "output_type": "stream",
     "text": [
      "I0608 21:03:36.190874 140290448865152 bert_sct_utils_v2.py:600]   name = module/bert/encoder/layer_0/attention/self/value/kernel:0, shape = (768, 768), *INIT_FROM_HUB*\n"
     ]
    },
    {
     "name": "stdout",
     "output_type": "stream",
     "text": [
      "INFO:tensorflow:  name = module/bert/encoder/layer_0/attention/self/value/bias:0, shape = (768,), *INIT_FROM_HUB*\n"
     ]
    },
    {
     "name": "stderr",
     "output_type": "stream",
     "text": [
      "I0608 21:03:36.193699 140290448865152 bert_sct_utils_v2.py:600]   name = module/bert/encoder/layer_0/attention/self/value/bias:0, shape = (768,), *INIT_FROM_HUB*\n"
     ]
    },
    {
     "name": "stdout",
     "output_type": "stream",
     "text": [
      "INFO:tensorflow:  name = module/bert/encoder/layer_0/attention/output/dense/kernel:0, shape = (768, 768), *INIT_FROM_HUB*\n"
     ]
    },
    {
     "name": "stderr",
     "output_type": "stream",
     "text": [
      "I0608 21:03:36.195803 140290448865152 bert_sct_utils_v2.py:600]   name = module/bert/encoder/layer_0/attention/output/dense/kernel:0, shape = (768, 768), *INIT_FROM_HUB*\n"
     ]
    },
    {
     "name": "stdout",
     "output_type": "stream",
     "text": [
      "INFO:tensorflow:  name = module/bert/encoder/layer_0/attention/output/dense/bias:0, shape = (768,), *INIT_FROM_HUB*\n"
     ]
    },
    {
     "name": "stderr",
     "output_type": "stream",
     "text": [
      "I0608 21:03:36.199430 140290448865152 bert_sct_utils_v2.py:600]   name = module/bert/encoder/layer_0/attention/output/dense/bias:0, shape = (768,), *INIT_FROM_HUB*\n"
     ]
    },
    {
     "name": "stdout",
     "output_type": "stream",
     "text": [
      "INFO:tensorflow:  name = module/bert/encoder/layer_0/attention/output/LayerNorm/beta:0, shape = (768,), *INIT_FROM_HUB*\n"
     ]
    },
    {
     "name": "stderr",
     "output_type": "stream",
     "text": [
      "I0608 21:03:36.202296 140290448865152 bert_sct_utils_v2.py:600]   name = module/bert/encoder/layer_0/attention/output/LayerNorm/beta:0, shape = (768,), *INIT_FROM_HUB*\n"
     ]
    },
    {
     "name": "stdout",
     "output_type": "stream",
     "text": [
      "INFO:tensorflow:  name = module/bert/encoder/layer_0/attention/output/LayerNorm/gamma:0, shape = (768,), *INIT_FROM_HUB*\n"
     ]
    },
    {
     "name": "stderr",
     "output_type": "stream",
     "text": [
      "I0608 21:03:36.204228 140290448865152 bert_sct_utils_v2.py:600]   name = module/bert/encoder/layer_0/attention/output/LayerNorm/gamma:0, shape = (768,), *INIT_FROM_HUB*\n"
     ]
    },
    {
     "name": "stdout",
     "output_type": "stream",
     "text": [
      "INFO:tensorflow:  name = module/bert/encoder/layer_0/intermediate/dense/kernel:0, shape = (768, 3072), *INIT_FROM_HUB*\n"
     ]
    },
    {
     "name": "stderr",
     "output_type": "stream",
     "text": [
      "I0608 21:03:36.206764 140290448865152 bert_sct_utils_v2.py:600]   name = module/bert/encoder/layer_0/intermediate/dense/kernel:0, shape = (768, 3072), *INIT_FROM_HUB*\n"
     ]
    },
    {
     "name": "stdout",
     "output_type": "stream",
     "text": [
      "INFO:tensorflow:  name = module/bert/encoder/layer_0/intermediate/dense/bias:0, shape = (3072,), *INIT_FROM_HUB*\n"
     ]
    },
    {
     "name": "stderr",
     "output_type": "stream",
     "text": [
      "I0608 21:03:36.209209 140290448865152 bert_sct_utils_v2.py:600]   name = module/bert/encoder/layer_0/intermediate/dense/bias:0, shape = (3072,), *INIT_FROM_HUB*\n"
     ]
    },
    {
     "name": "stdout",
     "output_type": "stream",
     "text": [
      "INFO:tensorflow:  name = module/bert/encoder/layer_0/output/dense/kernel:0, shape = (3072, 768), *INIT_FROM_HUB*\n"
     ]
    },
    {
     "name": "stderr",
     "output_type": "stream",
     "text": [
      "I0608 21:03:36.211392 140290448865152 bert_sct_utils_v2.py:600]   name = module/bert/encoder/layer_0/output/dense/kernel:0, shape = (3072, 768), *INIT_FROM_HUB*\n"
     ]
    },
    {
     "name": "stdout",
     "output_type": "stream",
     "text": [
      "INFO:tensorflow:  name = module/bert/encoder/layer_0/output/dense/bias:0, shape = (768,), *INIT_FROM_HUB*\n"
     ]
    },
    {
     "name": "stderr",
     "output_type": "stream",
     "text": [
      "I0608 21:03:36.214322 140290448865152 bert_sct_utils_v2.py:600]   name = module/bert/encoder/layer_0/output/dense/bias:0, shape = (768,), *INIT_FROM_HUB*\n"
     ]
    },
    {
     "name": "stdout",
     "output_type": "stream",
     "text": [
      "INFO:tensorflow:  name = module/bert/encoder/layer_0/output/LayerNorm/beta:0, shape = (768,), *INIT_FROM_HUB*\n"
     ]
    },
    {
     "name": "stderr",
     "output_type": "stream",
     "text": [
      "I0608 21:03:36.216282 140290448865152 bert_sct_utils_v2.py:600]   name = module/bert/encoder/layer_0/output/LayerNorm/beta:0, shape = (768,), *INIT_FROM_HUB*\n"
     ]
    },
    {
     "name": "stdout",
     "output_type": "stream",
     "text": [
      "INFO:tensorflow:  name = module/bert/encoder/layer_0/output/LayerNorm/gamma:0, shape = (768,), *INIT_FROM_HUB*\n"
     ]
    },
    {
     "name": "stderr",
     "output_type": "stream",
     "text": [
      "I0608 21:03:36.218683 140290448865152 bert_sct_utils_v2.py:600]   name = module/bert/encoder/layer_0/output/LayerNorm/gamma:0, shape = (768,), *INIT_FROM_HUB*\n"
     ]
    },
    {
     "name": "stdout",
     "output_type": "stream",
     "text": [
      "INFO:tensorflow:  name = module/bert/encoder/layer_1/attention/self/query/kernel:0, shape = (768, 768), *INIT_FROM_HUB*\n"
     ]
    },
    {
     "name": "stderr",
     "output_type": "stream",
     "text": [
      "I0608 21:03:36.221797 140290448865152 bert_sct_utils_v2.py:600]   name = module/bert/encoder/layer_1/attention/self/query/kernel:0, shape = (768, 768), *INIT_FROM_HUB*\n"
     ]
    },
    {
     "name": "stdout",
     "output_type": "stream",
     "text": [
      "INFO:tensorflow:  name = module/bert/encoder/layer_1/attention/self/query/bias:0, shape = (768,), *INIT_FROM_HUB*\n"
     ]
    },
    {
     "name": "stderr",
     "output_type": "stream",
     "text": [
      "I0608 21:03:36.225047 140290448865152 bert_sct_utils_v2.py:600]   name = module/bert/encoder/layer_1/attention/self/query/bias:0, shape = (768,), *INIT_FROM_HUB*\n"
     ]
    },
    {
     "name": "stdout",
     "output_type": "stream",
     "text": [
      "INFO:tensorflow:  name = module/bert/encoder/layer_1/attention/self/key/kernel:0, shape = (768, 768), *INIT_FROM_HUB*\n"
     ]
    },
    {
     "name": "stderr",
     "output_type": "stream",
     "text": [
      "I0608 21:03:36.227581 140290448865152 bert_sct_utils_v2.py:600]   name = module/bert/encoder/layer_1/attention/self/key/kernel:0, shape = (768, 768), *INIT_FROM_HUB*\n"
     ]
    },
    {
     "name": "stdout",
     "output_type": "stream",
     "text": [
      "INFO:tensorflow:  name = module/bert/encoder/layer_1/attention/self/key/bias:0, shape = (768,), *INIT_FROM_HUB*\n"
     ]
    },
    {
     "name": "stderr",
     "output_type": "stream",
     "text": [
      "I0608 21:03:36.229793 140290448865152 bert_sct_utils_v2.py:600]   name = module/bert/encoder/layer_1/attention/self/key/bias:0, shape = (768,), *INIT_FROM_HUB*\n"
     ]
    },
    {
     "name": "stdout",
     "output_type": "stream",
     "text": [
      "INFO:tensorflow:  name = module/bert/encoder/layer_1/attention/self/value/kernel:0, shape = (768, 768), *INIT_FROM_HUB*\n"
     ]
    },
    {
     "name": "stderr",
     "output_type": "stream",
     "text": [
      "I0608 21:03:36.232167 140290448865152 bert_sct_utils_v2.py:600]   name = module/bert/encoder/layer_1/attention/self/value/kernel:0, shape = (768, 768), *INIT_FROM_HUB*\n"
     ]
    },
    {
     "name": "stdout",
     "output_type": "stream",
     "text": [
      "INFO:tensorflow:  name = module/bert/encoder/layer_1/attention/self/value/bias:0, shape = (768,), *INIT_FROM_HUB*\n"
     ]
    },
    {
     "name": "stderr",
     "output_type": "stream",
     "text": [
      "I0608 21:03:36.234233 140290448865152 bert_sct_utils_v2.py:600]   name = module/bert/encoder/layer_1/attention/self/value/bias:0, shape = (768,), *INIT_FROM_HUB*\n"
     ]
    },
    {
     "name": "stdout",
     "output_type": "stream",
     "text": [
      "INFO:tensorflow:  name = module/bert/encoder/layer_1/attention/output/dense/kernel:0, shape = (768, 768), *INIT_FROM_HUB*\n"
     ]
    },
    {
     "name": "stderr",
     "output_type": "stream",
     "text": [
      "I0608 21:03:36.236754 140290448865152 bert_sct_utils_v2.py:600]   name = module/bert/encoder/layer_1/attention/output/dense/kernel:0, shape = (768, 768), *INIT_FROM_HUB*\n"
     ]
    },
    {
     "name": "stdout",
     "output_type": "stream",
     "text": [
      "INFO:tensorflow:  name = module/bert/encoder/layer_1/attention/output/dense/bias:0, shape = (768,), *INIT_FROM_HUB*\n"
     ]
    },
    {
     "name": "stderr",
     "output_type": "stream",
     "text": [
      "I0608 21:03:36.239237 140290448865152 bert_sct_utils_v2.py:600]   name = module/bert/encoder/layer_1/attention/output/dense/bias:0, shape = (768,), *INIT_FROM_HUB*\n"
     ]
    },
    {
     "name": "stdout",
     "output_type": "stream",
     "text": [
      "INFO:tensorflow:  name = module/bert/encoder/layer_1/attention/output/LayerNorm/beta:0, shape = (768,), *INIT_FROM_HUB*\n"
     ]
    },
    {
     "name": "stderr",
     "output_type": "stream",
     "text": [
      "I0608 21:03:36.241823 140290448865152 bert_sct_utils_v2.py:600]   name = module/bert/encoder/layer_1/attention/output/LayerNorm/beta:0, shape = (768,), *INIT_FROM_HUB*\n"
     ]
    },
    {
     "name": "stdout",
     "output_type": "stream",
     "text": [
      "INFO:tensorflow:  name = module/bert/encoder/layer_1/attention/output/LayerNorm/gamma:0, shape = (768,), *INIT_FROM_HUB*\n"
     ]
    },
    {
     "name": "stderr",
     "output_type": "stream",
     "text": [
      "I0608 21:03:36.244350 140290448865152 bert_sct_utils_v2.py:600]   name = module/bert/encoder/layer_1/attention/output/LayerNorm/gamma:0, shape = (768,), *INIT_FROM_HUB*\n"
     ]
    },
    {
     "name": "stdout",
     "output_type": "stream",
     "text": [
      "INFO:tensorflow:  name = module/bert/encoder/layer_1/intermediate/dense/kernel:0, shape = (768, 3072), *INIT_FROM_HUB*\n"
     ]
    },
    {
     "name": "stderr",
     "output_type": "stream",
     "text": [
      "I0608 21:03:36.246374 140290448865152 bert_sct_utils_v2.py:600]   name = module/bert/encoder/layer_1/intermediate/dense/kernel:0, shape = (768, 3072), *INIT_FROM_HUB*\n"
     ]
    },
    {
     "name": "stdout",
     "output_type": "stream",
     "text": [
      "INFO:tensorflow:  name = module/bert/encoder/layer_1/intermediate/dense/bias:0, shape = (3072,), *INIT_FROM_HUB*\n"
     ]
    },
    {
     "name": "stderr",
     "output_type": "stream",
     "text": [
      "I0608 21:03:36.248883 140290448865152 bert_sct_utils_v2.py:600]   name = module/bert/encoder/layer_1/intermediate/dense/bias:0, shape = (3072,), *INIT_FROM_HUB*\n"
     ]
    },
    {
     "name": "stdout",
     "output_type": "stream",
     "text": [
      "INFO:tensorflow:  name = module/bert/encoder/layer_1/output/dense/kernel:0, shape = (3072, 768), *INIT_FROM_HUB*\n"
     ]
    },
    {
     "name": "stderr",
     "output_type": "stream",
     "text": [
      "I0608 21:03:36.251320 140290448865152 bert_sct_utils_v2.py:600]   name = module/bert/encoder/layer_1/output/dense/kernel:0, shape = (3072, 768), *INIT_FROM_HUB*\n"
     ]
    },
    {
     "name": "stdout",
     "output_type": "stream",
     "text": [
      "INFO:tensorflow:  name = module/bert/encoder/layer_1/output/dense/bias:0, shape = (768,), *INIT_FROM_HUB*\n"
     ]
    },
    {
     "name": "stderr",
     "output_type": "stream",
     "text": [
      "I0608 21:03:36.254476 140290448865152 bert_sct_utils_v2.py:600]   name = module/bert/encoder/layer_1/output/dense/bias:0, shape = (768,), *INIT_FROM_HUB*\n"
     ]
    },
    {
     "name": "stdout",
     "output_type": "stream",
     "text": [
      "INFO:tensorflow:  name = module/bert/encoder/layer_1/output/LayerNorm/beta:0, shape = (768,), *INIT_FROM_HUB*\n"
     ]
    },
    {
     "name": "stderr",
     "output_type": "stream",
     "text": [
      "I0608 21:03:36.258549 140290448865152 bert_sct_utils_v2.py:600]   name = module/bert/encoder/layer_1/output/LayerNorm/beta:0, shape = (768,), *INIT_FROM_HUB*\n"
     ]
    },
    {
     "name": "stdout",
     "output_type": "stream",
     "text": [
      "INFO:tensorflow:  name = module/bert/encoder/layer_1/output/LayerNorm/gamma:0, shape = (768,), *INIT_FROM_HUB*\n"
     ]
    },
    {
     "name": "stderr",
     "output_type": "stream",
     "text": [
      "I0608 21:03:36.260018 140290448865152 bert_sct_utils_v2.py:600]   name = module/bert/encoder/layer_1/output/LayerNorm/gamma:0, shape = (768,), *INIT_FROM_HUB*\n"
     ]
    },
    {
     "name": "stdout",
     "output_type": "stream",
     "text": [
      "INFO:tensorflow:  name = module/bert/encoder/layer_2/attention/self/query/kernel:0, shape = (768, 768), *INIT_FROM_HUB*\n"
     ]
    },
    {
     "name": "stderr",
     "output_type": "stream",
     "text": [
      "I0608 21:03:36.261924 140290448865152 bert_sct_utils_v2.py:600]   name = module/bert/encoder/layer_2/attention/self/query/kernel:0, shape = (768, 768), *INIT_FROM_HUB*\n"
     ]
    },
    {
     "name": "stdout",
     "output_type": "stream",
     "text": [
      "INFO:tensorflow:  name = module/bert/encoder/layer_2/attention/self/query/bias:0, shape = (768,), *INIT_FROM_HUB*\n"
     ]
    },
    {
     "name": "stderr",
     "output_type": "stream",
     "text": [
      "I0608 21:03:36.263949 140290448865152 bert_sct_utils_v2.py:600]   name = module/bert/encoder/layer_2/attention/self/query/bias:0, shape = (768,), *INIT_FROM_HUB*\n"
     ]
    },
    {
     "name": "stdout",
     "output_type": "stream",
     "text": [
      "INFO:tensorflow:  name = module/bert/encoder/layer_2/attention/self/key/kernel:0, shape = (768, 768), *INIT_FROM_HUB*\n"
     ]
    },
    {
     "name": "stderr",
     "output_type": "stream",
     "text": [
      "I0608 21:03:36.265983 140290448865152 bert_sct_utils_v2.py:600]   name = module/bert/encoder/layer_2/attention/self/key/kernel:0, shape = (768, 768), *INIT_FROM_HUB*\n"
     ]
    },
    {
     "name": "stdout",
     "output_type": "stream",
     "text": [
      "INFO:tensorflow:  name = module/bert/encoder/layer_2/attention/self/key/bias:0, shape = (768,), *INIT_FROM_HUB*\n"
     ]
    },
    {
     "name": "stderr",
     "output_type": "stream",
     "text": [
      "I0608 21:03:36.269839 140290448865152 bert_sct_utils_v2.py:600]   name = module/bert/encoder/layer_2/attention/self/key/bias:0, shape = (768,), *INIT_FROM_HUB*\n"
     ]
    },
    {
     "name": "stdout",
     "output_type": "stream",
     "text": [
      "INFO:tensorflow:  name = module/bert/encoder/layer_2/attention/self/value/kernel:0, shape = (768, 768), *INIT_FROM_HUB*\n"
     ]
    },
    {
     "name": "stderr",
     "output_type": "stream",
     "text": [
      "I0608 21:03:36.271188 140290448865152 bert_sct_utils_v2.py:600]   name = module/bert/encoder/layer_2/attention/self/value/kernel:0, shape = (768, 768), *INIT_FROM_HUB*\n"
     ]
    },
    {
     "name": "stdout",
     "output_type": "stream",
     "text": [
      "INFO:tensorflow:  name = module/bert/encoder/layer_2/attention/self/value/bias:0, shape = (768,), *INIT_FROM_HUB*\n"
     ]
    },
    {
     "name": "stderr",
     "output_type": "stream",
     "text": [
      "I0608 21:03:36.272727 140290448865152 bert_sct_utils_v2.py:600]   name = module/bert/encoder/layer_2/attention/self/value/bias:0, shape = (768,), *INIT_FROM_HUB*\n"
     ]
    },
    {
     "name": "stdout",
     "output_type": "stream",
     "text": [
      "INFO:tensorflow:  name = module/bert/encoder/layer_2/attention/output/dense/kernel:0, shape = (768, 768), *INIT_FROM_HUB*\n"
     ]
    },
    {
     "name": "stderr",
     "output_type": "stream",
     "text": [
      "I0608 21:03:36.274500 140290448865152 bert_sct_utils_v2.py:600]   name = module/bert/encoder/layer_2/attention/output/dense/kernel:0, shape = (768, 768), *INIT_FROM_HUB*\n"
     ]
    },
    {
     "name": "stdout",
     "output_type": "stream",
     "text": [
      "INFO:tensorflow:  name = module/bert/encoder/layer_2/attention/output/dense/bias:0, shape = (768,), *INIT_FROM_HUB*\n"
     ]
    },
    {
     "name": "stderr",
     "output_type": "stream",
     "text": [
      "I0608 21:03:36.276624 140290448865152 bert_sct_utils_v2.py:600]   name = module/bert/encoder/layer_2/attention/output/dense/bias:0, shape = (768,), *INIT_FROM_HUB*\n"
     ]
    },
    {
     "name": "stdout",
     "output_type": "stream",
     "text": [
      "INFO:tensorflow:  name = module/bert/encoder/layer_2/attention/output/LayerNorm/beta:0, shape = (768,), *INIT_FROM_HUB*\n"
     ]
    },
    {
     "name": "stderr",
     "output_type": "stream",
     "text": [
      "I0608 21:03:36.278687 140290448865152 bert_sct_utils_v2.py:600]   name = module/bert/encoder/layer_2/attention/output/LayerNorm/beta:0, shape = (768,), *INIT_FROM_HUB*\n"
     ]
    },
    {
     "name": "stdout",
     "output_type": "stream",
     "text": [
      "INFO:tensorflow:  name = module/bert/encoder/layer_2/attention/output/LayerNorm/gamma:0, shape = (768,), *INIT_FROM_HUB*\n"
     ]
    },
    {
     "name": "stderr",
     "output_type": "stream",
     "text": [
      "I0608 21:03:36.281239 140290448865152 bert_sct_utils_v2.py:600]   name = module/bert/encoder/layer_2/attention/output/LayerNorm/gamma:0, shape = (768,), *INIT_FROM_HUB*\n"
     ]
    },
    {
     "name": "stdout",
     "output_type": "stream",
     "text": [
      "INFO:tensorflow:  name = module/bert/encoder/layer_2/intermediate/dense/kernel:0, shape = (768, 3072), *INIT_FROM_HUB*\n"
     ]
    },
    {
     "name": "stderr",
     "output_type": "stream",
     "text": [
      "I0608 21:03:36.284857 140290448865152 bert_sct_utils_v2.py:600]   name = module/bert/encoder/layer_2/intermediate/dense/kernel:0, shape = (768, 3072), *INIT_FROM_HUB*\n"
     ]
    },
    {
     "name": "stdout",
     "output_type": "stream",
     "text": [
      "INFO:tensorflow:  name = module/bert/encoder/layer_2/intermediate/dense/bias:0, shape = (3072,), *INIT_FROM_HUB*\n"
     ]
    },
    {
     "name": "stderr",
     "output_type": "stream",
     "text": [
      "I0608 21:03:36.289201 140290448865152 bert_sct_utils_v2.py:600]   name = module/bert/encoder/layer_2/intermediate/dense/bias:0, shape = (3072,), *INIT_FROM_HUB*\n"
     ]
    },
    {
     "name": "stdout",
     "output_type": "stream",
     "text": [
      "INFO:tensorflow:  name = module/bert/encoder/layer_2/output/dense/kernel:0, shape = (3072, 768), *INIT_FROM_HUB*\n"
     ]
    },
    {
     "name": "stderr",
     "output_type": "stream",
     "text": [
      "I0608 21:03:36.291350 140290448865152 bert_sct_utils_v2.py:600]   name = module/bert/encoder/layer_2/output/dense/kernel:0, shape = (3072, 768), *INIT_FROM_HUB*\n"
     ]
    },
    {
     "name": "stdout",
     "output_type": "stream",
     "text": [
      "INFO:tensorflow:  name = module/bert/encoder/layer_2/output/dense/bias:0, shape = (768,), *INIT_FROM_HUB*\n"
     ]
    },
    {
     "name": "stderr",
     "output_type": "stream",
     "text": [
      "I0608 21:03:36.294262 140290448865152 bert_sct_utils_v2.py:600]   name = module/bert/encoder/layer_2/output/dense/bias:0, shape = (768,), *INIT_FROM_HUB*\n"
     ]
    },
    {
     "name": "stdout",
     "output_type": "stream",
     "text": [
      "INFO:tensorflow:  name = module/bert/encoder/layer_2/output/LayerNorm/beta:0, shape = (768,), *INIT_FROM_HUB*\n"
     ]
    },
    {
     "name": "stderr",
     "output_type": "stream",
     "text": [
      "I0608 21:03:36.296284 140290448865152 bert_sct_utils_v2.py:600]   name = module/bert/encoder/layer_2/output/LayerNorm/beta:0, shape = (768,), *INIT_FROM_HUB*\n"
     ]
    },
    {
     "name": "stdout",
     "output_type": "stream",
     "text": [
      "INFO:tensorflow:  name = module/bert/encoder/layer_2/output/LayerNorm/gamma:0, shape = (768,), *INIT_FROM_HUB*\n"
     ]
    },
    {
     "name": "stderr",
     "output_type": "stream",
     "text": [
      "I0608 21:03:36.299634 140290448865152 bert_sct_utils_v2.py:600]   name = module/bert/encoder/layer_2/output/LayerNorm/gamma:0, shape = (768,), *INIT_FROM_HUB*\n"
     ]
    },
    {
     "name": "stdout",
     "output_type": "stream",
     "text": [
      "INFO:tensorflow:  name = module/bert/encoder/layer_3/attention/self/query/kernel:0, shape = (768, 768), *INIT_FROM_HUB*\n"
     ]
    },
    {
     "name": "stderr",
     "output_type": "stream",
     "text": [
      "I0608 21:03:36.301720 140290448865152 bert_sct_utils_v2.py:600]   name = module/bert/encoder/layer_3/attention/self/query/kernel:0, shape = (768, 768), *INIT_FROM_HUB*\n"
     ]
    },
    {
     "name": "stdout",
     "output_type": "stream",
     "text": [
      "INFO:tensorflow:  name = module/bert/encoder/layer_3/attention/self/query/bias:0, shape = (768,), *INIT_FROM_HUB*\n"
     ]
    },
    {
     "name": "stderr",
     "output_type": "stream",
     "text": [
      "I0608 21:03:36.304154 140290448865152 bert_sct_utils_v2.py:600]   name = module/bert/encoder/layer_3/attention/self/query/bias:0, shape = (768,), *INIT_FROM_HUB*\n"
     ]
    },
    {
     "name": "stdout",
     "output_type": "stream",
     "text": [
      "INFO:tensorflow:  name = module/bert/encoder/layer_3/attention/self/key/kernel:0, shape = (768, 768), *INIT_FROM_HUB*\n"
     ]
    },
    {
     "name": "stderr",
     "output_type": "stream",
     "text": [
      "I0608 21:03:36.307013 140290448865152 bert_sct_utils_v2.py:600]   name = module/bert/encoder/layer_3/attention/self/key/kernel:0, shape = (768, 768), *INIT_FROM_HUB*\n"
     ]
    },
    {
     "name": "stdout",
     "output_type": "stream",
     "text": [
      "INFO:tensorflow:  name = module/bert/encoder/layer_3/attention/self/key/bias:0, shape = (768,), *INIT_FROM_HUB*\n"
     ]
    },
    {
     "name": "stderr",
     "output_type": "stream",
     "text": [
      "I0608 21:03:36.310260 140290448865152 bert_sct_utils_v2.py:600]   name = module/bert/encoder/layer_3/attention/self/key/bias:0, shape = (768,), *INIT_FROM_HUB*\n"
     ]
    },
    {
     "name": "stdout",
     "output_type": "stream",
     "text": [
      "INFO:tensorflow:  name = module/bert/encoder/layer_3/attention/self/value/kernel:0, shape = (768, 768), *INIT_FROM_HUB*\n"
     ]
    },
    {
     "name": "stderr",
     "output_type": "stream",
     "text": [
      "I0608 21:03:36.312244 140290448865152 bert_sct_utils_v2.py:600]   name = module/bert/encoder/layer_3/attention/self/value/kernel:0, shape = (768, 768), *INIT_FROM_HUB*\n"
     ]
    },
    {
     "name": "stdout",
     "output_type": "stream",
     "text": [
      "INFO:tensorflow:  name = module/bert/encoder/layer_3/attention/self/value/bias:0, shape = (768,), *INIT_FROM_HUB*\n"
     ]
    },
    {
     "name": "stderr",
     "output_type": "stream",
     "text": [
      "I0608 21:03:36.314739 140290448865152 bert_sct_utils_v2.py:600]   name = module/bert/encoder/layer_3/attention/self/value/bias:0, shape = (768,), *INIT_FROM_HUB*\n"
     ]
    },
    {
     "name": "stdout",
     "output_type": "stream",
     "text": [
      "INFO:tensorflow:  name = module/bert/encoder/layer_3/attention/output/dense/kernel:0, shape = (768, 768), *INIT_FROM_HUB*\n"
     ]
    },
    {
     "name": "stderr",
     "output_type": "stream",
     "text": [
      "I0608 21:03:36.317565 140290448865152 bert_sct_utils_v2.py:600]   name = module/bert/encoder/layer_3/attention/output/dense/kernel:0, shape = (768, 768), *INIT_FROM_HUB*\n"
     ]
    },
    {
     "name": "stdout",
     "output_type": "stream",
     "text": [
      "INFO:tensorflow:  name = module/bert/encoder/layer_3/attention/output/dense/bias:0, shape = (768,), *INIT_FROM_HUB*\n"
     ]
    },
    {
     "name": "stderr",
     "output_type": "stream",
     "text": [
      "I0608 21:03:36.321244 140290448865152 bert_sct_utils_v2.py:600]   name = module/bert/encoder/layer_3/attention/output/dense/bias:0, shape = (768,), *INIT_FROM_HUB*\n"
     ]
    },
    {
     "name": "stdout",
     "output_type": "stream",
     "text": [
      "INFO:tensorflow:  name = module/bert/encoder/layer_3/attention/output/LayerNorm/beta:0, shape = (768,), *INIT_FROM_HUB*\n"
     ]
    },
    {
     "name": "stderr",
     "output_type": "stream",
     "text": [
      "I0608 21:03:36.323685 140290448865152 bert_sct_utils_v2.py:600]   name = module/bert/encoder/layer_3/attention/output/LayerNorm/beta:0, shape = (768,), *INIT_FROM_HUB*\n"
     ]
    },
    {
     "name": "stdout",
     "output_type": "stream",
     "text": [
      "INFO:tensorflow:  name = module/bert/encoder/layer_3/attention/output/LayerNorm/gamma:0, shape = (768,), *INIT_FROM_HUB*\n"
     ]
    },
    {
     "name": "stderr",
     "output_type": "stream",
     "text": [
      "I0608 21:03:36.325941 140290448865152 bert_sct_utils_v2.py:600]   name = module/bert/encoder/layer_3/attention/output/LayerNorm/gamma:0, shape = (768,), *INIT_FROM_HUB*\n"
     ]
    },
    {
     "name": "stdout",
     "output_type": "stream",
     "text": [
      "INFO:tensorflow:  name = module/bert/encoder/layer_3/intermediate/dense/kernel:0, shape = (768, 3072), *INIT_FROM_HUB*\n"
     ]
    },
    {
     "name": "stderr",
     "output_type": "stream",
     "text": [
      "I0608 21:03:36.328360 140290448865152 bert_sct_utils_v2.py:600]   name = module/bert/encoder/layer_3/intermediate/dense/kernel:0, shape = (768, 3072), *INIT_FROM_HUB*\n"
     ]
    },
    {
     "name": "stdout",
     "output_type": "stream",
     "text": [
      "INFO:tensorflow:  name = module/bert/encoder/layer_3/intermediate/dense/bias:0, shape = (3072,), *INIT_FROM_HUB*\n"
     ]
    },
    {
     "name": "stderr",
     "output_type": "stream",
     "text": [
      "I0608 21:03:36.330415 140290448865152 bert_sct_utils_v2.py:600]   name = module/bert/encoder/layer_3/intermediate/dense/bias:0, shape = (3072,), *INIT_FROM_HUB*\n"
     ]
    },
    {
     "name": "stdout",
     "output_type": "stream",
     "text": [
      "INFO:tensorflow:  name = module/bert/encoder/layer_3/output/dense/kernel:0, shape = (3072, 768), *INIT_FROM_HUB*\n"
     ]
    },
    {
     "name": "stderr",
     "output_type": "stream",
     "text": [
      "I0608 21:03:36.332783 140290448865152 bert_sct_utils_v2.py:600]   name = module/bert/encoder/layer_3/output/dense/kernel:0, shape = (3072, 768), *INIT_FROM_HUB*\n"
     ]
    },
    {
     "name": "stdout",
     "output_type": "stream",
     "text": [
      "INFO:tensorflow:  name = module/bert/encoder/layer_3/output/dense/bias:0, shape = (768,), *INIT_FROM_HUB*\n"
     ]
    },
    {
     "name": "stderr",
     "output_type": "stream",
     "text": [
      "I0608 21:03:36.334698 140290448865152 bert_sct_utils_v2.py:600]   name = module/bert/encoder/layer_3/output/dense/bias:0, shape = (768,), *INIT_FROM_HUB*\n"
     ]
    },
    {
     "name": "stdout",
     "output_type": "stream",
     "text": [
      "INFO:tensorflow:  name = module/bert/encoder/layer_3/output/LayerNorm/beta:0, shape = (768,), *INIT_FROM_HUB*\n"
     ]
    },
    {
     "name": "stderr",
     "output_type": "stream",
     "text": [
      "I0608 21:03:36.337101 140290448865152 bert_sct_utils_v2.py:600]   name = module/bert/encoder/layer_3/output/LayerNorm/beta:0, shape = (768,), *INIT_FROM_HUB*\n"
     ]
    },
    {
     "name": "stdout",
     "output_type": "stream",
     "text": [
      "INFO:tensorflow:  name = module/bert/encoder/layer_3/output/LayerNorm/gamma:0, shape = (768,), *INIT_FROM_HUB*\n"
     ]
    },
    {
     "name": "stderr",
     "output_type": "stream",
     "text": [
      "I0608 21:03:36.339493 140290448865152 bert_sct_utils_v2.py:600]   name = module/bert/encoder/layer_3/output/LayerNorm/gamma:0, shape = (768,), *INIT_FROM_HUB*\n"
     ]
    },
    {
     "name": "stdout",
     "output_type": "stream",
     "text": [
      "INFO:tensorflow:  name = module/bert/encoder/layer_4/attention/self/query/kernel:0, shape = (768, 768), *INIT_FROM_HUB*\n"
     ]
    },
    {
     "name": "stderr",
     "output_type": "stream",
     "text": [
      "I0608 21:03:36.341905 140290448865152 bert_sct_utils_v2.py:600]   name = module/bert/encoder/layer_4/attention/self/query/kernel:0, shape = (768, 768), *INIT_FROM_HUB*\n"
     ]
    },
    {
     "name": "stdout",
     "output_type": "stream",
     "text": [
      "INFO:tensorflow:  name = module/bert/encoder/layer_4/attention/self/query/bias:0, shape = (768,), *INIT_FROM_HUB*\n"
     ]
    },
    {
     "name": "stderr",
     "output_type": "stream",
     "text": [
      "I0608 21:03:36.344039 140290448865152 bert_sct_utils_v2.py:600]   name = module/bert/encoder/layer_4/attention/self/query/bias:0, shape = (768,), *INIT_FROM_HUB*\n"
     ]
    },
    {
     "name": "stdout",
     "output_type": "stream",
     "text": [
      "INFO:tensorflow:  name = module/bert/encoder/layer_4/attention/self/key/kernel:0, shape = (768, 768), *INIT_FROM_HUB*\n"
     ]
    },
    {
     "name": "stderr",
     "output_type": "stream",
     "text": [
      "I0608 21:03:36.345918 140290448865152 bert_sct_utils_v2.py:600]   name = module/bert/encoder/layer_4/attention/self/key/kernel:0, shape = (768, 768), *INIT_FROM_HUB*\n"
     ]
    },
    {
     "name": "stdout",
     "output_type": "stream",
     "text": [
      "INFO:tensorflow:  name = module/bert/encoder/layer_4/attention/self/key/bias:0, shape = (768,), *INIT_FROM_HUB*\n"
     ]
    },
    {
     "name": "stderr",
     "output_type": "stream",
     "text": [
      "I0608 21:03:36.347454 140290448865152 bert_sct_utils_v2.py:600]   name = module/bert/encoder/layer_4/attention/self/key/bias:0, shape = (768,), *INIT_FROM_HUB*\n"
     ]
    },
    {
     "name": "stdout",
     "output_type": "stream",
     "text": [
      "INFO:tensorflow:  name = module/bert/encoder/layer_4/attention/self/value/kernel:0, shape = (768, 768), *INIT_FROM_HUB*\n"
     ]
    },
    {
     "name": "stderr",
     "output_type": "stream",
     "text": [
      "I0608 21:03:36.349897 140290448865152 bert_sct_utils_v2.py:600]   name = module/bert/encoder/layer_4/attention/self/value/kernel:0, shape = (768, 768), *INIT_FROM_HUB*\n"
     ]
    },
    {
     "name": "stdout",
     "output_type": "stream",
     "text": [
      "INFO:tensorflow:  name = module/bert/encoder/layer_4/attention/self/value/bias:0, shape = (768,), *INIT_FROM_HUB*\n"
     ]
    },
    {
     "name": "stderr",
     "output_type": "stream",
     "text": [
      "I0608 21:03:36.352924 140290448865152 bert_sct_utils_v2.py:600]   name = module/bert/encoder/layer_4/attention/self/value/bias:0, shape = (768,), *INIT_FROM_HUB*\n"
     ]
    },
    {
     "name": "stdout",
     "output_type": "stream",
     "text": [
      "INFO:tensorflow:  name = module/bert/encoder/layer_4/attention/output/dense/kernel:0, shape = (768, 768), *INIT_FROM_HUB*\n"
     ]
    },
    {
     "name": "stderr",
     "output_type": "stream",
     "text": [
      "I0608 21:03:36.355401 140290448865152 bert_sct_utils_v2.py:600]   name = module/bert/encoder/layer_4/attention/output/dense/kernel:0, shape = (768, 768), *INIT_FROM_HUB*\n"
     ]
    },
    {
     "name": "stdout",
     "output_type": "stream",
     "text": [
      "INFO:tensorflow:  name = module/bert/encoder/layer_4/attention/output/dense/bias:0, shape = (768,), *INIT_FROM_HUB*\n"
     ]
    },
    {
     "name": "stderr",
     "output_type": "stream",
     "text": [
      "I0608 21:03:36.357863 140290448865152 bert_sct_utils_v2.py:600]   name = module/bert/encoder/layer_4/attention/output/dense/bias:0, shape = (768,), *INIT_FROM_HUB*\n"
     ]
    },
    {
     "name": "stdout",
     "output_type": "stream",
     "text": [
      "INFO:tensorflow:  name = module/bert/encoder/layer_4/attention/output/LayerNorm/beta:0, shape = (768,), *INIT_FROM_HUB*\n"
     ]
    },
    {
     "name": "stderr",
     "output_type": "stream",
     "text": [
      "I0608 21:03:36.359914 140290448865152 bert_sct_utils_v2.py:600]   name = module/bert/encoder/layer_4/attention/output/LayerNorm/beta:0, shape = (768,), *INIT_FROM_HUB*\n"
     ]
    },
    {
     "name": "stdout",
     "output_type": "stream",
     "text": [
      "INFO:tensorflow:  name = module/bert/encoder/layer_4/attention/output/LayerNorm/gamma:0, shape = (768,), *INIT_FROM_HUB*\n"
     ]
    },
    {
     "name": "stderr",
     "output_type": "stream",
     "text": [
      "I0608 21:03:36.362366 140290448865152 bert_sct_utils_v2.py:600]   name = module/bert/encoder/layer_4/attention/output/LayerNorm/gamma:0, shape = (768,), *INIT_FROM_HUB*\n"
     ]
    },
    {
     "name": "stdout",
     "output_type": "stream",
     "text": [
      "INFO:tensorflow:  name = module/bert/encoder/layer_4/intermediate/dense/kernel:0, shape = (768, 3072), *INIT_FROM_HUB*\n"
     ]
    },
    {
     "name": "stderr",
     "output_type": "stream",
     "text": [
      "I0608 21:03:36.370624 140290448865152 bert_sct_utils_v2.py:600]   name = module/bert/encoder/layer_4/intermediate/dense/kernel:0, shape = (768, 3072), *INIT_FROM_HUB*\n"
     ]
    },
    {
     "name": "stdout",
     "output_type": "stream",
     "text": [
      "INFO:tensorflow:  name = module/bert/encoder/layer_4/intermediate/dense/bias:0, shape = (3072,), *INIT_FROM_HUB*\n"
     ]
    },
    {
     "name": "stderr",
     "output_type": "stream",
     "text": [
      "I0608 21:03:36.372682 140290448865152 bert_sct_utils_v2.py:600]   name = module/bert/encoder/layer_4/intermediate/dense/bias:0, shape = (3072,), *INIT_FROM_HUB*\n"
     ]
    },
    {
     "name": "stdout",
     "output_type": "stream",
     "text": [
      "INFO:tensorflow:  name = module/bert/encoder/layer_4/output/dense/kernel:0, shape = (3072, 768), *INIT_FROM_HUB*\n"
     ]
    },
    {
     "name": "stderr",
     "output_type": "stream",
     "text": [
      "I0608 21:03:36.376223 140290448865152 bert_sct_utils_v2.py:600]   name = module/bert/encoder/layer_4/output/dense/kernel:0, shape = (3072, 768), *INIT_FROM_HUB*\n"
     ]
    },
    {
     "name": "stdout",
     "output_type": "stream",
     "text": [
      "INFO:tensorflow:  name = module/bert/encoder/layer_4/output/dense/bias:0, shape = (768,), *INIT_FROM_HUB*\n"
     ]
    },
    {
     "name": "stderr",
     "output_type": "stream",
     "text": [
      "I0608 21:03:36.378868 140290448865152 bert_sct_utils_v2.py:600]   name = module/bert/encoder/layer_4/output/dense/bias:0, shape = (768,), *INIT_FROM_HUB*\n"
     ]
    },
    {
     "name": "stdout",
     "output_type": "stream",
     "text": [
      "INFO:tensorflow:  name = module/bert/encoder/layer_4/output/LayerNorm/beta:0, shape = (768,), *INIT_FROM_HUB*\n"
     ]
    },
    {
     "name": "stderr",
     "output_type": "stream",
     "text": [
      "I0608 21:03:36.382637 140290448865152 bert_sct_utils_v2.py:600]   name = module/bert/encoder/layer_4/output/LayerNorm/beta:0, shape = (768,), *INIT_FROM_HUB*\n"
     ]
    },
    {
     "name": "stdout",
     "output_type": "stream",
     "text": [
      "INFO:tensorflow:  name = module/bert/encoder/layer_4/output/LayerNorm/gamma:0, shape = (768,), *INIT_FROM_HUB*\n"
     ]
    },
    {
     "name": "stderr",
     "output_type": "stream",
     "text": [
      "I0608 21:03:36.385323 140290448865152 bert_sct_utils_v2.py:600]   name = module/bert/encoder/layer_4/output/LayerNorm/gamma:0, shape = (768,), *INIT_FROM_HUB*\n"
     ]
    },
    {
     "name": "stdout",
     "output_type": "stream",
     "text": [
      "INFO:tensorflow:  name = module/bert/encoder/layer_5/attention/self/query/kernel:0, shape = (768, 768), *INIT_FROM_HUB*\n"
     ]
    },
    {
     "name": "stderr",
     "output_type": "stream",
     "text": [
      "I0608 21:03:36.387789 140290448865152 bert_sct_utils_v2.py:600]   name = module/bert/encoder/layer_5/attention/self/query/kernel:0, shape = (768, 768), *INIT_FROM_HUB*\n"
     ]
    },
    {
     "name": "stdout",
     "output_type": "stream",
     "text": [
      "INFO:tensorflow:  name = module/bert/encoder/layer_5/attention/self/query/bias:0, shape = (768,), *INIT_FROM_HUB*\n"
     ]
    },
    {
     "name": "stderr",
     "output_type": "stream",
     "text": [
      "I0608 21:03:36.390204 140290448865152 bert_sct_utils_v2.py:600]   name = module/bert/encoder/layer_5/attention/self/query/bias:0, shape = (768,), *INIT_FROM_HUB*\n"
     ]
    },
    {
     "name": "stdout",
     "output_type": "stream",
     "text": [
      "INFO:tensorflow:  name = module/bert/encoder/layer_5/attention/self/key/kernel:0, shape = (768, 768), *INIT_FROM_HUB*\n"
     ]
    },
    {
     "name": "stderr",
     "output_type": "stream",
     "text": [
      "I0608 21:03:36.392124 140290448865152 bert_sct_utils_v2.py:600]   name = module/bert/encoder/layer_5/attention/self/key/kernel:0, shape = (768, 768), *INIT_FROM_HUB*\n"
     ]
    },
    {
     "name": "stdout",
     "output_type": "stream",
     "text": [
      "INFO:tensorflow:  name = module/bert/encoder/layer_5/attention/self/key/bias:0, shape = (768,), *INIT_FROM_HUB*\n"
     ]
    },
    {
     "name": "stderr",
     "output_type": "stream",
     "text": [
      "I0608 21:03:36.394872 140290448865152 bert_sct_utils_v2.py:600]   name = module/bert/encoder/layer_5/attention/self/key/bias:0, shape = (768,), *INIT_FROM_HUB*\n"
     ]
    },
    {
     "name": "stdout",
     "output_type": "stream",
     "text": [
      "INFO:tensorflow:  name = module/bert/encoder/layer_5/attention/self/value/kernel:0, shape = (768, 768), *INIT_FROM_HUB*\n"
     ]
    },
    {
     "name": "stderr",
     "output_type": "stream",
     "text": [
      "I0608 21:03:36.397454 140290448865152 bert_sct_utils_v2.py:600]   name = module/bert/encoder/layer_5/attention/self/value/kernel:0, shape = (768, 768), *INIT_FROM_HUB*\n"
     ]
    },
    {
     "name": "stdout",
     "output_type": "stream",
     "text": [
      "INFO:tensorflow:  name = module/bert/encoder/layer_5/attention/self/value/bias:0, shape = (768,), *INIT_FROM_HUB*\n"
     ]
    },
    {
     "name": "stderr",
     "output_type": "stream",
     "text": [
      "I0608 21:03:36.400156 140290448865152 bert_sct_utils_v2.py:600]   name = module/bert/encoder/layer_5/attention/self/value/bias:0, shape = (768,), *INIT_FROM_HUB*\n"
     ]
    },
    {
     "name": "stdout",
     "output_type": "stream",
     "text": [
      "INFO:tensorflow:  name = module/bert/encoder/layer_5/attention/output/dense/kernel:0, shape = (768, 768), *INIT_FROM_HUB*\n"
     ]
    },
    {
     "name": "stderr",
     "output_type": "stream",
     "text": [
      "I0608 21:03:36.402541 140290448865152 bert_sct_utils_v2.py:600]   name = module/bert/encoder/layer_5/attention/output/dense/kernel:0, shape = (768, 768), *INIT_FROM_HUB*\n"
     ]
    },
    {
     "name": "stdout",
     "output_type": "stream",
     "text": [
      "INFO:tensorflow:  name = module/bert/encoder/layer_5/attention/output/dense/bias:0, shape = (768,), *INIT_FROM_HUB*\n"
     ]
    },
    {
     "name": "stderr",
     "output_type": "stream",
     "text": [
      "I0608 21:03:36.405897 140290448865152 bert_sct_utils_v2.py:600]   name = module/bert/encoder/layer_5/attention/output/dense/bias:0, shape = (768,), *INIT_FROM_HUB*\n"
     ]
    },
    {
     "name": "stdout",
     "output_type": "stream",
     "text": [
      "INFO:tensorflow:  name = module/bert/encoder/layer_5/attention/output/LayerNorm/beta:0, shape = (768,), *INIT_FROM_HUB*\n"
     ]
    },
    {
     "name": "stderr",
     "output_type": "stream",
     "text": [
      "I0608 21:03:36.408796 140290448865152 bert_sct_utils_v2.py:600]   name = module/bert/encoder/layer_5/attention/output/LayerNorm/beta:0, shape = (768,), *INIT_FROM_HUB*\n"
     ]
    },
    {
     "name": "stdout",
     "output_type": "stream",
     "text": [
      "INFO:tensorflow:  name = module/bert/encoder/layer_5/attention/output/LayerNorm/gamma:0, shape = (768,), *INIT_FROM_HUB*\n"
     ]
    },
    {
     "name": "stderr",
     "output_type": "stream",
     "text": [
      "I0608 21:03:36.412153 140290448865152 bert_sct_utils_v2.py:600]   name = module/bert/encoder/layer_5/attention/output/LayerNorm/gamma:0, shape = (768,), *INIT_FROM_HUB*\n"
     ]
    },
    {
     "name": "stdout",
     "output_type": "stream",
     "text": [
      "INFO:tensorflow:  name = module/bert/encoder/layer_5/intermediate/dense/kernel:0, shape = (768, 3072), *INIT_FROM_HUB*\n"
     ]
    },
    {
     "name": "stderr",
     "output_type": "stream",
     "text": [
      "I0608 21:03:36.415589 140290448865152 bert_sct_utils_v2.py:600]   name = module/bert/encoder/layer_5/intermediate/dense/kernel:0, shape = (768, 3072), *INIT_FROM_HUB*\n"
     ]
    },
    {
     "name": "stdout",
     "output_type": "stream",
     "text": [
      "INFO:tensorflow:  name = module/bert/encoder/layer_5/intermediate/dense/bias:0, shape = (3072,), *INIT_FROM_HUB*\n"
     ]
    },
    {
     "name": "stderr",
     "output_type": "stream",
     "text": [
      "I0608 21:03:36.417973 140290448865152 bert_sct_utils_v2.py:600]   name = module/bert/encoder/layer_5/intermediate/dense/bias:0, shape = (3072,), *INIT_FROM_HUB*\n"
     ]
    },
    {
     "name": "stdout",
     "output_type": "stream",
     "text": [
      "INFO:tensorflow:  name = module/bert/encoder/layer_5/output/dense/kernel:0, shape = (3072, 768), *INIT_FROM_HUB*\n"
     ]
    },
    {
     "name": "stderr",
     "output_type": "stream",
     "text": [
      "I0608 21:03:36.420435 140290448865152 bert_sct_utils_v2.py:600]   name = module/bert/encoder/layer_5/output/dense/kernel:0, shape = (3072, 768), *INIT_FROM_HUB*\n"
     ]
    },
    {
     "name": "stdout",
     "output_type": "stream",
     "text": [
      "INFO:tensorflow:  name = module/bert/encoder/layer_5/output/dense/bias:0, shape = (768,), *INIT_FROM_HUB*\n"
     ]
    },
    {
     "name": "stderr",
     "output_type": "stream",
     "text": [
      "I0608 21:03:36.422885 140290448865152 bert_sct_utils_v2.py:600]   name = module/bert/encoder/layer_5/output/dense/bias:0, shape = (768,), *INIT_FROM_HUB*\n"
     ]
    },
    {
     "name": "stdout",
     "output_type": "stream",
     "text": [
      "INFO:tensorflow:  name = module/bert/encoder/layer_5/output/LayerNorm/beta:0, shape = (768,), *INIT_FROM_HUB*\n"
     ]
    },
    {
     "name": "stderr",
     "output_type": "stream",
     "text": [
      "I0608 21:03:36.426487 140290448865152 bert_sct_utils_v2.py:600]   name = module/bert/encoder/layer_5/output/LayerNorm/beta:0, shape = (768,), *INIT_FROM_HUB*\n"
     ]
    },
    {
     "name": "stdout",
     "output_type": "stream",
     "text": [
      "INFO:tensorflow:  name = module/bert/encoder/layer_5/output/LayerNorm/gamma:0, shape = (768,), *INIT_FROM_HUB*\n"
     ]
    },
    {
     "name": "stderr",
     "output_type": "stream",
     "text": [
      "I0608 21:03:36.429402 140290448865152 bert_sct_utils_v2.py:600]   name = module/bert/encoder/layer_5/output/LayerNorm/gamma:0, shape = (768,), *INIT_FROM_HUB*\n"
     ]
    },
    {
     "name": "stdout",
     "output_type": "stream",
     "text": [
      "INFO:tensorflow:  name = module/bert/encoder/layer_6/attention/self/query/kernel:0, shape = (768, 768), *INIT_FROM_HUB*\n"
     ]
    },
    {
     "name": "stderr",
     "output_type": "stream",
     "text": [
      "I0608 21:03:36.431334 140290448865152 bert_sct_utils_v2.py:600]   name = module/bert/encoder/layer_6/attention/self/query/kernel:0, shape = (768, 768), *INIT_FROM_HUB*\n"
     ]
    },
    {
     "name": "stdout",
     "output_type": "stream",
     "text": [
      "INFO:tensorflow:  name = module/bert/encoder/layer_6/attention/self/query/bias:0, shape = (768,), *INIT_FROM_HUB*\n"
     ]
    },
    {
     "name": "stderr",
     "output_type": "stream",
     "text": [
      "I0608 21:03:36.433784 140290448865152 bert_sct_utils_v2.py:600]   name = module/bert/encoder/layer_6/attention/self/query/bias:0, shape = (768,), *INIT_FROM_HUB*\n"
     ]
    },
    {
     "name": "stdout",
     "output_type": "stream",
     "text": [
      "INFO:tensorflow:  name = module/bert/encoder/layer_6/attention/self/key/kernel:0, shape = (768, 768), *INIT_FROM_HUB*\n"
     ]
    },
    {
     "name": "stderr",
     "output_type": "stream",
     "text": [
      "I0608 21:03:36.436241 140290448865152 bert_sct_utils_v2.py:600]   name = module/bert/encoder/layer_6/attention/self/key/kernel:0, shape = (768, 768), *INIT_FROM_HUB*\n"
     ]
    },
    {
     "name": "stdout",
     "output_type": "stream",
     "text": [
      "INFO:tensorflow:  name = module/bert/encoder/layer_6/attention/self/key/bias:0, shape = (768,), *INIT_FROM_HUB*\n"
     ]
    },
    {
     "name": "stderr",
     "output_type": "stream",
     "text": [
      "I0608 21:03:36.440062 140290448865152 bert_sct_utils_v2.py:600]   name = module/bert/encoder/layer_6/attention/self/key/bias:0, shape = (768,), *INIT_FROM_HUB*\n"
     ]
    },
    {
     "name": "stdout",
     "output_type": "stream",
     "text": [
      "INFO:tensorflow:  name = module/bert/encoder/layer_6/attention/self/value/kernel:0, shape = (768, 768), *INIT_FROM_HUB*\n"
     ]
    },
    {
     "name": "stderr",
     "output_type": "stream",
     "text": [
      "I0608 21:03:36.442819 140290448865152 bert_sct_utils_v2.py:600]   name = module/bert/encoder/layer_6/attention/self/value/kernel:0, shape = (768, 768), *INIT_FROM_HUB*\n"
     ]
    },
    {
     "name": "stdout",
     "output_type": "stream",
     "text": [
      "INFO:tensorflow:  name = module/bert/encoder/layer_6/attention/self/value/bias:0, shape = (768,), *INIT_FROM_HUB*\n"
     ]
    },
    {
     "name": "stderr",
     "output_type": "stream",
     "text": [
      "I0608 21:03:36.446161 140290448865152 bert_sct_utils_v2.py:600]   name = module/bert/encoder/layer_6/attention/self/value/bias:0, shape = (768,), *INIT_FROM_HUB*\n"
     ]
    },
    {
     "name": "stdout",
     "output_type": "stream",
     "text": [
      "INFO:tensorflow:  name = module/bert/encoder/layer_6/attention/output/dense/kernel:0, shape = (768, 768), *INIT_FROM_HUB*\n"
     ]
    },
    {
     "name": "stderr",
     "output_type": "stream",
     "text": [
      "I0608 21:03:36.449627 140290448865152 bert_sct_utils_v2.py:600]   name = module/bert/encoder/layer_6/attention/output/dense/kernel:0, shape = (768, 768), *INIT_FROM_HUB*\n"
     ]
    },
    {
     "name": "stdout",
     "output_type": "stream",
     "text": [
      "INFO:tensorflow:  name = module/bert/encoder/layer_6/attention/output/dense/bias:0, shape = (768,), *INIT_FROM_HUB*\n"
     ]
    },
    {
     "name": "stderr",
     "output_type": "stream",
     "text": [
      "I0608 21:03:36.451860 140290448865152 bert_sct_utils_v2.py:600]   name = module/bert/encoder/layer_6/attention/output/dense/bias:0, shape = (768,), *INIT_FROM_HUB*\n"
     ]
    },
    {
     "name": "stdout",
     "output_type": "stream",
     "text": [
      "INFO:tensorflow:  name = module/bert/encoder/layer_6/attention/output/LayerNorm/beta:0, shape = (768,), *INIT_FROM_HUB*\n"
     ]
    },
    {
     "name": "stderr",
     "output_type": "stream",
     "text": [
      "I0608 21:03:36.454383 140290448865152 bert_sct_utils_v2.py:600]   name = module/bert/encoder/layer_6/attention/output/LayerNorm/beta:0, shape = (768,), *INIT_FROM_HUB*\n"
     ]
    },
    {
     "name": "stdout",
     "output_type": "stream",
     "text": [
      "INFO:tensorflow:  name = module/bert/encoder/layer_6/attention/output/LayerNorm/gamma:0, shape = (768,), *INIT_FROM_HUB*\n"
     ]
    },
    {
     "name": "stderr",
     "output_type": "stream",
     "text": [
      "I0608 21:03:36.456802 140290448865152 bert_sct_utils_v2.py:600]   name = module/bert/encoder/layer_6/attention/output/LayerNorm/gamma:0, shape = (768,), *INIT_FROM_HUB*\n"
     ]
    },
    {
     "name": "stdout",
     "output_type": "stream",
     "text": [
      "INFO:tensorflow:  name = module/bert/encoder/layer_6/intermediate/dense/kernel:0, shape = (768, 3072), *INIT_FROM_HUB*\n"
     ]
    },
    {
     "name": "stderr",
     "output_type": "stream",
     "text": [
      "I0608 21:03:36.459413 140290448865152 bert_sct_utils_v2.py:600]   name = module/bert/encoder/layer_6/intermediate/dense/kernel:0, shape = (768, 3072), *INIT_FROM_HUB*\n"
     ]
    },
    {
     "name": "stdout",
     "output_type": "stream",
     "text": [
      "INFO:tensorflow:  name = module/bert/encoder/layer_6/intermediate/dense/bias:0, shape = (3072,), *INIT_FROM_HUB*\n"
     ]
    },
    {
     "name": "stderr",
     "output_type": "stream",
     "text": [
      "I0608 21:03:36.461493 140290448865152 bert_sct_utils_v2.py:600]   name = module/bert/encoder/layer_6/intermediate/dense/bias:0, shape = (3072,), *INIT_FROM_HUB*\n"
     ]
    },
    {
     "name": "stdout",
     "output_type": "stream",
     "text": [
      "INFO:tensorflow:  name = module/bert/encoder/layer_6/output/dense/kernel:0, shape = (3072, 768), *INIT_FROM_HUB*\n"
     ]
    },
    {
     "name": "stderr",
     "output_type": "stream",
     "text": [
      "I0608 21:03:36.463931 140290448865152 bert_sct_utils_v2.py:600]   name = module/bert/encoder/layer_6/output/dense/kernel:0, shape = (3072, 768), *INIT_FROM_HUB*\n"
     ]
    },
    {
     "name": "stdout",
     "output_type": "stream",
     "text": [
      "INFO:tensorflow:  name = module/bert/encoder/layer_6/output/dense/bias:0, shape = (768,), *INIT_FROM_HUB*\n"
     ]
    },
    {
     "name": "stderr",
     "output_type": "stream",
     "text": [
      "I0608 21:03:36.466922 140290448865152 bert_sct_utils_v2.py:600]   name = module/bert/encoder/layer_6/output/dense/bias:0, shape = (768,), *INIT_FROM_HUB*\n"
     ]
    },
    {
     "name": "stdout",
     "output_type": "stream",
     "text": [
      "INFO:tensorflow:  name = module/bert/encoder/layer_6/output/LayerNorm/beta:0, shape = (768,), *INIT_FROM_HUB*\n"
     ]
    },
    {
     "name": "stderr",
     "output_type": "stream",
     "text": [
      "I0608 21:03:36.469789 140290448865152 bert_sct_utils_v2.py:600]   name = module/bert/encoder/layer_6/output/LayerNorm/beta:0, shape = (768,), *INIT_FROM_HUB*\n"
     ]
    },
    {
     "name": "stdout",
     "output_type": "stream",
     "text": [
      "INFO:tensorflow:  name = module/bert/encoder/layer_6/output/LayerNorm/gamma:0, shape = (768,), *INIT_FROM_HUB*\n"
     ]
    },
    {
     "name": "stderr",
     "output_type": "stream",
     "text": [
      "I0608 21:03:36.472351 140290448865152 bert_sct_utils_v2.py:600]   name = module/bert/encoder/layer_6/output/LayerNorm/gamma:0, shape = (768,), *INIT_FROM_HUB*\n"
     ]
    },
    {
     "name": "stdout",
     "output_type": "stream",
     "text": [
      "INFO:tensorflow:  name = module/bert/encoder/layer_7/attention/self/query/kernel:0, shape = (768, 768), *INIT_FROM_HUB*\n"
     ]
    },
    {
     "name": "stderr",
     "output_type": "stream",
     "text": [
      "I0608 21:03:36.475873 140290448865152 bert_sct_utils_v2.py:600]   name = module/bert/encoder/layer_7/attention/self/query/kernel:0, shape = (768, 768), *INIT_FROM_HUB*\n"
     ]
    },
    {
     "name": "stdout",
     "output_type": "stream",
     "text": [
      "INFO:tensorflow:  name = module/bert/encoder/layer_7/attention/self/query/bias:0, shape = (768,), *INIT_FROM_HUB*\n"
     ]
    },
    {
     "name": "stderr",
     "output_type": "stream",
     "text": [
      "I0608 21:03:36.479518 140290448865152 bert_sct_utils_v2.py:600]   name = module/bert/encoder/layer_7/attention/self/query/bias:0, shape = (768,), *INIT_FROM_HUB*\n"
     ]
    },
    {
     "name": "stdout",
     "output_type": "stream",
     "text": [
      "INFO:tensorflow:  name = module/bert/encoder/layer_7/attention/self/key/kernel:0, shape = (768, 768), *INIT_FROM_HUB*\n"
     ]
    },
    {
     "name": "stderr",
     "output_type": "stream",
     "text": [
      "I0608 21:03:36.481916 140290448865152 bert_sct_utils_v2.py:600]   name = module/bert/encoder/layer_7/attention/self/key/kernel:0, shape = (768, 768), *INIT_FROM_HUB*\n"
     ]
    },
    {
     "name": "stdout",
     "output_type": "stream",
     "text": [
      "INFO:tensorflow:  name = module/bert/encoder/layer_7/attention/self/key/bias:0, shape = (768,), *INIT_FROM_HUB*\n"
     ]
    },
    {
     "name": "stderr",
     "output_type": "stream",
     "text": [
      "I0608 21:03:36.483813 140290448865152 bert_sct_utils_v2.py:600]   name = module/bert/encoder/layer_7/attention/self/key/bias:0, shape = (768,), *INIT_FROM_HUB*\n"
     ]
    },
    {
     "name": "stdout",
     "output_type": "stream",
     "text": [
      "INFO:tensorflow:  name = module/bert/encoder/layer_7/attention/self/value/kernel:0, shape = (768, 768), *INIT_FROM_HUB*\n"
     ]
    },
    {
     "name": "stderr",
     "output_type": "stream",
     "text": [
      "I0608 21:03:36.486417 140290448865152 bert_sct_utils_v2.py:600]   name = module/bert/encoder/layer_7/attention/self/value/kernel:0, shape = (768, 768), *INIT_FROM_HUB*\n"
     ]
    },
    {
     "name": "stdout",
     "output_type": "stream",
     "text": [
      "INFO:tensorflow:  name = module/bert/encoder/layer_7/attention/self/value/bias:0, shape = (768,), *INIT_FROM_HUB*\n"
     ]
    },
    {
     "name": "stderr",
     "output_type": "stream",
     "text": [
      "I0608 21:03:36.488940 140290448865152 bert_sct_utils_v2.py:600]   name = module/bert/encoder/layer_7/attention/self/value/bias:0, shape = (768,), *INIT_FROM_HUB*\n"
     ]
    },
    {
     "name": "stdout",
     "output_type": "stream",
     "text": [
      "INFO:tensorflow:  name = module/bert/encoder/layer_7/attention/output/dense/kernel:0, shape = (768, 768), *INIT_FROM_HUB*\n"
     ]
    },
    {
     "name": "stderr",
     "output_type": "stream",
     "text": [
      "I0608 21:03:36.491360 140290448865152 bert_sct_utils_v2.py:600]   name = module/bert/encoder/layer_7/attention/output/dense/kernel:0, shape = (768, 768), *INIT_FROM_HUB*\n"
     ]
    },
    {
     "name": "stdout",
     "output_type": "stream",
     "text": [
      "INFO:tensorflow:  name = module/bert/encoder/layer_7/attention/output/dense/bias:0, shape = (768,), *INIT_FROM_HUB*\n"
     ]
    },
    {
     "name": "stderr",
     "output_type": "stream",
     "text": [
      "I0608 21:03:36.493445 140290448865152 bert_sct_utils_v2.py:600]   name = module/bert/encoder/layer_7/attention/output/dense/bias:0, shape = (768,), *INIT_FROM_HUB*\n"
     ]
    },
    {
     "name": "stdout",
     "output_type": "stream",
     "text": [
      "INFO:tensorflow:  name = module/bert/encoder/layer_7/attention/output/LayerNorm/beta:0, shape = (768,), *INIT_FROM_HUB*\n"
     ]
    },
    {
     "name": "stderr",
     "output_type": "stream",
     "text": [
      "I0608 21:03:36.495867 140290448865152 bert_sct_utils_v2.py:600]   name = module/bert/encoder/layer_7/attention/output/LayerNorm/beta:0, shape = (768,), *INIT_FROM_HUB*\n"
     ]
    },
    {
     "name": "stdout",
     "output_type": "stream",
     "text": [
      "INFO:tensorflow:  name = module/bert/encoder/layer_7/attention/output/LayerNorm/gamma:0, shape = (768,), *INIT_FROM_HUB*\n"
     ]
    },
    {
     "name": "stderr",
     "output_type": "stream",
     "text": [
      "I0608 21:03:36.498272 140290448865152 bert_sct_utils_v2.py:600]   name = module/bert/encoder/layer_7/attention/output/LayerNorm/gamma:0, shape = (768,), *INIT_FROM_HUB*\n"
     ]
    },
    {
     "name": "stdout",
     "output_type": "stream",
     "text": [
      "INFO:tensorflow:  name = module/bert/encoder/layer_7/intermediate/dense/kernel:0, shape = (768, 3072), *INIT_FROM_HUB*\n"
     ]
    },
    {
     "name": "stderr",
     "output_type": "stream",
     "text": [
      "I0608 21:03:36.500509 140290448865152 bert_sct_utils_v2.py:600]   name = module/bert/encoder/layer_7/intermediate/dense/kernel:0, shape = (768, 3072), *INIT_FROM_HUB*\n"
     ]
    },
    {
     "name": "stdout",
     "output_type": "stream",
     "text": [
      "INFO:tensorflow:  name = module/bert/encoder/layer_7/intermediate/dense/bias:0, shape = (3072,), *INIT_FROM_HUB*\n"
     ]
    },
    {
     "name": "stderr",
     "output_type": "stream",
     "text": [
      "I0608 21:03:36.503266 140290448865152 bert_sct_utils_v2.py:600]   name = module/bert/encoder/layer_7/intermediate/dense/bias:0, shape = (3072,), *INIT_FROM_HUB*\n"
     ]
    },
    {
     "name": "stdout",
     "output_type": "stream",
     "text": [
      "INFO:tensorflow:  name = module/bert/encoder/layer_7/output/dense/kernel:0, shape = (3072, 768), *INIT_FROM_HUB*\n"
     ]
    },
    {
     "name": "stderr",
     "output_type": "stream",
     "text": [
      "I0608 21:03:36.506631 140290448865152 bert_sct_utils_v2.py:600]   name = module/bert/encoder/layer_7/output/dense/kernel:0, shape = (3072, 768), *INIT_FROM_HUB*\n"
     ]
    },
    {
     "name": "stdout",
     "output_type": "stream",
     "text": [
      "INFO:tensorflow:  name = module/bert/encoder/layer_7/output/dense/bias:0, shape = (768,), *INIT_FROM_HUB*\n"
     ]
    },
    {
     "name": "stderr",
     "output_type": "stream",
     "text": [
      "I0608 21:03:36.510575 140290448865152 bert_sct_utils_v2.py:600]   name = module/bert/encoder/layer_7/output/dense/bias:0, shape = (768,), *INIT_FROM_HUB*\n"
     ]
    },
    {
     "name": "stdout",
     "output_type": "stream",
     "text": [
      "INFO:tensorflow:  name = module/bert/encoder/layer_7/output/LayerNorm/beta:0, shape = (768,), *INIT_FROM_HUB*\n"
     ]
    },
    {
     "name": "stderr",
     "output_type": "stream",
     "text": [
      "I0608 21:03:36.513192 140290448865152 bert_sct_utils_v2.py:600]   name = module/bert/encoder/layer_7/output/LayerNorm/beta:0, shape = (768,), *INIT_FROM_HUB*\n"
     ]
    },
    {
     "name": "stdout",
     "output_type": "stream",
     "text": [
      "INFO:tensorflow:  name = module/bert/encoder/layer_7/output/LayerNorm/gamma:0, shape = (768,), *INIT_FROM_HUB*\n"
     ]
    },
    {
     "name": "stderr",
     "output_type": "stream",
     "text": [
      "I0608 21:03:36.515923 140290448865152 bert_sct_utils_v2.py:600]   name = module/bert/encoder/layer_7/output/LayerNorm/gamma:0, shape = (768,), *INIT_FROM_HUB*\n"
     ]
    },
    {
     "name": "stdout",
     "output_type": "stream",
     "text": [
      "INFO:tensorflow:  name = module/bert/encoder/layer_8/attention/self/query/kernel:0, shape = (768, 768), *INIT_FROM_HUB*\n"
     ]
    },
    {
     "name": "stderr",
     "output_type": "stream",
     "text": [
      "I0608 21:03:36.518271 140290448865152 bert_sct_utils_v2.py:600]   name = module/bert/encoder/layer_8/attention/self/query/kernel:0, shape = (768, 768), *INIT_FROM_HUB*\n"
     ]
    },
    {
     "name": "stdout",
     "output_type": "stream",
     "text": [
      "INFO:tensorflow:  name = module/bert/encoder/layer_8/attention/self/query/bias:0, shape = (768,), *INIT_FROM_HUB*\n"
     ]
    },
    {
     "name": "stderr",
     "output_type": "stream",
     "text": [
      "I0608 21:03:36.520745 140290448865152 bert_sct_utils_v2.py:600]   name = module/bert/encoder/layer_8/attention/self/query/bias:0, shape = (768,), *INIT_FROM_HUB*\n"
     ]
    },
    {
     "name": "stdout",
     "output_type": "stream",
     "text": [
      "INFO:tensorflow:  name = module/bert/encoder/layer_8/attention/self/key/kernel:0, shape = (768, 768), *INIT_FROM_HUB*\n"
     ]
    },
    {
     "name": "stderr",
     "output_type": "stream",
     "text": [
      "I0608 21:03:36.522647 140290448865152 bert_sct_utils_v2.py:600]   name = module/bert/encoder/layer_8/attention/self/key/kernel:0, shape = (768, 768), *INIT_FROM_HUB*\n"
     ]
    },
    {
     "name": "stdout",
     "output_type": "stream",
     "text": [
      "INFO:tensorflow:  name = module/bert/encoder/layer_8/attention/self/key/bias:0, shape = (768,), *INIT_FROM_HUB*\n"
     ]
    },
    {
     "name": "stderr",
     "output_type": "stream",
     "text": [
      "I0608 21:03:36.525106 140290448865152 bert_sct_utils_v2.py:600]   name = module/bert/encoder/layer_8/attention/self/key/bias:0, shape = (768,), *INIT_FROM_HUB*\n"
     ]
    },
    {
     "name": "stdout",
     "output_type": "stream",
     "text": [
      "INFO:tensorflow:  name = module/bert/encoder/layer_8/attention/self/value/kernel:0, shape = (768, 768), *INIT_FROM_HUB*\n"
     ]
    },
    {
     "name": "stderr",
     "output_type": "stream",
     "text": [
      "I0608 21:03:36.527584 140290448865152 bert_sct_utils_v2.py:600]   name = module/bert/encoder/layer_8/attention/self/value/kernel:0, shape = (768, 768), *INIT_FROM_HUB*\n"
     ]
    },
    {
     "name": "stdout",
     "output_type": "stream",
     "text": [
      "INFO:tensorflow:  name = module/bert/encoder/layer_8/attention/self/value/bias:0, shape = (768,), *INIT_FROM_HUB*\n"
     ]
    },
    {
     "name": "stderr",
     "output_type": "stream",
     "text": [
      "I0608 21:03:36.530157 140290448865152 bert_sct_utils_v2.py:600]   name = module/bert/encoder/layer_8/attention/self/value/bias:0, shape = (768,), *INIT_FROM_HUB*\n"
     ]
    },
    {
     "name": "stdout",
     "output_type": "stream",
     "text": [
      "INFO:tensorflow:  name = module/bert/encoder/layer_8/attention/output/dense/kernel:0, shape = (768, 768), *INIT_FROM_HUB*\n"
     ]
    },
    {
     "name": "stderr",
     "output_type": "stream",
     "text": [
      "I0608 21:03:36.532213 140290448865152 bert_sct_utils_v2.py:600]   name = module/bert/encoder/layer_8/attention/output/dense/kernel:0, shape = (768, 768), *INIT_FROM_HUB*\n"
     ]
    },
    {
     "name": "stdout",
     "output_type": "stream",
     "text": [
      "INFO:tensorflow:  name = module/bert/encoder/layer_8/attention/output/dense/bias:0, shape = (768,), *INIT_FROM_HUB*\n"
     ]
    },
    {
     "name": "stderr",
     "output_type": "stream",
     "text": [
      "I0608 21:03:36.534604 140290448865152 bert_sct_utils_v2.py:600]   name = module/bert/encoder/layer_8/attention/output/dense/bias:0, shape = (768,), *INIT_FROM_HUB*\n"
     ]
    },
    {
     "name": "stdout",
     "output_type": "stream",
     "text": [
      "INFO:tensorflow:  name = module/bert/encoder/layer_8/attention/output/LayerNorm/beta:0, shape = (768,), *INIT_FROM_HUB*\n"
     ]
    },
    {
     "name": "stderr",
     "output_type": "stream",
     "text": [
      "I0608 21:03:36.537367 140290448865152 bert_sct_utils_v2.py:600]   name = module/bert/encoder/layer_8/attention/output/LayerNorm/beta:0, shape = (768,), *INIT_FROM_HUB*\n"
     ]
    },
    {
     "name": "stdout",
     "output_type": "stream",
     "text": [
      "INFO:tensorflow:  name = module/bert/encoder/layer_8/attention/output/LayerNorm/gamma:0, shape = (768,), *INIT_FROM_HUB*\n"
     ]
    },
    {
     "name": "stderr",
     "output_type": "stream",
     "text": [
      "I0608 21:03:36.540726 140290448865152 bert_sct_utils_v2.py:600]   name = module/bert/encoder/layer_8/attention/output/LayerNorm/gamma:0, shape = (768,), *INIT_FROM_HUB*\n"
     ]
    },
    {
     "name": "stdout",
     "output_type": "stream",
     "text": [
      "INFO:tensorflow:  name = module/bert/encoder/layer_8/intermediate/dense/kernel:0, shape = (768, 3072), *INIT_FROM_HUB*\n"
     ]
    },
    {
     "name": "stderr",
     "output_type": "stream",
     "text": [
      "I0608 21:03:36.543759 140290448865152 bert_sct_utils_v2.py:600]   name = module/bert/encoder/layer_8/intermediate/dense/kernel:0, shape = (768, 3072), *INIT_FROM_HUB*\n"
     ]
    },
    {
     "name": "stdout",
     "output_type": "stream",
     "text": [
      "INFO:tensorflow:  name = module/bert/encoder/layer_8/intermediate/dense/bias:0, shape = (3072,), *INIT_FROM_HUB*\n"
     ]
    },
    {
     "name": "stderr",
     "output_type": "stream",
     "text": [
      "I0608 21:03:36.546525 140290448865152 bert_sct_utils_v2.py:600]   name = module/bert/encoder/layer_8/intermediate/dense/bias:0, shape = (3072,), *INIT_FROM_HUB*\n"
     ]
    },
    {
     "name": "stdout",
     "output_type": "stream",
     "text": [
      "INFO:tensorflow:  name = module/bert/encoder/layer_8/output/dense/kernel:0, shape = (3072, 768), *INIT_FROM_HUB*\n"
     ]
    },
    {
     "name": "stderr",
     "output_type": "stream",
     "text": [
      "I0608 21:03:36.548968 140290448865152 bert_sct_utils_v2.py:600]   name = module/bert/encoder/layer_8/output/dense/kernel:0, shape = (3072, 768), *INIT_FROM_HUB*\n"
     ]
    },
    {
     "name": "stdout",
     "output_type": "stream",
     "text": [
      "INFO:tensorflow:  name = module/bert/encoder/layer_8/output/dense/bias:0, shape = (768,), *INIT_FROM_HUB*\n"
     ]
    },
    {
     "name": "stderr",
     "output_type": "stream",
     "text": [
      "I0608 21:03:36.551804 140290448865152 bert_sct_utils_v2.py:600]   name = module/bert/encoder/layer_8/output/dense/bias:0, shape = (768,), *INIT_FROM_HUB*\n"
     ]
    },
    {
     "name": "stdout",
     "output_type": "stream",
     "text": [
      "INFO:tensorflow:  name = module/bert/encoder/layer_8/output/LayerNorm/beta:0, shape = (768,), *INIT_FROM_HUB*\n"
     ]
    },
    {
     "name": "stderr",
     "output_type": "stream",
     "text": [
      "I0608 21:03:36.554548 140290448865152 bert_sct_utils_v2.py:600]   name = module/bert/encoder/layer_8/output/LayerNorm/beta:0, shape = (768,), *INIT_FROM_HUB*\n"
     ]
    },
    {
     "name": "stdout",
     "output_type": "stream",
     "text": [
      "INFO:tensorflow:  name = module/bert/encoder/layer_8/output/LayerNorm/gamma:0, shape = (768,), *INIT_FROM_HUB*\n"
     ]
    },
    {
     "name": "stderr",
     "output_type": "stream",
     "text": [
      "I0608 21:03:36.557414 140290448865152 bert_sct_utils_v2.py:600]   name = module/bert/encoder/layer_8/output/LayerNorm/gamma:0, shape = (768,), *INIT_FROM_HUB*\n"
     ]
    },
    {
     "name": "stdout",
     "output_type": "stream",
     "text": [
      "INFO:tensorflow:  name = module/bert/encoder/layer_9/attention/self/query/kernel:0, shape = (768, 768), *INIT_FROM_HUB*\n"
     ]
    },
    {
     "name": "stderr",
     "output_type": "stream",
     "text": [
      "I0608 21:03:36.559463 140290448865152 bert_sct_utils_v2.py:600]   name = module/bert/encoder/layer_9/attention/self/query/kernel:0, shape = (768, 768), *INIT_FROM_HUB*\n"
     ]
    },
    {
     "name": "stdout",
     "output_type": "stream",
     "text": [
      "INFO:tensorflow:  name = module/bert/encoder/layer_9/attention/self/query/bias:0, shape = (768,), *INIT_FROM_HUB*\n"
     ]
    },
    {
     "name": "stderr",
     "output_type": "stream",
     "text": [
      "I0608 21:03:36.562682 140290448865152 bert_sct_utils_v2.py:600]   name = module/bert/encoder/layer_9/attention/self/query/bias:0, shape = (768,), *INIT_FROM_HUB*\n"
     ]
    },
    {
     "name": "stdout",
     "output_type": "stream",
     "text": [
      "INFO:tensorflow:  name = module/bert/encoder/layer_9/attention/self/key/kernel:0, shape = (768, 768), *INIT_FROM_HUB*\n"
     ]
    },
    {
     "name": "stderr",
     "output_type": "stream",
     "text": [
      "I0608 21:03:36.564733 140290448865152 bert_sct_utils_v2.py:600]   name = module/bert/encoder/layer_9/attention/self/key/kernel:0, shape = (768, 768), *INIT_FROM_HUB*\n"
     ]
    },
    {
     "name": "stdout",
     "output_type": "stream",
     "text": [
      "INFO:tensorflow:  name = module/bert/encoder/layer_9/attention/self/key/bias:0, shape = (768,), *INIT_FROM_HUB*\n"
     ]
    },
    {
     "name": "stderr",
     "output_type": "stream",
     "text": [
      "I0608 21:03:36.567133 140290448865152 bert_sct_utils_v2.py:600]   name = module/bert/encoder/layer_9/attention/self/key/bias:0, shape = (768,), *INIT_FROM_HUB*\n"
     ]
    },
    {
     "name": "stdout",
     "output_type": "stream",
     "text": [
      "INFO:tensorflow:  name = module/bert/encoder/layer_9/attention/self/value/kernel:0, shape = (768, 768), *INIT_FROM_HUB*\n"
     ]
    },
    {
     "name": "stderr",
     "output_type": "stream",
     "text": [
      "I0608 21:03:36.569989 140290448865152 bert_sct_utils_v2.py:600]   name = module/bert/encoder/layer_9/attention/self/value/kernel:0, shape = (768, 768), *INIT_FROM_HUB*\n"
     ]
    },
    {
     "name": "stdout",
     "output_type": "stream",
     "text": [
      "INFO:tensorflow:  name = module/bert/encoder/layer_9/attention/self/value/bias:0, shape = (768,), *INIT_FROM_HUB*\n"
     ]
    },
    {
     "name": "stderr",
     "output_type": "stream",
     "text": [
      "I0608 21:03:36.573623 140290448865152 bert_sct_utils_v2.py:600]   name = module/bert/encoder/layer_9/attention/self/value/bias:0, shape = (768,), *INIT_FROM_HUB*\n"
     ]
    },
    {
     "name": "stdout",
     "output_type": "stream",
     "text": [
      "INFO:tensorflow:  name = module/bert/encoder/layer_9/attention/output/dense/kernel:0, shape = (768, 768), *INIT_FROM_HUB*\n"
     ]
    },
    {
     "name": "stderr",
     "output_type": "stream",
     "text": [
      "I0608 21:03:36.576251 140290448865152 bert_sct_utils_v2.py:600]   name = module/bert/encoder/layer_9/attention/output/dense/kernel:0, shape = (768, 768), *INIT_FROM_HUB*\n"
     ]
    },
    {
     "name": "stdout",
     "output_type": "stream",
     "text": [
      "INFO:tensorflow:  name = module/bert/encoder/layer_9/attention/output/dense/bias:0, shape = (768,), *INIT_FROM_HUB*\n"
     ]
    },
    {
     "name": "stderr",
     "output_type": "stream",
     "text": [
      "I0608 21:03:36.578447 140290448865152 bert_sct_utils_v2.py:600]   name = module/bert/encoder/layer_9/attention/output/dense/bias:0, shape = (768,), *INIT_FROM_HUB*\n"
     ]
    },
    {
     "name": "stdout",
     "output_type": "stream",
     "text": [
      "INFO:tensorflow:  name = module/bert/encoder/layer_9/attention/output/LayerNorm/beta:0, shape = (768,), *INIT_FROM_HUB*\n"
     ]
    },
    {
     "name": "stderr",
     "output_type": "stream",
     "text": [
      "I0608 21:03:36.580348 140290448865152 bert_sct_utils_v2.py:600]   name = module/bert/encoder/layer_9/attention/output/LayerNorm/beta:0, shape = (768,), *INIT_FROM_HUB*\n"
     ]
    },
    {
     "name": "stdout",
     "output_type": "stream",
     "text": [
      "INFO:tensorflow:  name = module/bert/encoder/layer_9/attention/output/LayerNorm/gamma:0, shape = (768,), *INIT_FROM_HUB*\n"
     ]
    },
    {
     "name": "stderr",
     "output_type": "stream",
     "text": [
      "I0608 21:03:36.582803 140290448865152 bert_sct_utils_v2.py:600]   name = module/bert/encoder/layer_9/attention/output/LayerNorm/gamma:0, shape = (768,), *INIT_FROM_HUB*\n"
     ]
    },
    {
     "name": "stdout",
     "output_type": "stream",
     "text": [
      "INFO:tensorflow:  name = module/bert/encoder/layer_9/intermediate/dense/kernel:0, shape = (768, 3072), *INIT_FROM_HUB*\n"
     ]
    },
    {
     "name": "stderr",
     "output_type": "stream",
     "text": [
      "I0608 21:03:36.585400 140290448865152 bert_sct_utils_v2.py:600]   name = module/bert/encoder/layer_9/intermediate/dense/kernel:0, shape = (768, 3072), *INIT_FROM_HUB*\n"
     ]
    },
    {
     "name": "stdout",
     "output_type": "stream",
     "text": [
      "INFO:tensorflow:  name = module/bert/encoder/layer_9/intermediate/dense/bias:0, shape = (3072,), *INIT_FROM_HUB*\n"
     ]
    },
    {
     "name": "stderr",
     "output_type": "stream",
     "text": [
      "I0608 21:03:36.587762 140290448865152 bert_sct_utils_v2.py:600]   name = module/bert/encoder/layer_9/intermediate/dense/bias:0, shape = (3072,), *INIT_FROM_HUB*\n"
     ]
    },
    {
     "name": "stdout",
     "output_type": "stream",
     "text": [
      "INFO:tensorflow:  name = module/bert/encoder/layer_9/output/dense/kernel:0, shape = (3072, 768), *INIT_FROM_HUB*\n"
     ]
    },
    {
     "name": "stderr",
     "output_type": "stream",
     "text": [
      "I0608 21:03:36.590377 140290448865152 bert_sct_utils_v2.py:600]   name = module/bert/encoder/layer_9/output/dense/kernel:0, shape = (3072, 768), *INIT_FROM_HUB*\n"
     ]
    },
    {
     "name": "stdout",
     "output_type": "stream",
     "text": [
      "INFO:tensorflow:  name = module/bert/encoder/layer_9/output/dense/bias:0, shape = (768,), *INIT_FROM_HUB*\n"
     ]
    },
    {
     "name": "stderr",
     "output_type": "stream",
     "text": [
      "I0608 21:03:36.592486 140290448865152 bert_sct_utils_v2.py:600]   name = module/bert/encoder/layer_9/output/dense/bias:0, shape = (768,), *INIT_FROM_HUB*\n"
     ]
    },
    {
     "name": "stdout",
     "output_type": "stream",
     "text": [
      "INFO:tensorflow:  name = module/bert/encoder/layer_9/output/LayerNorm/beta:0, shape = (768,), *INIT_FROM_HUB*\n"
     ]
    },
    {
     "name": "stderr",
     "output_type": "stream",
     "text": [
      "I0608 21:03:36.594850 140290448865152 bert_sct_utils_v2.py:600]   name = module/bert/encoder/layer_9/output/LayerNorm/beta:0, shape = (768,), *INIT_FROM_HUB*\n"
     ]
    },
    {
     "name": "stdout",
     "output_type": "stream",
     "text": [
      "INFO:tensorflow:  name = module/bert/encoder/layer_9/output/LayerNorm/gamma:0, shape = (768,), *INIT_FROM_HUB*\n"
     ]
    },
    {
     "name": "stderr",
     "output_type": "stream",
     "text": [
      "I0608 21:03:36.597301 140290448865152 bert_sct_utils_v2.py:600]   name = module/bert/encoder/layer_9/output/LayerNorm/gamma:0, shape = (768,), *INIT_FROM_HUB*\n"
     ]
    },
    {
     "name": "stdout",
     "output_type": "stream",
     "text": [
      "INFO:tensorflow:  name = module/bert/encoder/layer_10/attention/self/query/kernel:0, shape = (768, 768), *INIT_FROM_HUB*\n"
     ]
    },
    {
     "name": "stderr",
     "output_type": "stream",
     "text": [
      "I0608 21:03:36.600533 140290448865152 bert_sct_utils_v2.py:600]   name = module/bert/encoder/layer_10/attention/self/query/kernel:0, shape = (768, 768), *INIT_FROM_HUB*\n"
     ]
    },
    {
     "name": "stdout",
     "output_type": "stream",
     "text": [
      "INFO:tensorflow:  name = module/bert/encoder/layer_10/attention/self/query/bias:0, shape = (768,), *INIT_FROM_HUB*\n"
     ]
    },
    {
     "name": "stderr",
     "output_type": "stream",
     "text": [
      "I0608 21:03:36.603938 140290448865152 bert_sct_utils_v2.py:600]   name = module/bert/encoder/layer_10/attention/self/query/bias:0, shape = (768,), *INIT_FROM_HUB*\n"
     ]
    },
    {
     "name": "stdout",
     "output_type": "stream",
     "text": [
      "INFO:tensorflow:  name = module/bert/encoder/layer_10/attention/self/key/kernel:0, shape = (768, 768), *INIT_FROM_HUB*\n"
     ]
    },
    {
     "name": "stderr",
     "output_type": "stream",
     "text": [
      "I0608 21:03:36.606852 140290448865152 bert_sct_utils_v2.py:600]   name = module/bert/encoder/layer_10/attention/self/key/kernel:0, shape = (768, 768), *INIT_FROM_HUB*\n"
     ]
    },
    {
     "name": "stdout",
     "output_type": "stream",
     "text": [
      "INFO:tensorflow:  name = module/bert/encoder/layer_10/attention/self/key/bias:0, shape = (768,), *INIT_FROM_HUB*\n"
     ]
    },
    {
     "name": "stderr",
     "output_type": "stream",
     "text": [
      "I0608 21:03:36.609803 140290448865152 bert_sct_utils_v2.py:600]   name = module/bert/encoder/layer_10/attention/self/key/bias:0, shape = (768,), *INIT_FROM_HUB*\n"
     ]
    },
    {
     "name": "stdout",
     "output_type": "stream",
     "text": [
      "INFO:tensorflow:  name = module/bert/encoder/layer_10/attention/self/value/kernel:0, shape = (768, 768), *INIT_FROM_HUB*\n"
     ]
    },
    {
     "name": "stderr",
     "output_type": "stream",
     "text": [
      "I0608 21:03:36.612241 140290448865152 bert_sct_utils_v2.py:600]   name = module/bert/encoder/layer_10/attention/self/value/kernel:0, shape = (768, 768), *INIT_FROM_HUB*\n"
     ]
    },
    {
     "name": "stdout",
     "output_type": "stream",
     "text": [
      "INFO:tensorflow:  name = module/bert/encoder/layer_10/attention/self/value/bias:0, shape = (768,), *INIT_FROM_HUB*\n"
     ]
    },
    {
     "name": "stderr",
     "output_type": "stream",
     "text": [
      "I0608 21:03:36.614519 140290448865152 bert_sct_utils_v2.py:600]   name = module/bert/encoder/layer_10/attention/self/value/bias:0, shape = (768,), *INIT_FROM_HUB*\n"
     ]
    },
    {
     "name": "stdout",
     "output_type": "stream",
     "text": [
      "INFO:tensorflow:  name = module/bert/encoder/layer_10/attention/output/dense/kernel:0, shape = (768, 768), *INIT_FROM_HUB*\n"
     ]
    },
    {
     "name": "stderr",
     "output_type": "stream",
     "text": [
      "I0608 21:03:36.617178 140290448865152 bert_sct_utils_v2.py:600]   name = module/bert/encoder/layer_10/attention/output/dense/kernel:0, shape = (768, 768), *INIT_FROM_HUB*\n"
     ]
    },
    {
     "name": "stdout",
     "output_type": "stream",
     "text": [
      "INFO:tensorflow:  name = module/bert/encoder/layer_10/attention/output/dense/bias:0, shape = (768,), *INIT_FROM_HUB*\n"
     ]
    },
    {
     "name": "stderr",
     "output_type": "stream",
     "text": [
      "I0608 21:03:36.619685 140290448865152 bert_sct_utils_v2.py:600]   name = module/bert/encoder/layer_10/attention/output/dense/bias:0, shape = (768,), *INIT_FROM_HUB*\n"
     ]
    },
    {
     "name": "stdout",
     "output_type": "stream",
     "text": [
      "INFO:tensorflow:  name = module/bert/encoder/layer_10/attention/output/LayerNorm/beta:0, shape = (768,), *INIT_FROM_HUB*\n"
     ]
    },
    {
     "name": "stderr",
     "output_type": "stream",
     "text": [
      "I0608 21:03:36.621604 140290448865152 bert_sct_utils_v2.py:600]   name = module/bert/encoder/layer_10/attention/output/LayerNorm/beta:0, shape = (768,), *INIT_FROM_HUB*\n"
     ]
    },
    {
     "name": "stdout",
     "output_type": "stream",
     "text": [
      "INFO:tensorflow:  name = module/bert/encoder/layer_10/attention/output/LayerNorm/gamma:0, shape = (768,), *INIT_FROM_HUB*\n"
     ]
    },
    {
     "name": "stderr",
     "output_type": "stream",
     "text": [
      "I0608 21:03:36.624017 140290448865152 bert_sct_utils_v2.py:600]   name = module/bert/encoder/layer_10/attention/output/LayerNorm/gamma:0, shape = (768,), *INIT_FROM_HUB*\n"
     ]
    },
    {
     "name": "stdout",
     "output_type": "stream",
     "text": [
      "INFO:tensorflow:  name = module/bert/encoder/layer_10/intermediate/dense/kernel:0, shape = (768, 3072), *INIT_FROM_HUB*\n"
     ]
    },
    {
     "name": "stderr",
     "output_type": "stream",
     "text": [
      "I0608 21:03:36.627893 140290448865152 bert_sct_utils_v2.py:600]   name = module/bert/encoder/layer_10/intermediate/dense/kernel:0, shape = (768, 3072), *INIT_FROM_HUB*\n"
     ]
    },
    {
     "name": "stdout",
     "output_type": "stream",
     "text": [
      "INFO:tensorflow:  name = module/bert/encoder/layer_10/intermediate/dense/bias:0, shape = (3072,), *INIT_FROM_HUB*\n"
     ]
    },
    {
     "name": "stderr",
     "output_type": "stream",
     "text": [
      "I0608 21:03:36.631586 140290448865152 bert_sct_utils_v2.py:600]   name = module/bert/encoder/layer_10/intermediate/dense/bias:0, shape = (3072,), *INIT_FROM_HUB*\n"
     ]
    },
    {
     "name": "stdout",
     "output_type": "stream",
     "text": [
      "INFO:tensorflow:  name = module/bert/encoder/layer_10/output/dense/kernel:0, shape = (3072, 768), *INIT_FROM_HUB*\n"
     ]
    },
    {
     "name": "stderr",
     "output_type": "stream",
     "text": [
      "I0608 21:03:36.634866 140290448865152 bert_sct_utils_v2.py:600]   name = module/bert/encoder/layer_10/output/dense/kernel:0, shape = (3072, 768), *INIT_FROM_HUB*\n"
     ]
    },
    {
     "name": "stdout",
     "output_type": "stream",
     "text": [
      "INFO:tensorflow:  name = module/bert/encoder/layer_10/output/dense/bias:0, shape = (768,), *INIT_FROM_HUB*\n"
     ]
    },
    {
     "name": "stderr",
     "output_type": "stream",
     "text": [
      "I0608 21:03:36.637352 140290448865152 bert_sct_utils_v2.py:600]   name = module/bert/encoder/layer_10/output/dense/bias:0, shape = (768,), *INIT_FROM_HUB*\n"
     ]
    },
    {
     "name": "stdout",
     "output_type": "stream",
     "text": [
      "INFO:tensorflow:  name = module/bert/encoder/layer_10/output/LayerNorm/beta:0, shape = (768,), *INIT_FROM_HUB*\n"
     ]
    },
    {
     "name": "stderr",
     "output_type": "stream",
     "text": [
      "I0608 21:03:36.639602 140290448865152 bert_sct_utils_v2.py:600]   name = module/bert/encoder/layer_10/output/LayerNorm/beta:0, shape = (768,), *INIT_FROM_HUB*\n"
     ]
    },
    {
     "name": "stdout",
     "output_type": "stream",
     "text": [
      "INFO:tensorflow:  name = module/bert/encoder/layer_10/output/LayerNorm/gamma:0, shape = (768,), *INIT_FROM_HUB*\n"
     ]
    },
    {
     "name": "stderr",
     "output_type": "stream",
     "text": [
      "I0608 21:03:36.645580 140290448865152 bert_sct_utils_v2.py:600]   name = module/bert/encoder/layer_10/output/LayerNorm/gamma:0, shape = (768,), *INIT_FROM_HUB*\n"
     ]
    },
    {
     "name": "stdout",
     "output_type": "stream",
     "text": [
      "INFO:tensorflow:  name = module/bert/encoder/layer_11/attention/self/query/kernel:0, shape = (768, 768), *INIT_FROM_HUB*\n"
     ]
    },
    {
     "name": "stderr",
     "output_type": "stream",
     "text": [
      "I0608 21:03:36.648761 140290448865152 bert_sct_utils_v2.py:600]   name = module/bert/encoder/layer_11/attention/self/query/kernel:0, shape = (768, 768), *INIT_FROM_HUB*\n"
     ]
    },
    {
     "name": "stdout",
     "output_type": "stream",
     "text": [
      "INFO:tensorflow:  name = module/bert/encoder/layer_11/attention/self/query/bias:0, shape = (768,), *INIT_FROM_HUB*\n"
     ]
    },
    {
     "name": "stderr",
     "output_type": "stream",
     "text": [
      "I0608 21:03:36.650844 140290448865152 bert_sct_utils_v2.py:600]   name = module/bert/encoder/layer_11/attention/self/query/bias:0, shape = (768,), *INIT_FROM_HUB*\n"
     ]
    },
    {
     "name": "stdout",
     "output_type": "stream",
     "text": [
      "INFO:tensorflow:  name = module/bert/encoder/layer_11/attention/self/key/kernel:0, shape = (768, 768), *INIT_FROM_HUB*\n"
     ]
    },
    {
     "name": "stderr",
     "output_type": "stream",
     "text": [
      "I0608 21:03:36.653239 140290448865152 bert_sct_utils_v2.py:600]   name = module/bert/encoder/layer_11/attention/self/key/kernel:0, shape = (768, 768), *INIT_FROM_HUB*\n"
     ]
    },
    {
     "name": "stdout",
     "output_type": "stream",
     "text": [
      "INFO:tensorflow:  name = module/bert/encoder/layer_11/attention/self/key/bias:0, shape = (768,), *INIT_FROM_HUB*\n"
     ]
    },
    {
     "name": "stderr",
     "output_type": "stream",
     "text": [
      "I0608 21:03:36.655165 140290448865152 bert_sct_utils_v2.py:600]   name = module/bert/encoder/layer_11/attention/self/key/bias:0, shape = (768,), *INIT_FROM_HUB*\n"
     ]
    },
    {
     "name": "stdout",
     "output_type": "stream",
     "text": [
      "INFO:tensorflow:  name = module/bert/encoder/layer_11/attention/self/value/kernel:0, shape = (768, 768), *INIT_FROM_HUB*\n"
     ]
    },
    {
     "name": "stderr",
     "output_type": "stream",
     "text": [
      "I0608 21:03:36.658401 140290448865152 bert_sct_utils_v2.py:600]   name = module/bert/encoder/layer_11/attention/self/value/kernel:0, shape = (768, 768), *INIT_FROM_HUB*\n"
     ]
    },
    {
     "name": "stdout",
     "output_type": "stream",
     "text": [
      "INFO:tensorflow:  name = module/bert/encoder/layer_11/attention/self/value/bias:0, shape = (768,), *INIT_FROM_HUB*\n"
     ]
    },
    {
     "name": "stderr",
     "output_type": "stream",
     "text": [
      "I0608 21:03:36.661636 140290448865152 bert_sct_utils_v2.py:600]   name = module/bert/encoder/layer_11/attention/self/value/bias:0, shape = (768,), *INIT_FROM_HUB*\n"
     ]
    },
    {
     "name": "stdout",
     "output_type": "stream",
     "text": [
      "INFO:tensorflow:  name = module/bert/encoder/layer_11/attention/output/dense/kernel:0, shape = (768, 768), *INIT_FROM_HUB*\n"
     ]
    },
    {
     "name": "stderr",
     "output_type": "stream",
     "text": [
      "I0608 21:03:36.664157 140290448865152 bert_sct_utils_v2.py:600]   name = module/bert/encoder/layer_11/attention/output/dense/kernel:0, shape = (768, 768), *INIT_FROM_HUB*\n"
     ]
    },
    {
     "name": "stdout",
     "output_type": "stream",
     "text": [
      "INFO:tensorflow:  name = module/bert/encoder/layer_11/attention/output/dense/bias:0, shape = (768,), *INIT_FROM_HUB*\n"
     ]
    },
    {
     "name": "stderr",
     "output_type": "stream",
     "text": [
      "I0608 21:03:36.666882 140290448865152 bert_sct_utils_v2.py:600]   name = module/bert/encoder/layer_11/attention/output/dense/bias:0, shape = (768,), *INIT_FROM_HUB*\n"
     ]
    },
    {
     "name": "stdout",
     "output_type": "stream",
     "text": [
      "INFO:tensorflow:  name = module/bert/encoder/layer_11/attention/output/LayerNorm/beta:0, shape = (768,), *INIT_FROM_HUB*\n"
     ]
    },
    {
     "name": "stderr",
     "output_type": "stream",
     "text": [
      "I0608 21:03:36.669352 140290448865152 bert_sct_utils_v2.py:600]   name = module/bert/encoder/layer_11/attention/output/LayerNorm/beta:0, shape = (768,), *INIT_FROM_HUB*\n"
     ]
    },
    {
     "name": "stdout",
     "output_type": "stream",
     "text": [
      "INFO:tensorflow:  name = module/bert/encoder/layer_11/attention/output/LayerNorm/gamma:0, shape = (768,), *INIT_FROM_HUB*\n"
     ]
    },
    {
     "name": "stderr",
     "output_type": "stream",
     "text": [
      "I0608 21:03:36.672426 140290448865152 bert_sct_utils_v2.py:600]   name = module/bert/encoder/layer_11/attention/output/LayerNorm/gamma:0, shape = (768,), *INIT_FROM_HUB*\n"
     ]
    },
    {
     "name": "stdout",
     "output_type": "stream",
     "text": [
      "INFO:tensorflow:  name = module/bert/encoder/layer_11/intermediate/dense/kernel:0, shape = (768, 3072), *INIT_FROM_HUB*\n"
     ]
    },
    {
     "name": "stderr",
     "output_type": "stream",
     "text": [
      "I0608 21:03:36.674252 140290448865152 bert_sct_utils_v2.py:600]   name = module/bert/encoder/layer_11/intermediate/dense/kernel:0, shape = (768, 3072), *INIT_FROM_HUB*\n"
     ]
    },
    {
     "name": "stdout",
     "output_type": "stream",
     "text": [
      "INFO:tensorflow:  name = module/bert/encoder/layer_11/intermediate/dense/bias:0, shape = (3072,), *INIT_FROM_HUB*\n"
     ]
    },
    {
     "name": "stderr",
     "output_type": "stream",
     "text": [
      "I0608 21:03:36.677182 140290448865152 bert_sct_utils_v2.py:600]   name = module/bert/encoder/layer_11/intermediate/dense/bias:0, shape = (3072,), *INIT_FROM_HUB*\n"
     ]
    },
    {
     "name": "stdout",
     "output_type": "stream",
     "text": [
      "INFO:tensorflow:  name = module/bert/encoder/layer_11/output/dense/kernel:0, shape = (3072, 768), *INIT_FROM_HUB*\n"
     ]
    },
    {
     "name": "stderr",
     "output_type": "stream",
     "text": [
      "I0608 21:03:36.679633 140290448865152 bert_sct_utils_v2.py:600]   name = module/bert/encoder/layer_11/output/dense/kernel:0, shape = (3072, 768), *INIT_FROM_HUB*\n"
     ]
    },
    {
     "name": "stdout",
     "output_type": "stream",
     "text": [
      "INFO:tensorflow:  name = module/bert/encoder/layer_11/output/dense/bias:0, shape = (768,), *INIT_FROM_HUB*\n"
     ]
    },
    {
     "name": "stderr",
     "output_type": "stream",
     "text": [
      "I0608 21:03:36.682273 140290448865152 bert_sct_utils_v2.py:600]   name = module/bert/encoder/layer_11/output/dense/bias:0, shape = (768,), *INIT_FROM_HUB*\n"
     ]
    },
    {
     "name": "stdout",
     "output_type": "stream",
     "text": [
      "INFO:tensorflow:  name = module/bert/encoder/layer_11/output/LayerNorm/beta:0, shape = (768,), *INIT_FROM_HUB*\n"
     ]
    },
    {
     "name": "stderr",
     "output_type": "stream",
     "text": [
      "I0608 21:03:36.684480 140290448865152 bert_sct_utils_v2.py:600]   name = module/bert/encoder/layer_11/output/LayerNorm/beta:0, shape = (768,), *INIT_FROM_HUB*\n"
     ]
    },
    {
     "name": "stdout",
     "output_type": "stream",
     "text": [
      "INFO:tensorflow:  name = module/bert/encoder/layer_11/output/LayerNorm/gamma:0, shape = (768,), *INIT_FROM_HUB*\n"
     ]
    },
    {
     "name": "stderr",
     "output_type": "stream",
     "text": [
      "I0608 21:03:36.687138 140290448865152 bert_sct_utils_v2.py:600]   name = module/bert/encoder/layer_11/output/LayerNorm/gamma:0, shape = (768,), *INIT_FROM_HUB*\n"
     ]
    },
    {
     "name": "stdout",
     "output_type": "stream",
     "text": [
      "INFO:tensorflow:  name = module/bert/pooler/dense/kernel:0, shape = (768, 768), *INIT_FROM_HUB*\n"
     ]
    },
    {
     "name": "stderr",
     "output_type": "stream",
     "text": [
      "I0608 21:03:36.689352 140290448865152 bert_sct_utils_v2.py:600]   name = module/bert/pooler/dense/kernel:0, shape = (768, 768), *INIT_FROM_HUB*\n"
     ]
    },
    {
     "name": "stdout",
     "output_type": "stream",
     "text": [
      "INFO:tensorflow:  name = module/bert/pooler/dense/bias:0, shape = (768,), *INIT_FROM_HUB*\n"
     ]
    },
    {
     "name": "stderr",
     "output_type": "stream",
     "text": [
      "I0608 21:03:36.693097 140290448865152 bert_sct_utils_v2.py:600]   name = module/bert/pooler/dense/bias:0, shape = (768,), *INIT_FROM_HUB*\n"
     ]
    },
    {
     "name": "stdout",
     "output_type": "stream",
     "text": [
      "INFO:tensorflow:  name = module/cls/predictions/transform/dense/kernel:0, shape = (768, 768)\n"
     ]
    },
    {
     "name": "stderr",
     "output_type": "stream",
     "text": [
      "I0608 21:03:36.695709 140290448865152 bert_sct_utils_v2.py:600]   name = module/cls/predictions/transform/dense/kernel:0, shape = (768, 768)\n"
     ]
    },
    {
     "name": "stdout",
     "output_type": "stream",
     "text": [
      "INFO:tensorflow:  name = module/cls/predictions/transform/dense/bias:0, shape = (768,)\n"
     ]
    },
    {
     "name": "stderr",
     "output_type": "stream",
     "text": [
      "I0608 21:03:36.698937 140290448865152 bert_sct_utils_v2.py:600]   name = module/cls/predictions/transform/dense/bias:0, shape = (768,)\n"
     ]
    },
    {
     "name": "stdout",
     "output_type": "stream",
     "text": [
      "INFO:tensorflow:  name = module/cls/predictions/transform/LayerNorm/beta:0, shape = (768,)\n"
     ]
    },
    {
     "name": "stderr",
     "output_type": "stream",
     "text": [
      "I0608 21:03:36.701375 140290448865152 bert_sct_utils_v2.py:600]   name = module/cls/predictions/transform/LayerNorm/beta:0, shape = (768,)\n"
     ]
    },
    {
     "name": "stdout",
     "output_type": "stream",
     "text": [
      "INFO:tensorflow:  name = module/cls/predictions/transform/LayerNorm/gamma:0, shape = (768,)\n"
     ]
    },
    {
     "name": "stderr",
     "output_type": "stream",
     "text": [
      "I0608 21:03:36.703990 140290448865152 bert_sct_utils_v2.py:600]   name = module/cls/predictions/transform/LayerNorm/gamma:0, shape = (768,)\n"
     ]
    },
    {
     "name": "stdout",
     "output_type": "stream",
     "text": [
      "INFO:tensorflow:  name = module/cls/predictions/output_bias:0, shape = (30522,)\n"
     ]
    },
    {
     "name": "stderr",
     "output_type": "stream",
     "text": [
      "I0608 21:03:36.706698 140290448865152 bert_sct_utils_v2.py:600]   name = module/cls/predictions/output_bias:0, shape = (30522,)\n"
     ]
    },
    {
     "name": "stdout",
     "output_type": "stream",
     "text": [
      "INFO:tensorflow:  name = output_weights:0, shape = (1, 768)\n"
     ]
    },
    {
     "name": "stderr",
     "output_type": "stream",
     "text": [
      "I0608 21:03:36.708860 140290448865152 bert_sct_utils_v2.py:600]   name = output_weights:0, shape = (1, 768)\n"
     ]
    },
    {
     "name": "stdout",
     "output_type": "stream",
     "text": [
      "INFO:tensorflow:  name = output_bias:0, shape = (1,)\n"
     ]
    },
    {
     "name": "stderr",
     "output_type": "stream",
     "text": [
      "I0608 21:03:36.711796 140290448865152 bert_sct_utils_v2.py:600]   name = output_bias:0, shape = (1,)\n"
     ]
    },
    {
     "name": "stdout",
     "output_type": "stream",
     "text": [
      "WARNING:tensorflow:From /usr/local/lib/python3.6/dist-packages/tensorflow/python/training/learning_rate_decay_v2.py:321: div (from tensorflow.python.ops.math_ops) is deprecated and will be removed in a future version.\n",
      "Instructions for updating:\n",
      "Deprecated in favor of operator or tf.math.divide.\n"
     ]
    },
    {
     "name": "stderr",
     "output_type": "stream",
     "text": [
      "W0608 21:03:36.725726 140290448865152 deprecation.py:323] From /usr/local/lib/python3.6/dist-packages/tensorflow/python/training/learning_rate_decay_v2.py:321: div (from tensorflow.python.ops.math_ops) is deprecated and will be removed in a future version.\n",
      "Instructions for updating:\n",
      "Deprecated in favor of operator or tf.math.divide.\n",
      "/usr/local/lib/python3.6/dist-packages/tensorflow/python/ops/gradients_impl.py:110: UserWarning: Converting sparse IndexedSlices to a dense Tensor of unknown shape. This may consume a large amount of memory.\n",
      "  \"Converting sparse IndexedSlices to a dense Tensor of unknown shape. \"\n"
     ]
    },
    {
     "name": "stdout",
     "output_type": "stream",
     "text": [
      "INFO:tensorflow:Done calling model_fn.\n"
     ]
    },
    {
     "name": "stderr",
     "output_type": "stream",
     "text": [
      "I0608 21:03:49.027264 140290448865152 estimator.py:1113] Done calling model_fn.\n"
     ]
    },
    {
     "name": "stdout",
     "output_type": "stream",
     "text": [
      "INFO:tensorflow:Create CheckpointSaverHook.\n"
     ]
    },
    {
     "name": "stderr",
     "output_type": "stream",
     "text": [
      "I0608 21:03:49.036303 140290448865152 basic_session_run_hooks.py:527] Create CheckpointSaverHook.\n"
     ]
    },
    {
     "name": "stdout",
     "output_type": "stream",
     "text": [
      "INFO:tensorflow:Graph was finalized.\n"
     ]
    },
    {
     "name": "stderr",
     "output_type": "stream",
     "text": [
      "I0608 21:03:52.902100 140290448865152 monitored_session.py:222] Graph was finalized.\n"
     ]
    },
    {
     "name": "stdout",
     "output_type": "stream",
     "text": [
      "INFO:tensorflow:Running local_init_op.\n"
     ]
    },
    {
     "name": "stderr",
     "output_type": "stream",
     "text": [
      "I0608 21:03:57.983930 140290448865152 session_manager.py:491] Running local_init_op.\n"
     ]
    },
    {
     "name": "stdout",
     "output_type": "stream",
     "text": [
      "INFO:tensorflow:Done running local_init_op.\n"
     ]
    },
    {
     "name": "stderr",
     "output_type": "stream",
     "text": [
      "I0608 21:03:58.256443 140290448865152 session_manager.py:493] Done running local_init_op.\n"
     ]
    },
    {
     "name": "stdout",
     "output_type": "stream",
     "text": [
      "INFO:tensorflow:Saving checkpoints for 0 into ./output_D/model.ckpt.\n"
     ]
    },
    {
     "name": "stderr",
     "output_type": "stream",
     "text": [
      "I0608 21:04:08.853608 140290448865152 basic_session_run_hooks.py:594] Saving checkpoints for 0 into ./output_D/model.ckpt.\n"
     ]
    },
    {
     "name": "stdout",
     "output_type": "stream",
     "text": [
      "INFO:tensorflow:loss = 0.55973256, step = 0\n"
     ]
    },
    {
     "name": "stderr",
     "output_type": "stream",
     "text": [
      "I0608 21:04:28.355256 140290448865152 basic_session_run_hooks.py:249] loss = 0.55973256, step = 0\n"
     ]
    },
    {
     "name": "stdout",
     "output_type": "stream",
     "text": [
      "INFO:tensorflow:global_step/sec: 0.607528\n"
     ]
    },
    {
     "name": "stderr",
     "output_type": "stream",
     "text": [
      "I0608 21:07:12.955914 140290448865152 basic_session_run_hooks.py:680] global_step/sec: 0.607528\n"
     ]
    },
    {
     "name": "stdout",
     "output_type": "stream",
     "text": [
      "INFO:tensorflow:loss = 0.36927825, step = 100 (164.604 sec)\n"
     ]
    },
    {
     "name": "stderr",
     "output_type": "stream",
     "text": [
      "I0608 21:07:12.959011 140290448865152 basic_session_run_hooks.py:247] loss = 0.36927825, step = 100 (164.604 sec)\n"
     ]
    },
    {
     "name": "stdout",
     "output_type": "stream",
     "text": [
      "INFO:tensorflow:global_step/sec: 0.688646\n"
     ]
    },
    {
     "name": "stderr",
     "output_type": "stream",
     "text": [
      "I0608 21:09:38.168219 140290448865152 basic_session_run_hooks.py:680] global_step/sec: 0.688646\n"
     ]
    },
    {
     "name": "stdout",
     "output_type": "stream",
     "text": [
      "INFO:tensorflow:loss = 0.25269967, step = 200 (145.213 sec)\n"
     ]
    },
    {
     "name": "stderr",
     "output_type": "stream",
     "text": [
      "I0608 21:09:38.171942 140290448865152 basic_session_run_hooks.py:247] loss = 0.25269967, step = 200 (145.213 sec)\n"
     ]
    },
    {
     "name": "stdout",
     "output_type": "stream",
     "text": [
      "INFO:tensorflow:global_step/sec: 0.688607\n"
     ]
    },
    {
     "name": "stderr",
     "output_type": "stream",
     "text": [
      "I0608 21:12:03.388895 140290448865152 basic_session_run_hooks.py:680] global_step/sec: 0.688607\n"
     ]
    },
    {
     "name": "stdout",
     "output_type": "stream",
     "text": [
      "INFO:tensorflow:loss = 0.3260721, step = 300 (145.221 sec)\n"
     ]
    },
    {
     "name": "stderr",
     "output_type": "stream",
     "text": [
      "I0608 21:12:03.392771 140290448865152 basic_session_run_hooks.py:247] loss = 0.3260721, step = 300 (145.221 sec)\n"
     ]
    },
    {
     "name": "stdout",
     "output_type": "stream",
     "text": [
      "INFO:tensorflow:global_step/sec: 0.68932\n"
     ]
    },
    {
     "name": "stderr",
     "output_type": "stream",
     "text": [
      "I0608 21:14:28.459439 140290448865152 basic_session_run_hooks.py:680] global_step/sec: 0.68932\n"
     ]
    },
    {
     "name": "stdout",
     "output_type": "stream",
     "text": [
      "INFO:tensorflow:loss = 0.10044719, step = 400 (145.069 sec)\n"
     ]
    },
    {
     "name": "stderr",
     "output_type": "stream",
     "text": [
      "I0608 21:14:28.462100 140290448865152 basic_session_run_hooks.py:247] loss = 0.10044719, step = 400 (145.069 sec)\n"
     ]
    },
    {
     "name": "stdout",
     "output_type": "stream",
     "text": [
      "INFO:tensorflow:global_step/sec: 0.688911\n"
     ]
    },
    {
     "name": "stderr",
     "output_type": "stream",
     "text": [
      "I0608 21:16:53.616116 140290448865152 basic_session_run_hooks.py:680] global_step/sec: 0.688911\n"
     ]
    },
    {
     "name": "stdout",
     "output_type": "stream",
     "text": [
      "INFO:tensorflow:loss = 0.009844016, step = 500 (145.159 sec)\n"
     ]
    },
    {
     "name": "stderr",
     "output_type": "stream",
     "text": [
      "I0608 21:16:53.620890 140290448865152 basic_session_run_hooks.py:247] loss = 0.009844016, step = 500 (145.159 sec)\n"
     ]
    },
    {
     "name": "stdout",
     "output_type": "stream",
     "text": [
      "INFO:tensorflow:global_step/sec: 0.68936\n"
     ]
    },
    {
     "name": "stderr",
     "output_type": "stream",
     "text": [
      "I0608 21:19:18.678176 140290448865152 basic_session_run_hooks.py:680] global_step/sec: 0.68936\n"
     ]
    },
    {
     "name": "stdout",
     "output_type": "stream",
     "text": [
      "INFO:tensorflow:loss = 0.0044236695, step = 600 (145.060 sec)\n"
     ]
    },
    {
     "name": "stderr",
     "output_type": "stream",
     "text": [
      "I0608 21:19:18.681157 140290448865152 basic_session_run_hooks.py:247] loss = 0.0044236695, step = 600 (145.060 sec)\n"
     ]
    },
    {
     "name": "stdout",
     "output_type": "stream",
     "text": [
      "INFO:tensorflow:global_step/sec: 0.68988\n"
     ]
    },
    {
     "name": "stderr",
     "output_type": "stream",
     "text": [
      "I0608 21:21:43.630919 140290448865152 basic_session_run_hooks.py:680] global_step/sec: 0.68988\n"
     ]
    },
    {
     "name": "stdout",
     "output_type": "stream",
     "text": [
      "INFO:tensorflow:loss = 0.0031489627, step = 700 (144.952 sec)\n"
     ]
    },
    {
     "name": "stderr",
     "output_type": "stream",
     "text": [
      "I0608 21:21:43.633567 140290448865152 basic_session_run_hooks.py:247] loss = 0.0031489627, step = 700 (144.952 sec)\n"
     ]
    },
    {
     "name": "stdout",
     "output_type": "stream",
     "text": [
      "INFO:tensorflow:global_step/sec: 0.689811\n"
     ]
    },
    {
     "name": "stderr",
     "output_type": "stream",
     "text": [
      "I0608 21:24:08.598152 140290448865152 basic_session_run_hooks.py:680] global_step/sec: 0.689811\n"
     ]
    },
    {
     "name": "stdout",
     "output_type": "stream",
     "text": [
      "INFO:tensorflow:loss = 0.07539481, step = 800 (144.968 sec)\n"
     ]
    },
    {
     "name": "stderr",
     "output_type": "stream",
     "text": [
      "I0608 21:24:08.601890 140290448865152 basic_session_run_hooks.py:247] loss = 0.07539481, step = 800 (144.968 sec)\n"
     ]
    },
    {
     "name": "stdout",
     "output_type": "stream",
     "text": [
      "INFO:tensorflow:global_step/sec: 0.689148\n"
     ]
    },
    {
     "name": "stderr",
     "output_type": "stream",
     "text": [
      "I0608 21:26:33.704794 140290448865152 basic_session_run_hooks.py:680] global_step/sec: 0.689148\n"
     ]
    },
    {
     "name": "stdout",
     "output_type": "stream",
     "text": [
      "INFO:tensorflow:loss = 0.0023623353, step = 900 (145.111 sec)\n"
     ]
    },
    {
     "name": "stderr",
     "output_type": "stream",
     "text": [
      "I0608 21:26:33.713378 140290448865152 basic_session_run_hooks.py:247] loss = 0.0023623353, step = 900 (145.111 sec)\n"
     ]
    },
    {
     "name": "stdout",
     "output_type": "stream",
     "text": [
      "INFO:tensorflow:Saving checkpoints for 1000 into ./output_D/model.ckpt.\n"
     ]
    },
    {
     "name": "stderr",
     "output_type": "stream",
     "text": [
      "I0608 21:28:57.260961 140290448865152 basic_session_run_hooks.py:594] Saving checkpoints for 1000 into ./output_D/model.ckpt.\n"
     ]
    },
    {
     "name": "stdout",
     "output_type": "stream",
     "text": [
      "INFO:tensorflow:global_step/sec: 0.645647\n"
     ]
    },
    {
     "name": "stderr",
     "output_type": "stream",
     "text": [
      "I0608 21:29:08.588259 140290448865152 basic_session_run_hooks.py:680] global_step/sec: 0.645647\n"
     ]
    },
    {
     "name": "stdout",
     "output_type": "stream",
     "text": [
      "INFO:tensorflow:loss = 0.013339537, step = 1000 (154.880 sec)\n"
     ]
    },
    {
     "name": "stderr",
     "output_type": "stream",
     "text": [
      "I0608 21:29:08.592928 140290448865152 basic_session_run_hooks.py:247] loss = 0.013339537, step = 1000 (154.880 sec)\n"
     ]
    },
    {
     "name": "stdout",
     "output_type": "stream",
     "text": [
      "INFO:tensorflow:global_step/sec: 0.687807\n"
     ]
    },
    {
     "name": "stderr",
     "output_type": "stream",
     "text": [
      "I0608 21:31:33.977894 140290448865152 basic_session_run_hooks.py:680] global_step/sec: 0.687807\n"
     ]
    },
    {
     "name": "stdout",
     "output_type": "stream",
     "text": [
      "INFO:tensorflow:loss = 0.0040766424, step = 1100 (145.390 sec)\n"
     ]
    },
    {
     "name": "stderr",
     "output_type": "stream",
     "text": [
      "I0608 21:31:33.982859 140290448865152 basic_session_run_hooks.py:247] loss = 0.0040766424, step = 1100 (145.390 sec)\n"
     ]
    },
    {
     "name": "stdout",
     "output_type": "stream",
     "text": [
      "INFO:tensorflow:global_step/sec: 0.689597\n"
     ]
    },
    {
     "name": "stderr",
     "output_type": "stream",
     "text": [
      "I0608 21:33:58.990097 140290448865152 basic_session_run_hooks.py:680] global_step/sec: 0.689597\n"
     ]
    },
    {
     "name": "stdout",
     "output_type": "stream",
     "text": [
      "INFO:tensorflow:loss = 0.0037278119, step = 1200 (145.010 sec)\n"
     ]
    },
    {
     "name": "stderr",
     "output_type": "stream",
     "text": [
      "I0608 21:33:58.992824 140290448865152 basic_session_run_hooks.py:247] loss = 0.0037278119, step = 1200 (145.010 sec)\n"
     ]
    },
    {
     "name": "stdout",
     "output_type": "stream",
     "text": [
      "INFO:tensorflow:global_step/sec: 0.688887\n"
     ]
    },
    {
     "name": "stderr",
     "output_type": "stream",
     "text": [
      "I0608 21:36:24.151720 140290448865152 basic_session_run_hooks.py:680] global_step/sec: 0.688887\n"
     ]
    },
    {
     "name": "stdout",
     "output_type": "stream",
     "text": [
      "INFO:tensorflow:loss = 0.0038100502, step = 1300 (145.162 sec)\n"
     ]
    },
    {
     "name": "stderr",
     "output_type": "stream",
     "text": [
      "I0608 21:36:24.154926 140290448865152 basic_session_run_hooks.py:247] loss = 0.0038100502, step = 1300 (145.162 sec)\n"
     ]
    },
    {
     "name": "stdout",
     "output_type": "stream",
     "text": [
      "INFO:tensorflow:global_step/sec: 0.689\n"
     ]
    },
    {
     "name": "stderr",
     "output_type": "stream",
     "text": [
      "I0608 21:38:49.289637 140290448865152 basic_session_run_hooks.py:680] global_step/sec: 0.689\n"
     ]
    },
    {
     "name": "stdout",
     "output_type": "stream",
     "text": [
      "INFO:tensorflow:loss = 0.0380229, step = 1400 (145.143 sec)\n"
     ]
    },
    {
     "name": "stderr",
     "output_type": "stream",
     "text": [
      "I0608 21:38:49.297882 140290448865152 basic_session_run_hooks.py:247] loss = 0.0380229, step = 1400 (145.143 sec)\n"
     ]
    },
    {
     "name": "stdout",
     "output_type": "stream",
     "text": [
      "INFO:tensorflow:global_step/sec: 0.689444\n"
     ]
    },
    {
     "name": "stderr",
     "output_type": "stream",
     "text": [
      "I0608 21:41:14.333984 140290448865152 basic_session_run_hooks.py:680] global_step/sec: 0.689444\n"
     ]
    },
    {
     "name": "stdout",
     "output_type": "stream",
     "text": [
      "INFO:tensorflow:loss = 0.09362576, step = 1500 (145.040 sec)\n"
     ]
    },
    {
     "name": "stderr",
     "output_type": "stream",
     "text": [
      "I0608 21:41:14.338010 140290448865152 basic_session_run_hooks.py:247] loss = 0.09362576, step = 1500 (145.040 sec)\n"
     ]
    },
    {
     "name": "stdout",
     "output_type": "stream",
     "text": [
      "INFO:tensorflow:global_step/sec: 0.689483\n"
     ]
    },
    {
     "name": "stderr",
     "output_type": "stream",
     "text": [
      "I0608 21:43:39.370265 140290448865152 basic_session_run_hooks.py:680] global_step/sec: 0.689483\n"
     ]
    },
    {
     "name": "stdout",
     "output_type": "stream",
     "text": [
      "INFO:tensorflow:loss = 0.002055491, step = 1600 (145.035 sec)\n"
     ]
    },
    {
     "name": "stderr",
     "output_type": "stream",
     "text": [
      "I0608 21:43:39.372597 140290448865152 basic_session_run_hooks.py:247] loss = 0.002055491, step = 1600 (145.035 sec)\n"
     ]
    },
    {
     "name": "stdout",
     "output_type": "stream",
     "text": [
      "INFO:tensorflow:global_step/sec: 0.689132\n"
     ]
    },
    {
     "name": "stderr",
     "output_type": "stream",
     "text": [
      "I0608 21:46:04.480330 140290448865152 basic_session_run_hooks.py:680] global_step/sec: 0.689132\n"
     ]
    },
    {
     "name": "stdout",
     "output_type": "stream",
     "text": [
      "INFO:tensorflow:loss = 0.00011158473, step = 1700 (145.117 sec)\n"
     ]
    },
    {
     "name": "stderr",
     "output_type": "stream",
     "text": [
      "I0608 21:46:04.489275 140290448865152 basic_session_run_hooks.py:247] loss = 0.00011158473, step = 1700 (145.117 sec)\n"
     ]
    },
    {
     "name": "stdout",
     "output_type": "stream",
     "text": [
      "INFO:tensorflow:global_step/sec: 0.689621\n"
     ]
    },
    {
     "name": "stderr",
     "output_type": "stream",
     "text": [
      "I0608 21:48:29.487499 140290448865152 basic_session_run_hooks.py:680] global_step/sec: 0.689621\n"
     ]
    },
    {
     "name": "stdout",
     "output_type": "stream",
     "text": [
      "INFO:tensorflow:loss = 0.0001407999, step = 1800 (145.003 sec)\n"
     ]
    },
    {
     "name": "stderr",
     "output_type": "stream",
     "text": [
      "I0608 21:48:29.492734 140290448865152 basic_session_run_hooks.py:247] loss = 0.0001407999, step = 1800 (145.003 sec)\n"
     ]
    },
    {
     "name": "stdout",
     "output_type": "stream",
     "text": [
      "INFO:tensorflow:global_step/sec: 0.688595\n"
     ]
    },
    {
     "name": "stderr",
     "output_type": "stream",
     "text": [
      "I0608 21:50:54.710722 140290448865152 basic_session_run_hooks.py:680] global_step/sec: 0.688595\n"
     ]
    },
    {
     "name": "stdout",
     "output_type": "stream",
     "text": [
      "INFO:tensorflow:loss = 7.7550045e-05, step = 1900 (145.221 sec)\n"
     ]
    },
    {
     "name": "stderr",
     "output_type": "stream",
     "text": [
      "I0608 21:50:54.713850 140290448865152 basic_session_run_hooks.py:247] loss = 7.7550045e-05, step = 1900 (145.221 sec)\n"
     ]
    },
    {
     "name": "stdout",
     "output_type": "stream",
     "text": [
      "INFO:tensorflow:Saving checkpoints for 2000 into ./output_D/model.ckpt.\n"
     ]
    },
    {
     "name": "stderr",
     "output_type": "stream",
     "text": [
      "I0608 21:53:18.243507 140290448865152 basic_session_run_hooks.py:594] Saving checkpoints for 2000 into ./output_D/model.ckpt.\n"
     ]
    },
    {
     "name": "stdout",
     "output_type": "stream",
     "text": [
      "INFO:tensorflow:global_step/sec: 0.645752\n"
     ]
    },
    {
     "name": "stderr",
     "output_type": "stream",
     "text": [
      "I0608 21:53:29.568962 140290448865152 basic_session_run_hooks.py:680] global_step/sec: 0.645752\n"
     ]
    },
    {
     "name": "stdout",
     "output_type": "stream",
     "text": [
      "INFO:tensorflow:loss = 6.6535344e-05, step = 2000 (154.858 sec)\n"
     ]
    },
    {
     "name": "stderr",
     "output_type": "stream",
     "text": [
      "I0608 21:53:29.571740 140290448865152 basic_session_run_hooks.py:247] loss = 6.6535344e-05, step = 2000 (154.858 sec)\n"
     ]
    },
    {
     "name": "stdout",
     "output_type": "stream",
     "text": [
      "INFO:tensorflow:global_step/sec: 0.686695\n"
     ]
    },
    {
     "name": "stderr",
     "output_type": "stream",
     "text": [
      "I0608 21:55:55.194094 140290448865152 basic_session_run_hooks.py:680] global_step/sec: 0.686695\n"
     ]
    },
    {
     "name": "stdout",
     "output_type": "stream",
     "text": [
      "INFO:tensorflow:loss = 1.3708913e-05, step = 2100 (145.629 sec)\n"
     ]
    },
    {
     "name": "stderr",
     "output_type": "stream",
     "text": [
      "I0608 21:55:55.200963 140290448865152 basic_session_run_hooks.py:247] loss = 1.3708913e-05, step = 2100 (145.629 sec)\n"
     ]
    },
    {
     "name": "stdout",
     "output_type": "stream",
     "text": [
      "INFO:tensorflow:global_step/sec: 0.687891\n"
     ]
    },
    {
     "name": "stderr",
     "output_type": "stream",
     "text": [
      "I0608 21:58:20.566089 140290448865152 basic_session_run_hooks.py:680] global_step/sec: 0.687891\n"
     ]
    },
    {
     "name": "stdout",
     "output_type": "stream",
     "text": [
      "INFO:tensorflow:loss = 0.0005237431, step = 2200 (145.368 sec)\n"
     ]
    },
    {
     "name": "stderr",
     "output_type": "stream",
     "text": [
      "I0608 21:58:20.571507 140290448865152 basic_session_run_hooks.py:247] loss = 0.0005237431, step = 2200 (145.368 sec)\n"
     ]
    },
    {
     "name": "stdout",
     "output_type": "stream",
     "text": [
      "INFO:tensorflow:global_step/sec: 0.688927\n"
     ]
    },
    {
     "name": "stderr",
     "output_type": "stream",
     "text": [
      "I0608 22:00:45.719388 140290448865152 basic_session_run_hooks.py:680] global_step/sec: 0.688927\n"
     ]
    },
    {
     "name": "stdout",
     "output_type": "stream",
     "text": [
      "INFO:tensorflow:loss = 0.0062911063, step = 2300 (145.155 sec)\n"
     ]
    },
    {
     "name": "stderr",
     "output_type": "stream",
     "text": [
      "I0608 22:00:45.725020 140290448865152 basic_session_run_hooks.py:247] loss = 0.0062911063, step = 2300 (145.155 sec)\n"
     ]
    },
    {
     "name": "stdout",
     "output_type": "stream",
     "text": [
      "INFO:tensorflow:global_step/sec: 0.687711\n"
     ]
    },
    {
     "name": "stderr",
     "output_type": "stream",
     "text": [
      "I0608 22:03:11.129434 140290448865152 basic_session_run_hooks.py:680] global_step/sec: 0.687711\n"
     ]
    },
    {
     "name": "stdout",
     "output_type": "stream",
     "text": [
      "INFO:tensorflow:loss = 0.0011224694, step = 2400 (145.412 sec)\n"
     ]
    },
    {
     "name": "stderr",
     "output_type": "stream",
     "text": [
      "I0608 22:03:11.136171 140290448865152 basic_session_run_hooks.py:247] loss = 0.0011224694, step = 2400 (145.412 sec)\n"
     ]
    },
    {
     "name": "stdout",
     "output_type": "stream",
     "text": [
      "INFO:tensorflow:global_step/sec: 0.689213\n"
     ]
    },
    {
     "name": "stderr",
     "output_type": "stream",
     "text": [
      "I0608 22:05:36.222540 140290448865152 basic_session_run_hooks.py:680] global_step/sec: 0.689213\n"
     ]
    },
    {
     "name": "stdout",
     "output_type": "stream",
     "text": [
      "INFO:tensorflow:loss = 0.0011556683, step = 2500 (145.090 sec)\n"
     ]
    },
    {
     "name": "stderr",
     "output_type": "stream",
     "text": [
      "I0608 22:05:36.225933 140290448865152 basic_session_run_hooks.py:247] loss = 0.0011556683, step = 2500 (145.090 sec)\n"
     ]
    },
    {
     "name": "stdout",
     "output_type": "stream",
     "text": [
      "INFO:tensorflow:global_step/sec: 0.687733\n"
     ]
    },
    {
     "name": "stderr",
     "output_type": "stream",
     "text": [
      "I0608 22:08:01.627728 140290448865152 basic_session_run_hooks.py:680] global_step/sec: 0.687733\n"
     ]
    },
    {
     "name": "stdout",
     "output_type": "stream",
     "text": [
      "INFO:tensorflow:loss = 0.012982289, step = 2600 (145.407 sec)\n"
     ]
    },
    {
     "name": "stderr",
     "output_type": "stream",
     "text": [
      "I0608 22:08:01.632699 140290448865152 basic_session_run_hooks.py:247] loss = 0.012982289, step = 2600 (145.407 sec)\n"
     ]
    },
    {
     "name": "stdout",
     "output_type": "stream",
     "text": [
      "INFO:tensorflow:global_step/sec: 0.689417\n"
     ]
    },
    {
     "name": "stderr",
     "output_type": "stream",
     "text": [
      "I0608 22:10:26.677807 140290448865152 basic_session_run_hooks.py:680] global_step/sec: 0.689417\n"
     ]
    },
    {
     "name": "stdout",
     "output_type": "stream",
     "text": [
      "INFO:tensorflow:loss = 0.0006291055, step = 2700 (145.049 sec)\n"
     ]
    },
    {
     "name": "stderr",
     "output_type": "stream",
     "text": [
      "I0608 22:10:26.683890 140290448865152 basic_session_run_hooks.py:247] loss = 0.0006291055, step = 2700 (145.049 sec)\n"
     ]
    },
    {
     "name": "stdout",
     "output_type": "stream",
     "text": [
      "INFO:tensorflow:global_step/sec: 0.689618\n"
     ]
    },
    {
     "name": "stderr",
     "output_type": "stream",
     "text": [
      "I0608 22:12:51.685541 140290448865152 basic_session_run_hooks.py:680] global_step/sec: 0.689618\n"
     ]
    },
    {
     "name": "stdout",
     "output_type": "stream",
     "text": [
      "INFO:tensorflow:loss = 3.870917e-05, step = 2800 (145.009 sec)\n"
     ]
    },
    {
     "name": "stderr",
     "output_type": "stream",
     "text": [
      "I0608 22:12:51.690790 140290448865152 basic_session_run_hooks.py:247] loss = 3.870917e-05, step = 2800 (145.009 sec)\n"
     ]
    },
    {
     "name": "stdout",
     "output_type": "stream",
     "text": [
      "INFO:tensorflow:global_step/sec: 0.688741\n"
     ]
    },
    {
     "name": "stderr",
     "output_type": "stream",
     "text": [
      "I0608 22:15:16.877974 140290448865152 basic_session_run_hooks.py:680] global_step/sec: 0.688741\n"
     ]
    },
    {
     "name": "stdout",
     "output_type": "stream",
     "text": [
      "INFO:tensorflow:loss = 9.791446e-05, step = 2900 (145.190 sec)\n"
     ]
    },
    {
     "name": "stderr",
     "output_type": "stream",
     "text": [
      "I0608 22:15:16.880816 140290448865152 basic_session_run_hooks.py:247] loss = 9.791446e-05, step = 2900 (145.190 sec)\n"
     ]
    },
    {
     "name": "stdout",
     "output_type": "stream",
     "text": [
      "INFO:tensorflow:Saving checkpoints for 3000 into ./output_D/model.ckpt.\n"
     ]
    },
    {
     "name": "stderr",
     "output_type": "stream",
     "text": [
      "I0608 22:17:40.551841 140290448865152 basic_session_run_hooks.py:594] Saving checkpoints for 3000 into ./output_D/model.ckpt.\n"
     ]
    },
    {
     "name": "stdout",
     "output_type": "stream",
     "text": [
      "INFO:tensorflow:global_step/sec: 0.645648\n"
     ]
    },
    {
     "name": "stderr",
     "output_type": "stream",
     "text": [
      "I0608 22:17:51.761122 140290448865152 basic_session_run_hooks.py:680] global_step/sec: 0.645648\n"
     ]
    },
    {
     "name": "stdout",
     "output_type": "stream",
     "text": [
      "INFO:tensorflow:loss = 0.0011034611, step = 3000 (154.885 sec)\n"
     ]
    },
    {
     "name": "stderr",
     "output_type": "stream",
     "text": [
      "I0608 22:17:51.766317 140290448865152 basic_session_run_hooks.py:247] loss = 0.0011034611, step = 3000 (154.885 sec)\n"
     ]
    },
    {
     "name": "stdout",
     "output_type": "stream",
     "text": [
      "INFO:tensorflow:global_step/sec: 0.687776\n"
     ]
    },
    {
     "name": "stderr",
     "output_type": "stream",
     "text": [
      "I0608 22:20:17.157356 140290448865152 basic_session_run_hooks.py:680] global_step/sec: 0.687776\n"
     ]
    },
    {
     "name": "stdout",
     "output_type": "stream",
     "text": [
      "INFO:tensorflow:loss = 4.127596e-06, step = 3100 (145.394 sec)\n"
     ]
    },
    {
     "name": "stderr",
     "output_type": "stream",
     "text": [
      "I0608 22:20:17.159866 140290448865152 basic_session_run_hooks.py:247] loss = 4.127596e-06, step = 3100 (145.394 sec)\n"
     ]
    },
    {
     "name": "stdout",
     "output_type": "stream",
     "text": [
      "INFO:tensorflow:global_step/sec: 0.687631\n"
     ]
    },
    {
     "name": "stderr",
     "output_type": "stream",
     "text": [
      "I0608 22:22:42.584182 140290448865152 basic_session_run_hooks.py:680] global_step/sec: 0.687631\n"
     ]
    },
    {
     "name": "stdout",
     "output_type": "stream",
     "text": [
      "INFO:tensorflow:loss = 7.599425e-06, step = 3200 (145.430 sec)\n"
     ]
    },
    {
     "name": "stderr",
     "output_type": "stream",
     "text": [
      "I0608 22:22:42.589508 140290448865152 basic_session_run_hooks.py:247] loss = 7.599425e-06, step = 3200 (145.430 sec)\n"
     ]
    },
    {
     "name": "stdout",
     "output_type": "stream",
     "text": [
      "INFO:tensorflow:global_step/sec: 0.689841\n"
     ]
    },
    {
     "name": "stderr",
     "output_type": "stream",
     "text": [
      "I0608 22:25:07.545081 140290448865152 basic_session_run_hooks.py:680] global_step/sec: 0.689841\n"
     ]
    },
    {
     "name": "stdout",
     "output_type": "stream",
     "text": [
      "INFO:tensorflow:loss = 4.818408e-05, step = 3300 (144.962 sec)\n"
     ]
    },
    {
     "name": "stderr",
     "output_type": "stream",
     "text": [
      "I0608 22:25:07.551609 140290448865152 basic_session_run_hooks.py:247] loss = 4.818408e-05, step = 3300 (144.962 sec)\n"
     ]
    },
    {
     "name": "stdout",
     "output_type": "stream",
     "text": [
      "INFO:tensorflow:global_step/sec: 0.689838\n"
     ]
    },
    {
     "name": "stderr",
     "output_type": "stream",
     "text": [
      "I0608 22:27:32.506581 140290448865152 basic_session_run_hooks.py:680] global_step/sec: 0.689838\n"
     ]
    },
    {
     "name": "stdout",
     "output_type": "stream",
     "text": [
      "INFO:tensorflow:loss = 0.0031582026, step = 3400 (144.961 sec)\n"
     ]
    },
    {
     "name": "stderr",
     "output_type": "stream",
     "text": [
      "I0608 22:27:32.512223 140290448865152 basic_session_run_hooks.py:247] loss = 0.0031582026, step = 3400 (144.961 sec)\n"
     ]
    },
    {
     "name": "stdout",
     "output_type": "stream",
     "text": [
      "INFO:tensorflow:global_step/sec: 0.689317\n"
     ]
    },
    {
     "name": "stderr",
     "output_type": "stream",
     "text": [
      "I0608 22:29:57.577833 140290448865152 basic_session_run_hooks.py:680] global_step/sec: 0.689317\n"
     ]
    },
    {
     "name": "stdout",
     "output_type": "stream",
     "text": [
      "INFO:tensorflow:loss = 1.1771881e-06, step = 3500 (145.071 sec)\n"
     ]
    },
    {
     "name": "stderr",
     "output_type": "stream",
     "text": [
      "I0608 22:29:57.583362 140290448865152 basic_session_run_hooks.py:247] loss = 1.1771881e-06, step = 3500 (145.071 sec)\n"
     ]
    },
    {
     "name": "stdout",
     "output_type": "stream",
     "text": [
      "INFO:tensorflow:global_step/sec: 0.68882\n"
     ]
    },
    {
     "name": "stderr",
     "output_type": "stream",
     "text": [
      "I0608 22:32:22.753622 140290448865152 basic_session_run_hooks.py:680] global_step/sec: 0.68882\n"
     ]
    },
    {
     "name": "stdout",
     "output_type": "stream",
     "text": [
      "INFO:tensorflow:loss = 0.038243365, step = 3600 (145.179 sec)\n"
     ]
    },
    {
     "name": "stderr",
     "output_type": "stream",
     "text": [
      "I0608 22:32:22.762781 140290448865152 basic_session_run_hooks.py:247] loss = 0.038243365, step = 3600 (145.179 sec)\n"
     ]
    },
    {
     "name": "stdout",
     "output_type": "stream",
     "text": [
      "INFO:tensorflow:global_step/sec: 0.689721\n"
     ]
    },
    {
     "name": "stderr",
     "output_type": "stream",
     "text": [
      "I0608 22:34:47.739750 140290448865152 basic_session_run_hooks.py:680] global_step/sec: 0.689721\n"
     ]
    },
    {
     "name": "stdout",
     "output_type": "stream",
     "text": [
      "INFO:tensorflow:loss = 0.1300622, step = 3700 (144.981 sec)\n"
     ]
    },
    {
     "name": "stderr",
     "output_type": "stream",
     "text": [
      "I0608 22:34:47.743638 140290448865152 basic_session_run_hooks.py:247] loss = 0.1300622, step = 3700 (144.981 sec)\n"
     ]
    },
    {
     "name": "stdout",
     "output_type": "stream",
     "text": [
      "INFO:tensorflow:global_step/sec: 0.690797\n"
     ]
    },
    {
     "name": "stderr",
     "output_type": "stream",
     "text": [
      "I0608 22:37:12.500193 140290448865152 basic_session_run_hooks.py:680] global_step/sec: 0.690797\n"
     ]
    },
    {
     "name": "stdout",
     "output_type": "stream",
     "text": [
      "INFO:tensorflow:loss = 2.0861621e-07, step = 3800 (144.764 sec)\n"
     ]
    },
    {
     "name": "stderr",
     "output_type": "stream",
     "text": [
      "I0608 22:37:12.508178 140290448865152 basic_session_run_hooks.py:247] loss = 2.0861621e-07, step = 3800 (144.764 sec)\n"
     ]
    },
    {
     "name": "stdout",
     "output_type": "stream",
     "text": [
      "INFO:tensorflow:global_step/sec: 0.690786\n"
     ]
    },
    {
     "name": "stderr",
     "output_type": "stream",
     "text": [
      "I0608 22:39:37.262688 140290448865152 basic_session_run_hooks.py:680] global_step/sec: 0.690786\n"
     ]
    },
    {
     "name": "stdout",
     "output_type": "stream",
     "text": [
      "INFO:tensorflow:loss = 6.5564967e-07, step = 3900 (144.758 sec)\n"
     ]
    },
    {
     "name": "stderr",
     "output_type": "stream",
     "text": [
      "I0608 22:39:37.265772 140290448865152 basic_session_run_hooks.py:247] loss = 6.5564967e-07, step = 3900 (144.758 sec)\n"
     ]
    },
    {
     "name": "stdout",
     "output_type": "stream",
     "text": [
      "INFO:tensorflow:Saving checkpoints for 4000 into ./output_D/model.ckpt.\n"
     ]
    },
    {
     "name": "stderr",
     "output_type": "stream",
     "text": [
      "I0608 22:42:00.723327 140290448865152 basic_session_run_hooks.py:594] Saving checkpoints for 4000 into ./output_D/model.ckpt.\n"
     ]
    },
    {
     "name": "stdout",
     "output_type": "stream",
     "text": [
      "INFO:tensorflow:global_step/sec: 0.645514\n"
     ]
    },
    {
     "name": "stderr",
     "output_type": "stream",
     "text": [
      "I0608 22:42:12.177937 140290448865152 basic_session_run_hooks.py:680] global_step/sec: 0.645514\n"
     ]
    },
    {
     "name": "stdout",
     "output_type": "stream",
     "text": [
      "INFO:tensorflow:loss = 6.7650262e-06, step = 4000 (154.918 sec)\n"
     ]
    },
    {
     "name": "stderr",
     "output_type": "stream",
     "text": [
      "I0608 22:42:12.183758 140290448865152 basic_session_run_hooks.py:247] loss = 6.7650262e-06, step = 4000 (154.918 sec)\n"
     ]
    },
    {
     "name": "stdout",
     "output_type": "stream",
     "text": [
      "INFO:tensorflow:global_step/sec: 0.689721\n"
     ]
    },
    {
     "name": "stderr",
     "output_type": "stream",
     "text": [
      "I0608 22:44:37.164094 140290448865152 basic_session_run_hooks.py:680] global_step/sec: 0.689721\n"
     ]
    },
    {
     "name": "stdout",
     "output_type": "stream",
     "text": [
      "INFO:tensorflow:loss = 9.6968564e-05, step = 4100 (144.989 sec)\n"
     ]
    },
    {
     "name": "stderr",
     "output_type": "stream",
     "text": [
      "I0608 22:44:37.173187 140290448865152 basic_session_run_hooks.py:247] loss = 9.6968564e-05, step = 4100 (144.989 sec)\n"
     ]
    },
    {
     "name": "stdout",
     "output_type": "stream",
     "text": [
      "INFO:tensorflow:global_step/sec: 0.691481\n"
     ]
    },
    {
     "name": "stderr",
     "output_type": "stream",
     "text": [
      "I0608 22:47:01.781217 140290448865152 basic_session_run_hooks.py:680] global_step/sec: 0.691481\n"
     ]
    },
    {
     "name": "stdout",
     "output_type": "stream",
     "text": [
      "INFO:tensorflow:loss = 3.2931243e-06, step = 4200 (144.611 sec)\n"
     ]
    },
    {
     "name": "stderr",
     "output_type": "stream",
     "text": [
      "I0608 22:47:01.783929 140290448865152 basic_session_run_hooks.py:247] loss = 3.2931243e-06, step = 4200 (144.611 sec)\n"
     ]
    },
    {
     "name": "stdout",
     "output_type": "stream",
     "text": [
      "INFO:tensorflow:global_step/sec: 0.691759\n"
     ]
    },
    {
     "name": "stderr",
     "output_type": "stream",
     "text": [
      "I0608 22:49:26.340320 140290448865152 basic_session_run_hooks.py:680] global_step/sec: 0.691759\n"
     ]
    },
    {
     "name": "stdout",
     "output_type": "stream",
     "text": [
      "INFO:tensorflow:loss = 2.384169e-06, step = 4300 (144.562 sec)\n"
     ]
    },
    {
     "name": "stderr",
     "output_type": "stream",
     "text": [
      "I0608 22:49:26.345949 140290448865152 basic_session_run_hooks.py:247] loss = 2.384169e-06, step = 4300 (144.562 sec)\n"
     ]
    },
    {
     "name": "stdout",
     "output_type": "stream",
     "text": [
      "INFO:tensorflow:global_step/sec: 0.692598\n"
     ]
    },
    {
     "name": "stderr",
     "output_type": "stream",
     "text": [
      "I0608 22:51:50.724138 140290448865152 basic_session_run_hooks.py:680] global_step/sec: 0.692598\n"
     ]
    },
    {
     "name": "stdout",
     "output_type": "stream",
     "text": [
      "INFO:tensorflow:loss = 5.960323e-06, step = 4400 (144.381 sec)\n"
     ]
    },
    {
     "name": "stderr",
     "output_type": "stream",
     "text": [
      "I0608 22:51:50.726919 140290448865152 basic_session_run_hooks.py:247] loss = 5.960323e-06, step = 4400 (144.381 sec)\n"
     ]
    },
    {
     "name": "stdout",
     "output_type": "stream",
     "text": [
      "INFO:tensorflow:global_step/sec: 0.692505\n"
     ]
    },
    {
     "name": "stderr",
     "output_type": "stream",
     "text": [
      "I0608 22:54:15.127531 140290448865152 basic_session_run_hooks.py:680] global_step/sec: 0.692505\n"
     ]
    },
    {
     "name": "stdout",
     "output_type": "stream",
     "text": [
      "INFO:tensorflow:loss = 0.00014956549, step = 4500 (144.410 sec)\n"
     ]
    },
    {
     "name": "stderr",
     "output_type": "stream",
     "text": [
      "I0608 22:54:15.136489 140290448865152 basic_session_run_hooks.py:247] loss = 0.00014956549, step = 4500 (144.410 sec)\n"
     ]
    },
    {
     "name": "stdout",
     "output_type": "stream",
     "text": [
      "INFO:tensorflow:global_step/sec: 0.692989\n"
     ]
    },
    {
     "name": "stderr",
     "output_type": "stream",
     "text": [
      "I0608 22:56:39.430037 140290448865152 basic_session_run_hooks.py:680] global_step/sec: 0.692989\n"
     ]
    },
    {
     "name": "stdout",
     "output_type": "stream",
     "text": [
      "INFO:tensorflow:loss = 5.9603403e-06, step = 4600 (144.302 sec)\n"
     ]
    },
    {
     "name": "stderr",
     "output_type": "stream",
     "text": [
      "I0608 22:56:39.438651 140290448865152 basic_session_run_hooks.py:247] loss = 5.9603403e-06, step = 4600 (144.302 sec)\n"
     ]
    },
    {
     "name": "stdout",
     "output_type": "stream",
     "text": [
      "INFO:tensorflow:global_step/sec: 0.693114\n"
     ]
    },
    {
     "name": "stderr",
     "output_type": "stream",
     "text": [
      "I0608 22:59:03.706493 140290448865152 basic_session_run_hooks.py:680] global_step/sec: 0.693114\n"
     ]
    },
    {
     "name": "stdout",
     "output_type": "stream",
     "text": [
      "INFO:tensorflow:loss = -0.0, step = 4700 (144.274 sec)\n"
     ]
    },
    {
     "name": "stderr",
     "output_type": "stream",
     "text": [
      "I0608 22:59:03.713203 140290448865152 basic_session_run_hooks.py:247] loss = -0.0, step = 4700 (144.274 sec)\n"
     ]
    },
    {
     "name": "stdout",
     "output_type": "stream",
     "text": [
      "INFO:tensorflow:global_step/sec: 0.693288\n"
     ]
    },
    {
     "name": "stderr",
     "output_type": "stream",
     "text": [
      "I0608 23:01:27.946644 140290448865152 basic_session_run_hooks.py:680] global_step/sec: 0.693288\n"
     ]
    },
    {
     "name": "stdout",
     "output_type": "stream",
     "text": [
      "INFO:tensorflow:loss = 1.04308114e-07, step = 4800 (144.240 sec)\n"
     ]
    },
    {
     "name": "stderr",
     "output_type": "stream",
     "text": [
      "I0608 23:01:27.953005 140290448865152 basic_session_run_hooks.py:247] loss = 1.04308114e-07, step = 4800 (144.240 sec)\n"
     ]
    },
    {
     "name": "stdout",
     "output_type": "stream",
     "text": [
      "INFO:tensorflow:global_step/sec: 0.693361\n"
     ]
    },
    {
     "name": "stderr",
     "output_type": "stream",
     "text": [
      "I0608 23:03:52.171724 140290448865152 basic_session_run_hooks.py:680] global_step/sec: 0.693361\n"
     ]
    },
    {
     "name": "stdout",
     "output_type": "stream",
     "text": [
      "INFO:tensorflow:loss = 5.9858623e-05, step = 4900 (144.221 sec)\n"
     ]
    },
    {
     "name": "stderr",
     "output_type": "stream",
     "text": [
      "I0608 23:03:52.174454 140290448865152 basic_session_run_hooks.py:247] loss = 5.9858623e-05, step = 4900 (144.221 sec)\n"
     ]
    },
    {
     "name": "stdout",
     "output_type": "stream",
     "text": [
      "INFO:tensorflow:Saving checkpoints for 5000 into ./output_D/model.ckpt.\n"
     ]
    },
    {
     "name": "stderr",
     "output_type": "stream",
     "text": [
      "I0608 23:06:15.074342 140290448865152 basic_session_run_hooks.py:594] Saving checkpoints for 5000 into ./output_D/model.ckpt.\n"
     ]
    },
    {
     "name": "stdout",
     "output_type": "stream",
     "text": [
      "WARNING:tensorflow:From /usr/local/lib/python3.6/dist-packages/tensorflow/python/training/saver.py:966: remove_checkpoint (from tensorflow.python.training.checkpoint_management) is deprecated and will be removed in a future version.\n",
      "Instructions for updating:\n",
      "Use standard file APIs to delete files with this prefix.\n"
     ]
    },
    {
     "name": "stderr",
     "output_type": "stream",
     "text": [
      "W0608 23:06:23.102556 140290448865152 deprecation.py:323] From /usr/local/lib/python3.6/dist-packages/tensorflow/python/training/saver.py:966: remove_checkpoint (from tensorflow.python.training.checkpoint_management) is deprecated and will be removed in a future version.\n",
      "Instructions for updating:\n",
      "Use standard file APIs to delete files with this prefix.\n"
     ]
    },
    {
     "name": "stdout",
     "output_type": "stream",
     "text": [
      "INFO:tensorflow:global_step/sec: 0.648366\n"
     ]
    },
    {
     "name": "stderr",
     "output_type": "stream",
     "text": [
      "I0608 23:06:26.405674 140290448865152 basic_session_run_hooks.py:680] global_step/sec: 0.648366\n"
     ]
    },
    {
     "name": "stdout",
     "output_type": "stream",
     "text": [
      "INFO:tensorflow:loss = 3.3080196e-06, step = 5000 (154.237 sec)\n"
     ]
    },
    {
     "name": "stderr",
     "output_type": "stream",
     "text": [
      "I0608 23:06:26.411392 140290448865152 basic_session_run_hooks.py:247] loss = 3.3080196e-06, step = 5000 (154.237 sec)\n"
     ]
    },
    {
     "name": "stdout",
     "output_type": "stream",
     "text": [
      "INFO:tensorflow:global_step/sec: 0.690948\n"
     ]
    },
    {
     "name": "stderr",
     "output_type": "stream",
     "text": [
      "I0608 23:08:51.134281 140290448865152 basic_session_run_hooks.py:680] global_step/sec: 0.690948\n"
     ]
    },
    {
     "name": "stdout",
     "output_type": "stream",
     "text": [
      "INFO:tensorflow:loss = 0.83003294, step = 5100 (144.726 sec)\n"
     ]
    },
    {
     "name": "stderr",
     "output_type": "stream",
     "text": [
      "I0608 23:08:51.136950 140290448865152 basic_session_run_hooks.py:247] loss = 0.83003294, step = 5100 (144.726 sec)\n"
     ]
    },
    {
     "name": "stdout",
     "output_type": "stream",
     "text": [
      "INFO:tensorflow:global_step/sec: 0.692753\n"
     ]
    },
    {
     "name": "stderr",
     "output_type": "stream",
     "text": [
      "I0608 23:11:15.485841 140290448865152 basic_session_run_hooks.py:680] global_step/sec: 0.692753\n"
     ]
    },
    {
     "name": "stdout",
     "output_type": "stream",
     "text": [
      "INFO:tensorflow:loss = 2.9802319e-08, step = 5200 (144.354 sec)\n"
     ]
    },
    {
     "name": "stderr",
     "output_type": "stream",
     "text": [
      "I0608 23:11:15.490484 140290448865152 basic_session_run_hooks.py:247] loss = 2.9802319e-08, step = 5200 (144.354 sec)\n"
     ]
    },
    {
     "name": "stdout",
     "output_type": "stream",
     "text": [
      "INFO:tensorflow:global_step/sec: 0.692292\n"
     ]
    },
    {
     "name": "stderr",
     "output_type": "stream",
     "text": [
      "I0608 23:13:39.933614 140290448865152 basic_session_run_hooks.py:680] global_step/sec: 0.692292\n"
     ]
    },
    {
     "name": "stdout",
     "output_type": "stream",
     "text": [
      "INFO:tensorflow:loss = 0.0001669387, step = 5300 (144.449 sec)\n"
     ]
    },
    {
     "name": "stderr",
     "output_type": "stream",
     "text": [
      "I0608 23:13:39.939874 140290448865152 basic_session_run_hooks.py:247] loss = 0.0001669387, step = 5300 (144.449 sec)\n"
     ]
    },
    {
     "name": "stdout",
     "output_type": "stream",
     "text": [
      "INFO:tensorflow:global_step/sec: 0.692539\n"
     ]
    },
    {
     "name": "stderr",
     "output_type": "stream",
     "text": [
      "I0608 23:16:04.329928 140290448865152 basic_session_run_hooks.py:680] global_step/sec: 0.692539\n"
     ]
    },
    {
     "name": "stdout",
     "output_type": "stream",
     "text": [
      "INFO:tensorflow:loss = 2.980232e-08, step = 5400 (144.396 sec)\n"
     ]
    },
    {
     "name": "stderr",
     "output_type": "stream",
     "text": [
      "I0608 23:16:04.336067 140290448865152 basic_session_run_hooks.py:247] loss = 2.980232e-08, step = 5400 (144.396 sec)\n"
     ]
    },
    {
     "name": "stdout",
     "output_type": "stream",
     "text": [
      "INFO:tensorflow:global_step/sec: 0.692263\n"
     ]
    },
    {
     "name": "stderr",
     "output_type": "stream",
     "text": [
      "I0608 23:18:28.783669 140290448865152 basic_session_run_hooks.py:680] global_step/sec: 0.692263\n"
     ]
    },
    {
     "name": "stdout",
     "output_type": "stream",
     "text": [
      "INFO:tensorflow:loss = 0.0001891762, step = 5500 (144.453 sec)\n"
     ]
    },
    {
     "name": "stderr",
     "output_type": "stream",
     "text": [
      "I0608 23:18:28.788650 140290448865152 basic_session_run_hooks.py:247] loss = 0.0001891762, step = 5500 (144.453 sec)\n"
     ]
    },
    {
     "name": "stdout",
     "output_type": "stream",
     "text": [
      "INFO:tensorflow:global_step/sec: 0.692233\n"
     ]
    },
    {
     "name": "stderr",
     "output_type": "stream",
     "text": [
      "I0608 23:20:53.243764 140290448865152 basic_session_run_hooks.py:680] global_step/sec: 0.692233\n"
     ]
    },
    {
     "name": "stdout",
     "output_type": "stream",
     "text": [
      "INFO:tensorflow:loss = 2.4735725e-06, step = 5600 (144.459 sec)\n"
     ]
    },
    {
     "name": "stderr",
     "output_type": "stream",
     "text": [
      "I0608 23:20:53.247653 140290448865152 basic_session_run_hooks.py:247] loss = 2.4735725e-06, step = 5600 (144.459 sec)\n"
     ]
    },
    {
     "name": "stdout",
     "output_type": "stream",
     "text": [
      "INFO:tensorflow:global_step/sec: 0.694032\n"
     ]
    },
    {
     "name": "stderr",
     "output_type": "stream",
     "text": [
      "I0608 23:23:17.329292 140290448865152 basic_session_run_hooks.py:680] global_step/sec: 0.694032\n"
     ]
    },
    {
     "name": "stdout",
     "output_type": "stream",
     "text": [
      "INFO:tensorflow:loss = 0.09064402, step = 5700 (144.085 sec)\n"
     ]
    },
    {
     "name": "stderr",
     "output_type": "stream",
     "text": [
      "I0608 23:23:17.332939 140290448865152 basic_session_run_hooks.py:247] loss = 0.09064402, step = 5700 (144.085 sec)\n"
     ]
    },
    {
     "name": "stdout",
     "output_type": "stream",
     "text": [
      "INFO:tensorflow:global_step/sec: 0.692381\n"
     ]
    },
    {
     "name": "stderr",
     "output_type": "stream",
     "text": [
      "I0608 23:25:41.758468 140290448865152 basic_session_run_hooks.py:680] global_step/sec: 0.692381\n"
     ]
    },
    {
     "name": "stdout",
     "output_type": "stream",
     "text": [
      "INFO:tensorflow:loss = 0.080064714, step = 5800 (144.432 sec)\n"
     ]
    },
    {
     "name": "stderr",
     "output_type": "stream",
     "text": [
      "I0608 23:25:41.764457 140290448865152 basic_session_run_hooks.py:247] loss = 0.080064714, step = 5800 (144.432 sec)\n"
     ]
    },
    {
     "name": "stdout",
     "output_type": "stream",
     "text": [
      "INFO:tensorflow:global_step/sec: 0.692731\n"
     ]
    },
    {
     "name": "stderr",
     "output_type": "stream",
     "text": [
      "I0608 23:28:06.114555 140290448865152 basic_session_run_hooks.py:680] global_step/sec: 0.692731\n"
     ]
    },
    {
     "name": "stdout",
     "output_type": "stream",
     "text": [
      "INFO:tensorflow:loss = 4.3213316e-07, step = 5900 (144.353 sec)\n"
     ]
    },
    {
     "name": "stderr",
     "output_type": "stream",
     "text": [
      "I0608 23:28:06.117923 140290448865152 basic_session_run_hooks.py:247] loss = 4.3213316e-07, step = 5900 (144.353 sec)\n"
     ]
    },
    {
     "name": "stdout",
     "output_type": "stream",
     "text": [
      "INFO:tensorflow:Saving checkpoints for 6000 into ./output_D/model.ckpt.\n"
     ]
    },
    {
     "name": "stderr",
     "output_type": "stream",
     "text": [
      "I0608 23:30:28.835038 140290448865152 basic_session_run_hooks.py:594] Saving checkpoints for 6000 into ./output_D/model.ckpt.\n"
     ]
    },
    {
     "name": "stdout",
     "output_type": "stream",
     "text": [
      "INFO:tensorflow:global_step/sec: 0.649003\n"
     ]
    },
    {
     "name": "stderr",
     "output_type": "stream",
     "text": [
      "I0608 23:30:40.197098 140290448865152 basic_session_run_hooks.py:680] global_step/sec: 0.649003\n"
     ]
    },
    {
     "name": "stdout",
     "output_type": "stream",
     "text": [
      "INFO:tensorflow:loss = 0.0031373713, step = 6000 (154.082 sec)\n"
     ]
    },
    {
     "name": "stderr",
     "output_type": "stream",
     "text": [
      "I0608 23:30:40.199805 140290448865152 basic_session_run_hooks.py:247] loss = 0.0031373713, step = 6000 (154.082 sec)\n"
     ]
    },
    {
     "name": "stdout",
     "output_type": "stream",
     "text": [
      "INFO:tensorflow:global_step/sec: 0.690459\n"
     ]
    },
    {
     "name": "stderr",
     "output_type": "stream",
     "text": [
      "I0608 23:33:05.028258 140290448865152 basic_session_run_hooks.py:680] global_step/sec: 0.690459\n"
     ]
    },
    {
     "name": "stdout",
     "output_type": "stream",
     "text": [
      "INFO:tensorflow:loss = 5.7296733e-05, step = 6100 (144.836 sec)\n"
     ]
    },
    {
     "name": "stderr",
     "output_type": "stream",
     "text": [
      "I0608 23:33:05.035959 140290448865152 basic_session_run_hooks.py:247] loss = 5.7296733e-05, step = 6100 (144.836 sec)\n"
     ]
    },
    {
     "name": "stdout",
     "output_type": "stream",
     "text": [
      "INFO:tensorflow:global_step/sec: 0.695058\n"
     ]
    },
    {
     "name": "stderr",
     "output_type": "stream",
     "text": [
      "I0608 23:35:28.901096 140290448865152 basic_session_run_hooks.py:680] global_step/sec: 0.695058\n"
     ]
    },
    {
     "name": "stdout",
     "output_type": "stream",
     "text": [
      "INFO:tensorflow:loss = 7.1654154e-05, step = 6200 (143.868 sec)\n"
     ]
    },
    {
     "name": "stderr",
     "output_type": "stream",
     "text": [
      "I0608 23:35:28.903556 140290448865152 basic_session_run_hooks.py:247] loss = 7.1654154e-05, step = 6200 (143.868 sec)\n"
     ]
    },
    {
     "name": "stdout",
     "output_type": "stream",
     "text": [
      "INFO:tensorflow:global_step/sec: 0.693529\n"
     ]
    },
    {
     "name": "stderr",
     "output_type": "stream",
     "text": [
      "I0608 23:37:53.091148 140290448865152 basic_session_run_hooks.py:680] global_step/sec: 0.693529\n"
     ]
    },
    {
     "name": "stdout",
     "output_type": "stream",
     "text": [
      "INFO:tensorflow:loss = 0.0036100089, step = 6300 (144.196 sec)\n"
     ]
    },
    {
     "name": "stderr",
     "output_type": "stream",
     "text": [
      "I0608 23:37:53.099722 140290448865152 basic_session_run_hooks.py:247] loss = 0.0036100089, step = 6300 (144.196 sec)\n"
     ]
    },
    {
     "name": "stdout",
     "output_type": "stream",
     "text": [
      "INFO:tensorflow:global_step/sec: 0.692391\n"
     ]
    },
    {
     "name": "stderr",
     "output_type": "stream",
     "text": [
      "I0608 23:40:17.518299 140290448865152 basic_session_run_hooks.py:680] global_step/sec: 0.692391\n"
     ]
    },
    {
     "name": "stdout",
     "output_type": "stream",
     "text": [
      "INFO:tensorflow:loss = 1.6136952e-05, step = 6400 (144.425 sec)\n"
     ]
    },
    {
     "name": "stderr",
     "output_type": "stream",
     "text": [
      "I0608 23:40:17.524446 140290448865152 basic_session_run_hooks.py:247] loss = 1.6136952e-05, step = 6400 (144.425 sec)\n"
     ]
    },
    {
     "name": "stdout",
     "output_type": "stream",
     "text": [
      "INFO:tensorflow:global_step/sec: 0.691972\n"
     ]
    },
    {
     "name": "stderr",
     "output_type": "stream",
     "text": [
      "I0608 23:42:42.032812 140290448865152 basic_session_run_hooks.py:680] global_step/sec: 0.691972\n"
     ]
    },
    {
     "name": "stdout",
     "output_type": "stream",
     "text": [
      "INFO:tensorflow:loss = 1.490116e-08, step = 6500 (144.513 sec)\n"
     ]
    },
    {
     "name": "stderr",
     "output_type": "stream",
     "text": [
      "I0608 23:42:42.037184 140290448865152 basic_session_run_hooks.py:247] loss = 1.490116e-08, step = 6500 (144.513 sec)\n"
     ]
    },
    {
     "name": "stdout",
     "output_type": "stream",
     "text": [
      "INFO:tensorflow:global_step/sec: 0.693543\n"
     ]
    },
    {
     "name": "stderr",
     "output_type": "stream",
     "text": [
      "I0608 23:45:06.219899 140290448865152 basic_session_run_hooks.py:680] global_step/sec: 0.693543\n"
     ]
    },
    {
     "name": "stdout",
     "output_type": "stream",
     "text": [
      "INFO:tensorflow:loss = 1.4752092e-06, step = 6600 (144.190 sec)\n"
     ]
    },
    {
     "name": "stderr",
     "output_type": "stream",
     "text": [
      "I0608 23:45:06.227213 140290448865152 basic_session_run_hooks.py:247] loss = 1.4752092e-06, step = 6600 (144.190 sec)\n"
     ]
    },
    {
     "name": "stdout",
     "output_type": "stream",
     "text": [
      "INFO:tensorflow:global_step/sec: 0.692567\n"
     ]
    },
    {
     "name": "stderr",
     "output_type": "stream",
     "text": [
      "I0608 23:47:30.610278 140290448865152 basic_session_run_hooks.py:680] global_step/sec: 0.692567\n"
     ]
    },
    {
     "name": "stdout",
     "output_type": "stream",
     "text": [
      "INFO:tensorflow:loss = 1.490116e-08, step = 6700 (144.389 sec)\n"
     ]
    },
    {
     "name": "stderr",
     "output_type": "stream",
     "text": [
      "I0608 23:47:30.616722 140290448865152 basic_session_run_hooks.py:247] loss = 1.490116e-08, step = 6700 (144.389 sec)\n"
     ]
    },
    {
     "name": "stdout",
     "output_type": "stream",
     "text": [
      "INFO:tensorflow:global_step/sec: 0.693458\n"
     ]
    },
    {
     "name": "stderr",
     "output_type": "stream",
     "text": [
      "I0608 23:49:54.815039 140290448865152 basic_session_run_hooks.py:680] global_step/sec: 0.693458\n"
     ]
    },
    {
     "name": "stdout",
     "output_type": "stream",
     "text": [
      "INFO:tensorflow:loss = 0.00014698945, step = 6800 (144.203 sec)\n"
     ]
    },
    {
     "name": "stderr",
     "output_type": "stream",
     "text": [
      "I0608 23:49:54.819445 140290448865152 basic_session_run_hooks.py:247] loss = 0.00014698945, step = 6800 (144.203 sec)\n"
     ]
    },
    {
     "name": "stdout",
     "output_type": "stream",
     "text": [
      "INFO:tensorflow:global_step/sec: 0.692648\n"
     ]
    },
    {
     "name": "stderr",
     "output_type": "stream",
     "text": [
      "I0608 23:52:19.188551 140290448865152 basic_session_run_hooks.py:680] global_step/sec: 0.692648\n"
     ]
    },
    {
     "name": "stdout",
     "output_type": "stream",
     "text": [
      "INFO:tensorflow:loss = 1.3410993e-06, step = 6900 (144.374 sec)\n"
     ]
    },
    {
     "name": "stderr",
     "output_type": "stream",
     "text": [
      "I0608 23:52:19.193374 140290448865152 basic_session_run_hooks.py:247] loss = 1.3410993e-06, step = 6900 (144.374 sec)\n"
     ]
    },
    {
     "name": "stdout",
     "output_type": "stream",
     "text": [
      "INFO:tensorflow:Saving checkpoints for 7000 into ./output_D/model.ckpt.\n"
     ]
    },
    {
     "name": "stderr",
     "output_type": "stream",
     "text": [
      "I0608 23:54:42.305584 140290448865152 basic_session_run_hooks.py:594] Saving checkpoints for 7000 into ./output_D/model.ckpt.\n"
     ]
    },
    {
     "name": "stdout",
     "output_type": "stream",
     "text": [
      "INFO:tensorflow:global_step/sec: 0.646791\n"
     ]
    },
    {
     "name": "stderr",
     "output_type": "stream",
     "text": [
      "I0608 23:54:53.798099 140290448865152 basic_session_run_hooks.py:680] global_step/sec: 0.646791\n"
     ]
    },
    {
     "name": "stdout",
     "output_type": "stream",
     "text": [
      "INFO:tensorflow:loss = 6.395493e-05, step = 7000 (154.608 sec)\n"
     ]
    },
    {
     "name": "stderr",
     "output_type": "stream",
     "text": [
      "I0608 23:54:53.800880 140290448865152 basic_session_run_hooks.py:247] loss = 6.395493e-05, step = 7000 (154.608 sec)\n"
     ]
    },
    {
     "name": "stdout",
     "output_type": "stream",
     "text": [
      "INFO:tensorflow:global_step/sec: 0.691579\n"
     ]
    },
    {
     "name": "stderr",
     "output_type": "stream",
     "text": [
      "I0608 23:57:18.394869 140290448865152 basic_session_run_hooks.py:680] global_step/sec: 0.691579\n"
     ]
    },
    {
     "name": "stdout",
     "output_type": "stream",
     "text": [
      "INFO:tensorflow:loss = 6.303041e-06, step = 7100 (144.602 sec)\n"
     ]
    },
    {
     "name": "stderr",
     "output_type": "stream",
     "text": [
      "I0608 23:57:18.402430 140290448865152 basic_session_run_hooks.py:247] loss = 6.303041e-06, step = 7100 (144.602 sec)\n"
     ]
    },
    {
     "name": "stdout",
     "output_type": "stream",
     "text": [
      "INFO:tensorflow:global_step/sec: 0.692783\n"
     ]
    },
    {
     "name": "stderr",
     "output_type": "stream",
     "text": [
      "I0608 23:59:42.740221 140290448865152 basic_session_run_hooks.py:680] global_step/sec: 0.692783\n"
     ]
    },
    {
     "name": "stdout",
     "output_type": "stream",
     "text": [
      "INFO:tensorflow:loss = 1.311299e-06, step = 7200 (144.342 sec)\n"
     ]
    },
    {
     "name": "stderr",
     "output_type": "stream",
     "text": [
      "I0608 23:59:42.744273 140290448865152 basic_session_run_hooks.py:247] loss = 1.311299e-06, step = 7200 (144.342 sec)\n"
     ]
    },
    {
     "name": "stdout",
     "output_type": "stream",
     "text": [
      "INFO:tensorflow:global_step/sec: 0.693922\n"
     ]
    },
    {
     "name": "stderr",
     "output_type": "stream",
     "text": [
      "I0609 00:02:06.848617 140290448865152 basic_session_run_hooks.py:680] global_step/sec: 0.693922\n"
     ]
    },
    {
     "name": "stdout",
     "output_type": "stream",
     "text": [
      "INFO:tensorflow:loss = 1.490116e-08, step = 7300 (144.112 sec)\n"
     ]
    },
    {
     "name": "stderr",
     "output_type": "stream",
     "text": [
      "I0609 00:02:06.856618 140290448865152 basic_session_run_hooks.py:247] loss = 1.490116e-08, step = 7300 (144.112 sec)\n"
     ]
    },
    {
     "name": "stdout",
     "output_type": "stream",
     "text": [
      "INFO:tensorflow:global_step/sec: 0.692203\n"
     ]
    },
    {
     "name": "stderr",
     "output_type": "stream",
     "text": [
      "I0609 00:04:31.314892 140290448865152 basic_session_run_hooks.py:680] global_step/sec: 0.692203\n"
     ]
    },
    {
     "name": "stdout",
     "output_type": "stream",
     "text": [
      "INFO:tensorflow:loss = 4.698965e-05, step = 7400 (144.461 sec)\n"
     ]
    },
    {
     "name": "stderr",
     "output_type": "stream",
     "text": [
      "I0609 00:04:31.317503 140290448865152 basic_session_run_hooks.py:247] loss = 4.698965e-05, step = 7400 (144.461 sec)\n"
     ]
    },
    {
     "name": "stdout",
     "output_type": "stream",
     "text": [
      "INFO:tensorflow:global_step/sec: 0.692943\n"
     ]
    },
    {
     "name": "stderr",
     "output_type": "stream",
     "text": [
      "I0609 00:06:55.626883 140290448865152 basic_session_run_hooks.py:680] global_step/sec: 0.692943\n"
     ]
    },
    {
     "name": "stdout",
     "output_type": "stream",
     "text": [
      "INFO:tensorflow:loss = 1.0787975e-05, step = 7500 (144.315 sec)\n"
     ]
    },
    {
     "name": "stderr",
     "output_type": "stream",
     "text": [
      "I0609 00:06:55.633044 140290448865152 basic_session_run_hooks.py:247] loss = 1.0787975e-05, step = 7500 (144.315 sec)\n"
     ]
    },
    {
     "name": "stdout",
     "output_type": "stream",
     "text": [
      "INFO:tensorflow:global_step/sec: 0.693917\n"
     ]
    },
    {
     "name": "stderr",
     "output_type": "stream",
     "text": [
      "I0609 00:09:19.736302 140290448865152 basic_session_run_hooks.py:680] global_step/sec: 0.693917\n"
     ]
    },
    {
     "name": "stdout",
     "output_type": "stream",
     "text": [
      "INFO:tensorflow:loss = 5.1338862e-05, step = 7600 (144.106 sec)\n"
     ]
    },
    {
     "name": "stderr",
     "output_type": "stream",
     "text": [
      "I0609 00:09:19.738860 140290448865152 basic_session_run_hooks.py:247] loss = 5.1338862e-05, step = 7600 (144.106 sec)\n"
     ]
    },
    {
     "name": "stdout",
     "output_type": "stream",
     "text": [
      "INFO:tensorflow:global_step/sec: 0.693187\n"
     ]
    },
    {
     "name": "stderr",
     "output_type": "stream",
     "text": [
      "I0609 00:11:43.997572 140290448865152 basic_session_run_hooks.py:680] global_step/sec: 0.693187\n"
     ]
    },
    {
     "name": "stdout",
     "output_type": "stream",
     "text": [
      "INFO:tensorflow:loss = 0.0044354605, step = 7700 (144.267 sec)\n"
     ]
    },
    {
     "name": "stderr",
     "output_type": "stream",
     "text": [
      "I0609 00:11:44.005762 140290448865152 basic_session_run_hooks.py:247] loss = 0.0044354605, step = 7700 (144.267 sec)\n"
     ]
    },
    {
     "name": "stdout",
     "output_type": "stream",
     "text": [
      "INFO:tensorflow:global_step/sec: 0.694063\n"
     ]
    },
    {
     "name": "stderr",
     "output_type": "stream",
     "text": [
      "I0609 00:14:08.076705 140290448865152 basic_session_run_hooks.py:680] global_step/sec: 0.694063\n"
     ]
    },
    {
     "name": "stdout",
     "output_type": "stream",
     "text": [
      "INFO:tensorflow:loss = 1.1026837e-06, step = 7800 (144.078 sec)\n"
     ]
    },
    {
     "name": "stderr",
     "output_type": "stream",
     "text": [
      "I0609 00:14:08.083379 140290448865152 basic_session_run_hooks.py:247] loss = 1.1026837e-06, step = 7800 (144.078 sec)\n"
     ]
    },
    {
     "name": "stdout",
     "output_type": "stream",
     "text": [
      "INFO:tensorflow:global_step/sec: 0.694094\n"
     ]
    },
    {
     "name": "stderr",
     "output_type": "stream",
     "text": [
      "I0609 00:16:32.149466 140290448865152 basic_session_run_hooks.py:680] global_step/sec: 0.694094\n"
     ]
    },
    {
     "name": "stdout",
     "output_type": "stream",
     "text": [
      "INFO:tensorflow:loss = 7.718563e-06, step = 7900 (144.072 sec)\n"
     ]
    },
    {
     "name": "stderr",
     "output_type": "stream",
     "text": [
      "I0609 00:16:32.155705 140290448865152 basic_session_run_hooks.py:247] loss = 7.718563e-06, step = 7900 (144.072 sec)\n"
     ]
    },
    {
     "name": "stdout",
     "output_type": "stream",
     "text": [
      "INFO:tensorflow:Saving checkpoints for 8000 into ./output_D/model.ckpt.\n"
     ]
    },
    {
     "name": "stderr",
     "output_type": "stream",
     "text": [
      "I0609 00:18:54.613606 140290448865152 basic_session_run_hooks.py:594] Saving checkpoints for 8000 into ./output_D/model.ckpt.\n"
     ]
    },
    {
     "name": "stdout",
     "output_type": "stream",
     "text": [
      "INFO:tensorflow:global_step/sec: 0.649776\n"
     ]
    },
    {
     "name": "stderr",
     "output_type": "stream",
     "text": [
      "I0609 00:19:06.048691 140290448865152 basic_session_run_hooks.py:680] global_step/sec: 0.649776\n"
     ]
    },
    {
     "name": "stdout",
     "output_type": "stream",
     "text": [
      "INFO:tensorflow:loss = -0.0, step = 8000 (153.896 sec)\n"
     ]
    },
    {
     "name": "stderr",
     "output_type": "stream",
     "text": [
      "I0609 00:19:06.051537 140290448865152 basic_session_run_hooks.py:247] loss = -0.0, step = 8000 (153.896 sec)\n"
     ]
    },
    {
     "name": "stdout",
     "output_type": "stream",
     "text": [
      "INFO:tensorflow:global_step/sec: 0.692072\n"
     ]
    },
    {
     "name": "stderr",
     "output_type": "stream",
     "text": [
      "I0609 00:21:30.542320 140290448865152 basic_session_run_hooks.py:680] global_step/sec: 0.692072\n"
     ]
    },
    {
     "name": "stdout",
     "output_type": "stream",
     "text": [
      "INFO:tensorflow:loss = 0.0006230398, step = 8100 (144.498 sec)\n"
     ]
    },
    {
     "name": "stderr",
     "output_type": "stream",
     "text": [
      "I0609 00:21:30.549821 140290448865152 basic_session_run_hooks.py:247] loss = 0.0006230398, step = 8100 (144.498 sec)\n"
     ]
    },
    {
     "name": "stdout",
     "output_type": "stream",
     "text": [
      "INFO:tensorflow:global_step/sec: 0.694049\n"
     ]
    },
    {
     "name": "stderr",
     "output_type": "stream",
     "text": [
      "I0609 00:23:54.624436 140290448865152 basic_session_run_hooks.py:680] global_step/sec: 0.694049\n"
     ]
    },
    {
     "name": "stdout",
     "output_type": "stream",
     "text": [
      "INFO:tensorflow:loss = -0.0, step = 8200 (144.079 sec)\n"
     ]
    },
    {
     "name": "stderr",
     "output_type": "stream",
     "text": [
      "I0609 00:23:54.629252 140290448865152 basic_session_run_hooks.py:247] loss = -0.0, step = 8200 (144.079 sec)\n"
     ]
    },
    {
     "name": "stdout",
     "output_type": "stream",
     "text": [
      "INFO:tensorflow:global_step/sec: 0.692203\n"
     ]
    },
    {
     "name": "stderr",
     "output_type": "stream",
     "text": [
      "I0609 00:26:19.090802 140290448865152 basic_session_run_hooks.py:680] global_step/sec: 0.692203\n"
     ]
    },
    {
     "name": "stdout",
     "output_type": "stream",
     "text": [
      "INFO:tensorflow:loss = 6.7055146e-07, step = 8300 (144.466 sec)\n"
     ]
    },
    {
     "name": "stderr",
     "output_type": "stream",
     "text": [
      "I0609 00:26:19.095504 140290448865152 basic_session_run_hooks.py:247] loss = 6.7055146e-07, step = 8300 (144.466 sec)\n"
     ]
    },
    {
     "name": "stdout",
     "output_type": "stream",
     "text": [
      "INFO:tensorflow:global_step/sec: 0.693796\n"
     ]
    },
    {
     "name": "stderr",
     "output_type": "stream",
     "text": [
      "I0609 00:28:43.225375 140290448865152 basic_session_run_hooks.py:680] global_step/sec: 0.693796\n"
     ]
    },
    {
     "name": "stdout",
     "output_type": "stream",
     "text": [
      "INFO:tensorflow:loss = 2.0861609e-07, step = 8400 (144.137 sec)\n"
     ]
    },
    {
     "name": "stderr",
     "output_type": "stream",
     "text": [
      "I0609 00:28:43.232222 140290448865152 basic_session_run_hooks.py:247] loss = 2.0861609e-07, step = 8400 (144.137 sec)\n"
     ]
    },
    {
     "name": "stdout",
     "output_type": "stream",
     "text": [
      "INFO:tensorflow:global_step/sec: 0.694553\n"
     ]
    },
    {
     "name": "stderr",
     "output_type": "stream",
     "text": [
      "I0609 00:31:07.202926 140290448865152 basic_session_run_hooks.py:680] global_step/sec: 0.694553\n"
     ]
    },
    {
     "name": "stdout",
     "output_type": "stream",
     "text": [
      "INFO:tensorflow:loss = -0.0, step = 8500 (143.974 sec)\n"
     ]
    },
    {
     "name": "stderr",
     "output_type": "stream",
     "text": [
      "I0609 00:31:07.206395 140290448865152 basic_session_run_hooks.py:247] loss = -0.0, step = 8500 (143.974 sec)\n"
     ]
    },
    {
     "name": "stdout",
     "output_type": "stream",
     "text": [
      "INFO:tensorflow:global_step/sec: 0.693259\n"
     ]
    },
    {
     "name": "stderr",
     "output_type": "stream",
     "text": [
      "I0609 00:33:31.449030 140290448865152 basic_session_run_hooks.py:680] global_step/sec: 0.693259\n"
     ]
    },
    {
     "name": "stdout",
     "output_type": "stream",
     "text": [
      "INFO:tensorflow:loss = 0.000493329, step = 8600 (144.245 sec)\n"
     ]
    },
    {
     "name": "stderr",
     "output_type": "stream",
     "text": [
      "I0609 00:33:31.451606 140290448865152 basic_session_run_hooks.py:247] loss = 0.000493329, step = 8600 (144.245 sec)\n"
     ]
    },
    {
     "name": "stdout",
     "output_type": "stream",
     "text": [
      "INFO:tensorflow:global_step/sec: 0.693932\n"
     ]
    },
    {
     "name": "stderr",
     "output_type": "stream",
     "text": [
      "I0609 00:35:55.555403 140290448865152 basic_session_run_hooks.py:680] global_step/sec: 0.693932\n"
     ]
    },
    {
     "name": "stdout",
     "output_type": "stream",
     "text": [
      "INFO:tensorflow:loss = 0.02726353, step = 8700 (144.110 sec)\n"
     ]
    },
    {
     "name": "stderr",
     "output_type": "stream",
     "text": [
      "I0609 00:35:55.561644 140290448865152 basic_session_run_hooks.py:247] loss = 0.02726353, step = 8700 (144.110 sec)\n"
     ]
    },
    {
     "name": "stdout",
     "output_type": "stream",
     "text": [
      "INFO:tensorflow:global_step/sec: 0.693552\n"
     ]
    },
    {
     "name": "stderr",
     "output_type": "stream",
     "text": [
      "I0609 00:38:19.740751 140290448865152 basic_session_run_hooks.py:680] global_step/sec: 0.693552\n"
     ]
    },
    {
     "name": "stdout",
     "output_type": "stream",
     "text": [
      "INFO:tensorflow:loss = 1.490116e-08, step = 8800 (144.186 sec)\n"
     ]
    },
    {
     "name": "stderr",
     "output_type": "stream",
     "text": [
      "I0609 00:38:19.747884 140290448865152 basic_session_run_hooks.py:247] loss = 1.490116e-08, step = 8800 (144.186 sec)\n"
     ]
    },
    {
     "name": "stdout",
     "output_type": "stream",
     "text": [
      "INFO:tensorflow:global_step/sec: 0.69501\n"
     ]
    },
    {
     "name": "stderr",
     "output_type": "stream",
     "text": [
      "I0609 00:40:43.623491 140290448865152 basic_session_run_hooks.py:680] global_step/sec: 0.69501\n"
     ]
    },
    {
     "name": "stdout",
     "output_type": "stream",
     "text": [
      "INFO:tensorflow:loss = 6.8245454e-06, step = 8900 (143.881 sec)\n"
     ]
    },
    {
     "name": "stderr",
     "output_type": "stream",
     "text": [
      "I0609 00:40:43.628901 140290448865152 basic_session_run_hooks.py:247] loss = 6.8245454e-06, step = 8900 (143.881 sec)\n"
     ]
    },
    {
     "name": "stdout",
     "output_type": "stream",
     "text": [
      "INFO:tensorflow:Saving checkpoints for 9000 into ./output_D/model.ckpt.\n"
     ]
    },
    {
     "name": "stderr",
     "output_type": "stream",
     "text": [
      "I0609 00:43:06.483997 140290448865152 basic_session_run_hooks.py:594] Saving checkpoints for 9000 into ./output_D/model.ckpt.\n"
     ]
    },
    {
     "name": "stdout",
     "output_type": "stream",
     "text": [
      "INFO:tensorflow:global_step/sec: 0.645703\n"
     ]
    },
    {
     "name": "stderr",
     "output_type": "stream",
     "text": [
      "I0609 00:43:18.493570 140290448865152 basic_session_run_hooks.py:680] global_step/sec: 0.645703\n"
     ]
    },
    {
     "name": "stdout",
     "output_type": "stream",
     "text": [
      "INFO:tensorflow:loss = 0.00019385871, step = 9000 (154.883 sec)\n"
     ]
    },
    {
     "name": "stderr",
     "output_type": "stream",
     "text": [
      "I0609 00:43:18.511911 140290448865152 basic_session_run_hooks.py:247] loss = 0.00019385871, step = 9000 (154.883 sec)\n"
     ]
    },
    {
     "name": "stdout",
     "output_type": "stream",
     "text": [
      "INFO:tensorflow:global_step/sec: 0.692091\n"
     ]
    },
    {
     "name": "stderr",
     "output_type": "stream",
     "text": [
      "I0609 00:45:42.983368 140290448865152 basic_session_run_hooks.py:680] global_step/sec: 0.692091\n"
     ]
    },
    {
     "name": "stdout",
     "output_type": "stream",
     "text": [
      "INFO:tensorflow:loss = 6.0348593e-06, step = 9100 (144.476 sec)\n"
     ]
    },
    {
     "name": "stderr",
     "output_type": "stream",
     "text": [
      "I0609 00:45:42.987447 140290448865152 basic_session_run_hooks.py:247] loss = 6.0348593e-06, step = 9100 (144.476 sec)\n"
     ]
    },
    {
     "name": "stdout",
     "output_type": "stream",
     "text": [
      "INFO:tensorflow:global_step/sec: 0.694837\n"
     ]
    },
    {
     "name": "stderr",
     "output_type": "stream",
     "text": [
      "I0609 00:48:06.902020 140290448865152 basic_session_run_hooks.py:680] global_step/sec: 0.694837\n"
     ]
    },
    {
     "name": "stdout",
     "output_type": "stream",
     "text": [
      "INFO:tensorflow:loss = 0.03392693, step = 9200 (143.917 sec)\n"
     ]
    },
    {
     "name": "stderr",
     "output_type": "stream",
     "text": [
      "I0609 00:48:06.904563 140290448865152 basic_session_run_hooks.py:247] loss = 0.03392693, step = 9200 (143.917 sec)\n"
     ]
    },
    {
     "name": "stdout",
     "output_type": "stream",
     "text": [
      "INFO:tensorflow:global_step/sec: 0.693691\n"
     ]
    },
    {
     "name": "stderr",
     "output_type": "stream",
     "text": [
      "I0609 00:50:31.058411 140290448865152 basic_session_run_hooks.py:680] global_step/sec: 0.693691\n"
     ]
    },
    {
     "name": "stdout",
     "output_type": "stream",
     "text": [
      "INFO:tensorflow:loss = 4.02325e-06, step = 9300 (144.156 sec)\n"
     ]
    },
    {
     "name": "stderr",
     "output_type": "stream",
     "text": [
      "I0609 00:50:31.061063 140290448865152 basic_session_run_hooks.py:247] loss = 4.02325e-06, step = 9300 (144.156 sec)\n"
     ]
    },
    {
     "name": "stdout",
     "output_type": "stream",
     "text": [
      "INFO:tensorflow:global_step/sec: 0.693218\n"
     ]
    },
    {
     "name": "stderr",
     "output_type": "stream",
     "text": [
      "I0609 00:52:55.313187 140290448865152 basic_session_run_hooks.py:680] global_step/sec: 0.693218\n"
     ]
    },
    {
     "name": "stdout",
     "output_type": "stream",
     "text": [
      "INFO:tensorflow:loss = -0.0, step = 9400 (144.258 sec)\n"
     ]
    },
    {
     "name": "stderr",
     "output_type": "stream",
     "text": [
      "I0609 00:52:55.319020 140290448865152 basic_session_run_hooks.py:247] loss = -0.0, step = 9400 (144.258 sec)\n"
     ]
    },
    {
     "name": "stdout",
     "output_type": "stream",
     "text": [
      "INFO:tensorflow:global_step/sec: 0.693438\n"
     ]
    },
    {
     "name": "stderr",
     "output_type": "stream",
     "text": [
      "I0609 00:55:19.522191 140290448865152 basic_session_run_hooks.py:680] global_step/sec: 0.693438\n"
     ]
    },
    {
     "name": "stdout",
     "output_type": "stream",
     "text": [
      "INFO:tensorflow:loss = 1.993618e-05, step = 9500 (144.208 sec)\n"
     ]
    },
    {
     "name": "stderr",
     "output_type": "stream",
     "text": [
      "I0609 00:55:19.527142 140290448865152 basic_session_run_hooks.py:247] loss = 1.993618e-05, step = 9500 (144.208 sec)\n"
     ]
    },
    {
     "name": "stdout",
     "output_type": "stream",
     "text": [
      "INFO:tensorflow:global_step/sec: 0.695045\n"
     ]
    },
    {
     "name": "stderr",
     "output_type": "stream",
     "text": [
      "I0609 00:57:43.397707 140290448865152 basic_session_run_hooks.py:680] global_step/sec: 0.695045\n"
     ]
    },
    {
     "name": "stdout",
     "output_type": "stream",
     "text": [
      "INFO:tensorflow:loss = 8.940694e-08, step = 9600 (143.873 sec)\n"
     ]
    },
    {
     "name": "stderr",
     "output_type": "stream",
     "text": [
      "I0609 00:57:43.400504 140290448865152 basic_session_run_hooks.py:247] loss = 8.940694e-08, step = 9600 (143.873 sec)\n"
     ]
    },
    {
     "name": "stdout",
     "output_type": "stream",
     "text": [
      "INFO:tensorflow:global_step/sec: 0.69384\n"
     ]
    },
    {
     "name": "stderr",
     "output_type": "stream",
     "text": [
      "I0609 01:00:07.523214 140290448865152 basic_session_run_hooks.py:680] global_step/sec: 0.69384\n"
     ]
    },
    {
     "name": "stdout",
     "output_type": "stream",
     "text": [
      "INFO:tensorflow:loss = 7.986767e-06, step = 9700 (144.126 sec)\n"
     ]
    },
    {
     "name": "stderr",
     "output_type": "stream",
     "text": [
      "I0609 01:00:07.526077 140290448865152 basic_session_run_hooks.py:247] loss = 7.986767e-06, step = 9700 (144.126 sec)\n"
     ]
    },
    {
     "name": "stdout",
     "output_type": "stream",
     "text": [
      "INFO:tensorflow:global_step/sec: 0.693567\n"
     ]
    },
    {
     "name": "stderr",
     "output_type": "stream",
     "text": [
      "I0609 01:02:31.705314 140290448865152 basic_session_run_hooks.py:680] global_step/sec: 0.693567\n"
     ]
    },
    {
     "name": "stdout",
     "output_type": "stream",
     "text": [
      "INFO:tensorflow:loss = 4.2788837e-05, step = 9800 (144.183 sec)\n"
     ]
    },
    {
     "name": "stderr",
     "output_type": "stream",
     "text": [
      "I0609 01:02:31.709333 140290448865152 basic_session_run_hooks.py:247] loss = 4.2788837e-05, step = 9800 (144.183 sec)\n"
     ]
    },
    {
     "name": "stdout",
     "output_type": "stream",
     "text": [
      "INFO:tensorflow:global_step/sec: 0.694184\n"
     ]
    },
    {
     "name": "stderr",
     "output_type": "stream",
     "text": [
      "I0609 01:04:55.759291 140290448865152 basic_session_run_hooks.py:680] global_step/sec: 0.694184\n"
     ]
    },
    {
     "name": "stdout",
     "output_type": "stream",
     "text": [
      "INFO:tensorflow:loss = -0.0, step = 9900 (144.055 sec)\n"
     ]
    },
    {
     "name": "stderr",
     "output_type": "stream",
     "text": [
      "I0609 01:04:55.764762 140290448865152 basic_session_run_hooks.py:247] loss = -0.0, step = 9900 (144.055 sec)\n"
     ]
    },
    {
     "name": "stdout",
     "output_type": "stream",
     "text": [
      "INFO:tensorflow:Saving checkpoints for 10000 into ./output_D/model.ckpt.\n"
     ]
    },
    {
     "name": "stderr",
     "output_type": "stream",
     "text": [
      "I0609 01:07:18.385581 140290448865152 basic_session_run_hooks.py:594] Saving checkpoints for 10000 into ./output_D/model.ckpt.\n"
     ]
    },
    {
     "name": "stdout",
     "output_type": "stream",
     "text": [
      "INFO:tensorflow:global_step/sec: 0.64898\n"
     ]
    },
    {
     "name": "stderr",
     "output_type": "stream",
     "text": [
      "I0609 01:07:29.847174 140290448865152 basic_session_run_hooks.py:680] global_step/sec: 0.64898\n"
     ]
    },
    {
     "name": "stdout",
     "output_type": "stream",
     "text": [
      "INFO:tensorflow:loss = 2.6685602e-05, step = 10000 (154.085 sec)\n"
     ]
    },
    {
     "name": "stderr",
     "output_type": "stream",
     "text": [
      "I0609 01:07:29.849918 140290448865152 basic_session_run_hooks.py:247] loss = 2.6685602e-05, step = 10000 (154.085 sec)\n"
     ]
    },
    {
     "name": "stdout",
     "output_type": "stream",
     "text": [
      "INFO:tensorflow:global_step/sec: 0.69225\n"
     ]
    },
    {
     "name": "stderr",
     "output_type": "stream",
     "text": [
      "I0609 01:09:54.303601 140290448865152 basic_session_run_hooks.py:680] global_step/sec: 0.69225\n"
     ]
    },
    {
     "name": "stdout",
     "output_type": "stream",
     "text": [
      "INFO:tensorflow:loss = 2.0563434e-06, step = 10100 (144.462 sec)\n"
     ]
    },
    {
     "name": "stderr",
     "output_type": "stream",
     "text": [
      "I0609 01:09:54.312407 140290448865152 basic_session_run_hooks.py:247] loss = 2.0563434e-06, step = 10100 (144.462 sec)\n"
     ]
    },
    {
     "name": "stdout",
     "output_type": "stream",
     "text": [
      "INFO:tensorflow:global_step/sec: 0.693288\n"
     ]
    },
    {
     "name": "stderr",
     "output_type": "stream",
     "text": [
      "I0609 01:12:18.543904 140290448865152 basic_session_run_hooks.py:680] global_step/sec: 0.693288\n"
     ]
    },
    {
     "name": "stdout",
     "output_type": "stream",
     "text": [
      "INFO:tensorflow:loss = 5.096096e-06, step = 10200 (144.234 sec)\n"
     ]
    },
    {
     "name": "stderr",
     "output_type": "stream",
     "text": [
      "I0609 01:12:18.546622 140290448865152 basic_session_run_hooks.py:247] loss = 5.096096e-06, step = 10200 (144.234 sec)\n"
     ]
    },
    {
     "name": "stdout",
     "output_type": "stream",
     "text": [
      "INFO:tensorflow:global_step/sec: 0.693772\n"
     ]
    },
    {
     "name": "stderr",
     "output_type": "stream",
     "text": [
      "I0609 01:14:42.683497 140290448865152 basic_session_run_hooks.py:680] global_step/sec: 0.693772\n"
     ]
    },
    {
     "name": "stdout",
     "output_type": "stream",
     "text": [
      "INFO:tensorflow:loss = 1.3411038e-07, step = 10300 (144.142 sec)\n"
     ]
    },
    {
     "name": "stderr",
     "output_type": "stream",
     "text": [
      "I0609 01:14:42.688440 140290448865152 basic_session_run_hooks.py:247] loss = 1.3411038e-07, step = 10300 (144.142 sec)\n"
     ]
    },
    {
     "name": "stdout",
     "output_type": "stream",
     "text": [
      "INFO:tensorflow:global_step/sec: 0.693069\n"
     ]
    },
    {
     "name": "stderr",
     "output_type": "stream",
     "text": [
      "I0609 01:17:06.969304 140290448865152 basic_session_run_hooks.py:680] global_step/sec: 0.693069\n"
     ]
    },
    {
     "name": "stdout",
     "output_type": "stream",
     "text": [
      "INFO:tensorflow:loss = 1.5050082e-06, step = 10400 (144.283 sec)\n"
     ]
    },
    {
     "name": "stderr",
     "output_type": "stream",
     "text": [
      "I0609 01:17:06.971745 140290448865152 basic_session_run_hooks.py:247] loss = 1.5050082e-06, step = 10400 (144.283 sec)\n"
     ]
    },
    {
     "name": "stdout",
     "output_type": "stream",
     "text": [
      "INFO:tensorflow:global_step/sec: 0.693657\n"
     ]
    },
    {
     "name": "stderr",
     "output_type": "stream",
     "text": [
      "I0609 01:19:31.132697 140290448865152 basic_session_run_hooks.py:680] global_step/sec: 0.693657\n"
     ]
    },
    {
     "name": "stdout",
     "output_type": "stream",
     "text": [
      "INFO:tensorflow:loss = 2.9802319e-08, step = 10500 (144.170 sec)\n"
     ]
    },
    {
     "name": "stderr",
     "output_type": "stream",
     "text": [
      "I0609 01:19:31.141831 140290448865152 basic_session_run_hooks.py:247] loss = 2.9802319e-08, step = 10500 (144.170 sec)\n"
     ]
    },
    {
     "name": "stdout",
     "output_type": "stream",
     "text": [
      "INFO:tensorflow:global_step/sec: 0.694394\n"
     ]
    },
    {
     "name": "stderr",
     "output_type": "stream",
     "text": [
      "I0609 01:21:55.143249 140290448865152 basic_session_run_hooks.py:680] global_step/sec: 0.694394\n"
     ]
    },
    {
     "name": "stdout",
     "output_type": "stream",
     "text": [
      "INFO:tensorflow:loss = 1.490116e-08, step = 10600 (144.008 sec)\n"
     ]
    },
    {
     "name": "stderr",
     "output_type": "stream",
     "text": [
      "I0609 01:21:55.149636 140290448865152 basic_session_run_hooks.py:247] loss = 1.490116e-08, step = 10600 (144.008 sec)\n"
     ]
    },
    {
     "name": "stdout",
     "output_type": "stream",
     "text": [
      "INFO:tensorflow:global_step/sec: 0.694062\n"
     ]
    },
    {
     "name": "stderr",
     "output_type": "stream",
     "text": [
      "I0609 01:24:19.222609 140290448865152 basic_session_run_hooks.py:680] global_step/sec: 0.694062\n"
     ]
    },
    {
     "name": "stdout",
     "output_type": "stream",
     "text": [
      "INFO:tensorflow:loss = 8.821176e-06, step = 10700 (144.079 sec)\n"
     ]
    },
    {
     "name": "stderr",
     "output_type": "stream",
     "text": [
      "I0609 01:24:19.228178 140290448865152 basic_session_run_hooks.py:247] loss = 8.821176e-06, step = 10700 (144.079 sec)\n"
     ]
    },
    {
     "name": "stdout",
     "output_type": "stream",
     "text": [
      "INFO:tensorflow:global_step/sec: 0.693457\n"
     ]
    },
    {
     "name": "stderr",
     "output_type": "stream",
     "text": [
      "I0609 01:26:43.427698 140290448865152 basic_session_run_hooks.py:680] global_step/sec: 0.693457\n"
     ]
    },
    {
     "name": "stdout",
     "output_type": "stream",
     "text": [
      "INFO:tensorflow:loss = 3.3825463e-06, step = 10800 (144.210 sec)\n"
     ]
    },
    {
     "name": "stderr",
     "output_type": "stream",
     "text": [
      "I0609 01:26:43.438238 140290448865152 basic_session_run_hooks.py:247] loss = 3.3825463e-06, step = 10800 (144.210 sec)\n"
     ]
    },
    {
     "name": "stdout",
     "output_type": "stream",
     "text": [
      "INFO:tensorflow:global_step/sec: 0.694314\n"
     ]
    },
    {
     "name": "stderr",
     "output_type": "stream",
     "text": [
      "I0609 01:29:07.454762 140290448865152 basic_session_run_hooks.py:680] global_step/sec: 0.694314\n"
     ]
    },
    {
     "name": "stdout",
     "output_type": "stream",
     "text": [
      "INFO:tensorflow:loss = 1.4334415e-05, step = 10900 (144.019 sec)\n"
     ]
    },
    {
     "name": "stderr",
     "output_type": "stream",
     "text": [
      "I0609 01:29:07.457728 140290448865152 basic_session_run_hooks.py:247] loss = 1.4334415e-05, step = 10900 (144.019 sec)\n"
     ]
    },
    {
     "name": "stdout",
     "output_type": "stream",
     "text": [
      "INFO:tensorflow:Saving checkpoints for 11000 into ./output_D/model.ckpt.\n"
     ]
    },
    {
     "name": "stderr",
     "output_type": "stream",
     "text": [
      "I0609 01:31:30.131147 140290448865152 basic_session_run_hooks.py:594] Saving checkpoints for 11000 into ./output_D/model.ckpt.\n"
     ]
    },
    {
     "name": "stdout",
     "output_type": "stream",
     "text": [
      "INFO:tensorflow:global_step/sec: 0.648732\n"
     ]
    },
    {
     "name": "stderr",
     "output_type": "stream",
     "text": [
      "I0609 01:31:41.601684 140290448865152 basic_session_run_hooks.py:680] global_step/sec: 0.648732\n"
     ]
    },
    {
     "name": "stdout",
     "output_type": "stream",
     "text": [
      "INFO:tensorflow:loss = 1.6391223e-06, step = 11000 (154.149 sec)\n"
     ]
    },
    {
     "name": "stderr",
     "output_type": "stream",
     "text": [
      "I0609 01:31:41.606739 140290448865152 basic_session_run_hooks.py:247] loss = 1.6391223e-06, step = 11000 (154.149 sec)\n"
     ]
    },
    {
     "name": "stdout",
     "output_type": "stream",
     "text": [
      "INFO:tensorflow:global_step/sec: 0.687751\n"
     ]
    },
    {
     "name": "stderr",
     "output_type": "stream",
     "text": [
      "I0609 01:34:07.003045 140290448865152 basic_session_run_hooks.py:680] global_step/sec: 0.687751\n"
     ]
    },
    {
     "name": "stdout",
     "output_type": "stream",
     "text": [
      "INFO:tensorflow:loss = 0.8603652, step = 11100 (145.401 sec)\n"
     ]
    },
    {
     "name": "stderr",
     "output_type": "stream",
     "text": [
      "I0609 01:34:07.008116 140290448865152 basic_session_run_hooks.py:247] loss = 0.8603652, step = 11100 (145.401 sec)\n"
     ]
    },
    {
     "name": "stdout",
     "output_type": "stream",
     "text": [
      "INFO:tensorflow:global_step/sec: 0.688695\n"
     ]
    },
    {
     "name": "stderr",
     "output_type": "stream",
     "text": [
      "I0609 01:36:32.205179 140290448865152 basic_session_run_hooks.py:680] global_step/sec: 0.688695\n"
     ]
    },
    {
     "name": "stdout",
     "output_type": "stream",
     "text": [
      "INFO:tensorflow:loss = 0.008414488, step = 11200 (145.200 sec)\n"
     ]
    },
    {
     "name": "stderr",
     "output_type": "stream",
     "text": [
      "I0609 01:36:32.207963 140290448865152 basic_session_run_hooks.py:247] loss = 0.008414488, step = 11200 (145.200 sec)\n"
     ]
    },
    {
     "name": "stdout",
     "output_type": "stream",
     "text": [
      "INFO:tensorflow:global_step/sec: 0.689014\n"
     ]
    },
    {
     "name": "stderr",
     "output_type": "stream",
     "text": [
      "I0609 01:38:57.340166 140290448865152 basic_session_run_hooks.py:680] global_step/sec: 0.689014\n"
     ]
    },
    {
     "name": "stdout",
     "output_type": "stream",
     "text": [
      "INFO:tensorflow:loss = 0.0005527489, step = 11300 (145.135 sec)\n"
     ]
    },
    {
     "name": "stderr",
     "output_type": "stream",
     "text": [
      "I0609 01:38:57.343105 140290448865152 basic_session_run_hooks.py:247] loss = 0.0005527489, step = 11300 (145.135 sec)\n"
     ]
    },
    {
     "name": "stdout",
     "output_type": "stream",
     "text": [
      "INFO:tensorflow:global_step/sec: 0.692002\n"
     ]
    },
    {
     "name": "stderr",
     "output_type": "stream",
     "text": [
      "I0609 01:41:21.848433 140290448865152 basic_session_run_hooks.py:680] global_step/sec: 0.692002\n"
     ]
    },
    {
     "name": "stdout",
     "output_type": "stream",
     "text": [
      "INFO:tensorflow:loss = 2.9607223e-05, step = 11400 (144.513 sec)\n"
     ]
    },
    {
     "name": "stderr",
     "output_type": "stream",
     "text": [
      "I0609 01:41:21.856071 140290448865152 basic_session_run_hooks.py:247] loss = 2.9607223e-05, step = 11400 (144.513 sec)\n"
     ]
    },
    {
     "name": "stdout",
     "output_type": "stream",
     "text": [
      "INFO:tensorflow:global_step/sec: 0.692677\n"
     ]
    },
    {
     "name": "stderr",
     "output_type": "stream",
     "text": [
      "I0609 01:43:46.215894 140290448865152 basic_session_run_hooks.py:680] global_step/sec: 0.692677\n"
     ]
    },
    {
     "name": "stdout",
     "output_type": "stream",
     "text": [
      "INFO:tensorflow:loss = 4.2063006e-05, step = 11500 (144.362 sec)\n"
     ]
    },
    {
     "name": "stderr",
     "output_type": "stream",
     "text": [
      "I0609 01:43:46.218549 140290448865152 basic_session_run_hooks.py:247] loss = 4.2063006e-05, step = 11500 (144.362 sec)\n"
     ]
    },
    {
     "name": "stdout",
     "output_type": "stream",
     "text": [
      "INFO:tensorflow:global_step/sec: 0.691818\n"
     ]
    },
    {
     "name": "stderr",
     "output_type": "stream",
     "text": [
      "I0609 01:46:10.762620 140290448865152 basic_session_run_hooks.py:680] global_step/sec: 0.691818\n"
     ]
    },
    {
     "name": "stdout",
     "output_type": "stream",
     "text": [
      "INFO:tensorflow:loss = 4.4703476e-08, step = 11600 (144.551 sec)\n"
     ]
    },
    {
     "name": "stderr",
     "output_type": "stream",
     "text": [
      "I0609 01:46:10.769868 140290448865152 basic_session_run_hooks.py:247] loss = 4.4703476e-08, step = 11600 (144.551 sec)\n"
     ]
    },
    {
     "name": "stdout",
     "output_type": "stream",
     "text": [
      "INFO:tensorflow:global_step/sec: 0.691805\n"
     ]
    },
    {
     "name": "stderr",
     "output_type": "stream",
     "text": [
      "I0609 01:48:35.312088 140290448865152 basic_session_run_hooks.py:680] global_step/sec: 0.691805\n"
     ]
    },
    {
     "name": "stdout",
     "output_type": "stream",
     "text": [
      "INFO:tensorflow:loss = 2.6016543e-05, step = 11700 (144.550 sec)\n"
     ]
    },
    {
     "name": "stderr",
     "output_type": "stream",
     "text": [
      "I0609 01:48:35.320071 140290448865152 basic_session_run_hooks.py:247] loss = 2.6016543e-05, step = 11700 (144.550 sec)\n"
     ]
    },
    {
     "name": "stdout",
     "output_type": "stream",
     "text": [
      "INFO:tensorflow:global_step/sec: 0.69326\n"
     ]
    },
    {
     "name": "stderr",
     "output_type": "stream",
     "text": [
      "I0609 01:50:59.558050 140290448865152 basic_session_run_hooks.py:680] global_step/sec: 0.69326\n"
     ]
    },
    {
     "name": "stdout",
     "output_type": "stream",
     "text": [
      "INFO:tensorflow:loss = 2.0861617e-07, step = 11800 (144.241 sec)\n"
     ]
    },
    {
     "name": "stderr",
     "output_type": "stream",
     "text": [
      "I0609 01:50:59.561023 140290448865152 basic_session_run_hooks.py:247] loss = 2.0861617e-07, step = 11800 (144.241 sec)\n"
     ]
    },
    {
     "name": "stdout",
     "output_type": "stream",
     "text": [
      "INFO:tensorflow:global_step/sec: 0.692279\n"
     ]
    },
    {
     "name": "stderr",
     "output_type": "stream",
     "text": [
      "I0609 01:53:24.008549 140290448865152 basic_session_run_hooks.py:680] global_step/sec: 0.692279\n"
     ]
    },
    {
     "name": "stdout",
     "output_type": "stream",
     "text": [
      "INFO:tensorflow:loss = 2.3394734e-06, step = 11900 (144.451 sec)\n"
     ]
    },
    {
     "name": "stderr",
     "output_type": "stream",
     "text": [
      "I0609 01:53:24.011529 140290448865152 basic_session_run_hooks.py:247] loss = 2.3394734e-06, step = 11900 (144.451 sec)\n"
     ]
    },
    {
     "name": "stdout",
     "output_type": "stream",
     "text": [
      "INFO:tensorflow:Saving checkpoints for 12000 into ./output_D/model.ckpt.\n"
     ]
    },
    {
     "name": "stderr",
     "output_type": "stream",
     "text": [
      "I0609 01:55:47.199036 140290448865152 basic_session_run_hooks.py:594] Saving checkpoints for 12000 into ./output_D/model.ckpt.\n"
     ]
    },
    {
     "name": "stdout",
     "output_type": "stream",
     "text": [
      "INFO:tensorflow:global_step/sec: 0.646959\n"
     ]
    },
    {
     "name": "stderr",
     "output_type": "stream",
     "text": [
      "I0609 01:55:58.577801 140290448865152 basic_session_run_hooks.py:680] global_step/sec: 0.646959\n"
     ]
    },
    {
     "name": "stdout",
     "output_type": "stream",
     "text": [
      "INFO:tensorflow:loss = 5.6063956e-05, step = 12000 (154.576 sec)\n"
     ]
    },
    {
     "name": "stderr",
     "output_type": "stream",
     "text": [
      "I0609 01:55:58.587237 140290448865152 basic_session_run_hooks.py:247] loss = 5.6063956e-05, step = 12000 (154.576 sec)\n"
     ]
    },
    {
     "name": "stdout",
     "output_type": "stream",
     "text": [
      "INFO:tensorflow:global_step/sec: 0.690595\n"
     ]
    },
    {
     "name": "stderr",
     "output_type": "stream",
     "text": [
      "I0609 01:58:23.380431 140290448865152 basic_session_run_hooks.py:680] global_step/sec: 0.690595\n"
     ]
    },
    {
     "name": "stdout",
     "output_type": "stream",
     "text": [
      "INFO:tensorflow:loss = 2.7865005e-06, step = 12100 (144.801 sec)\n"
     ]
    },
    {
     "name": "stderr",
     "output_type": "stream",
     "text": [
      "I0609 01:58:23.388210 140290448865152 basic_session_run_hooks.py:247] loss = 2.7865005e-06, step = 12100 (144.801 sec)\n"
     ]
    },
    {
     "name": "stdout",
     "output_type": "stream",
     "text": [
      "INFO:tensorflow:global_step/sec: 0.691701\n"
     ]
    },
    {
     "name": "stderr",
     "output_type": "stream",
     "text": [
      "I0609 02:00:47.951522 140290448865152 basic_session_run_hooks.py:680] global_step/sec: 0.691701\n"
     ]
    },
    {
     "name": "stdout",
     "output_type": "stream",
     "text": [
      "INFO:tensorflow:loss = 2.9802319e-08, step = 12200 (144.568 sec)\n"
     ]
    },
    {
     "name": "stderr",
     "output_type": "stream",
     "text": [
      "I0609 02:00:47.956637 140290448865152 basic_session_run_hooks.py:247] loss = 2.9802319e-08, step = 12200 (144.568 sec)\n"
     ]
    },
    {
     "name": "stdout",
     "output_type": "stream",
     "text": [
      "INFO:tensorflow:global_step/sec: 0.693492\n"
     ]
    },
    {
     "name": "stderr",
     "output_type": "stream",
     "text": [
      "I0609 02:03:12.149383 140290448865152 basic_session_run_hooks.py:680] global_step/sec: 0.693492\n"
     ]
    },
    {
     "name": "stdout",
     "output_type": "stream",
     "text": [
      "INFO:tensorflow:loss = 7.3015474e-07, step = 12300 (144.196 sec)\n"
     ]
    },
    {
     "name": "stderr",
     "output_type": "stream",
     "text": [
      "I0609 02:03:12.152932 140290448865152 basic_session_run_hooks.py:247] loss = 7.3015474e-07, step = 12300 (144.196 sec)\n"
     ]
    },
    {
     "name": "stdout",
     "output_type": "stream",
     "text": [
      "INFO:tensorflow:global_step/sec: 0.692116\n"
     ]
    },
    {
     "name": "stderr",
     "output_type": "stream",
     "text": [
      "I0609 02:05:36.633745 140290448865152 basic_session_run_hooks.py:680] global_step/sec: 0.692116\n"
     ]
    },
    {
     "name": "stdout",
     "output_type": "stream",
     "text": [
      "INFO:tensorflow:loss = 3.3974486e-06, step = 12400 (144.484 sec)\n"
     ]
    },
    {
     "name": "stderr",
     "output_type": "stream",
     "text": [
      "I0609 02:05:36.636585 140290448865152 basic_session_run_hooks.py:247] loss = 3.3974486e-06, step = 12400 (144.484 sec)\n"
     ]
    },
    {
     "name": "stdout",
     "output_type": "stream",
     "text": [
      "INFO:tensorflow:global_step/sec: 0.692023\n"
     ]
    },
    {
     "name": "stderr",
     "output_type": "stream",
     "text": [
      "I0609 02:08:01.137645 140290448865152 basic_session_run_hooks.py:680] global_step/sec: 0.692023\n"
     ]
    },
    {
     "name": "stdout",
     "output_type": "stream",
     "text": [
      "INFO:tensorflow:loss = 3.8742962e-07, step = 12500 (144.504 sec)\n"
     ]
    },
    {
     "name": "stderr",
     "output_type": "stream",
     "text": [
      "I0609 02:08:01.140433 140290448865152 basic_session_run_hooks.py:247] loss = 3.8742962e-07, step = 12500 (144.504 sec)\n"
     ]
    },
    {
     "name": "stdout",
     "output_type": "stream",
     "text": [
      "INFO:tensorflow:global_step/sec: 0.692763\n"
     ]
    },
    {
     "name": "stderr",
     "output_type": "stream",
     "text": [
      "I0609 02:10:25.487108 140290448865152 basic_session_run_hooks.py:680] global_step/sec: 0.692763\n"
     ]
    },
    {
     "name": "stdout",
     "output_type": "stream",
     "text": [
      "INFO:tensorflow:loss = 4.8875113e-06, step = 12600 (144.350 sec)\n"
     ]
    },
    {
     "name": "stderr",
     "output_type": "stream",
     "text": [
      "I0609 02:10:25.490558 140290448865152 basic_session_run_hooks.py:247] loss = 4.8875113e-06, step = 12600 (144.350 sec)\n"
     ]
    },
    {
     "name": "stdout",
     "output_type": "stream",
     "text": [
      "INFO:tensorflow:global_step/sec: 0.692759\n"
     ]
    },
    {
     "name": "stderr",
     "output_type": "stream",
     "text": [
      "I0609 02:12:49.837352 140290448865152 basic_session_run_hooks.py:680] global_step/sec: 0.692759\n"
     ]
    },
    {
     "name": "stdout",
     "output_type": "stream",
     "text": [
      "INFO:tensorflow:loss = 3.2782512e-07, step = 12700 (144.350 sec)\n"
     ]
    },
    {
     "name": "stderr",
     "output_type": "stream",
     "text": [
      "I0609 02:12:49.840169 140290448865152 basic_session_run_hooks.py:247] loss = 3.2782512e-07, step = 12700 (144.350 sec)\n"
     ]
    },
    {
     "name": "stdout",
     "output_type": "stream",
     "text": [
      "INFO:tensorflow:global_step/sec: 0.693571\n"
     ]
    },
    {
     "name": "stderr",
     "output_type": "stream",
     "text": [
      "I0609 02:15:14.018826 140290448865152 basic_session_run_hooks.py:680] global_step/sec: 0.693571\n"
     ]
    },
    {
     "name": "stdout",
     "output_type": "stream",
     "text": [
      "INFO:tensorflow:loss = 8.940694e-08, step = 12800 (144.186 sec)\n"
     ]
    },
    {
     "name": "stderr",
     "output_type": "stream",
     "text": [
      "I0609 02:15:14.026378 140290448865152 basic_session_run_hooks.py:247] loss = 8.940694e-08, step = 12800 (144.186 sec)\n"
     ]
    },
    {
     "name": "stdout",
     "output_type": "stream",
     "text": [
      "INFO:tensorflow:global_step/sec: 0.693419\n"
     ]
    },
    {
     "name": "stderr",
     "output_type": "stream",
     "text": [
      "I0609 02:17:38.231796 140290448865152 basic_session_run_hooks.py:680] global_step/sec: 0.693419\n"
     ]
    },
    {
     "name": "stdout",
     "output_type": "stream",
     "text": [
      "INFO:tensorflow:loss = 1.490116e-08, step = 12900 (144.208 sec)\n"
     ]
    },
    {
     "name": "stderr",
     "output_type": "stream",
     "text": [
      "I0609 02:17:38.234379 140290448865152 basic_session_run_hooks.py:247] loss = 1.490116e-08, step = 12900 (144.208 sec)\n"
     ]
    },
    {
     "name": "stdout",
     "output_type": "stream",
     "text": [
      "INFO:tensorflow:Saving checkpoints for 13000 into ./output_D/model.ckpt.\n"
     ]
    },
    {
     "name": "stderr",
     "output_type": "stream",
     "text": [
      "I0609 02:20:00.954386 140290448865152 basic_session_run_hooks.py:594] Saving checkpoints for 13000 into ./output_D/model.ckpt.\n"
     ]
    },
    {
     "name": "stdout",
     "output_type": "stream",
     "text": [
      "INFO:tensorflow:global_step/sec: 0.64921\n"
     ]
    },
    {
     "name": "stderr",
     "output_type": "stream",
     "text": [
      "I0609 02:20:12.265083 140290448865152 basic_session_run_hooks.py:680] global_step/sec: 0.64921\n"
     ]
    },
    {
     "name": "stdout",
     "output_type": "stream",
     "text": [
      "INFO:tensorflow:loss = 2.5331717e-06, step = 13000 (154.036 sec)\n"
     ]
    },
    {
     "name": "stderr",
     "output_type": "stream",
     "text": [
      "I0609 02:20:12.270227 140290448865152 basic_session_run_hooks.py:247] loss = 2.5331717e-06, step = 13000 (154.036 sec)\n"
     ]
    },
    {
     "name": "stdout",
     "output_type": "stream",
     "text": [
      "INFO:tensorflow:global_step/sec: 0.690979\n"
     ]
    },
    {
     "name": "stderr",
     "output_type": "stream",
     "text": [
      "I0609 02:22:36.987395 140290448865152 basic_session_run_hooks.py:680] global_step/sec: 0.690979\n"
     ]
    },
    {
     "name": "stdout",
     "output_type": "stream",
     "text": [
      "INFO:tensorflow:loss = 6.04976e-06, step = 13100 (144.720 sec)\n"
     ]
    },
    {
     "name": "stderr",
     "output_type": "stream",
     "text": [
      "I0609 02:22:36.990274 140290448865152 basic_session_run_hooks.py:247] loss = 6.04976e-06, step = 13100 (144.720 sec)\n"
     ]
    },
    {
     "name": "stdout",
     "output_type": "stream",
     "text": [
      "INFO:tensorflow:global_step/sec: 0.693269\n"
     ]
    },
    {
     "name": "stderr",
     "output_type": "stream",
     "text": [
      "I0609 02:25:01.231424 140290448865152 basic_session_run_hooks.py:680] global_step/sec: 0.693269\n"
     ]
    },
    {
     "name": "stdout",
     "output_type": "stream",
     "text": [
      "INFO:tensorflow:loss = 0.12798685, step = 13200 (144.245 sec)\n"
     ]
    },
    {
     "name": "stderr",
     "output_type": "stream",
     "text": [
      "I0609 02:25:01.234927 140290448865152 basic_session_run_hooks.py:247] loss = 0.12798685, step = 13200 (144.245 sec)\n"
     ]
    },
    {
     "name": "stdout",
     "output_type": "stream",
     "text": [
      "INFO:tensorflow:global_step/sec: 0.693062\n"
     ]
    },
    {
     "name": "stderr",
     "output_type": "stream",
     "text": [
      "I0609 02:27:25.518722 140290448865152 basic_session_run_hooks.py:680] global_step/sec: 0.693062\n"
     ]
    },
    {
     "name": "stdout",
     "output_type": "stream",
     "text": [
      "INFO:tensorflow:loss = 0.24471702, step = 13300 (144.286 sec)\n"
     ]
    },
    {
     "name": "stderr",
     "output_type": "stream",
     "text": [
      "I0609 02:27:25.521414 140290448865152 basic_session_run_hooks.py:247] loss = 0.24471702, step = 13300 (144.286 sec)\n"
     ]
    },
    {
     "name": "stdout",
     "output_type": "stream",
     "text": [
      "INFO:tensorflow:global_step/sec: 0.693286\n"
     ]
    },
    {
     "name": "stderr",
     "output_type": "stream",
     "text": [
      "I0609 02:29:49.759349 140290448865152 basic_session_run_hooks.py:680] global_step/sec: 0.693286\n"
     ]
    },
    {
     "name": "stdout",
     "output_type": "stream",
     "text": [
      "INFO:tensorflow:loss = 9.983567e-06, step = 13400 (144.240 sec)\n"
     ]
    },
    {
     "name": "stderr",
     "output_type": "stream",
     "text": [
      "I0609 02:29:49.761863 140290448865152 basic_session_run_hooks.py:247] loss = 9.983567e-06, step = 13400 (144.240 sec)\n"
     ]
    },
    {
     "name": "stdout",
     "output_type": "stream",
     "text": [
      "INFO:tensorflow:global_step/sec: 0.694344\n"
     ]
    },
    {
     "name": "stderr",
     "output_type": "stream",
     "text": [
      "I0609 02:32:13.780152 140290448865152 basic_session_run_hooks.py:680] global_step/sec: 0.694344\n"
     ]
    },
    {
     "name": "stdout",
     "output_type": "stream",
     "text": [
      "INFO:tensorflow:loss = 2.9802319e-08, step = 13500 (144.024 sec)\n"
     ]
    },
    {
     "name": "stderr",
     "output_type": "stream",
     "text": [
      "I0609 02:32:13.785593 140290448865152 basic_session_run_hooks.py:247] loss = 2.9802319e-08, step = 13500 (144.024 sec)\n"
     ]
    },
    {
     "name": "stdout",
     "output_type": "stream",
     "text": [
      "INFO:tensorflow:global_step/sec: 0.693963\n"
     ]
    },
    {
     "name": "stderr",
     "output_type": "stream",
     "text": [
      "I0609 02:34:37.880044 140290448865152 basic_session_run_hooks.py:680] global_step/sec: 0.693963\n"
     ]
    },
    {
     "name": "stdout",
     "output_type": "stream",
     "text": [
      "INFO:tensorflow:loss = 1.1920925e-07, step = 13600 (144.102 sec)\n"
     ]
    },
    {
     "name": "stderr",
     "output_type": "stream",
     "text": [
      "I0609 02:34:37.887071 140290448865152 basic_session_run_hooks.py:247] loss = 1.1920925e-07, step = 13600 (144.102 sec)\n"
     ]
    },
    {
     "name": "stdout",
     "output_type": "stream",
     "text": [
      "INFO:tensorflow:global_step/sec: 0.694607\n"
     ]
    },
    {
     "name": "stderr",
     "output_type": "stream",
     "text": [
      "I0609 02:37:01.846282 140290448865152 basic_session_run_hooks.py:680] global_step/sec: 0.694607\n"
     ]
    },
    {
     "name": "stdout",
     "output_type": "stream",
     "text": [
      "INFO:tensorflow:loss = -0.0, step = 13700 (143.966 sec)\n"
     ]
    },
    {
     "name": "stderr",
     "output_type": "stream",
     "text": [
      "I0609 02:37:01.853157 140290448865152 basic_session_run_hooks.py:247] loss = -0.0, step = 13700 (143.966 sec)\n"
     ]
    },
    {
     "name": "stdout",
     "output_type": "stream",
     "text": [
      "INFO:tensorflow:global_step/sec: 0.694365\n"
     ]
    },
    {
     "name": "stderr",
     "output_type": "stream",
     "text": [
      "I0609 02:39:25.862766 140290448865152 basic_session_run_hooks.py:680] global_step/sec: 0.694365\n"
     ]
    },
    {
     "name": "stdout",
     "output_type": "stream",
     "text": [
      "INFO:tensorflow:loss = 0.00010493694, step = 13800 (144.014 sec)\n"
     ]
    },
    {
     "name": "stderr",
     "output_type": "stream",
     "text": [
      "I0609 02:39:25.866799 140290448865152 basic_session_run_hooks.py:247] loss = 0.00010493694, step = 13800 (144.014 sec)\n"
     ]
    },
    {
     "name": "stdout",
     "output_type": "stream",
     "text": [
      "INFO:tensorflow:global_step/sec: 0.693848\n"
     ]
    },
    {
     "name": "stderr",
     "output_type": "stream",
     "text": [
      "I0609 02:41:49.986607 140290448865152 basic_session_run_hooks.py:680] global_step/sec: 0.693848\n"
     ]
    },
    {
     "name": "stdout",
     "output_type": "stream",
     "text": [
      "INFO:tensorflow:loss = -0.0, step = 13900 (144.126 sec)\n"
     ]
    },
    {
     "name": "stderr",
     "output_type": "stream",
     "text": [
      "I0609 02:41:49.992459 140290448865152 basic_session_run_hooks.py:247] loss = -0.0, step = 13900 (144.126 sec)\n"
     ]
    },
    {
     "name": "stdout",
     "output_type": "stream",
     "text": [
      "INFO:tensorflow:Saving checkpoints for 14000 into ./output_D/model.ckpt.\n"
     ]
    },
    {
     "name": "stderr",
     "output_type": "stream",
     "text": [
      "I0609 02:44:12.781193 140290448865152 basic_session_run_hooks.py:594] Saving checkpoints for 14000 into ./output_D/model.ckpt.\n"
     ]
    },
    {
     "name": "stdout",
     "output_type": "stream",
     "text": [
      "INFO:tensorflow:global_step/sec: 0.648198\n"
     ]
    },
    {
     "name": "stderr",
     "output_type": "stream",
     "text": [
      "I0609 02:44:24.260478 140290448865152 basic_session_run_hooks.py:680] global_step/sec: 0.648198\n"
     ]
    },
    {
     "name": "stdout",
     "output_type": "stream",
     "text": [
      "INFO:tensorflow:loss = -0.0, step = 14000 (154.273 sec)\n"
     ]
    },
    {
     "name": "stderr",
     "output_type": "stream",
     "text": [
      "I0609 02:44:24.265512 140290448865152 basic_session_run_hooks.py:247] loss = -0.0, step = 14000 (154.273 sec)\n"
     ]
    },
    {
     "name": "stdout",
     "output_type": "stream",
     "text": [
      "INFO:tensorflow:global_step/sec: 0.69284\n"
     ]
    },
    {
     "name": "stderr",
     "output_type": "stream",
     "text": [
      "I0609 02:46:48.593891 140290448865152 basic_session_run_hooks.py:680] global_step/sec: 0.69284\n"
     ]
    },
    {
     "name": "stdout",
     "output_type": "stream",
     "text": [
      "INFO:tensorflow:loss = -0.0, step = 14100 (144.331 sec)\n"
     ]
    },
    {
     "name": "stderr",
     "output_type": "stream",
     "text": [
      "I0609 02:46:48.596385 140290448865152 basic_session_run_hooks.py:247] loss = -0.0, step = 14100 (144.331 sec)\n"
     ]
    },
    {
     "name": "stdout",
     "output_type": "stream",
     "text": [
      "INFO:tensorflow:global_step/sec: 0.695244\n"
     ]
    },
    {
     "name": "stderr",
     "output_type": "stream",
     "text": [
      "I0609 02:49:12.428190 140290448865152 basic_session_run_hooks.py:680] global_step/sec: 0.695244\n"
     ]
    },
    {
     "name": "stdout",
     "output_type": "stream",
     "text": [
      "INFO:tensorflow:loss = -0.0, step = 14200 (143.835 sec)\n"
     ]
    },
    {
     "name": "stderr",
     "output_type": "stream",
     "text": [
      "I0609 02:49:12.430893 140290448865152 basic_session_run_hooks.py:247] loss = -0.0, step = 14200 (143.835 sec)\n"
     ]
    },
    {
     "name": "stdout",
     "output_type": "stream",
     "text": [
      "INFO:tensorflow:global_step/sec: 0.695421\n"
     ]
    },
    {
     "name": "stderr",
     "output_type": "stream",
     "text": [
      "I0609 02:51:36.226012 140290448865152 basic_session_run_hooks.py:680] global_step/sec: 0.695421\n"
     ]
    },
    {
     "name": "stdout",
     "output_type": "stream",
     "text": [
      "INFO:tensorflow:loss = -0.0, step = 14300 (143.799 sec)\n"
     ]
    },
    {
     "name": "stderr",
     "output_type": "stream",
     "text": [
      "I0609 02:51:36.229621 140290448865152 basic_session_run_hooks.py:247] loss = -0.0, step = 14300 (143.799 sec)\n"
     ]
    },
    {
     "name": "stdout",
     "output_type": "stream",
     "text": [
      "INFO:tensorflow:global_step/sec: 0.694486\n"
     ]
    },
    {
     "name": "stderr",
     "output_type": "stream",
     "text": [
      "I0609 02:54:00.217483 140290448865152 basic_session_run_hooks.py:680] global_step/sec: 0.694486\n"
     ]
    },
    {
     "name": "stdout",
     "output_type": "stream",
     "text": [
      "INFO:tensorflow:loss = 5.9305435e-06, step = 14400 (143.993 sec)\n"
     ]
    },
    {
     "name": "stderr",
     "output_type": "stream",
     "text": [
      "I0609 02:54:00.223043 140290448865152 basic_session_run_hooks.py:247] loss = 5.9305435e-06, step = 14400 (143.993 sec)\n"
     ]
    },
    {
     "name": "stdout",
     "output_type": "stream",
     "text": [
      "INFO:tensorflow:global_step/sec: 0.693274\n"
     ]
    },
    {
     "name": "stderr",
     "output_type": "stream",
     "text": [
      "I0609 02:56:24.460570 140290448865152 basic_session_run_hooks.py:680] global_step/sec: 0.693274\n"
     ]
    },
    {
     "name": "stdout",
     "output_type": "stream",
     "text": [
      "INFO:tensorflow:loss = 2.9802319e-08, step = 14500 (144.243 sec)\n"
     ]
    },
    {
     "name": "stderr",
     "output_type": "stream",
     "text": [
      "I0609 02:56:24.466049 140290448865152 basic_session_run_hooks.py:247] loss = 2.9802319e-08, step = 14500 (144.243 sec)\n"
     ]
    },
    {
     "name": "stdout",
     "output_type": "stream",
     "text": [
      "INFO:tensorflow:global_step/sec: 0.694765\n"
     ]
    },
    {
     "name": "stderr",
     "output_type": "stream",
     "text": [
      "I0609 02:58:48.394143 140290448865152 basic_session_run_hooks.py:680] global_step/sec: 0.694765\n"
     ]
    },
    {
     "name": "stdout",
     "output_type": "stream",
     "text": [
      "INFO:tensorflow:loss = -0.0, step = 14600 (143.931 sec)\n"
     ]
    },
    {
     "name": "stderr",
     "output_type": "stream",
     "text": [
      "I0609 02:58:48.396738 140290448865152 basic_session_run_hooks.py:247] loss = -0.0, step = 14600 (143.931 sec)\n"
     ]
    },
    {
     "name": "stdout",
     "output_type": "stream",
     "text": [
      "INFO:tensorflow:global_step/sec: 0.693671\n"
     ]
    },
    {
     "name": "stderr",
     "output_type": "stream",
     "text": [
      "I0609 03:01:12.554726 140290448865152 basic_session_run_hooks.py:680] global_step/sec: 0.693671\n"
     ]
    },
    {
     "name": "stdout",
     "output_type": "stream",
     "text": [
      "INFO:tensorflow:loss = 0.010000653, step = 14700 (144.161 sec)\n"
     ]
    },
    {
     "name": "stderr",
     "output_type": "stream",
     "text": [
      "I0609 03:01:12.557353 140290448865152 basic_session_run_hooks.py:247] loss = 0.010000653, step = 14700 (144.161 sec)\n"
     ]
    },
    {
     "name": "stdout",
     "output_type": "stream",
     "text": [
      "INFO:tensorflow:global_step/sec: 0.695276\n"
     ]
    },
    {
     "name": "stderr",
     "output_type": "stream",
     "text": [
      "I0609 03:03:36.382543 140290448865152 basic_session_run_hooks.py:680] global_step/sec: 0.695276\n"
     ]
    },
    {
     "name": "stdout",
     "output_type": "stream",
     "text": [
      "INFO:tensorflow:loss = -0.0, step = 14800 (143.829 sec)\n"
     ]
    },
    {
     "name": "stderr",
     "output_type": "stream",
     "text": [
      "I0609 03:03:36.386089 140290448865152 basic_session_run_hooks.py:247] loss = -0.0, step = 14800 (143.829 sec)\n"
     ]
    },
    {
     "name": "stdout",
     "output_type": "stream",
     "text": [
      "INFO:tensorflow:global_step/sec: 0.695033\n"
     ]
    },
    {
     "name": "stderr",
     "output_type": "stream",
     "text": [
      "I0609 03:06:00.260586 140290448865152 basic_session_run_hooks.py:680] global_step/sec: 0.695033\n"
     ]
    },
    {
     "name": "stdout",
     "output_type": "stream",
     "text": [
      "INFO:tensorflow:loss = -0.0, step = 14900 (143.880 sec)\n"
     ]
    },
    {
     "name": "stderr",
     "output_type": "stream",
     "text": [
      "I0609 03:06:00.266541 140290448865152 basic_session_run_hooks.py:247] loss = -0.0, step = 14900 (143.880 sec)\n"
     ]
    },
    {
     "name": "stdout",
     "output_type": "stream",
     "text": [
      "INFO:tensorflow:Saving checkpoints for 15000 into ./output_D/model.ckpt.\n"
     ]
    },
    {
     "name": "stderr",
     "output_type": "stream",
     "text": [
      "I0609 03:08:23.034058 140290448865152 basic_session_run_hooks.py:594] Saving checkpoints for 15000 into ./output_D/model.ckpt.\n"
     ]
    },
    {
     "name": "stdout",
     "output_type": "stream",
     "text": [
      "INFO:tensorflow:global_step/sec: 0.648679\n"
     ]
    },
    {
     "name": "stderr",
     "output_type": "stream",
     "text": [
      "I0609 03:08:34.420005 140290448865152 basic_session_run_hooks.py:680] global_step/sec: 0.648679\n"
     ]
    },
    {
     "name": "stdout",
     "output_type": "stream",
     "text": [
      "INFO:tensorflow:loss = 0.0014109696, step = 15000 (154.156 sec)\n"
     ]
    },
    {
     "name": "stderr",
     "output_type": "stream",
     "text": [
      "I0609 03:08:34.422756 140290448865152 basic_session_run_hooks.py:247] loss = 0.0014109696, step = 15000 (154.156 sec)\n"
     ]
    },
    {
     "name": "stdout",
     "output_type": "stream",
     "text": [
      "INFO:tensorflow:global_step/sec: 0.692642\n"
     ]
    },
    {
     "name": "stderr",
     "output_type": "stream",
     "text": [
      "I0609 03:10:58.794683 140290448865152 basic_session_run_hooks.py:680] global_step/sec: 0.692642\n"
     ]
    },
    {
     "name": "stdout",
     "output_type": "stream",
     "text": [
      "INFO:tensorflow:loss = -0.0, step = 15100 (144.375 sec)\n"
     ]
    },
    {
     "name": "stderr",
     "output_type": "stream",
     "text": [
      "I0609 03:10:58.797328 140290448865152 basic_session_run_hooks.py:247] loss = -0.0, step = 15100 (144.375 sec)\n"
     ]
    },
    {
     "name": "stdout",
     "output_type": "stream",
     "text": [
      "INFO:tensorflow:global_step/sec: 0.694892\n"
     ]
    },
    {
     "name": "stderr",
     "output_type": "stream",
     "text": [
      "I0609 03:13:22.701890 140290448865152 basic_session_run_hooks.py:680] global_step/sec: 0.694892\n"
     ]
    },
    {
     "name": "stdout",
     "output_type": "stream",
     "text": [
      "INFO:tensorflow:loss = 1.490116e-08, step = 15200 (143.909 sec)\n"
     ]
    },
    {
     "name": "stderr",
     "output_type": "stream",
     "text": [
      "I0609 03:13:22.707334 140290448865152 basic_session_run_hooks.py:247] loss = 1.490116e-08, step = 15200 (143.909 sec)\n"
     ]
    },
    {
     "name": "stdout",
     "output_type": "stream",
     "text": [
      "INFO:tensorflow:global_step/sec: 0.694198\n"
     ]
    },
    {
     "name": "stderr",
     "output_type": "stream",
     "text": [
      "I0609 03:15:46.753024 140290448865152 basic_session_run_hooks.py:680] global_step/sec: 0.694198\n"
     ]
    },
    {
     "name": "stdout",
     "output_type": "stream",
     "text": [
      "INFO:tensorflow:loss = 1.9371498e-07, step = 15300 (144.050 sec)\n"
     ]
    },
    {
     "name": "stderr",
     "output_type": "stream",
     "text": [
      "I0609 03:15:46.756531 140290448865152 basic_session_run_hooks.py:247] loss = 1.9371498e-07, step = 15300 (144.050 sec)\n"
     ]
    },
    {
     "name": "stdout",
     "output_type": "stream",
     "text": [
      "INFO:tensorflow:global_step/sec: 0.694055\n"
     ]
    },
    {
     "name": "stderr",
     "output_type": "stream",
     "text": [
      "I0609 03:18:10.833833 140290448865152 basic_session_run_hooks.py:680] global_step/sec: 0.694055\n"
     ]
    },
    {
     "name": "stdout",
     "output_type": "stream",
     "text": [
      "INFO:tensorflow:loss = -0.0, step = 15400 (144.081 sec)\n"
     ]
    },
    {
     "name": "stderr",
     "output_type": "stream",
     "text": [
      "I0609 03:18:10.837182 140290448865152 basic_session_run_hooks.py:247] loss = -0.0, step = 15400 (144.081 sec)\n"
     ]
    },
    {
     "name": "stdout",
     "output_type": "stream",
     "text": [
      "INFO:tensorflow:global_step/sec: 0.695802\n"
     ]
    },
    {
     "name": "stderr",
     "output_type": "stream",
     "text": [
      "I0609 03:20:34.552827 140290448865152 basic_session_run_hooks.py:680] global_step/sec: 0.695802\n"
     ]
    },
    {
     "name": "stdout",
     "output_type": "stream",
     "text": [
      "INFO:tensorflow:loss = -0.0, step = 15500 (143.722 sec)\n"
     ]
    },
    {
     "name": "stderr",
     "output_type": "stream",
     "text": [
      "I0609 03:20:34.558970 140290448865152 basic_session_run_hooks.py:247] loss = -0.0, step = 15500 (143.722 sec)\n"
     ]
    },
    {
     "name": "stdout",
     "output_type": "stream",
     "text": [
      "INFO:tensorflow:global_step/sec: 0.695171\n"
     ]
    },
    {
     "name": "stderr",
     "output_type": "stream",
     "text": [
      "I0609 03:22:58.402379 140290448865152 basic_session_run_hooks.py:680] global_step/sec: 0.695171\n"
     ]
    },
    {
     "name": "stdout",
     "output_type": "stream",
     "text": [
      "INFO:tensorflow:loss = -0.0, step = 15600 (143.847 sec)\n"
     ]
    },
    {
     "name": "stderr",
     "output_type": "stream",
     "text": [
      "I0609 03:22:58.405858 140290448865152 basic_session_run_hooks.py:247] loss = -0.0, step = 15600 (143.847 sec)\n"
     ]
    },
    {
     "name": "stdout",
     "output_type": "stream",
     "text": [
      "INFO:tensorflow:global_step/sec: 0.694763\n"
     ]
    },
    {
     "name": "stderr",
     "output_type": "stream",
     "text": [
      "I0609 03:25:22.336448 140290448865152 basic_session_run_hooks.py:680] global_step/sec: 0.694763\n"
     ]
    },
    {
     "name": "stdout",
     "output_type": "stream",
     "text": [
      "INFO:tensorflow:loss = -0.0, step = 15700 (143.936 sec)\n"
     ]
    },
    {
     "name": "stderr",
     "output_type": "stream",
     "text": [
      "I0609 03:25:22.341880 140290448865152 basic_session_run_hooks.py:247] loss = -0.0, step = 15700 (143.936 sec)\n"
     ]
    },
    {
     "name": "stdout",
     "output_type": "stream",
     "text": [
      "INFO:tensorflow:global_step/sec: 0.695345\n"
     ]
    },
    {
     "name": "stderr",
     "output_type": "stream",
     "text": [
      "I0609 03:27:46.149984 140290448865152 basic_session_run_hooks.py:680] global_step/sec: 0.695345\n"
     ]
    },
    {
     "name": "stdout",
     "output_type": "stream",
     "text": [
      "INFO:tensorflow:loss = -0.0, step = 15800 (143.813 sec)\n"
     ]
    },
    {
     "name": "stderr",
     "output_type": "stream",
     "text": [
      "I0609 03:27:46.154915 140290448865152 basic_session_run_hooks.py:247] loss = -0.0, step = 15800 (143.813 sec)\n"
     ]
    },
    {
     "name": "stdout",
     "output_type": "stream",
     "text": [
      "INFO:tensorflow:global_step/sec: 0.694854\n"
     ]
    },
    {
     "name": "stderr",
     "output_type": "stream",
     "text": [
      "I0609 03:30:10.065059 140290448865152 basic_session_run_hooks.py:680] global_step/sec: 0.694854\n"
     ]
    },
    {
     "name": "stdout",
     "output_type": "stream",
     "text": [
      "INFO:tensorflow:loss = -0.0, step = 15900 (143.913 sec)\n"
     ]
    },
    {
     "name": "stderr",
     "output_type": "stream",
     "text": [
      "I0609 03:30:10.067761 140290448865152 basic_session_run_hooks.py:247] loss = -0.0, step = 15900 (143.913 sec)\n"
     ]
    },
    {
     "name": "stdout",
     "output_type": "stream",
     "text": [
      "INFO:tensorflow:Saving checkpoints for 16000 into ./output_D/model.ckpt.\n"
     ]
    },
    {
     "name": "stderr",
     "output_type": "stream",
     "text": [
      "I0609 03:32:32.576130 140290448865152 basic_session_run_hooks.py:594] Saving checkpoints for 16000 into ./output_D/model.ckpt.\n"
     ]
    },
    {
     "name": "stdout",
     "output_type": "stream",
     "text": [
      "INFO:tensorflow:global_step/sec: 0.649896\n"
     ]
    },
    {
     "name": "stderr",
     "output_type": "stream",
     "text": [
      "I0609 03:32:43.935867 140290448865152 basic_session_run_hooks.py:680] global_step/sec: 0.649896\n"
     ]
    },
    {
     "name": "stdout",
     "output_type": "stream",
     "text": [
      "INFO:tensorflow:loss = 2.384163e-06, step = 16000 (153.871 sec)\n"
     ]
    },
    {
     "name": "stderr",
     "output_type": "stream",
     "text": [
      "I0609 03:32:43.938869 140290448865152 basic_session_run_hooks.py:247] loss = 2.384163e-06, step = 16000 (153.871 sec)\n"
     ]
    },
    {
     "name": "stdout",
     "output_type": "stream",
     "text": [
      "INFO:tensorflow:global_step/sec: 0.69227\n"
     ]
    },
    {
     "name": "stderr",
     "output_type": "stream",
     "text": [
      "I0609 03:35:08.388274 140290448865152 basic_session_run_hooks.py:680] global_step/sec: 0.69227\n"
     ]
    },
    {
     "name": "stdout",
     "output_type": "stream",
     "text": [
      "INFO:tensorflow:loss = 1.490116e-08, step = 16100 (144.457 sec)\n"
     ]
    },
    {
     "name": "stderr",
     "output_type": "stream",
     "text": [
      "I0609 03:35:08.395604 140290448865152 basic_session_run_hooks.py:247] loss = 1.490116e-08, step = 16100 (144.457 sec)\n"
     ]
    },
    {
     "name": "stdout",
     "output_type": "stream",
     "text": [
      "INFO:tensorflow:global_step/sec: 0.692975\n"
     ]
    },
    {
     "name": "stderr",
     "output_type": "stream",
     "text": [
      "I0609 03:37:32.693704 140290448865152 basic_session_run_hooks.py:680] global_step/sec: 0.692975\n"
     ]
    },
    {
     "name": "stdout",
     "output_type": "stream",
     "text": [
      "INFO:tensorflow:loss = 5.960463e-08, step = 16200 (144.308 sec)\n"
     ]
    },
    {
     "name": "stderr",
     "output_type": "stream",
     "text": [
      "I0609 03:37:32.703291 140290448865152 basic_session_run_hooks.py:247] loss = 5.960463e-08, step = 16200 (144.308 sec)\n"
     ]
    },
    {
     "name": "stdout",
     "output_type": "stream",
     "text": [
      "INFO:tensorflow:global_step/sec: 0.696066\n"
     ]
    },
    {
     "name": "stderr",
     "output_type": "stream",
     "text": [
      "I0609 03:39:56.358143 140290448865152 basic_session_run_hooks.py:680] global_step/sec: 0.696066\n"
     ]
    },
    {
     "name": "stdout",
     "output_type": "stream",
     "text": [
      "INFO:tensorflow:loss = -0.0, step = 16300 (143.659 sec)\n"
     ]
    },
    {
     "name": "stderr",
     "output_type": "stream",
     "text": [
      "I0609 03:39:56.362644 140290448865152 basic_session_run_hooks.py:247] loss = -0.0, step = 16300 (143.659 sec)\n"
     ]
    },
    {
     "name": "stdout",
     "output_type": "stream",
     "text": [
      "INFO:tensorflow:global_step/sec: 0.694813\n"
     ]
    },
    {
     "name": "stderr",
     "output_type": "stream",
     "text": [
      "I0609 03:42:20.281813 140290448865152 basic_session_run_hooks.py:680] global_step/sec: 0.694813\n"
     ]
    },
    {
     "name": "stdout",
     "output_type": "stream",
     "text": [
      "INFO:tensorflow:loss = -0.0, step = 16400 (143.925 sec)\n"
     ]
    },
    {
     "name": "stderr",
     "output_type": "stream",
     "text": [
      "I0609 03:42:20.287143 140290448865152 basic_session_run_hooks.py:247] loss = -0.0, step = 16400 (143.925 sec)\n"
     ]
    },
    {
     "name": "stdout",
     "output_type": "stream",
     "text": [
      "INFO:tensorflow:global_step/sec: 0.695063\n"
     ]
    },
    {
     "name": "stderr",
     "output_type": "stream",
     "text": [
      "I0609 03:44:44.153554 140290448865152 basic_session_run_hooks.py:680] global_step/sec: 0.695063\n"
     ]
    },
    {
     "name": "stdout",
     "output_type": "stream",
     "text": [
      "INFO:tensorflow:loss = -0.0, step = 16500 (143.874 sec)\n"
     ]
    },
    {
     "name": "stderr",
     "output_type": "stream",
     "text": [
      "I0609 03:44:44.161217 140290448865152 basic_session_run_hooks.py:247] loss = -0.0, step = 16500 (143.874 sec)\n"
     ]
    },
    {
     "name": "stdout",
     "output_type": "stream",
     "text": [
      "INFO:tensorflow:global_step/sec: 0.694333\n"
     ]
    },
    {
     "name": "stderr",
     "output_type": "stream",
     "text": [
      "I0609 03:47:08.176678 140290448865152 basic_session_run_hooks.py:680] global_step/sec: 0.694333\n"
     ]
    },
    {
     "name": "stdout",
     "output_type": "stream",
     "text": [
      "INFO:tensorflow:loss = -0.0, step = 16600 (144.023 sec)\n"
     ]
    },
    {
     "name": "stderr",
     "output_type": "stream",
     "text": [
      "I0609 03:47:08.184051 140290448865152 basic_session_run_hooks.py:247] loss = -0.0, step = 16600 (144.023 sec)\n"
     ]
    },
    {
     "name": "stdout",
     "output_type": "stream",
     "text": [
      "INFO:tensorflow:global_step/sec: 0.695636\n"
     ]
    },
    {
     "name": "stderr",
     "output_type": "stream",
     "text": [
      "I0609 03:49:31.929989 140290448865152 basic_session_run_hooks.py:680] global_step/sec: 0.695636\n"
     ]
    },
    {
     "name": "stdout",
     "output_type": "stream",
     "text": [
      "INFO:tensorflow:loss = 0.0013845785, step = 16700 (143.751 sec)\n"
     ]
    },
    {
     "name": "stderr",
     "output_type": "stream",
     "text": [
      "I0609 03:49:31.934935 140290448865152 basic_session_run_hooks.py:247] loss = 0.0013845785, step = 16700 (143.751 sec)\n"
     ]
    },
    {
     "name": "stdout",
     "output_type": "stream",
     "text": [
      "INFO:tensorflow:global_step/sec: 0.694957\n"
     ]
    },
    {
     "name": "stderr",
     "output_type": "stream",
     "text": [
      "I0609 03:51:55.823690 140290448865152 basic_session_run_hooks.py:680] global_step/sec: 0.694957\n"
     ]
    },
    {
     "name": "stdout",
     "output_type": "stream",
     "text": [
      "INFO:tensorflow:loss = 1.490116e-08, step = 16800 (143.892 sec)\n"
     ]
    },
    {
     "name": "stderr",
     "output_type": "stream",
     "text": [
      "I0609 03:51:55.827021 140290448865152 basic_session_run_hooks.py:247] loss = 1.490116e-08, step = 16800 (143.892 sec)\n"
     ]
    },
    {
     "name": "stdout",
     "output_type": "stream",
     "text": [
      "INFO:tensorflow:global_step/sec: 0.694165\n"
     ]
    },
    {
     "name": "stderr",
     "output_type": "stream",
     "text": [
      "I0609 03:54:19.881755 140290448865152 basic_session_run_hooks.py:680] global_step/sec: 0.694165\n"
     ]
    },
    {
     "name": "stdout",
     "output_type": "stream",
     "text": [
      "INFO:tensorflow:loss = 2.9802319e-08, step = 16900 (144.062 sec)\n"
     ]
    },
    {
     "name": "stderr",
     "output_type": "stream",
     "text": [
      "I0609 03:54:19.889021 140290448865152 basic_session_run_hooks.py:247] loss = 2.9802319e-08, step = 16900 (144.062 sec)\n"
     ]
    },
    {
     "name": "stdout",
     "output_type": "stream",
     "text": [
      "INFO:tensorflow:Saving checkpoints for 17000 into ./output_D/model.ckpt.\n"
     ]
    },
    {
     "name": "stderr",
     "output_type": "stream",
     "text": [
      "I0609 03:56:42.612693 140290448865152 basic_session_run_hooks.py:594] Saving checkpoints for 17000 into ./output_D/model.ckpt.\n"
     ]
    },
    {
     "name": "stdout",
     "output_type": "stream",
     "text": [
      "INFO:tensorflow:global_step/sec: 0.646706\n"
     ]
    },
    {
     "name": "stderr",
     "output_type": "stream",
     "text": [
      "I0609 03:56:54.511598 140290448865152 basic_session_run_hooks.py:680] global_step/sec: 0.646706\n"
     ]
    },
    {
     "name": "stdout",
     "output_type": "stream",
     "text": [
      "INFO:tensorflow:loss = -0.0, step = 17000 (154.625 sec)\n"
     ]
    },
    {
     "name": "stderr",
     "output_type": "stream",
     "text": [
      "I0609 03:56:54.514267 140290448865152 basic_session_run_hooks.py:247] loss = -0.0, step = 17000 (154.625 sec)\n"
     ]
    },
    {
     "name": "stdout",
     "output_type": "stream",
     "text": [
      "INFO:tensorflow:global_step/sec: 0.692297\n"
     ]
    },
    {
     "name": "stderr",
     "output_type": "stream",
     "text": [
      "I0609 03:59:18.958397 140290448865152 basic_session_run_hooks.py:680] global_step/sec: 0.692297\n"
     ]
    },
    {
     "name": "stdout",
     "output_type": "stream",
     "text": [
      "INFO:tensorflow:loss = 1.8626313e-06, step = 17100 (144.454 sec)\n"
     ]
    },
    {
     "name": "stderr",
     "output_type": "stream",
     "text": [
      "I0609 03:59:18.968043 140290448865152 basic_session_run_hooks.py:247] loss = 1.8626313e-06, step = 17100 (144.454 sec)\n"
     ]
    },
    {
     "name": "stdout",
     "output_type": "stream",
     "text": [
      "INFO:tensorflow:global_step/sec: 0.694315\n"
     ]
    },
    {
     "name": "stderr",
     "output_type": "stream",
     "text": [
      "I0609 04:01:42.985295 140290448865152 basic_session_run_hooks.py:680] global_step/sec: 0.694315\n"
     ]
    },
    {
     "name": "stdout",
     "output_type": "stream",
     "text": [
      "INFO:tensorflow:loss = 0.00075259287, step = 17200 (144.023 sec)\n"
     ]
    },
    {
     "name": "stderr",
     "output_type": "stream",
     "text": [
      "I0609 04:01:42.991082 140290448865152 basic_session_run_hooks.py:247] loss = 0.00075259287, step = 17200 (144.023 sec)\n"
     ]
    },
    {
     "name": "stdout",
     "output_type": "stream",
     "text": [
      "INFO:tensorflow:global_step/sec: 0.69472\n"
     ]
    },
    {
     "name": "stderr",
     "output_type": "stream",
     "text": [
      "I0609 04:04:06.928275 140290448865152 basic_session_run_hooks.py:680] global_step/sec: 0.69472\n"
     ]
    },
    {
     "name": "stdout",
     "output_type": "stream",
     "text": [
      "INFO:tensorflow:loss = 3.03202e-05, step = 17300 (143.942 sec)\n"
     ]
    },
    {
     "name": "stderr",
     "output_type": "stream",
     "text": [
      "I0609 04:04:06.932818 140290448865152 basic_session_run_hooks.py:247] loss = 3.03202e-05, step = 17300 (143.942 sec)\n"
     ]
    },
    {
     "name": "stdout",
     "output_type": "stream",
     "text": [
      "INFO:tensorflow:global_step/sec: 0.695515\n"
     ]
    },
    {
     "name": "stderr",
     "output_type": "stream",
     "text": [
      "I0609 04:06:30.706529 140290448865152 basic_session_run_hooks.py:680] global_step/sec: 0.695515\n"
     ]
    },
    {
     "name": "stdout",
     "output_type": "stream",
     "text": [
      "INFO:tensorflow:loss = 5.96045e-07, step = 17400 (143.779 sec)\n"
     ]
    },
    {
     "name": "stderr",
     "output_type": "stream",
     "text": [
      "I0609 04:06:30.712023 140290448865152 basic_session_run_hooks.py:247] loss = 5.96045e-07, step = 17400 (143.779 sec)\n"
     ]
    },
    {
     "name": "stdout",
     "output_type": "stream",
     "text": [
      "INFO:tensorflow:global_step/sec: 0.693894\n"
     ]
    },
    {
     "name": "stderr",
     "output_type": "stream",
     "text": [
      "I0609 04:08:54.820751 140290448865152 basic_session_run_hooks.py:680] global_step/sec: 0.693894\n"
     ]
    },
    {
     "name": "stdout",
     "output_type": "stream",
     "text": [
      "INFO:tensorflow:loss = 2.8312175e-07, step = 17500 (144.115 sec)\n"
     ]
    },
    {
     "name": "stderr",
     "output_type": "stream",
     "text": [
      "I0609 04:08:54.826576 140290448865152 basic_session_run_hooks.py:247] loss = 2.8312175e-07, step = 17500 (144.115 sec)\n"
     ]
    },
    {
     "name": "stdout",
     "output_type": "stream",
     "text": [
      "INFO:tensorflow:global_step/sec: 0.693534\n"
     ]
    },
    {
     "name": "stderr",
     "output_type": "stream",
     "text": [
      "I0609 04:11:19.009744 140290448865152 basic_session_run_hooks.py:680] global_step/sec: 0.693534\n"
     ]
    },
    {
     "name": "stdout",
     "output_type": "stream",
     "text": [
      "INFO:tensorflow:loss = -0.0, step = 17600 (144.191 sec)\n"
     ]
    },
    {
     "name": "stderr",
     "output_type": "stream",
     "text": [
      "I0609 04:11:19.017166 140290448865152 basic_session_run_hooks.py:247] loss = -0.0, step = 17600 (144.191 sec)\n"
     ]
    },
    {
     "name": "stdout",
     "output_type": "stream",
     "text": [
      "INFO:tensorflow:global_step/sec: 0.695004\n"
     ]
    },
    {
     "name": "stderr",
     "output_type": "stream",
     "text": [
      "I0609 04:13:42.893692 140290448865152 basic_session_run_hooks.py:680] global_step/sec: 0.695004\n"
     ]
    },
    {
     "name": "stdout",
     "output_type": "stream",
     "text": [
      "INFO:tensorflow:loss = 4.9173735e-07, step = 17700 (143.879 sec)\n"
     ]
    },
    {
     "name": "stderr",
     "output_type": "stream",
     "text": [
      "I0609 04:13:42.896428 140290448865152 basic_session_run_hooks.py:247] loss = 4.9173735e-07, step = 17700 (143.879 sec)\n"
     ]
    },
    {
     "name": "stdout",
     "output_type": "stream",
     "text": [
      "INFO:tensorflow:global_step/sec: 0.695541\n"
     ]
    },
    {
     "name": "stderr",
     "output_type": "stream",
     "text": [
      "I0609 04:16:06.666616 140290448865152 basic_session_run_hooks.py:680] global_step/sec: 0.695541\n"
     ]
    },
    {
     "name": "stdout",
     "output_type": "stream",
     "text": [
      "INFO:tensorflow:loss = -0.0, step = 17800 (143.778 sec)\n"
     ]
    },
    {
     "name": "stderr",
     "output_type": "stream",
     "text": [
      "I0609 04:16:06.674628 140290448865152 basic_session_run_hooks.py:247] loss = -0.0, step = 17800 (143.778 sec)\n"
     ]
    },
    {
     "name": "stdout",
     "output_type": "stream",
     "text": [
      "INFO:tensorflow:global_step/sec: 0.694199\n"
     ]
    },
    {
     "name": "stderr",
     "output_type": "stream",
     "text": [
      "I0609 04:18:30.717597 140290448865152 basic_session_run_hooks.py:680] global_step/sec: 0.694199\n"
     ]
    },
    {
     "name": "stdout",
     "output_type": "stream",
     "text": [
      "INFO:tensorflow:loss = 9.536707e-07, step = 17900 (144.049 sec)\n"
     ]
    },
    {
     "name": "stderr",
     "output_type": "stream",
     "text": [
      "I0609 04:18:30.724118 140290448865152 basic_session_run_hooks.py:247] loss = 9.536707e-07, step = 17900 (144.049 sec)\n"
     ]
    },
    {
     "name": "stdout",
     "output_type": "stream",
     "text": [
      "INFO:tensorflow:Saving checkpoints for 18000 into ./output_D/model.ckpt.\n"
     ]
    },
    {
     "name": "stderr",
     "output_type": "stream",
     "text": [
      "I0609 04:20:53.046294 140290448865152 basic_session_run_hooks.py:594] Saving checkpoints for 18000 into ./output_D/model.ckpt.\n"
     ]
    },
    {
     "name": "stdout",
     "output_type": "stream",
     "text": [
      "INFO:tensorflow:global_step/sec: 0.65022\n"
     ]
    },
    {
     "name": "stderr",
     "output_type": "stream",
     "text": [
      "I0609 04:21:04.511791 140290448865152 basic_session_run_hooks.py:680] global_step/sec: 0.65022\n"
     ]
    },
    {
     "name": "stdout",
     "output_type": "stream",
     "text": [
      "INFO:tensorflow:loss = -0.0, step = 18000 (153.797 sec)\n"
     ]
    },
    {
     "name": "stderr",
     "output_type": "stream",
     "text": [
      "I0609 04:21:04.520748 140290448865152 basic_session_run_hooks.py:247] loss = -0.0, step = 18000 (153.797 sec)\n"
     ]
    },
    {
     "name": "stdout",
     "output_type": "stream",
     "text": [
      "INFO:tensorflow:global_step/sec: 0.692763\n"
     ]
    },
    {
     "name": "stderr",
     "output_type": "stream",
     "text": [
      "I0609 04:23:28.861232 140290448865152 basic_session_run_hooks.py:680] global_step/sec: 0.692763\n"
     ]
    },
    {
     "name": "stdout",
     "output_type": "stream",
     "text": [
      "INFO:tensorflow:loss = -0.0, step = 18100 (144.343 sec)\n"
     ]
    },
    {
     "name": "stderr",
     "output_type": "stream",
     "text": [
      "I0609 04:23:28.863854 140290448865152 basic_session_run_hooks.py:247] loss = -0.0, step = 18100 (144.343 sec)\n"
     ]
    },
    {
     "name": "stdout",
     "output_type": "stream",
     "text": [
      "INFO:tensorflow:global_step/sec: 0.694225\n"
     ]
    },
    {
     "name": "stderr",
     "output_type": "stream",
     "text": [
      "I0609 04:25:52.906851 140290448865152 basic_session_run_hooks.py:680] global_step/sec: 0.694225\n"
     ]
    },
    {
     "name": "stdout",
     "output_type": "stream",
     "text": [
      "INFO:tensorflow:loss = -0.0, step = 18200 (144.048 sec)\n"
     ]
    },
    {
     "name": "stderr",
     "output_type": "stream",
     "text": [
      "I0609 04:25:52.912171 140290448865152 basic_session_run_hooks.py:247] loss = -0.0, step = 18200 (144.048 sec)\n"
     ]
    },
    {
     "name": "stdout",
     "output_type": "stream",
     "text": [
      "INFO:tensorflow:global_step/sec: 0.694937\n"
     ]
    },
    {
     "name": "stderr",
     "output_type": "stream",
     "text": [
      "I0609 04:28:16.804865 140290448865152 basic_session_run_hooks.py:680] global_step/sec: 0.694937\n"
     ]
    },
    {
     "name": "stdout",
     "output_type": "stream",
     "text": [
      "INFO:tensorflow:loss = 8.940694e-08, step = 18300 (143.901 sec)\n"
     ]
    },
    {
     "name": "stderr",
     "output_type": "stream",
     "text": [
      "I0609 04:28:16.813230 140290448865152 basic_session_run_hooks.py:247] loss = 8.940694e-08, step = 18300 (143.901 sec)\n"
     ]
    },
    {
     "name": "stdout",
     "output_type": "stream",
     "text": [
      "INFO:tensorflow:global_step/sec: 0.693332\n"
     ]
    },
    {
     "name": "stderr",
     "output_type": "stream",
     "text": [
      "I0609 04:30:41.035997 140290448865152 basic_session_run_hooks.py:680] global_step/sec: 0.693332\n"
     ]
    },
    {
     "name": "stdout",
     "output_type": "stream",
     "text": [
      "INFO:tensorflow:loss = -0.0, step = 18400 (144.227 sec)\n"
     ]
    },
    {
     "name": "stderr",
     "output_type": "stream",
     "text": [
      "I0609 04:30:41.040564 140290448865152 basic_session_run_hooks.py:247] loss = -0.0, step = 18400 (144.227 sec)\n"
     ]
    },
    {
     "name": "stdout",
     "output_type": "stream",
     "text": [
      "INFO:tensorflow:global_step/sec: 0.694557\n"
     ]
    },
    {
     "name": "stderr",
     "output_type": "stream",
     "text": [
      "I0609 04:33:05.012713 140290448865152 basic_session_run_hooks.py:680] global_step/sec: 0.694557\n"
     ]
    },
    {
     "name": "stdout",
     "output_type": "stream",
     "text": [
      "INFO:tensorflow:loss = 1.490116e-08, step = 18500 (143.979 sec)\n"
     ]
    },
    {
     "name": "stderr",
     "output_type": "stream",
     "text": [
      "I0609 04:33:05.020060 140290448865152 basic_session_run_hooks.py:247] loss = 1.490116e-08, step = 18500 (143.979 sec)\n"
     ]
    },
    {
     "name": "stdout",
     "output_type": "stream",
     "text": [
      "INFO:tensorflow:global_step/sec: 0.694577\n"
     ]
    },
    {
     "name": "stderr",
     "output_type": "stream",
     "text": [
      "I0609 04:35:28.985250 140290448865152 basic_session_run_hooks.py:680] global_step/sec: 0.694577\n"
     ]
    },
    {
     "name": "stdout",
     "output_type": "stream",
     "text": [
      "INFO:tensorflow:loss = 7.450579e-08, step = 18600 (143.970 sec)\n"
     ]
    },
    {
     "name": "stderr",
     "output_type": "stream",
     "text": [
      "I0609 04:35:28.990480 140290448865152 basic_session_run_hooks.py:247] loss = 7.450579e-08, step = 18600 (143.970 sec)\n"
     ]
    },
    {
     "name": "stdout",
     "output_type": "stream",
     "text": [
      "INFO:tensorflow:global_step/sec: 0.693919\n"
     ]
    },
    {
     "name": "stderr",
     "output_type": "stream",
     "text": [
      "I0609 04:37:53.094219 140290448865152 basic_session_run_hooks.py:680] global_step/sec: 0.693919\n"
     ]
    },
    {
     "name": "stdout",
     "output_type": "stream",
     "text": [
      "INFO:tensorflow:loss = -0.0, step = 18700 (144.109 sec)\n"
     ]
    },
    {
     "name": "stderr",
     "output_type": "stream",
     "text": [
      "I0609 04:37:53.099479 140290448865152 basic_session_run_hooks.py:247] loss = -0.0, step = 18700 (144.109 sec)\n"
     ]
    },
    {
     "name": "stdout",
     "output_type": "stream",
     "text": [
      "INFO:tensorflow:global_step/sec: 0.694479\n"
     ]
    },
    {
     "name": "stderr",
     "output_type": "stream",
     "text": [
      "I0609 04:40:17.086963 140290448865152 basic_session_run_hooks.py:680] global_step/sec: 0.694479\n"
     ]
    },
    {
     "name": "stdout",
     "output_type": "stream",
     "text": [
      "INFO:tensorflow:loss = 6.332834e-06, step = 18800 (143.994 sec)\n"
     ]
    },
    {
     "name": "stderr",
     "output_type": "stream",
     "text": [
      "I0609 04:40:17.093643 140290448865152 basic_session_run_hooks.py:247] loss = 6.332834e-06, step = 18800 (143.994 sec)\n"
     ]
    },
    {
     "name": "stdout",
     "output_type": "stream",
     "text": [
      "INFO:tensorflow:global_step/sec: 0.694809\n"
     ]
    },
    {
     "name": "stderr",
     "output_type": "stream",
     "text": [
      "I0609 04:42:41.011526 140290448865152 basic_session_run_hooks.py:680] global_step/sec: 0.694809\n"
     ]
    },
    {
     "name": "stdout",
     "output_type": "stream",
     "text": [
      "INFO:tensorflow:loss = 1.3112954e-06, step = 18900 (143.925 sec)\n"
     ]
    },
    {
     "name": "stderr",
     "output_type": "stream",
     "text": [
      "I0609 04:42:41.018829 140290448865152 basic_session_run_hooks.py:247] loss = 1.3112954e-06, step = 18900 (143.925 sec)\n"
     ]
    },
    {
     "name": "stdout",
     "output_type": "stream",
     "text": [
      "INFO:tensorflow:Saving checkpoints for 19000 into ./output_D/model.ckpt.\n"
     ]
    },
    {
     "name": "stderr",
     "output_type": "stream",
     "text": [
      "I0609 04:45:03.508410 140290448865152 basic_session_run_hooks.py:594] Saving checkpoints for 19000 into ./output_D/model.ckpt.\n"
     ]
    },
    {
     "name": "stdout",
     "output_type": "stream",
     "text": [
      "INFO:tensorflow:global_step/sec: 0.64941\n"
     ]
    },
    {
     "name": "stderr",
     "output_type": "stream",
     "text": [
      "I0609 04:45:14.997269 140290448865152 basic_session_run_hooks.py:680] global_step/sec: 0.64941\n"
     ]
    },
    {
     "name": "stdout",
     "output_type": "stream",
     "text": [
      "INFO:tensorflow:loss = -0.0, step = 19000 (153.987 sec)\n"
     ]
    },
    {
     "name": "stderr",
     "output_type": "stream",
     "text": [
      "I0609 04:45:15.005950 140290448865152 basic_session_run_hooks.py:247] loss = -0.0, step = 19000 (153.987 sec)\n"
     ]
    },
    {
     "name": "stdout",
     "output_type": "stream",
     "text": [
      "INFO:tensorflow:global_step/sec: 0.693168\n"
     ]
    },
    {
     "name": "stderr",
     "output_type": "stream",
     "text": [
      "I0609 04:47:39.262409 140290448865152 basic_session_run_hooks.py:680] global_step/sec: 0.693168\n"
     ]
    },
    {
     "name": "stdout",
     "output_type": "stream",
     "text": [
      "INFO:tensorflow:loss = 1.9117037e-05, step = 19100 (144.267 sec)\n"
     ]
    },
    {
     "name": "stderr",
     "output_type": "stream",
     "text": [
      "I0609 04:47:39.272717 140290448865152 basic_session_run_hooks.py:247] loss = 1.9117037e-05, step = 19100 (144.267 sec)\n"
     ]
    },
    {
     "name": "stdout",
     "output_type": "stream",
     "text": [
      "INFO:tensorflow:global_step/sec: 0.693182\n"
     ]
    },
    {
     "name": "stderr",
     "output_type": "stream",
     "text": [
      "I0609 04:50:03.524688 140290448865152 basic_session_run_hooks.py:680] global_step/sec: 0.693182\n"
     ]
    },
    {
     "name": "stdout",
     "output_type": "stream",
     "text": [
      "INFO:tensorflow:loss = -0.0, step = 19200 (144.259 sec)\n"
     ]
    },
    {
     "name": "stderr",
     "output_type": "stream",
     "text": [
      "I0609 04:50:03.531673 140290448865152 basic_session_run_hooks.py:247] loss = -0.0, step = 19200 (144.259 sec)\n"
     ]
    },
    {
     "name": "stdout",
     "output_type": "stream",
     "text": [
      "INFO:tensorflow:global_step/sec: 0.694816\n"
     ]
    },
    {
     "name": "stderr",
     "output_type": "stream",
     "text": [
      "I0609 04:52:27.447683 140290448865152 basic_session_run_hooks.py:680] global_step/sec: 0.694816\n"
     ]
    },
    {
     "name": "stdout",
     "output_type": "stream",
     "text": [
      "INFO:tensorflow:loss = -0.0, step = 19300 (143.920 sec)\n"
     ]
    },
    {
     "name": "stderr",
     "output_type": "stream",
     "text": [
      "I0609 04:52:27.452137 140290448865152 basic_session_run_hooks.py:247] loss = -0.0, step = 19300 (143.920 sec)\n"
     ]
    },
    {
     "name": "stdout",
     "output_type": "stream",
     "text": [
      "INFO:tensorflow:global_step/sec: 0.69548\n"
     ]
    },
    {
     "name": "stderr",
     "output_type": "stream",
     "text": [
      "I0609 04:54:51.233283 140290448865152 basic_session_run_hooks.py:680] global_step/sec: 0.69548\n"
     ]
    },
    {
     "name": "stdout",
     "output_type": "stream",
     "text": [
      "INFO:tensorflow:loss = -0.0, step = 19400 (143.786 sec)\n"
     ]
    },
    {
     "name": "stderr",
     "output_type": "stream",
     "text": [
      "I0609 04:54:51.238018 140290448865152 basic_session_run_hooks.py:247] loss = -0.0, step = 19400 (143.786 sec)\n"
     ]
    },
    {
     "name": "stdout",
     "output_type": "stream",
     "text": [
      "INFO:tensorflow:global_step/sec: 0.695493\n"
     ]
    },
    {
     "name": "stderr",
     "output_type": "stream",
     "text": [
      "I0609 04:57:15.016224 140290448865152 basic_session_run_hooks.py:680] global_step/sec: 0.695493\n"
     ]
    },
    {
     "name": "stdout",
     "output_type": "stream",
     "text": [
      "INFO:tensorflow:loss = 4.8725847e-06, step = 19500 (143.781 sec)\n"
     ]
    },
    {
     "name": "stderr",
     "output_type": "stream",
     "text": [
      "I0609 04:57:15.018842 140290448865152 basic_session_run_hooks.py:247] loss = 4.8725847e-06, step = 19500 (143.781 sec)\n"
     ]
    },
    {
     "name": "stdout",
     "output_type": "stream",
     "text": [
      "INFO:tensorflow:global_step/sec: 0.694392\n"
     ]
    },
    {
     "name": "stderr",
     "output_type": "stream",
     "text": [
      "I0609 04:59:39.027147 140290448865152 basic_session_run_hooks.py:680] global_step/sec: 0.694392\n"
     ]
    },
    {
     "name": "stdout",
     "output_type": "stream",
     "text": [
      "INFO:tensorflow:loss = -0.0, step = 19600 (144.015 sec)\n"
     ]
    },
    {
     "name": "stderr",
     "output_type": "stream",
     "text": [
      "I0609 04:59:39.033496 140290448865152 basic_session_run_hooks.py:247] loss = -0.0, step = 19600 (144.015 sec)\n"
     ]
    },
    {
     "name": "stdout",
     "output_type": "stream",
     "text": [
      "INFO:tensorflow:global_step/sec: 0.695335\n"
     ]
    },
    {
     "name": "stderr",
     "output_type": "stream",
     "text": [
      "I0609 05:02:02.842633 140290448865152 basic_session_run_hooks.py:680] global_step/sec: 0.695335\n"
     ]
    },
    {
     "name": "stdout",
     "output_type": "stream",
     "text": [
      "INFO:tensorflow:loss = -0.0, step = 19700 (143.812 sec)\n"
     ]
    },
    {
     "name": "stderr",
     "output_type": "stream",
     "text": [
      "I0609 05:02:02.845376 140290448865152 basic_session_run_hooks.py:247] loss = -0.0, step = 19700 (143.812 sec)\n"
     ]
    },
    {
     "name": "stdout",
     "output_type": "stream",
     "text": [
      "INFO:tensorflow:global_step/sec: 0.694774\n"
     ]
    },
    {
     "name": "stderr",
     "output_type": "stream",
     "text": [
      "I0609 05:04:26.774284 140290448865152 basic_session_run_hooks.py:680] global_step/sec: 0.694774\n"
     ]
    },
    {
     "name": "stdout",
     "output_type": "stream",
     "text": [
      "INFO:tensorflow:loss = -0.0, step = 19800 (143.933 sec)\n"
     ]
    },
    {
     "name": "stderr",
     "output_type": "stream",
     "text": [
      "I0609 05:04:26.778711 140290448865152 basic_session_run_hooks.py:247] loss = -0.0, step = 19800 (143.933 sec)\n"
     ]
    },
    {
     "name": "stdout",
     "output_type": "stream",
     "text": [
      "INFO:tensorflow:global_step/sec: 0.694319\n"
     ]
    },
    {
     "name": "stderr",
     "output_type": "stream",
     "text": [
      "I0609 05:06:50.800388 140290448865152 basic_session_run_hooks.py:680] global_step/sec: 0.694319\n"
     ]
    },
    {
     "name": "stdout",
     "output_type": "stream",
     "text": [
      "INFO:tensorflow:loss = -0.0, step = 19900 (144.030 sec)\n"
     ]
    },
    {
     "name": "stderr",
     "output_type": "stream",
     "text": [
      "I0609 05:06:50.808770 140290448865152 basic_session_run_hooks.py:247] loss = -0.0, step = 19900 (144.030 sec)\n"
     ]
    },
    {
     "name": "stdout",
     "output_type": "stream",
     "text": [
      "INFO:tensorflow:Saving checkpoints for 20000 into ./output_D/model.ckpt.\n"
     ]
    },
    {
     "name": "stderr",
     "output_type": "stream",
     "text": [
      "I0609 05:09:13.213647 140290448865152 basic_session_run_hooks.py:594] Saving checkpoints for 20000 into ./output_D/model.ckpt.\n"
     ]
    },
    {
     "name": "stdout",
     "output_type": "stream",
     "text": [
      "INFO:tensorflow:global_step/sec: 0.650185\n"
     ]
    },
    {
     "name": "stderr",
     "output_type": "stream",
     "text": [
      "I0609 05:09:24.602772 140290448865152 basic_session_run_hooks.py:680] global_step/sec: 0.650185\n"
     ]
    },
    {
     "name": "stdout",
     "output_type": "stream",
     "text": [
      "INFO:tensorflow:loss = -0.0, step = 20000 (153.796 sec)\n"
     ]
    },
    {
     "name": "stderr",
     "output_type": "stream",
     "text": [
      "I0609 05:09:24.605208 140290448865152 basic_session_run_hooks.py:247] loss = -0.0, step = 20000 (153.796 sec)\n"
     ]
    },
    {
     "name": "stdout",
     "output_type": "stream",
     "text": [
      "INFO:tensorflow:global_step/sec: 0.693281\n"
     ]
    },
    {
     "name": "stderr",
     "output_type": "stream",
     "text": [
      "I0609 05:11:48.844443 140290448865152 basic_session_run_hooks.py:680] global_step/sec: 0.693281\n"
     ]
    },
    {
     "name": "stdout",
     "output_type": "stream",
     "text": [
      "INFO:tensorflow:loss = -0.0, step = 20100 (144.249 sec)\n"
     ]
    },
    {
     "name": "stderr",
     "output_type": "stream",
     "text": [
      "I0609 05:11:48.854910 140290448865152 basic_session_run_hooks.py:247] loss = -0.0, step = 20100 (144.249 sec)\n"
     ]
    },
    {
     "name": "stdout",
     "output_type": "stream",
     "text": [
      "INFO:tensorflow:global_step/sec: 0.695943\n"
     ]
    },
    {
     "name": "stderr",
     "output_type": "stream",
     "text": [
      "I0609 05:14:12.534272 140290448865152 basic_session_run_hooks.py:680] global_step/sec: 0.695943\n"
     ]
    },
    {
     "name": "stdout",
     "output_type": "stream",
     "text": [
      "INFO:tensorflow:loss = -0.0, step = 20200 (143.684 sec)\n"
     ]
    },
    {
     "name": "stderr",
     "output_type": "stream",
     "text": [
      "I0609 05:14:12.539000 140290448865152 basic_session_run_hooks.py:247] loss = -0.0, step = 20200 (143.684 sec)\n"
     ]
    },
    {
     "name": "stdout",
     "output_type": "stream",
     "text": [
      "INFO:tensorflow:global_step/sec: 0.694485\n"
     ]
    },
    {
     "name": "stderr",
     "output_type": "stream",
     "text": [
      "I0609 05:16:36.525946 140290448865152 basic_session_run_hooks.py:680] global_step/sec: 0.694485\n"
     ]
    },
    {
     "name": "stdout",
     "output_type": "stream",
     "text": [
      "INFO:tensorflow:loss = 4.4703476e-08, step = 20300 (143.994 sec)\n"
     ]
    },
    {
     "name": "stderr",
     "output_type": "stream",
     "text": [
      "I0609 05:16:36.534435 140290448865152 basic_session_run_hooks.py:247] loss = 4.4703476e-08, step = 20300 (143.994 sec)\n"
     ]
    },
    {
     "name": "stdout",
     "output_type": "stream",
     "text": [
      "INFO:tensorflow:global_step/sec: 0.69375\n"
     ]
    },
    {
     "name": "stderr",
     "output_type": "stream",
     "text": [
      "I0609 05:19:00.670049 140290448865152 basic_session_run_hooks.py:680] global_step/sec: 0.69375\n"
     ]
    },
    {
     "name": "stdout",
     "output_type": "stream",
     "text": [
      "INFO:tensorflow:loss = 2.2351722e-07, step = 20400 (144.140 sec)\n"
     ]
    },
    {
     "name": "stderr",
     "output_type": "stream",
     "text": [
      "I0609 05:19:00.672546 140290448865152 basic_session_run_hooks.py:247] loss = 2.2351722e-07, step = 20400 (144.140 sec)\n"
     ]
    },
    {
     "name": "stdout",
     "output_type": "stream",
     "text": [
      "INFO:tensorflow:global_step/sec: 0.69542\n"
     ]
    },
    {
     "name": "stderr",
     "output_type": "stream",
     "text": [
      "I0609 05:21:24.468057 140290448865152 basic_session_run_hooks.py:680] global_step/sec: 0.69542\n"
     ]
    },
    {
     "name": "stdout",
     "output_type": "stream",
     "text": [
      "INFO:tensorflow:loss = -0.0, step = 20500 (143.798 sec)\n"
     ]
    },
    {
     "name": "stderr",
     "output_type": "stream",
     "text": [
      "I0609 05:21:24.470810 140290448865152 basic_session_run_hooks.py:247] loss = -0.0, step = 20500 (143.798 sec)\n"
     ]
    },
    {
     "name": "stdout",
     "output_type": "stream",
     "text": [
      "INFO:tensorflow:global_step/sec: 0.695589\n"
     ]
    },
    {
     "name": "stderr",
     "output_type": "stream",
     "text": [
      "I0609 05:23:48.231042 140290448865152 basic_session_run_hooks.py:680] global_step/sec: 0.695589\n"
     ]
    },
    {
     "name": "stdout",
     "output_type": "stream",
     "text": [
      "INFO:tensorflow:loss = 1.490116e-08, step = 20600 (143.763 sec)\n"
     ]
    },
    {
     "name": "stderr",
     "output_type": "stream",
     "text": [
      "I0609 05:23:48.233494 140290448865152 basic_session_run_hooks.py:247] loss = 1.490116e-08, step = 20600 (143.763 sec)\n"
     ]
    },
    {
     "name": "stdout",
     "output_type": "stream",
     "text": [
      "INFO:tensorflow:global_step/sec: 0.694323\n"
     ]
    },
    {
     "name": "stderr",
     "output_type": "stream",
     "text": [
      "I0609 05:26:12.256166 140290448865152 basic_session_run_hooks.py:680] global_step/sec: 0.694323\n"
     ]
    },
    {
     "name": "stdout",
     "output_type": "stream",
     "text": [
      "INFO:tensorflow:loss = -0.0, step = 20700 (144.030 sec)\n"
     ]
    },
    {
     "name": "stderr",
     "output_type": "stream",
     "text": [
      "I0609 05:26:12.263797 140290448865152 basic_session_run_hooks.py:247] loss = -0.0, step = 20700 (144.030 sec)\n"
     ]
    },
    {
     "name": "stdout",
     "output_type": "stream",
     "text": [
      "INFO:tensorflow:global_step/sec: 0.695621\n"
     ]
    },
    {
     "name": "stderr",
     "output_type": "stream",
     "text": [
      "I0609 05:28:36.012713 140290448865152 basic_session_run_hooks.py:680] global_step/sec: 0.695621\n"
     ]
    },
    {
     "name": "stdout",
     "output_type": "stream",
     "text": [
      "INFO:tensorflow:loss = 1.490116e-08, step = 20800 (143.754 sec)\n"
     ]
    },
    {
     "name": "stderr",
     "output_type": "stream",
     "text": [
      "I0609 05:28:36.017535 140290448865152 basic_session_run_hooks.py:247] loss = 1.490116e-08, step = 20800 (143.754 sec)\n"
     ]
    },
    {
     "name": "stdout",
     "output_type": "stream",
     "text": [
      "INFO:tensorflow:global_step/sec: 0.693471\n"
     ]
    },
    {
     "name": "stderr",
     "output_type": "stream",
     "text": [
      "I0609 05:31:00.214896 140290448865152 basic_session_run_hooks.py:680] global_step/sec: 0.693471\n"
     ]
    },
    {
     "name": "stdout",
     "output_type": "stream",
     "text": [
      "INFO:tensorflow:loss = 6.7055043e-07, step = 20900 (144.204 sec)\n"
     ]
    },
    {
     "name": "stderr",
     "output_type": "stream",
     "text": [
      "I0609 05:31:00.221307 140290448865152 basic_session_run_hooks.py:247] loss = 6.7055043e-07, step = 20900 (144.204 sec)\n"
     ]
    },
    {
     "name": "stdout",
     "output_type": "stream",
     "text": [
      "INFO:tensorflow:Saving checkpoints for 21000 into ./output_D/model.ckpt.\n"
     ]
    },
    {
     "name": "stderr",
     "output_type": "stream",
     "text": [
      "I0609 05:33:22.613804 140290448865152 basic_session_run_hooks.py:594] Saving checkpoints for 21000 into ./output_D/model.ckpt.\n"
     ]
    },
    {
     "name": "stdout",
     "output_type": "stream",
     "text": [
      "INFO:tensorflow:global_step/sec: 0.649606\n"
     ]
    },
    {
     "name": "stderr",
     "output_type": "stream",
     "text": [
      "I0609 05:33:34.154300 140290448865152 basic_session_run_hooks.py:680] global_step/sec: 0.649606\n"
     ]
    },
    {
     "name": "stdout",
     "output_type": "stream",
     "text": [
      "INFO:tensorflow:loss = -0.0, step = 21000 (153.936 sec)\n"
     ]
    },
    {
     "name": "stderr",
     "output_type": "stream",
     "text": [
      "I0609 05:33:34.156962 140290448865152 basic_session_run_hooks.py:247] loss = -0.0, step = 21000 (153.936 sec)\n"
     ]
    },
    {
     "name": "stdout",
     "output_type": "stream",
     "text": [
      "INFO:tensorflow:global_step/sec: 0.694324\n"
     ]
    },
    {
     "name": "stderr",
     "output_type": "stream",
     "text": [
      "I0609 05:35:58.179226 140290448865152 basic_session_run_hooks.py:680] global_step/sec: 0.694324\n"
     ]
    },
    {
     "name": "stdout",
     "output_type": "stream",
     "text": [
      "INFO:tensorflow:loss = -0.0, step = 21100 (144.031 sec)\n"
     ]
    },
    {
     "name": "stderr",
     "output_type": "stream",
     "text": [
      "I0609 05:35:58.187607 140290448865152 basic_session_run_hooks.py:247] loss = -0.0, step = 21100 (144.031 sec)\n"
     ]
    },
    {
     "name": "stdout",
     "output_type": "stream",
     "text": [
      "INFO:tensorflow:global_step/sec: 0.695316\n"
     ]
    },
    {
     "name": "stderr",
     "output_type": "stream",
     "text": [
      "I0609 05:38:21.998880 140290448865152 basic_session_run_hooks.py:680] global_step/sec: 0.695316\n"
     ]
    },
    {
     "name": "stdout",
     "output_type": "stream",
     "text": [
      "INFO:tensorflow:loss = 2.8312175e-07, step = 21200 (143.817 sec)\n"
     ]
    },
    {
     "name": "stderr",
     "output_type": "stream",
     "text": [
      "I0609 05:38:22.004707 140290448865152 basic_session_run_hooks.py:247] loss = 2.8312175e-07, step = 21200 (143.817 sec)\n"
     ]
    },
    {
     "name": "stdout",
     "output_type": "stream",
     "text": [
      "INFO:tensorflow:global_step/sec: 0.694449\n"
     ]
    },
    {
     "name": "stderr",
     "output_type": "stream",
     "text": [
      "I0609 05:40:45.997812 140290448865152 basic_session_run_hooks.py:680] global_step/sec: 0.694449\n"
     ]
    },
    {
     "name": "stdout",
     "output_type": "stream",
     "text": [
      "INFO:tensorflow:loss = 0.00031339444, step = 21300 (143.996 sec)\n"
     ]
    },
    {
     "name": "stderr",
     "output_type": "stream",
     "text": [
      "I0609 05:40:46.001074 140290448865152 basic_session_run_hooks.py:247] loss = 0.00031339444, step = 21300 (143.996 sec)\n"
     ]
    },
    {
     "name": "stdout",
     "output_type": "stream",
     "text": [
      "INFO:tensorflow:global_step/sec: 0.694401\n"
     ]
    },
    {
     "name": "stderr",
     "output_type": "stream",
     "text": [
      "I0609 05:43:10.006869 140290448865152 basic_session_run_hooks.py:680] global_step/sec: 0.694401\n"
     ]
    },
    {
     "name": "stdout",
     "output_type": "stream",
     "text": [
      "INFO:tensorflow:loss = -0.0, step = 21400 (144.008 sec)\n"
     ]
    },
    {
     "name": "stderr",
     "output_type": "stream",
     "text": [
      "I0609 05:43:10.009222 140290448865152 basic_session_run_hooks.py:247] loss = -0.0, step = 21400 (144.008 sec)\n"
     ]
    },
    {
     "name": "stdout",
     "output_type": "stream",
     "text": [
      "INFO:tensorflow:global_step/sec: 0.695145\n"
     ]
    },
    {
     "name": "stderr",
     "output_type": "stream",
     "text": [
      "I0609 05:45:33.861716 140290448865152 basic_session_run_hooks.py:680] global_step/sec: 0.695145\n"
     ]
    },
    {
     "name": "stdout",
     "output_type": "stream",
     "text": [
      "INFO:tensorflow:loss = 1.6540234e-06, step = 21500 (143.856 sec)\n"
     ]
    },
    {
     "name": "stderr",
     "output_type": "stream",
     "text": [
      "I0609 05:45:33.864901 140290448865152 basic_session_run_hooks.py:247] loss = 1.6540234e-06, step = 21500 (143.856 sec)\n"
     ]
    },
    {
     "name": "stdout",
     "output_type": "stream",
     "text": [
      "INFO:tensorflow:global_step/sec: 0.695845\n"
     ]
    },
    {
     "name": "stderr",
     "output_type": "stream",
     "text": [
      "I0609 05:47:57.571742 140290448865152 basic_session_run_hooks.py:680] global_step/sec: 0.695845\n"
     ]
    },
    {
     "name": "stdout",
     "output_type": "stream",
     "text": [
      "INFO:tensorflow:loss = 2.9802319e-08, step = 21600 (143.716 sec)\n"
     ]
    },
    {
     "name": "stderr",
     "output_type": "stream",
     "text": [
      "I0609 05:47:57.580980 140290448865152 basic_session_run_hooks.py:247] loss = 2.9802319e-08, step = 21600 (143.716 sec)\n"
     ]
    },
    {
     "name": "stdout",
     "output_type": "stream",
     "text": [
      "INFO:tensorflow:global_step/sec: 0.695788\n"
     ]
    },
    {
     "name": "stderr",
     "output_type": "stream",
     "text": [
      "I0609 05:50:21.293729 140290448865152 basic_session_run_hooks.py:680] global_step/sec: 0.695788\n"
     ]
    },
    {
     "name": "stdout",
     "output_type": "stream",
     "text": [
      "INFO:tensorflow:loss = -0.0, step = 21700 (143.715 sec)\n"
     ]
    },
    {
     "name": "stderr",
     "output_type": "stream",
     "text": [
      "I0609 05:50:21.296413 140290448865152 basic_session_run_hooks.py:247] loss = -0.0, step = 21700 (143.715 sec)\n"
     ]
    },
    {
     "name": "stdout",
     "output_type": "stream",
     "text": [
      "INFO:tensorflow:global_step/sec: 0.694931\n"
     ]
    },
    {
     "name": "stderr",
     "output_type": "stream",
     "text": [
      "I0609 05:52:45.192976 140290448865152 basic_session_run_hooks.py:680] global_step/sec: 0.694931\n"
     ]
    },
    {
     "name": "stdout",
     "output_type": "stream",
     "text": [
      "INFO:tensorflow:loss = -0.0, step = 21800 (143.902 sec)\n"
     ]
    },
    {
     "name": "stderr",
     "output_type": "stream",
     "text": [
      "I0609 05:52:45.197985 140290448865152 basic_session_run_hooks.py:247] loss = -0.0, step = 21800 (143.902 sec)\n"
     ]
    },
    {
     "name": "stdout",
     "output_type": "stream",
     "text": [
      "INFO:tensorflow:global_step/sec: 0.694134\n"
     ]
    },
    {
     "name": "stderr",
     "output_type": "stream",
     "text": [
      "I0609 05:55:09.257403 140290448865152 basic_session_run_hooks.py:680] global_step/sec: 0.694134\n"
     ]
    },
    {
     "name": "stdout",
     "output_type": "stream",
     "text": [
      "INFO:tensorflow:loss = 1.490116e-08, step = 21900 (144.067 sec)\n"
     ]
    },
    {
     "name": "stderr",
     "output_type": "stream",
     "text": [
      "I0609 05:55:09.264547 140290448865152 basic_session_run_hooks.py:247] loss = 1.490116e-08, step = 21900 (144.067 sec)\n"
     ]
    },
    {
     "name": "stdout",
     "output_type": "stream",
     "text": [
      "INFO:tensorflow:Saving checkpoints for 22000 into ./output_D/model.ckpt.\n"
     ]
    },
    {
     "name": "stderr",
     "output_type": "stream",
     "text": [
      "I0609 05:57:31.809953 140290448865152 basic_session_run_hooks.py:594] Saving checkpoints for 22000 into ./output_D/model.ckpt.\n"
     ]
    },
    {
     "name": "stdout",
     "output_type": "stream",
     "text": [
      "INFO:tensorflow:global_step/sec: 0.649522\n"
     ]
    },
    {
     "name": "stderr",
     "output_type": "stream",
     "text": [
      "I0609 05:57:43.216833 140290448865152 basic_session_run_hooks.py:680] global_step/sec: 0.649522\n"
     ]
    },
    {
     "name": "stdout",
     "output_type": "stream",
     "text": [
      "INFO:tensorflow:loss = -0.0, step = 22000 (153.960 sec)\n"
     ]
    },
    {
     "name": "stderr",
     "output_type": "stream",
     "text": [
      "I0609 05:57:43.224681 140290448865152 basic_session_run_hooks.py:247] loss = -0.0, step = 22000 (153.960 sec)\n"
     ]
    },
    {
     "name": "stdout",
     "output_type": "stream",
     "text": [
      "INFO:tensorflow:global_step/sec: 0.695286\n"
     ]
    },
    {
     "name": "stderr",
     "output_type": "stream",
     "text": [
      "I0609 06:00:07.042586 140290448865152 basic_session_run_hooks.py:680] global_step/sec: 0.695286\n"
     ]
    },
    {
     "name": "stdout",
     "output_type": "stream",
     "text": [
      "INFO:tensorflow:loss = -0.0, step = 22100 (143.822 sec)\n"
     ]
    },
    {
     "name": "stderr",
     "output_type": "stream",
     "text": [
      "I0609 06:00:07.049875 140290448865152 basic_session_run_hooks.py:247] loss = -0.0, step = 22100 (143.822 sec)\n"
     ]
    },
    {
     "name": "stdout",
     "output_type": "stream",
     "text": [
      "INFO:tensorflow:global_step/sec: 0.69462\n"
     ]
    },
    {
     "name": "stderr",
     "output_type": "stream",
     "text": [
      "I0609 06:02:31.006159 140290448865152 basic_session_run_hooks.py:680] global_step/sec: 0.69462\n"
     ]
    },
    {
     "name": "stdout",
     "output_type": "stream",
     "text": [
      "INFO:tensorflow:loss = -0.0, step = 22200 (143.966 sec)\n"
     ]
    },
    {
     "name": "stderr",
     "output_type": "stream",
     "text": [
      "I0609 06:02:31.012850 140290448865152 basic_session_run_hooks.py:247] loss = -0.0, step = 22200 (143.966 sec)\n"
     ]
    },
    {
     "ename": "KeyboardInterrupt",
     "evalue": "ignored",
     "output_type": "error",
     "traceback": [
      "\u001b[0;31m---------------------------------------------------------------------------\u001b[0m",
      "\u001b[0;31mKeyboardInterrupt\u001b[0m                         Traceback (most recent call last)",
      "\u001b[0;32m<ipython-input-3-042eac69eb23>\u001b[0m in \u001b[0;36m<module>\u001b[0;34m()\u001b[0m\n\u001b[1;32m     71\u001b[0m                                                  drop_remainder=False)\n\u001b[1;32m     72\u001b[0m \u001b[0;34m\u001b[0m\u001b[0m\n\u001b[0;32m---> 73\u001b[0;31m     \u001b[0mestimator\u001b[0m\u001b[0;34m.\u001b[0m\u001b[0mtrain\u001b[0m\u001b[0;34m(\u001b[0m\u001b[0minput_fn\u001b[0m\u001b[0;34m=\u001b[0m\u001b[0mtrain_input_fn\u001b[0m\u001b[0;34m,\u001b[0m \u001b[0mmax_steps\u001b[0m\u001b[0;34m=\u001b[0m\u001b[0mnum_train_steps\u001b[0m\u001b[0;34m)\u001b[0m\u001b[0;34m\u001b[0m\u001b[0;34m\u001b[0m\u001b[0m\n\u001b[0m\u001b[1;32m     74\u001b[0m \u001b[0;34m\u001b[0m\u001b[0m\n\u001b[1;32m     75\u001b[0m \u001b[0;31m# ---------------------------------------------------------------------------------------------------------------- #\u001b[0m\u001b[0;34m\u001b[0m\u001b[0;34m\u001b[0m\u001b[0;34m\u001b[0m\u001b[0m\n",
      "\u001b[0;32m/usr/local/lib/python3.6/dist-packages/tensorflow_estimator/python/estimator/estimator.py\u001b[0m in \u001b[0;36mtrain\u001b[0;34m(self, input_fn, hooks, steps, max_steps, saving_listeners)\u001b[0m\n\u001b[1;32m    356\u001b[0m \u001b[0;34m\u001b[0m\u001b[0m\n\u001b[1;32m    357\u001b[0m       \u001b[0msaving_listeners\u001b[0m \u001b[0;34m=\u001b[0m \u001b[0m_check_listeners_type\u001b[0m\u001b[0;34m(\u001b[0m\u001b[0msaving_listeners\u001b[0m\u001b[0;34m)\u001b[0m\u001b[0;34m\u001b[0m\u001b[0;34m\u001b[0m\u001b[0m\n\u001b[0;32m--> 358\u001b[0;31m       \u001b[0mloss\u001b[0m \u001b[0;34m=\u001b[0m \u001b[0mself\u001b[0m\u001b[0;34m.\u001b[0m\u001b[0m_train_model\u001b[0m\u001b[0;34m(\u001b[0m\u001b[0minput_fn\u001b[0m\u001b[0;34m,\u001b[0m \u001b[0mhooks\u001b[0m\u001b[0;34m,\u001b[0m \u001b[0msaving_listeners\u001b[0m\u001b[0;34m)\u001b[0m\u001b[0;34m\u001b[0m\u001b[0;34m\u001b[0m\u001b[0m\n\u001b[0m\u001b[1;32m    359\u001b[0m       \u001b[0mlogging\u001b[0m\u001b[0;34m.\u001b[0m\u001b[0minfo\u001b[0m\u001b[0;34m(\u001b[0m\u001b[0;34m'Loss for final step: %s.'\u001b[0m\u001b[0;34m,\u001b[0m \u001b[0mloss\u001b[0m\u001b[0;34m)\u001b[0m\u001b[0;34m\u001b[0m\u001b[0;34m\u001b[0m\u001b[0m\n\u001b[1;32m    360\u001b[0m       \u001b[0;32mreturn\u001b[0m \u001b[0mself\u001b[0m\u001b[0;34m\u001b[0m\u001b[0;34m\u001b[0m\u001b[0m\n",
      "\u001b[0;32m/usr/local/lib/python3.6/dist-packages/tensorflow_estimator/python/estimator/estimator.py\u001b[0m in \u001b[0;36m_train_model\u001b[0;34m(self, input_fn, hooks, saving_listeners)\u001b[0m\n\u001b[1;32m   1122\u001b[0m       \u001b[0;32mreturn\u001b[0m \u001b[0mself\u001b[0m\u001b[0;34m.\u001b[0m\u001b[0m_train_model_distributed\u001b[0m\u001b[0;34m(\u001b[0m\u001b[0minput_fn\u001b[0m\u001b[0;34m,\u001b[0m \u001b[0mhooks\u001b[0m\u001b[0;34m,\u001b[0m \u001b[0msaving_listeners\u001b[0m\u001b[0;34m)\u001b[0m\u001b[0;34m\u001b[0m\u001b[0;34m\u001b[0m\u001b[0m\n\u001b[1;32m   1123\u001b[0m     \u001b[0;32melse\u001b[0m\u001b[0;34m:\u001b[0m\u001b[0;34m\u001b[0m\u001b[0;34m\u001b[0m\u001b[0m\n\u001b[0;32m-> 1124\u001b[0;31m       \u001b[0;32mreturn\u001b[0m \u001b[0mself\u001b[0m\u001b[0;34m.\u001b[0m\u001b[0m_train_model_default\u001b[0m\u001b[0;34m(\u001b[0m\u001b[0minput_fn\u001b[0m\u001b[0;34m,\u001b[0m \u001b[0mhooks\u001b[0m\u001b[0;34m,\u001b[0m \u001b[0msaving_listeners\u001b[0m\u001b[0;34m)\u001b[0m\u001b[0;34m\u001b[0m\u001b[0;34m\u001b[0m\u001b[0m\n\u001b[0m\u001b[1;32m   1125\u001b[0m \u001b[0;34m\u001b[0m\u001b[0m\n\u001b[1;32m   1126\u001b[0m   \u001b[0;32mdef\u001b[0m \u001b[0m_train_model_default\u001b[0m\u001b[0;34m(\u001b[0m\u001b[0mself\u001b[0m\u001b[0;34m,\u001b[0m \u001b[0minput_fn\u001b[0m\u001b[0;34m,\u001b[0m \u001b[0mhooks\u001b[0m\u001b[0;34m,\u001b[0m \u001b[0msaving_listeners\u001b[0m\u001b[0;34m)\u001b[0m\u001b[0;34m:\u001b[0m\u001b[0;34m\u001b[0m\u001b[0;34m\u001b[0m\u001b[0m\n",
      "\u001b[0;32m/usr/local/lib/python3.6/dist-packages/tensorflow_estimator/python/estimator/estimator.py\u001b[0m in \u001b[0;36m_train_model_default\u001b[0;34m(self, input_fn, hooks, saving_listeners)\u001b[0m\n\u001b[1;32m   1156\u001b[0m       return self._train_with_estimator_spec(estimator_spec, worker_hooks,\n\u001b[1;32m   1157\u001b[0m                                              \u001b[0mhooks\u001b[0m\u001b[0;34m,\u001b[0m \u001b[0mglobal_step_tensor\u001b[0m\u001b[0;34m,\u001b[0m\u001b[0;34m\u001b[0m\u001b[0;34m\u001b[0m\u001b[0m\n\u001b[0;32m-> 1158\u001b[0;31m                                              saving_listeners)\n\u001b[0m\u001b[1;32m   1159\u001b[0m \u001b[0;34m\u001b[0m\u001b[0m\n\u001b[1;32m   1160\u001b[0m   \u001b[0;32mdef\u001b[0m \u001b[0m_train_model_distributed\u001b[0m\u001b[0;34m(\u001b[0m\u001b[0mself\u001b[0m\u001b[0;34m,\u001b[0m \u001b[0minput_fn\u001b[0m\u001b[0;34m,\u001b[0m \u001b[0mhooks\u001b[0m\u001b[0;34m,\u001b[0m \u001b[0msaving_listeners\u001b[0m\u001b[0;34m)\u001b[0m\u001b[0;34m:\u001b[0m\u001b[0;34m\u001b[0m\u001b[0;34m\u001b[0m\u001b[0m\n",
      "\u001b[0;32m/usr/local/lib/python3.6/dist-packages/tensorflow_estimator/python/estimator/estimator.py\u001b[0m in \u001b[0;36m_train_with_estimator_spec\u001b[0;34m(self, estimator_spec, worker_hooks, hooks, global_step_tensor, saving_listeners)\u001b[0m\n\u001b[1;32m   1405\u001b[0m       \u001b[0many_step_done\u001b[0m \u001b[0;34m=\u001b[0m \u001b[0;32mFalse\u001b[0m\u001b[0;34m\u001b[0m\u001b[0;34m\u001b[0m\u001b[0m\n\u001b[1;32m   1406\u001b[0m       \u001b[0;32mwhile\u001b[0m \u001b[0;32mnot\u001b[0m \u001b[0mmon_sess\u001b[0m\u001b[0;34m.\u001b[0m\u001b[0mshould_stop\u001b[0m\u001b[0;34m(\u001b[0m\u001b[0;34m)\u001b[0m\u001b[0;34m:\u001b[0m\u001b[0;34m\u001b[0m\u001b[0;34m\u001b[0m\u001b[0m\n\u001b[0;32m-> 1407\u001b[0;31m         \u001b[0m_\u001b[0m\u001b[0;34m,\u001b[0m \u001b[0mloss\u001b[0m \u001b[0;34m=\u001b[0m \u001b[0mmon_sess\u001b[0m\u001b[0;34m.\u001b[0m\u001b[0mrun\u001b[0m\u001b[0;34m(\u001b[0m\u001b[0;34m[\u001b[0m\u001b[0mestimator_spec\u001b[0m\u001b[0;34m.\u001b[0m\u001b[0mtrain_op\u001b[0m\u001b[0;34m,\u001b[0m \u001b[0mestimator_spec\u001b[0m\u001b[0;34m.\u001b[0m\u001b[0mloss\u001b[0m\u001b[0;34m]\u001b[0m\u001b[0;34m)\u001b[0m\u001b[0;34m\u001b[0m\u001b[0;34m\u001b[0m\u001b[0m\n\u001b[0m\u001b[1;32m   1408\u001b[0m         \u001b[0many_step_done\u001b[0m \u001b[0;34m=\u001b[0m \u001b[0;32mTrue\u001b[0m\u001b[0;34m\u001b[0m\u001b[0;34m\u001b[0m\u001b[0m\n\u001b[1;32m   1409\u001b[0m     \u001b[0;32mif\u001b[0m \u001b[0;32mnot\u001b[0m \u001b[0many_step_done\u001b[0m\u001b[0;34m:\u001b[0m\u001b[0;34m\u001b[0m\u001b[0;34m\u001b[0m\u001b[0m\n",
      "\u001b[0;32m/usr/local/lib/python3.6/dist-packages/tensorflow/python/training/monitored_session.py\u001b[0m in \u001b[0;36mrun\u001b[0;34m(self, fetches, feed_dict, options, run_metadata)\u001b[0m\n\u001b[1;32m    674\u001b[0m                           \u001b[0mfeed_dict\u001b[0m\u001b[0;34m=\u001b[0m\u001b[0mfeed_dict\u001b[0m\u001b[0;34m,\u001b[0m\u001b[0;34m\u001b[0m\u001b[0;34m\u001b[0m\u001b[0m\n\u001b[1;32m    675\u001b[0m                           \u001b[0moptions\u001b[0m\u001b[0;34m=\u001b[0m\u001b[0moptions\u001b[0m\u001b[0;34m,\u001b[0m\u001b[0;34m\u001b[0m\u001b[0;34m\u001b[0m\u001b[0m\n\u001b[0;32m--> 676\u001b[0;31m                           run_metadata=run_metadata)\n\u001b[0m\u001b[1;32m    677\u001b[0m \u001b[0;34m\u001b[0m\u001b[0m\n\u001b[1;32m    678\u001b[0m   \u001b[0;32mdef\u001b[0m \u001b[0mrun_step_fn\u001b[0m\u001b[0;34m(\u001b[0m\u001b[0mself\u001b[0m\u001b[0;34m,\u001b[0m \u001b[0mstep_fn\u001b[0m\u001b[0;34m)\u001b[0m\u001b[0;34m:\u001b[0m\u001b[0;34m\u001b[0m\u001b[0;34m\u001b[0m\u001b[0m\n",
      "\u001b[0;32m/usr/local/lib/python3.6/dist-packages/tensorflow/python/training/monitored_session.py\u001b[0m in \u001b[0;36mrun\u001b[0;34m(self, fetches, feed_dict, options, run_metadata)\u001b[0m\n\u001b[1;32m   1169\u001b[0m                               \u001b[0mfeed_dict\u001b[0m\u001b[0;34m=\u001b[0m\u001b[0mfeed_dict\u001b[0m\u001b[0;34m,\u001b[0m\u001b[0;34m\u001b[0m\u001b[0;34m\u001b[0m\u001b[0m\n\u001b[1;32m   1170\u001b[0m                               \u001b[0moptions\u001b[0m\u001b[0;34m=\u001b[0m\u001b[0moptions\u001b[0m\u001b[0;34m,\u001b[0m\u001b[0;34m\u001b[0m\u001b[0;34m\u001b[0m\u001b[0m\n\u001b[0;32m-> 1171\u001b[0;31m                               run_metadata=run_metadata)\n\u001b[0m\u001b[1;32m   1172\u001b[0m       \u001b[0;32mexcept\u001b[0m \u001b[0m_PREEMPTION_ERRORS\u001b[0m \u001b[0;32mas\u001b[0m \u001b[0me\u001b[0m\u001b[0;34m:\u001b[0m\u001b[0;34m\u001b[0m\u001b[0;34m\u001b[0m\u001b[0m\n\u001b[1;32m   1173\u001b[0m         logging.info('An error was raised. This may be due to a preemption in '\n",
      "\u001b[0;32m/usr/local/lib/python3.6/dist-packages/tensorflow/python/training/monitored_session.py\u001b[0m in \u001b[0;36mrun\u001b[0;34m(self, *args, **kwargs)\u001b[0m\n\u001b[1;32m   1253\u001b[0m   \u001b[0;32mdef\u001b[0m \u001b[0mrun\u001b[0m\u001b[0;34m(\u001b[0m\u001b[0mself\u001b[0m\u001b[0;34m,\u001b[0m \u001b[0;34m*\u001b[0m\u001b[0margs\u001b[0m\u001b[0;34m,\u001b[0m \u001b[0;34m**\u001b[0m\u001b[0mkwargs\u001b[0m\u001b[0;34m)\u001b[0m\u001b[0;34m:\u001b[0m\u001b[0;34m\u001b[0m\u001b[0;34m\u001b[0m\u001b[0m\n\u001b[1;32m   1254\u001b[0m     \u001b[0;32mtry\u001b[0m\u001b[0;34m:\u001b[0m\u001b[0;34m\u001b[0m\u001b[0;34m\u001b[0m\u001b[0m\n\u001b[0;32m-> 1255\u001b[0;31m       \u001b[0;32mreturn\u001b[0m \u001b[0mself\u001b[0m\u001b[0;34m.\u001b[0m\u001b[0m_sess\u001b[0m\u001b[0;34m.\u001b[0m\u001b[0mrun\u001b[0m\u001b[0;34m(\u001b[0m\u001b[0;34m*\u001b[0m\u001b[0margs\u001b[0m\u001b[0;34m,\u001b[0m \u001b[0;34m**\u001b[0m\u001b[0mkwargs\u001b[0m\u001b[0;34m)\u001b[0m\u001b[0;34m\u001b[0m\u001b[0;34m\u001b[0m\u001b[0m\n\u001b[0m\u001b[1;32m   1256\u001b[0m     \u001b[0;32mexcept\u001b[0m \u001b[0m_PREEMPTION_ERRORS\u001b[0m\u001b[0;34m:\u001b[0m\u001b[0;34m\u001b[0m\u001b[0;34m\u001b[0m\u001b[0m\n\u001b[1;32m   1257\u001b[0m       \u001b[0;32mraise\u001b[0m\u001b[0;34m\u001b[0m\u001b[0;34m\u001b[0m\u001b[0m\n",
      "\u001b[0;32m/usr/local/lib/python3.6/dist-packages/tensorflow/python/training/monitored_session.py\u001b[0m in \u001b[0;36mrun\u001b[0;34m(self, fetches, feed_dict, options, run_metadata)\u001b[0m\n\u001b[1;32m   1325\u001b[0m                                   \u001b[0mfeed_dict\u001b[0m\u001b[0;34m=\u001b[0m\u001b[0mfeed_dict\u001b[0m\u001b[0;34m,\u001b[0m\u001b[0;34m\u001b[0m\u001b[0;34m\u001b[0m\u001b[0m\n\u001b[1;32m   1326\u001b[0m                                   \u001b[0moptions\u001b[0m\u001b[0;34m=\u001b[0m\u001b[0moptions\u001b[0m\u001b[0;34m,\u001b[0m\u001b[0;34m\u001b[0m\u001b[0;34m\u001b[0m\u001b[0m\n\u001b[0;32m-> 1327\u001b[0;31m                                   run_metadata=run_metadata)\n\u001b[0m\u001b[1;32m   1328\u001b[0m \u001b[0;34m\u001b[0m\u001b[0m\n\u001b[1;32m   1329\u001b[0m     \u001b[0;32mfor\u001b[0m \u001b[0mhook\u001b[0m \u001b[0;32min\u001b[0m \u001b[0mself\u001b[0m\u001b[0;34m.\u001b[0m\u001b[0m_hooks\u001b[0m\u001b[0;34m:\u001b[0m\u001b[0;34m\u001b[0m\u001b[0;34m\u001b[0m\u001b[0m\n",
      "\u001b[0;32m/usr/local/lib/python3.6/dist-packages/tensorflow/python/training/monitored_session.py\u001b[0m in \u001b[0;36mrun\u001b[0;34m(self, *args, **kwargs)\u001b[0m\n\u001b[1;32m   1089\u001b[0m \u001b[0;34m\u001b[0m\u001b[0m\n\u001b[1;32m   1090\u001b[0m   \u001b[0;32mdef\u001b[0m \u001b[0mrun\u001b[0m\u001b[0;34m(\u001b[0m\u001b[0mself\u001b[0m\u001b[0;34m,\u001b[0m \u001b[0;34m*\u001b[0m\u001b[0margs\u001b[0m\u001b[0;34m,\u001b[0m \u001b[0;34m**\u001b[0m\u001b[0mkwargs\u001b[0m\u001b[0;34m)\u001b[0m\u001b[0;34m:\u001b[0m\u001b[0;34m\u001b[0m\u001b[0;34m\u001b[0m\u001b[0m\n\u001b[0;32m-> 1091\u001b[0;31m     \u001b[0;32mreturn\u001b[0m \u001b[0mself\u001b[0m\u001b[0;34m.\u001b[0m\u001b[0m_sess\u001b[0m\u001b[0;34m.\u001b[0m\u001b[0mrun\u001b[0m\u001b[0;34m(\u001b[0m\u001b[0;34m*\u001b[0m\u001b[0margs\u001b[0m\u001b[0;34m,\u001b[0m \u001b[0;34m**\u001b[0m\u001b[0mkwargs\u001b[0m\u001b[0;34m)\u001b[0m\u001b[0;34m\u001b[0m\u001b[0;34m\u001b[0m\u001b[0m\n\u001b[0m\u001b[1;32m   1092\u001b[0m \u001b[0;34m\u001b[0m\u001b[0m\n\u001b[1;32m   1093\u001b[0m   \u001b[0;32mdef\u001b[0m \u001b[0mrun_step_fn\u001b[0m\u001b[0;34m(\u001b[0m\u001b[0mself\u001b[0m\u001b[0;34m,\u001b[0m \u001b[0mstep_fn\u001b[0m\u001b[0;34m,\u001b[0m \u001b[0mraw_session\u001b[0m\u001b[0;34m,\u001b[0m \u001b[0mrun_with_hooks\u001b[0m\u001b[0;34m)\u001b[0m\u001b[0;34m:\u001b[0m\u001b[0;34m\u001b[0m\u001b[0;34m\u001b[0m\u001b[0m\n",
      "\u001b[0;32m/usr/local/lib/python3.6/dist-packages/tensorflow/python/client/session.py\u001b[0m in \u001b[0;36mrun\u001b[0;34m(self, fetches, feed_dict, options, run_metadata)\u001b[0m\n\u001b[1;32m    927\u001b[0m     \u001b[0;32mtry\u001b[0m\u001b[0;34m:\u001b[0m\u001b[0;34m\u001b[0m\u001b[0;34m\u001b[0m\u001b[0m\n\u001b[1;32m    928\u001b[0m       result = self._run(None, fetches, feed_dict, options_ptr,\n\u001b[0;32m--> 929\u001b[0;31m                          run_metadata_ptr)\n\u001b[0m\u001b[1;32m    930\u001b[0m       \u001b[0;32mif\u001b[0m \u001b[0mrun_metadata\u001b[0m\u001b[0;34m:\u001b[0m\u001b[0;34m\u001b[0m\u001b[0;34m\u001b[0m\u001b[0m\n\u001b[1;32m    931\u001b[0m         \u001b[0mproto_data\u001b[0m \u001b[0;34m=\u001b[0m \u001b[0mtf_session\u001b[0m\u001b[0;34m.\u001b[0m\u001b[0mTF_GetBuffer\u001b[0m\u001b[0;34m(\u001b[0m\u001b[0mrun_metadata_ptr\u001b[0m\u001b[0;34m)\u001b[0m\u001b[0;34m\u001b[0m\u001b[0;34m\u001b[0m\u001b[0m\n",
      "\u001b[0;32m/usr/local/lib/python3.6/dist-packages/tensorflow/python/client/session.py\u001b[0m in \u001b[0;36m_run\u001b[0;34m(self, handle, fetches, feed_dict, options, run_metadata)\u001b[0m\n\u001b[1;32m   1150\u001b[0m     \u001b[0;32mif\u001b[0m \u001b[0mfinal_fetches\u001b[0m \u001b[0;32mor\u001b[0m \u001b[0mfinal_targets\u001b[0m \u001b[0;32mor\u001b[0m \u001b[0;34m(\u001b[0m\u001b[0mhandle\u001b[0m \u001b[0;32mand\u001b[0m \u001b[0mfeed_dict_tensor\u001b[0m\u001b[0;34m)\u001b[0m\u001b[0;34m:\u001b[0m\u001b[0;34m\u001b[0m\u001b[0;34m\u001b[0m\u001b[0m\n\u001b[1;32m   1151\u001b[0m       results = self._do_run(handle, final_targets, final_fetches,\n\u001b[0;32m-> 1152\u001b[0;31m                              feed_dict_tensor, options, run_metadata)\n\u001b[0m\u001b[1;32m   1153\u001b[0m     \u001b[0;32melse\u001b[0m\u001b[0;34m:\u001b[0m\u001b[0;34m\u001b[0m\u001b[0;34m\u001b[0m\u001b[0m\n\u001b[1;32m   1154\u001b[0m       \u001b[0mresults\u001b[0m \u001b[0;34m=\u001b[0m \u001b[0;34m[\u001b[0m\u001b[0;34m]\u001b[0m\u001b[0;34m\u001b[0m\u001b[0;34m\u001b[0m\u001b[0m\n",
      "\u001b[0;32m/usr/local/lib/python3.6/dist-packages/tensorflow/python/client/session.py\u001b[0m in \u001b[0;36m_do_run\u001b[0;34m(self, handle, target_list, fetch_list, feed_dict, options, run_metadata)\u001b[0m\n\u001b[1;32m   1326\u001b[0m     \u001b[0;32mif\u001b[0m \u001b[0mhandle\u001b[0m \u001b[0;32mis\u001b[0m \u001b[0;32mNone\u001b[0m\u001b[0;34m:\u001b[0m\u001b[0;34m\u001b[0m\u001b[0;34m\u001b[0m\u001b[0m\n\u001b[1;32m   1327\u001b[0m       return self._do_call(_run_fn, feeds, fetches, targets, options,\n\u001b[0;32m-> 1328\u001b[0;31m                            run_metadata)\n\u001b[0m\u001b[1;32m   1329\u001b[0m     \u001b[0;32melse\u001b[0m\u001b[0;34m:\u001b[0m\u001b[0;34m\u001b[0m\u001b[0;34m\u001b[0m\u001b[0m\n\u001b[1;32m   1330\u001b[0m       \u001b[0;32mreturn\u001b[0m \u001b[0mself\u001b[0m\u001b[0;34m.\u001b[0m\u001b[0m_do_call\u001b[0m\u001b[0;34m(\u001b[0m\u001b[0m_prun_fn\u001b[0m\u001b[0;34m,\u001b[0m \u001b[0mhandle\u001b[0m\u001b[0;34m,\u001b[0m \u001b[0mfeeds\u001b[0m\u001b[0;34m,\u001b[0m \u001b[0mfetches\u001b[0m\u001b[0;34m)\u001b[0m\u001b[0;34m\u001b[0m\u001b[0;34m\u001b[0m\u001b[0m\n",
      "\u001b[0;32m/usr/local/lib/python3.6/dist-packages/tensorflow/python/client/session.py\u001b[0m in \u001b[0;36m_do_call\u001b[0;34m(self, fn, *args)\u001b[0m\n\u001b[1;32m   1332\u001b[0m   \u001b[0;32mdef\u001b[0m \u001b[0m_do_call\u001b[0m\u001b[0;34m(\u001b[0m\u001b[0mself\u001b[0m\u001b[0;34m,\u001b[0m \u001b[0mfn\u001b[0m\u001b[0;34m,\u001b[0m \u001b[0;34m*\u001b[0m\u001b[0margs\u001b[0m\u001b[0;34m)\u001b[0m\u001b[0;34m:\u001b[0m\u001b[0;34m\u001b[0m\u001b[0;34m\u001b[0m\u001b[0m\n\u001b[1;32m   1333\u001b[0m     \u001b[0;32mtry\u001b[0m\u001b[0;34m:\u001b[0m\u001b[0;34m\u001b[0m\u001b[0;34m\u001b[0m\u001b[0m\n\u001b[0;32m-> 1334\u001b[0;31m       \u001b[0;32mreturn\u001b[0m \u001b[0mfn\u001b[0m\u001b[0;34m(\u001b[0m\u001b[0;34m*\u001b[0m\u001b[0margs\u001b[0m\u001b[0;34m)\u001b[0m\u001b[0;34m\u001b[0m\u001b[0;34m\u001b[0m\u001b[0m\n\u001b[0m\u001b[1;32m   1335\u001b[0m     \u001b[0;32mexcept\u001b[0m \u001b[0merrors\u001b[0m\u001b[0;34m.\u001b[0m\u001b[0mOpError\u001b[0m \u001b[0;32mas\u001b[0m \u001b[0me\u001b[0m\u001b[0;34m:\u001b[0m\u001b[0;34m\u001b[0m\u001b[0;34m\u001b[0m\u001b[0m\n\u001b[1;32m   1336\u001b[0m       \u001b[0mmessage\u001b[0m \u001b[0;34m=\u001b[0m \u001b[0mcompat\u001b[0m\u001b[0;34m.\u001b[0m\u001b[0mas_text\u001b[0m\u001b[0;34m(\u001b[0m\u001b[0me\u001b[0m\u001b[0;34m.\u001b[0m\u001b[0mmessage\u001b[0m\u001b[0;34m)\u001b[0m\u001b[0;34m\u001b[0m\u001b[0;34m\u001b[0m\u001b[0m\n",
      "\u001b[0;32m/usr/local/lib/python3.6/dist-packages/tensorflow/python/client/session.py\u001b[0m in \u001b[0;36m_run_fn\u001b[0;34m(feed_dict, fetch_list, target_list, options, run_metadata)\u001b[0m\n\u001b[1;32m   1317\u001b[0m       \u001b[0mself\u001b[0m\u001b[0;34m.\u001b[0m\u001b[0m_extend_graph\u001b[0m\u001b[0;34m(\u001b[0m\u001b[0;34m)\u001b[0m\u001b[0;34m\u001b[0m\u001b[0;34m\u001b[0m\u001b[0m\n\u001b[1;32m   1318\u001b[0m       return self._call_tf_sessionrun(\n\u001b[0;32m-> 1319\u001b[0;31m           options, feed_dict, fetch_list, target_list, run_metadata)\n\u001b[0m\u001b[1;32m   1320\u001b[0m \u001b[0;34m\u001b[0m\u001b[0m\n\u001b[1;32m   1321\u001b[0m     \u001b[0;32mdef\u001b[0m \u001b[0m_prun_fn\u001b[0m\u001b[0;34m(\u001b[0m\u001b[0mhandle\u001b[0m\u001b[0;34m,\u001b[0m \u001b[0mfeed_dict\u001b[0m\u001b[0;34m,\u001b[0m \u001b[0mfetch_list\u001b[0m\u001b[0;34m)\u001b[0m\u001b[0;34m:\u001b[0m\u001b[0;34m\u001b[0m\u001b[0;34m\u001b[0m\u001b[0m\n",
      "\u001b[0;32m/usr/local/lib/python3.6/dist-packages/tensorflow/python/client/session.py\u001b[0m in \u001b[0;36m_call_tf_sessionrun\u001b[0;34m(self, options, feed_dict, fetch_list, target_list, run_metadata)\u001b[0m\n\u001b[1;32m   1405\u001b[0m     return tf_session.TF_SessionRun_wrapper(\n\u001b[1;32m   1406\u001b[0m         \u001b[0mself\u001b[0m\u001b[0;34m.\u001b[0m\u001b[0m_session\u001b[0m\u001b[0;34m,\u001b[0m \u001b[0moptions\u001b[0m\u001b[0;34m,\u001b[0m \u001b[0mfeed_dict\u001b[0m\u001b[0;34m,\u001b[0m \u001b[0mfetch_list\u001b[0m\u001b[0;34m,\u001b[0m \u001b[0mtarget_list\u001b[0m\u001b[0;34m,\u001b[0m\u001b[0;34m\u001b[0m\u001b[0;34m\u001b[0m\u001b[0m\n\u001b[0;32m-> 1407\u001b[0;31m         run_metadata)\n\u001b[0m\u001b[1;32m   1408\u001b[0m \u001b[0;34m\u001b[0m\u001b[0m\n\u001b[1;32m   1409\u001b[0m   \u001b[0;32mdef\u001b[0m \u001b[0m_call_tf_sessionprun\u001b[0m\u001b[0;34m(\u001b[0m\u001b[0mself\u001b[0m\u001b[0;34m,\u001b[0m \u001b[0mhandle\u001b[0m\u001b[0;34m,\u001b[0m \u001b[0mfeed_dict\u001b[0m\u001b[0;34m,\u001b[0m \u001b[0mfetch_list\u001b[0m\u001b[0;34m)\u001b[0m\u001b[0;34m:\u001b[0m\u001b[0;34m\u001b[0m\u001b[0;34m\u001b[0m\u001b[0m\n",
      "\u001b[0;31mKeyboardInterrupt\u001b[0m: "
     ]
    }
   ],
   "source": [
    "if not(FLAGS.bert_model_hub or (FLAGS.bert_dir and FLAGS.init_checkpoint)):\n",
    "    raise ValueError(\"bert_model_hub or (bert_config_file and init_checkpoint)\")\n",
    "\n",
    "# ---------------------------------------------------------------------------------------------------------------- #\n",
    "# Create output directory\n",
    "tf.gfile.MakeDirs(FLAGS.output_dir)\n",
    "\n",
    "# ---------------------------------------------------------------------------------------------------------------- #\n",
    "# Processor\n",
    "processor = SctProcessor()\n",
    "label_list = processor.get_labels()\n",
    "\n",
    "bert_config = None\n",
    "if not FLAGS.init_checkpoint:\n",
    "    tokenizer = create_tokenizer_from_hub_module(FLAGS.bert_model_hub)\n",
    "\n",
    "else:\n",
    "    tokenizer = tokenization.FullTokenizer(vocab_file=os.path.join(FLAGS.bert_dir, \"vocab.txt\"),\n",
    "                                           do_lower_case=False)\n",
    "    bert_config = get_config(os.path.join(FLAGS.bert_dir, \"bert_config.json\"))\n",
    "\n",
    "# ---------------------------------------------------------------------------------------------------------------- #\n",
    "# Model and Estimator\n",
    "train_examples = None\n",
    "num_train_steps = None\n",
    "num_warmup_steps = None\n",
    "if FLAGS.do_train:\n",
    "    train_examples = processor.get_train_examples(FLAGS.data_dir)\n",
    "    num_train_steps = int(len(train_examples) / FLAGS.batch_size * FLAGS.num_train_epochs)\n",
    "    num_warmup_steps = int(num_train_steps * FLAGS.warmup_proportion)\n",
    "\n",
    "run_config = tf.estimator.RunConfig(model_dir=FLAGS.output_dir,\n",
    "                                    save_summary_steps=10,\n",
    "                                    save_checkpoints_steps=1000)\n",
    "\n",
    "model_fn = model_fn_builder(bert_model_hub=FLAGS.bert_model_hub,\n",
    "                            bert_trainable=FLAGS.bert_trainable,\n",
    "                            bert_config=bert_config,\n",
    "                            init_checkpoint=FLAGS.init_checkpoint,\n",
    "                            num_labels=len(label_list),\n",
    "                            learning_rate=FLAGS.learning_rate,\n",
    "                            num_train_steps=num_train_steps,\n",
    "                            num_warmup_steps=num_warmup_steps)\n",
    "\n",
    "params = {\n",
    "    \"batch_size\": FLAGS.batch_size,\n",
    "}\n",
    "\n",
    "estimator = tf.estimator.Estimator(model_fn=model_fn,\n",
    "                                   config=run_config,\n",
    "                                   params=params)\n",
    "\n",
    "# ---------------------------------------------------------------------------------------------------------------- #\n",
    "# Training\n",
    "if FLAGS.do_train:\n",
    "    train_file = os.path.join(FLAGS.data_dir, \"train.tf_record\")\n",
    "    file_based_convert_examples_to_features(train_examples,\n",
    "                                            label_list,\n",
    "                                            FLAGS.max_seq_length,\n",
    "                                            tokenizer,\n",
    "                                            train_file)\n",
    "\n",
    "    tf.logging.info(\"***** Running training *****\")\n",
    "    tf.logging.info(\"  Num examples = %d\", len(train_examples))\n",
    "    tf.logging.info(\"  Batch size = %d\", FLAGS.batch_size)\n",
    "    tf.logging.info(\"  Num steps = %d\", num_train_steps)\n",
    "\n",
    "    train_input_fn = file_based_input_fn_builder(input_file=train_file,\n",
    "                                                 seq_length=FLAGS.max_seq_length,\n",
    "                                                 is_training=True,\n",
    "                                                 drop_remainder=False)\n",
    "\n",
    "    estimator.train(input_fn=train_input_fn, max_steps=num_train_steps)\n",
    "\n",
    "# ---------------------------------------------------------------------------------------------------------------- #\n",
    "# Evaluation\n",
    "if FLAGS.do_eval:\n",
    "    eval_examples = processor.get_dev_examples(FLAGS.data_dir)\n",
    "\n",
    "    eval_file = os.path.join(FLAGS.data_dir, \"eval.tf_record\")\n",
    "    file_based_convert_examples_to_features(eval_examples,\n",
    "                                            label_list,\n",
    "                                            FLAGS.max_seq_length,\n",
    "                                            tokenizer,\n",
    "                                            eval_file)\n",
    "\n",
    "    tf.logging.info(\"***** Running evaluation *****\")\n",
    "    tf.logging.info(\"  Num examples = %d\", len(eval_examples))\n",
    "\n",
    "    eval_steps = int(len(eval_examples) // FLAGS.batch_size)\n",
    "\n",
    "    eval_input_fn = file_based_input_fn_builder(input_file=eval_file,\n",
    "                                                seq_length=FLAGS.max_seq_length,\n",
    "                                                is_training=False,\n",
    "                                                drop_remainder=False)\n",
    "\n",
    "    result = estimator.evaluate(input_fn=eval_input_fn, steps=eval_steps)\n",
    "\n",
    "    output_eval_file = os.path.join(FLAGS.results_dir, timestamp + \"eval_results.txt\")\n",
    "    with tf.gfile.GFile(output_eval_file, \"w\") as writer:\n",
    "        tf.logging.info(\"***** Eval results *****\")\n",
    "        for key in sorted(result.keys()):\n",
    "            tf.logging.info(\"  %s = %s\", key, str(result[key]))\n",
    "            writer.write(\"%s = %s\\n\" % (key, str(result[key])))\n",
    "\n",
    "# ---------------------------------------------------------------------------------------------------------------- #\n",
    "# Test\n",
    "if FLAGS.do_predict:\n",
    "    predict_examples = processor.get_test_examples(FLAGS.data_dir)\n",
    "\n",
    "    predict_file = os.path.join(FLAGS.data_dir, \"predict.tf_record\")\n",
    "    file_based_convert_examples_to_features(predict_examples,\n",
    "                                            label_list,\n",
    "                                            FLAGS.max_seq_length,\n",
    "                                            tokenizer,\n",
    "                                            predict_file)\n",
    "\n",
    "    tf.logging.info(\"***** Running prediction*****\")\n",
    "    tf.logging.info(\"  Num examples = %d\", len(predict_examples))\n",
    "\n",
    "    predict_input_fn = file_based_input_fn_builder(input_file=predict_file,\n",
    "                                                   seq_length=FLAGS.max_seq_length,\n",
    "                                                   is_training=False,\n",
    "                                                   drop_remainder=False)\n",
    "\n",
    "    result = estimator.predict(input_fn=predict_input_fn)\n",
    "\n",
    "    output_predict_file = os.path.join(FLAGS.results_dir, timestamp + \"test_results.tsv\")\n",
    "    with tf.gfile.GFile(output_predict_file, \"w\") as writer:\n",
    "        num_written_lines = 0\n",
    "        tf.logging.info(\"***** Predict results *****\")\n",
    "        for (i, prediction) in enumerate(result):\n",
    "            probabilities = prediction[\"probabilities\"]\n",
    "            predict_label = str(prediction[\"predict_labels\"])\n",
    "\n",
    "            probs = [\"{0:.4f}\".format(class_probability) for class_probability in probabilities]\n",
    "\n",
    "            output_line = \"\\t\".join(probs) + \"\\t\" + predict_label + \"\\n\"\n",
    "            writer.write(output_line)\n",
    "            num_written_lines += 1"
   ]
  },
  {
   "cell_type": "code",
   "execution_count": 0,
   "metadata": {
    "colab": {
     "base_uri": "https://localhost:8080/",
     "height": 34
    },
    "colab_type": "code",
    "executionInfo": {
     "elapsed": 806,
     "status": "ok",
     "timestamp": 1559911008840,
     "user": {
      "displayName": "Rok Šikonja",
      "photoUrl": "",
      "userId": "08390144229917873056"
     },
     "user_tz": -120
    },
    "id": "nZR1wlmir_QO",
    "outputId": "9159fb23-c733-4663-c5ad-fe136e559766"
   },
   "outputs": [
    {
     "data": {
      "text/plain": [
       "'./output_A/'"
      ]
     },
     "execution_count": 13,
     "metadata": {
      "tags": []
     },
     "output_type": "execute_result"
    }
   ],
   "source": [
    "import shutil\n",
    "# shutil.rmtree(\"./results\")\n",
    "# shutil.rmtree(\"./output\")\n",
    "\n",
    "\n",
    "shutil.move(\"./output/\", \"./output_A/\")\n",
    "# shutil.move(\"./results/\", \"./results_A/\")"
   ]
  },
  {
   "cell_type": "code",
   "execution_count": 0,
   "metadata": {
    "colab": {},
    "colab_type": "code",
    "id": "cUBgfsm7ictb"
   },
   "outputs": [],
   "source": [
    "FLAGS.do_train = True"
   ]
  },
  {
   "cell_type": "code",
   "execution_count": 0,
   "metadata": {
    "colab": {},
    "colab_type": "code",
    "id": "sEed72YQsLJr"
   },
   "outputs": [],
   "source": [
    "FLAGS.data_dir = \"./gdrive/My Drive/NLU/Projects/project_2/data_pp_test/\""
   ]
  },
  {
   "cell_type": "code",
   "execution_count": 0,
   "metadata": {
    "colab": {},
    "colab_type": "code",
    "id": "Ry8rj7rh3_QA"
   },
   "outputs": [],
   "source": [
    "shutil.move(\"./results_D/\", \"./gdrive/My Drive/NLU/Projects/project_2/results/results_D/\""
   ]
  },
  {
   "cell_type": "code",
   "execution_count": 0,
   "metadata": {
    "colab": {},
    "colab_type": "code",
    "id": "FLmsUV6h_vxp"
   },
   "outputs": [],
   "source": []
  }
 ],
 "metadata": {
  "accelerator": "GPU",
  "colab": {
   "collapsed_sections": [],
   "name": "bert_sct _v2.ipynb",
   "provenance": [],
   "version": "0.3.2"
  },
  "kernelspec": {
   "display_name": "Python 3",
   "language": "python",
   "name": "python3"
  },
  "language_info": {
   "codemirror_mode": {
    "name": "ipython",
    "version": 3
   },
   "file_extension": ".py",
   "mimetype": "text/x-python",
   "name": "python",
   "nbconvert_exporter": "python",
   "pygments_lexer": "ipython3",
   "version": "3.6.8"
  }
 },
 "nbformat": 4,
 "nbformat_minor": 1
}
