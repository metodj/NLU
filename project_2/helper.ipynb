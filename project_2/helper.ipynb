{
 "cells": [
  {
   "cell_type": "code",
   "execution_count": 40,
   "metadata": {},
   "outputs": [],
   "source": [
    "import os\n",
    "import sys\n",
    "\n",
    "import numpy as np\n",
    "import pandas as pd\n",
    "import tensorflow as tf\n",
    "\n",
    "# BERT\n",
    "bert_path = \"C:/Users/roksi/bert\"\n",
    "\n",
    "if not bert_path in sys.path:\n",
    "    sys.path.append(bert_path)\n",
    "\n",
    "import modeling\n",
    "import tokenization\n",
    "\n",
    "\n",
    "data_path = \"./data/\"\n",
    "\n",
    "data_val = pd.read_csv(data_path + \"cloze_test_val__spring2016 - cloze_test_ALL_val.csv\")\n",
    "data_train = pd.read_csv(data_path + \"train_stories.csv\")"
   ]
  },
  {
   "cell_type": "code",
   "execution_count": 132,
   "metadata": {},
   "outputs": [],
   "source": [
    "def pp_text_a(row):\n",
    "    return row[1] + \" \" + row[2] + \" \" + row[3] + \" \" + row[4]\n",
    "    \n",
    "def pp_text_b_pos(row):\n",
    "    if row[7] == 1:\n",
    "        return row[5]\n",
    "    elif row[7] == 2:\n",
    "        return row[6]\n",
    "    \n",
    "def pp_text_b_neg(row):\n",
    "    if row[7] == 1:\n",
    "        return row[6]\n",
    "    elif row[7] == 2:\n",
    "        return row[5]"
   ]
  },
  {
   "cell_type": "code",
   "execution_count": 134,
   "metadata": {},
   "outputs": [
    {
     "data": {
      "text/html": [
       "<div>\n",
       "<style scoped>\n",
       "    .dataframe tbody tr th:only-of-type {\n",
       "        vertical-align: middle;\n",
       "    }\n",
       "\n",
       "    .dataframe tbody tr th {\n",
       "        vertical-align: top;\n",
       "    }\n",
       "\n",
       "    .dataframe thead th {\n",
       "        text-align: right;\n",
       "    }\n",
       "</style>\n",
       "<table border=\"1\" class=\"dataframe\">\n",
       "  <thead>\n",
       "    <tr style=\"text-align: right;\">\n",
       "      <th></th>\n",
       "      <th>guid</th>\n",
       "      <th>text_a</th>\n",
       "      <th>text_b</th>\n",
       "      <th>label</th>\n",
       "    </tr>\n",
       "  </thead>\n",
       "  <tbody>\n",
       "    <tr>\n",
       "      <th>0</th>\n",
       "      <td>449c1058-fb27-4c6d-9cac-fbd5b32b80da</td>\n",
       "      <td>Billy buried some treasure in his backyard. He...</td>\n",
       "      <td>He threw away the treasure he found.</td>\n",
       "      <td>0</td>\n",
       "    </tr>\n",
       "    <tr>\n",
       "      <th>1</th>\n",
       "      <td>112151f0-6986-4251-aed3-2c454670a09f</td>\n",
       "      <td>Ellen used to live in the country. She misses ...</td>\n",
       "      <td>Ellen was perfectly comfortable.</td>\n",
       "      <td>0</td>\n",
       "    </tr>\n",
       "    <tr>\n",
       "      <th>2</th>\n",
       "      <td>112151f0-6986-4251-aed3-2c454670a09f</td>\n",
       "      <td>Ellen used to live in the country. She misses ...</td>\n",
       "      <td>She was happy when the power came back on.</td>\n",
       "      <td>1</td>\n",
       "    </tr>\n",
       "  </tbody>\n",
       "</table>\n",
       "</div>"
      ],
      "text/plain": [
       "                                   guid  \\\n",
       "0  449c1058-fb27-4c6d-9cac-fbd5b32b80da   \n",
       "1  112151f0-6986-4251-aed3-2c454670a09f   \n",
       "2  112151f0-6986-4251-aed3-2c454670a09f   \n",
       "\n",
       "                                              text_a  \\\n",
       "0  Billy buried some treasure in his backyard. He...   \n",
       "1  Ellen used to live in the country. She misses ...   \n",
       "2  Ellen used to live in the country. She misses ...   \n",
       "\n",
       "                                       text_b  label  \n",
       "0        He threw away the treasure he found.      0  \n",
       "1            Ellen was perfectly comfortable.      0  \n",
       "2  She was happy when the power came back on.      1  "
      ]
     },
     "execution_count": 134,
     "metadata": {},
     "output_type": "execute_result"
    }
   ],
   "source": [
    "df_pos = pd.DataFrame()\n",
    "df_pos[\"guid\"] = data_val[\"InputStoryid\"]\n",
    "df_pos[\"text_a\"] = data_val.apply(pp_text_a, axis=1)\n",
    "df_pos[\"text_b\"] = data_val.apply(pp_text_b_pos, axis=1)\n",
    "df_pos[\"label\"] = 1 # 1 -> positive/correct class\n",
    "\n",
    "df_neg = pd.DataFrame()\n",
    "df_neg[\"guid\"] = data_val[\"InputStoryid\"]\n",
    "df_neg[\"text_a\"] = data_val.apply(pp_text_a, axis=1)\n",
    "df_neg[\"text_b\"] = data_val.apply(pp_text_b_neg, axis=1)\n",
    "df_neg[\"label\"] = 0\n",
    "\n",
    "df = pd.concat([df_pos, df_neg], axis=0).sample(frac=1).reset_index(drop=True)\n",
    "df.head(3)\n",
    "# df.apply(lambda row: len(row[1]), axis=1).max()"
   ]
  },
  {
   "cell_type": "code",
   "execution_count": 108,
   "metadata": {},
   "outputs": [
    {
     "name": "stdout",
     "output_type": "stream",
     "text": [
      "***** BERT pretrained directory: C:/Users/roksi/bert/bert/ *****\n"
     ]
    }
   ],
   "source": [
    "BERT_MODEL = 'uncased_L-12_H-768_A-12'\n",
    "BERT_PRETRAINED_DIR = bert_path + \"/bert/\"\n",
    "\n",
    "MAX_SEQ_LENGTH = 128\n",
    "BERT_CONFIG = BERT_PRETRAINED_DIR + '/bert_config.json'\n",
    "CHKPT_DIR = BERT_PRETRAINED_DIR + '/bert_model.ckpt'\n",
    "VOCAB_FILE = BERT_PRETRAINED_DIR + '/vocab.txt'\n",
    "INIT_CHECKPOINT = BERT_PRETRAINED_DIR + '/bert_model.ckpt'\n",
    "BATCH_SIZE = 128\n",
    "\n",
    "\n",
    "print('***** BERT pretrained directory: {} *****'.format(BERT_PRETRAINED_DIR))"
   ]
  },
  {
   "cell_type": "code",
   "execution_count": 140,
   "metadata": {},
   "outputs": [
    {
     "name": "stdout",
     "output_type": "stream",
     "text": [
      "INFO:tensorflow:Writing example 0 of 12\n",
      "INFO:tensorflow:*** Example ***\n",
      "INFO:tensorflow:guid: 449c1058-fb27-4c6d-9cac-fbd5b32b80da\n",
      "INFO:tensorflow:tokens: [CLS] billy buried some treasure in his backyard . he drew a map so he wouldn ' t forget where he ' d put it . years passed and billy ' s family moved . decades later , he went back and used his map to dig it back up . [SEP] he threw away the treasure he found . [SEP]\n",
      "INFO:tensorflow:input_ids: 101 5006 3950 2070 8813 1999 2010 16125 1012 2002 3881 1037 4949 2061 2002 2876 1005 1056 5293 2073 2002 1005 1040 2404 2009 1012 2086 2979 1998 5006 1005 1055 2155 2333 1012 5109 2101 1010 2002 2253 2067 1998 2109 2010 4949 2000 10667 2009 2067 2039 1012 102 2002 4711 2185 1996 8813 2002 2179 1012 102 0 0 0 0 0 0 0 0 0 0 0 0 0 0 0 0 0 0 0 0 0 0 0 0 0 0 0 0 0 0 0 0 0 0 0 0 0 0 0 0 0 0 0 0 0 0 0 0 0 0 0 0 0 0 0 0 0 0 0 0 0 0 0 0 0 0 0 0 0 0 0 0 0 0 0 0 0 0 0 0 0 0 0 0 0 0 0 0 0 0 0 0 0 0 0 0 0 0 0 0 0 0 0 0 0 0 0 0 0 0 0 0 0 0 0 0 0 0 0 0 0 0 0 0 0 0 0 0 0 0 0 0 0 0 0 0 0 0 0 0 0 0 0 0 0 0 0 0 0 0 0 0 0 0 0 0 0 0 0 0 0 0 0 0 0 0 0 0 0 0 0 0 0 0 0 0 0 0 0 0 0 0 0 0 0 0 0 0 0 0 0 0 0 0 0\n",
      "INFO:tensorflow:input_mask: 1 1 1 1 1 1 1 1 1 1 1 1 1 1 1 1 1 1 1 1 1 1 1 1 1 1 1 1 1 1 1 1 1 1 1 1 1 1 1 1 1 1 1 1 1 1 1 1 1 1 1 1 1 1 1 1 1 1 1 1 1 0 0 0 0 0 0 0 0 0 0 0 0 0 0 0 0 0 0 0 0 0 0 0 0 0 0 0 0 0 0 0 0 0 0 0 0 0 0 0 0 0 0 0 0 0 0 0 0 0 0 0 0 0 0 0 0 0 0 0 0 0 0 0 0 0 0 0 0 0 0 0 0 0 0 0 0 0 0 0 0 0 0 0 0 0 0 0 0 0 0 0 0 0 0 0 0 0 0 0 0 0 0 0 0 0 0 0 0 0 0 0 0 0 0 0 0 0 0 0 0 0 0 0 0 0 0 0 0 0 0 0 0 0 0 0 0 0 0 0 0 0 0 0 0 0 0 0 0 0 0 0 0 0 0 0 0 0 0 0 0 0 0 0 0 0 0 0 0 0 0 0 0 0 0 0 0 0 0 0 0 0 0 0 0 0 0 0 0 0 0 0 0 0 0 0\n",
      "INFO:tensorflow:segment_ids: 0 0 0 0 0 0 0 0 0 0 0 0 0 0 0 0 0 0 0 0 0 0 0 0 0 0 0 0 0 0 0 0 0 0 0 0 0 0 0 0 0 0 0 0 0 0 0 0 0 0 0 0 1 1 1 1 1 1 1 1 1 0 0 0 0 0 0 0 0 0 0 0 0 0 0 0 0 0 0 0 0 0 0 0 0 0 0 0 0 0 0 0 0 0 0 0 0 0 0 0 0 0 0 0 0 0 0 0 0 0 0 0 0 0 0 0 0 0 0 0 0 0 0 0 0 0 0 0 0 0 0 0 0 0 0 0 0 0 0 0 0 0 0 0 0 0 0 0 0 0 0 0 0 0 0 0 0 0 0 0 0 0 0 0 0 0 0 0 0 0 0 0 0 0 0 0 0 0 0 0 0 0 0 0 0 0 0 0 0 0 0 0 0 0 0 0 0 0 0 0 0 0 0 0 0 0 0 0 0 0 0 0 0 0 0 0 0 0 0 0 0 0 0 0 0 0 0 0 0 0 0 0 0 0 0 0 0 0 0 0 0 0 0 0 0 0 0 0 0 0 0 0 0 0 0 0\n",
      "INFO:tensorflow:label: 0 (id = 0)\n",
      "INFO:tensorflow:*** Example ***\n",
      "INFO:tensorflow:guid: 112151f0-6986-4251-aed3-2c454670a09f\n",
      "INFO:tensorflow:tokens: [CLS] ellen used to live in the country . she misses having days with the power out . one day an ice storm caused the power to go out in her city home . she got very cold . [SEP] ellen was perfectly comfortable . [SEP]\n",
      "INFO:tensorflow:input_ids: 101 9155 2109 2000 2444 1999 1996 2406 1012 2016 22182 2383 2420 2007 1996 2373 2041 1012 2028 2154 2019 3256 4040 3303 1996 2373 2000 2175 2041 1999 2014 2103 2188 1012 2016 2288 2200 3147 1012 102 9155 2001 6669 6625 1012 102 0 0 0 0 0 0 0 0 0 0 0 0 0 0 0 0 0 0 0 0 0 0 0 0 0 0 0 0 0 0 0 0 0 0 0 0 0 0 0 0 0 0 0 0 0 0 0 0 0 0 0 0 0 0 0 0 0 0 0 0 0 0 0 0 0 0 0 0 0 0 0 0 0 0 0 0 0 0 0 0 0 0 0 0 0 0 0 0 0 0 0 0 0 0 0 0 0 0 0 0 0 0 0 0 0 0 0 0 0 0 0 0 0 0 0 0 0 0 0 0 0 0 0 0 0 0 0 0 0 0 0 0 0 0 0 0 0 0 0 0 0 0 0 0 0 0 0 0 0 0 0 0 0 0 0 0 0 0 0 0 0 0 0 0 0 0 0 0 0 0 0 0 0 0 0 0 0 0 0 0 0 0 0 0 0 0 0 0 0 0 0 0 0 0 0 0 0 0 0 0 0 0 0 0 0 0 0 0 0 0\n",
      "INFO:tensorflow:input_mask: 1 1 1 1 1 1 1 1 1 1 1 1 1 1 1 1 1 1 1 1 1 1 1 1 1 1 1 1 1 1 1 1 1 1 1 1 1 1 1 1 1 1 1 1 1 1 0 0 0 0 0 0 0 0 0 0 0 0 0 0 0 0 0 0 0 0 0 0 0 0 0 0 0 0 0 0 0 0 0 0 0 0 0 0 0 0 0 0 0 0 0 0 0 0 0 0 0 0 0 0 0 0 0 0 0 0 0 0 0 0 0 0 0 0 0 0 0 0 0 0 0 0 0 0 0 0 0 0 0 0 0 0 0 0 0 0 0 0 0 0 0 0 0 0 0 0 0 0 0 0 0 0 0 0 0 0 0 0 0 0 0 0 0 0 0 0 0 0 0 0 0 0 0 0 0 0 0 0 0 0 0 0 0 0 0 0 0 0 0 0 0 0 0 0 0 0 0 0 0 0 0 0 0 0 0 0 0 0 0 0 0 0 0 0 0 0 0 0 0 0 0 0 0 0 0 0 0 0 0 0 0 0 0 0 0 0 0 0 0 0 0 0 0 0 0 0 0 0 0 0 0 0 0 0 0 0\n",
      "INFO:tensorflow:segment_ids: 0 0 0 0 0 0 0 0 0 0 0 0 0 0 0 0 0 0 0 0 0 0 0 0 0 0 0 0 0 0 0 0 0 0 0 0 0 0 0 0 1 1 1 1 1 1 0 0 0 0 0 0 0 0 0 0 0 0 0 0 0 0 0 0 0 0 0 0 0 0 0 0 0 0 0 0 0 0 0 0 0 0 0 0 0 0 0 0 0 0 0 0 0 0 0 0 0 0 0 0 0 0 0 0 0 0 0 0 0 0 0 0 0 0 0 0 0 0 0 0 0 0 0 0 0 0 0 0 0 0 0 0 0 0 0 0 0 0 0 0 0 0 0 0 0 0 0 0 0 0 0 0 0 0 0 0 0 0 0 0 0 0 0 0 0 0 0 0 0 0 0 0 0 0 0 0 0 0 0 0 0 0 0 0 0 0 0 0 0 0 0 0 0 0 0 0 0 0 0 0 0 0 0 0 0 0 0 0 0 0 0 0 0 0 0 0 0 0 0 0 0 0 0 0 0 0 0 0 0 0 0 0 0 0 0 0 0 0 0 0 0 0 0 0 0 0 0 0 0 0 0 0 0 0 0 0\n",
      "INFO:tensorflow:label: 0 (id = 0)\n",
      "INFO:tensorflow:*** Example ***\n",
      "INFO:tensorflow:guid: 112151f0-6986-4251-aed3-2c454670a09f\n",
      "INFO:tensorflow:tokens: [CLS] ellen used to live in the country . she misses having days with the power out . one day an ice storm caused the power to go out in her city home . she got very cold . [SEP] she was happy when the power came back on . [SEP]\n",
      "INFO:tensorflow:input_ids: 101 9155 2109 2000 2444 1999 1996 2406 1012 2016 22182 2383 2420 2007 1996 2373 2041 1012 2028 2154 2019 3256 4040 3303 1996 2373 2000 2175 2041 1999 2014 2103 2188 1012 2016 2288 2200 3147 1012 102 2016 2001 3407 2043 1996 2373 2234 2067 2006 1012 102 0 0 0 0 0 0 0 0 0 0 0 0 0 0 0 0 0 0 0 0 0 0 0 0 0 0 0 0 0 0 0 0 0 0 0 0 0 0 0 0 0 0 0 0 0 0 0 0 0 0 0 0 0 0 0 0 0 0 0 0 0 0 0 0 0 0 0 0 0 0 0 0 0 0 0 0 0 0 0 0 0 0 0 0 0 0 0 0 0 0 0 0 0 0 0 0 0 0 0 0 0 0 0 0 0 0 0 0 0 0 0 0 0 0 0 0 0 0 0 0 0 0 0 0 0 0 0 0 0 0 0 0 0 0 0 0 0 0 0 0 0 0 0 0 0 0 0 0 0 0 0 0 0 0 0 0 0 0 0 0 0 0 0 0 0 0 0 0 0 0 0 0 0 0 0 0 0 0 0 0 0 0 0 0 0 0 0 0 0 0 0 0 0 0 0 0 0 0 0 0 0 0 0 0 0\n",
      "INFO:tensorflow:input_mask: 1 1 1 1 1 1 1 1 1 1 1 1 1 1 1 1 1 1 1 1 1 1 1 1 1 1 1 1 1 1 1 1 1 1 1 1 1 1 1 1 1 1 1 1 1 1 1 1 1 1 1 0 0 0 0 0 0 0 0 0 0 0 0 0 0 0 0 0 0 0 0 0 0 0 0 0 0 0 0 0 0 0 0 0 0 0 0 0 0 0 0 0 0 0 0 0 0 0 0 0 0 0 0 0 0 0 0 0 0 0 0 0 0 0 0 0 0 0 0 0 0 0 0 0 0 0 0 0 0 0 0 0 0 0 0 0 0 0 0 0 0 0 0 0 0 0 0 0 0 0 0 0 0 0 0 0 0 0 0 0 0 0 0 0 0 0 0 0 0 0 0 0 0 0 0 0 0 0 0 0 0 0 0 0 0 0 0 0 0 0 0 0 0 0 0 0 0 0 0 0 0 0 0 0 0 0 0 0 0 0 0 0 0 0 0 0 0 0 0 0 0 0 0 0 0 0 0 0 0 0 0 0 0 0 0 0 0 0 0 0 0 0 0 0 0 0 0 0 0 0 0 0 0 0 0 0\n",
      "INFO:tensorflow:segment_ids: 0 0 0 0 0 0 0 0 0 0 0 0 0 0 0 0 0 0 0 0 0 0 0 0 0 0 0 0 0 0 0 0 0 0 0 0 0 0 0 0 1 1 1 1 1 1 1 1 1 1 1 0 0 0 0 0 0 0 0 0 0 0 0 0 0 0 0 0 0 0 0 0 0 0 0 0 0 0 0 0 0 0 0 0 0 0 0 0 0 0 0 0 0 0 0 0 0 0 0 0 0 0 0 0 0 0 0 0 0 0 0 0 0 0 0 0 0 0 0 0 0 0 0 0 0 0 0 0 0 0 0 0 0 0 0 0 0 0 0 0 0 0 0 0 0 0 0 0 0 0 0 0 0 0 0 0 0 0 0 0 0 0 0 0 0 0 0 0 0 0 0 0 0 0 0 0 0 0 0 0 0 0 0 0 0 0 0 0 0 0 0 0 0 0 0 0 0 0 0 0 0 0 0 0 0 0 0 0 0 0 0 0 0 0 0 0 0 0 0 0 0 0 0 0 0 0 0 0 0 0 0 0 0 0 0 0 0 0 0 0 0 0 0 0 0 0 0 0 0 0 0 0 0 0 0 0\n",
      "INFO:tensorflow:label: 1 (id = 1)\n",
      "INFO:tensorflow:*** Example ***\n",
      "INFO:tensorflow:guid: 18d4dbc1-ed3c-40ca-8155-18884bb42732\n",
      "INFO:tensorflow:tokens: [CLS] i went to buy a new television last week . after finally picking one out i took it home . i noticed it was broken as soon as i got it out of the box . the screen was cracked . [SEP] i returned the tv . [SEP]\n",
      "INFO:tensorflow:input_ids: 101 1045 2253 2000 4965 1037 2047 2547 2197 2733 1012 2044 2633 8130 2028 2041 1045 2165 2009 2188 1012 1045 4384 2009 2001 3714 2004 2574 2004 1045 2288 2009 2041 1997 1996 3482 1012 1996 3898 2001 9630 1012 102 1045 2513 1996 2694 1012 102 0 0 0 0 0 0 0 0 0 0 0 0 0 0 0 0 0 0 0 0 0 0 0 0 0 0 0 0 0 0 0 0 0 0 0 0 0 0 0 0 0 0 0 0 0 0 0 0 0 0 0 0 0 0 0 0 0 0 0 0 0 0 0 0 0 0 0 0 0 0 0 0 0 0 0 0 0 0 0 0 0 0 0 0 0 0 0 0 0 0 0 0 0 0 0 0 0 0 0 0 0 0 0 0 0 0 0 0 0 0 0 0 0 0 0 0 0 0 0 0 0 0 0 0 0 0 0 0 0 0 0 0 0 0 0 0 0 0 0 0 0 0 0 0 0 0 0 0 0 0 0 0 0 0 0 0 0 0 0 0 0 0 0 0 0 0 0 0 0 0 0 0 0 0 0 0 0 0 0 0 0 0 0 0 0 0 0 0 0 0 0 0 0 0 0 0 0 0 0 0 0 0 0 0 0 0 0\n",
      "INFO:tensorflow:input_mask: 1 1 1 1 1 1 1 1 1 1 1 1 1 1 1 1 1 1 1 1 1 1 1 1 1 1 1 1 1 1 1 1 1 1 1 1 1 1 1 1 1 1 1 1 1 1 1 1 1 0 0 0 0 0 0 0 0 0 0 0 0 0 0 0 0 0 0 0 0 0 0 0 0 0 0 0 0 0 0 0 0 0 0 0 0 0 0 0 0 0 0 0 0 0 0 0 0 0 0 0 0 0 0 0 0 0 0 0 0 0 0 0 0 0 0 0 0 0 0 0 0 0 0 0 0 0 0 0 0 0 0 0 0 0 0 0 0 0 0 0 0 0 0 0 0 0 0 0 0 0 0 0 0 0 0 0 0 0 0 0 0 0 0 0 0 0 0 0 0 0 0 0 0 0 0 0 0 0 0 0 0 0 0 0 0 0 0 0 0 0 0 0 0 0 0 0 0 0 0 0 0 0 0 0 0 0 0 0 0 0 0 0 0 0 0 0 0 0 0 0 0 0 0 0 0 0 0 0 0 0 0 0 0 0 0 0 0 0 0 0 0 0 0 0 0 0 0 0 0 0 0 0 0 0 0 0\n",
      "INFO:tensorflow:segment_ids: 0 0 0 0 0 0 0 0 0 0 0 0 0 0 0 0 0 0 0 0 0 0 0 0 0 0 0 0 0 0 0 0 0 0 0 0 0 0 0 0 0 0 0 1 1 1 1 1 1 0 0 0 0 0 0 0 0 0 0 0 0 0 0 0 0 0 0 0 0 0 0 0 0 0 0 0 0 0 0 0 0 0 0 0 0 0 0 0 0 0 0 0 0 0 0 0 0 0 0 0 0 0 0 0 0 0 0 0 0 0 0 0 0 0 0 0 0 0 0 0 0 0 0 0 0 0 0 0 0 0 0 0 0 0 0 0 0 0 0 0 0 0 0 0 0 0 0 0 0 0 0 0 0 0 0 0 0 0 0 0 0 0 0 0 0 0 0 0 0 0 0 0 0 0 0 0 0 0 0 0 0 0 0 0 0 0 0 0 0 0 0 0 0 0 0 0 0 0 0 0 0 0 0 0 0 0 0 0 0 0 0 0 0 0 0 0 0 0 0 0 0 0 0 0 0 0 0 0 0 0 0 0 0 0 0 0 0 0 0 0 0 0 0 0 0 0 0 0 0 0 0 0 0 0 0 0\n"
     ]
    },
    {
     "name": "stdout",
     "output_type": "stream",
     "text": [
      "INFO:tensorflow:label: 1 (id = 1)\n",
      "INFO:tensorflow:*** Example ***\n",
      "INFO:tensorflow:guid: c2699d68-4f16-44d1-bff6-6a66ec266a46\n",
      "INFO:tensorflow:tokens: [CLS] mike had a free saturday . he drove to several car dealers . he was interested in seeing potential future cars for himself . mike found a jeep he fell in love with . [SEP] mike never liked jeep ##s . [SEP]\n",
      "INFO:tensorflow:input_ids: 101 3505 2018 1037 2489 5095 1012 2002 5225 2000 2195 2482 16743 1012 2002 2001 4699 1999 3773 4022 2925 3765 2005 2370 1012 3505 2179 1037 14007 2002 3062 1999 2293 2007 1012 102 3505 2196 4669 14007 2015 1012 102 0 0 0 0 0 0 0 0 0 0 0 0 0 0 0 0 0 0 0 0 0 0 0 0 0 0 0 0 0 0 0 0 0 0 0 0 0 0 0 0 0 0 0 0 0 0 0 0 0 0 0 0 0 0 0 0 0 0 0 0 0 0 0 0 0 0 0 0 0 0 0 0 0 0 0 0 0 0 0 0 0 0 0 0 0 0 0 0 0 0 0 0 0 0 0 0 0 0 0 0 0 0 0 0 0 0 0 0 0 0 0 0 0 0 0 0 0 0 0 0 0 0 0 0 0 0 0 0 0 0 0 0 0 0 0 0 0 0 0 0 0 0 0 0 0 0 0 0 0 0 0 0 0 0 0 0 0 0 0 0 0 0 0 0 0 0 0 0 0 0 0 0 0 0 0 0 0 0 0 0 0 0 0 0 0 0 0 0 0 0 0 0 0 0 0 0 0 0 0 0 0 0 0 0 0 0 0 0 0 0 0 0 0\n",
      "INFO:tensorflow:input_mask: 1 1 1 1 1 1 1 1 1 1 1 1 1 1 1 1 1 1 1 1 1 1 1 1 1 1 1 1 1 1 1 1 1 1 1 1 1 1 1 1 1 1 1 0 0 0 0 0 0 0 0 0 0 0 0 0 0 0 0 0 0 0 0 0 0 0 0 0 0 0 0 0 0 0 0 0 0 0 0 0 0 0 0 0 0 0 0 0 0 0 0 0 0 0 0 0 0 0 0 0 0 0 0 0 0 0 0 0 0 0 0 0 0 0 0 0 0 0 0 0 0 0 0 0 0 0 0 0 0 0 0 0 0 0 0 0 0 0 0 0 0 0 0 0 0 0 0 0 0 0 0 0 0 0 0 0 0 0 0 0 0 0 0 0 0 0 0 0 0 0 0 0 0 0 0 0 0 0 0 0 0 0 0 0 0 0 0 0 0 0 0 0 0 0 0 0 0 0 0 0 0 0 0 0 0 0 0 0 0 0 0 0 0 0 0 0 0 0 0 0 0 0 0 0 0 0 0 0 0 0 0 0 0 0 0 0 0 0 0 0 0 0 0 0 0 0 0 0 0 0 0 0 0 0 0 0\n",
      "INFO:tensorflow:segment_ids: 0 0 0 0 0 0 0 0 0 0 0 0 0 0 0 0 0 0 0 0 0 0 0 0 0 0 0 0 0 0 0 0 0 0 0 0 1 1 1 1 1 1 1 0 0 0 0 0 0 0 0 0 0 0 0 0 0 0 0 0 0 0 0 0 0 0 0 0 0 0 0 0 0 0 0 0 0 0 0 0 0 0 0 0 0 0 0 0 0 0 0 0 0 0 0 0 0 0 0 0 0 0 0 0 0 0 0 0 0 0 0 0 0 0 0 0 0 0 0 0 0 0 0 0 0 0 0 0 0 0 0 0 0 0 0 0 0 0 0 0 0 0 0 0 0 0 0 0 0 0 0 0 0 0 0 0 0 0 0 0 0 0 0 0 0 0 0 0 0 0 0 0 0 0 0 0 0 0 0 0 0 0 0 0 0 0 0 0 0 0 0 0 0 0 0 0 0 0 0 0 0 0 0 0 0 0 0 0 0 0 0 0 0 0 0 0 0 0 0 0 0 0 0 0 0 0 0 0 0 0 0 0 0 0 0 0 0 0 0 0 0 0 0 0 0 0 0 0 0 0 0 0 0 0 0 0\n",
      "INFO:tensorflow:label: 0 (id = 0)\n"
     ]
    }
   ],
   "source": [
    "from run_classifier import InputExample\n",
    "from run_classifier import convert_examples_to_features\n",
    "from run_classifier import input_fn_builder\n",
    "\n",
    "MAX_SEQ_LENGTH = 256\n",
    "label_list = [0, 1]\n",
    "\n",
    "tokenizer = tokenization.FullTokenizer(vocab_file=VOCAB_FILE, do_lower_case=True)\n",
    "\n",
    "df_InputExamples = df.apply(lambda x: InputExample(guid=x[0], text_a=x[1], text_b=x[2], label=x[3]), axis=1)\n",
    "\n",
    "df_features = convert_examples_to_features(df_InputExamples, label_list, MAX_SEQ_LENGTH, tokenizer)"
   ]
  },
  {
   "cell_type": "code",
   "execution_count": 156,
   "metadata": {},
   "outputs": [],
   "source": [
    "# from extract_features import read_examples\n",
    "\n",
    "tf.reset_default_graph()\n",
    "\n",
    "tf.logging.set_verbosity(tf.logging.INFO)\n",
    "\n",
    "layer_indexes = [-1, -2]\n",
    "\n",
    "bert_config = modeling.BertConfig.from_json_file(BERT_CONFIG)\n",
    "tokenizer = tokenization.FullTokenizer(vocab_file=VOCAB_FILE, do_lower_case=True)\n",
    "\n",
    "# examples = read_examples(\"tmp_input.txt\")\n",
    "\n",
    "\n",
    "\n"
   ]
  },
  {
   "cell_type": "code",
   "execution_count": 141,
   "metadata": {},
   "outputs": [
    {
     "data": {
      "text/plain": [
       "'C:/Users/roksi/bert/bert//bert_config.json'"
      ]
     },
     "execution_count": 141,
     "metadata": {},
     "output_type": "execute_result"
    }
   ],
   "source": [
    "BERT_CONFIG"
   ]
  },
  {
   "cell_type": "code",
   "execution_count": 147,
   "metadata": {},
   "outputs": [
    {
     "data": {
      "text/html": [
       "<div>\n",
       "<style scoped>\n",
       "    .dataframe tbody tr th:only-of-type {\n",
       "        vertical-align: middle;\n",
       "    }\n",
       "\n",
       "    .dataframe tbody tr th {\n",
       "        vertical-align: top;\n",
       "    }\n",
       "\n",
       "    .dataframe thead th {\n",
       "        text-align: right;\n",
       "    }\n",
       "</style>\n",
       "<table border=\"1\" class=\"dataframe\">\n",
       "  <thead>\n",
       "    <tr style=\"text-align: right;\">\n",
       "      <th></th>\n",
       "      <th>guid</th>\n",
       "      <th>text_a</th>\n",
       "      <th>text_b</th>\n",
       "      <th>label</th>\n",
       "    </tr>\n",
       "  </thead>\n",
       "  <tbody>\n",
       "    <tr>\n",
       "      <th>0</th>\n",
       "      <td>449c1058-fb27-4c6d-9cac-fbd5b32b80da</td>\n",
       "      <td>Billy buried some treasure in his backyard. He...</td>\n",
       "      <td>He threw away the treasure he found.</td>\n",
       "      <td>0</td>\n",
       "    </tr>\n",
       "    <tr>\n",
       "      <th>1</th>\n",
       "      <td>112151f0-6986-4251-aed3-2c454670a09f</td>\n",
       "      <td>Ellen used to live in the country. She misses ...</td>\n",
       "      <td>Ellen was perfectly comfortable.</td>\n",
       "      <td>0</td>\n",
       "    </tr>\n",
       "    <tr>\n",
       "      <th>2</th>\n",
       "      <td>112151f0-6986-4251-aed3-2c454670a09f</td>\n",
       "      <td>Ellen used to live in the country. She misses ...</td>\n",
       "      <td>She was happy when the power came back on.</td>\n",
       "      <td>1</td>\n",
       "    </tr>\n",
       "    <tr>\n",
       "      <th>3</th>\n",
       "      <td>18d4dbc1-ed3c-40ca-8155-18884bb42732</td>\n",
       "      <td>I went to buy a new television last week. Afte...</td>\n",
       "      <td>I returned the TV.</td>\n",
       "      <td>1</td>\n",
       "    </tr>\n",
       "    <tr>\n",
       "      <th>4</th>\n",
       "      <td>c2699d68-4f16-44d1-bff6-6a66ec266a46</td>\n",
       "      <td>Mike had a free Saturday. He drove to several ...</td>\n",
       "      <td>Mike never liked Jeeps.</td>\n",
       "      <td>0</td>\n",
       "    </tr>\n",
       "    <tr>\n",
       "      <th>5</th>\n",
       "      <td>0e959d20-1b35-4853-9e5b-6e5e6a015d32</td>\n",
       "      <td>Amy was getting a minor raise from her job. Al...</td>\n",
       "      <td>Amy was relieved she didn't get any extra money.</td>\n",
       "      <td>0</td>\n",
       "    </tr>\n",
       "    <tr>\n",
       "      <th>6</th>\n",
       "      <td>c2699d68-4f16-44d1-bff6-6a66ec266a46</td>\n",
       "      <td>Mike had a free Saturday. He drove to several ...</td>\n",
       "      <td>Mike bought the Jeep.</td>\n",
       "      <td>1</td>\n",
       "    </tr>\n",
       "    <tr>\n",
       "      <th>7</th>\n",
       "      <td>449c1058-fb27-4c6d-9cac-fbd5b32b80da</td>\n",
       "      <td>Billy buried some treasure in his backyard. He...</td>\n",
       "      <td>He found many treasures from his childhood.</td>\n",
       "      <td>1</td>\n",
       "    </tr>\n",
       "    <tr>\n",
       "      <th>8</th>\n",
       "      <td>18d4dbc1-ed3c-40ca-8155-18884bb42732</td>\n",
       "      <td>I went to buy a new television last week. Afte...</td>\n",
       "      <td>I was happy with the TV.</td>\n",
       "      <td>0</td>\n",
       "    </tr>\n",
       "    <tr>\n",
       "      <th>9</th>\n",
       "      <td>11871d4b-6b94-4184-b36d-c4e76d311f3d</td>\n",
       "      <td>Peter was excited to go to the Sanders rally i...</td>\n",
       "      <td>He couldn't wait to vote for him.</td>\n",
       "      <td>1</td>\n",
       "    </tr>\n",
       "    <tr>\n",
       "      <th>10</th>\n",
       "      <td>0e959d20-1b35-4853-9e5b-6e5e6a015d32</td>\n",
       "      <td>Amy was getting a minor raise from her job. Al...</td>\n",
       "      <td>Amy was very upset.</td>\n",
       "      <td>1</td>\n",
       "    </tr>\n",
       "    <tr>\n",
       "      <th>11</th>\n",
       "      <td>11871d4b-6b94-4184-b36d-c4e76d311f3d</td>\n",
       "      <td>Peter was excited to go to the Sanders rally i...</td>\n",
       "      <td>He was a staunch republican.</td>\n",
       "      <td>0</td>\n",
       "    </tr>\n",
       "  </tbody>\n",
       "</table>\n",
       "</div>"
      ],
      "text/plain": [
       "                                    guid  \\\n",
       "0   449c1058-fb27-4c6d-9cac-fbd5b32b80da   \n",
       "1   112151f0-6986-4251-aed3-2c454670a09f   \n",
       "2   112151f0-6986-4251-aed3-2c454670a09f   \n",
       "3   18d4dbc1-ed3c-40ca-8155-18884bb42732   \n",
       "4   c2699d68-4f16-44d1-bff6-6a66ec266a46   \n",
       "5   0e959d20-1b35-4853-9e5b-6e5e6a015d32   \n",
       "6   c2699d68-4f16-44d1-bff6-6a66ec266a46   \n",
       "7   449c1058-fb27-4c6d-9cac-fbd5b32b80da   \n",
       "8   18d4dbc1-ed3c-40ca-8155-18884bb42732   \n",
       "9   11871d4b-6b94-4184-b36d-c4e76d311f3d   \n",
       "10  0e959d20-1b35-4853-9e5b-6e5e6a015d32   \n",
       "11  11871d4b-6b94-4184-b36d-c4e76d311f3d   \n",
       "\n",
       "                                               text_a  \\\n",
       "0   Billy buried some treasure in his backyard. He...   \n",
       "1   Ellen used to live in the country. She misses ...   \n",
       "2   Ellen used to live in the country. She misses ...   \n",
       "3   I went to buy a new television last week. Afte...   \n",
       "4   Mike had a free Saturday. He drove to several ...   \n",
       "5   Amy was getting a minor raise from her job. Al...   \n",
       "6   Mike had a free Saturday. He drove to several ...   \n",
       "7   Billy buried some treasure in his backyard. He...   \n",
       "8   I went to buy a new television last week. Afte...   \n",
       "9   Peter was excited to go to the Sanders rally i...   \n",
       "10  Amy was getting a minor raise from her job. Al...   \n",
       "11  Peter was excited to go to the Sanders rally i...   \n",
       "\n",
       "                                              text_b  label  \n",
       "0               He threw away the treasure he found.      0  \n",
       "1                   Ellen was perfectly comfortable.      0  \n",
       "2         She was happy when the power came back on.      1  \n",
       "3                                 I returned the TV.      1  \n",
       "4                            Mike never liked Jeeps.      0  \n",
       "5   Amy was relieved she didn't get any extra money.      0  \n",
       "6                              Mike bought the Jeep.      1  \n",
       "7        He found many treasures from his childhood.      1  \n",
       "8                           I was happy with the TV.      0  \n",
       "9                  He couldn't wait to vote for him.      1  \n",
       "10                               Amy was very upset.      1  \n",
       "11                      He was a staunch republican.      0  "
      ]
     },
     "execution_count": 147,
     "metadata": {},
     "output_type": "execute_result"
    }
   ],
   "source": [
    "df"
   ]
  },
  {
   "cell_type": "code",
   "execution_count": null,
   "metadata": {},
   "outputs": [],
   "source": []
  },
  {
   "cell_type": "code",
   "execution_count": 164,
   "metadata": {},
   "outputs": [
    {
     "name": "stdout",
     "output_type": "stream",
     "text": [
      "Billy buried some treasure in his backyard. He drew a map so he wouldn't forget where he'd put it. Years passed and Billy's family moved. Decades later, he went back and used his map to dig it back up. He threw away the treasure he found.\n",
      "Ellen used to live in the country. She misses having days with the power out. One day an ice storm caused the power to go out in her city home. She got very cold. Ellen was perfectly comfortable.\n",
      "Ellen used to live in the country. She misses having days with the power out. One day an ice storm caused the power to go out in her city home. She got very cold. She was happy when the power came back on.\n",
      "I went to buy a new television last week. After finally picking one out I took it home. I noticed it was broken as soon as I got it out of the box. The screen was cracked. I returned the TV.\n",
      "Mike had a free Saturday. He drove to several car dealers. He was interested in seeing potential future cars for himself. Mike found a Jeep he fell in love with. Mike never liked Jeeps.\n",
      "Amy was getting a minor raise from her job. Although it wasn't a lot of money she was expecting it. Her boss informed her it would be on her next check. When she received the check there was no raise. Amy was relieved she didn't get any extra money.\n",
      "Mike had a free Saturday. He drove to several car dealers. He was interested in seeing potential future cars for himself. Mike found a Jeep he fell in love with. Mike bought the Jeep.\n",
      "Billy buried some treasure in his backyard. He drew a map so he wouldn't forget where he'd put it. Years passed and Billy's family moved. Decades later, he went back and used his map to dig it back up. He found many treasures from his childhood.\n",
      "I went to buy a new television last week. After finally picking one out I took it home. I noticed it was broken as soon as I got it out of the box. The screen was cracked. I was happy with the TV.\n",
      "Peter was excited to go to the Sanders rally in New Hampshire. As Peter entered the arena it was full of thousands of people. When Peter saw Bernie he cheered as loudly as possible. He felt thrilled to be there. He couldn't wait to vote for him.\n",
      "Amy was getting a minor raise from her job. Although it wasn't a lot of money she was expecting it. Her boss informed her it would be on her next check. When she received the check there was no raise. Amy was very upset.\n",
      "Peter was excited to go to the Sanders rally in New Hampshire. As Peter entered the arena it was full of thousands of people. When Peter saw Bernie he cheered as loudly as possible. He felt thrilled to be there. He was a staunch republican.\n"
     ]
    }
   ],
   "source": [
    "# with open(\"sample_input.txt\", \"w\") as f:\n",
    "    for _, row in df.iterrows():\n",
    "        line = row[\"text_b\"]\n",
    "        f.write(line + \"\\n\")\n",
    "        \n",
    "    "
   ]
  },
  {
   "cell_type": "code",
   "execution_count": 160,
   "metadata": {},
   "outputs": [
    {
     "ename": "AttributeError",
     "evalue": "'InputFeatures' object has no attribute 'guid'",
     "output_type": "error",
     "traceback": [
      "\u001b[1;31m---------------------------------------------------------------------------\u001b[0m",
      "\u001b[1;31mAttributeError\u001b[0m                            Traceback (most recent call last)",
      "\u001b[1;32m<ipython-input-160-01709a9dcb60>\u001b[0m in \u001b[0;36m<module>\u001b[1;34m\u001b[0m\n\u001b[0;32m      3\u001b[0m \u001b[0munique_id_to_feature\u001b[0m \u001b[1;33m=\u001b[0m \u001b[1;33m{\u001b[0m\u001b[1;33m}\u001b[0m\u001b[1;33m\u001b[0m\u001b[0m\n\u001b[0;32m      4\u001b[0m \u001b[1;32mfor\u001b[0m \u001b[0mfeature\u001b[0m \u001b[1;32min\u001b[0m \u001b[0mfeatures\u001b[0m\u001b[1;33m:\u001b[0m\u001b[1;33m\u001b[0m\u001b[0m\n\u001b[1;32m----> 5\u001b[1;33m     \u001b[0munique_id_to_feature\u001b[0m\u001b[1;33m[\u001b[0m\u001b[0mfeature\u001b[0m\u001b[1;33m.\u001b[0m\u001b[0mguid\u001b[0m\u001b[1;33m]\u001b[0m \u001b[1;33m=\u001b[0m \u001b[0mfeature\u001b[0m\u001b[1;33m\u001b[0m\u001b[0m\n\u001b[0m",
      "\u001b[1;31mAttributeError\u001b[0m: 'InputFeatures' object has no attribute 'guid'"
     ]
    }
   ],
   "source": [
    "features = df_features\n",
    "\n",
    "unique_id_to_feature = {}\n",
    "for feature in features:\n",
    "    unique_id_to_feature[feature.guid] = feature\n"
   ]
  },
  {
   "cell_type": "code",
   "execution_count": 163,
   "metadata": {},
   "outputs": [
    {
     "data": {
      "text/plain": [
       "True"
      ]
     },
     "execution_count": 163,
     "metadata": {},
     "output_type": "execute_result"
    }
   ],
   "source": [
    "features[0].is_real_example"
   ]
  },
  {
   "cell_type": "code",
   "execution_count": null,
   "metadata": {},
   "outputs": [],
   "source": [
    "from extract_features import model_fn_builder\n",
    "model_fn = model_fn_builder()"
   ]
  }
 ],
 "metadata": {
  "kernelspec": {
   "display_name": "Python 3",
   "language": "python",
   "name": "python3"
  },
  "language_info": {
   "codemirror_mode": {
    "name": "ipython",
    "version": 3
   },
   "file_extension": ".py",
   "mimetype": "text/x-python",
   "name": "python",
   "nbconvert_exporter": "python",
   "pygments_lexer": "ipython3",
   "version": "3.6.6"
  }
 },
 "nbformat": 4,
 "nbformat_minor": 2
}
