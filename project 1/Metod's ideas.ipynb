{
  "nbformat": 4,
  "nbformat_minor": 0,
  "metadata": {
    "colab": {
      "name": "NLU.ipynb",
      "version": "0.3.2",
      "provenance": [],
      "collapsed_sections": [],
      "toc_visible": true
    },
    "kernelspec": {
      "name": "python3",
      "display_name": "Python 3"
    }
  },
  "cells": [
    {
      "metadata": {
        "id": "OluFy0a_Ysjy",
        "colab_type": "code",
        "colab": {}
      },
      "cell_type": "code",
      "source": [
        "import tensorflow as tf\n",
        "from collections import Counter\n",
        "import numpy as np\n",
        "import math\n",
        "\n",
        "from google.colab import files"
      ],
      "execution_count": 0,
      "outputs": []
    },
    {
      "metadata": {
        "id": "NhUqAO8GR_pP",
        "colab_type": "code",
        "outputId": "99b125a7-ec88-4398-b9cd-d4681ed4e9cf",
        "colab": {
          "resources": {
            "http://localhost:8080/nbextensions/google.colab/files.js": {
              "data": "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",
              "ok": true,
              "headers": [
                [
                  "content-type",
                  "application/javascript"
                ]
              ],
              "status": 200,
              "status_text": ""
            }
          },
          "base_uri": "https://localhost:8080/",
          "height": 91
        }
      },
      "cell_type": "code",
      "source": [
        "uploaded = files.upload()\n",
        "\n",
        "for fn in uploaded.keys():\n",
        "  print('User uploaded file \"{name}\" with length {length} bytes'.format(\n",
        "      name=fn, length=len(uploaded[fn])))"
      ],
      "execution_count": 0,
      "outputs": [
        {
          "output_type": "display_data",
          "data": {
            "text/html": [
              "\n",
              "     <input type=\"file\" id=\"files-c05270f8-9c44-494c-80f7-ab1ce43aeb6f\" name=\"files[]\" multiple disabled />\n",
              "     <output id=\"result-c05270f8-9c44-494c-80f7-ab1ce43aeb6f\">\n",
              "      Upload widget is only available when the cell has been executed in the\n",
              "      current browser session. Please rerun this cell to enable.\n",
              "      </output>\n",
              "      <script src=\"/nbextensions/google.colab/files.js\"></script> "
            ],
            "text/plain": [
              "<IPython.core.display.HTML object>"
            ]
          },
          "metadata": {
            "tags": []
          }
        },
        {
          "output_type": "stream",
          "text": [
            "Saving sentences.train to sentences.train\n",
            "User uploaded file \"sentences.train\" with length 111668947 bytes\n"
          ],
          "name": "stdout"
        }
      ]
    },
    {
      "metadata": {
        "id": "gUgkaFWpqa06",
        "colab_type": "text"
      },
      "cell_type": "markdown",
      "source": [
        "### **1) PREPROCESSING**"
      ]
    },
    {
      "metadata": {
        "id": "8rJ-NOsmXr_Z",
        "colab_type": "code",
        "colab": {}
      },
      "cell_type": "code",
      "source": [
        "def _sentence_preprocessing(sentence):\n",
        "    sentence = ['<bos>'] + line.split() + ['<eos>']\n",
        "    if len(sentence) <= 30:\n",
        "        sentence = sentence + ['<pad>']*(30-len(sentence))\n",
        "        return sentence\n",
        "    #we ignore sentences with more than 30 words/tokens\n",
        "    return []"
      ],
      "execution_count": 0,
      "outputs": []
    },
    {
      "metadata": {
        "id": "oBLNgR63YzQC",
        "colab_type": "code",
        "colab": {}
      },
      "cell_type": "code",
      "source": [
        "tokens = []\n",
        "\n",
        "with open(\"sentences.train\", \"r\") as file:\n",
        "  for line in file:\n",
        "    tokens.extend(_sentence_preprocessing(line))\n",
        "        \n",
        "file.close()"
      ],
      "execution_count": 0,
      "outputs": []
    },
    {
      "metadata": {
        "id": "E7-NT73fY9t1",
        "colab_type": "code",
        "outputId": "de4be31c-311c-4967-c2f6-1108bb817913",
        "colab": {
          "base_uri": "https://localhost:8080/",
          "height": 34
        }
      },
      "cell_type": "code",
      "source": [
        "#build vocab of 20k most frequent words\n",
        "vocab = Counter(tokens)\n",
        "vocab_20k = list(map(lambda x: x[0], vocab.most_common(19999))) #19999 cause last, 20000th token, is reserved for <unk>\n",
        "vocab_20k[:10]"
      ],
      "execution_count": 21,
      "outputs": [
        {
          "output_type": "execute_result",
          "data": {
            "text/plain": [
              "['<pad>', '<bos>', '<eos>', '.', ',', 'the', 'i', 'to', 'and', '``']"
            ]
          },
          "metadata": {
            "tags": []
          },
          "execution_count": 21
        }
      ]
    },
    {
      "metadata": {
        "id": "MBbF4FO1ZKAY",
        "colab_type": "code",
        "outputId": "f671336d-2316-4554-b527-f4becc10e605",
        "colab": {
          "base_uri": "https://localhost:8080/",
          "height": 34
        }
      },
      "cell_type": "code",
      "source": [
        "word_list = list(set(tokens))\n",
        "len(word_list)"
      ],
      "execution_count": 22,
      "outputs": [
        {
          "output_type": "execute_result",
          "data": {
            "text/plain": [
              "175268"
            ]
          },
          "metadata": {
            "tags": []
          },
          "execution_count": 22
        }
      ]
    },
    {
      "metadata": {
        "id": "4voHg5hpZnxy",
        "colab_type": "code",
        "colab": {}
      },
      "cell_type": "code",
      "source": [
        "#build words to ids dictionary\n",
        "word_to_id_dict = dict({'<bos>': 1, '<eos>': 2, '<pad>': 3, '<unk>': 4})\n",
        "id_counter = 5 \n",
        "for word in word_list:\n",
        "  if word_to_id_dict.get(word, 0) == 0 and word in vocab_20k:\n",
        "      word_to_id_dict[word] = id_counter\n",
        "      id_counter += 1"
      ],
      "execution_count": 0,
      "outputs": []
    },
    {
      "metadata": {
        "id": "y7wabdJIgLZ6",
        "colab_type": "code",
        "colab": {}
      },
      "cell_type": "code",
      "source": [
        "words_ids = np.array([word_to_id_dict.get(word,4)-1 for word in tokens]).reshape(int(len(tokens)/30), 30)\n",
        "#-1 so that indexing starts with 0 and not 1 (this we need later due to using embedding_lookup)"
      ],
      "execution_count": 0,
      "outputs": []
    },
    {
      "metadata": {
        "id": "siy5NM2gfOFQ",
        "colab_type": "code",
        "outputId": "32131ef3-a501-4d7e-a78c-d732f1c57117",
        "colab": {
          "base_uri": "https://localhost:8080/",
          "height": 84
        }
      },
      "cell_type": "code",
      "source": [
        "words_ids[0,:]"
      ],
      "execution_count": 9,
      "outputs": [
        {
          "output_type": "execute_result",
          "data": {
            "text/plain": [
              "array([    0, 14886, 12089,  4356, 18925,  7616,  8296,     3,  1294,\n",
              "       18139,  1337, 16789, 15393, 18925,  8073,  9840,  4477,  8296,\n",
              "        3969,  5143,     1,     2,     2,     2,     2,     2,     2,\n",
              "           2,     2,     2])"
            ]
          },
          "metadata": {
            "tags": []
          },
          "execution_count": 9
        }
      ]
    },
    {
      "metadata": {
        "id": "8M9P6m9aHENC",
        "colab_type": "code",
        "colab": {}
      },
      "cell_type": "code",
      "source": [
        "with open('train.ids', 'w') as file:\n",
        "  for i in range(words_ids.shape[0]):\n",
        "    file.write(' '.join(str(x) for x in list(words_ids[i,:])) + '\\n')\n",
        "    \n",
        "file.close()"
      ],
      "execution_count": 0,
      "outputs": []
    },
    {
      "metadata": {
        "id": "_tk0tGBZZAuA",
        "colab_type": "text"
      },
      "cell_type": "markdown",
      "source": [
        "### *2) DATASET API*"
      ]
    },
    {
      "metadata": {
        "id": "QCUDoGgmY99j",
        "colab_type": "code",
        "colab": {}
      },
      "cell_type": "code",
      "source": [
        "def parse(line, vocab_size=20000):\n",
        "  line_split = tf.string_split([line])\n",
        "  input_seq = tf.string_to_number(line_split.values[:-1], out_type=tf.int32)\n",
        "  output_seq = tf.string_to_number(line_split.values[1:], out_type=tf.int32)\n",
        "  return input_seq, output_seq"
      ],
      "execution_count": 0,
      "outputs": []
    },
    {
      "metadata": {
        "id": "Uyq4e9BsY_HX",
        "colab_type": "code",
        "colab": {
          "base_uri": "https://localhost:8080/",
          "height": 87
        },
        "outputId": "f6b8ea68-f824-4c99-8cd4-182d37bffdc1"
      },
      "cell_type": "code",
      "source": [
        "batch_size = 64\n",
        "hidden_units = 512\n",
        "\n",
        "file_name_train = tf.placeholder(tf.string)\n",
        "\n",
        "training_dataset = tf.data.TextLineDataset(file_name_train).map(parse).batch(batch_size)\n",
        "iterator = tf.data.Iterator.from_structure(training_dataset.output_types, training_dataset.output_shapes)\n",
        "input_batch, output_batch = iterator.get_next()\n",
        "training_init_op = iterator.make_initializer(training_dataset)"
      ],
      "execution_count": 12,
      "outputs": [
        {
          "output_type": "stream",
          "text": [
            "WARNING:tensorflow:From /usr/local/lib/python3.6/dist-packages/tensorflow/python/data/ops/iterator_ops.py:358: colocate_with (from tensorflow.python.framework.ops) is deprecated and will be removed in a future version.\n",
            "Instructions for updating:\n",
            "Colocations handled automatically by placer.\n"
          ],
          "name": "stdout"
        }
      ]
    },
    {
      "metadata": {
        "id": "esQg-9lxZVpd",
        "colab_type": "code",
        "outputId": "9c40c2fd-e451-4cb9-a3e5-7430076a1017",
        "colab": {
          "base_uri": "https://localhost:8080/",
          "height": 894
        }
      },
      "cell_type": "code",
      "source": [
        "#print out first three batches\n",
        "with tf.Session() as sess:\n",
        "  sess.run(training_init_op, {file_name_train: \"train.ids\"})\n",
        "  sess.run(tf.initialize_all_variables())\n",
        "  for _ in range(3):\n",
        "    a, b = sess.run([input_batch, output_batch])\n",
        "    print(a)\n",
        "    print(b)\n",
        "    print(a.shape)\n",
        "    print(b.shape)\n"
      ],
      "execution_count": 16,
      "outputs": [
        {
          "output_type": "stream",
          "text": [
            "WARNING:tensorflow:From /usr/local/lib/python3.6/dist-packages/tensorflow/python/util/tf_should_use.py:193: initialize_all_variables (from tensorflow.python.ops.variables) is deprecated and will be removed after 2017-03-02.\n",
            "Instructions for updating:\n",
            "Use `tf.global_variables_initializer` instead.\n",
            "[[    0 14886 12089 ...     2     2     2]\n",
            " [    0 14886 10106 ...     2     2     2]\n",
            " [    0     3  9022 ...     2     2     2]\n",
            " ...\n",
            " [    0  3691 18702 ...     2     2     2]\n",
            " [    0 12089 18456 ...     2     2     2]\n",
            " [    0 14886  8320 ...     2     2     2]]\n",
            "[[14886 12089  4356 ...     2     2     2]\n",
            " [14886 10106 19316 ...     2     2     2]\n",
            " [    3  9022 18171 ...     2     2     2]\n",
            " ...\n",
            " [ 3691 18702 12063 ...     2     2     2]\n",
            " [12089 18456 19867 ...     2     2     2]\n",
            " [14886  8320  1337 ...     2     2     2]]\n",
            "(64, 29)\n",
            "(64, 29)\n",
            "[[    0  5986 19766 ...     2     2     2]\n",
            " [    0 12355  4453 ...     2     2     2]\n",
            " [    0 12116     3 ...     2     2     2]\n",
            " ...\n",
            " [    0  8609 15367 ...     2     2     2]\n",
            " [    0 11158  3691 ...     2     2     2]\n",
            " [    0 14886 19354 ...     2     2     2]]\n",
            "[[ 5986 19766  1337 ...     2     2     2]\n",
            " [12355  4453  3433 ...     2     2     2]\n",
            " [12116     3  3233 ...     2     2     2]\n",
            " ...\n",
            " [ 8609 15367  1579 ...     2     2     2]\n",
            " [11158  3691     3 ...     2     2     2]\n",
            " [14886 19354  3969 ...     2     2     2]]\n",
            "(64, 29)\n",
            "(64, 29)\n",
            "[[    0  3691 12596 ...     2     2     2]\n",
            " [    0  5092  3946 ...     2     2     2]\n",
            " [    0     3  5206 ...     2     2     2]\n",
            " ...\n",
            " [    0 14886 15381 ...     2     2     2]\n",
            " [    0  3691  3204 ...     2     2     2]\n",
            " [    0     3  1337 ...     2     2     2]]\n",
            "[[ 3691 12596  2719 ...     2     2     2]\n",
            " [ 5092  3946 10690 ...     2     2     2]\n",
            " [    3  5206  4194 ...     2     2     2]\n",
            " ...\n",
            " [14886 15381 11106 ...     2     2     2]\n",
            " [ 3691  3204 16122 ...     2     2     2]\n",
            " [    3  1337 12089 ...     2     2     2]]\n",
            "(64, 29)\n",
            "(64, 29)\n"
          ],
          "name": "stdout"
        }
      ]
    },
    {
      "metadata": {
        "id": "e7I7tY-q47Qs",
        "colab_type": "text"
      },
      "cell_type": "markdown",
      "source": [
        "### **3) EXPERIMENT A**"
      ]
    },
    {
      "metadata": {
        "id": "bYlMsZiD4TAv",
        "colab_type": "code",
        "colab": {}
      },
      "cell_type": "code",
      "source": [
        "def parse(line, vocab_size=20000):\n",
        "  line_split = tf.string_split([line])\n",
        "  input_seq = tf.string_to_number(line_split.values[:-1], out_type=tf.int32)\n",
        "  output_seq = tf.string_to_number(line_split.values[1:], out_type=tf.int32)\n",
        "  return input_seq, output_seq"
      ],
      "execution_count": 0,
      "outputs": []
    },
    {
      "metadata": {
        "id": "k_9mPxxD4i-i",
        "colab_type": "code",
        "outputId": "173efc4b-eac5-41a3-a916-75eee14dca96",
        "colab": {
          "base_uri": "https://localhost:8080/",
          "height": 1593
        }
      },
      "cell_type": "code",
      "source": [
        "batch_size = 64\n",
        "vocab_size = 20000\n",
        "embed_size = 100\n",
        "hidden_units = 512\n",
        "num_epochs = 2\n",
        "\n",
        "tf.reset_default_graph()\n",
        "initializer = tf.contrib.layers.xavier_initializer()\n",
        "\n",
        "#import the data \n",
        "with tf.name_scope('inputs'):\n",
        "  file_name_train = tf.placeholder(tf.string)\n",
        "  training_dataset = tf.data.TextLineDataset(file_name_train).map(parse).batch(batch_size)\n",
        "  iterator = tf.data.Iterator.from_structure(training_dataset.output_types, training_dataset.output_shapes)\n",
        "  input_batch, output_batch = iterator.get_next()\n",
        "  training_init_op = iterator.make_initializer(training_dataset) \n",
        "  \n",
        "  nr_words = tf.reduce_prod(tf.shape(input_batch))\n",
        "\n",
        "\n",
        "#embeddings\n",
        "with tf.name_scope(\"embeddings\"):\n",
        "  input_embedding_mat = tf.get_variable('input_embedding_mat', shape=(vocab_size, embed_size), \n",
        "                                        dtype=tf.float32, initializer=initializer)\n",
        "  output_embedding_mat = tf.get_variable('output_embedding_mat', shape=(vocab_size, hidden_units), \n",
        "                                         dtype=tf.float32, initializer=initializer)\n",
        "\n",
        "\n",
        "  input_embedded = tf.nn.embedding_lookup(input_embedding_mat, input_batch) #(64,29,100)\n",
        "\n",
        "  def output_embedding(current_output):\n",
        "              return tf.matmul(current_output, tf.transpose(output_embedding_mat))\n",
        "  \n",
        "#rnn\n",
        "with tf.name_scope('rnn'):\n",
        "  LSTM = tf.nn.rnn_cell.LSTMCell(hidden_units, initializer=initializer, reuse=tf.AUTO_REUSE)\n",
        "  state_c, state_h = LSTM.zero_state(batch_size=batch_size, dtype=tf.float32)\n",
        "\n",
        "  preds = []\n",
        "  for i in range(29):\n",
        "    output, (state_c, state_h) = LSTM(tf.reshape(input_embedded[:,i,:], [batch_size,embed_size]), state=(state_c, state_h))\n",
        "    preds.append(output)\n",
        "\n",
        "  preds = tf.stack(preds, axis=1) #concatenate preds over axis=1 (2nd dimension), to obtain tensor of size (64,29,512)\n",
        "\n",
        "  \n",
        "#loss\n",
        "with tf.name_scope('loss'):\n",
        "  logits = tf.map_fn(output_embedding, preds) #(64,29,20000)\n",
        "  logits = tf.reshape(logits, [-1, vocab_size])  \n",
        "  loss = tf.nn.sparse_softmax_cross_entropy_with_logits(labels=tf.reshape(output_batch, [-1]), logits=logits) #(1856,)\n",
        "\n",
        "#optimization\n",
        "with tf.name_scope('optimization'):\n",
        "  params = tf.trainable_variables()\n",
        "  opt = tf.train.AdamOptimizer()\n",
        "  gradients = tf.gradients(loss, params, colocate_gradients_with_ops=True)\n",
        "  clipped_gradients, _ = tf.clip_by_global_norm(gradients, 5)\n",
        "  global_step = tf.train.get_or_create_global_step()\n",
        "  updates = opt.apply_gradients(zip(clipped_gradients, params), global_step=global_step)\n",
        "\n",
        "\n",
        "with tf.Session() as sess:\n",
        "    sess.run(tf.global_variables_initializer())\n",
        "    epoch = 0\n",
        "    while epoch < num_epochs:\n",
        "      sess.run(training_init_op, {file_name_train: \"train.ids\"})\n",
        "      train_loss = 0.0\n",
        "      train_words = 0.0\n",
        "      while True:\n",
        "          try:\n",
        "            _loss, _words, _global_step, _ = sess.run([loss, nr_words, global_step, updates])\n",
        "            train_loss += np.sum(_loss)\n",
        "            train_words += _words\n",
        "           \n",
        "            if _global_step % 10 == 0:\n",
        "              train_loss /= train_words\n",
        "              train_ppl = math.exp(train_loss)\n",
        "              print(\"Training Step: {}. Training perplexity: {}. Epoch: {}\".format(_global_step, train_ppl, epoch))\n",
        "              train_loss = 0.0\n",
        "              train_words = 0\n",
        "                        \n",
        "          except tf.errors.OutOfRangeError:\n",
        "              # The end of one epoch\n",
        "              epoch += 1\n",
        "              break"
      ],
      "execution_count": 27,
      "outputs": [
        {
          "output_type": "stream",
          "text": [
            "Training Step: 10. Training perplexity: 3564.209138383194. Epoch: 0\n",
            "Training Step: 20. Training perplexity: 47.700302967892846. Epoch: 0\n",
            "Training Step: 30. Training perplexity: 42.71117369212458. Epoch: 0\n",
            "Training Step: 40. Training perplexity: 41.85922497650299. Epoch: 0\n",
            "Training Step: 50. Training perplexity: 38.845850039202546. Epoch: 0\n",
            "Training Step: 60. Training perplexity: 33.34318157551967. Epoch: 0\n",
            "Training Step: 70. Training perplexity: 29.341679391529752. Epoch: 0\n",
            "Training Step: 80. Training perplexity: 23.362750225842493. Epoch: 0\n",
            "Training Step: 90. Training perplexity: 19.618937179369283. Epoch: 0\n",
            "Training Step: 100. Training perplexity: 16.336344330957093. Epoch: 0\n",
            "Training Step: 110. Training perplexity: 15.603616100438296. Epoch: 0\n",
            "Training Step: 120. Training perplexity: 13.576652404413844. Epoch: 0\n",
            "Training Step: 130. Training perplexity: 13.337870211990573. Epoch: 0\n",
            "Training Step: 140. Training perplexity: 13.349407399817748. Epoch: 0\n",
            "Training Step: 150. Training perplexity: 12.958089300920397. Epoch: 0\n",
            "Training Step: 160. Training perplexity: 11.563641187516842. Epoch: 0\n",
            "Training Step: 170. Training perplexity: 11.610438603920645. Epoch: 0\n",
            "Training Step: 180. Training perplexity: 12.783701637055591. Epoch: 0\n",
            "Training Step: 190. Training perplexity: 12.615753491424957. Epoch: 0\n",
            "Training Step: 200. Training perplexity: 11.791121069449622. Epoch: 0\n",
            "Training Step: 210. Training perplexity: 11.046153694105481. Epoch: 0\n",
            "Training Step: 220. Training perplexity: 12.59474125758036. Epoch: 0\n",
            "Training Step: 230. Training perplexity: 10.994161218757142. Epoch: 0\n",
            "Training Step: 240. Training perplexity: 10.953809056416398. Epoch: 0\n",
            "Training Step: 250. Training perplexity: 11.261968201698867. Epoch: 0\n",
            "Training Step: 260. Training perplexity: 10.733573829182193. Epoch: 0\n",
            "Training Step: 270. Training perplexity: 11.986679222492661. Epoch: 0\n",
            "Training Step: 280. Training perplexity: 10.893410174683432. Epoch: 0\n",
            "Training Step: 290. Training perplexity: 11.128120544207224. Epoch: 0\n",
            "Training Step: 300. Training perplexity: 12.18287984903419. Epoch: 0\n",
            "Training Step: 310. Training perplexity: 11.134383302326773. Epoch: 0\n",
            "Training Step: 320. Training perplexity: 11.004812329124846. Epoch: 0\n",
            "Training Step: 330. Training perplexity: 11.32882668270125. Epoch: 0\n",
            "Training Step: 340. Training perplexity: 11.987806173822127. Epoch: 0\n",
            "Training Step: 350. Training perplexity: 11.283611836343853. Epoch: 0\n",
            "Training Step: 360. Training perplexity: 10.531259048008376. Epoch: 0\n",
            "Training Step: 370. Training perplexity: 10.272154984896241. Epoch: 0\n",
            "Training Step: 380. Training perplexity: 10.547246951733223. Epoch: 0\n"
          ],
          "name": "stdout"
        },
        {
          "output_type": "error",
          "ename": "KeyboardInterrupt",
          "evalue": "ignored",
          "traceback": [
            "\u001b[0;31m---------------------------------------------------------------------------\u001b[0m",
            "\u001b[0;31mKeyboardInterrupt\u001b[0m                         Traceback (most recent call last)",
            "\u001b[0;32m<ipython-input-27-2ad48c99cde6>\u001b[0m in \u001b[0;36m<module>\u001b[0;34m()\u001b[0m\n\u001b[1;32m     70\u001b[0m       \u001b[0;32mwhile\u001b[0m \u001b[0;32mTrue\u001b[0m\u001b[0;34m:\u001b[0m\u001b[0;34m\u001b[0m\u001b[0;34m\u001b[0m\u001b[0m\n\u001b[1;32m     71\u001b[0m           \u001b[0;32mtry\u001b[0m\u001b[0;34m:\u001b[0m\u001b[0;34m\u001b[0m\u001b[0;34m\u001b[0m\u001b[0m\n\u001b[0;32m---> 72\u001b[0;31m             \u001b[0m_loss\u001b[0m\u001b[0;34m,\u001b[0m \u001b[0m_words\u001b[0m\u001b[0;34m,\u001b[0m \u001b[0m_global_step\u001b[0m\u001b[0;34m,\u001b[0m \u001b[0m_\u001b[0m \u001b[0;34m=\u001b[0m \u001b[0msess\u001b[0m\u001b[0;34m.\u001b[0m\u001b[0mrun\u001b[0m\u001b[0;34m(\u001b[0m\u001b[0;34m[\u001b[0m\u001b[0mloss\u001b[0m\u001b[0;34m,\u001b[0m \u001b[0mnr_words\u001b[0m\u001b[0;34m,\u001b[0m \u001b[0mglobal_step\u001b[0m\u001b[0;34m,\u001b[0m \u001b[0mupdates\u001b[0m\u001b[0;34m]\u001b[0m\u001b[0;34m)\u001b[0m\u001b[0;34m\u001b[0m\u001b[0;34m\u001b[0m\u001b[0m\n\u001b[0m\u001b[1;32m     73\u001b[0m             \u001b[0mtrain_loss\u001b[0m \u001b[0;34m+=\u001b[0m \u001b[0mnp\u001b[0m\u001b[0;34m.\u001b[0m\u001b[0msum\u001b[0m\u001b[0;34m(\u001b[0m\u001b[0m_loss\u001b[0m\u001b[0;34m)\u001b[0m\u001b[0;34m\u001b[0m\u001b[0;34m\u001b[0m\u001b[0m\n\u001b[1;32m     74\u001b[0m             \u001b[0mtrain_words\u001b[0m \u001b[0;34m+=\u001b[0m \u001b[0m_words\u001b[0m\u001b[0;34m\u001b[0m\u001b[0;34m\u001b[0m\u001b[0m\n",
            "\u001b[0;32m/usr/local/lib/python3.6/dist-packages/tensorflow/python/client/session.py\u001b[0m in \u001b[0;36mrun\u001b[0;34m(self, fetches, feed_dict, options, run_metadata)\u001b[0m\n\u001b[1;32m    927\u001b[0m     \u001b[0;32mtry\u001b[0m\u001b[0;34m:\u001b[0m\u001b[0;34m\u001b[0m\u001b[0;34m\u001b[0m\u001b[0m\n\u001b[1;32m    928\u001b[0m       result = self._run(None, fetches, feed_dict, options_ptr,\n\u001b[0;32m--> 929\u001b[0;31m                          run_metadata_ptr)\n\u001b[0m\u001b[1;32m    930\u001b[0m       \u001b[0;32mif\u001b[0m \u001b[0mrun_metadata\u001b[0m\u001b[0;34m:\u001b[0m\u001b[0;34m\u001b[0m\u001b[0;34m\u001b[0m\u001b[0m\n\u001b[1;32m    931\u001b[0m         \u001b[0mproto_data\u001b[0m \u001b[0;34m=\u001b[0m \u001b[0mtf_session\u001b[0m\u001b[0;34m.\u001b[0m\u001b[0mTF_GetBuffer\u001b[0m\u001b[0;34m(\u001b[0m\u001b[0mrun_metadata_ptr\u001b[0m\u001b[0;34m)\u001b[0m\u001b[0;34m\u001b[0m\u001b[0;34m\u001b[0m\u001b[0m\n",
            "\u001b[0;32m/usr/local/lib/python3.6/dist-packages/tensorflow/python/client/session.py\u001b[0m in \u001b[0;36m_run\u001b[0;34m(self, handle, fetches, feed_dict, options, run_metadata)\u001b[0m\n\u001b[1;32m   1150\u001b[0m     \u001b[0;32mif\u001b[0m \u001b[0mfinal_fetches\u001b[0m \u001b[0;32mor\u001b[0m \u001b[0mfinal_targets\u001b[0m \u001b[0;32mor\u001b[0m \u001b[0;34m(\u001b[0m\u001b[0mhandle\u001b[0m \u001b[0;32mand\u001b[0m \u001b[0mfeed_dict_tensor\u001b[0m\u001b[0;34m)\u001b[0m\u001b[0;34m:\u001b[0m\u001b[0;34m\u001b[0m\u001b[0;34m\u001b[0m\u001b[0m\n\u001b[1;32m   1151\u001b[0m       results = self._do_run(handle, final_targets, final_fetches,\n\u001b[0;32m-> 1152\u001b[0;31m                              feed_dict_tensor, options, run_metadata)\n\u001b[0m\u001b[1;32m   1153\u001b[0m     \u001b[0;32melse\u001b[0m\u001b[0;34m:\u001b[0m\u001b[0;34m\u001b[0m\u001b[0;34m\u001b[0m\u001b[0m\n\u001b[1;32m   1154\u001b[0m       \u001b[0mresults\u001b[0m \u001b[0;34m=\u001b[0m \u001b[0;34m[\u001b[0m\u001b[0;34m]\u001b[0m\u001b[0;34m\u001b[0m\u001b[0;34m\u001b[0m\u001b[0m\n",
            "\u001b[0;32m/usr/local/lib/python3.6/dist-packages/tensorflow/python/client/session.py\u001b[0m in \u001b[0;36m_do_run\u001b[0;34m(self, handle, target_list, fetch_list, feed_dict, options, run_metadata)\u001b[0m\n\u001b[1;32m   1326\u001b[0m     \u001b[0;32mif\u001b[0m \u001b[0mhandle\u001b[0m \u001b[0;32mis\u001b[0m \u001b[0;32mNone\u001b[0m\u001b[0;34m:\u001b[0m\u001b[0;34m\u001b[0m\u001b[0;34m\u001b[0m\u001b[0m\n\u001b[1;32m   1327\u001b[0m       return self._do_call(_run_fn, feeds, fetches, targets, options,\n\u001b[0;32m-> 1328\u001b[0;31m                            run_metadata)\n\u001b[0m\u001b[1;32m   1329\u001b[0m     \u001b[0;32melse\u001b[0m\u001b[0;34m:\u001b[0m\u001b[0;34m\u001b[0m\u001b[0;34m\u001b[0m\u001b[0m\n\u001b[1;32m   1330\u001b[0m       \u001b[0;32mreturn\u001b[0m \u001b[0mself\u001b[0m\u001b[0;34m.\u001b[0m\u001b[0m_do_call\u001b[0m\u001b[0;34m(\u001b[0m\u001b[0m_prun_fn\u001b[0m\u001b[0;34m,\u001b[0m \u001b[0mhandle\u001b[0m\u001b[0;34m,\u001b[0m \u001b[0mfeeds\u001b[0m\u001b[0;34m,\u001b[0m \u001b[0mfetches\u001b[0m\u001b[0;34m)\u001b[0m\u001b[0;34m\u001b[0m\u001b[0;34m\u001b[0m\u001b[0m\n",
            "\u001b[0;32m/usr/local/lib/python3.6/dist-packages/tensorflow/python/client/session.py\u001b[0m in \u001b[0;36m_do_call\u001b[0;34m(self, fn, *args)\u001b[0m\n\u001b[1;32m   1332\u001b[0m   \u001b[0;32mdef\u001b[0m \u001b[0m_do_call\u001b[0m\u001b[0;34m(\u001b[0m\u001b[0mself\u001b[0m\u001b[0;34m,\u001b[0m \u001b[0mfn\u001b[0m\u001b[0;34m,\u001b[0m \u001b[0;34m*\u001b[0m\u001b[0margs\u001b[0m\u001b[0;34m)\u001b[0m\u001b[0;34m:\u001b[0m\u001b[0;34m\u001b[0m\u001b[0;34m\u001b[0m\u001b[0m\n\u001b[1;32m   1333\u001b[0m     \u001b[0;32mtry\u001b[0m\u001b[0;34m:\u001b[0m\u001b[0;34m\u001b[0m\u001b[0;34m\u001b[0m\u001b[0m\n\u001b[0;32m-> 1334\u001b[0;31m       \u001b[0;32mreturn\u001b[0m \u001b[0mfn\u001b[0m\u001b[0;34m(\u001b[0m\u001b[0;34m*\u001b[0m\u001b[0margs\u001b[0m\u001b[0;34m)\u001b[0m\u001b[0;34m\u001b[0m\u001b[0;34m\u001b[0m\u001b[0m\n\u001b[0m\u001b[1;32m   1335\u001b[0m     \u001b[0;32mexcept\u001b[0m \u001b[0merrors\u001b[0m\u001b[0;34m.\u001b[0m\u001b[0mOpError\u001b[0m \u001b[0;32mas\u001b[0m \u001b[0me\u001b[0m\u001b[0;34m:\u001b[0m\u001b[0;34m\u001b[0m\u001b[0;34m\u001b[0m\u001b[0m\n\u001b[1;32m   1336\u001b[0m       \u001b[0mmessage\u001b[0m \u001b[0;34m=\u001b[0m \u001b[0mcompat\u001b[0m\u001b[0;34m.\u001b[0m\u001b[0mas_text\u001b[0m\u001b[0;34m(\u001b[0m\u001b[0me\u001b[0m\u001b[0;34m.\u001b[0m\u001b[0mmessage\u001b[0m\u001b[0;34m)\u001b[0m\u001b[0;34m\u001b[0m\u001b[0;34m\u001b[0m\u001b[0m\n",
            "\u001b[0;32m/usr/local/lib/python3.6/dist-packages/tensorflow/python/client/session.py\u001b[0m in \u001b[0;36m_run_fn\u001b[0;34m(feed_dict, fetch_list, target_list, options, run_metadata)\u001b[0m\n\u001b[1;32m   1317\u001b[0m       \u001b[0mself\u001b[0m\u001b[0;34m.\u001b[0m\u001b[0m_extend_graph\u001b[0m\u001b[0;34m(\u001b[0m\u001b[0;34m)\u001b[0m\u001b[0;34m\u001b[0m\u001b[0;34m\u001b[0m\u001b[0m\n\u001b[1;32m   1318\u001b[0m       return self._call_tf_sessionrun(\n\u001b[0;32m-> 1319\u001b[0;31m           options, feed_dict, fetch_list, target_list, run_metadata)\n\u001b[0m\u001b[1;32m   1320\u001b[0m \u001b[0;34m\u001b[0m\u001b[0m\n\u001b[1;32m   1321\u001b[0m     \u001b[0;32mdef\u001b[0m \u001b[0m_prun_fn\u001b[0m\u001b[0;34m(\u001b[0m\u001b[0mhandle\u001b[0m\u001b[0;34m,\u001b[0m \u001b[0mfeed_dict\u001b[0m\u001b[0;34m,\u001b[0m \u001b[0mfetch_list\u001b[0m\u001b[0;34m)\u001b[0m\u001b[0;34m:\u001b[0m\u001b[0;34m\u001b[0m\u001b[0;34m\u001b[0m\u001b[0m\n",
            "\u001b[0;32m/usr/local/lib/python3.6/dist-packages/tensorflow/python/client/session.py\u001b[0m in \u001b[0;36m_call_tf_sessionrun\u001b[0;34m(self, options, feed_dict, fetch_list, target_list, run_metadata)\u001b[0m\n\u001b[1;32m   1405\u001b[0m     return tf_session.TF_SessionRun_wrapper(\n\u001b[1;32m   1406\u001b[0m         \u001b[0mself\u001b[0m\u001b[0;34m.\u001b[0m\u001b[0m_session\u001b[0m\u001b[0;34m,\u001b[0m \u001b[0moptions\u001b[0m\u001b[0;34m,\u001b[0m \u001b[0mfeed_dict\u001b[0m\u001b[0;34m,\u001b[0m \u001b[0mfetch_list\u001b[0m\u001b[0;34m,\u001b[0m \u001b[0mtarget_list\u001b[0m\u001b[0;34m,\u001b[0m\u001b[0;34m\u001b[0m\u001b[0;34m\u001b[0m\u001b[0m\n\u001b[0;32m-> 1407\u001b[0;31m         run_metadata)\n\u001b[0m\u001b[1;32m   1408\u001b[0m \u001b[0;34m\u001b[0m\u001b[0m\n\u001b[1;32m   1409\u001b[0m   \u001b[0;32mdef\u001b[0m \u001b[0m_call_tf_sessionprun\u001b[0m\u001b[0;34m(\u001b[0m\u001b[0mself\u001b[0m\u001b[0;34m,\u001b[0m \u001b[0mhandle\u001b[0m\u001b[0;34m,\u001b[0m \u001b[0mfeed_dict\u001b[0m\u001b[0;34m,\u001b[0m \u001b[0mfetch_list\u001b[0m\u001b[0;34m)\u001b[0m\u001b[0;34m:\u001b[0m\u001b[0;34m\u001b[0m\u001b[0;34m\u001b[0m\u001b[0m\n",
            "\u001b[0;31mKeyboardInterrupt\u001b[0m: "
          ]
        }
      ]
    },
    {
      "metadata": {
        "id": "sj0cgcCLm8OM",
        "colab_type": "code",
        "colab": {}
      },
      "cell_type": "code",
      "source": [
        ""
      ],
      "execution_count": 0,
      "outputs": []
    },
    {
      "metadata": {
        "id": "RRfWUmNym8rq",
        "colab_type": "code",
        "colab": {}
      },
      "cell_type": "code",
      "source": [
        "### WORKING VERSION\n",
        "\n",
        "#TODO: fix embedding, use lookup table (see Šiki's link)\n",
        "# def embedding(batch, input=True):\n",
        "#   if not input:\n",
        "#     return  tf.matmul(batch, tf.transpose(output_embedding_mat))\n",
        "#   else:\n",
        "#     return  tf.matmul(batch, input_embedding_mat)\n",
        "\n",
        "# input_embedded = tf.map_fn(embedding, input_batch)\n",
        "\n",
        "#input_seq = tf.one_hot(input_seq, vocab_size)\n",
        "  #output_seq = tf.one_hot(output_seq, vocab_size)\n",
        "  \n",
        "  \n",
        "  \n",
        "#input_batch = tf.one_hot(input_batch, vocab_size)\n",
        "\n",
        "#             a = sess.run(input_embedded)\n",
        "#             print(a.shape)\n",
        "#             c = sess.run(logits)\n",
        "#             print(c.shape)\n",
        "#             d = sess.run(loss)\n",
        "#             print(d.shape)\n",
        "#             a = sess.run(preds)\n",
        "#             print(a[0].shape)\n",
        "\n",
        "#input_tensor = tf.convert_to_tensor(words_ids)\n",
        "#input_data = tf.data.Dataset.from_tensors(input_tensor)"
      ],
      "execution_count": 0,
      "outputs": []
    }
  ]
}