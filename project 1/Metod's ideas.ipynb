{
 "cells": [
  {
   "cell_type": "code",
   "execution_count": 1,
   "metadata": {},
   "outputs": [],
   "source": [
    "import tensorflow as tf\n",
    "from collections import Counter"
   ]
  },
  {
   "cell_type": "code",
   "execution_count": 10,
   "metadata": {},
   "outputs": [],
   "source": [
    "def _sentence_preprocessing(sentence):\n",
    "    sentence = ['<bos>'] + line.split() + ['<eos>']\n",
    "    if len(sentence) <= 30:\n",
    "        sentence = sentence + ['<pad>']*(30-len(sentence))\n",
    "        return sentence\n",
    "    #we ignore sentences with more than 30 words/tokens\n",
    "    return [] "
   ]
  },
  {
   "cell_type": "code",
   "execution_count": 11,
   "metadata": {},
   "outputs": [],
   "source": [
    "tokens = []\n",
    "\n",
    "with open(\"sentences.train\", \"r\") as file:\n",
    "    for line in file:\n",
    "        tokens.extend(_sentence_preprocessing(line))\n",
    "        \n",
    "file.close()"
   ]
  },
  {
   "cell_type": "code",
   "execution_count": 12,
   "metadata": {},
   "outputs": [],
   "source": [
    "vocab = Counter(tokens)"
   ]
  },
  {
   "cell_type": "code",
   "execution_count": 26,
   "metadata": {},
   "outputs": [],
   "source": [
    "vocab_20k = list(map(lambda x: x[0], vocab.most_common(20000)))"
   ]
  },
  {
   "cell_type": "code",
   "execution_count": 30,
   "metadata": {},
   "outputs": [
    {
     "data": {
      "text/plain": [
       "['<pad>', '<bos>', '<eos>', '.', ',', 'the', 'i', 'to', 'and', '``']"
      ]
     },
     "execution_count": 30,
     "metadata": {},
     "output_type": "execute_result"
    }
   ],
   "source": [
    "vocab_20k[:10]"
   ]
  },
  {
   "cell_type": "code",
   "execution_count": 34,
   "metadata": {},
   "outputs": [],
   "source": [
    "# with open(\"sentences.train\", \"r\") as file:\n",
    "#     with open(\"sentences_preprocessed.train\", \"w\") as file2:\n",
    "#         for line in file:\n",
    "#             sentence = _sentence_preprocessing(line)\n",
    "#             for i in range(len(sentence)):\n",
    "#                 if not (sentence[i] in vocab_20k):\n",
    "#                     sentence[i] = '<unk>'\n",
    "#             sentence = ' '.join(sentence)\n",
    "#             file2.writelines(sentence)\n",
    "            \n",
    "# file.close()\n",
    "# file2.close()"
   ]
  },
  {
   "cell_type": "code",
   "execution_count": null,
   "metadata": {},
   "outputs": [],
   "source": []
  },
  {
   "cell_type": "code",
   "execution_count": null,
   "metadata": {},
   "outputs": [],
   "source": []
  },
  {
   "cell_type": "code",
   "execution_count": 51,
   "metadata": {},
   "outputs": [],
   "source": []
  },
  {
   "cell_type": "code",
   "execution_count": 53,
   "metadata": {},
   "outputs": [],
   "source": []
  },
  {
   "cell_type": "code",
   "execution_count": 54,
   "metadata": {},
   "outputs": [],
   "source": []
  },
  {
   "cell_type": "code",
   "execution_count": 13,
   "metadata": {},
   "outputs": [
    {
     "name": "stdout",
     "output_type": "stream",
     "text": [
      "(b'<bos>', b'``', b'good', b'lord', b',', b\"''\", b'she', b'whispered', b'.', b'<eos>', b'<pad>', b'<pad>', b'<pad>', b'<pad>', b'<pad>', b'<pad>', b'<pad>', b'<pad>', b'<pad>', b'<pad>', b'<pad>', b'<pad>', b'<pad>', b'<pad>', b'<pad>', b'<pad>', b'<pad>', b'<pad>', b'<pad>', b'<pad>')\n",
      "(b'<bos>', b'``', b'good', b'lord', b',', b\"''\", b'she', b'whispered', b'.', b'<eos>', b'<pad>', b'<pad>', b'<pad>', b'<pad>', b'<pad>', b'<pad>', b'<pad>', b'<pad>', b'<pad>', b'<pad>', b'<pad>', b'<pad>', b'<pad>', b'<pad>', b'<pad>', b'<pad>', b'<pad>', b'<pad>', b'<pad>', b'<pad>')\n",
      "(b'<bos>', b'``', b'good', b'lord', b',', b\"''\", b'she', b'whispered', b'.', b'<eos>', b'<pad>', b'<pad>', b'<pad>', b'<pad>', b'<pad>', b'<pad>', b'<pad>', b'<pad>', b'<pad>', b'<pad>', b'<pad>', b'<pad>', b'<pad>', b'<pad>', b'<pad>', b'<pad>', b'<pad>', b'<pad>', b'<pad>', b'<pad>')\n",
      "(b'<bos>', b'``', b'good', b'lord', b',', b\"''\", b'she', b'whispered', b'.', b'<eos>', b'<pad>', b'<pad>', b'<pad>', b'<pad>', b'<pad>', b'<pad>', b'<pad>', b'<pad>', b'<pad>', b'<pad>', b'<pad>', b'<pad>', b'<pad>', b'<pad>', b'<pad>', b'<pad>', b'<pad>', b'<pad>', b'<pad>', b'<pad>')\n",
      "(b'<bos>', b'``', b'good', b'lord', b',', b\"''\", b'she', b'whispered', b'.', b'<eos>', b'<pad>', b'<pad>', b'<pad>', b'<pad>', b'<pad>', b'<pad>', b'<pad>', b'<pad>', b'<pad>', b'<pad>', b'<pad>', b'<pad>', b'<pad>', b'<pad>', b'<pad>', b'<pad>', b'<pad>', b'<pad>', b'<pad>', b'<pad>')\n",
      "(b'<bos>', b'``', b'good', b'lord', b',', b\"''\", b'she', b'whispered', b'.', b'<eos>', b'<pad>', b'<pad>', b'<pad>', b'<pad>', b'<pad>', b'<pad>', b'<pad>', b'<pad>', b'<pad>', b'<pad>', b'<pad>', b'<pad>', b'<pad>', b'<pad>', b'<pad>', b'<pad>', b'<pad>', b'<pad>', b'<pad>', b'<pad>')\n",
      "(b'<bos>', b'``', b'good', b'lord', b',', b\"''\", b'she', b'whispered', b'.', b'<eos>', b'<pad>', b'<pad>', b'<pad>', b'<pad>', b'<pad>', b'<pad>', b'<pad>', b'<pad>', b'<pad>', b'<pad>', b'<pad>', b'<pad>', b'<pad>', b'<pad>', b'<pad>', b'<pad>', b'<pad>', b'<pad>', b'<pad>', b'<pad>')\n",
      "(b'<bos>', b'``', b'good', b'lord', b',', b\"''\", b'she', b'whispered', b'.', b'<eos>', b'<pad>', b'<pad>', b'<pad>', b'<pad>', b'<pad>', b'<pad>', b'<pad>', b'<pad>', b'<pad>', b'<pad>', b'<pad>', b'<pad>', b'<pad>', b'<pad>', b'<pad>', b'<pad>', b'<pad>', b'<pad>', b'<pad>', b'<pad>')\n",
      "(b'<bos>', b'``', b'good', b'lord', b',', b\"''\", b'she', b'whispered', b'.', b'<eos>', b'<pad>', b'<pad>', b'<pad>', b'<pad>', b'<pad>', b'<pad>', b'<pad>', b'<pad>', b'<pad>', b'<pad>', b'<pad>', b'<pad>', b'<pad>', b'<pad>', b'<pad>', b'<pad>', b'<pad>', b'<pad>', b'<pad>', b'<pad>')\n",
      "(b'<bos>', b'``', b'good', b'lord', b',', b\"''\", b'she', b'whispered', b'.', b'<eos>', b'<pad>', b'<pad>', b'<pad>', b'<pad>', b'<pad>', b'<pad>', b'<pad>', b'<pad>', b'<pad>', b'<pad>', b'<pad>', b'<pad>', b'<pad>', b'<pad>', b'<pad>', b'<pad>', b'<pad>', b'<pad>', b'<pad>', b'<pad>')\n"
     ]
    }
   ],
   "source": [
    "#testing out Tensorflow Dataset API\n",
    "dataset = tf.data.TextLineDataset(\"sentences.train\")\n",
    "\n",
    "dataset = dataset.map(_sentence_preprocessing)\n",
    "\n",
    "iterator = dataset.make_one_shot_iterator()\n",
    "\n",
    "sess = tf.Session()\n",
    "next_element = iterator.get_next()\n",
    "\n",
    "for i in range(10):\n",
    "    value = sess.run(next_element)\n",
    "    print(value)"
   ]
  },
  {
   "cell_type": "code",
   "execution_count": null,
   "metadata": {},
   "outputs": [],
   "source": []
  }
 ],
 "metadata": {
  "kernelspec": {
   "display_name": "Python 3",
   "language": "python",
   "name": "python3"
  },
  "language_info": {
   "codemirror_mode": {
    "name": "ipython",
    "version": 3
   },
   "file_extension": ".py",
   "mimetype": "text/x-python",
   "name": "python",
   "nbconvert_exporter": "python",
   "pygments_lexer": "ipython3",
   "version": "3.6.6"
  }
 },
 "nbformat": 4,
 "nbformat_minor": 2
}
